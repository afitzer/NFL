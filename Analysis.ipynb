{
 "cells": [
  {
   "cell_type": "code",
   "execution_count": 1,
   "metadata": {},
   "outputs": [],
   "source": [
    "import pandas as pd\n",
    "import plotly.express as px\n",
    "from datetime import date"
   ]
  },
  {
   "cell_type": "code",
   "execution_count": 2,
   "metadata": {},
   "outputs": [],
   "source": [
    "today = date.today()\n",
    "d1 = today.strftime(\"%m-%d-%y\")"
   ]
  },
  {
   "cell_type": "code",
   "execution_count": 3,
   "metadata": {},
   "outputs": [],
   "source": [
    "passing_df = pd.read_csv(f'./Offensive_Teams/Passing/team_passing_{d1}.csv')\n",
    "receiving_df = pd.read_csv(f'./Offensive_Teams/Receiving/team_receiving_{d1}.csv')\n",
    "rushing_df = pd.read_csv(f'./Offensive_Teams/Rushing/team_rushing_{d1}.csv')\n",
    "scoring_df = pd.read_csv(f'./Offensive_Teams/Scoring/team_scoring_{d1}.csv')"
   ]
  },
  {
   "cell_type": "code",
   "execution_count": 4,
   "metadata": {},
   "outputs": [
    {
     "data": {
      "text/html": [
       "<div>\n",
       "<style scoped>\n",
       "    .dataframe tbody tr th:only-of-type {\n",
       "        vertical-align: middle;\n",
       "    }\n",
       "\n",
       "    .dataframe tbody tr th {\n",
       "        vertical-align: top;\n",
       "    }\n",
       "\n",
       "    .dataframe thead th {\n",
       "        text-align: right;\n",
       "    }\n",
       "</style>\n",
       "<table border=\"1\" class=\"dataframe\">\n",
       "  <thead>\n",
       "    <tr style=\"text-align: right;\">\n",
       "      <th></th>\n",
       "      <th>Team</th>\n",
       "      <th>Att</th>\n",
       "      <th>Cmp</th>\n",
       "      <th>Cmp %</th>\n",
       "      <th>Yds/Att</th>\n",
       "      <th>Pass Yds</th>\n",
       "      <th>TD</th>\n",
       "      <th>INT</th>\n",
       "      <th>Rate</th>\n",
       "      <th>1st</th>\n",
       "      <th>1st%</th>\n",
       "      <th>20+</th>\n",
       "      <th>40+</th>\n",
       "      <th>Lng</th>\n",
       "      <th>Sck</th>\n",
       "      <th>SckY</th>\n",
       "    </tr>\n",
       "  </thead>\n",
       "  <tbody>\n",
       "    <tr>\n",
       "      <th>0</th>\n",
       "      <td>JetsJets</td>\n",
       "      <td>104</td>\n",
       "      <td>64</td>\n",
       "      <td>61.5</td>\n",
       "      <td>6.1</td>\n",
       "      <td>633</td>\n",
       "      <td>5</td>\n",
       "      <td>1</td>\n",
       "      <td>90.8</td>\n",
       "      <td>34</td>\n",
       "      <td>32.7</td>\n",
       "      <td>3</td>\n",
       "      <td>1</td>\n",
       "      <td>66T</td>\n",
       "      <td>5</td>\n",
       "      <td>27</td>\n",
       "    </tr>\n",
       "    <tr>\n",
       "      <th>1</th>\n",
       "      <td>SteelersSteelers</td>\n",
       "      <td>103</td>\n",
       "      <td>62</td>\n",
       "      <td>60.2</td>\n",
       "      <td>5.5</td>\n",
       "      <td>569</td>\n",
       "      <td>2</td>\n",
       "      <td>1</td>\n",
       "      <td>77.7</td>\n",
       "      <td>29</td>\n",
       "      <td>28.2</td>\n",
       "      <td>8</td>\n",
       "      <td>0</td>\n",
       "      <td>36</td>\n",
       "      <td>5</td>\n",
       "      <td>21</td>\n",
       "    </tr>\n",
       "    <tr>\n",
       "      <th>2</th>\n",
       "      <td>BrownsBrowns</td>\n",
       "      <td>92</td>\n",
       "      <td>61</td>\n",
       "      <td>66.3</td>\n",
       "      <td>6.5</td>\n",
       "      <td>596</td>\n",
       "      <td>4</td>\n",
       "      <td>1</td>\n",
       "      <td>94.3</td>\n",
       "      <td>34</td>\n",
       "      <td>37.0</td>\n",
       "      <td>5</td>\n",
       "      <td>0</td>\n",
       "      <td>32</td>\n",
       "      <td>4</td>\n",
       "      <td>32</td>\n",
       "    </tr>\n",
       "    <tr>\n",
       "      <th>3</th>\n",
       "      <td>BengalsBengals</td>\n",
       "      <td>89</td>\n",
       "      <td>57</td>\n",
       "      <td>64.0</td>\n",
       "      <td>6.0</td>\n",
       "      <td>537</td>\n",
       "      <td>3</td>\n",
       "      <td>4</td>\n",
       "      <td>73.1</td>\n",
       "      <td>35</td>\n",
       "      <td>39.3</td>\n",
       "      <td>4</td>\n",
       "      <td>0</td>\n",
       "      <td>24</td>\n",
       "      <td>13</td>\n",
       "      <td>73</td>\n",
       "    </tr>\n",
       "    <tr>\n",
       "      <th>4</th>\n",
       "      <td>CardinalsCardinals</td>\n",
       "      <td>87</td>\n",
       "      <td>55</td>\n",
       "      <td>63.2</td>\n",
       "      <td>5.5</td>\n",
       "      <td>482</td>\n",
       "      <td>3</td>\n",
       "      <td>1</td>\n",
       "      <td>84.6</td>\n",
       "      <td>25</td>\n",
       "      <td>28.7</td>\n",
       "      <td>6</td>\n",
       "      <td>0</td>\n",
       "      <td>29</td>\n",
       "      <td>4</td>\n",
       "      <td>33</td>\n",
       "    </tr>\n",
       "  </tbody>\n",
       "</table>\n",
       "</div>"
      ],
      "text/plain": [
       "                 Team  Att  Cmp  Cmp %  Yds/Att  Pass Yds  TD  INT  Rate  1st  \\\n",
       "0            JetsJets  104   64   61.5      6.1       633   5    1  90.8   34   \n",
       "1    SteelersSteelers  103   62   60.2      5.5       569   2    1  77.7   29   \n",
       "2        BrownsBrowns   92   61   66.3      6.5       596   4    1  94.3   34   \n",
       "3      BengalsBengals   89   57   64.0      6.0       537   3    4  73.1   35   \n",
       "4  CardinalsCardinals   87   55   63.2      5.5       482   3    1  84.6   25   \n",
       "\n",
       "   1st%  20+  40+  Lng  Sck  SckY  \n",
       "0  32.7    3    1  66T    5    27  \n",
       "1  28.2    8    0   36    5    21  \n",
       "2  37.0    5    0   32    4    32  \n",
       "3  39.3    4    0   24   13    73  \n",
       "4  28.7    6    0   29    4    33  "
      ]
     },
     "execution_count": 4,
     "metadata": {},
     "output_type": "execute_result"
    }
   ],
   "source": [
    "passing_df.head(5)"
   ]
  },
  {
   "cell_type": "code",
   "execution_count": 5,
   "metadata": {},
   "outputs": [
    {
     "data": {
      "text/html": [
       "<div>\n",
       "<style scoped>\n",
       "    .dataframe tbody tr th:only-of-type {\n",
       "        vertical-align: middle;\n",
       "    }\n",
       "\n",
       "    .dataframe tbody tr th {\n",
       "        vertical-align: top;\n",
       "    }\n",
       "\n",
       "    .dataframe thead th {\n",
       "        text-align: right;\n",
       "    }\n",
       "</style>\n",
       "<table border=\"1\" class=\"dataframe\">\n",
       "  <thead>\n",
       "    <tr style=\"text-align: right;\">\n",
       "      <th></th>\n",
       "      <th>Team</th>\n",
       "      <th>Rec</th>\n",
       "      <th>Yds</th>\n",
       "      <th>Yds/Rec</th>\n",
       "      <th>TD</th>\n",
       "      <th>20+</th>\n",
       "      <th>40+</th>\n",
       "      <th>Lng</th>\n",
       "      <th>Rec 1st</th>\n",
       "      <th>Rec 1st%</th>\n",
       "      <th>Rec FUM</th>\n",
       "    </tr>\n",
       "  </thead>\n",
       "  <tbody>\n",
       "    <tr>\n",
       "      <th>0</th>\n",
       "      <td>JetsJets</td>\n",
       "      <td>64</td>\n",
       "      <td>633</td>\n",
       "      <td>9.9</td>\n",
       "      <td>5</td>\n",
       "      <td>3</td>\n",
       "      <td>1</td>\n",
       "      <td>66T</td>\n",
       "      <td>34</td>\n",
       "      <td>53.1</td>\n",
       "      <td>3</td>\n",
       "    </tr>\n",
       "    <tr>\n",
       "      <th>1</th>\n",
       "      <td>SteelersSteelers</td>\n",
       "      <td>62</td>\n",
       "      <td>569</td>\n",
       "      <td>9.2</td>\n",
       "      <td>2</td>\n",
       "      <td>8</td>\n",
       "      <td>0</td>\n",
       "      <td>36</td>\n",
       "      <td>29</td>\n",
       "      <td>46.8</td>\n",
       "      <td>2</td>\n",
       "    </tr>\n",
       "    <tr>\n",
       "      <th>2</th>\n",
       "      <td>BrownsBrowns</td>\n",
       "      <td>61</td>\n",
       "      <td>596</td>\n",
       "      <td>9.8</td>\n",
       "      <td>4</td>\n",
       "      <td>5</td>\n",
       "      <td>0</td>\n",
       "      <td>32</td>\n",
       "      <td>34</td>\n",
       "      <td>55.7</td>\n",
       "      <td>0</td>\n",
       "    </tr>\n",
       "    <tr>\n",
       "      <th>3</th>\n",
       "      <td>DolphinsDolphins</td>\n",
       "      <td>59</td>\n",
       "      <td>739</td>\n",
       "      <td>12.5</td>\n",
       "      <td>7</td>\n",
       "      <td>8</td>\n",
       "      <td>4</td>\n",
       "      <td>60</td>\n",
       "      <td>35</td>\n",
       "      <td>59.3</td>\n",
       "      <td>1</td>\n",
       "    </tr>\n",
       "    <tr>\n",
       "      <th>4</th>\n",
       "      <td>ChargersChargers</td>\n",
       "      <td>59</td>\n",
       "      <td>613</td>\n",
       "      <td>10.4</td>\n",
       "      <td>6</td>\n",
       "      <td>8</td>\n",
       "      <td>1</td>\n",
       "      <td>42</td>\n",
       "      <td>27</td>\n",
       "      <td>45.8</td>\n",
       "      <td>1</td>\n",
       "    </tr>\n",
       "  </tbody>\n",
       "</table>\n",
       "</div>"
      ],
      "text/plain": [
       "               Team  Rec  Yds  Yds/Rec  TD  20+  40+  Lng  Rec 1st  Rec 1st%  \\\n",
       "0          JetsJets   64  633      9.9   5    3    1  66T       34      53.1   \n",
       "1  SteelersSteelers   62  569      9.2   2    8    0   36       29      46.8   \n",
       "2      BrownsBrowns   61  596      9.8   4    5    0   32       34      55.7   \n",
       "3  DolphinsDolphins   59  739     12.5   7    8    4   60       35      59.3   \n",
       "4  ChargersChargers   59  613     10.4   6    8    1   42       27      45.8   \n",
       "\n",
       "   Rec FUM  \n",
       "0        3  \n",
       "1        2  \n",
       "2        0  \n",
       "3        1  \n",
       "4        1  "
      ]
     },
     "execution_count": 5,
     "metadata": {},
     "output_type": "execute_result"
    }
   ],
   "source": [
    "receiving_df.head(5)"
   ]
  },
  {
   "cell_type": "code",
   "execution_count": 6,
   "metadata": {},
   "outputs": [
    {
     "data": {
      "text/html": [
       "<div>\n",
       "<style scoped>\n",
       "    .dataframe tbody tr th:only-of-type {\n",
       "        vertical-align: middle;\n",
       "    }\n",
       "\n",
       "    .dataframe tbody tr th {\n",
       "        vertical-align: top;\n",
       "    }\n",
       "\n",
       "    .dataframe thead th {\n",
       "        text-align: right;\n",
       "    }\n",
       "</style>\n",
       "<table border=\"1\" class=\"dataframe\">\n",
       "  <thead>\n",
       "    <tr style=\"text-align: right;\">\n",
       "      <th></th>\n",
       "      <th>Team</th>\n",
       "      <th>Att</th>\n",
       "      <th>Rush Yds</th>\n",
       "      <th>YPC</th>\n",
       "      <th>TD</th>\n",
       "      <th>20+</th>\n",
       "      <th>40+</th>\n",
       "      <th>Lng</th>\n",
       "      <th>Rush 1st</th>\n",
       "      <th>Rush 1st%</th>\n",
       "      <th>Rush FUM</th>\n",
       "    </tr>\n",
       "  </thead>\n",
       "  <tbody>\n",
       "    <tr>\n",
       "      <th>0</th>\n",
       "      <td>BrownsBrowns</td>\n",
       "      <td>114</td>\n",
       "      <td>572</td>\n",
       "      <td>5.0</td>\n",
       "      <td>5</td>\n",
       "      <td>6</td>\n",
       "      <td>0</td>\n",
       "      <td>36T</td>\n",
       "      <td>33</td>\n",
       "      <td>29.0</td>\n",
       "      <td>0</td>\n",
       "    </tr>\n",
       "    <tr>\n",
       "      <th>1</th>\n",
       "      <td>49ers49ers</td>\n",
       "      <td>82</td>\n",
       "      <td>365</td>\n",
       "      <td>4.4</td>\n",
       "      <td>3</td>\n",
       "      <td>3</td>\n",
       "      <td>1</td>\n",
       "      <td>51T</td>\n",
       "      <td>22</td>\n",
       "      <td>26.8</td>\n",
       "      <td>3</td>\n",
       "    </tr>\n",
       "    <tr>\n",
       "      <th>2</th>\n",
       "      <td>EaglesEagles</td>\n",
       "      <td>73</td>\n",
       "      <td>379</td>\n",
       "      <td>5.2</td>\n",
       "      <td>6</td>\n",
       "      <td>3</td>\n",
       "      <td>0</td>\n",
       "      <td>26T</td>\n",
       "      <td>23</td>\n",
       "      <td>31.5</td>\n",
       "      <td>1</td>\n",
       "    </tr>\n",
       "    <tr>\n",
       "      <th>3</th>\n",
       "      <td>SteelersSteelers</td>\n",
       "      <td>66</td>\n",
       "      <td>270</td>\n",
       "      <td>4.1</td>\n",
       "      <td>2</td>\n",
       "      <td>0</td>\n",
       "      <td>0</td>\n",
       "      <td>18</td>\n",
       "      <td>18</td>\n",
       "      <td>27.3</td>\n",
       "      <td>1</td>\n",
       "    </tr>\n",
       "    <tr>\n",
       "      <th>4</th>\n",
       "      <td>FalconsFalcons</td>\n",
       "      <td>65</td>\n",
       "      <td>291</td>\n",
       "      <td>4.5</td>\n",
       "      <td>2</td>\n",
       "      <td>0</td>\n",
       "      <td>0</td>\n",
       "      <td>16</td>\n",
       "      <td>17</td>\n",
       "      <td>26.2</td>\n",
       "      <td>2</td>\n",
       "    </tr>\n",
       "  </tbody>\n",
       "</table>\n",
       "</div>"
      ],
      "text/plain": [
       "               Team  Att  Rush Yds  YPC  TD  20+  40+  Lng  Rush 1st  \\\n",
       "0      BrownsBrowns  114       572  5.0   5    6    0  36T        33   \n",
       "1        49ers49ers   82       365  4.4   3    3    1  51T        22   \n",
       "2      EaglesEagles   73       379  5.2   6    3    0  26T        23   \n",
       "3  SteelersSteelers   66       270  4.1   2    0    0   18        18   \n",
       "4    FalconsFalcons   65       291  4.5   2    0    0   16        17   \n",
       "\n",
       "   Rush 1st%  Rush FUM  \n",
       "0       29.0         0  \n",
       "1       26.8         3  \n",
       "2       31.5         1  \n",
       "3       27.3         1  \n",
       "4       26.2         2  "
      ]
     },
     "execution_count": 6,
     "metadata": {},
     "output_type": "execute_result"
    }
   ],
   "source": [
    "rushing_df.head(5)"
   ]
  },
  {
   "cell_type": "code",
   "execution_count": 7,
   "metadata": {},
   "outputs": [
    {
     "data": {
      "text/html": [
       "<div>\n",
       "<style scoped>\n",
       "    .dataframe tbody tr th:only-of-type {\n",
       "        vertical-align: middle;\n",
       "    }\n",
       "\n",
       "    .dataframe tbody tr th {\n",
       "        vertical-align: top;\n",
       "    }\n",
       "\n",
       "    .dataframe thead th {\n",
       "        text-align: right;\n",
       "    }\n",
       "</style>\n",
       "<table border=\"1\" class=\"dataframe\">\n",
       "  <thead>\n",
       "    <tr style=\"text-align: right;\">\n",
       "      <th></th>\n",
       "      <th>Team</th>\n",
       "      <th>Rsh TD</th>\n",
       "      <th>Rec TD</th>\n",
       "      <th>Tot TD</th>\n",
       "      <th>2-PT</th>\n",
       "    </tr>\n",
       "  </thead>\n",
       "  <tbody>\n",
       "    <tr>\n",
       "      <th>0</th>\n",
       "      <td>EaglesEagles</td>\n",
       "      <td>6</td>\n",
       "      <td>1</td>\n",
       "      <td>8</td>\n",
       "      <td>0</td>\n",
       "    </tr>\n",
       "    <tr>\n",
       "      <th>1</th>\n",
       "      <td>BrownsBrowns</td>\n",
       "      <td>5</td>\n",
       "      <td>4</td>\n",
       "      <td>9</td>\n",
       "      <td>0</td>\n",
       "    </tr>\n",
       "    <tr>\n",
       "      <th>2</th>\n",
       "      <td>LionsLions</td>\n",
       "      <td>3</td>\n",
       "      <td>6</td>\n",
       "      <td>9</td>\n",
       "      <td>0</td>\n",
       "    </tr>\n",
       "    <tr>\n",
       "      <th>3</th>\n",
       "      <td>CardinalsCardinals</td>\n",
       "      <td>3</td>\n",
       "      <td>3</td>\n",
       "      <td>6</td>\n",
       "      <td>3</td>\n",
       "    </tr>\n",
       "    <tr>\n",
       "      <th>4</th>\n",
       "      <td>49ers49ers</td>\n",
       "      <td>3</td>\n",
       "      <td>1</td>\n",
       "      <td>4</td>\n",
       "      <td>0</td>\n",
       "    </tr>\n",
       "  </tbody>\n",
       "</table>\n",
       "</div>"
      ],
      "text/plain": [
       "                 Team  Rsh TD  Rec TD  Tot TD  2-PT\n",
       "0        EaglesEagles       6       1       8     0\n",
       "1        BrownsBrowns       5       4       9     0\n",
       "2          LionsLions       3       6       9     0\n",
       "3  CardinalsCardinals       3       3       6     3\n",
       "4          49ers49ers       3       1       4     0"
      ]
     },
     "execution_count": 7,
     "metadata": {},
     "output_type": "execute_result"
    }
   ],
   "source": [
    "scoring_df.head(5)"
   ]
  },
  {
   "cell_type": "code",
   "execution_count": 8,
   "metadata": {},
   "outputs": [
    {
     "name": "stdout",
     "output_type": "stream",
     "text": [
      "<class 'pandas.core.frame.DataFrame'>\n",
      "RangeIndex: 32 entries, 0 to 31\n",
      "Data columns (total 16 columns):\n",
      " #   Column    Non-Null Count  Dtype  \n",
      "---  ------    --------------  -----  \n",
      " 0   Team      32 non-null     object \n",
      " 1   Att       32 non-null     int64  \n",
      " 2   Cmp       32 non-null     int64  \n",
      " 3   Cmp %     32 non-null     float64\n",
      " 4   Yds/Att   32 non-null     float64\n",
      " 5   Pass Yds  32 non-null     int64  \n",
      " 6   TD        32 non-null     int64  \n",
      " 7   INT       32 non-null     int64  \n",
      " 8   Rate      32 non-null     float64\n",
      " 9   1st       32 non-null     int64  \n",
      " 10  1st%      32 non-null     float64\n",
      " 11  20+       32 non-null     int64  \n",
      " 12  40+       32 non-null     int64  \n",
      " 13  Lng       32 non-null     object \n",
      " 14  Sck       32 non-null     int64  \n",
      " 15  SckY      32 non-null     int64  \n",
      "dtypes: float64(4), int64(10), object(2)\n",
      "memory usage: 4.1+ KB\n"
     ]
    }
   ],
   "source": [
    "passing_df.info()"
   ]
  },
  {
   "cell_type": "code",
   "execution_count": 9,
   "metadata": {},
   "outputs": [
    {
     "data": {
      "application/vnd.plotly.v1+json": {
       "config": {
        "plotlyServerURL": "https://plot.ly"
       },
       "data": [
        {
         "hovertemplate": "<b>%{hovertext}</b><br><br>Team=JetsJets<br>Pass Yds=%{x}<br>TD=%{y}<br>Att=%{marker.size}<extra></extra>",
         "hovertext": [
          "JetsJets"
         ],
         "legendgroup": "JetsJets",
         "marker": {
          "color": "#636efa",
          "size": [
           104
          ],
          "sizemode": "area",
          "sizeref": 0.028888888888888888,
          "symbol": "circle"
         },
         "mode": "markers",
         "name": "JetsJets",
         "orientation": "v",
         "showlegend": true,
         "type": "scatter",
         "x": [
          633
         ],
         "xaxis": "x",
         "y": [
          5
         ],
         "yaxis": "y"
        },
        {
         "hovertemplate": "<b>%{hovertext}</b><br><br>Team=SteelersSteelers<br>Pass Yds=%{x}<br>TD=%{y}<br>Att=%{marker.size}<extra></extra>",
         "hovertext": [
          "SteelersSteelers"
         ],
         "legendgroup": "SteelersSteelers",
         "marker": {
          "color": "#EF553B",
          "size": [
           103
          ],
          "sizemode": "area",
          "sizeref": 0.028888888888888888,
          "symbol": "circle"
         },
         "mode": "markers",
         "name": "SteelersSteelers",
         "orientation": "v",
         "showlegend": true,
         "type": "scatter",
         "x": [
          569
         ],
         "xaxis": "x",
         "y": [
          2
         ],
         "yaxis": "y"
        },
        {
         "hovertemplate": "<b>%{hovertext}</b><br><br>Team=BrownsBrowns<br>Pass Yds=%{x}<br>TD=%{y}<br>Att=%{marker.size}<extra></extra>",
         "hovertext": [
          "BrownsBrowns"
         ],
         "legendgroup": "BrownsBrowns",
         "marker": {
          "color": "#00cc96",
          "size": [
           92
          ],
          "sizemode": "area",
          "sizeref": 0.028888888888888888,
          "symbol": "circle"
         },
         "mode": "markers",
         "name": "BrownsBrowns",
         "orientation": "v",
         "showlegend": true,
         "type": "scatter",
         "x": [
          596
         ],
         "xaxis": "x",
         "y": [
          4
         ],
         "yaxis": "y"
        },
        {
         "hovertemplate": "<b>%{hovertext}</b><br><br>Team=BengalsBengals<br>Pass Yds=%{x}<br>TD=%{y}<br>Att=%{marker.size}<extra></extra>",
         "hovertext": [
          "BengalsBengals"
         ],
         "legendgroup": "BengalsBengals",
         "marker": {
          "color": "#ab63fa",
          "size": [
           89
          ],
          "sizemode": "area",
          "sizeref": 0.028888888888888888,
          "symbol": "circle"
         },
         "mode": "markers",
         "name": "BengalsBengals",
         "orientation": "v",
         "showlegend": true,
         "type": "scatter",
         "x": [
          537
         ],
         "xaxis": "x",
         "y": [
          3
         ],
         "yaxis": "y"
        },
        {
         "hovertemplate": "<b>%{hovertext}</b><br><br>Team=CardinalsCardinals<br>Pass Yds=%{x}<br>TD=%{y}<br>Att=%{marker.size}<extra></extra>",
         "hovertext": [
          "CardinalsCardinals"
         ],
         "legendgroup": "CardinalsCardinals",
         "marker": {
          "color": "#FFA15A",
          "size": [
           87
          ],
          "sizemode": "area",
          "sizeref": 0.028888888888888888,
          "symbol": "circle"
         },
         "mode": "markers",
         "name": "CardinalsCardinals",
         "orientation": "v",
         "showlegend": true,
         "type": "scatter",
         "x": [
          482
         ],
         "xaxis": "x",
         "y": [
          3
         ],
         "yaxis": "y"
        },
        {
         "hovertemplate": "<b>%{hovertext}</b><br><br>Team=CommandersCommanders<br>Pass Yds=%{x}<br>TD=%{y}<br>Att=%{marker.size}<extra></extra>",
         "hovertext": [
          "CommandersCommanders"
         ],
         "legendgroup": "CommandersCommanders",
         "marker": {
          "color": "#19d3f3",
          "size": [
           87
          ],
          "sizemode": "area",
          "sizeref": 0.028888888888888888,
          "symbol": "circle"
         },
         "mode": "markers",
         "name": "CommandersCommanders",
         "orientation": "v",
         "showlegend": true,
         "type": "scatter",
         "x": [
          650
         ],
         "xaxis": "x",
         "y": [
          7
         ],
         "yaxis": "y"
        },
        {
         "hovertemplate": "<b>%{hovertext}</b><br><br>Team=DolphinsDolphins<br>Pass Yds=%{x}<br>TD=%{y}<br>Att=%{marker.size}<extra></extra>",
         "hovertext": [
          "DolphinsDolphins"
         ],
         "legendgroup": "DolphinsDolphins",
         "marker": {
          "color": "#FF6692",
          "size": [
           83
          ],
          "sizemode": "area",
          "sizeref": 0.028888888888888888,
          "symbol": "circle"
         },
         "mode": "markers",
         "name": "DolphinsDolphins",
         "orientation": "v",
         "showlegend": true,
         "type": "scatter",
         "x": [
          739
         ],
         "xaxis": "x",
         "y": [
          7
         ],
         "yaxis": "y"
        },
        {
         "hovertemplate": "<b>%{hovertext}</b><br><br>Team=ChargersChargers<br>Pass Yds=%{x}<br>TD=%{y}<br>Att=%{marker.size}<extra></extra>",
         "hovertext": [
          "ChargersChargers"
         ],
         "legendgroup": "ChargersChargers",
         "marker": {
          "color": "#B6E880",
          "size": [
           82
          ],
          "sizemode": "area",
          "sizeref": 0.028888888888888888,
          "symbol": "circle"
         },
         "mode": "markers",
         "name": "ChargersChargers",
         "orientation": "v",
         "showlegend": true,
         "type": "scatter",
         "x": [
          613
         ],
         "xaxis": "x",
         "y": [
          6
         ],
         "yaxis": "y"
        },
        {
         "hovertemplate": "<b>%{hovertext}</b><br><br>Team=ColtsColts<br>Pass Yds=%{x}<br>TD=%{y}<br>Att=%{marker.size}<extra></extra>",
         "hovertext": [
          "ColtsColts"
         ],
         "legendgroup": "ColtsColts",
         "marker": {
          "color": "#FF97FF",
          "size": [
           80
          ],
          "sizemode": "area",
          "sizeref": 0.028888888888888888,
          "symbol": "circle"
         },
         "mode": "markers",
         "name": "ColtsColts",
         "orientation": "v",
         "showlegend": true,
         "type": "scatter",
         "x": [
          547
         ],
         "xaxis": "x",
         "y": [
          1
         ],
         "yaxis": "y"
        },
        {
         "hovertemplate": "<b>%{hovertext}</b><br><br>Team=VikingsVikings<br>Pass Yds=%{x}<br>TD=%{y}<br>Att=%{marker.size}<extra></extra>",
         "hovertext": [
          "VikingsVikings"
         ],
         "legendgroup": "VikingsVikings",
         "marker": {
          "color": "#FECB52",
          "size": [
           78
          ],
          "sizemode": "area",
          "sizeref": 0.028888888888888888,
          "symbol": "circle"
         },
         "mode": "markers",
         "name": "VikingsVikings",
         "orientation": "v",
         "showlegend": true,
         "type": "scatter",
         "x": [
          498
         ],
         "xaxis": "x",
         "y": [
          3
         ],
         "yaxis": "y"
        },
        {
         "hovertemplate": "<b>%{hovertext}</b><br><br>Team=RamsRams<br>Pass Yds=%{x}<br>TD=%{y}<br>Att=%{marker.size}<extra></extra>",
         "hovertext": [
          "RamsRams"
         ],
         "legendgroup": "RamsRams",
         "marker": {
          "color": "#636efa",
          "size": [
           77
          ],
          "sizemode": "area",
          "sizeref": 0.028888888888888888,
          "symbol": "circle"
         },
         "mode": "markers",
         "name": "RamsRams",
         "orientation": "v",
         "showlegend": true,
         "type": "scatter",
         "x": [
          512
         ],
         "xaxis": "x",
         "y": [
          4
         ],
         "yaxis": "y"
        },
        {
         "hovertemplate": "<b>%{hovertext}</b><br><br>Team=RaidersRaiders<br>Pass Yds=%{x}<br>TD=%{y}<br>Att=%{marker.size}<extra></extra>",
         "hovertext": [
          "RaidersRaiders"
         ],
         "legendgroup": "RaidersRaiders",
         "marker": {
          "color": "#EF553B",
          "size": [
           76
          ],
          "sizemode": "area",
          "sizeref": 0.028888888888888888,
          "symbol": "circle"
         },
         "mode": "markers",
         "name": "RaidersRaiders",
         "orientation": "v",
         "showlegend": true,
         "type": "scatter",
         "x": [
          547
         ],
         "xaxis": "x",
         "y": [
          4
         ],
         "yaxis": "y"
        },
        {
         "hovertemplate": "<b>%{hovertext}</b><br><br>Team=TexansTexans<br>Pass Yds=%{x}<br>TD=%{y}<br>Att=%{marker.size}<extra></extra>",
         "hovertext": [
          "TexansTexans"
         ],
         "legendgroup": "TexansTexans",
         "marker": {
          "color": "#00cc96",
          "size": [
           75
          ],
          "sizemode": "area",
          "sizeref": 0.028888888888888888,
          "symbol": "circle"
         },
         "mode": "markers",
         "name": "TexansTexans",
         "orientation": "v",
         "showlegend": true,
         "type": "scatter",
         "x": [
          417
         ],
         "xaxis": "x",
         "y": [
          2
         ],
         "yaxis": "y"
        },
        {
         "hovertemplate": "<b>%{hovertext}</b><br><br>Team=ChiefsChiefs<br>Pass Yds=%{x}<br>TD=%{y}<br>Att=%{marker.size}<extra></extra>",
         "hovertext": [
          "ChiefsChiefs"
         ],
         "legendgroup": "ChiefsChiefs",
         "marker": {
          "color": "#ab63fa",
          "size": [
           74
          ],
          "sizemode": "area",
          "sizeref": 0.028888888888888888,
          "symbol": "circle"
         },
         "mode": "markers",
         "name": "ChiefsChiefs",
         "orientation": "v",
         "showlegend": true,
         "type": "scatter",
         "x": [
          595
         ],
         "xaxis": "x",
         "y": [
          7
         ],
         "yaxis": "y"
        },
        {
         "hovertemplate": "<b>%{hovertext}</b><br><br>Team=SaintsSaints<br>Pass Yds=%{x}<br>TD=%{y}<br>Att=%{marker.size}<extra></extra>",
         "hovertext": [
          "SaintsSaints"
         ],
         "legendgroup": "SaintsSaints",
         "marker": {
          "color": "#FFA15A",
          "size": [
           74
          ],
          "sizemode": "area",
          "sizeref": 0.028888888888888888,
          "symbol": "circle"
         },
         "mode": "markers",
         "name": "SaintsSaints",
         "orientation": "v",
         "showlegend": true,
         "type": "scatter",
         "x": [
          505
         ],
         "xaxis": "x",
         "y": [
          3
         ],
         "yaxis": "y"
        },
        {
         "hovertemplate": "<b>%{hovertext}</b><br><br>Team=CowboysCowboys<br>Pass Yds=%{x}<br>TD=%{y}<br>Att=%{marker.size}<extra></extra>",
         "hovertext": [
          "CowboysCowboys"
         ],
         "legendgroup": "CowboysCowboys",
         "marker": {
          "color": "#19d3f3",
          "size": [
           73
          ],
          "sizemode": "area",
          "sizeref": 0.028888888888888888,
          "symbol": "circle"
         },
         "mode": "markers",
         "name": "CowboysCowboys",
         "orientation": "v",
         "showlegend": true,
         "type": "scatter",
         "x": [
          433
         ],
         "xaxis": "x",
         "y": [
          1
         ],
         "yaxis": "y"
        },
        {
         "hovertemplate": "<b>%{hovertext}</b><br><br>Team=BroncosBroncos<br>Pass Yds=%{x}<br>TD=%{y}<br>Att=%{marker.size}<extra></extra>",
         "hovertext": [
          "BroncosBroncos"
         ],
         "legendgroup": "BroncosBroncos",
         "marker": {
          "color": "#FF6692",
          "size": [
           73
          ],
          "sizemode": "area",
          "sizeref": 0.028888888888888888,
          "symbol": "circle"
         },
         "mode": "markers",
         "name": "BroncosBroncos",
         "orientation": "v",
         "showlegend": true,
         "type": "scatter",
         "x": [
          559
         ],
         "xaxis": "x",
         "y": [
          2
         ],
         "yaxis": "y"
        },
        {
         "hovertemplate": "<b>%{hovertext}</b><br><br>Team=JaguarsJaguars<br>Pass Yds=%{x}<br>TD=%{y}<br>Att=%{marker.size}<extra></extra>",
         "hovertext": [
          "JaguarsJaguars"
         ],
         "legendgroup": "JaguarsJaguars",
         "marker": {
          "color": "#B6E880",
          "size": [
           72
          ],
          "sizemode": "area",
          "sizeref": 0.028888888888888888,
          "symbol": "circle"
         },
         "mode": "markers",
         "name": "JaguarsJaguars",
         "orientation": "v",
         "showlegend": true,
         "type": "scatter",
         "x": [
          510
         ],
         "xaxis": "x",
         "y": [
          3
         ],
         "yaxis": "y"
        },
        {
         "hovertemplate": "<b>%{hovertext}</b><br><br>Team=BillsBills<br>Pass Yds=%{x}<br>TD=%{y}<br>Att=%{marker.size}<extra></extra>",
         "hovertext": [
          "BillsBills"
         ],
         "legendgroup": "BillsBills",
         "marker": {
          "color": "#FF97FF",
          "size": [
           71
          ],
          "sizemode": "area",
          "sizeref": 0.028888888888888888,
          "symbol": "circle"
         },
         "mode": "markers",
         "name": "BillsBills",
         "orientation": "v",
         "showlegend": true,
         "type": "scatter",
         "x": [
          614
         ],
         "xaxis": "x",
         "y": [
          7
         ],
         "yaxis": "y"
        },
        {
         "hovertemplate": "<b>%{hovertext}</b><br><br>Team=LionsLions<br>Pass Yds=%{x}<br>TD=%{y}<br>Att=%{marker.size}<extra></extra>",
         "hovertext": [
          "LionsLions"
         ],
         "legendgroup": "LionsLions",
         "marker": {
          "color": "#FECB52",
          "size": [
           71
          ],
          "sizemode": "area",
          "sizeref": 0.028888888888888888,
          "symbol": "circle"
         },
         "mode": "markers",
         "name": "LionsLions",
         "orientation": "v",
         "showlegend": true,
         "type": "scatter",
         "x": [
          471
         ],
         "xaxis": "x",
         "y": [
          6
         ],
         "yaxis": "y"
        },
        {
         "hovertemplate": "<b>%{hovertext}</b><br><br>Team=PatriotsPatriots<br>Pass Yds=%{x}<br>TD=%{y}<br>Att=%{marker.size}<extra></extra>",
         "hovertext": [
          "PatriotsPatriots"
         ],
         "legendgroup": "PatriotsPatriots",
         "marker": {
          "color": "#636efa",
          "size": [
           65
          ],
          "sizemode": "area",
          "sizeref": 0.028888888888888888,
          "symbol": "circle"
         },
         "mode": "markers",
         "name": "PatriotsPatriots",
         "orientation": "v",
         "showlegend": true,
         "type": "scatter",
         "x": [
          465
         ],
         "xaxis": "x",
         "y": [
          2
         ],
         "yaxis": "y"
        },
        {
         "hovertemplate": "<b>%{hovertext}</b><br><br>Team=PackersPackers<br>Pass Yds=%{x}<br>TD=%{y}<br>Att=%{marker.size}<extra></extra>",
         "hovertext": [
          "PackersPackers"
         ],
         "legendgroup": "PackersPackers",
         "marker": {
          "color": "#EF553B",
          "size": [
           64
          ],
          "sizemode": "area",
          "sizeref": 0.028888888888888888,
          "symbol": "circle"
         },
         "mode": "markers",
         "name": "PackersPackers",
         "orientation": "v",
         "showlegend": true,
         "type": "scatter",
         "x": [
          494
         ],
         "xaxis": "x",
         "y": [
          2
         ],
         "yaxis": "y"
        },
        {
         "hovertemplate": "<b>%{hovertext}</b><br><br>Team=EaglesEagles<br>Pass Yds=%{x}<br>TD=%{y}<br>Att=%{marker.size}<extra></extra>",
         "hovertext": [
          "EaglesEagles"
         ],
         "legendgroup": "EaglesEagles",
         "marker": {
          "color": "#00cc96",
          "size": [
           63
          ],
          "sizemode": "area",
          "sizeref": 0.028888888888888888,
          "symbol": "circle"
         },
         "mode": "markers",
         "name": "EaglesEagles",
         "orientation": "v",
         "showlegend": true,
         "type": "scatter",
         "x": [
          576
         ],
         "xaxis": "x",
         "y": [
          1
         ],
         "yaxis": "y"
        },
        {
         "hovertemplate": "<b>%{hovertext}</b><br><br>Team=BuccaneersBuccaneers<br>Pass Yds=%{x}<br>TD=%{y}<br>Att=%{marker.size}<extra></extra>",
         "hovertext": [
          "BuccaneersBuccaneers"
         ],
         "legendgroup": "BuccaneersBuccaneers",
         "marker": {
          "color": "#ab63fa",
          "size": [
           61
          ],
          "sizemode": "area",
          "sizeref": 0.028888888888888888,
          "symbol": "circle"
         },
         "mode": "markers",
         "name": "BuccaneersBuccaneers",
         "orientation": "v",
         "showlegend": true,
         "type": "scatter",
         "x": [
          402
         ],
         "xaxis": "x",
         "y": [
          2
         ],
         "yaxis": "y"
        },
        {
         "hovertemplate": "<b>%{hovertext}</b><br><br>Team=FalconsFalcons<br>Pass Yds=%{x}<br>TD=%{y}<br>Att=%{marker.size}<extra></extra>",
         "hovertext": [
          "FalconsFalcons"
         ],
         "legendgroup": "FalconsFalcons",
         "marker": {
          "color": "#FFA15A",
          "size": [
           59
          ],
          "sizemode": "area",
          "sizeref": 0.028888888888888888,
          "symbol": "circle"
         },
         "mode": "markers",
         "name": "FalconsFalcons",
         "orientation": "v",
         "showlegend": true,
         "type": "scatter",
         "x": [
          411
         ],
         "xaxis": "x",
         "y": [
          2
         ],
         "yaxis": "y"
        },
        {
         "hovertemplate": "<b>%{hovertext}</b><br><br>Team=RavensRavens<br>Pass Yds=%{x}<br>TD=%{y}<br>Att=%{marker.size}<extra></extra>",
         "hovertext": [
          "RavensRavens"
         ],
         "legendgroup": "RavensRavens",
         "marker": {
          "color": "#19d3f3",
          "size": [
           59
          ],
          "sizemode": "area",
          "sizeref": 0.028888888888888888,
          "symbol": "circle"
         },
         "mode": "markers",
         "name": "RavensRavens",
         "orientation": "v",
         "showlegend": true,
         "type": "scatter",
         "x": [
          531
         ],
         "xaxis": "x",
         "y": [
          6
         ],
         "yaxis": "y"
        },
        {
         "hovertemplate": "<b>%{hovertext}</b><br><br>Team=SeahawksSeahawks<br>Pass Yds=%{x}<br>TD=%{y}<br>Att=%{marker.size}<extra></extra>",
         "hovertext": [
          "SeahawksSeahawks"
         ],
         "legendgroup": "SeahawksSeahawks",
         "marker": {
          "color": "#FF6692",
          "size": [
           59
          ],
          "sizemode": "area",
          "sizeref": 0.028888888888888888,
          "symbol": "circle"
         },
         "mode": "markers",
         "name": "SeahawksSeahawks",
         "orientation": "v",
         "showlegend": true,
         "type": "scatter",
         "x": [
          392
         ],
         "xaxis": "x",
         "y": [
          2
         ],
         "yaxis": "y"
        },
        {
         "hovertemplate": "<b>%{hovertext}</b><br><br>Team=TitansTitans<br>Pass Yds=%{x}<br>TD=%{y}<br>Att=%{marker.size}<extra></extra>",
         "hovertext": [
          "TitansTitans"
         ],
         "legendgroup": "TitansTitans",
         "marker": {
          "color": "#B6E880",
          "size": [
           57
          ],
          "sizemode": "area",
          "sizeref": 0.028888888888888888,
          "symbol": "circle"
         },
         "mode": "markers",
         "name": "TitansTitans",
         "orientation": "v",
         "showlegend": true,
         "type": "scatter",
         "x": [
          389
         ],
         "xaxis": "x",
         "y": [
          2
         ],
         "yaxis": "y"
        },
        {
         "hovertemplate": "<b>%{hovertext}</b><br><br>Team=PanthersPanthers<br>Pass Yds=%{x}<br>TD=%{y}<br>Att=%{marker.size}<extra></extra>",
         "hovertext": [
          "PanthersPanthers"
         ],
         "legendgroup": "PanthersPanthers",
         "marker": {
          "color": "#FF97FF",
          "size": [
           56
          ],
          "sizemode": "area",
          "sizeref": 0.028888888888888888,
          "symbol": "circle"
         },
         "mode": "markers",
         "name": "PanthersPanthers",
         "orientation": "v",
         "showlegend": true,
         "type": "scatter",
         "x": [
          380
         ],
         "xaxis": "x",
         "y": [
          2
         ],
         "yaxis": "y"
        },
        {
         "hovertemplate": "<b>%{hovertext}</b><br><br>Team=GiantsGiants<br>Pass Yds=%{x}<br>TD=%{y}<br>Att=%{marker.size}<extra></extra>",
         "hovertext": [
          "GiantsGiants"
         ],
         "legendgroup": "GiantsGiants",
         "marker": {
          "color": "#FECB52",
          "size": [
           55
          ],
          "sizemode": "area",
          "sizeref": 0.028888888888888888,
          "symbol": "circle"
         },
         "mode": "markers",
         "name": "GiantsGiants",
         "orientation": "v",
         "showlegend": true,
         "type": "scatter",
         "x": [
          364
         ],
         "xaxis": "x",
         "y": [
          3
         ],
         "yaxis": "y"
        },
        {
         "hovertemplate": "<b>%{hovertext}</b><br><br>Team=49ers49ers<br>Pass Yds=%{x}<br>TD=%{y}<br>Att=%{marker.size}<extra></extra>",
         "hovertext": [
          "49ers49ers"
         ],
         "legendgroup": "49ers49ers",
         "marker": {
          "color": "#636efa",
          "size": [
           52
          ],
          "sizemode": "area",
          "sizeref": 0.028888888888888888,
          "symbol": "circle"
         },
         "mode": "markers",
         "name": "49ers49ers",
         "orientation": "v",
         "showlegend": true,
         "type": "scatter",
         "x": [
          348
         ],
         "xaxis": "x",
         "y": [
          1
         ],
         "yaxis": "y"
        },
        {
         "hovertemplate": "<b>%{hovertext}</b><br><br>Team=BearsBears<br>Pass Yds=%{x}<br>TD=%{y}<br>Att=%{marker.size}<extra></extra>",
         "hovertext": [
          "BearsBears"
         ],
         "legendgroup": "BearsBears",
         "marker": {
          "color": "#EF553B",
          "size": [
           28
          ],
          "sizemode": "area",
          "sizeref": 0.028888888888888888,
          "symbol": "circle"
         },
         "mode": "markers",
         "name": "BearsBears",
         "orientation": "v",
         "showlegend": true,
         "type": "scatter",
         "x": [
          191
         ],
         "xaxis": "x",
         "y": [
          2
         ],
         "yaxis": "y"
        }
       ],
       "layout": {
        "legend": {
         "itemsizing": "constant",
         "title": {
          "text": "Team"
         },
         "tracegroupgap": 0
        },
        "margin": {
         "t": 60
        },
        "template": {
         "data": {
          "bar": [
           {
            "error_x": {
             "color": "#2a3f5f"
            },
            "error_y": {
             "color": "#2a3f5f"
            },
            "marker": {
             "line": {
              "color": "#E5ECF6",
              "width": 0.5
             },
             "pattern": {
              "fillmode": "overlay",
              "size": 10,
              "solidity": 0.2
             }
            },
            "type": "bar"
           }
          ],
          "barpolar": [
           {
            "marker": {
             "line": {
              "color": "#E5ECF6",
              "width": 0.5
             },
             "pattern": {
              "fillmode": "overlay",
              "size": 10,
              "solidity": 0.2
             }
            },
            "type": "barpolar"
           }
          ],
          "carpet": [
           {
            "aaxis": {
             "endlinecolor": "#2a3f5f",
             "gridcolor": "white",
             "linecolor": "white",
             "minorgridcolor": "white",
             "startlinecolor": "#2a3f5f"
            },
            "baxis": {
             "endlinecolor": "#2a3f5f",
             "gridcolor": "white",
             "linecolor": "white",
             "minorgridcolor": "white",
             "startlinecolor": "#2a3f5f"
            },
            "type": "carpet"
           }
          ],
          "choropleth": [
           {
            "colorbar": {
             "outlinewidth": 0,
             "ticks": ""
            },
            "type": "choropleth"
           }
          ],
          "contour": [
           {
            "colorbar": {
             "outlinewidth": 0,
             "ticks": ""
            },
            "colorscale": [
             [
              0,
              "#0d0887"
             ],
             [
              0.1111111111111111,
              "#46039f"
             ],
             [
              0.2222222222222222,
              "#7201a8"
             ],
             [
              0.3333333333333333,
              "#9c179e"
             ],
             [
              0.4444444444444444,
              "#bd3786"
             ],
             [
              0.5555555555555556,
              "#d8576b"
             ],
             [
              0.6666666666666666,
              "#ed7953"
             ],
             [
              0.7777777777777778,
              "#fb9f3a"
             ],
             [
              0.8888888888888888,
              "#fdca26"
             ],
             [
              1,
              "#f0f921"
             ]
            ],
            "type": "contour"
           }
          ],
          "contourcarpet": [
           {
            "colorbar": {
             "outlinewidth": 0,
             "ticks": ""
            },
            "type": "contourcarpet"
           }
          ],
          "heatmap": [
           {
            "colorbar": {
             "outlinewidth": 0,
             "ticks": ""
            },
            "colorscale": [
             [
              0,
              "#0d0887"
             ],
             [
              0.1111111111111111,
              "#46039f"
             ],
             [
              0.2222222222222222,
              "#7201a8"
             ],
             [
              0.3333333333333333,
              "#9c179e"
             ],
             [
              0.4444444444444444,
              "#bd3786"
             ],
             [
              0.5555555555555556,
              "#d8576b"
             ],
             [
              0.6666666666666666,
              "#ed7953"
             ],
             [
              0.7777777777777778,
              "#fb9f3a"
             ],
             [
              0.8888888888888888,
              "#fdca26"
             ],
             [
              1,
              "#f0f921"
             ]
            ],
            "type": "heatmap"
           }
          ],
          "heatmapgl": [
           {
            "colorbar": {
             "outlinewidth": 0,
             "ticks": ""
            },
            "colorscale": [
             [
              0,
              "#0d0887"
             ],
             [
              0.1111111111111111,
              "#46039f"
             ],
             [
              0.2222222222222222,
              "#7201a8"
             ],
             [
              0.3333333333333333,
              "#9c179e"
             ],
             [
              0.4444444444444444,
              "#bd3786"
             ],
             [
              0.5555555555555556,
              "#d8576b"
             ],
             [
              0.6666666666666666,
              "#ed7953"
             ],
             [
              0.7777777777777778,
              "#fb9f3a"
             ],
             [
              0.8888888888888888,
              "#fdca26"
             ],
             [
              1,
              "#f0f921"
             ]
            ],
            "type": "heatmapgl"
           }
          ],
          "histogram": [
           {
            "marker": {
             "pattern": {
              "fillmode": "overlay",
              "size": 10,
              "solidity": 0.2
             }
            },
            "type": "histogram"
           }
          ],
          "histogram2d": [
           {
            "colorbar": {
             "outlinewidth": 0,
             "ticks": ""
            },
            "colorscale": [
             [
              0,
              "#0d0887"
             ],
             [
              0.1111111111111111,
              "#46039f"
             ],
             [
              0.2222222222222222,
              "#7201a8"
             ],
             [
              0.3333333333333333,
              "#9c179e"
             ],
             [
              0.4444444444444444,
              "#bd3786"
             ],
             [
              0.5555555555555556,
              "#d8576b"
             ],
             [
              0.6666666666666666,
              "#ed7953"
             ],
             [
              0.7777777777777778,
              "#fb9f3a"
             ],
             [
              0.8888888888888888,
              "#fdca26"
             ],
             [
              1,
              "#f0f921"
             ]
            ],
            "type": "histogram2d"
           }
          ],
          "histogram2dcontour": [
           {
            "colorbar": {
             "outlinewidth": 0,
             "ticks": ""
            },
            "colorscale": [
             [
              0,
              "#0d0887"
             ],
             [
              0.1111111111111111,
              "#46039f"
             ],
             [
              0.2222222222222222,
              "#7201a8"
             ],
             [
              0.3333333333333333,
              "#9c179e"
             ],
             [
              0.4444444444444444,
              "#bd3786"
             ],
             [
              0.5555555555555556,
              "#d8576b"
             ],
             [
              0.6666666666666666,
              "#ed7953"
             ],
             [
              0.7777777777777778,
              "#fb9f3a"
             ],
             [
              0.8888888888888888,
              "#fdca26"
             ],
             [
              1,
              "#f0f921"
             ]
            ],
            "type": "histogram2dcontour"
           }
          ],
          "mesh3d": [
           {
            "colorbar": {
             "outlinewidth": 0,
             "ticks": ""
            },
            "type": "mesh3d"
           }
          ],
          "parcoords": [
           {
            "line": {
             "colorbar": {
              "outlinewidth": 0,
              "ticks": ""
             }
            },
            "type": "parcoords"
           }
          ],
          "pie": [
           {
            "automargin": true,
            "type": "pie"
           }
          ],
          "scatter": [
           {
            "fillpattern": {
             "fillmode": "overlay",
             "size": 10,
             "solidity": 0.2
            },
            "type": "scatter"
           }
          ],
          "scatter3d": [
           {
            "line": {
             "colorbar": {
              "outlinewidth": 0,
              "ticks": ""
             }
            },
            "marker": {
             "colorbar": {
              "outlinewidth": 0,
              "ticks": ""
             }
            },
            "type": "scatter3d"
           }
          ],
          "scattercarpet": [
           {
            "marker": {
             "colorbar": {
              "outlinewidth": 0,
              "ticks": ""
             }
            },
            "type": "scattercarpet"
           }
          ],
          "scattergeo": [
           {
            "marker": {
             "colorbar": {
              "outlinewidth": 0,
              "ticks": ""
             }
            },
            "type": "scattergeo"
           }
          ],
          "scattergl": [
           {
            "marker": {
             "colorbar": {
              "outlinewidth": 0,
              "ticks": ""
             }
            },
            "type": "scattergl"
           }
          ],
          "scattermapbox": [
           {
            "marker": {
             "colorbar": {
              "outlinewidth": 0,
              "ticks": ""
             }
            },
            "type": "scattermapbox"
           }
          ],
          "scatterpolar": [
           {
            "marker": {
             "colorbar": {
              "outlinewidth": 0,
              "ticks": ""
             }
            },
            "type": "scatterpolar"
           }
          ],
          "scatterpolargl": [
           {
            "marker": {
             "colorbar": {
              "outlinewidth": 0,
              "ticks": ""
             }
            },
            "type": "scatterpolargl"
           }
          ],
          "scatterternary": [
           {
            "marker": {
             "colorbar": {
              "outlinewidth": 0,
              "ticks": ""
             }
            },
            "type": "scatterternary"
           }
          ],
          "surface": [
           {
            "colorbar": {
             "outlinewidth": 0,
             "ticks": ""
            },
            "colorscale": [
             [
              0,
              "#0d0887"
             ],
             [
              0.1111111111111111,
              "#46039f"
             ],
             [
              0.2222222222222222,
              "#7201a8"
             ],
             [
              0.3333333333333333,
              "#9c179e"
             ],
             [
              0.4444444444444444,
              "#bd3786"
             ],
             [
              0.5555555555555556,
              "#d8576b"
             ],
             [
              0.6666666666666666,
              "#ed7953"
             ],
             [
              0.7777777777777778,
              "#fb9f3a"
             ],
             [
              0.8888888888888888,
              "#fdca26"
             ],
             [
              1,
              "#f0f921"
             ]
            ],
            "type": "surface"
           }
          ],
          "table": [
           {
            "cells": {
             "fill": {
              "color": "#EBF0F8"
             },
             "line": {
              "color": "white"
             }
            },
            "header": {
             "fill": {
              "color": "#C8D4E3"
             },
             "line": {
              "color": "white"
             }
            },
            "type": "table"
           }
          ]
         },
         "layout": {
          "annotationdefaults": {
           "arrowcolor": "#2a3f5f",
           "arrowhead": 0,
           "arrowwidth": 1
          },
          "autotypenumbers": "strict",
          "coloraxis": {
           "colorbar": {
            "outlinewidth": 0,
            "ticks": ""
           }
          },
          "colorscale": {
           "diverging": [
            [
             0,
             "#8e0152"
            ],
            [
             0.1,
             "#c51b7d"
            ],
            [
             0.2,
             "#de77ae"
            ],
            [
             0.3,
             "#f1b6da"
            ],
            [
             0.4,
             "#fde0ef"
            ],
            [
             0.5,
             "#f7f7f7"
            ],
            [
             0.6,
             "#e6f5d0"
            ],
            [
             0.7,
             "#b8e186"
            ],
            [
             0.8,
             "#7fbc41"
            ],
            [
             0.9,
             "#4d9221"
            ],
            [
             1,
             "#276419"
            ]
           ],
           "sequential": [
            [
             0,
             "#0d0887"
            ],
            [
             0.1111111111111111,
             "#46039f"
            ],
            [
             0.2222222222222222,
             "#7201a8"
            ],
            [
             0.3333333333333333,
             "#9c179e"
            ],
            [
             0.4444444444444444,
             "#bd3786"
            ],
            [
             0.5555555555555556,
             "#d8576b"
            ],
            [
             0.6666666666666666,
             "#ed7953"
            ],
            [
             0.7777777777777778,
             "#fb9f3a"
            ],
            [
             0.8888888888888888,
             "#fdca26"
            ],
            [
             1,
             "#f0f921"
            ]
           ],
           "sequentialminus": [
            [
             0,
             "#0d0887"
            ],
            [
             0.1111111111111111,
             "#46039f"
            ],
            [
             0.2222222222222222,
             "#7201a8"
            ],
            [
             0.3333333333333333,
             "#9c179e"
            ],
            [
             0.4444444444444444,
             "#bd3786"
            ],
            [
             0.5555555555555556,
             "#d8576b"
            ],
            [
             0.6666666666666666,
             "#ed7953"
            ],
            [
             0.7777777777777778,
             "#fb9f3a"
            ],
            [
             0.8888888888888888,
             "#fdca26"
            ],
            [
             1,
             "#f0f921"
            ]
           ]
          },
          "colorway": [
           "#636efa",
           "#EF553B",
           "#00cc96",
           "#ab63fa",
           "#FFA15A",
           "#19d3f3",
           "#FF6692",
           "#B6E880",
           "#FF97FF",
           "#FECB52"
          ],
          "font": {
           "color": "#2a3f5f"
          },
          "geo": {
           "bgcolor": "white",
           "lakecolor": "white",
           "landcolor": "#E5ECF6",
           "showlakes": true,
           "showland": true,
           "subunitcolor": "white"
          },
          "hoverlabel": {
           "align": "left"
          },
          "hovermode": "closest",
          "mapbox": {
           "style": "light"
          },
          "paper_bgcolor": "white",
          "plot_bgcolor": "#E5ECF6",
          "polar": {
           "angularaxis": {
            "gridcolor": "white",
            "linecolor": "white",
            "ticks": ""
           },
           "bgcolor": "#E5ECF6",
           "radialaxis": {
            "gridcolor": "white",
            "linecolor": "white",
            "ticks": ""
           }
          },
          "scene": {
           "xaxis": {
            "backgroundcolor": "#E5ECF6",
            "gridcolor": "white",
            "gridwidth": 2,
            "linecolor": "white",
            "showbackground": true,
            "ticks": "",
            "zerolinecolor": "white"
           },
           "yaxis": {
            "backgroundcolor": "#E5ECF6",
            "gridcolor": "white",
            "gridwidth": 2,
            "linecolor": "white",
            "showbackground": true,
            "ticks": "",
            "zerolinecolor": "white"
           },
           "zaxis": {
            "backgroundcolor": "#E5ECF6",
            "gridcolor": "white",
            "gridwidth": 2,
            "linecolor": "white",
            "showbackground": true,
            "ticks": "",
            "zerolinecolor": "white"
           }
          },
          "shapedefaults": {
           "line": {
            "color": "#2a3f5f"
           }
          },
          "ternary": {
           "aaxis": {
            "gridcolor": "white",
            "linecolor": "white",
            "ticks": ""
           },
           "baxis": {
            "gridcolor": "white",
            "linecolor": "white",
            "ticks": ""
           },
           "bgcolor": "#E5ECF6",
           "caxis": {
            "gridcolor": "white",
            "linecolor": "white",
            "ticks": ""
           }
          },
          "title": {
           "x": 0.05
          },
          "xaxis": {
           "automargin": true,
           "gridcolor": "white",
           "linecolor": "white",
           "ticks": "",
           "title": {
            "standoff": 15
           },
           "zerolinecolor": "white",
           "zerolinewidth": 2
          },
          "yaxis": {
           "automargin": true,
           "gridcolor": "white",
           "linecolor": "white",
           "ticks": "",
           "title": {
            "standoff": 15
           },
           "zerolinecolor": "white",
           "zerolinewidth": 2
          }
         }
        },
        "xaxis": {
         "anchor": "y",
         "domain": [
          0,
          1
         ],
         "title": {
          "text": "Pass Yds"
         }
        },
        "yaxis": {
         "anchor": "x",
         "domain": [
          0,
          1
         ],
         "title": {
          "text": "TD"
         }
        }
       }
      }
     },
     "metadata": {},
     "output_type": "display_data"
    }
   ],
   "source": [
    "px.scatter(passing_df, x='Pass Yds', y='TD', color='Team', size='Att', hover_name='Team', size_max=60)"
   ]
  },
  {
   "cell_type": "code",
   "execution_count": 10,
   "metadata": {},
   "outputs": [
    {
     "data": {
      "application/vnd.plotly.v1+json": {
       "config": {
        "plotlyServerURL": "https://plot.ly"
       },
       "data": [
        {
         "hovertemplate": "<b>%{hovertext}</b><br><br>Team=JetsJets<br>Yds=%{x}<br>TD=%{y}<br>Rec=%{marker.size}<extra></extra>",
         "hovertext": [
          "JetsJets"
         ],
         "legendgroup": "JetsJets",
         "marker": {
          "color": "#636efa",
          "size": [
           64
          ],
          "sizemode": "area",
          "sizeref": 0.017777777777777778,
          "symbol": "circle"
         },
         "mode": "markers",
         "name": "JetsJets",
         "orientation": "v",
         "showlegend": true,
         "type": "scatter",
         "x": [
          633
         ],
         "xaxis": "x",
         "y": [
          5
         ],
         "yaxis": "y"
        },
        {
         "hovertemplate": "<b>%{hovertext}</b><br><br>Team=SteelersSteelers<br>Yds=%{x}<br>TD=%{y}<br>Rec=%{marker.size}<extra></extra>",
         "hovertext": [
          "SteelersSteelers"
         ],
         "legendgroup": "SteelersSteelers",
         "marker": {
          "color": "#EF553B",
          "size": [
           62
          ],
          "sizemode": "area",
          "sizeref": 0.017777777777777778,
          "symbol": "circle"
         },
         "mode": "markers",
         "name": "SteelersSteelers",
         "orientation": "v",
         "showlegend": true,
         "type": "scatter",
         "x": [
          569
         ],
         "xaxis": "x",
         "y": [
          2
         ],
         "yaxis": "y"
        },
        {
         "hovertemplate": "<b>%{hovertext}</b><br><br>Team=BrownsBrowns<br>Yds=%{x}<br>TD=%{y}<br>Rec=%{marker.size}<extra></extra>",
         "hovertext": [
          "BrownsBrowns"
         ],
         "legendgroup": "BrownsBrowns",
         "marker": {
          "color": "#00cc96",
          "size": [
           61
          ],
          "sizemode": "area",
          "sizeref": 0.017777777777777778,
          "symbol": "circle"
         },
         "mode": "markers",
         "name": "BrownsBrowns",
         "orientation": "v",
         "showlegend": true,
         "type": "scatter",
         "x": [
          596
         ],
         "xaxis": "x",
         "y": [
          4
         ],
         "yaxis": "y"
        },
        {
         "hovertemplate": "<b>%{hovertext}</b><br><br>Team=DolphinsDolphins<br>Yds=%{x}<br>TD=%{y}<br>Rec=%{marker.size}<extra></extra>",
         "hovertext": [
          "DolphinsDolphins"
         ],
         "legendgroup": "DolphinsDolphins",
         "marker": {
          "color": "#ab63fa",
          "size": [
           59
          ],
          "sizemode": "area",
          "sizeref": 0.017777777777777778,
          "symbol": "circle"
         },
         "mode": "markers",
         "name": "DolphinsDolphins",
         "orientation": "v",
         "showlegend": true,
         "type": "scatter",
         "x": [
          739
         ],
         "xaxis": "x",
         "y": [
          7
         ],
         "yaxis": "y"
        },
        {
         "hovertemplate": "<b>%{hovertext}</b><br><br>Team=ChargersChargers<br>Yds=%{x}<br>TD=%{y}<br>Rec=%{marker.size}<extra></extra>",
         "hovertext": [
          "ChargersChargers"
         ],
         "legendgroup": "ChargersChargers",
         "marker": {
          "color": "#FFA15A",
          "size": [
           59
          ],
          "sizemode": "area",
          "sizeref": 0.017777777777777778,
          "symbol": "circle"
         },
         "mode": "markers",
         "name": "ChargersChargers",
         "orientation": "v",
         "showlegend": true,
         "type": "scatter",
         "x": [
          613
         ],
         "xaxis": "x",
         "y": [
          6
         ],
         "yaxis": "y"
        },
        {
         "hovertemplate": "<b>%{hovertext}</b><br><br>Team=BengalsBengals<br>Yds=%{x}<br>TD=%{y}<br>Rec=%{marker.size}<extra></extra>",
         "hovertext": [
          "BengalsBengals"
         ],
         "legendgroup": "BengalsBengals",
         "marker": {
          "color": "#19d3f3",
          "size": [
           57
          ],
          "sizemode": "area",
          "sizeref": 0.017777777777777778,
          "symbol": "circle"
         },
         "mode": "markers",
         "name": "BengalsBengals",
         "orientation": "v",
         "showlegend": true,
         "type": "scatter",
         "x": [
          537
         ],
         "xaxis": "x",
         "y": [
          3
         ],
         "yaxis": "y"
        },
        {
         "hovertemplate": "<b>%{hovertext}</b><br><br>Team=CommandersCommanders<br>Yds=%{x}<br>TD=%{y}<br>Rec=%{marker.size}<extra></extra>",
         "hovertext": [
          "CommandersCommanders"
         ],
         "legendgroup": "CommandersCommanders",
         "marker": {
          "color": "#FF6692",
          "size": [
           57
          ],
          "sizemode": "area",
          "sizeref": 0.017777777777777778,
          "symbol": "circle"
         },
         "mode": "markers",
         "name": "CommandersCommanders",
         "orientation": "v",
         "showlegend": true,
         "type": "scatter",
         "x": [
          650
         ],
         "xaxis": "x",
         "y": [
          7
         ],
         "yaxis": "y"
        },
        {
         "hovertemplate": "<b>%{hovertext}</b><br><br>Team=RamsRams<br>Yds=%{x}<br>TD=%{y}<br>Rec=%{marker.size}<extra></extra>",
         "hovertext": [
          "RamsRams"
         ],
         "legendgroup": "RamsRams",
         "marker": {
          "color": "#B6E880",
          "size": [
           56
          ],
          "sizemode": "area",
          "sizeref": 0.017777777777777778,
          "symbol": "circle"
         },
         "mode": "markers",
         "name": "RamsRams",
         "orientation": "v",
         "showlegend": true,
         "type": "scatter",
         "x": [
          512
         ],
         "xaxis": "x",
         "y": [
          4
         ],
         "yaxis": "y"
        },
        {
         "hovertemplate": "<b>%{hovertext}</b><br><br>Team=CardinalsCardinals<br>Yds=%{x}<br>TD=%{y}<br>Rec=%{marker.size}<extra></extra>",
         "hovertext": [
          "CardinalsCardinals"
         ],
         "legendgroup": "CardinalsCardinals",
         "marker": {
          "color": "#FF97FF",
          "size": [
           55
          ],
          "sizemode": "area",
          "sizeref": 0.017777777777777778,
          "symbol": "circle"
         },
         "mode": "markers",
         "name": "CardinalsCardinals",
         "orientation": "v",
         "showlegend": true,
         "type": "scatter",
         "x": [
          482
         ],
         "xaxis": "x",
         "y": [
          3
         ],
         "yaxis": "y"
        },
        {
         "hovertemplate": "<b>%{hovertext}</b><br><br>Team=ChiefsChiefs<br>Yds=%{x}<br>TD=%{y}<br>Rec=%{marker.size}<extra></extra>",
         "hovertext": [
          "ChiefsChiefs"
         ],
         "legendgroup": "ChiefsChiefs",
         "marker": {
          "color": "#FECB52",
          "size": [
           54
          ],
          "sizemode": "area",
          "sizeref": 0.017777777777777778,
          "symbol": "circle"
         },
         "mode": "markers",
         "name": "ChiefsChiefs",
         "orientation": "v",
         "showlegend": true,
         "type": "scatter",
         "x": [
          595
         ],
         "xaxis": "x",
         "y": [
          7
         ],
         "yaxis": "y"
        },
        {
         "hovertemplate": "<b>%{hovertext}</b><br><br>Team=BillsBills<br>Yds=%{x}<br>TD=%{y}<br>Rec=%{marker.size}<extra></extra>",
         "hovertext": [
          "BillsBills"
         ],
         "legendgroup": "BillsBills",
         "marker": {
          "color": "#636efa",
          "size": [
           52
          ],
          "sizemode": "area",
          "sizeref": 0.017777777777777778,
          "symbol": "circle"
         },
         "mode": "markers",
         "name": "BillsBills",
         "orientation": "v",
         "showlegend": true,
         "type": "scatter",
         "x": [
          614
         ],
         "xaxis": "x",
         "y": [
          7
         ],
         "yaxis": "y"
        },
        {
         "hovertemplate": "<b>%{hovertext}</b><br><br>Team=VikingsVikings<br>Yds=%{x}<br>TD=%{y}<br>Rec=%{marker.size}<extra></extra>",
         "hovertext": [
          "VikingsVikings"
         ],
         "legendgroup": "VikingsVikings",
         "marker": {
          "color": "#EF553B",
          "size": [
           50
          ],
          "sizemode": "area",
          "sizeref": 0.017777777777777778,
          "symbol": "circle"
         },
         "mode": "markers",
         "name": "VikingsVikings",
         "orientation": "v",
         "showlegend": true,
         "type": "scatter",
         "x": [
          498
         ],
         "xaxis": "x",
         "y": [
          3
         ],
         "yaxis": "y"
        },
        {
         "hovertemplate": "<b>%{hovertext}</b><br><br>Team=JaguarsJaguars<br>Yds=%{x}<br>TD=%{y}<br>Rec=%{marker.size}<extra></extra>",
         "hovertext": [
          "JaguarsJaguars"
         ],
         "legendgroup": "JaguarsJaguars",
         "marker": {
          "color": "#00cc96",
          "size": [
           49
          ],
          "sizemode": "area",
          "sizeref": 0.017777777777777778,
          "symbol": "circle"
         },
         "mode": "markers",
         "name": "JaguarsJaguars",
         "orientation": "v",
         "showlegend": true,
         "type": "scatter",
         "x": [
          510
         ],
         "xaxis": "x",
         "y": [
          3
         ],
         "yaxis": "y"
        },
        {
         "hovertemplate": "<b>%{hovertext}</b><br><br>Team=ColtsColts<br>Yds=%{x}<br>TD=%{y}<br>Rec=%{marker.size}<extra></extra>",
         "hovertext": [
          "ColtsColts"
         ],
         "legendgroup": "ColtsColts",
         "marker": {
          "color": "#ab63fa",
          "size": [
           48
          ],
          "sizemode": "area",
          "sizeref": 0.017777777777777778,
          "symbol": "circle"
         },
         "mode": "markers",
         "name": "ColtsColts",
         "orientation": "v",
         "showlegend": true,
         "type": "scatter",
         "x": [
          547
         ],
         "xaxis": "x",
         "y": [
          1
         ],
         "yaxis": "y"
        },
        {
         "hovertemplate": "<b>%{hovertext}</b><br><br>Team=SaintsSaints<br>Yds=%{x}<br>TD=%{y}<br>Rec=%{marker.size}<extra></extra>",
         "hovertext": [
          "SaintsSaints"
         ],
         "legendgroup": "SaintsSaints",
         "marker": {
          "color": "#FFA15A",
          "size": [
           48
          ],
          "sizemode": "area",
          "sizeref": 0.017777777777777778,
          "symbol": "circle"
         },
         "mode": "markers",
         "name": "SaintsSaints",
         "orientation": "v",
         "showlegend": true,
         "type": "scatter",
         "x": [
          505
         ],
         "xaxis": "x",
         "y": [
          3
         ],
         "yaxis": "y"
        },
        {
         "hovertemplate": "<b>%{hovertext}</b><br><br>Team=RaidersRaiders<br>Yds=%{x}<br>TD=%{y}<br>Rec=%{marker.size}<extra></extra>",
         "hovertext": [
          "RaidersRaiders"
         ],
         "legendgroup": "RaidersRaiders",
         "marker": {
          "color": "#19d3f3",
          "size": [
           47
          ],
          "sizemode": "area",
          "sizeref": 0.017777777777777778,
          "symbol": "circle"
         },
         "mode": "markers",
         "name": "RaidersRaiders",
         "orientation": "v",
         "showlegend": true,
         "type": "scatter",
         "x": [
          547
         ],
         "xaxis": "x",
         "y": [
          4
         ],
         "yaxis": "y"
        },
        {
         "hovertemplate": "<b>%{hovertext}</b><br><br>Team=SeahawksSeahawks<br>Yds=%{x}<br>TD=%{y}<br>Rec=%{marker.size}<extra></extra>",
         "hovertext": [
          "SeahawksSeahawks"
         ],
         "legendgroup": "SeahawksSeahawks",
         "marker": {
          "color": "#FF6692",
          "size": [
           47
          ],
          "sizemode": "area",
          "sizeref": 0.017777777777777778,
          "symbol": "circle"
         },
         "mode": "markers",
         "name": "SeahawksSeahawks",
         "orientation": "v",
         "showlegend": true,
         "type": "scatter",
         "x": [
          392
         ],
         "xaxis": "x",
         "y": [
          2
         ],
         "yaxis": "y"
        },
        {
         "hovertemplate": "<b>%{hovertext}</b><br><br>Team=PackersPackers<br>Yds=%{x}<br>TD=%{y}<br>Rec=%{marker.size}<extra></extra>",
         "hovertext": [
          "PackersPackers"
         ],
         "legendgroup": "PackersPackers",
         "marker": {
          "color": "#B6E880",
          "size": [
           45
          ],
          "sizemode": "area",
          "sizeref": 0.017777777777777778,
          "symbol": "circle"
         },
         "mode": "markers",
         "name": "PackersPackers",
         "orientation": "v",
         "showlegend": true,
         "type": "scatter",
         "x": [
          494
         ],
         "xaxis": "x",
         "y": [
          2
         ],
         "yaxis": "y"
        },
        {
         "hovertemplate": "<b>%{hovertext}</b><br><br>Team=EaglesEagles<br>Yds=%{x}<br>TD=%{y}<br>Rec=%{marker.size}<extra></extra>",
         "hovertext": [
          "EaglesEagles"
         ],
         "legendgroup": "EaglesEagles",
         "marker": {
          "color": "#FF97FF",
          "size": [
           44
          ],
          "sizemode": "area",
          "sizeref": 0.017777777777777778,
          "symbol": "circle"
         },
         "mode": "markers",
         "name": "EaglesEagles",
         "orientation": "v",
         "showlegend": true,
         "type": "scatter",
         "x": [
          576
         ],
         "xaxis": "x",
         "y": [
          1
         ],
         "yaxis": "y"
        },
        {
         "hovertemplate": "<b>%{hovertext}</b><br><br>Team=BroncosBroncos<br>Yds=%{x}<br>TD=%{y}<br>Rec=%{marker.size}<extra></extra>",
         "hovertext": [
          "BroncosBroncos"
         ],
         "legendgroup": "BroncosBroncos",
         "marker": {
          "color": "#FECB52",
          "size": [
           43
          ],
          "sizemode": "area",
          "sizeref": 0.017777777777777778,
          "symbol": "circle"
         },
         "mode": "markers",
         "name": "BroncosBroncos",
         "orientation": "v",
         "showlegend": true,
         "type": "scatter",
         "x": [
          559
         ],
         "xaxis": "x",
         "y": [
          2
         ],
         "yaxis": "y"
        },
        {
         "hovertemplate": "<b>%{hovertext}</b><br><br>Team=TexansTexans<br>Yds=%{x}<br>TD=%{y}<br>Rec=%{marker.size}<extra></extra>",
         "hovertext": [
          "TexansTexans"
         ],
         "legendgroup": "TexansTexans",
         "marker": {
          "color": "#636efa",
          "size": [
           42
          ],
          "sizemode": "area",
          "sizeref": 0.017777777777777778,
          "symbol": "circle"
         },
         "mode": "markers",
         "name": "TexansTexans",
         "orientation": "v",
         "showlegend": true,
         "type": "scatter",
         "x": [
          417
         ],
         "xaxis": "x",
         "y": [
          2
         ],
         "yaxis": "y"
        },
        {
         "hovertemplate": "<b>%{hovertext}</b><br><br>Team=PatriotsPatriots<br>Yds=%{x}<br>TD=%{y}<br>Rec=%{marker.size}<extra></extra>",
         "hovertext": [
          "PatriotsPatriots"
         ],
         "legendgroup": "PatriotsPatriots",
         "marker": {
          "color": "#EF553B",
          "size": [
           42
          ],
          "sizemode": "area",
          "sizeref": 0.017777777777777778,
          "symbol": "circle"
         },
         "mode": "markers",
         "name": "PatriotsPatriots",
         "orientation": "v",
         "showlegend": true,
         "type": "scatter",
         "x": [
          465
         ],
         "xaxis": "x",
         "y": [
          2
         ],
         "yaxis": "y"
        },
        {
         "hovertemplate": "<b>%{hovertext}</b><br><br>Team=LionsLions<br>Yds=%{x}<br>TD=%{y}<br>Rec=%{marker.size}<extra></extra>",
         "hovertext": [
          "LionsLions"
         ],
         "legendgroup": "LionsLions",
         "marker": {
          "color": "#00cc96",
          "size": [
           41
          ],
          "sizemode": "area",
          "sizeref": 0.017777777777777778,
          "symbol": "circle"
         },
         "mode": "markers",
         "name": "LionsLions",
         "orientation": "v",
         "showlegend": true,
         "type": "scatter",
         "x": [
          471
         ],
         "xaxis": "x",
         "y": [
          6
         ],
         "yaxis": "y"
        },
        {
         "hovertemplate": "<b>%{hovertext}</b><br><br>Team=CowboysCowboys<br>Yds=%{x}<br>TD=%{y}<br>Rec=%{marker.size}<extra></extra>",
         "hovertext": [
          "CowboysCowboys"
         ],
         "legendgroup": "CowboysCowboys",
         "marker": {
          "color": "#ab63fa",
          "size": [
           40
          ],
          "sizemode": "area",
          "sizeref": 0.017777777777777778,
          "symbol": "circle"
         },
         "mode": "markers",
         "name": "CowboysCowboys",
         "orientation": "v",
         "showlegend": true,
         "type": "scatter",
         "x": [
          433
         ],
         "xaxis": "x",
         "y": [
          1
         ],
         "yaxis": "y"
        },
        {
         "hovertemplate": "<b>%{hovertext}</b><br><br>Team=GiantsGiants<br>Yds=%{x}<br>TD=%{y}<br>Rec=%{marker.size}<extra></extra>",
         "hovertext": [
          "GiantsGiants"
         ],
         "legendgroup": "GiantsGiants",
         "marker": {
          "color": "#FFA15A",
          "size": [
           39
          ],
          "sizemode": "area",
          "sizeref": 0.017777777777777778,
          "symbol": "circle"
         },
         "mode": "markers",
         "name": "GiantsGiants",
         "orientation": "v",
         "showlegend": true,
         "type": "scatter",
         "x": [
          364
         ],
         "xaxis": "x",
         "y": [
          3
         ],
         "yaxis": "y"
        },
        {
         "hovertemplate": "<b>%{hovertext}</b><br><br>Team=RavensRavens<br>Yds=%{x}<br>TD=%{y}<br>Rec=%{marker.size}<extra></extra>",
         "hovertext": [
          "RavensRavens"
         ],
         "legendgroup": "RavensRavens",
         "marker": {
          "color": "#19d3f3",
          "size": [
           38
          ],
          "sizemode": "area",
          "sizeref": 0.017777777777777778,
          "symbol": "circle"
         },
         "mode": "markers",
         "name": "RavensRavens",
         "orientation": "v",
         "showlegend": true,
         "type": "scatter",
         "x": [
          531
         ],
         "xaxis": "x",
         "y": [
          6
         ],
         "yaxis": "y"
        },
        {
         "hovertemplate": "<b>%{hovertext}</b><br><br>Team=FalconsFalcons<br>Yds=%{x}<br>TD=%{y}<br>Rec=%{marker.size}<extra></extra>",
         "hovertext": [
          "FalconsFalcons"
         ],
         "legendgroup": "FalconsFalcons",
         "marker": {
          "color": "#FF6692",
          "size": [
           37
          ],
          "sizemode": "area",
          "sizeref": 0.017777777777777778,
          "symbol": "circle"
         },
         "mode": "markers",
         "name": "FalconsFalcons",
         "orientation": "v",
         "showlegend": true,
         "type": "scatter",
         "x": [
          411
         ],
         "xaxis": "x",
         "y": [
          2
         ],
         "yaxis": "y"
        },
        {
         "hovertemplate": "<b>%{hovertext}</b><br><br>Team=BuccaneersBuccaneers<br>Yds=%{x}<br>TD=%{y}<br>Rec=%{marker.size}<extra></extra>",
         "hovertext": [
          "BuccaneersBuccaneers"
         ],
         "legendgroup": "BuccaneersBuccaneers",
         "marker": {
          "color": "#B6E880",
          "size": [
           36
          ],
          "sizemode": "area",
          "sizeref": 0.017777777777777778,
          "symbol": "circle"
         },
         "mode": "markers",
         "name": "BuccaneersBuccaneers",
         "orientation": "v",
         "showlegend": true,
         "type": "scatter",
         "x": [
          402
         ],
         "xaxis": "x",
         "y": [
          2
         ],
         "yaxis": "y"
        },
        {
         "hovertemplate": "<b>%{hovertext}</b><br><br>Team=TitansTitans<br>Yds=%{x}<br>TD=%{y}<br>Rec=%{marker.size}<extra></extra>",
         "hovertext": [
          "TitansTitans"
         ],
         "legendgroup": "TitansTitans",
         "marker": {
          "color": "#FF97FF",
          "size": [
           32
          ],
          "sizemode": "area",
          "sizeref": 0.017777777777777778,
          "symbol": "circle"
         },
         "mode": "markers",
         "name": "TitansTitans",
         "orientation": "v",
         "showlegend": true,
         "type": "scatter",
         "x": [
          389
         ],
         "xaxis": "x",
         "y": [
          2
         ],
         "yaxis": "y"
        },
        {
         "hovertemplate": "<b>%{hovertext}</b><br><br>Team=PanthersPanthers<br>Yds=%{x}<br>TD=%{y}<br>Rec=%{marker.size}<extra></extra>",
         "hovertext": [
          "PanthersPanthers"
         ],
         "legendgroup": "PanthersPanthers",
         "marker": {
          "color": "#FECB52",
          "size": [
           30
          ],
          "sizemode": "area",
          "sizeref": 0.017777777777777778,
          "symbol": "circle"
         },
         "mode": "markers",
         "name": "PanthersPanthers",
         "orientation": "v",
         "showlegend": true,
         "type": "scatter",
         "x": [
          380
         ],
         "xaxis": "x",
         "y": [
          2
         ],
         "yaxis": "y"
        },
        {
         "hovertemplate": "<b>%{hovertext}</b><br><br>Team=49ers49ers<br>Yds=%{x}<br>TD=%{y}<br>Rec=%{marker.size}<extra></extra>",
         "hovertext": [
          "49ers49ers"
         ],
         "legendgroup": "49ers49ers",
         "marker": {
          "color": "#636efa",
          "size": [
           28
          ],
          "sizemode": "area",
          "sizeref": 0.017777777777777778,
          "symbol": "circle"
         },
         "mode": "markers",
         "name": "49ers49ers",
         "orientation": "v",
         "showlegend": true,
         "type": "scatter",
         "x": [
          348
         ],
         "xaxis": "x",
         "y": [
          1
         ],
         "yaxis": "y"
        },
        {
         "hovertemplate": "<b>%{hovertext}</b><br><br>Team=BearsBears<br>Yds=%{x}<br>TD=%{y}<br>Rec=%{marker.size}<extra></extra>",
         "hovertext": [
          "BearsBears"
         ],
         "legendgroup": "BearsBears",
         "marker": {
          "color": "#EF553B",
          "size": [
           15
          ],
          "sizemode": "area",
          "sizeref": 0.017777777777777778,
          "symbol": "circle"
         },
         "mode": "markers",
         "name": "BearsBears",
         "orientation": "v",
         "showlegend": true,
         "type": "scatter",
         "x": [
          191
         ],
         "xaxis": "x",
         "y": [
          2
         ],
         "yaxis": "y"
        }
       ],
       "layout": {
        "legend": {
         "itemsizing": "constant",
         "title": {
          "text": "Team"
         },
         "tracegroupgap": 0
        },
        "margin": {
         "t": 60
        },
        "template": {
         "data": {
          "bar": [
           {
            "error_x": {
             "color": "#2a3f5f"
            },
            "error_y": {
             "color": "#2a3f5f"
            },
            "marker": {
             "line": {
              "color": "#E5ECF6",
              "width": 0.5
             },
             "pattern": {
              "fillmode": "overlay",
              "size": 10,
              "solidity": 0.2
             }
            },
            "type": "bar"
           }
          ],
          "barpolar": [
           {
            "marker": {
             "line": {
              "color": "#E5ECF6",
              "width": 0.5
             },
             "pattern": {
              "fillmode": "overlay",
              "size": 10,
              "solidity": 0.2
             }
            },
            "type": "barpolar"
           }
          ],
          "carpet": [
           {
            "aaxis": {
             "endlinecolor": "#2a3f5f",
             "gridcolor": "white",
             "linecolor": "white",
             "minorgridcolor": "white",
             "startlinecolor": "#2a3f5f"
            },
            "baxis": {
             "endlinecolor": "#2a3f5f",
             "gridcolor": "white",
             "linecolor": "white",
             "minorgridcolor": "white",
             "startlinecolor": "#2a3f5f"
            },
            "type": "carpet"
           }
          ],
          "choropleth": [
           {
            "colorbar": {
             "outlinewidth": 0,
             "ticks": ""
            },
            "type": "choropleth"
           }
          ],
          "contour": [
           {
            "colorbar": {
             "outlinewidth": 0,
             "ticks": ""
            },
            "colorscale": [
             [
              0,
              "#0d0887"
             ],
             [
              0.1111111111111111,
              "#46039f"
             ],
             [
              0.2222222222222222,
              "#7201a8"
             ],
             [
              0.3333333333333333,
              "#9c179e"
             ],
             [
              0.4444444444444444,
              "#bd3786"
             ],
             [
              0.5555555555555556,
              "#d8576b"
             ],
             [
              0.6666666666666666,
              "#ed7953"
             ],
             [
              0.7777777777777778,
              "#fb9f3a"
             ],
             [
              0.8888888888888888,
              "#fdca26"
             ],
             [
              1,
              "#f0f921"
             ]
            ],
            "type": "contour"
           }
          ],
          "contourcarpet": [
           {
            "colorbar": {
             "outlinewidth": 0,
             "ticks": ""
            },
            "type": "contourcarpet"
           }
          ],
          "heatmap": [
           {
            "colorbar": {
             "outlinewidth": 0,
             "ticks": ""
            },
            "colorscale": [
             [
              0,
              "#0d0887"
             ],
             [
              0.1111111111111111,
              "#46039f"
             ],
             [
              0.2222222222222222,
              "#7201a8"
             ],
             [
              0.3333333333333333,
              "#9c179e"
             ],
             [
              0.4444444444444444,
              "#bd3786"
             ],
             [
              0.5555555555555556,
              "#d8576b"
             ],
             [
              0.6666666666666666,
              "#ed7953"
             ],
             [
              0.7777777777777778,
              "#fb9f3a"
             ],
             [
              0.8888888888888888,
              "#fdca26"
             ],
             [
              1,
              "#f0f921"
             ]
            ],
            "type": "heatmap"
           }
          ],
          "heatmapgl": [
           {
            "colorbar": {
             "outlinewidth": 0,
             "ticks": ""
            },
            "colorscale": [
             [
              0,
              "#0d0887"
             ],
             [
              0.1111111111111111,
              "#46039f"
             ],
             [
              0.2222222222222222,
              "#7201a8"
             ],
             [
              0.3333333333333333,
              "#9c179e"
             ],
             [
              0.4444444444444444,
              "#bd3786"
             ],
             [
              0.5555555555555556,
              "#d8576b"
             ],
             [
              0.6666666666666666,
              "#ed7953"
             ],
             [
              0.7777777777777778,
              "#fb9f3a"
             ],
             [
              0.8888888888888888,
              "#fdca26"
             ],
             [
              1,
              "#f0f921"
             ]
            ],
            "type": "heatmapgl"
           }
          ],
          "histogram": [
           {
            "marker": {
             "pattern": {
              "fillmode": "overlay",
              "size": 10,
              "solidity": 0.2
             }
            },
            "type": "histogram"
           }
          ],
          "histogram2d": [
           {
            "colorbar": {
             "outlinewidth": 0,
             "ticks": ""
            },
            "colorscale": [
             [
              0,
              "#0d0887"
             ],
             [
              0.1111111111111111,
              "#46039f"
             ],
             [
              0.2222222222222222,
              "#7201a8"
             ],
             [
              0.3333333333333333,
              "#9c179e"
             ],
             [
              0.4444444444444444,
              "#bd3786"
             ],
             [
              0.5555555555555556,
              "#d8576b"
             ],
             [
              0.6666666666666666,
              "#ed7953"
             ],
             [
              0.7777777777777778,
              "#fb9f3a"
             ],
             [
              0.8888888888888888,
              "#fdca26"
             ],
             [
              1,
              "#f0f921"
             ]
            ],
            "type": "histogram2d"
           }
          ],
          "histogram2dcontour": [
           {
            "colorbar": {
             "outlinewidth": 0,
             "ticks": ""
            },
            "colorscale": [
             [
              0,
              "#0d0887"
             ],
             [
              0.1111111111111111,
              "#46039f"
             ],
             [
              0.2222222222222222,
              "#7201a8"
             ],
             [
              0.3333333333333333,
              "#9c179e"
             ],
             [
              0.4444444444444444,
              "#bd3786"
             ],
             [
              0.5555555555555556,
              "#d8576b"
             ],
             [
              0.6666666666666666,
              "#ed7953"
             ],
             [
              0.7777777777777778,
              "#fb9f3a"
             ],
             [
              0.8888888888888888,
              "#fdca26"
             ],
             [
              1,
              "#f0f921"
             ]
            ],
            "type": "histogram2dcontour"
           }
          ],
          "mesh3d": [
           {
            "colorbar": {
             "outlinewidth": 0,
             "ticks": ""
            },
            "type": "mesh3d"
           }
          ],
          "parcoords": [
           {
            "line": {
             "colorbar": {
              "outlinewidth": 0,
              "ticks": ""
             }
            },
            "type": "parcoords"
           }
          ],
          "pie": [
           {
            "automargin": true,
            "type": "pie"
           }
          ],
          "scatter": [
           {
            "fillpattern": {
             "fillmode": "overlay",
             "size": 10,
             "solidity": 0.2
            },
            "type": "scatter"
           }
          ],
          "scatter3d": [
           {
            "line": {
             "colorbar": {
              "outlinewidth": 0,
              "ticks": ""
             }
            },
            "marker": {
             "colorbar": {
              "outlinewidth": 0,
              "ticks": ""
             }
            },
            "type": "scatter3d"
           }
          ],
          "scattercarpet": [
           {
            "marker": {
             "colorbar": {
              "outlinewidth": 0,
              "ticks": ""
             }
            },
            "type": "scattercarpet"
           }
          ],
          "scattergeo": [
           {
            "marker": {
             "colorbar": {
              "outlinewidth": 0,
              "ticks": ""
             }
            },
            "type": "scattergeo"
           }
          ],
          "scattergl": [
           {
            "marker": {
             "colorbar": {
              "outlinewidth": 0,
              "ticks": ""
             }
            },
            "type": "scattergl"
           }
          ],
          "scattermapbox": [
           {
            "marker": {
             "colorbar": {
              "outlinewidth": 0,
              "ticks": ""
             }
            },
            "type": "scattermapbox"
           }
          ],
          "scatterpolar": [
           {
            "marker": {
             "colorbar": {
              "outlinewidth": 0,
              "ticks": ""
             }
            },
            "type": "scatterpolar"
           }
          ],
          "scatterpolargl": [
           {
            "marker": {
             "colorbar": {
              "outlinewidth": 0,
              "ticks": ""
             }
            },
            "type": "scatterpolargl"
           }
          ],
          "scatterternary": [
           {
            "marker": {
             "colorbar": {
              "outlinewidth": 0,
              "ticks": ""
             }
            },
            "type": "scatterternary"
           }
          ],
          "surface": [
           {
            "colorbar": {
             "outlinewidth": 0,
             "ticks": ""
            },
            "colorscale": [
             [
              0,
              "#0d0887"
             ],
             [
              0.1111111111111111,
              "#46039f"
             ],
             [
              0.2222222222222222,
              "#7201a8"
             ],
             [
              0.3333333333333333,
              "#9c179e"
             ],
             [
              0.4444444444444444,
              "#bd3786"
             ],
             [
              0.5555555555555556,
              "#d8576b"
             ],
             [
              0.6666666666666666,
              "#ed7953"
             ],
             [
              0.7777777777777778,
              "#fb9f3a"
             ],
             [
              0.8888888888888888,
              "#fdca26"
             ],
             [
              1,
              "#f0f921"
             ]
            ],
            "type": "surface"
           }
          ],
          "table": [
           {
            "cells": {
             "fill": {
              "color": "#EBF0F8"
             },
             "line": {
              "color": "white"
             }
            },
            "header": {
             "fill": {
              "color": "#C8D4E3"
             },
             "line": {
              "color": "white"
             }
            },
            "type": "table"
           }
          ]
         },
         "layout": {
          "annotationdefaults": {
           "arrowcolor": "#2a3f5f",
           "arrowhead": 0,
           "arrowwidth": 1
          },
          "autotypenumbers": "strict",
          "coloraxis": {
           "colorbar": {
            "outlinewidth": 0,
            "ticks": ""
           }
          },
          "colorscale": {
           "diverging": [
            [
             0,
             "#8e0152"
            ],
            [
             0.1,
             "#c51b7d"
            ],
            [
             0.2,
             "#de77ae"
            ],
            [
             0.3,
             "#f1b6da"
            ],
            [
             0.4,
             "#fde0ef"
            ],
            [
             0.5,
             "#f7f7f7"
            ],
            [
             0.6,
             "#e6f5d0"
            ],
            [
             0.7,
             "#b8e186"
            ],
            [
             0.8,
             "#7fbc41"
            ],
            [
             0.9,
             "#4d9221"
            ],
            [
             1,
             "#276419"
            ]
           ],
           "sequential": [
            [
             0,
             "#0d0887"
            ],
            [
             0.1111111111111111,
             "#46039f"
            ],
            [
             0.2222222222222222,
             "#7201a8"
            ],
            [
             0.3333333333333333,
             "#9c179e"
            ],
            [
             0.4444444444444444,
             "#bd3786"
            ],
            [
             0.5555555555555556,
             "#d8576b"
            ],
            [
             0.6666666666666666,
             "#ed7953"
            ],
            [
             0.7777777777777778,
             "#fb9f3a"
            ],
            [
             0.8888888888888888,
             "#fdca26"
            ],
            [
             1,
             "#f0f921"
            ]
           ],
           "sequentialminus": [
            [
             0,
             "#0d0887"
            ],
            [
             0.1111111111111111,
             "#46039f"
            ],
            [
             0.2222222222222222,
             "#7201a8"
            ],
            [
             0.3333333333333333,
             "#9c179e"
            ],
            [
             0.4444444444444444,
             "#bd3786"
            ],
            [
             0.5555555555555556,
             "#d8576b"
            ],
            [
             0.6666666666666666,
             "#ed7953"
            ],
            [
             0.7777777777777778,
             "#fb9f3a"
            ],
            [
             0.8888888888888888,
             "#fdca26"
            ],
            [
             1,
             "#f0f921"
            ]
           ]
          },
          "colorway": [
           "#636efa",
           "#EF553B",
           "#00cc96",
           "#ab63fa",
           "#FFA15A",
           "#19d3f3",
           "#FF6692",
           "#B6E880",
           "#FF97FF",
           "#FECB52"
          ],
          "font": {
           "color": "#2a3f5f"
          },
          "geo": {
           "bgcolor": "white",
           "lakecolor": "white",
           "landcolor": "#E5ECF6",
           "showlakes": true,
           "showland": true,
           "subunitcolor": "white"
          },
          "hoverlabel": {
           "align": "left"
          },
          "hovermode": "closest",
          "mapbox": {
           "style": "light"
          },
          "paper_bgcolor": "white",
          "plot_bgcolor": "#E5ECF6",
          "polar": {
           "angularaxis": {
            "gridcolor": "white",
            "linecolor": "white",
            "ticks": ""
           },
           "bgcolor": "#E5ECF6",
           "radialaxis": {
            "gridcolor": "white",
            "linecolor": "white",
            "ticks": ""
           }
          },
          "scene": {
           "xaxis": {
            "backgroundcolor": "#E5ECF6",
            "gridcolor": "white",
            "gridwidth": 2,
            "linecolor": "white",
            "showbackground": true,
            "ticks": "",
            "zerolinecolor": "white"
           },
           "yaxis": {
            "backgroundcolor": "#E5ECF6",
            "gridcolor": "white",
            "gridwidth": 2,
            "linecolor": "white",
            "showbackground": true,
            "ticks": "",
            "zerolinecolor": "white"
           },
           "zaxis": {
            "backgroundcolor": "#E5ECF6",
            "gridcolor": "white",
            "gridwidth": 2,
            "linecolor": "white",
            "showbackground": true,
            "ticks": "",
            "zerolinecolor": "white"
           }
          },
          "shapedefaults": {
           "line": {
            "color": "#2a3f5f"
           }
          },
          "ternary": {
           "aaxis": {
            "gridcolor": "white",
            "linecolor": "white",
            "ticks": ""
           },
           "baxis": {
            "gridcolor": "white",
            "linecolor": "white",
            "ticks": ""
           },
           "bgcolor": "#E5ECF6",
           "caxis": {
            "gridcolor": "white",
            "linecolor": "white",
            "ticks": ""
           }
          },
          "title": {
           "x": 0.05
          },
          "xaxis": {
           "automargin": true,
           "gridcolor": "white",
           "linecolor": "white",
           "ticks": "",
           "title": {
            "standoff": 15
           },
           "zerolinecolor": "white",
           "zerolinewidth": 2
          },
          "yaxis": {
           "automargin": true,
           "gridcolor": "white",
           "linecolor": "white",
           "ticks": "",
           "title": {
            "standoff": 15
           },
           "zerolinecolor": "white",
           "zerolinewidth": 2
          }
         }
        },
        "xaxis": {
         "anchor": "y",
         "domain": [
          0,
          1
         ],
         "title": {
          "text": "Yds"
         }
        },
        "yaxis": {
         "anchor": "x",
         "domain": [
          0,
          1
         ],
         "title": {
          "text": "TD"
         }
        }
       }
      }
     },
     "metadata": {},
     "output_type": "display_data"
    }
   ],
   "source": [
    "px.scatter(receiving_df, x='Yds', y='TD', color='Team', size='Rec', hover_name='Team', size_max=60)"
   ]
  },
  {
   "cell_type": "code",
   "execution_count": 11,
   "metadata": {},
   "outputs": [
    {
     "data": {
      "application/vnd.plotly.v1+json": {
       "config": {
        "plotlyServerURL": "https://plot.ly"
       },
       "data": [
        {
         "hovertemplate": "<b>%{hovertext}</b><br><br>Team=BrownsBrowns<br>Rush Yds=%{x}<br>TD=%{y}<br>Att=%{marker.size}<extra></extra>",
         "hovertext": [
          "BrownsBrowns"
         ],
         "legendgroup": "BrownsBrowns",
         "marker": {
          "color": "#636efa",
          "size": [
           114
          ],
          "sizemode": "area",
          "sizeref": 0.03166666666666667,
          "symbol": "circle"
         },
         "mode": "markers",
         "name": "BrownsBrowns",
         "orientation": "v",
         "showlegend": true,
         "type": "scatter",
         "x": [
          572
         ],
         "xaxis": "x",
         "y": [
          5
         ],
         "yaxis": "y"
        },
        {
         "hovertemplate": "<b>%{hovertext}</b><br><br>Team=49ers49ers<br>Rush Yds=%{x}<br>TD=%{y}<br>Att=%{marker.size}<extra></extra>",
         "hovertext": [
          "49ers49ers"
         ],
         "legendgroup": "49ers49ers",
         "marker": {
          "color": "#EF553B",
          "size": [
           82
          ],
          "sizemode": "area",
          "sizeref": 0.03166666666666667,
          "symbol": "circle"
         },
         "mode": "markers",
         "name": "49ers49ers",
         "orientation": "v",
         "showlegend": true,
         "type": "scatter",
         "x": [
          365
         ],
         "xaxis": "x",
         "y": [
          3
         ],
         "yaxis": "y"
        },
        {
         "hovertemplate": "<b>%{hovertext}</b><br><br>Team=EaglesEagles<br>Rush Yds=%{x}<br>TD=%{y}<br>Att=%{marker.size}<extra></extra>",
         "hovertext": [
          "EaglesEagles"
         ],
         "legendgroup": "EaglesEagles",
         "marker": {
          "color": "#00cc96",
          "size": [
           73
          ],
          "sizemode": "area",
          "sizeref": 0.03166666666666667,
          "symbol": "circle"
         },
         "mode": "markers",
         "name": "EaglesEagles",
         "orientation": "v",
         "showlegend": true,
         "type": "scatter",
         "x": [
          379
         ],
         "xaxis": "x",
         "y": [
          6
         ],
         "yaxis": "y"
        },
        {
         "hovertemplate": "<b>%{hovertext}</b><br><br>Team=SteelersSteelers<br>Rush Yds=%{x}<br>TD=%{y}<br>Att=%{marker.size}<extra></extra>",
         "hovertext": [
          "SteelersSteelers"
         ],
         "legendgroup": "SteelersSteelers",
         "marker": {
          "color": "#ab63fa",
          "size": [
           66
          ],
          "sizemode": "area",
          "sizeref": 0.03166666666666667,
          "symbol": "circle"
         },
         "mode": "markers",
         "name": "SteelersSteelers",
         "orientation": "v",
         "showlegend": true,
         "type": "scatter",
         "x": [
          270
         ],
         "xaxis": "x",
         "y": [
          2
         ],
         "yaxis": "y"
        },
        {
         "hovertemplate": "<b>%{hovertext}</b><br><br>Team=FalconsFalcons<br>Rush Yds=%{x}<br>TD=%{y}<br>Att=%{marker.size}<extra></extra>",
         "hovertext": [
          "FalconsFalcons"
         ],
         "legendgroup": "FalconsFalcons",
         "marker": {
          "color": "#FFA15A",
          "size": [
           65
          ],
          "sizemode": "area",
          "sizeref": 0.03166666666666667,
          "symbol": "circle"
         },
         "mode": "markers",
         "name": "FalconsFalcons",
         "orientation": "v",
         "showlegend": true,
         "type": "scatter",
         "x": [
          291
         ],
         "xaxis": "x",
         "y": [
          2
         ],
         "yaxis": "y"
        },
        {
         "hovertemplate": "<b>%{hovertext}</b><br><br>Team=GiantsGiants<br>Rush Yds=%{x}<br>TD=%{y}<br>Att=%{marker.size}<extra></extra>",
         "hovertext": [
          "GiantsGiants"
         ],
         "legendgroup": "GiantsGiants",
         "marker": {
          "color": "#19d3f3",
          "size": [
           65
          ],
          "sizemode": "area",
          "sizeref": 0.03166666666666667,
          "symbol": "circle"
         },
         "mode": "markers",
         "name": "GiantsGiants",
         "orientation": "v",
         "showlegend": true,
         "type": "scatter",
         "x": [
          341
         ],
         "xaxis": "x",
         "y": [
          1
         ],
         "yaxis": "y"
        },
        {
         "hovertemplate": "<b>%{hovertext}</b><br><br>Team=BearsBears<br>Rush Yds=%{x}<br>TD=%{y}<br>Att=%{marker.size}<extra></extra>",
         "hovertext": [
          "BearsBears"
         ],
         "legendgroup": "BearsBears",
         "marker": {
          "color": "#FF6692",
          "size": [
           64
          ],
          "sizemode": "area",
          "sizeref": 0.03166666666666667,
          "symbol": "circle"
         },
         "mode": "markers",
         "name": "BearsBears",
         "orientation": "v",
         "showlegend": true,
         "type": "scatter",
         "x": [
          279
         ],
         "xaxis": "x",
         "y": [
          2
         ],
         "yaxis": "y"
        },
        {
         "hovertemplate": "<b>%{hovertext}</b><br><br>Team=BuccaneersBuccaneers<br>Rush Yds=%{x}<br>TD=%{y}<br>Att=%{marker.size}<extra></extra>",
         "hovertext": [
          "BuccaneersBuccaneers"
         ],
         "legendgroup": "BuccaneersBuccaneers",
         "marker": {
          "color": "#B6E880",
          "size": [
           63
          ],
          "sizemode": "area",
          "sizeref": 0.03166666666666667,
          "symbol": "circle"
         },
         "mode": "markers",
         "name": "BuccaneersBuccaneers",
         "orientation": "v",
         "showlegend": true,
         "type": "scatter",
         "x": [
          224
         ],
         "xaxis": "x",
         "y": [
          0
         ],
         "yaxis": "y"
        },
        {
         "hovertemplate": "<b>%{hovertext}</b><br><br>Team=BengalsBengals<br>Rush Yds=%{x}<br>TD=%{y}<br>Att=%{marker.size}<extra></extra>",
         "hovertext": [
          "BengalsBengals"
         ],
         "legendgroup": "BengalsBengals",
         "marker": {
          "color": "#FF97FF",
          "size": [
           59
          ],
          "sizemode": "area",
          "sizeref": 0.03166666666666667,
          "symbol": "circle"
         },
         "mode": "markers",
         "name": "BengalsBengals",
         "orientation": "v",
         "showlegend": true,
         "type": "scatter",
         "x": [
          222
         ],
         "xaxis": "x",
         "y": [
          0
         ],
         "yaxis": "y"
        },
        {
         "hovertemplate": "<b>%{hovertext}</b><br><br>Team=PackersPackers<br>Rush Yds=%{x}<br>TD=%{y}<br>Att=%{marker.size}<extra></extra>",
         "hovertext": [
          "PackersPackers"
         ],
         "legendgroup": "PackersPackers",
         "marker": {
          "color": "#FECB52",
          "size": [
           56
          ],
          "sizemode": "area",
          "sizeref": 0.03166666666666667,
          "symbol": "circle"
         },
         "mode": "markers",
         "name": "PackersPackers",
         "orientation": "v",
         "showlegend": true,
         "type": "scatter",
         "x": [
          314
         ],
         "xaxis": "x",
         "y": [
          2
         ],
         "yaxis": "y"
        },
        {
         "hovertemplate": "<b>%{hovertext}</b><br><br>Team=JaguarsJaguars<br>Rush Yds=%{x}<br>TD=%{y}<br>Att=%{marker.size}<extra></extra>",
         "hovertext": [
          "JaguarsJaguars"
         ],
         "legendgroup": "JaguarsJaguars",
         "marker": {
          "color": "#636efa",
          "size": [
           55
          ],
          "sizemode": "area",
          "sizeref": 0.03166666666666667,
          "symbol": "circle"
         },
         "mode": "markers",
         "name": "JaguarsJaguars",
         "orientation": "v",
         "showlegend": true,
         "type": "scatter",
         "x": [
          219
         ],
         "xaxis": "x",
         "y": [
          2
         ],
         "yaxis": "y"
        },
        {
         "hovertemplate": "<b>%{hovertext}</b><br><br>Team=ChargersChargers<br>Rush Yds=%{x}<br>TD=%{y}<br>Att=%{marker.size}<extra></extra>",
         "hovertext": [
          "ChargersChargers"
         ],
         "legendgroup": "ChargersChargers",
         "marker": {
          "color": "#EF553B",
          "size": [
           55
          ],
          "sizemode": "area",
          "sizeref": 0.03166666666666667,
          "symbol": "circle"
         },
         "mode": "markers",
         "name": "ChargersChargers",
         "orientation": "v",
         "showlegend": true,
         "type": "scatter",
         "x": [
          151
         ],
         "xaxis": "x",
         "y": [
          0
         ],
         "yaxis": "y"
        },
        {
         "hovertemplate": "<b>%{hovertext}</b><br><br>Team=TitansTitans<br>Rush Yds=%{x}<br>TD=%{y}<br>Att=%{marker.size}<extra></extra>",
         "hovertext": [
          "TitansTitans"
         ],
         "legendgroup": "TitansTitans",
         "marker": {
          "color": "#00cc96",
          "size": [
           53
          ],
          "sizemode": "area",
          "sizeref": 0.03166666666666667,
          "symbol": "circle"
         },
         "mode": "markers",
         "name": "TitansTitans",
         "orientation": "v",
         "showlegend": true,
         "type": "scatter",
         "x": [
          173
         ],
         "xaxis": "x",
         "y": [
          1
         ],
         "yaxis": "y"
        },
        {
         "hovertemplate": "<b>%{hovertext}</b><br><br>Team=PatriotsPatriots<br>Rush Yds=%{x}<br>TD=%{y}<br>Att=%{marker.size}<extra></extra>",
         "hovertext": [
          "PatriotsPatriots"
         ],
         "legendgroup": "PatriotsPatriots",
         "marker": {
          "color": "#ab63fa",
          "size": [
           53
          ],
          "sizemode": "area",
          "sizeref": 0.03166666666666667,
          "symbol": "circle"
         },
         "mode": "markers",
         "name": "PatriotsPatriots",
         "orientation": "v",
         "showlegend": true,
         "type": "scatter",
         "x": [
          202
         ],
         "xaxis": "x",
         "y": [
          1
         ],
         "yaxis": "y"
        },
        {
         "hovertemplate": "<b>%{hovertext}</b><br><br>Team=LionsLions<br>Rush Yds=%{x}<br>TD=%{y}<br>Att=%{marker.size}<extra></extra>",
         "hovertext": [
          "LionsLions"
         ],
         "legendgroup": "LionsLions",
         "marker": {
          "color": "#FFA15A",
          "size": [
           52
          ],
          "sizemode": "area",
          "sizeref": 0.03166666666666667,
          "symbol": "circle"
         },
         "mode": "markers",
         "name": "LionsLions",
         "orientation": "v",
         "showlegend": true,
         "type": "scatter",
         "x": [
          372
         ],
         "xaxis": "x",
         "y": [
          3
         ],
         "yaxis": "y"
        },
        {
         "hovertemplate": "<b>%{hovertext}</b><br><br>Team=BroncosBroncos<br>Rush Yds=%{x}<br>TD=%{y}<br>Att=%{marker.size}<extra></extra>",
         "hovertext": [
          "BroncosBroncos"
         ],
         "legendgroup": "BroncosBroncos",
         "marker": {
          "color": "#19d3f3",
          "size": [
           51
          ],
          "sizemode": "area",
          "sizeref": 0.03166666666666667,
          "symbol": "circle"
         },
         "mode": "markers",
         "name": "BroncosBroncos",
         "orientation": "v",
         "showlegend": true,
         "type": "scatter",
         "x": [
          252
         ],
         "xaxis": "x",
         "y": [
          0
         ],
         "yaxis": "y"
        },
        {
         "hovertemplate": "<b>%{hovertext}</b><br><br>Team=ColtsColts<br>Rush Yds=%{x}<br>TD=%{y}<br>Att=%{marker.size}<extra></extra>",
         "hovertext": [
          "ColtsColts"
         ],
         "legendgroup": "ColtsColts",
         "marker": {
          "color": "#FF6692",
          "size": [
           51
          ],
          "sizemode": "area",
          "sizeref": 0.03166666666666667,
          "symbol": "circle"
         },
         "mode": "markers",
         "name": "ColtsColts",
         "orientation": "v",
         "showlegend": true,
         "type": "scatter",
         "x": [
          231
         ],
         "xaxis": "x",
         "y": [
          1
         ],
         "yaxis": "y"
        },
        {
         "hovertemplate": "<b>%{hovertext}</b><br><br>Team=CardinalsCardinals<br>Rush Yds=%{x}<br>TD=%{y}<br>Att=%{marker.size}<extra></extra>",
         "hovertext": [
          "CardinalsCardinals"
         ],
         "legendgroup": "CardinalsCardinals",
         "marker": {
          "color": "#B6E880",
          "size": [
           50
          ],
          "sizemode": "area",
          "sizeref": 0.03166666666666667,
          "symbol": "circle"
         },
         "mode": "markers",
         "name": "CardinalsCardinals",
         "orientation": "v",
         "showlegend": true,
         "type": "scatter",
         "x": [
          246
         ],
         "xaxis": "x",
         "y": [
          3
         ],
         "yaxis": "y"
        },
        {
         "hovertemplate": "<b>%{hovertext}</b><br><br>Team=BillsBills<br>Rush Yds=%{x}<br>TD=%{y}<br>Att=%{marker.size}<extra></extra>",
         "hovertext": [
          "BillsBills"
         ],
         "legendgroup": "BillsBills",
         "marker": {
          "color": "#FF97FF",
          "size": [
           49
          ],
          "sizemode": "area",
          "sizeref": 0.03166666666666667,
          "symbol": "circle"
         },
         "mode": "markers",
         "name": "BillsBills",
         "orientation": "v",
         "showlegend": true,
         "type": "scatter",
         "x": [
          222
         ],
         "xaxis": "x",
         "y": [
          1
         ],
         "yaxis": "y"
        },
        {
         "hovertemplate": "<b>%{hovertext}</b><br><br>Team=CommandersCommanders<br>Rush Yds=%{x}<br>TD=%{y}<br>Att=%{marker.size}<extra></extra>",
         "hovertext": [
          "CommandersCommanders"
         ],
         "legendgroup": "CommandersCommanders",
         "marker": {
          "color": "#FECB52",
          "size": [
           49
          ],
          "sizemode": "area",
          "sizeref": 0.03166666666666667,
          "symbol": "circle"
         },
         "mode": "markers",
         "name": "CommandersCommanders",
         "orientation": "v",
         "showlegend": true,
         "type": "scatter",
         "x": [
          173
         ],
         "xaxis": "x",
         "y": [
          1
         ],
         "yaxis": "y"
        },
        {
         "hovertemplate": "<b>%{hovertext}</b><br><br>Team=RavensRavens<br>Rush Yds=%{x}<br>TD=%{y}<br>Att=%{marker.size}<extra></extra>",
         "hovertext": [
          "RavensRavens"
         ],
         "legendgroup": "RavensRavens",
         "marker": {
          "color": "#636efa",
          "size": [
           46
          ],
          "sizemode": "area",
          "sizeref": 0.03166666666666667,
          "symbol": "circle"
         },
         "mode": "markers",
         "name": "RavensRavens",
         "orientation": "v",
         "showlegend": true,
         "type": "scatter",
         "x": [
          218
         ],
         "xaxis": "x",
         "y": [
          1
         ],
         "yaxis": "y"
        },
        {
         "hovertemplate": "<b>%{hovertext}</b><br><br>Team=TexansTexans<br>Rush Yds=%{x}<br>TD=%{y}<br>Att=%{marker.size}<extra></extra>",
         "hovertext": [
          "TexansTexans"
         ],
         "legendgroup": "TexansTexans",
         "marker": {
          "color": "#EF553B",
          "size": [
           46
          ],
          "sizemode": "area",
          "sizeref": 0.03166666666666667,
          "symbol": "circle"
         },
         "mode": "markers",
         "name": "TexansTexans",
         "orientation": "v",
         "showlegend": true,
         "type": "scatter",
         "x": [
          157
         ],
         "xaxis": "x",
         "y": [
          0
         ],
         "yaxis": "y"
        },
        {
         "hovertemplate": "<b>%{hovertext}</b><br><br>Team=CowboysCowboys<br>Rush Yds=%{x}<br>TD=%{y}<br>Att=%{marker.size}<extra></extra>",
         "hovertext": [
          "CowboysCowboys"
         ],
         "legendgroup": "CowboysCowboys",
         "marker": {
          "color": "#00cc96",
          "size": [
           45
          ],
          "sizemode": "area",
          "sizeref": 0.03166666666666667,
          "symbol": "circle"
         },
         "mode": "markers",
         "name": "CowboysCowboys",
         "orientation": "v",
         "showlegend": true,
         "type": "scatter",
         "x": [
          178
         ],
         "xaxis": "x",
         "y": [
          1
         ],
         "yaxis": "y"
        },
        {
         "hovertemplate": "<b>%{hovertext}</b><br><br>Team=ChiefsChiefs<br>Rush Yds=%{x}<br>TD=%{y}<br>Att=%{marker.size}<extra></extra>",
         "hovertext": [
          "ChiefsChiefs"
         ],
         "legendgroup": "ChiefsChiefs",
         "marker": {
          "color": "#ab63fa",
          "size": [
           45
          ],
          "sizemode": "area",
          "sizeref": 0.03166666666666667,
          "symbol": "circle"
         },
         "mode": "markers",
         "name": "ChiefsChiefs",
         "orientation": "v",
         "showlegend": true,
         "type": "scatter",
         "x": [
          221
         ],
         "xaxis": "x",
         "y": [
          1
         ],
         "yaxis": "y"
        },
        {
         "hovertemplate": "<b>%{hovertext}</b><br><br>Team=RamsRams<br>Rush Yds=%{x}<br>TD=%{y}<br>Att=%{marker.size}<extra></extra>",
         "hovertext": [
          "RamsRams"
         ],
         "legendgroup": "RamsRams",
         "marker": {
          "color": "#FFA15A",
          "size": [
           44
          ],
          "sizemode": "area",
          "sizeref": 0.03166666666666667,
          "symbol": "circle"
         },
         "mode": "markers",
         "name": "RamsRams",
         "orientation": "v",
         "showlegend": true,
         "type": "scatter",
         "x": [
          117
         ],
         "xaxis": "x",
         "y": [
          1
         ],
         "yaxis": "y"
        },
        {
         "hovertemplate": "<b>%{hovertext}</b><br><br>Team=PanthersPanthers<br>Rush Yds=%{x}<br>TD=%{y}<br>Att=%{marker.size}<extra></extra>",
         "hovertext": [
          "PanthersPanthers"
         ],
         "legendgroup": "PanthersPanthers",
         "marker": {
          "color": "#19d3f3",
          "size": [
           42
          ],
          "sizemode": "area",
          "sizeref": 0.03166666666666667,
          "symbol": "circle"
         },
         "mode": "markers",
         "name": "PanthersPanthers",
         "orientation": "v",
         "showlegend": true,
         "type": "scatter",
         "x": [
          200
         ],
         "xaxis": "x",
         "y": [
          2
         ],
         "yaxis": "y"
        },
        {
         "hovertemplate": "<b>%{hovertext}</b><br><br>Team=DolphinsDolphins<br>Rush Yds=%{x}<br>TD=%{y}<br>Att=%{marker.size}<extra></extra>",
         "hovertext": [
          "DolphinsDolphins"
         ],
         "legendgroup": "DolphinsDolphins",
         "marker": {
          "color": "#FF6692",
          "size": [
           41
          ],
          "sizemode": "area",
          "sizeref": 0.03166666666666667,
          "symbol": "circle"
         },
         "mode": "markers",
         "name": "DolphinsDolphins",
         "orientation": "v",
         "showlegend": true,
         "type": "scatter",
         "x": [
          151
         ],
         "xaxis": "x",
         "y": [
          0
         ],
         "yaxis": "y"
        },
        {
         "hovertemplate": "<b>%{hovertext}</b><br><br>Team=VikingsVikings<br>Rush Yds=%{x}<br>TD=%{y}<br>Att=%{marker.size}<extra></extra>",
         "hovertext": [
          "VikingsVikings"
         ],
         "legendgroup": "VikingsVikings",
         "marker": {
          "color": "#B6E880",
          "size": [
           39
          ],
          "sizemode": "area",
          "sizeref": 0.03166666666666667,
          "symbol": "circle"
         },
         "mode": "markers",
         "name": "VikingsVikings",
         "orientation": "v",
         "showlegend": true,
         "type": "scatter",
         "x": [
          188
         ],
         "xaxis": "x",
         "y": [
          0
         ],
         "yaxis": "y"
        },
        {
         "hovertemplate": "<b>%{hovertext}</b><br><br>Team=SaintsSaints<br>Rush Yds=%{x}<br>TD=%{y}<br>Att=%{marker.size}<extra></extra>",
         "hovertext": [
          "SaintsSaints"
         ],
         "legendgroup": "SaintsSaints",
         "marker": {
          "color": "#FF97FF",
          "size": [
           39
          ],
          "sizemode": "area",
          "sizeref": 0.03166666666666667,
          "symbol": "circle"
         },
         "mode": "markers",
         "name": "SaintsSaints",
         "orientation": "v",
         "showlegend": true,
         "type": "scatter",
         "x": [
          251
         ],
         "xaxis": "x",
         "y": [
          1
         ],
         "yaxis": "y"
        },
        {
         "hovertemplate": "<b>%{hovertext}</b><br><br>Team=JetsJets<br>Rush Yds=%{x}<br>TD=%{y}<br>Att=%{marker.size}<extra></extra>",
         "hovertext": [
          "JetsJets"
         ],
         "legendgroup": "JetsJets",
         "marker": {
          "color": "#FECB52",
          "size": [
           37
          ],
          "sizemode": "area",
          "sizeref": 0.03166666666666667,
          "symbol": "circle"
         },
         "mode": "markers",
         "name": "JetsJets",
         "orientation": "v",
         "showlegend": true,
         "type": "scatter",
         "x": [
          176
         ],
         "xaxis": "x",
         "y": [
          0
         ],
         "yaxis": "y"
        },
        {
         "hovertemplate": "<b>%{hovertext}</b><br><br>Team=RaidersRaiders<br>Rush Yds=%{x}<br>TD=%{y}<br>Att=%{marker.size}<extra></extra>",
         "hovertext": [
          "RaidersRaiders"
         ],
         "legendgroup": "RaidersRaiders",
         "marker": {
          "color": "#636efa",
          "size": [
           34
          ],
          "sizemode": "area",
          "sizeref": 0.03166666666666667,
          "symbol": "circle"
         },
         "mode": "markers",
         "name": "RaidersRaiders",
         "orientation": "v",
         "showlegend": true,
         "type": "scatter",
         "x": [
          144
         ],
         "xaxis": "x",
         "y": [
          0
         ],
         "yaxis": "y"
        },
        {
         "hovertemplate": "<b>%{hovertext}</b><br><br>Team=SeahawksSeahawks<br>Rush Yds=%{x}<br>TD=%{y}<br>Att=%{marker.size}<extra></extra>",
         "hovertext": [
          "SeahawksSeahawks"
         ],
         "legendgroup": "SeahawksSeahawks",
         "marker": {
          "color": "#EF553B",
          "size": [
           33
          ],
          "sizemode": "area",
          "sizeref": 0.03166666666666667,
          "symbol": "circle"
         },
         "mode": "markers",
         "name": "SeahawksSeahawks",
         "orientation": "v",
         "showlegend": true,
         "type": "scatter",
         "x": [
          112
         ],
         "xaxis": "x",
         "y": [
          0
         ],
         "yaxis": "y"
        }
       ],
       "layout": {
        "legend": {
         "itemsizing": "constant",
         "title": {
          "text": "Team"
         },
         "tracegroupgap": 0
        },
        "margin": {
         "t": 60
        },
        "template": {
         "data": {
          "bar": [
           {
            "error_x": {
             "color": "#2a3f5f"
            },
            "error_y": {
             "color": "#2a3f5f"
            },
            "marker": {
             "line": {
              "color": "#E5ECF6",
              "width": 0.5
             },
             "pattern": {
              "fillmode": "overlay",
              "size": 10,
              "solidity": 0.2
             }
            },
            "type": "bar"
           }
          ],
          "barpolar": [
           {
            "marker": {
             "line": {
              "color": "#E5ECF6",
              "width": 0.5
             },
             "pattern": {
              "fillmode": "overlay",
              "size": 10,
              "solidity": 0.2
             }
            },
            "type": "barpolar"
           }
          ],
          "carpet": [
           {
            "aaxis": {
             "endlinecolor": "#2a3f5f",
             "gridcolor": "white",
             "linecolor": "white",
             "minorgridcolor": "white",
             "startlinecolor": "#2a3f5f"
            },
            "baxis": {
             "endlinecolor": "#2a3f5f",
             "gridcolor": "white",
             "linecolor": "white",
             "minorgridcolor": "white",
             "startlinecolor": "#2a3f5f"
            },
            "type": "carpet"
           }
          ],
          "choropleth": [
           {
            "colorbar": {
             "outlinewidth": 0,
             "ticks": ""
            },
            "type": "choropleth"
           }
          ],
          "contour": [
           {
            "colorbar": {
             "outlinewidth": 0,
             "ticks": ""
            },
            "colorscale": [
             [
              0,
              "#0d0887"
             ],
             [
              0.1111111111111111,
              "#46039f"
             ],
             [
              0.2222222222222222,
              "#7201a8"
             ],
             [
              0.3333333333333333,
              "#9c179e"
             ],
             [
              0.4444444444444444,
              "#bd3786"
             ],
             [
              0.5555555555555556,
              "#d8576b"
             ],
             [
              0.6666666666666666,
              "#ed7953"
             ],
             [
              0.7777777777777778,
              "#fb9f3a"
             ],
             [
              0.8888888888888888,
              "#fdca26"
             ],
             [
              1,
              "#f0f921"
             ]
            ],
            "type": "contour"
           }
          ],
          "contourcarpet": [
           {
            "colorbar": {
             "outlinewidth": 0,
             "ticks": ""
            },
            "type": "contourcarpet"
           }
          ],
          "heatmap": [
           {
            "colorbar": {
             "outlinewidth": 0,
             "ticks": ""
            },
            "colorscale": [
             [
              0,
              "#0d0887"
             ],
             [
              0.1111111111111111,
              "#46039f"
             ],
             [
              0.2222222222222222,
              "#7201a8"
             ],
             [
              0.3333333333333333,
              "#9c179e"
             ],
             [
              0.4444444444444444,
              "#bd3786"
             ],
             [
              0.5555555555555556,
              "#d8576b"
             ],
             [
              0.6666666666666666,
              "#ed7953"
             ],
             [
              0.7777777777777778,
              "#fb9f3a"
             ],
             [
              0.8888888888888888,
              "#fdca26"
             ],
             [
              1,
              "#f0f921"
             ]
            ],
            "type": "heatmap"
           }
          ],
          "heatmapgl": [
           {
            "colorbar": {
             "outlinewidth": 0,
             "ticks": ""
            },
            "colorscale": [
             [
              0,
              "#0d0887"
             ],
             [
              0.1111111111111111,
              "#46039f"
             ],
             [
              0.2222222222222222,
              "#7201a8"
             ],
             [
              0.3333333333333333,
              "#9c179e"
             ],
             [
              0.4444444444444444,
              "#bd3786"
             ],
             [
              0.5555555555555556,
              "#d8576b"
             ],
             [
              0.6666666666666666,
              "#ed7953"
             ],
             [
              0.7777777777777778,
              "#fb9f3a"
             ],
             [
              0.8888888888888888,
              "#fdca26"
             ],
             [
              1,
              "#f0f921"
             ]
            ],
            "type": "heatmapgl"
           }
          ],
          "histogram": [
           {
            "marker": {
             "pattern": {
              "fillmode": "overlay",
              "size": 10,
              "solidity": 0.2
             }
            },
            "type": "histogram"
           }
          ],
          "histogram2d": [
           {
            "colorbar": {
             "outlinewidth": 0,
             "ticks": ""
            },
            "colorscale": [
             [
              0,
              "#0d0887"
             ],
             [
              0.1111111111111111,
              "#46039f"
             ],
             [
              0.2222222222222222,
              "#7201a8"
             ],
             [
              0.3333333333333333,
              "#9c179e"
             ],
             [
              0.4444444444444444,
              "#bd3786"
             ],
             [
              0.5555555555555556,
              "#d8576b"
             ],
             [
              0.6666666666666666,
              "#ed7953"
             ],
             [
              0.7777777777777778,
              "#fb9f3a"
             ],
             [
              0.8888888888888888,
              "#fdca26"
             ],
             [
              1,
              "#f0f921"
             ]
            ],
            "type": "histogram2d"
           }
          ],
          "histogram2dcontour": [
           {
            "colorbar": {
             "outlinewidth": 0,
             "ticks": ""
            },
            "colorscale": [
             [
              0,
              "#0d0887"
             ],
             [
              0.1111111111111111,
              "#46039f"
             ],
             [
              0.2222222222222222,
              "#7201a8"
             ],
             [
              0.3333333333333333,
              "#9c179e"
             ],
             [
              0.4444444444444444,
              "#bd3786"
             ],
             [
              0.5555555555555556,
              "#d8576b"
             ],
             [
              0.6666666666666666,
              "#ed7953"
             ],
             [
              0.7777777777777778,
              "#fb9f3a"
             ],
             [
              0.8888888888888888,
              "#fdca26"
             ],
             [
              1,
              "#f0f921"
             ]
            ],
            "type": "histogram2dcontour"
           }
          ],
          "mesh3d": [
           {
            "colorbar": {
             "outlinewidth": 0,
             "ticks": ""
            },
            "type": "mesh3d"
           }
          ],
          "parcoords": [
           {
            "line": {
             "colorbar": {
              "outlinewidth": 0,
              "ticks": ""
             }
            },
            "type": "parcoords"
           }
          ],
          "pie": [
           {
            "automargin": true,
            "type": "pie"
           }
          ],
          "scatter": [
           {
            "fillpattern": {
             "fillmode": "overlay",
             "size": 10,
             "solidity": 0.2
            },
            "type": "scatter"
           }
          ],
          "scatter3d": [
           {
            "line": {
             "colorbar": {
              "outlinewidth": 0,
              "ticks": ""
             }
            },
            "marker": {
             "colorbar": {
              "outlinewidth": 0,
              "ticks": ""
             }
            },
            "type": "scatter3d"
           }
          ],
          "scattercarpet": [
           {
            "marker": {
             "colorbar": {
              "outlinewidth": 0,
              "ticks": ""
             }
            },
            "type": "scattercarpet"
           }
          ],
          "scattergeo": [
           {
            "marker": {
             "colorbar": {
              "outlinewidth": 0,
              "ticks": ""
             }
            },
            "type": "scattergeo"
           }
          ],
          "scattergl": [
           {
            "marker": {
             "colorbar": {
              "outlinewidth": 0,
              "ticks": ""
             }
            },
            "type": "scattergl"
           }
          ],
          "scattermapbox": [
           {
            "marker": {
             "colorbar": {
              "outlinewidth": 0,
              "ticks": ""
             }
            },
            "type": "scattermapbox"
           }
          ],
          "scatterpolar": [
           {
            "marker": {
             "colorbar": {
              "outlinewidth": 0,
              "ticks": ""
             }
            },
            "type": "scatterpolar"
           }
          ],
          "scatterpolargl": [
           {
            "marker": {
             "colorbar": {
              "outlinewidth": 0,
              "ticks": ""
             }
            },
            "type": "scatterpolargl"
           }
          ],
          "scatterternary": [
           {
            "marker": {
             "colorbar": {
              "outlinewidth": 0,
              "ticks": ""
             }
            },
            "type": "scatterternary"
           }
          ],
          "surface": [
           {
            "colorbar": {
             "outlinewidth": 0,
             "ticks": ""
            },
            "colorscale": [
             [
              0,
              "#0d0887"
             ],
             [
              0.1111111111111111,
              "#46039f"
             ],
             [
              0.2222222222222222,
              "#7201a8"
             ],
             [
              0.3333333333333333,
              "#9c179e"
             ],
             [
              0.4444444444444444,
              "#bd3786"
             ],
             [
              0.5555555555555556,
              "#d8576b"
             ],
             [
              0.6666666666666666,
              "#ed7953"
             ],
             [
              0.7777777777777778,
              "#fb9f3a"
             ],
             [
              0.8888888888888888,
              "#fdca26"
             ],
             [
              1,
              "#f0f921"
             ]
            ],
            "type": "surface"
           }
          ],
          "table": [
           {
            "cells": {
             "fill": {
              "color": "#EBF0F8"
             },
             "line": {
              "color": "white"
             }
            },
            "header": {
             "fill": {
              "color": "#C8D4E3"
             },
             "line": {
              "color": "white"
             }
            },
            "type": "table"
           }
          ]
         },
         "layout": {
          "annotationdefaults": {
           "arrowcolor": "#2a3f5f",
           "arrowhead": 0,
           "arrowwidth": 1
          },
          "autotypenumbers": "strict",
          "coloraxis": {
           "colorbar": {
            "outlinewidth": 0,
            "ticks": ""
           }
          },
          "colorscale": {
           "diverging": [
            [
             0,
             "#8e0152"
            ],
            [
             0.1,
             "#c51b7d"
            ],
            [
             0.2,
             "#de77ae"
            ],
            [
             0.3,
             "#f1b6da"
            ],
            [
             0.4,
             "#fde0ef"
            ],
            [
             0.5,
             "#f7f7f7"
            ],
            [
             0.6,
             "#e6f5d0"
            ],
            [
             0.7,
             "#b8e186"
            ],
            [
             0.8,
             "#7fbc41"
            ],
            [
             0.9,
             "#4d9221"
            ],
            [
             1,
             "#276419"
            ]
           ],
           "sequential": [
            [
             0,
             "#0d0887"
            ],
            [
             0.1111111111111111,
             "#46039f"
            ],
            [
             0.2222222222222222,
             "#7201a8"
            ],
            [
             0.3333333333333333,
             "#9c179e"
            ],
            [
             0.4444444444444444,
             "#bd3786"
            ],
            [
             0.5555555555555556,
             "#d8576b"
            ],
            [
             0.6666666666666666,
             "#ed7953"
            ],
            [
             0.7777777777777778,
             "#fb9f3a"
            ],
            [
             0.8888888888888888,
             "#fdca26"
            ],
            [
             1,
             "#f0f921"
            ]
           ],
           "sequentialminus": [
            [
             0,
             "#0d0887"
            ],
            [
             0.1111111111111111,
             "#46039f"
            ],
            [
             0.2222222222222222,
             "#7201a8"
            ],
            [
             0.3333333333333333,
             "#9c179e"
            ],
            [
             0.4444444444444444,
             "#bd3786"
            ],
            [
             0.5555555555555556,
             "#d8576b"
            ],
            [
             0.6666666666666666,
             "#ed7953"
            ],
            [
             0.7777777777777778,
             "#fb9f3a"
            ],
            [
             0.8888888888888888,
             "#fdca26"
            ],
            [
             1,
             "#f0f921"
            ]
           ]
          },
          "colorway": [
           "#636efa",
           "#EF553B",
           "#00cc96",
           "#ab63fa",
           "#FFA15A",
           "#19d3f3",
           "#FF6692",
           "#B6E880",
           "#FF97FF",
           "#FECB52"
          ],
          "font": {
           "color": "#2a3f5f"
          },
          "geo": {
           "bgcolor": "white",
           "lakecolor": "white",
           "landcolor": "#E5ECF6",
           "showlakes": true,
           "showland": true,
           "subunitcolor": "white"
          },
          "hoverlabel": {
           "align": "left"
          },
          "hovermode": "closest",
          "mapbox": {
           "style": "light"
          },
          "paper_bgcolor": "white",
          "plot_bgcolor": "#E5ECF6",
          "polar": {
           "angularaxis": {
            "gridcolor": "white",
            "linecolor": "white",
            "ticks": ""
           },
           "bgcolor": "#E5ECF6",
           "radialaxis": {
            "gridcolor": "white",
            "linecolor": "white",
            "ticks": ""
           }
          },
          "scene": {
           "xaxis": {
            "backgroundcolor": "#E5ECF6",
            "gridcolor": "white",
            "gridwidth": 2,
            "linecolor": "white",
            "showbackground": true,
            "ticks": "",
            "zerolinecolor": "white"
           },
           "yaxis": {
            "backgroundcolor": "#E5ECF6",
            "gridcolor": "white",
            "gridwidth": 2,
            "linecolor": "white",
            "showbackground": true,
            "ticks": "",
            "zerolinecolor": "white"
           },
           "zaxis": {
            "backgroundcolor": "#E5ECF6",
            "gridcolor": "white",
            "gridwidth": 2,
            "linecolor": "white",
            "showbackground": true,
            "ticks": "",
            "zerolinecolor": "white"
           }
          },
          "shapedefaults": {
           "line": {
            "color": "#2a3f5f"
           }
          },
          "ternary": {
           "aaxis": {
            "gridcolor": "white",
            "linecolor": "white",
            "ticks": ""
           },
           "baxis": {
            "gridcolor": "white",
            "linecolor": "white",
            "ticks": ""
           },
           "bgcolor": "#E5ECF6",
           "caxis": {
            "gridcolor": "white",
            "linecolor": "white",
            "ticks": ""
           }
          },
          "title": {
           "x": 0.05
          },
          "xaxis": {
           "automargin": true,
           "gridcolor": "white",
           "linecolor": "white",
           "ticks": "",
           "title": {
            "standoff": 15
           },
           "zerolinecolor": "white",
           "zerolinewidth": 2
          },
          "yaxis": {
           "automargin": true,
           "gridcolor": "white",
           "linecolor": "white",
           "ticks": "",
           "title": {
            "standoff": 15
           },
           "zerolinecolor": "white",
           "zerolinewidth": 2
          }
         }
        },
        "xaxis": {
         "anchor": "y",
         "domain": [
          0,
          1
         ],
         "title": {
          "text": "Rush Yds"
         }
        },
        "yaxis": {
         "anchor": "x",
         "domain": [
          0,
          1
         ],
         "title": {
          "text": "TD"
         }
        }
       }
      }
     },
     "metadata": {},
     "output_type": "display_data"
    }
   ],
   "source": [
    "px.scatter(rushing_df, x='Rush Yds', y='TD', color='Team', size='Att', hover_name='Team', size_max=60)"
   ]
  },
  {
   "cell_type": "code",
   "execution_count": 12,
   "metadata": {},
   "outputs": [
    {
     "data": {
      "application/vnd.plotly.v1+json": {
       "config": {
        "plotlyServerURL": "https://plot.ly"
       },
       "data": [
        {
         "hovertemplate": "<b>%{hovertext}</b><br><br>Team=EaglesEagles<br>Rec TD=%{x}<br>Rsh TD=%{y}<br>Tot TD=%{marker.size}<extra></extra>",
         "hovertext": [
          "EaglesEagles"
         ],
         "legendgroup": "EaglesEagles",
         "marker": {
          "color": "#636efa",
          "size": [
           8
          ],
          "sizemode": "area",
          "sizeref": 0.0025,
          "symbol": "circle"
         },
         "mode": "markers",
         "name": "EaglesEagles",
         "orientation": "v",
         "showlegend": true,
         "type": "scatter",
         "x": [
          1
         ],
         "xaxis": "x",
         "y": [
          6
         ],
         "yaxis": "y"
        },
        {
         "hovertemplate": "<b>%{hovertext}</b><br><br>Team=BrownsBrowns<br>Rec TD=%{x}<br>Rsh TD=%{y}<br>Tot TD=%{marker.size}<extra></extra>",
         "hovertext": [
          "BrownsBrowns"
         ],
         "legendgroup": "BrownsBrowns",
         "marker": {
          "color": "#EF553B",
          "size": [
           9
          ],
          "sizemode": "area",
          "sizeref": 0.0025,
          "symbol": "circle"
         },
         "mode": "markers",
         "name": "BrownsBrowns",
         "orientation": "v",
         "showlegend": true,
         "type": "scatter",
         "x": [
          4
         ],
         "xaxis": "x",
         "y": [
          5
         ],
         "yaxis": "y"
        },
        {
         "hovertemplate": "<b>%{hovertext}</b><br><br>Team=LionsLions<br>Rec TD=%{x}<br>Rsh TD=%{y}<br>Tot TD=%{marker.size}<extra></extra>",
         "hovertext": [
          "LionsLions"
         ],
         "legendgroup": "LionsLions",
         "marker": {
          "color": "#00cc96",
          "size": [
           9
          ],
          "sizemode": "area",
          "sizeref": 0.0025,
          "symbol": "circle"
         },
         "mode": "markers",
         "name": "LionsLions",
         "orientation": "v",
         "showlegend": true,
         "type": "scatter",
         "x": [
          6
         ],
         "xaxis": "x",
         "y": [
          3
         ],
         "yaxis": "y"
        },
        {
         "hovertemplate": "<b>%{hovertext}</b><br><br>Team=CardinalsCardinals<br>Rec TD=%{x}<br>Rsh TD=%{y}<br>Tot TD=%{marker.size}<extra></extra>",
         "hovertext": [
          "CardinalsCardinals"
         ],
         "legendgroup": "CardinalsCardinals",
         "marker": {
          "color": "#ab63fa",
          "size": [
           6
          ],
          "sizemode": "area",
          "sizeref": 0.0025,
          "symbol": "circle"
         },
         "mode": "markers",
         "name": "CardinalsCardinals",
         "orientation": "v",
         "showlegend": true,
         "type": "scatter",
         "x": [
          3
         ],
         "xaxis": "x",
         "y": [
          3
         ],
         "yaxis": "y"
        },
        {
         "hovertemplate": "<b>%{hovertext}</b><br><br>Team=49ers49ers<br>Rec TD=%{x}<br>Rsh TD=%{y}<br>Tot TD=%{marker.size}<extra></extra>",
         "hovertext": [
          "49ers49ers"
         ],
         "legendgroup": "49ers49ers",
         "marker": {
          "color": "#FFA15A",
          "size": [
           4
          ],
          "sizemode": "area",
          "sizeref": 0.0025,
          "symbol": "circle"
         },
         "mode": "markers",
         "name": "49ers49ers",
         "orientation": "v",
         "showlegend": true,
         "type": "scatter",
         "x": [
          1
         ],
         "xaxis": "x",
         "y": [
          3
         ],
         "yaxis": "y"
        },
        {
         "hovertemplate": "<b>%{hovertext}</b><br><br>Team=FalconsFalcons<br>Rec TD=%{x}<br>Rsh TD=%{y}<br>Tot TD=%{marker.size}<extra></extra>",
         "hovertext": [
          "FalconsFalcons"
         ],
         "legendgroup": "FalconsFalcons",
         "marker": {
          "color": "#19d3f3",
          "size": [
           5
          ],
          "sizemode": "area",
          "sizeref": 0.0025,
          "symbol": "circle"
         },
         "mode": "markers",
         "name": "FalconsFalcons",
         "orientation": "v",
         "showlegend": true,
         "type": "scatter",
         "x": [
          2
         ],
         "xaxis": "x",
         "y": [
          2
         ],
         "yaxis": "y"
        },
        {
         "hovertemplate": "<b>%{hovertext}</b><br><br>Team=PanthersPanthers<br>Rec TD=%{x}<br>Rsh TD=%{y}<br>Tot TD=%{marker.size}<extra></extra>",
         "hovertext": [
          "PanthersPanthers"
         ],
         "legendgroup": "PanthersPanthers",
         "marker": {
          "color": "#FF6692",
          "size": [
           4
          ],
          "sizemode": "area",
          "sizeref": 0.0025,
          "symbol": "circle"
         },
         "mode": "markers",
         "name": "PanthersPanthers",
         "orientation": "v",
         "showlegend": true,
         "type": "scatter",
         "x": [
          2
         ],
         "xaxis": "x",
         "y": [
          2
         ],
         "yaxis": "y"
        },
        {
         "hovertemplate": "<b>%{hovertext}</b><br><br>Team=BearsBears<br>Rec TD=%{x}<br>Rsh TD=%{y}<br>Tot TD=%{marker.size}<extra></extra>",
         "hovertext": [
          "BearsBears"
         ],
         "legendgroup": "BearsBears",
         "marker": {
          "color": "#B6E880",
          "size": [
           4
          ],
          "sizemode": "area",
          "sizeref": 0.0025,
          "symbol": "circle"
         },
         "mode": "markers",
         "name": "BearsBears",
         "orientation": "v",
         "showlegend": true,
         "type": "scatter",
         "x": [
          2
         ],
         "xaxis": "x",
         "y": [
          2
         ],
         "yaxis": "y"
        },
        {
         "hovertemplate": "<b>%{hovertext}</b><br><br>Team=PackersPackers<br>Rec TD=%{x}<br>Rsh TD=%{y}<br>Tot TD=%{marker.size}<extra></extra>",
         "hovertext": [
          "PackersPackers"
         ],
         "legendgroup": "PackersPackers",
         "marker": {
          "color": "#FF97FF",
          "size": [
           4
          ],
          "sizemode": "area",
          "sizeref": 0.0025,
          "symbol": "circle"
         },
         "mode": "markers",
         "name": "PackersPackers",
         "orientation": "v",
         "showlegend": true,
         "type": "scatter",
         "x": [
          2
         ],
         "xaxis": "x",
         "y": [
          2
         ],
         "yaxis": "y"
        },
        {
         "hovertemplate": "<b>%{hovertext}</b><br><br>Team=JaguarsJaguars<br>Rec TD=%{x}<br>Rsh TD=%{y}<br>Tot TD=%{marker.size}<extra></extra>",
         "hovertext": [
          "JaguarsJaguars"
         ],
         "legendgroup": "JaguarsJaguars",
         "marker": {
          "color": "#FECB52",
          "size": [
           5
          ],
          "sizemode": "area",
          "sizeref": 0.0025,
          "symbol": "circle"
         },
         "mode": "markers",
         "name": "JaguarsJaguars",
         "orientation": "v",
         "showlegend": true,
         "type": "scatter",
         "x": [
          3
         ],
         "xaxis": "x",
         "y": [
          2
         ],
         "yaxis": "y"
        },
        {
         "hovertemplate": "<b>%{hovertext}</b><br><br>Team=SteelersSteelers<br>Rec TD=%{x}<br>Rsh TD=%{y}<br>Tot TD=%{marker.size}<extra></extra>",
         "hovertext": [
          "SteelersSteelers"
         ],
         "legendgroup": "SteelersSteelers",
         "marker": {
          "color": "#636efa",
          "size": [
           5
          ],
          "sizemode": "area",
          "sizeref": 0.0025,
          "symbol": "circle"
         },
         "mode": "markers",
         "name": "SteelersSteelers",
         "orientation": "v",
         "showlegend": true,
         "type": "scatter",
         "x": [
          2
         ],
         "xaxis": "x",
         "y": [
          2
         ],
         "yaxis": "y"
        },
        {
         "hovertemplate": "<b>%{hovertext}</b><br><br>Team=RavensRavens<br>Rec TD=%{x}<br>Rsh TD=%{y}<br>Tot TD=%{marker.size}<extra></extra>",
         "hovertext": [
          "RavensRavens"
         ],
         "legendgroup": "RavensRavens",
         "marker": {
          "color": "#EF553B",
          "size": [
           8
          ],
          "sizemode": "area",
          "sizeref": 0.0025,
          "symbol": "circle"
         },
         "mode": "markers",
         "name": "RavensRavens",
         "orientation": "v",
         "showlegend": true,
         "type": "scatter",
         "x": [
          6
         ],
         "xaxis": "x",
         "y": [
          1
         ],
         "yaxis": "y"
        },
        {
         "hovertemplate": "<b>%{hovertext}</b><br><br>Team=BillsBills<br>Rec TD=%{x}<br>Rsh TD=%{y}<br>Tot TD=%{marker.size}<extra></extra>",
         "hovertext": [
          "BillsBills"
         ],
         "legendgroup": "BillsBills",
         "marker": {
          "color": "#00cc96",
          "size": [
           9
          ],
          "sizemode": "area",
          "sizeref": 0.0025,
          "symbol": "circle"
         },
         "mode": "markers",
         "name": "BillsBills",
         "orientation": "v",
         "showlegend": true,
         "type": "scatter",
         "x": [
          7
         ],
         "xaxis": "x",
         "y": [
          1
         ],
         "yaxis": "y"
        },
        {
         "hovertemplate": "<b>%{hovertext}</b><br><br>Team=CowboysCowboys<br>Rec TD=%{x}<br>Rsh TD=%{y}<br>Tot TD=%{marker.size}<extra></extra>",
         "hovertext": [
          "CowboysCowboys"
         ],
         "legendgroup": "CowboysCowboys",
         "marker": {
          "color": "#ab63fa",
          "size": [
           2
          ],
          "sizemode": "area",
          "sizeref": 0.0025,
          "symbol": "circle"
         },
         "mode": "markers",
         "name": "CowboysCowboys",
         "orientation": "v",
         "showlegend": true,
         "type": "scatter",
         "x": [
          1
         ],
         "xaxis": "x",
         "y": [
          1
         ],
         "yaxis": "y"
        },
        {
         "hovertemplate": "<b>%{hovertext}</b><br><br>Team=TitansTitans<br>Rec TD=%{x}<br>Rsh TD=%{y}<br>Tot TD=%{marker.size}<extra></extra>",
         "hovertext": [
          "TitansTitans"
         ],
         "legendgroup": "TitansTitans",
         "marker": {
          "color": "#FFA15A",
          "size": [
           3
          ],
          "sizemode": "area",
          "sizeref": 0.0025,
          "symbol": "circle"
         },
         "mode": "markers",
         "name": "TitansTitans",
         "orientation": "v",
         "showlegend": true,
         "type": "scatter",
         "x": [
          2
         ],
         "xaxis": "x",
         "y": [
          1
         ],
         "yaxis": "y"
        },
        {
         "hovertemplate": "<b>%{hovertext}</b><br><br>Team=ColtsColts<br>Rec TD=%{x}<br>Rsh TD=%{y}<br>Tot TD=%{marker.size}<extra></extra>",
         "hovertext": [
          "ColtsColts"
         ],
         "legendgroup": "ColtsColts",
         "marker": {
          "color": "#19d3f3",
          "size": [
           2
          ],
          "sizemode": "area",
          "sizeref": 0.0025,
          "symbol": "circle"
         },
         "mode": "markers",
         "name": "ColtsColts",
         "orientation": "v",
         "showlegend": true,
         "type": "scatter",
         "x": [
          1
         ],
         "xaxis": "x",
         "y": [
          1
         ],
         "yaxis": "y"
        },
        {
         "hovertemplate": "<b>%{hovertext}</b><br><br>Team=ChiefsChiefs<br>Rec TD=%{x}<br>Rsh TD=%{y}<br>Tot TD=%{marker.size}<extra></extra>",
         "hovertext": [
          "ChiefsChiefs"
         ],
         "legendgroup": "ChiefsChiefs",
         "marker": {
          "color": "#FF6692",
          "size": [
           9
          ],
          "sizemode": "area",
          "sizeref": 0.0025,
          "symbol": "circle"
         },
         "mode": "markers",
         "name": "ChiefsChiefs",
         "orientation": "v",
         "showlegend": true,
         "type": "scatter",
         "x": [
          7
         ],
         "xaxis": "x",
         "y": [
          1
         ],
         "yaxis": "y"
        },
        {
         "hovertemplate": "<b>%{hovertext}</b><br><br>Team=RamsRams<br>Rec TD=%{x}<br>Rsh TD=%{y}<br>Tot TD=%{marker.size}<extra></extra>",
         "hovertext": [
          "RamsRams"
         ],
         "legendgroup": "RamsRams",
         "marker": {
          "color": "#B6E880",
          "size": [
           5
          ],
          "sizemode": "area",
          "sizeref": 0.0025,
          "symbol": "circle"
         },
         "mode": "markers",
         "name": "RamsRams",
         "orientation": "v",
         "showlegend": true,
         "type": "scatter",
         "x": [
          4
         ],
         "xaxis": "x",
         "y": [
          1
         ],
         "yaxis": "y"
        },
        {
         "hovertemplate": "<b>%{hovertext}</b><br><br>Team=PatriotsPatriots<br>Rec TD=%{x}<br>Rsh TD=%{y}<br>Tot TD=%{marker.size}<extra></extra>",
         "hovertext": [
          "PatriotsPatriots"
         ],
         "legendgroup": "PatriotsPatriots",
         "marker": {
          "color": "#FF97FF",
          "size": [
           3
          ],
          "sizemode": "area",
          "sizeref": 0.0025,
          "symbol": "circle"
         },
         "mode": "markers",
         "name": "PatriotsPatriots",
         "orientation": "v",
         "showlegend": true,
         "type": "scatter",
         "x": [
          2
         ],
         "xaxis": "x",
         "y": [
          1
         ],
         "yaxis": "y"
        },
        {
         "hovertemplate": "<b>%{hovertext}</b><br><br>Team=SaintsSaints<br>Rec TD=%{x}<br>Rsh TD=%{y}<br>Tot TD=%{marker.size}<extra></extra>",
         "hovertext": [
          "SaintsSaints"
         ],
         "legendgroup": "SaintsSaints",
         "marker": {
          "color": "#FECB52",
          "size": [
           4
          ],
          "sizemode": "area",
          "sizeref": 0.0025,
          "symbol": "circle"
         },
         "mode": "markers",
         "name": "SaintsSaints",
         "orientation": "v",
         "showlegend": true,
         "type": "scatter",
         "x": [
          3
         ],
         "xaxis": "x",
         "y": [
          1
         ],
         "yaxis": "y"
        },
        {
         "hovertemplate": "<b>%{hovertext}</b><br><br>Team=GiantsGiants<br>Rec TD=%{x}<br>Rsh TD=%{y}<br>Tot TD=%{marker.size}<extra></extra>",
         "hovertext": [
          "GiantsGiants"
         ],
         "legendgroup": "GiantsGiants",
         "marker": {
          "color": "#636efa",
          "size": [
           4
          ],
          "sizemode": "area",
          "sizeref": 0.0025,
          "symbol": "circle"
         },
         "mode": "markers",
         "name": "GiantsGiants",
         "orientation": "v",
         "showlegend": true,
         "type": "scatter",
         "x": [
          3
         ],
         "xaxis": "x",
         "y": [
          1
         ],
         "yaxis": "y"
        },
        {
         "hovertemplate": "<b>%{hovertext}</b><br><br>Team=CommandersCommanders<br>Rec TD=%{x}<br>Rsh TD=%{y}<br>Tot TD=%{marker.size}<extra></extra>",
         "hovertext": [
          "CommandersCommanders"
         ],
         "legendgroup": "CommandersCommanders",
         "marker": {
          "color": "#EF553B",
          "size": [
           8
          ],
          "sizemode": "area",
          "sizeref": 0.0025,
          "symbol": "circle"
         },
         "mode": "markers",
         "name": "CommandersCommanders",
         "orientation": "v",
         "showlegend": true,
         "type": "scatter",
         "x": [
          7
         ],
         "xaxis": "x",
         "y": [
          1
         ],
         "yaxis": "y"
        },
        {
         "hovertemplate": "<b>%{hovertext}</b><br><br>Team=BengalsBengals<br>Rec TD=%{x}<br>Rsh TD=%{y}<br>Tot TD=%{marker.size}<extra></extra>",
         "hovertext": [
          "BengalsBengals"
         ],
         "legendgroup": "BengalsBengals",
         "marker": {
          "color": "#00cc96",
          "size": [
           3
          ],
          "sizemode": "area",
          "sizeref": 0.0025,
          "symbol": "circle"
         },
         "mode": "markers",
         "name": "BengalsBengals",
         "orientation": "v",
         "showlegend": true,
         "type": "scatter",
         "x": [
          3
         ],
         "xaxis": "x",
         "y": [
          0
         ],
         "yaxis": "y"
        },
        {
         "hovertemplate": "<b>%{hovertext}</b><br><br>Team=BroncosBroncos<br>Rec TD=%{x}<br>Rsh TD=%{y}<br>Tot TD=%{marker.size}<extra></extra>",
         "hovertext": [
          "BroncosBroncos"
         ],
         "legendgroup": "BroncosBroncos",
         "marker": {
          "color": "#ab63fa",
          "size": [
           2
          ],
          "sizemode": "area",
          "sizeref": 0.0025,
          "symbol": "circle"
         },
         "mode": "markers",
         "name": "BroncosBroncos",
         "orientation": "v",
         "showlegend": true,
         "type": "scatter",
         "x": [
          2
         ],
         "xaxis": "x",
         "y": [
          0
         ],
         "yaxis": "y"
        },
        {
         "hovertemplate": "<b>%{hovertext}</b><br><br>Team=TexansTexans<br>Rec TD=%{x}<br>Rsh TD=%{y}<br>Tot TD=%{marker.size}<extra></extra>",
         "hovertext": [
          "TexansTexans"
         ],
         "legendgroup": "TexansTexans",
         "marker": {
          "color": "#FFA15A",
          "size": [
           2
          ],
          "sizemode": "area",
          "sizeref": 0.0025,
          "symbol": "circle"
         },
         "mode": "markers",
         "name": "TexansTexans",
         "orientation": "v",
         "showlegend": true,
         "type": "scatter",
         "x": [
          2
         ],
         "xaxis": "x",
         "y": [
          0
         ],
         "yaxis": "y"
        },
        {
         "hovertemplate": "<b>%{hovertext}</b><br><br>Team=RaidersRaiders<br>Rec TD=%{x}<br>Rsh TD=%{y}<br>Tot TD=%{marker.size}<extra></extra>",
         "hovertext": [
          "RaidersRaiders"
         ],
         "legendgroup": "RaidersRaiders",
         "marker": {
          "color": "#19d3f3",
          "size": [
           4
          ],
          "sizemode": "area",
          "sizeref": 0.0025,
          "symbol": "circle"
         },
         "mode": "markers",
         "name": "RaidersRaiders",
         "orientation": "v",
         "showlegend": true,
         "type": "scatter",
         "x": [
          4
         ],
         "xaxis": "x",
         "y": [
          0
         ],
         "yaxis": "y"
        },
        {
         "hovertemplate": "<b>%{hovertext}</b><br><br>Team=DolphinsDolphins<br>Rec TD=%{x}<br>Rsh TD=%{y}<br>Tot TD=%{marker.size}<extra></extra>",
         "hovertext": [
          "DolphinsDolphins"
         ],
         "legendgroup": "DolphinsDolphins",
         "marker": {
          "color": "#FF6692",
          "size": [
           7
          ],
          "sizemode": "area",
          "sizeref": 0.0025,
          "symbol": "circle"
         },
         "mode": "markers",
         "name": "DolphinsDolphins",
         "orientation": "v",
         "showlegend": true,
         "type": "scatter",
         "x": [
          7
         ],
         "xaxis": "x",
         "y": [
          0
         ],
         "yaxis": "y"
        },
        {
         "hovertemplate": "<b>%{hovertext}</b><br><br>Team=VikingsVikings<br>Rec TD=%{x}<br>Rsh TD=%{y}<br>Tot TD=%{marker.size}<extra></extra>",
         "hovertext": [
          "VikingsVikings"
         ],
         "legendgroup": "VikingsVikings",
         "marker": {
          "color": "#B6E880",
          "size": [
           3
          ],
          "sizemode": "area",
          "sizeref": 0.0025,
          "symbol": "circle"
         },
         "mode": "markers",
         "name": "VikingsVikings",
         "orientation": "v",
         "showlegend": true,
         "type": "scatter",
         "x": [
          3
         ],
         "xaxis": "x",
         "y": [
          0
         ],
         "yaxis": "y"
        },
        {
         "hovertemplate": "<b>%{hovertext}</b><br><br>Team=JetsJets<br>Rec TD=%{x}<br>Rsh TD=%{y}<br>Tot TD=%{marker.size}<extra></extra>",
         "hovertext": [
          "JetsJets"
         ],
         "legendgroup": "JetsJets",
         "marker": {
          "color": "#FF97FF",
          "size": [
           5
          ],
          "sizemode": "area",
          "sizeref": 0.0025,
          "symbol": "circle"
         },
         "mode": "markers",
         "name": "JetsJets",
         "orientation": "v",
         "showlegend": true,
         "type": "scatter",
         "x": [
          5
         ],
         "xaxis": "x",
         "y": [
          0
         ],
         "yaxis": "y"
        },
        {
         "hovertemplate": "<b>%{hovertext}</b><br><br>Team=ChargersChargers<br>Rec TD=%{x}<br>Rsh TD=%{y}<br>Tot TD=%{marker.size}<extra></extra>",
         "hovertext": [
          "ChargersChargers"
         ],
         "legendgroup": "ChargersChargers",
         "marker": {
          "color": "#FECB52",
          "size": [
           6
          ],
          "sizemode": "area",
          "sizeref": 0.0025,
          "symbol": "circle"
         },
         "mode": "markers",
         "name": "ChargersChargers",
         "orientation": "v",
         "showlegend": true,
         "type": "scatter",
         "x": [
          6
         ],
         "xaxis": "x",
         "y": [
          0
         ],
         "yaxis": "y"
        },
        {
         "hovertemplate": "<b>%{hovertext}</b><br><br>Team=SeahawksSeahawks<br>Rec TD=%{x}<br>Rsh TD=%{y}<br>Tot TD=%{marker.size}<extra></extra>",
         "hovertext": [
          "SeahawksSeahawks"
         ],
         "legendgroup": "SeahawksSeahawks",
         "marker": {
          "color": "#636efa",
          "size": [
           3
          ],
          "sizemode": "area",
          "sizeref": 0.0025,
          "symbol": "circle"
         },
         "mode": "markers",
         "name": "SeahawksSeahawks",
         "orientation": "v",
         "showlegend": true,
         "type": "scatter",
         "x": [
          2
         ],
         "xaxis": "x",
         "y": [
          0
         ],
         "yaxis": "y"
        },
        {
         "hovertemplate": "<b>%{hovertext}</b><br><br>Team=BuccaneersBuccaneers<br>Rec TD=%{x}<br>Rsh TD=%{y}<br>Tot TD=%{marker.size}<extra></extra>",
         "hovertext": [
          "BuccaneersBuccaneers"
         ],
         "legendgroup": "BuccaneersBuccaneers",
         "marker": {
          "color": "#EF553B",
          "size": [
           3
          ],
          "sizemode": "area",
          "sizeref": 0.0025,
          "symbol": "circle"
         },
         "mode": "markers",
         "name": "BuccaneersBuccaneers",
         "orientation": "v",
         "showlegend": true,
         "type": "scatter",
         "x": [
          2
         ],
         "xaxis": "x",
         "y": [
          0
         ],
         "yaxis": "y"
        }
       ],
       "layout": {
        "legend": {
         "itemsizing": "constant",
         "title": {
          "text": "Team"
         },
         "tracegroupgap": 0
        },
        "margin": {
         "t": 60
        },
        "template": {
         "data": {
          "bar": [
           {
            "error_x": {
             "color": "#2a3f5f"
            },
            "error_y": {
             "color": "#2a3f5f"
            },
            "marker": {
             "line": {
              "color": "#E5ECF6",
              "width": 0.5
             },
             "pattern": {
              "fillmode": "overlay",
              "size": 10,
              "solidity": 0.2
             }
            },
            "type": "bar"
           }
          ],
          "barpolar": [
           {
            "marker": {
             "line": {
              "color": "#E5ECF6",
              "width": 0.5
             },
             "pattern": {
              "fillmode": "overlay",
              "size": 10,
              "solidity": 0.2
             }
            },
            "type": "barpolar"
           }
          ],
          "carpet": [
           {
            "aaxis": {
             "endlinecolor": "#2a3f5f",
             "gridcolor": "white",
             "linecolor": "white",
             "minorgridcolor": "white",
             "startlinecolor": "#2a3f5f"
            },
            "baxis": {
             "endlinecolor": "#2a3f5f",
             "gridcolor": "white",
             "linecolor": "white",
             "minorgridcolor": "white",
             "startlinecolor": "#2a3f5f"
            },
            "type": "carpet"
           }
          ],
          "choropleth": [
           {
            "colorbar": {
             "outlinewidth": 0,
             "ticks": ""
            },
            "type": "choropleth"
           }
          ],
          "contour": [
           {
            "colorbar": {
             "outlinewidth": 0,
             "ticks": ""
            },
            "colorscale": [
             [
              0,
              "#0d0887"
             ],
             [
              0.1111111111111111,
              "#46039f"
             ],
             [
              0.2222222222222222,
              "#7201a8"
             ],
             [
              0.3333333333333333,
              "#9c179e"
             ],
             [
              0.4444444444444444,
              "#bd3786"
             ],
             [
              0.5555555555555556,
              "#d8576b"
             ],
             [
              0.6666666666666666,
              "#ed7953"
             ],
             [
              0.7777777777777778,
              "#fb9f3a"
             ],
             [
              0.8888888888888888,
              "#fdca26"
             ],
             [
              1,
              "#f0f921"
             ]
            ],
            "type": "contour"
           }
          ],
          "contourcarpet": [
           {
            "colorbar": {
             "outlinewidth": 0,
             "ticks": ""
            },
            "type": "contourcarpet"
           }
          ],
          "heatmap": [
           {
            "colorbar": {
             "outlinewidth": 0,
             "ticks": ""
            },
            "colorscale": [
             [
              0,
              "#0d0887"
             ],
             [
              0.1111111111111111,
              "#46039f"
             ],
             [
              0.2222222222222222,
              "#7201a8"
             ],
             [
              0.3333333333333333,
              "#9c179e"
             ],
             [
              0.4444444444444444,
              "#bd3786"
             ],
             [
              0.5555555555555556,
              "#d8576b"
             ],
             [
              0.6666666666666666,
              "#ed7953"
             ],
             [
              0.7777777777777778,
              "#fb9f3a"
             ],
             [
              0.8888888888888888,
              "#fdca26"
             ],
             [
              1,
              "#f0f921"
             ]
            ],
            "type": "heatmap"
           }
          ],
          "heatmapgl": [
           {
            "colorbar": {
             "outlinewidth": 0,
             "ticks": ""
            },
            "colorscale": [
             [
              0,
              "#0d0887"
             ],
             [
              0.1111111111111111,
              "#46039f"
             ],
             [
              0.2222222222222222,
              "#7201a8"
             ],
             [
              0.3333333333333333,
              "#9c179e"
             ],
             [
              0.4444444444444444,
              "#bd3786"
             ],
             [
              0.5555555555555556,
              "#d8576b"
             ],
             [
              0.6666666666666666,
              "#ed7953"
             ],
             [
              0.7777777777777778,
              "#fb9f3a"
             ],
             [
              0.8888888888888888,
              "#fdca26"
             ],
             [
              1,
              "#f0f921"
             ]
            ],
            "type": "heatmapgl"
           }
          ],
          "histogram": [
           {
            "marker": {
             "pattern": {
              "fillmode": "overlay",
              "size": 10,
              "solidity": 0.2
             }
            },
            "type": "histogram"
           }
          ],
          "histogram2d": [
           {
            "colorbar": {
             "outlinewidth": 0,
             "ticks": ""
            },
            "colorscale": [
             [
              0,
              "#0d0887"
             ],
             [
              0.1111111111111111,
              "#46039f"
             ],
             [
              0.2222222222222222,
              "#7201a8"
             ],
             [
              0.3333333333333333,
              "#9c179e"
             ],
             [
              0.4444444444444444,
              "#bd3786"
             ],
             [
              0.5555555555555556,
              "#d8576b"
             ],
             [
              0.6666666666666666,
              "#ed7953"
             ],
             [
              0.7777777777777778,
              "#fb9f3a"
             ],
             [
              0.8888888888888888,
              "#fdca26"
             ],
             [
              1,
              "#f0f921"
             ]
            ],
            "type": "histogram2d"
           }
          ],
          "histogram2dcontour": [
           {
            "colorbar": {
             "outlinewidth": 0,
             "ticks": ""
            },
            "colorscale": [
             [
              0,
              "#0d0887"
             ],
             [
              0.1111111111111111,
              "#46039f"
             ],
             [
              0.2222222222222222,
              "#7201a8"
             ],
             [
              0.3333333333333333,
              "#9c179e"
             ],
             [
              0.4444444444444444,
              "#bd3786"
             ],
             [
              0.5555555555555556,
              "#d8576b"
             ],
             [
              0.6666666666666666,
              "#ed7953"
             ],
             [
              0.7777777777777778,
              "#fb9f3a"
             ],
             [
              0.8888888888888888,
              "#fdca26"
             ],
             [
              1,
              "#f0f921"
             ]
            ],
            "type": "histogram2dcontour"
           }
          ],
          "mesh3d": [
           {
            "colorbar": {
             "outlinewidth": 0,
             "ticks": ""
            },
            "type": "mesh3d"
           }
          ],
          "parcoords": [
           {
            "line": {
             "colorbar": {
              "outlinewidth": 0,
              "ticks": ""
             }
            },
            "type": "parcoords"
           }
          ],
          "pie": [
           {
            "automargin": true,
            "type": "pie"
           }
          ],
          "scatter": [
           {
            "fillpattern": {
             "fillmode": "overlay",
             "size": 10,
             "solidity": 0.2
            },
            "type": "scatter"
           }
          ],
          "scatter3d": [
           {
            "line": {
             "colorbar": {
              "outlinewidth": 0,
              "ticks": ""
             }
            },
            "marker": {
             "colorbar": {
              "outlinewidth": 0,
              "ticks": ""
             }
            },
            "type": "scatter3d"
           }
          ],
          "scattercarpet": [
           {
            "marker": {
             "colorbar": {
              "outlinewidth": 0,
              "ticks": ""
             }
            },
            "type": "scattercarpet"
           }
          ],
          "scattergeo": [
           {
            "marker": {
             "colorbar": {
              "outlinewidth": 0,
              "ticks": ""
             }
            },
            "type": "scattergeo"
           }
          ],
          "scattergl": [
           {
            "marker": {
             "colorbar": {
              "outlinewidth": 0,
              "ticks": ""
             }
            },
            "type": "scattergl"
           }
          ],
          "scattermapbox": [
           {
            "marker": {
             "colorbar": {
              "outlinewidth": 0,
              "ticks": ""
             }
            },
            "type": "scattermapbox"
           }
          ],
          "scatterpolar": [
           {
            "marker": {
             "colorbar": {
              "outlinewidth": 0,
              "ticks": ""
             }
            },
            "type": "scatterpolar"
           }
          ],
          "scatterpolargl": [
           {
            "marker": {
             "colorbar": {
              "outlinewidth": 0,
              "ticks": ""
             }
            },
            "type": "scatterpolargl"
           }
          ],
          "scatterternary": [
           {
            "marker": {
             "colorbar": {
              "outlinewidth": 0,
              "ticks": ""
             }
            },
            "type": "scatterternary"
           }
          ],
          "surface": [
           {
            "colorbar": {
             "outlinewidth": 0,
             "ticks": ""
            },
            "colorscale": [
             [
              0,
              "#0d0887"
             ],
             [
              0.1111111111111111,
              "#46039f"
             ],
             [
              0.2222222222222222,
              "#7201a8"
             ],
             [
              0.3333333333333333,
              "#9c179e"
             ],
             [
              0.4444444444444444,
              "#bd3786"
             ],
             [
              0.5555555555555556,
              "#d8576b"
             ],
             [
              0.6666666666666666,
              "#ed7953"
             ],
             [
              0.7777777777777778,
              "#fb9f3a"
             ],
             [
              0.8888888888888888,
              "#fdca26"
             ],
             [
              1,
              "#f0f921"
             ]
            ],
            "type": "surface"
           }
          ],
          "table": [
           {
            "cells": {
             "fill": {
              "color": "#EBF0F8"
             },
             "line": {
              "color": "white"
             }
            },
            "header": {
             "fill": {
              "color": "#C8D4E3"
             },
             "line": {
              "color": "white"
             }
            },
            "type": "table"
           }
          ]
         },
         "layout": {
          "annotationdefaults": {
           "arrowcolor": "#2a3f5f",
           "arrowhead": 0,
           "arrowwidth": 1
          },
          "autotypenumbers": "strict",
          "coloraxis": {
           "colorbar": {
            "outlinewidth": 0,
            "ticks": ""
           }
          },
          "colorscale": {
           "diverging": [
            [
             0,
             "#8e0152"
            ],
            [
             0.1,
             "#c51b7d"
            ],
            [
             0.2,
             "#de77ae"
            ],
            [
             0.3,
             "#f1b6da"
            ],
            [
             0.4,
             "#fde0ef"
            ],
            [
             0.5,
             "#f7f7f7"
            ],
            [
             0.6,
             "#e6f5d0"
            ],
            [
             0.7,
             "#b8e186"
            ],
            [
             0.8,
             "#7fbc41"
            ],
            [
             0.9,
             "#4d9221"
            ],
            [
             1,
             "#276419"
            ]
           ],
           "sequential": [
            [
             0,
             "#0d0887"
            ],
            [
             0.1111111111111111,
             "#46039f"
            ],
            [
             0.2222222222222222,
             "#7201a8"
            ],
            [
             0.3333333333333333,
             "#9c179e"
            ],
            [
             0.4444444444444444,
             "#bd3786"
            ],
            [
             0.5555555555555556,
             "#d8576b"
            ],
            [
             0.6666666666666666,
             "#ed7953"
            ],
            [
             0.7777777777777778,
             "#fb9f3a"
            ],
            [
             0.8888888888888888,
             "#fdca26"
            ],
            [
             1,
             "#f0f921"
            ]
           ],
           "sequentialminus": [
            [
             0,
             "#0d0887"
            ],
            [
             0.1111111111111111,
             "#46039f"
            ],
            [
             0.2222222222222222,
             "#7201a8"
            ],
            [
             0.3333333333333333,
             "#9c179e"
            ],
            [
             0.4444444444444444,
             "#bd3786"
            ],
            [
             0.5555555555555556,
             "#d8576b"
            ],
            [
             0.6666666666666666,
             "#ed7953"
            ],
            [
             0.7777777777777778,
             "#fb9f3a"
            ],
            [
             0.8888888888888888,
             "#fdca26"
            ],
            [
             1,
             "#f0f921"
            ]
           ]
          },
          "colorway": [
           "#636efa",
           "#EF553B",
           "#00cc96",
           "#ab63fa",
           "#FFA15A",
           "#19d3f3",
           "#FF6692",
           "#B6E880",
           "#FF97FF",
           "#FECB52"
          ],
          "font": {
           "color": "#2a3f5f"
          },
          "geo": {
           "bgcolor": "white",
           "lakecolor": "white",
           "landcolor": "#E5ECF6",
           "showlakes": true,
           "showland": true,
           "subunitcolor": "white"
          },
          "hoverlabel": {
           "align": "left"
          },
          "hovermode": "closest",
          "mapbox": {
           "style": "light"
          },
          "paper_bgcolor": "white",
          "plot_bgcolor": "#E5ECF6",
          "polar": {
           "angularaxis": {
            "gridcolor": "white",
            "linecolor": "white",
            "ticks": ""
           },
           "bgcolor": "#E5ECF6",
           "radialaxis": {
            "gridcolor": "white",
            "linecolor": "white",
            "ticks": ""
           }
          },
          "scene": {
           "xaxis": {
            "backgroundcolor": "#E5ECF6",
            "gridcolor": "white",
            "gridwidth": 2,
            "linecolor": "white",
            "showbackground": true,
            "ticks": "",
            "zerolinecolor": "white"
           },
           "yaxis": {
            "backgroundcolor": "#E5ECF6",
            "gridcolor": "white",
            "gridwidth": 2,
            "linecolor": "white",
            "showbackground": true,
            "ticks": "",
            "zerolinecolor": "white"
           },
           "zaxis": {
            "backgroundcolor": "#E5ECF6",
            "gridcolor": "white",
            "gridwidth": 2,
            "linecolor": "white",
            "showbackground": true,
            "ticks": "",
            "zerolinecolor": "white"
           }
          },
          "shapedefaults": {
           "line": {
            "color": "#2a3f5f"
           }
          },
          "ternary": {
           "aaxis": {
            "gridcolor": "white",
            "linecolor": "white",
            "ticks": ""
           },
           "baxis": {
            "gridcolor": "white",
            "linecolor": "white",
            "ticks": ""
           },
           "bgcolor": "#E5ECF6",
           "caxis": {
            "gridcolor": "white",
            "linecolor": "white",
            "ticks": ""
           }
          },
          "title": {
           "x": 0.05
          },
          "xaxis": {
           "automargin": true,
           "gridcolor": "white",
           "linecolor": "white",
           "ticks": "",
           "title": {
            "standoff": 15
           },
           "zerolinecolor": "white",
           "zerolinewidth": 2
          },
          "yaxis": {
           "automargin": true,
           "gridcolor": "white",
           "linecolor": "white",
           "ticks": "",
           "title": {
            "standoff": 15
           },
           "zerolinecolor": "white",
           "zerolinewidth": 2
          }
         }
        },
        "xaxis": {
         "anchor": "y",
         "domain": [
          0,
          1
         ],
         "title": {
          "text": "Rec TD"
         }
        },
        "yaxis": {
         "anchor": "x",
         "domain": [
          0,
          1
         ],
         "title": {
          "text": "Rsh TD"
         }
        }
       }
      }
     },
     "metadata": {},
     "output_type": "display_data"
    }
   ],
   "source": [
    "px.scatter(scoring_df, x='Rec TD', y='Rsh TD', color='Team', size='Tot TD', hover_name='Team', size_max=60)"
   ]
  },
  {
   "cell_type": "code",
   "execution_count": 13,
   "metadata": {},
   "outputs": [
    {
     "data": {
      "application/vnd.plotly.v1+json": {
       "config": {
        "plotlyServerURL": "https://plot.ly"
       },
       "data": [
        {
         "branchvalues": "total",
         "customdata": [
          [
           52,
           1
          ],
          [
           28,
           2
          ],
          [
           89,
           3
          ],
          [
           71,
           7
          ],
          [
           73,
           2
          ],
          [
           92,
           4
          ],
          [
           61,
           2
          ],
          [
           87,
           3
          ],
          [
           82,
           6
          ],
          [
           74,
           7
          ],
          [
           80,
           1
          ],
          [
           87,
           7
          ],
          [
           73,
           1
          ],
          [
           83,
           7
          ],
          [
           63,
           1
          ],
          [
           59,
           2
          ],
          [
           55,
           3
          ],
          [
           72,
           3
          ],
          [
           104,
           5
          ],
          [
           71,
           6
          ],
          [
           64,
           2
          ],
          [
           56,
           2
          ],
          [
           65,
           2
          ],
          [
           76,
           4
          ],
          [
           77,
           4
          ],
          [
           59,
           6
          ],
          [
           74,
           3
          ],
          [
           59,
           2
          ],
          [
           103,
           2
          ],
          [
           75,
           2
          ],
          [
           57,
           2
          ],
          [
           78,
           3
          ]
         ],
         "domain": {
          "x": [
           0,
           1
          ],
          "y": [
           0,
           1
          ]
         },
         "hovertemplate": "labels=%{label}<br>Pass Yds=%{value}<br>parent=%{parent}<br>id=%{id}<br>Att=%{customdata[0]}<br>TD=%{color}<extra></extra>",
         "ids": [
          "49ers49ers",
          "BearsBears",
          "BengalsBengals",
          "BillsBills",
          "BroncosBroncos",
          "BrownsBrowns",
          "BuccaneersBuccaneers",
          "CardinalsCardinals",
          "ChargersChargers",
          "ChiefsChiefs",
          "ColtsColts",
          "CommandersCommanders",
          "CowboysCowboys",
          "DolphinsDolphins",
          "EaglesEagles",
          "FalconsFalcons",
          "GiantsGiants",
          "JaguarsJaguars",
          "JetsJets",
          "LionsLions",
          "PackersPackers",
          "PanthersPanthers",
          "PatriotsPatriots",
          "RaidersRaiders",
          "RamsRams",
          "RavensRavens",
          "SaintsSaints",
          "SeahawksSeahawks",
          "SteelersSteelers",
          "TexansTexans",
          "TitansTitans",
          "VikingsVikings"
         ],
         "labels": [
          "49ers49ers",
          "BearsBears",
          "BengalsBengals",
          "BillsBills",
          "BroncosBroncos",
          "BrownsBrowns",
          "BuccaneersBuccaneers",
          "CardinalsCardinals",
          "ChargersChargers",
          "ChiefsChiefs",
          "ColtsColts",
          "CommandersCommanders",
          "CowboysCowboys",
          "DolphinsDolphins",
          "EaglesEagles",
          "FalconsFalcons",
          "GiantsGiants",
          "JaguarsJaguars",
          "JetsJets",
          "LionsLions",
          "PackersPackers",
          "PanthersPanthers",
          "PatriotsPatriots",
          "RaidersRaiders",
          "RamsRams",
          "RavensRavens",
          "SaintsSaints",
          "SeahawksSeahawks",
          "SteelersSteelers",
          "TexansTexans",
          "TitansTitans",
          "VikingsVikings"
         ],
         "marker": {
          "coloraxis": "coloraxis",
          "colors": [
           1,
           2,
           3,
           7,
           2,
           4,
           2,
           3,
           6,
           7,
           1,
           7,
           1,
           7,
           1,
           2,
           3,
           3,
           5,
           6,
           2,
           2,
           2,
           4,
           4,
           6,
           3,
           2,
           2,
           2,
           2,
           3
          ]
         },
         "name": "",
         "parents": [
          "",
          "",
          "",
          "",
          "",
          "",
          "",
          "",
          "",
          "",
          "",
          "",
          "",
          "",
          "",
          "",
          "",
          "",
          "",
          "",
          "",
          "",
          "",
          "",
          "",
          "",
          "",
          "",
          "",
          "",
          "",
          ""
         ],
         "type": "treemap",
         "values": [
          348,
          191,
          537,
          614,
          559,
          596,
          402,
          482,
          613,
          595,
          547,
          650,
          433,
          739,
          576,
          411,
          364,
          510,
          633,
          471,
          494,
          380,
          465,
          547,
          512,
          531,
          505,
          392,
          569,
          417,
          389,
          498
         ]
        }
       ],
       "layout": {
        "coloraxis": {
         "colorbar": {
          "title": {
           "text": "TD"
          }
         },
         "colorscale": [
          [
           0,
           "#0d0887"
          ],
          [
           0.1111111111111111,
           "#46039f"
          ],
          [
           0.2222222222222222,
           "#7201a8"
          ],
          [
           0.3333333333333333,
           "#9c179e"
          ],
          [
           0.4444444444444444,
           "#bd3786"
          ],
          [
           0.5555555555555556,
           "#d8576b"
          ],
          [
           0.6666666666666666,
           "#ed7953"
          ],
          [
           0.7777777777777778,
           "#fb9f3a"
          ],
          [
           0.8888888888888888,
           "#fdca26"
          ],
          [
           1,
           "#f0f921"
          ]
         ]
        },
        "legend": {
         "tracegroupgap": 0
        },
        "margin": {
         "t": 60
        },
        "template": {
         "data": {
          "bar": [
           {
            "error_x": {
             "color": "#2a3f5f"
            },
            "error_y": {
             "color": "#2a3f5f"
            },
            "marker": {
             "line": {
              "color": "#E5ECF6",
              "width": 0.5
             },
             "pattern": {
              "fillmode": "overlay",
              "size": 10,
              "solidity": 0.2
             }
            },
            "type": "bar"
           }
          ],
          "barpolar": [
           {
            "marker": {
             "line": {
              "color": "#E5ECF6",
              "width": 0.5
             },
             "pattern": {
              "fillmode": "overlay",
              "size": 10,
              "solidity": 0.2
             }
            },
            "type": "barpolar"
           }
          ],
          "carpet": [
           {
            "aaxis": {
             "endlinecolor": "#2a3f5f",
             "gridcolor": "white",
             "linecolor": "white",
             "minorgridcolor": "white",
             "startlinecolor": "#2a3f5f"
            },
            "baxis": {
             "endlinecolor": "#2a3f5f",
             "gridcolor": "white",
             "linecolor": "white",
             "minorgridcolor": "white",
             "startlinecolor": "#2a3f5f"
            },
            "type": "carpet"
           }
          ],
          "choropleth": [
           {
            "colorbar": {
             "outlinewidth": 0,
             "ticks": ""
            },
            "type": "choropleth"
           }
          ],
          "contour": [
           {
            "colorbar": {
             "outlinewidth": 0,
             "ticks": ""
            },
            "colorscale": [
             [
              0,
              "#0d0887"
             ],
             [
              0.1111111111111111,
              "#46039f"
             ],
             [
              0.2222222222222222,
              "#7201a8"
             ],
             [
              0.3333333333333333,
              "#9c179e"
             ],
             [
              0.4444444444444444,
              "#bd3786"
             ],
             [
              0.5555555555555556,
              "#d8576b"
             ],
             [
              0.6666666666666666,
              "#ed7953"
             ],
             [
              0.7777777777777778,
              "#fb9f3a"
             ],
             [
              0.8888888888888888,
              "#fdca26"
             ],
             [
              1,
              "#f0f921"
             ]
            ],
            "type": "contour"
           }
          ],
          "contourcarpet": [
           {
            "colorbar": {
             "outlinewidth": 0,
             "ticks": ""
            },
            "type": "contourcarpet"
           }
          ],
          "heatmap": [
           {
            "colorbar": {
             "outlinewidth": 0,
             "ticks": ""
            },
            "colorscale": [
             [
              0,
              "#0d0887"
             ],
             [
              0.1111111111111111,
              "#46039f"
             ],
             [
              0.2222222222222222,
              "#7201a8"
             ],
             [
              0.3333333333333333,
              "#9c179e"
             ],
             [
              0.4444444444444444,
              "#bd3786"
             ],
             [
              0.5555555555555556,
              "#d8576b"
             ],
             [
              0.6666666666666666,
              "#ed7953"
             ],
             [
              0.7777777777777778,
              "#fb9f3a"
             ],
             [
              0.8888888888888888,
              "#fdca26"
             ],
             [
              1,
              "#f0f921"
             ]
            ],
            "type": "heatmap"
           }
          ],
          "heatmapgl": [
           {
            "colorbar": {
             "outlinewidth": 0,
             "ticks": ""
            },
            "colorscale": [
             [
              0,
              "#0d0887"
             ],
             [
              0.1111111111111111,
              "#46039f"
             ],
             [
              0.2222222222222222,
              "#7201a8"
             ],
             [
              0.3333333333333333,
              "#9c179e"
             ],
             [
              0.4444444444444444,
              "#bd3786"
             ],
             [
              0.5555555555555556,
              "#d8576b"
             ],
             [
              0.6666666666666666,
              "#ed7953"
             ],
             [
              0.7777777777777778,
              "#fb9f3a"
             ],
             [
              0.8888888888888888,
              "#fdca26"
             ],
             [
              1,
              "#f0f921"
             ]
            ],
            "type": "heatmapgl"
           }
          ],
          "histogram": [
           {
            "marker": {
             "pattern": {
              "fillmode": "overlay",
              "size": 10,
              "solidity": 0.2
             }
            },
            "type": "histogram"
           }
          ],
          "histogram2d": [
           {
            "colorbar": {
             "outlinewidth": 0,
             "ticks": ""
            },
            "colorscale": [
             [
              0,
              "#0d0887"
             ],
             [
              0.1111111111111111,
              "#46039f"
             ],
             [
              0.2222222222222222,
              "#7201a8"
             ],
             [
              0.3333333333333333,
              "#9c179e"
             ],
             [
              0.4444444444444444,
              "#bd3786"
             ],
             [
              0.5555555555555556,
              "#d8576b"
             ],
             [
              0.6666666666666666,
              "#ed7953"
             ],
             [
              0.7777777777777778,
              "#fb9f3a"
             ],
             [
              0.8888888888888888,
              "#fdca26"
             ],
             [
              1,
              "#f0f921"
             ]
            ],
            "type": "histogram2d"
           }
          ],
          "histogram2dcontour": [
           {
            "colorbar": {
             "outlinewidth": 0,
             "ticks": ""
            },
            "colorscale": [
             [
              0,
              "#0d0887"
             ],
             [
              0.1111111111111111,
              "#46039f"
             ],
             [
              0.2222222222222222,
              "#7201a8"
             ],
             [
              0.3333333333333333,
              "#9c179e"
             ],
             [
              0.4444444444444444,
              "#bd3786"
             ],
             [
              0.5555555555555556,
              "#d8576b"
             ],
             [
              0.6666666666666666,
              "#ed7953"
             ],
             [
              0.7777777777777778,
              "#fb9f3a"
             ],
             [
              0.8888888888888888,
              "#fdca26"
             ],
             [
              1,
              "#f0f921"
             ]
            ],
            "type": "histogram2dcontour"
           }
          ],
          "mesh3d": [
           {
            "colorbar": {
             "outlinewidth": 0,
             "ticks": ""
            },
            "type": "mesh3d"
           }
          ],
          "parcoords": [
           {
            "line": {
             "colorbar": {
              "outlinewidth": 0,
              "ticks": ""
             }
            },
            "type": "parcoords"
           }
          ],
          "pie": [
           {
            "automargin": true,
            "type": "pie"
           }
          ],
          "scatter": [
           {
            "fillpattern": {
             "fillmode": "overlay",
             "size": 10,
             "solidity": 0.2
            },
            "type": "scatter"
           }
          ],
          "scatter3d": [
           {
            "line": {
             "colorbar": {
              "outlinewidth": 0,
              "ticks": ""
             }
            },
            "marker": {
             "colorbar": {
              "outlinewidth": 0,
              "ticks": ""
             }
            },
            "type": "scatter3d"
           }
          ],
          "scattercarpet": [
           {
            "marker": {
             "colorbar": {
              "outlinewidth": 0,
              "ticks": ""
             }
            },
            "type": "scattercarpet"
           }
          ],
          "scattergeo": [
           {
            "marker": {
             "colorbar": {
              "outlinewidth": 0,
              "ticks": ""
             }
            },
            "type": "scattergeo"
           }
          ],
          "scattergl": [
           {
            "marker": {
             "colorbar": {
              "outlinewidth": 0,
              "ticks": ""
             }
            },
            "type": "scattergl"
           }
          ],
          "scattermapbox": [
           {
            "marker": {
             "colorbar": {
              "outlinewidth": 0,
              "ticks": ""
             }
            },
            "type": "scattermapbox"
           }
          ],
          "scatterpolar": [
           {
            "marker": {
             "colorbar": {
              "outlinewidth": 0,
              "ticks": ""
             }
            },
            "type": "scatterpolar"
           }
          ],
          "scatterpolargl": [
           {
            "marker": {
             "colorbar": {
              "outlinewidth": 0,
              "ticks": ""
             }
            },
            "type": "scatterpolargl"
           }
          ],
          "scatterternary": [
           {
            "marker": {
             "colorbar": {
              "outlinewidth": 0,
              "ticks": ""
             }
            },
            "type": "scatterternary"
           }
          ],
          "surface": [
           {
            "colorbar": {
             "outlinewidth": 0,
             "ticks": ""
            },
            "colorscale": [
             [
              0,
              "#0d0887"
             ],
             [
              0.1111111111111111,
              "#46039f"
             ],
             [
              0.2222222222222222,
              "#7201a8"
             ],
             [
              0.3333333333333333,
              "#9c179e"
             ],
             [
              0.4444444444444444,
              "#bd3786"
             ],
             [
              0.5555555555555556,
              "#d8576b"
             ],
             [
              0.6666666666666666,
              "#ed7953"
             ],
             [
              0.7777777777777778,
              "#fb9f3a"
             ],
             [
              0.8888888888888888,
              "#fdca26"
             ],
             [
              1,
              "#f0f921"
             ]
            ],
            "type": "surface"
           }
          ],
          "table": [
           {
            "cells": {
             "fill": {
              "color": "#EBF0F8"
             },
             "line": {
              "color": "white"
             }
            },
            "header": {
             "fill": {
              "color": "#C8D4E3"
             },
             "line": {
              "color": "white"
             }
            },
            "type": "table"
           }
          ]
         },
         "layout": {
          "annotationdefaults": {
           "arrowcolor": "#2a3f5f",
           "arrowhead": 0,
           "arrowwidth": 1
          },
          "autotypenumbers": "strict",
          "coloraxis": {
           "colorbar": {
            "outlinewidth": 0,
            "ticks": ""
           }
          },
          "colorscale": {
           "diverging": [
            [
             0,
             "#8e0152"
            ],
            [
             0.1,
             "#c51b7d"
            ],
            [
             0.2,
             "#de77ae"
            ],
            [
             0.3,
             "#f1b6da"
            ],
            [
             0.4,
             "#fde0ef"
            ],
            [
             0.5,
             "#f7f7f7"
            ],
            [
             0.6,
             "#e6f5d0"
            ],
            [
             0.7,
             "#b8e186"
            ],
            [
             0.8,
             "#7fbc41"
            ],
            [
             0.9,
             "#4d9221"
            ],
            [
             1,
             "#276419"
            ]
           ],
           "sequential": [
            [
             0,
             "#0d0887"
            ],
            [
             0.1111111111111111,
             "#46039f"
            ],
            [
             0.2222222222222222,
             "#7201a8"
            ],
            [
             0.3333333333333333,
             "#9c179e"
            ],
            [
             0.4444444444444444,
             "#bd3786"
            ],
            [
             0.5555555555555556,
             "#d8576b"
            ],
            [
             0.6666666666666666,
             "#ed7953"
            ],
            [
             0.7777777777777778,
             "#fb9f3a"
            ],
            [
             0.8888888888888888,
             "#fdca26"
            ],
            [
             1,
             "#f0f921"
            ]
           ],
           "sequentialminus": [
            [
             0,
             "#0d0887"
            ],
            [
             0.1111111111111111,
             "#46039f"
            ],
            [
             0.2222222222222222,
             "#7201a8"
            ],
            [
             0.3333333333333333,
             "#9c179e"
            ],
            [
             0.4444444444444444,
             "#bd3786"
            ],
            [
             0.5555555555555556,
             "#d8576b"
            ],
            [
             0.6666666666666666,
             "#ed7953"
            ],
            [
             0.7777777777777778,
             "#fb9f3a"
            ],
            [
             0.8888888888888888,
             "#fdca26"
            ],
            [
             1,
             "#f0f921"
            ]
           ]
          },
          "colorway": [
           "#636efa",
           "#EF553B",
           "#00cc96",
           "#ab63fa",
           "#FFA15A",
           "#19d3f3",
           "#FF6692",
           "#B6E880",
           "#FF97FF",
           "#FECB52"
          ],
          "font": {
           "color": "#2a3f5f"
          },
          "geo": {
           "bgcolor": "white",
           "lakecolor": "white",
           "landcolor": "#E5ECF6",
           "showlakes": true,
           "showland": true,
           "subunitcolor": "white"
          },
          "hoverlabel": {
           "align": "left"
          },
          "hovermode": "closest",
          "mapbox": {
           "style": "light"
          },
          "paper_bgcolor": "white",
          "plot_bgcolor": "#E5ECF6",
          "polar": {
           "angularaxis": {
            "gridcolor": "white",
            "linecolor": "white",
            "ticks": ""
           },
           "bgcolor": "#E5ECF6",
           "radialaxis": {
            "gridcolor": "white",
            "linecolor": "white",
            "ticks": ""
           }
          },
          "scene": {
           "xaxis": {
            "backgroundcolor": "#E5ECF6",
            "gridcolor": "white",
            "gridwidth": 2,
            "linecolor": "white",
            "showbackground": true,
            "ticks": "",
            "zerolinecolor": "white"
           },
           "yaxis": {
            "backgroundcolor": "#E5ECF6",
            "gridcolor": "white",
            "gridwidth": 2,
            "linecolor": "white",
            "showbackground": true,
            "ticks": "",
            "zerolinecolor": "white"
           },
           "zaxis": {
            "backgroundcolor": "#E5ECF6",
            "gridcolor": "white",
            "gridwidth": 2,
            "linecolor": "white",
            "showbackground": true,
            "ticks": "",
            "zerolinecolor": "white"
           }
          },
          "shapedefaults": {
           "line": {
            "color": "#2a3f5f"
           }
          },
          "ternary": {
           "aaxis": {
            "gridcolor": "white",
            "linecolor": "white",
            "ticks": ""
           },
           "baxis": {
            "gridcolor": "white",
            "linecolor": "white",
            "ticks": ""
           },
           "bgcolor": "#E5ECF6",
           "caxis": {
            "gridcolor": "white",
            "linecolor": "white",
            "ticks": ""
           }
          },
          "title": {
           "x": 0.05
          },
          "xaxis": {
           "automargin": true,
           "gridcolor": "white",
           "linecolor": "white",
           "ticks": "",
           "title": {
            "standoff": 15
           },
           "zerolinecolor": "white",
           "zerolinewidth": 2
          },
          "yaxis": {
           "automargin": true,
           "gridcolor": "white",
           "linecolor": "white",
           "ticks": "",
           "title": {
            "standoff": 15
           },
           "zerolinecolor": "white",
           "zerolinewidth": 2
          }
         }
        }
       }
      }
     },
     "metadata": {},
     "output_type": "display_data"
    }
   ],
   "source": [
    "px.treemap(passing_df, path=['Team'], values='Pass Yds', color='TD', hover_data=['Att'])"
   ]
  },
  {
   "cell_type": "code",
   "execution_count": 14,
   "metadata": {},
   "outputs": [
    {
     "data": {
      "application/vnd.plotly.v1+json": {
       "config": {
        "plotlyServerURL": "https://plot.ly"
       },
       "data": [
        {
         "branchvalues": "total",
         "customdata": [
          [
           28,
           1
          ],
          [
           15,
           2
          ],
          [
           57,
           3
          ],
          [
           52,
           7
          ],
          [
           43,
           2
          ],
          [
           61,
           4
          ],
          [
           36,
           2
          ],
          [
           55,
           3
          ],
          [
           59,
           6
          ],
          [
           54,
           7
          ],
          [
           48,
           1
          ],
          [
           57,
           7
          ],
          [
           40,
           1
          ],
          [
           59,
           7
          ],
          [
           44,
           1
          ],
          [
           37,
           2
          ],
          [
           39,
           3
          ],
          [
           49,
           3
          ],
          [
           64,
           5
          ],
          [
           41,
           6
          ],
          [
           45,
           2
          ],
          [
           30,
           2
          ],
          [
           42,
           2
          ],
          [
           47,
           4
          ],
          [
           56,
           4
          ],
          [
           38,
           6
          ],
          [
           48,
           3
          ],
          [
           47,
           2
          ],
          [
           62,
           2
          ],
          [
           42,
           2
          ],
          [
           32,
           2
          ],
          [
           50,
           3
          ]
         ],
         "domain": {
          "x": [
           0,
           1
          ],
          "y": [
           0,
           1
          ]
         },
         "hovertemplate": "labels=%{label}<br>Yds=%{value}<br>parent=%{parent}<br>id=%{id}<br>Rec=%{customdata[0]}<br>TD=%{color}<extra></extra>",
         "ids": [
          "49ers49ers",
          "BearsBears",
          "BengalsBengals",
          "BillsBills",
          "BroncosBroncos",
          "BrownsBrowns",
          "BuccaneersBuccaneers",
          "CardinalsCardinals",
          "ChargersChargers",
          "ChiefsChiefs",
          "ColtsColts",
          "CommandersCommanders",
          "CowboysCowboys",
          "DolphinsDolphins",
          "EaglesEagles",
          "FalconsFalcons",
          "GiantsGiants",
          "JaguarsJaguars",
          "JetsJets",
          "LionsLions",
          "PackersPackers",
          "PanthersPanthers",
          "PatriotsPatriots",
          "RaidersRaiders",
          "RamsRams",
          "RavensRavens",
          "SaintsSaints",
          "SeahawksSeahawks",
          "SteelersSteelers",
          "TexansTexans",
          "TitansTitans",
          "VikingsVikings"
         ],
         "labels": [
          "49ers49ers",
          "BearsBears",
          "BengalsBengals",
          "BillsBills",
          "BroncosBroncos",
          "BrownsBrowns",
          "BuccaneersBuccaneers",
          "CardinalsCardinals",
          "ChargersChargers",
          "ChiefsChiefs",
          "ColtsColts",
          "CommandersCommanders",
          "CowboysCowboys",
          "DolphinsDolphins",
          "EaglesEagles",
          "FalconsFalcons",
          "GiantsGiants",
          "JaguarsJaguars",
          "JetsJets",
          "LionsLions",
          "PackersPackers",
          "PanthersPanthers",
          "PatriotsPatriots",
          "RaidersRaiders",
          "RamsRams",
          "RavensRavens",
          "SaintsSaints",
          "SeahawksSeahawks",
          "SteelersSteelers",
          "TexansTexans",
          "TitansTitans",
          "VikingsVikings"
         ],
         "marker": {
          "coloraxis": "coloraxis",
          "colors": [
           1,
           2,
           3,
           7,
           2,
           4,
           2,
           3,
           6,
           7,
           1,
           7,
           1,
           7,
           1,
           2,
           3,
           3,
           5,
           6,
           2,
           2,
           2,
           4,
           4,
           6,
           3,
           2,
           2,
           2,
           2,
           3
          ]
         },
         "name": "",
         "parents": [
          "",
          "",
          "",
          "",
          "",
          "",
          "",
          "",
          "",
          "",
          "",
          "",
          "",
          "",
          "",
          "",
          "",
          "",
          "",
          "",
          "",
          "",
          "",
          "",
          "",
          "",
          "",
          "",
          "",
          "",
          "",
          ""
         ],
         "type": "treemap",
         "values": [
          348,
          191,
          537,
          614,
          559,
          596,
          402,
          482,
          613,
          595,
          547,
          650,
          433,
          739,
          576,
          411,
          364,
          510,
          633,
          471,
          494,
          380,
          465,
          547,
          512,
          531,
          505,
          392,
          569,
          417,
          389,
          498
         ]
        }
       ],
       "layout": {
        "coloraxis": {
         "colorbar": {
          "title": {
           "text": "TD"
          }
         },
         "colorscale": [
          [
           0,
           "#0d0887"
          ],
          [
           0.1111111111111111,
           "#46039f"
          ],
          [
           0.2222222222222222,
           "#7201a8"
          ],
          [
           0.3333333333333333,
           "#9c179e"
          ],
          [
           0.4444444444444444,
           "#bd3786"
          ],
          [
           0.5555555555555556,
           "#d8576b"
          ],
          [
           0.6666666666666666,
           "#ed7953"
          ],
          [
           0.7777777777777778,
           "#fb9f3a"
          ],
          [
           0.8888888888888888,
           "#fdca26"
          ],
          [
           1,
           "#f0f921"
          ]
         ]
        },
        "legend": {
         "tracegroupgap": 0
        },
        "margin": {
         "t": 60
        },
        "template": {
         "data": {
          "bar": [
           {
            "error_x": {
             "color": "#2a3f5f"
            },
            "error_y": {
             "color": "#2a3f5f"
            },
            "marker": {
             "line": {
              "color": "#E5ECF6",
              "width": 0.5
             },
             "pattern": {
              "fillmode": "overlay",
              "size": 10,
              "solidity": 0.2
             }
            },
            "type": "bar"
           }
          ],
          "barpolar": [
           {
            "marker": {
             "line": {
              "color": "#E5ECF6",
              "width": 0.5
             },
             "pattern": {
              "fillmode": "overlay",
              "size": 10,
              "solidity": 0.2
             }
            },
            "type": "barpolar"
           }
          ],
          "carpet": [
           {
            "aaxis": {
             "endlinecolor": "#2a3f5f",
             "gridcolor": "white",
             "linecolor": "white",
             "minorgridcolor": "white",
             "startlinecolor": "#2a3f5f"
            },
            "baxis": {
             "endlinecolor": "#2a3f5f",
             "gridcolor": "white",
             "linecolor": "white",
             "minorgridcolor": "white",
             "startlinecolor": "#2a3f5f"
            },
            "type": "carpet"
           }
          ],
          "choropleth": [
           {
            "colorbar": {
             "outlinewidth": 0,
             "ticks": ""
            },
            "type": "choropleth"
           }
          ],
          "contour": [
           {
            "colorbar": {
             "outlinewidth": 0,
             "ticks": ""
            },
            "colorscale": [
             [
              0,
              "#0d0887"
             ],
             [
              0.1111111111111111,
              "#46039f"
             ],
             [
              0.2222222222222222,
              "#7201a8"
             ],
             [
              0.3333333333333333,
              "#9c179e"
             ],
             [
              0.4444444444444444,
              "#bd3786"
             ],
             [
              0.5555555555555556,
              "#d8576b"
             ],
             [
              0.6666666666666666,
              "#ed7953"
             ],
             [
              0.7777777777777778,
              "#fb9f3a"
             ],
             [
              0.8888888888888888,
              "#fdca26"
             ],
             [
              1,
              "#f0f921"
             ]
            ],
            "type": "contour"
           }
          ],
          "contourcarpet": [
           {
            "colorbar": {
             "outlinewidth": 0,
             "ticks": ""
            },
            "type": "contourcarpet"
           }
          ],
          "heatmap": [
           {
            "colorbar": {
             "outlinewidth": 0,
             "ticks": ""
            },
            "colorscale": [
             [
              0,
              "#0d0887"
             ],
             [
              0.1111111111111111,
              "#46039f"
             ],
             [
              0.2222222222222222,
              "#7201a8"
             ],
             [
              0.3333333333333333,
              "#9c179e"
             ],
             [
              0.4444444444444444,
              "#bd3786"
             ],
             [
              0.5555555555555556,
              "#d8576b"
             ],
             [
              0.6666666666666666,
              "#ed7953"
             ],
             [
              0.7777777777777778,
              "#fb9f3a"
             ],
             [
              0.8888888888888888,
              "#fdca26"
             ],
             [
              1,
              "#f0f921"
             ]
            ],
            "type": "heatmap"
           }
          ],
          "heatmapgl": [
           {
            "colorbar": {
             "outlinewidth": 0,
             "ticks": ""
            },
            "colorscale": [
             [
              0,
              "#0d0887"
             ],
             [
              0.1111111111111111,
              "#46039f"
             ],
             [
              0.2222222222222222,
              "#7201a8"
             ],
             [
              0.3333333333333333,
              "#9c179e"
             ],
             [
              0.4444444444444444,
              "#bd3786"
             ],
             [
              0.5555555555555556,
              "#d8576b"
             ],
             [
              0.6666666666666666,
              "#ed7953"
             ],
             [
              0.7777777777777778,
              "#fb9f3a"
             ],
             [
              0.8888888888888888,
              "#fdca26"
             ],
             [
              1,
              "#f0f921"
             ]
            ],
            "type": "heatmapgl"
           }
          ],
          "histogram": [
           {
            "marker": {
             "pattern": {
              "fillmode": "overlay",
              "size": 10,
              "solidity": 0.2
             }
            },
            "type": "histogram"
           }
          ],
          "histogram2d": [
           {
            "colorbar": {
             "outlinewidth": 0,
             "ticks": ""
            },
            "colorscale": [
             [
              0,
              "#0d0887"
             ],
             [
              0.1111111111111111,
              "#46039f"
             ],
             [
              0.2222222222222222,
              "#7201a8"
             ],
             [
              0.3333333333333333,
              "#9c179e"
             ],
             [
              0.4444444444444444,
              "#bd3786"
             ],
             [
              0.5555555555555556,
              "#d8576b"
             ],
             [
              0.6666666666666666,
              "#ed7953"
             ],
             [
              0.7777777777777778,
              "#fb9f3a"
             ],
             [
              0.8888888888888888,
              "#fdca26"
             ],
             [
              1,
              "#f0f921"
             ]
            ],
            "type": "histogram2d"
           }
          ],
          "histogram2dcontour": [
           {
            "colorbar": {
             "outlinewidth": 0,
             "ticks": ""
            },
            "colorscale": [
             [
              0,
              "#0d0887"
             ],
             [
              0.1111111111111111,
              "#46039f"
             ],
             [
              0.2222222222222222,
              "#7201a8"
             ],
             [
              0.3333333333333333,
              "#9c179e"
             ],
             [
              0.4444444444444444,
              "#bd3786"
             ],
             [
              0.5555555555555556,
              "#d8576b"
             ],
             [
              0.6666666666666666,
              "#ed7953"
             ],
             [
              0.7777777777777778,
              "#fb9f3a"
             ],
             [
              0.8888888888888888,
              "#fdca26"
             ],
             [
              1,
              "#f0f921"
             ]
            ],
            "type": "histogram2dcontour"
           }
          ],
          "mesh3d": [
           {
            "colorbar": {
             "outlinewidth": 0,
             "ticks": ""
            },
            "type": "mesh3d"
           }
          ],
          "parcoords": [
           {
            "line": {
             "colorbar": {
              "outlinewidth": 0,
              "ticks": ""
             }
            },
            "type": "parcoords"
           }
          ],
          "pie": [
           {
            "automargin": true,
            "type": "pie"
           }
          ],
          "scatter": [
           {
            "fillpattern": {
             "fillmode": "overlay",
             "size": 10,
             "solidity": 0.2
            },
            "type": "scatter"
           }
          ],
          "scatter3d": [
           {
            "line": {
             "colorbar": {
              "outlinewidth": 0,
              "ticks": ""
             }
            },
            "marker": {
             "colorbar": {
              "outlinewidth": 0,
              "ticks": ""
             }
            },
            "type": "scatter3d"
           }
          ],
          "scattercarpet": [
           {
            "marker": {
             "colorbar": {
              "outlinewidth": 0,
              "ticks": ""
             }
            },
            "type": "scattercarpet"
           }
          ],
          "scattergeo": [
           {
            "marker": {
             "colorbar": {
              "outlinewidth": 0,
              "ticks": ""
             }
            },
            "type": "scattergeo"
           }
          ],
          "scattergl": [
           {
            "marker": {
             "colorbar": {
              "outlinewidth": 0,
              "ticks": ""
             }
            },
            "type": "scattergl"
           }
          ],
          "scattermapbox": [
           {
            "marker": {
             "colorbar": {
              "outlinewidth": 0,
              "ticks": ""
             }
            },
            "type": "scattermapbox"
           }
          ],
          "scatterpolar": [
           {
            "marker": {
             "colorbar": {
              "outlinewidth": 0,
              "ticks": ""
             }
            },
            "type": "scatterpolar"
           }
          ],
          "scatterpolargl": [
           {
            "marker": {
             "colorbar": {
              "outlinewidth": 0,
              "ticks": ""
             }
            },
            "type": "scatterpolargl"
           }
          ],
          "scatterternary": [
           {
            "marker": {
             "colorbar": {
              "outlinewidth": 0,
              "ticks": ""
             }
            },
            "type": "scatterternary"
           }
          ],
          "surface": [
           {
            "colorbar": {
             "outlinewidth": 0,
             "ticks": ""
            },
            "colorscale": [
             [
              0,
              "#0d0887"
             ],
             [
              0.1111111111111111,
              "#46039f"
             ],
             [
              0.2222222222222222,
              "#7201a8"
             ],
             [
              0.3333333333333333,
              "#9c179e"
             ],
             [
              0.4444444444444444,
              "#bd3786"
             ],
             [
              0.5555555555555556,
              "#d8576b"
             ],
             [
              0.6666666666666666,
              "#ed7953"
             ],
             [
              0.7777777777777778,
              "#fb9f3a"
             ],
             [
              0.8888888888888888,
              "#fdca26"
             ],
             [
              1,
              "#f0f921"
             ]
            ],
            "type": "surface"
           }
          ],
          "table": [
           {
            "cells": {
             "fill": {
              "color": "#EBF0F8"
             },
             "line": {
              "color": "white"
             }
            },
            "header": {
             "fill": {
              "color": "#C8D4E3"
             },
             "line": {
              "color": "white"
             }
            },
            "type": "table"
           }
          ]
         },
         "layout": {
          "annotationdefaults": {
           "arrowcolor": "#2a3f5f",
           "arrowhead": 0,
           "arrowwidth": 1
          },
          "autotypenumbers": "strict",
          "coloraxis": {
           "colorbar": {
            "outlinewidth": 0,
            "ticks": ""
           }
          },
          "colorscale": {
           "diverging": [
            [
             0,
             "#8e0152"
            ],
            [
             0.1,
             "#c51b7d"
            ],
            [
             0.2,
             "#de77ae"
            ],
            [
             0.3,
             "#f1b6da"
            ],
            [
             0.4,
             "#fde0ef"
            ],
            [
             0.5,
             "#f7f7f7"
            ],
            [
             0.6,
             "#e6f5d0"
            ],
            [
             0.7,
             "#b8e186"
            ],
            [
             0.8,
             "#7fbc41"
            ],
            [
             0.9,
             "#4d9221"
            ],
            [
             1,
             "#276419"
            ]
           ],
           "sequential": [
            [
             0,
             "#0d0887"
            ],
            [
             0.1111111111111111,
             "#46039f"
            ],
            [
             0.2222222222222222,
             "#7201a8"
            ],
            [
             0.3333333333333333,
             "#9c179e"
            ],
            [
             0.4444444444444444,
             "#bd3786"
            ],
            [
             0.5555555555555556,
             "#d8576b"
            ],
            [
             0.6666666666666666,
             "#ed7953"
            ],
            [
             0.7777777777777778,
             "#fb9f3a"
            ],
            [
             0.8888888888888888,
             "#fdca26"
            ],
            [
             1,
             "#f0f921"
            ]
           ],
           "sequentialminus": [
            [
             0,
             "#0d0887"
            ],
            [
             0.1111111111111111,
             "#46039f"
            ],
            [
             0.2222222222222222,
             "#7201a8"
            ],
            [
             0.3333333333333333,
             "#9c179e"
            ],
            [
             0.4444444444444444,
             "#bd3786"
            ],
            [
             0.5555555555555556,
             "#d8576b"
            ],
            [
             0.6666666666666666,
             "#ed7953"
            ],
            [
             0.7777777777777778,
             "#fb9f3a"
            ],
            [
             0.8888888888888888,
             "#fdca26"
            ],
            [
             1,
             "#f0f921"
            ]
           ]
          },
          "colorway": [
           "#636efa",
           "#EF553B",
           "#00cc96",
           "#ab63fa",
           "#FFA15A",
           "#19d3f3",
           "#FF6692",
           "#B6E880",
           "#FF97FF",
           "#FECB52"
          ],
          "font": {
           "color": "#2a3f5f"
          },
          "geo": {
           "bgcolor": "white",
           "lakecolor": "white",
           "landcolor": "#E5ECF6",
           "showlakes": true,
           "showland": true,
           "subunitcolor": "white"
          },
          "hoverlabel": {
           "align": "left"
          },
          "hovermode": "closest",
          "mapbox": {
           "style": "light"
          },
          "paper_bgcolor": "white",
          "plot_bgcolor": "#E5ECF6",
          "polar": {
           "angularaxis": {
            "gridcolor": "white",
            "linecolor": "white",
            "ticks": ""
           },
           "bgcolor": "#E5ECF6",
           "radialaxis": {
            "gridcolor": "white",
            "linecolor": "white",
            "ticks": ""
           }
          },
          "scene": {
           "xaxis": {
            "backgroundcolor": "#E5ECF6",
            "gridcolor": "white",
            "gridwidth": 2,
            "linecolor": "white",
            "showbackground": true,
            "ticks": "",
            "zerolinecolor": "white"
           },
           "yaxis": {
            "backgroundcolor": "#E5ECF6",
            "gridcolor": "white",
            "gridwidth": 2,
            "linecolor": "white",
            "showbackground": true,
            "ticks": "",
            "zerolinecolor": "white"
           },
           "zaxis": {
            "backgroundcolor": "#E5ECF6",
            "gridcolor": "white",
            "gridwidth": 2,
            "linecolor": "white",
            "showbackground": true,
            "ticks": "",
            "zerolinecolor": "white"
           }
          },
          "shapedefaults": {
           "line": {
            "color": "#2a3f5f"
           }
          },
          "ternary": {
           "aaxis": {
            "gridcolor": "white",
            "linecolor": "white",
            "ticks": ""
           },
           "baxis": {
            "gridcolor": "white",
            "linecolor": "white",
            "ticks": ""
           },
           "bgcolor": "#E5ECF6",
           "caxis": {
            "gridcolor": "white",
            "linecolor": "white",
            "ticks": ""
           }
          },
          "title": {
           "x": 0.05
          },
          "xaxis": {
           "automargin": true,
           "gridcolor": "white",
           "linecolor": "white",
           "ticks": "",
           "title": {
            "standoff": 15
           },
           "zerolinecolor": "white",
           "zerolinewidth": 2
          },
          "yaxis": {
           "automargin": true,
           "gridcolor": "white",
           "linecolor": "white",
           "ticks": "",
           "title": {
            "standoff": 15
           },
           "zerolinecolor": "white",
           "zerolinewidth": 2
          }
         }
        }
       }
      }
     },
     "metadata": {},
     "output_type": "display_data"
    }
   ],
   "source": [
    "px.treemap(receiving_df, path=['Team'], values='Yds', color='TD', hover_data=['Rec'])"
   ]
  },
  {
   "cell_type": "code",
   "execution_count": 15,
   "metadata": {},
   "outputs": [
    {
     "data": {
      "application/vnd.plotly.v1+json": {
       "config": {
        "plotlyServerURL": "https://plot.ly"
       },
       "data": [
        {
         "branchvalues": "total",
         "customdata": [
          [
           82,
           3
          ],
          [
           64,
           2
          ],
          [
           59,
           0
          ],
          [
           49,
           1
          ],
          [
           51,
           0
          ],
          [
           114,
           5
          ],
          [
           63,
           0
          ],
          [
           50,
           3
          ],
          [
           55,
           0
          ],
          [
           45,
           1
          ],
          [
           51,
           1
          ],
          [
           49,
           1
          ],
          [
           45,
           1
          ],
          [
           41,
           0
          ],
          [
           73,
           6
          ],
          [
           65,
           2
          ],
          [
           65,
           1
          ],
          [
           55,
           2
          ],
          [
           37,
           0
          ],
          [
           52,
           3
          ],
          [
           56,
           2
          ],
          [
           42,
           2
          ],
          [
           53,
           1
          ],
          [
           34,
           0
          ],
          [
           44,
           1
          ],
          [
           46,
           1
          ],
          [
           39,
           1
          ],
          [
           33,
           0
          ],
          [
           66,
           2
          ],
          [
           46,
           0
          ],
          [
           53,
           1
          ],
          [
           39,
           0
          ]
         ],
         "domain": {
          "x": [
           0,
           1
          ],
          "y": [
           0,
           1
          ]
         },
         "hovertemplate": "labels=%{label}<br>Rush Yds=%{value}<br>parent=%{parent}<br>id=%{id}<br>Att=%{customdata[0]}<br>TD=%{color}<extra></extra>",
         "ids": [
          "49ers49ers",
          "BearsBears",
          "BengalsBengals",
          "BillsBills",
          "BroncosBroncos",
          "BrownsBrowns",
          "BuccaneersBuccaneers",
          "CardinalsCardinals",
          "ChargersChargers",
          "ChiefsChiefs",
          "ColtsColts",
          "CommandersCommanders",
          "CowboysCowboys",
          "DolphinsDolphins",
          "EaglesEagles",
          "FalconsFalcons",
          "GiantsGiants",
          "JaguarsJaguars",
          "JetsJets",
          "LionsLions",
          "PackersPackers",
          "PanthersPanthers",
          "PatriotsPatriots",
          "RaidersRaiders",
          "RamsRams",
          "RavensRavens",
          "SaintsSaints",
          "SeahawksSeahawks",
          "SteelersSteelers",
          "TexansTexans",
          "TitansTitans",
          "VikingsVikings"
         ],
         "labels": [
          "49ers49ers",
          "BearsBears",
          "BengalsBengals",
          "BillsBills",
          "BroncosBroncos",
          "BrownsBrowns",
          "BuccaneersBuccaneers",
          "CardinalsCardinals",
          "ChargersChargers",
          "ChiefsChiefs",
          "ColtsColts",
          "CommandersCommanders",
          "CowboysCowboys",
          "DolphinsDolphins",
          "EaglesEagles",
          "FalconsFalcons",
          "GiantsGiants",
          "JaguarsJaguars",
          "JetsJets",
          "LionsLions",
          "PackersPackers",
          "PanthersPanthers",
          "PatriotsPatriots",
          "RaidersRaiders",
          "RamsRams",
          "RavensRavens",
          "SaintsSaints",
          "SeahawksSeahawks",
          "SteelersSteelers",
          "TexansTexans",
          "TitansTitans",
          "VikingsVikings"
         ],
         "marker": {
          "coloraxis": "coloraxis",
          "colors": [
           3,
           2,
           0,
           1,
           0,
           5,
           0,
           3,
           0,
           1,
           1,
           1,
           1,
           0,
           6,
           2,
           1,
           2,
           0,
           3,
           2,
           2,
           1,
           0,
           1,
           1,
           1,
           0,
           2,
           0,
           1,
           0
          ]
         },
         "name": "",
         "parents": [
          "",
          "",
          "",
          "",
          "",
          "",
          "",
          "",
          "",
          "",
          "",
          "",
          "",
          "",
          "",
          "",
          "",
          "",
          "",
          "",
          "",
          "",
          "",
          "",
          "",
          "",
          "",
          "",
          "",
          "",
          "",
          ""
         ],
         "type": "treemap",
         "values": [
          365,
          279,
          222,
          222,
          252,
          572,
          224,
          246,
          151,
          221,
          231,
          173,
          178,
          151,
          379,
          291,
          341,
          219,
          176,
          372,
          314,
          200,
          202,
          144,
          117,
          218,
          251,
          112,
          270,
          157,
          173,
          188
         ]
        }
       ],
       "layout": {
        "coloraxis": {
         "colorbar": {
          "title": {
           "text": "TD"
          }
         },
         "colorscale": [
          [
           0,
           "#0d0887"
          ],
          [
           0.1111111111111111,
           "#46039f"
          ],
          [
           0.2222222222222222,
           "#7201a8"
          ],
          [
           0.3333333333333333,
           "#9c179e"
          ],
          [
           0.4444444444444444,
           "#bd3786"
          ],
          [
           0.5555555555555556,
           "#d8576b"
          ],
          [
           0.6666666666666666,
           "#ed7953"
          ],
          [
           0.7777777777777778,
           "#fb9f3a"
          ],
          [
           0.8888888888888888,
           "#fdca26"
          ],
          [
           1,
           "#f0f921"
          ]
         ]
        },
        "legend": {
         "tracegroupgap": 0
        },
        "margin": {
         "t": 60
        },
        "template": {
         "data": {
          "bar": [
           {
            "error_x": {
             "color": "#2a3f5f"
            },
            "error_y": {
             "color": "#2a3f5f"
            },
            "marker": {
             "line": {
              "color": "#E5ECF6",
              "width": 0.5
             },
             "pattern": {
              "fillmode": "overlay",
              "size": 10,
              "solidity": 0.2
             }
            },
            "type": "bar"
           }
          ],
          "barpolar": [
           {
            "marker": {
             "line": {
              "color": "#E5ECF6",
              "width": 0.5
             },
             "pattern": {
              "fillmode": "overlay",
              "size": 10,
              "solidity": 0.2
             }
            },
            "type": "barpolar"
           }
          ],
          "carpet": [
           {
            "aaxis": {
             "endlinecolor": "#2a3f5f",
             "gridcolor": "white",
             "linecolor": "white",
             "minorgridcolor": "white",
             "startlinecolor": "#2a3f5f"
            },
            "baxis": {
             "endlinecolor": "#2a3f5f",
             "gridcolor": "white",
             "linecolor": "white",
             "minorgridcolor": "white",
             "startlinecolor": "#2a3f5f"
            },
            "type": "carpet"
           }
          ],
          "choropleth": [
           {
            "colorbar": {
             "outlinewidth": 0,
             "ticks": ""
            },
            "type": "choropleth"
           }
          ],
          "contour": [
           {
            "colorbar": {
             "outlinewidth": 0,
             "ticks": ""
            },
            "colorscale": [
             [
              0,
              "#0d0887"
             ],
             [
              0.1111111111111111,
              "#46039f"
             ],
             [
              0.2222222222222222,
              "#7201a8"
             ],
             [
              0.3333333333333333,
              "#9c179e"
             ],
             [
              0.4444444444444444,
              "#bd3786"
             ],
             [
              0.5555555555555556,
              "#d8576b"
             ],
             [
              0.6666666666666666,
              "#ed7953"
             ],
             [
              0.7777777777777778,
              "#fb9f3a"
             ],
             [
              0.8888888888888888,
              "#fdca26"
             ],
             [
              1,
              "#f0f921"
             ]
            ],
            "type": "contour"
           }
          ],
          "contourcarpet": [
           {
            "colorbar": {
             "outlinewidth": 0,
             "ticks": ""
            },
            "type": "contourcarpet"
           }
          ],
          "heatmap": [
           {
            "colorbar": {
             "outlinewidth": 0,
             "ticks": ""
            },
            "colorscale": [
             [
              0,
              "#0d0887"
             ],
             [
              0.1111111111111111,
              "#46039f"
             ],
             [
              0.2222222222222222,
              "#7201a8"
             ],
             [
              0.3333333333333333,
              "#9c179e"
             ],
             [
              0.4444444444444444,
              "#bd3786"
             ],
             [
              0.5555555555555556,
              "#d8576b"
             ],
             [
              0.6666666666666666,
              "#ed7953"
             ],
             [
              0.7777777777777778,
              "#fb9f3a"
             ],
             [
              0.8888888888888888,
              "#fdca26"
             ],
             [
              1,
              "#f0f921"
             ]
            ],
            "type": "heatmap"
           }
          ],
          "heatmapgl": [
           {
            "colorbar": {
             "outlinewidth": 0,
             "ticks": ""
            },
            "colorscale": [
             [
              0,
              "#0d0887"
             ],
             [
              0.1111111111111111,
              "#46039f"
             ],
             [
              0.2222222222222222,
              "#7201a8"
             ],
             [
              0.3333333333333333,
              "#9c179e"
             ],
             [
              0.4444444444444444,
              "#bd3786"
             ],
             [
              0.5555555555555556,
              "#d8576b"
             ],
             [
              0.6666666666666666,
              "#ed7953"
             ],
             [
              0.7777777777777778,
              "#fb9f3a"
             ],
             [
              0.8888888888888888,
              "#fdca26"
             ],
             [
              1,
              "#f0f921"
             ]
            ],
            "type": "heatmapgl"
           }
          ],
          "histogram": [
           {
            "marker": {
             "pattern": {
              "fillmode": "overlay",
              "size": 10,
              "solidity": 0.2
             }
            },
            "type": "histogram"
           }
          ],
          "histogram2d": [
           {
            "colorbar": {
             "outlinewidth": 0,
             "ticks": ""
            },
            "colorscale": [
             [
              0,
              "#0d0887"
             ],
             [
              0.1111111111111111,
              "#46039f"
             ],
             [
              0.2222222222222222,
              "#7201a8"
             ],
             [
              0.3333333333333333,
              "#9c179e"
             ],
             [
              0.4444444444444444,
              "#bd3786"
             ],
             [
              0.5555555555555556,
              "#d8576b"
             ],
             [
              0.6666666666666666,
              "#ed7953"
             ],
             [
              0.7777777777777778,
              "#fb9f3a"
             ],
             [
              0.8888888888888888,
              "#fdca26"
             ],
             [
              1,
              "#f0f921"
             ]
            ],
            "type": "histogram2d"
           }
          ],
          "histogram2dcontour": [
           {
            "colorbar": {
             "outlinewidth": 0,
             "ticks": ""
            },
            "colorscale": [
             [
              0,
              "#0d0887"
             ],
             [
              0.1111111111111111,
              "#46039f"
             ],
             [
              0.2222222222222222,
              "#7201a8"
             ],
             [
              0.3333333333333333,
              "#9c179e"
             ],
             [
              0.4444444444444444,
              "#bd3786"
             ],
             [
              0.5555555555555556,
              "#d8576b"
             ],
             [
              0.6666666666666666,
              "#ed7953"
             ],
             [
              0.7777777777777778,
              "#fb9f3a"
             ],
             [
              0.8888888888888888,
              "#fdca26"
             ],
             [
              1,
              "#f0f921"
             ]
            ],
            "type": "histogram2dcontour"
           }
          ],
          "mesh3d": [
           {
            "colorbar": {
             "outlinewidth": 0,
             "ticks": ""
            },
            "type": "mesh3d"
           }
          ],
          "parcoords": [
           {
            "line": {
             "colorbar": {
              "outlinewidth": 0,
              "ticks": ""
             }
            },
            "type": "parcoords"
           }
          ],
          "pie": [
           {
            "automargin": true,
            "type": "pie"
           }
          ],
          "scatter": [
           {
            "fillpattern": {
             "fillmode": "overlay",
             "size": 10,
             "solidity": 0.2
            },
            "type": "scatter"
           }
          ],
          "scatter3d": [
           {
            "line": {
             "colorbar": {
              "outlinewidth": 0,
              "ticks": ""
             }
            },
            "marker": {
             "colorbar": {
              "outlinewidth": 0,
              "ticks": ""
             }
            },
            "type": "scatter3d"
           }
          ],
          "scattercarpet": [
           {
            "marker": {
             "colorbar": {
              "outlinewidth": 0,
              "ticks": ""
             }
            },
            "type": "scattercarpet"
           }
          ],
          "scattergeo": [
           {
            "marker": {
             "colorbar": {
              "outlinewidth": 0,
              "ticks": ""
             }
            },
            "type": "scattergeo"
           }
          ],
          "scattergl": [
           {
            "marker": {
             "colorbar": {
              "outlinewidth": 0,
              "ticks": ""
             }
            },
            "type": "scattergl"
           }
          ],
          "scattermapbox": [
           {
            "marker": {
             "colorbar": {
              "outlinewidth": 0,
              "ticks": ""
             }
            },
            "type": "scattermapbox"
           }
          ],
          "scatterpolar": [
           {
            "marker": {
             "colorbar": {
              "outlinewidth": 0,
              "ticks": ""
             }
            },
            "type": "scatterpolar"
           }
          ],
          "scatterpolargl": [
           {
            "marker": {
             "colorbar": {
              "outlinewidth": 0,
              "ticks": ""
             }
            },
            "type": "scatterpolargl"
           }
          ],
          "scatterternary": [
           {
            "marker": {
             "colorbar": {
              "outlinewidth": 0,
              "ticks": ""
             }
            },
            "type": "scatterternary"
           }
          ],
          "surface": [
           {
            "colorbar": {
             "outlinewidth": 0,
             "ticks": ""
            },
            "colorscale": [
             [
              0,
              "#0d0887"
             ],
             [
              0.1111111111111111,
              "#46039f"
             ],
             [
              0.2222222222222222,
              "#7201a8"
             ],
             [
              0.3333333333333333,
              "#9c179e"
             ],
             [
              0.4444444444444444,
              "#bd3786"
             ],
             [
              0.5555555555555556,
              "#d8576b"
             ],
             [
              0.6666666666666666,
              "#ed7953"
             ],
             [
              0.7777777777777778,
              "#fb9f3a"
             ],
             [
              0.8888888888888888,
              "#fdca26"
             ],
             [
              1,
              "#f0f921"
             ]
            ],
            "type": "surface"
           }
          ],
          "table": [
           {
            "cells": {
             "fill": {
              "color": "#EBF0F8"
             },
             "line": {
              "color": "white"
             }
            },
            "header": {
             "fill": {
              "color": "#C8D4E3"
             },
             "line": {
              "color": "white"
             }
            },
            "type": "table"
           }
          ]
         },
         "layout": {
          "annotationdefaults": {
           "arrowcolor": "#2a3f5f",
           "arrowhead": 0,
           "arrowwidth": 1
          },
          "autotypenumbers": "strict",
          "coloraxis": {
           "colorbar": {
            "outlinewidth": 0,
            "ticks": ""
           }
          },
          "colorscale": {
           "diverging": [
            [
             0,
             "#8e0152"
            ],
            [
             0.1,
             "#c51b7d"
            ],
            [
             0.2,
             "#de77ae"
            ],
            [
             0.3,
             "#f1b6da"
            ],
            [
             0.4,
             "#fde0ef"
            ],
            [
             0.5,
             "#f7f7f7"
            ],
            [
             0.6,
             "#e6f5d0"
            ],
            [
             0.7,
             "#b8e186"
            ],
            [
             0.8,
             "#7fbc41"
            ],
            [
             0.9,
             "#4d9221"
            ],
            [
             1,
             "#276419"
            ]
           ],
           "sequential": [
            [
             0,
             "#0d0887"
            ],
            [
             0.1111111111111111,
             "#46039f"
            ],
            [
             0.2222222222222222,
             "#7201a8"
            ],
            [
             0.3333333333333333,
             "#9c179e"
            ],
            [
             0.4444444444444444,
             "#bd3786"
            ],
            [
             0.5555555555555556,
             "#d8576b"
            ],
            [
             0.6666666666666666,
             "#ed7953"
            ],
            [
             0.7777777777777778,
             "#fb9f3a"
            ],
            [
             0.8888888888888888,
             "#fdca26"
            ],
            [
             1,
             "#f0f921"
            ]
           ],
           "sequentialminus": [
            [
             0,
             "#0d0887"
            ],
            [
             0.1111111111111111,
             "#46039f"
            ],
            [
             0.2222222222222222,
             "#7201a8"
            ],
            [
             0.3333333333333333,
             "#9c179e"
            ],
            [
             0.4444444444444444,
             "#bd3786"
            ],
            [
             0.5555555555555556,
             "#d8576b"
            ],
            [
             0.6666666666666666,
             "#ed7953"
            ],
            [
             0.7777777777777778,
             "#fb9f3a"
            ],
            [
             0.8888888888888888,
             "#fdca26"
            ],
            [
             1,
             "#f0f921"
            ]
           ]
          },
          "colorway": [
           "#636efa",
           "#EF553B",
           "#00cc96",
           "#ab63fa",
           "#FFA15A",
           "#19d3f3",
           "#FF6692",
           "#B6E880",
           "#FF97FF",
           "#FECB52"
          ],
          "font": {
           "color": "#2a3f5f"
          },
          "geo": {
           "bgcolor": "white",
           "lakecolor": "white",
           "landcolor": "#E5ECF6",
           "showlakes": true,
           "showland": true,
           "subunitcolor": "white"
          },
          "hoverlabel": {
           "align": "left"
          },
          "hovermode": "closest",
          "mapbox": {
           "style": "light"
          },
          "paper_bgcolor": "white",
          "plot_bgcolor": "#E5ECF6",
          "polar": {
           "angularaxis": {
            "gridcolor": "white",
            "linecolor": "white",
            "ticks": ""
           },
           "bgcolor": "#E5ECF6",
           "radialaxis": {
            "gridcolor": "white",
            "linecolor": "white",
            "ticks": ""
           }
          },
          "scene": {
           "xaxis": {
            "backgroundcolor": "#E5ECF6",
            "gridcolor": "white",
            "gridwidth": 2,
            "linecolor": "white",
            "showbackground": true,
            "ticks": "",
            "zerolinecolor": "white"
           },
           "yaxis": {
            "backgroundcolor": "#E5ECF6",
            "gridcolor": "white",
            "gridwidth": 2,
            "linecolor": "white",
            "showbackground": true,
            "ticks": "",
            "zerolinecolor": "white"
           },
           "zaxis": {
            "backgroundcolor": "#E5ECF6",
            "gridcolor": "white",
            "gridwidth": 2,
            "linecolor": "white",
            "showbackground": true,
            "ticks": "",
            "zerolinecolor": "white"
           }
          },
          "shapedefaults": {
           "line": {
            "color": "#2a3f5f"
           }
          },
          "ternary": {
           "aaxis": {
            "gridcolor": "white",
            "linecolor": "white",
            "ticks": ""
           },
           "baxis": {
            "gridcolor": "white",
            "linecolor": "white",
            "ticks": ""
           },
           "bgcolor": "#E5ECF6",
           "caxis": {
            "gridcolor": "white",
            "linecolor": "white",
            "ticks": ""
           }
          },
          "title": {
           "x": 0.05
          },
          "xaxis": {
           "automargin": true,
           "gridcolor": "white",
           "linecolor": "white",
           "ticks": "",
           "title": {
            "standoff": 15
           },
           "zerolinecolor": "white",
           "zerolinewidth": 2
          },
          "yaxis": {
           "automargin": true,
           "gridcolor": "white",
           "linecolor": "white",
           "ticks": "",
           "title": {
            "standoff": 15
           },
           "zerolinecolor": "white",
           "zerolinewidth": 2
          }
         }
        }
       }
      }
     },
     "metadata": {},
     "output_type": "display_data"
    }
   ],
   "source": [
    "px.treemap(rushing_df, path=['Team'], values='Rush Yds', color='TD', hover_data=['Att'])"
   ]
  },
  {
   "cell_type": "code",
   "execution_count": 16,
   "metadata": {},
   "outputs": [
    {
     "data": {
      "application/vnd.plotly.v1+json": {
       "config": {
        "plotlyServerURL": "https://plot.ly"
       },
       "data": [
        {
         "branchvalues": "total",
         "customdata": [
          [
           1,
           3,
           4
          ],
          [
           2,
           2,
           4
          ],
          [
           3,
           0,
           3
          ],
          [
           7,
           1,
           9
          ],
          [
           2,
           0,
           2
          ],
          [
           4,
           5,
           9
          ],
          [
           2,
           0,
           3
          ],
          [
           3,
           3,
           6
          ],
          [
           6,
           0,
           6
          ],
          [
           7,
           1,
           9
          ],
          [
           1,
           1,
           2
          ],
          [
           7,
           1,
           8
          ],
          [
           1,
           1,
           2
          ],
          [
           7,
           0,
           7
          ],
          [
           1,
           6,
           8
          ],
          [
           2,
           2,
           5
          ],
          [
           3,
           1,
           4
          ],
          [
           3,
           2,
           5
          ],
          [
           5,
           0,
           5
          ],
          [
           6,
           3,
           9
          ],
          [
           2,
           2,
           4
          ],
          [
           2,
           2,
           4
          ],
          [
           2,
           1,
           3
          ],
          [
           4,
           0,
           4
          ],
          [
           4,
           1,
           5
          ],
          [
           6,
           1,
           8
          ],
          [
           3,
           1,
           4
          ],
          [
           2,
           0,
           3
          ],
          [
           2,
           2,
           5
          ],
          [
           2,
           0,
           2
          ],
          [
           2,
           1,
           3
          ],
          [
           3,
           0,
           3
          ]
         ],
         "domain": {
          "x": [
           0,
           1
          ],
          "y": [
           0,
           1
          ]
         },
         "hovertemplate": "labels=%{label}<br>Tot TD_sum=%{value}<br>parent=%{parent}<br>id=%{id}<br>Rec TD=%{customdata[0]}<br>Rsh TD=%{customdata[1]}<br>Tot TD=%{color}<extra></extra>",
         "ids": [
          "49ers49ers",
          "BearsBears",
          "BengalsBengals",
          "BillsBills",
          "BroncosBroncos",
          "BrownsBrowns",
          "BuccaneersBuccaneers",
          "CardinalsCardinals",
          "ChargersChargers",
          "ChiefsChiefs",
          "ColtsColts",
          "CommandersCommanders",
          "CowboysCowboys",
          "DolphinsDolphins",
          "EaglesEagles",
          "FalconsFalcons",
          "GiantsGiants",
          "JaguarsJaguars",
          "JetsJets",
          "LionsLions",
          "PackersPackers",
          "PanthersPanthers",
          "PatriotsPatriots",
          "RaidersRaiders",
          "RamsRams",
          "RavensRavens",
          "SaintsSaints",
          "SeahawksSeahawks",
          "SteelersSteelers",
          "TexansTexans",
          "TitansTitans",
          "VikingsVikings"
         ],
         "labels": [
          "49ers49ers",
          "BearsBears",
          "BengalsBengals",
          "BillsBills",
          "BroncosBroncos",
          "BrownsBrowns",
          "BuccaneersBuccaneers",
          "CardinalsCardinals",
          "ChargersChargers",
          "ChiefsChiefs",
          "ColtsColts",
          "CommandersCommanders",
          "CowboysCowboys",
          "DolphinsDolphins",
          "EaglesEagles",
          "FalconsFalcons",
          "GiantsGiants",
          "JaguarsJaguars",
          "JetsJets",
          "LionsLions",
          "PackersPackers",
          "PanthersPanthers",
          "PatriotsPatriots",
          "RaidersRaiders",
          "RamsRams",
          "RavensRavens",
          "SaintsSaints",
          "SeahawksSeahawks",
          "SteelersSteelers",
          "TexansTexans",
          "TitansTitans",
          "VikingsVikings"
         ],
         "marker": {
          "coloraxis": "coloraxis",
          "colors": [
           4,
           4,
           3,
           9,
           2,
           9,
           3,
           6,
           6,
           9,
           2,
           8,
           2,
           7,
           8,
           5,
           4,
           5,
           5,
           9,
           4,
           4,
           3,
           4,
           5,
           8,
           4,
           3,
           5,
           2,
           3,
           3
          ]
         },
         "name": "",
         "parents": [
          "",
          "",
          "",
          "",
          "",
          "",
          "",
          "",
          "",
          "",
          "",
          "",
          "",
          "",
          "",
          "",
          "",
          "",
          "",
          "",
          "",
          "",
          "",
          "",
          "",
          "",
          "",
          "",
          "",
          "",
          "",
          ""
         ],
         "type": "treemap",
         "values": [
          4,
          4,
          3,
          9,
          2,
          9,
          3,
          6,
          6,
          9,
          2,
          8,
          2,
          7,
          8,
          5,
          4,
          5,
          5,
          9,
          4,
          4,
          3,
          4,
          5,
          8,
          4,
          3,
          5,
          2,
          3,
          3
         ]
        }
       ],
       "layout": {
        "coloraxis": {
         "colorbar": {
          "title": {
           "text": "Tot TD"
          }
         },
         "colorscale": [
          [
           0,
           "#0d0887"
          ],
          [
           0.1111111111111111,
           "#46039f"
          ],
          [
           0.2222222222222222,
           "#7201a8"
          ],
          [
           0.3333333333333333,
           "#9c179e"
          ],
          [
           0.4444444444444444,
           "#bd3786"
          ],
          [
           0.5555555555555556,
           "#d8576b"
          ],
          [
           0.6666666666666666,
           "#ed7953"
          ],
          [
           0.7777777777777778,
           "#fb9f3a"
          ],
          [
           0.8888888888888888,
           "#fdca26"
          ],
          [
           1,
           "#f0f921"
          ]
         ]
        },
        "legend": {
         "tracegroupgap": 0
        },
        "margin": {
         "t": 60
        },
        "template": {
         "data": {
          "bar": [
           {
            "error_x": {
             "color": "#2a3f5f"
            },
            "error_y": {
             "color": "#2a3f5f"
            },
            "marker": {
             "line": {
              "color": "#E5ECF6",
              "width": 0.5
             },
             "pattern": {
              "fillmode": "overlay",
              "size": 10,
              "solidity": 0.2
             }
            },
            "type": "bar"
           }
          ],
          "barpolar": [
           {
            "marker": {
             "line": {
              "color": "#E5ECF6",
              "width": 0.5
             },
             "pattern": {
              "fillmode": "overlay",
              "size": 10,
              "solidity": 0.2
             }
            },
            "type": "barpolar"
           }
          ],
          "carpet": [
           {
            "aaxis": {
             "endlinecolor": "#2a3f5f",
             "gridcolor": "white",
             "linecolor": "white",
             "minorgridcolor": "white",
             "startlinecolor": "#2a3f5f"
            },
            "baxis": {
             "endlinecolor": "#2a3f5f",
             "gridcolor": "white",
             "linecolor": "white",
             "minorgridcolor": "white",
             "startlinecolor": "#2a3f5f"
            },
            "type": "carpet"
           }
          ],
          "choropleth": [
           {
            "colorbar": {
             "outlinewidth": 0,
             "ticks": ""
            },
            "type": "choropleth"
           }
          ],
          "contour": [
           {
            "colorbar": {
             "outlinewidth": 0,
             "ticks": ""
            },
            "colorscale": [
             [
              0,
              "#0d0887"
             ],
             [
              0.1111111111111111,
              "#46039f"
             ],
             [
              0.2222222222222222,
              "#7201a8"
             ],
             [
              0.3333333333333333,
              "#9c179e"
             ],
             [
              0.4444444444444444,
              "#bd3786"
             ],
             [
              0.5555555555555556,
              "#d8576b"
             ],
             [
              0.6666666666666666,
              "#ed7953"
             ],
             [
              0.7777777777777778,
              "#fb9f3a"
             ],
             [
              0.8888888888888888,
              "#fdca26"
             ],
             [
              1,
              "#f0f921"
             ]
            ],
            "type": "contour"
           }
          ],
          "contourcarpet": [
           {
            "colorbar": {
             "outlinewidth": 0,
             "ticks": ""
            },
            "type": "contourcarpet"
           }
          ],
          "heatmap": [
           {
            "colorbar": {
             "outlinewidth": 0,
             "ticks": ""
            },
            "colorscale": [
             [
              0,
              "#0d0887"
             ],
             [
              0.1111111111111111,
              "#46039f"
             ],
             [
              0.2222222222222222,
              "#7201a8"
             ],
             [
              0.3333333333333333,
              "#9c179e"
             ],
             [
              0.4444444444444444,
              "#bd3786"
             ],
             [
              0.5555555555555556,
              "#d8576b"
             ],
             [
              0.6666666666666666,
              "#ed7953"
             ],
             [
              0.7777777777777778,
              "#fb9f3a"
             ],
             [
              0.8888888888888888,
              "#fdca26"
             ],
             [
              1,
              "#f0f921"
             ]
            ],
            "type": "heatmap"
           }
          ],
          "heatmapgl": [
           {
            "colorbar": {
             "outlinewidth": 0,
             "ticks": ""
            },
            "colorscale": [
             [
              0,
              "#0d0887"
             ],
             [
              0.1111111111111111,
              "#46039f"
             ],
             [
              0.2222222222222222,
              "#7201a8"
             ],
             [
              0.3333333333333333,
              "#9c179e"
             ],
             [
              0.4444444444444444,
              "#bd3786"
             ],
             [
              0.5555555555555556,
              "#d8576b"
             ],
             [
              0.6666666666666666,
              "#ed7953"
             ],
             [
              0.7777777777777778,
              "#fb9f3a"
             ],
             [
              0.8888888888888888,
              "#fdca26"
             ],
             [
              1,
              "#f0f921"
             ]
            ],
            "type": "heatmapgl"
           }
          ],
          "histogram": [
           {
            "marker": {
             "pattern": {
              "fillmode": "overlay",
              "size": 10,
              "solidity": 0.2
             }
            },
            "type": "histogram"
           }
          ],
          "histogram2d": [
           {
            "colorbar": {
             "outlinewidth": 0,
             "ticks": ""
            },
            "colorscale": [
             [
              0,
              "#0d0887"
             ],
             [
              0.1111111111111111,
              "#46039f"
             ],
             [
              0.2222222222222222,
              "#7201a8"
             ],
             [
              0.3333333333333333,
              "#9c179e"
             ],
             [
              0.4444444444444444,
              "#bd3786"
             ],
             [
              0.5555555555555556,
              "#d8576b"
             ],
             [
              0.6666666666666666,
              "#ed7953"
             ],
             [
              0.7777777777777778,
              "#fb9f3a"
             ],
             [
              0.8888888888888888,
              "#fdca26"
             ],
             [
              1,
              "#f0f921"
             ]
            ],
            "type": "histogram2d"
           }
          ],
          "histogram2dcontour": [
           {
            "colorbar": {
             "outlinewidth": 0,
             "ticks": ""
            },
            "colorscale": [
             [
              0,
              "#0d0887"
             ],
             [
              0.1111111111111111,
              "#46039f"
             ],
             [
              0.2222222222222222,
              "#7201a8"
             ],
             [
              0.3333333333333333,
              "#9c179e"
             ],
             [
              0.4444444444444444,
              "#bd3786"
             ],
             [
              0.5555555555555556,
              "#d8576b"
             ],
             [
              0.6666666666666666,
              "#ed7953"
             ],
             [
              0.7777777777777778,
              "#fb9f3a"
             ],
             [
              0.8888888888888888,
              "#fdca26"
             ],
             [
              1,
              "#f0f921"
             ]
            ],
            "type": "histogram2dcontour"
           }
          ],
          "mesh3d": [
           {
            "colorbar": {
             "outlinewidth": 0,
             "ticks": ""
            },
            "type": "mesh3d"
           }
          ],
          "parcoords": [
           {
            "line": {
             "colorbar": {
              "outlinewidth": 0,
              "ticks": ""
             }
            },
            "type": "parcoords"
           }
          ],
          "pie": [
           {
            "automargin": true,
            "type": "pie"
           }
          ],
          "scatter": [
           {
            "fillpattern": {
             "fillmode": "overlay",
             "size": 10,
             "solidity": 0.2
            },
            "type": "scatter"
           }
          ],
          "scatter3d": [
           {
            "line": {
             "colorbar": {
              "outlinewidth": 0,
              "ticks": ""
             }
            },
            "marker": {
             "colorbar": {
              "outlinewidth": 0,
              "ticks": ""
             }
            },
            "type": "scatter3d"
           }
          ],
          "scattercarpet": [
           {
            "marker": {
             "colorbar": {
              "outlinewidth": 0,
              "ticks": ""
             }
            },
            "type": "scattercarpet"
           }
          ],
          "scattergeo": [
           {
            "marker": {
             "colorbar": {
              "outlinewidth": 0,
              "ticks": ""
             }
            },
            "type": "scattergeo"
           }
          ],
          "scattergl": [
           {
            "marker": {
             "colorbar": {
              "outlinewidth": 0,
              "ticks": ""
             }
            },
            "type": "scattergl"
           }
          ],
          "scattermapbox": [
           {
            "marker": {
             "colorbar": {
              "outlinewidth": 0,
              "ticks": ""
             }
            },
            "type": "scattermapbox"
           }
          ],
          "scatterpolar": [
           {
            "marker": {
             "colorbar": {
              "outlinewidth": 0,
              "ticks": ""
             }
            },
            "type": "scatterpolar"
           }
          ],
          "scatterpolargl": [
           {
            "marker": {
             "colorbar": {
              "outlinewidth": 0,
              "ticks": ""
             }
            },
            "type": "scatterpolargl"
           }
          ],
          "scatterternary": [
           {
            "marker": {
             "colorbar": {
              "outlinewidth": 0,
              "ticks": ""
             }
            },
            "type": "scatterternary"
           }
          ],
          "surface": [
           {
            "colorbar": {
             "outlinewidth": 0,
             "ticks": ""
            },
            "colorscale": [
             [
              0,
              "#0d0887"
             ],
             [
              0.1111111111111111,
              "#46039f"
             ],
             [
              0.2222222222222222,
              "#7201a8"
             ],
             [
              0.3333333333333333,
              "#9c179e"
             ],
             [
              0.4444444444444444,
              "#bd3786"
             ],
             [
              0.5555555555555556,
              "#d8576b"
             ],
             [
              0.6666666666666666,
              "#ed7953"
             ],
             [
              0.7777777777777778,
              "#fb9f3a"
             ],
             [
              0.8888888888888888,
              "#fdca26"
             ],
             [
              1,
              "#f0f921"
             ]
            ],
            "type": "surface"
           }
          ],
          "table": [
           {
            "cells": {
             "fill": {
              "color": "#EBF0F8"
             },
             "line": {
              "color": "white"
             }
            },
            "header": {
             "fill": {
              "color": "#C8D4E3"
             },
             "line": {
              "color": "white"
             }
            },
            "type": "table"
           }
          ]
         },
         "layout": {
          "annotationdefaults": {
           "arrowcolor": "#2a3f5f",
           "arrowhead": 0,
           "arrowwidth": 1
          },
          "autotypenumbers": "strict",
          "coloraxis": {
           "colorbar": {
            "outlinewidth": 0,
            "ticks": ""
           }
          },
          "colorscale": {
           "diverging": [
            [
             0,
             "#8e0152"
            ],
            [
             0.1,
             "#c51b7d"
            ],
            [
             0.2,
             "#de77ae"
            ],
            [
             0.3,
             "#f1b6da"
            ],
            [
             0.4,
             "#fde0ef"
            ],
            [
             0.5,
             "#f7f7f7"
            ],
            [
             0.6,
             "#e6f5d0"
            ],
            [
             0.7,
             "#b8e186"
            ],
            [
             0.8,
             "#7fbc41"
            ],
            [
             0.9,
             "#4d9221"
            ],
            [
             1,
             "#276419"
            ]
           ],
           "sequential": [
            [
             0,
             "#0d0887"
            ],
            [
             0.1111111111111111,
             "#46039f"
            ],
            [
             0.2222222222222222,
             "#7201a8"
            ],
            [
             0.3333333333333333,
             "#9c179e"
            ],
            [
             0.4444444444444444,
             "#bd3786"
            ],
            [
             0.5555555555555556,
             "#d8576b"
            ],
            [
             0.6666666666666666,
             "#ed7953"
            ],
            [
             0.7777777777777778,
             "#fb9f3a"
            ],
            [
             0.8888888888888888,
             "#fdca26"
            ],
            [
             1,
             "#f0f921"
            ]
           ],
           "sequentialminus": [
            [
             0,
             "#0d0887"
            ],
            [
             0.1111111111111111,
             "#46039f"
            ],
            [
             0.2222222222222222,
             "#7201a8"
            ],
            [
             0.3333333333333333,
             "#9c179e"
            ],
            [
             0.4444444444444444,
             "#bd3786"
            ],
            [
             0.5555555555555556,
             "#d8576b"
            ],
            [
             0.6666666666666666,
             "#ed7953"
            ],
            [
             0.7777777777777778,
             "#fb9f3a"
            ],
            [
             0.8888888888888888,
             "#fdca26"
            ],
            [
             1,
             "#f0f921"
            ]
           ]
          },
          "colorway": [
           "#636efa",
           "#EF553B",
           "#00cc96",
           "#ab63fa",
           "#FFA15A",
           "#19d3f3",
           "#FF6692",
           "#B6E880",
           "#FF97FF",
           "#FECB52"
          ],
          "font": {
           "color": "#2a3f5f"
          },
          "geo": {
           "bgcolor": "white",
           "lakecolor": "white",
           "landcolor": "#E5ECF6",
           "showlakes": true,
           "showland": true,
           "subunitcolor": "white"
          },
          "hoverlabel": {
           "align": "left"
          },
          "hovermode": "closest",
          "mapbox": {
           "style": "light"
          },
          "paper_bgcolor": "white",
          "plot_bgcolor": "#E5ECF6",
          "polar": {
           "angularaxis": {
            "gridcolor": "white",
            "linecolor": "white",
            "ticks": ""
           },
           "bgcolor": "#E5ECF6",
           "radialaxis": {
            "gridcolor": "white",
            "linecolor": "white",
            "ticks": ""
           }
          },
          "scene": {
           "xaxis": {
            "backgroundcolor": "#E5ECF6",
            "gridcolor": "white",
            "gridwidth": 2,
            "linecolor": "white",
            "showbackground": true,
            "ticks": "",
            "zerolinecolor": "white"
           },
           "yaxis": {
            "backgroundcolor": "#E5ECF6",
            "gridcolor": "white",
            "gridwidth": 2,
            "linecolor": "white",
            "showbackground": true,
            "ticks": "",
            "zerolinecolor": "white"
           },
           "zaxis": {
            "backgroundcolor": "#E5ECF6",
            "gridcolor": "white",
            "gridwidth": 2,
            "linecolor": "white",
            "showbackground": true,
            "ticks": "",
            "zerolinecolor": "white"
           }
          },
          "shapedefaults": {
           "line": {
            "color": "#2a3f5f"
           }
          },
          "ternary": {
           "aaxis": {
            "gridcolor": "white",
            "linecolor": "white",
            "ticks": ""
           },
           "baxis": {
            "gridcolor": "white",
            "linecolor": "white",
            "ticks": ""
           },
           "bgcolor": "#E5ECF6",
           "caxis": {
            "gridcolor": "white",
            "linecolor": "white",
            "ticks": ""
           }
          },
          "title": {
           "x": 0.05
          },
          "xaxis": {
           "automargin": true,
           "gridcolor": "white",
           "linecolor": "white",
           "ticks": "",
           "title": {
            "standoff": 15
           },
           "zerolinecolor": "white",
           "zerolinewidth": 2
          },
          "yaxis": {
           "automargin": true,
           "gridcolor": "white",
           "linecolor": "white",
           "ticks": "",
           "title": {
            "standoff": 15
           },
           "zerolinecolor": "white",
           "zerolinewidth": 2
          }
         }
        }
       }
      }
     },
     "metadata": {},
     "output_type": "display_data"
    }
   ],
   "source": [
    "px.treemap(scoring_df, path=['Team'], values='Tot TD', color='Tot TD', hover_data=['Rec TD', 'Rsh TD'])"
   ]
  },
  {
   "cell_type": "code",
   "execution_count": 17,
   "metadata": {},
   "outputs": [
    {
     "data": {
      "application/vnd.plotly.v1+json": {
       "config": {
        "plotlyServerURL": "https://plot.ly"
       },
       "data": [
        {
         "alignmentgroup": "True",
         "customdata": [
          [
           104
          ],
          [
           103
          ],
          [
           92
          ],
          [
           89
          ],
          [
           87
          ],
          [
           87
          ],
          [
           83
          ],
          [
           82
          ],
          [
           80
          ],
          [
           78
          ],
          [
           77
          ],
          [
           76
          ],
          [
           75
          ],
          [
           74
          ],
          [
           74
          ],
          [
           73
          ],
          [
           73
          ],
          [
           72
          ],
          [
           71
          ],
          [
           71
          ],
          [
           65
          ],
          [
           64
          ],
          [
           63
          ],
          [
           61
          ],
          [
           59
          ],
          [
           59
          ],
          [
           59
          ],
          [
           57
          ],
          [
           56
          ],
          [
           55
          ],
          [
           52
          ],
          [
           28
          ]
         ],
         "hovertemplate": "Team=%{x}<br>Pass Yds=%{y}<br>Att=%{customdata[0]}<br>TD=%{marker.color}<extra></extra>",
         "legendgroup": "",
         "marker": {
          "color": [
           5,
           2,
           4,
           3,
           3,
           7,
           7,
           6,
           1,
           3,
           4,
           4,
           2,
           7,
           3,
           1,
           2,
           3,
           7,
           6,
           2,
           2,
           1,
           2,
           2,
           6,
           2,
           2,
           2,
           3,
           1,
           2
          ],
          "coloraxis": "coloraxis",
          "pattern": {
           "shape": ""
          }
         },
         "name": "",
         "offsetgroup": "",
         "orientation": "v",
         "showlegend": false,
         "textposition": "auto",
         "type": "bar",
         "x": [
          "JetsJets",
          "SteelersSteelers",
          "BrownsBrowns",
          "BengalsBengals",
          "CardinalsCardinals",
          "CommandersCommanders",
          "DolphinsDolphins",
          "ChargersChargers",
          "ColtsColts",
          "VikingsVikings",
          "RamsRams",
          "RaidersRaiders",
          "TexansTexans",
          "ChiefsChiefs",
          "SaintsSaints",
          "CowboysCowboys",
          "BroncosBroncos",
          "JaguarsJaguars",
          "BillsBills",
          "LionsLions",
          "PatriotsPatriots",
          "PackersPackers",
          "EaglesEagles",
          "BuccaneersBuccaneers",
          "FalconsFalcons",
          "RavensRavens",
          "SeahawksSeahawks",
          "TitansTitans",
          "PanthersPanthers",
          "GiantsGiants",
          "49ers49ers",
          "BearsBears"
         ],
         "xaxis": "x",
         "y": [
          633,
          569,
          596,
          537,
          482,
          650,
          739,
          613,
          547,
          498,
          512,
          547,
          417,
          595,
          505,
          433,
          559,
          510,
          614,
          471,
          465,
          494,
          576,
          402,
          411,
          531,
          392,
          389,
          380,
          364,
          348,
          191
         ],
         "yaxis": "y"
        }
       ],
       "layout": {
        "barmode": "relative",
        "coloraxis": {
         "colorbar": {
          "title": {
           "text": "TD"
          }
         },
         "colorscale": [
          [
           0,
           "#0d0887"
          ],
          [
           0.1111111111111111,
           "#46039f"
          ],
          [
           0.2222222222222222,
           "#7201a8"
          ],
          [
           0.3333333333333333,
           "#9c179e"
          ],
          [
           0.4444444444444444,
           "#bd3786"
          ],
          [
           0.5555555555555556,
           "#d8576b"
          ],
          [
           0.6666666666666666,
           "#ed7953"
          ],
          [
           0.7777777777777778,
           "#fb9f3a"
          ],
          [
           0.8888888888888888,
           "#fdca26"
          ],
          [
           1,
           "#f0f921"
          ]
         ]
        },
        "legend": {
         "tracegroupgap": 0
        },
        "margin": {
         "t": 60
        },
        "template": {
         "data": {
          "bar": [
           {
            "error_x": {
             "color": "#2a3f5f"
            },
            "error_y": {
             "color": "#2a3f5f"
            },
            "marker": {
             "line": {
              "color": "#E5ECF6",
              "width": 0.5
             },
             "pattern": {
              "fillmode": "overlay",
              "size": 10,
              "solidity": 0.2
             }
            },
            "type": "bar"
           }
          ],
          "barpolar": [
           {
            "marker": {
             "line": {
              "color": "#E5ECF6",
              "width": 0.5
             },
             "pattern": {
              "fillmode": "overlay",
              "size": 10,
              "solidity": 0.2
             }
            },
            "type": "barpolar"
           }
          ],
          "carpet": [
           {
            "aaxis": {
             "endlinecolor": "#2a3f5f",
             "gridcolor": "white",
             "linecolor": "white",
             "minorgridcolor": "white",
             "startlinecolor": "#2a3f5f"
            },
            "baxis": {
             "endlinecolor": "#2a3f5f",
             "gridcolor": "white",
             "linecolor": "white",
             "minorgridcolor": "white",
             "startlinecolor": "#2a3f5f"
            },
            "type": "carpet"
           }
          ],
          "choropleth": [
           {
            "colorbar": {
             "outlinewidth": 0,
             "ticks": ""
            },
            "type": "choropleth"
           }
          ],
          "contour": [
           {
            "colorbar": {
             "outlinewidth": 0,
             "ticks": ""
            },
            "colorscale": [
             [
              0,
              "#0d0887"
             ],
             [
              0.1111111111111111,
              "#46039f"
             ],
             [
              0.2222222222222222,
              "#7201a8"
             ],
             [
              0.3333333333333333,
              "#9c179e"
             ],
             [
              0.4444444444444444,
              "#bd3786"
             ],
             [
              0.5555555555555556,
              "#d8576b"
             ],
             [
              0.6666666666666666,
              "#ed7953"
             ],
             [
              0.7777777777777778,
              "#fb9f3a"
             ],
             [
              0.8888888888888888,
              "#fdca26"
             ],
             [
              1,
              "#f0f921"
             ]
            ],
            "type": "contour"
           }
          ],
          "contourcarpet": [
           {
            "colorbar": {
             "outlinewidth": 0,
             "ticks": ""
            },
            "type": "contourcarpet"
           }
          ],
          "heatmap": [
           {
            "colorbar": {
             "outlinewidth": 0,
             "ticks": ""
            },
            "colorscale": [
             [
              0,
              "#0d0887"
             ],
             [
              0.1111111111111111,
              "#46039f"
             ],
             [
              0.2222222222222222,
              "#7201a8"
             ],
             [
              0.3333333333333333,
              "#9c179e"
             ],
             [
              0.4444444444444444,
              "#bd3786"
             ],
             [
              0.5555555555555556,
              "#d8576b"
             ],
             [
              0.6666666666666666,
              "#ed7953"
             ],
             [
              0.7777777777777778,
              "#fb9f3a"
             ],
             [
              0.8888888888888888,
              "#fdca26"
             ],
             [
              1,
              "#f0f921"
             ]
            ],
            "type": "heatmap"
           }
          ],
          "heatmapgl": [
           {
            "colorbar": {
             "outlinewidth": 0,
             "ticks": ""
            },
            "colorscale": [
             [
              0,
              "#0d0887"
             ],
             [
              0.1111111111111111,
              "#46039f"
             ],
             [
              0.2222222222222222,
              "#7201a8"
             ],
             [
              0.3333333333333333,
              "#9c179e"
             ],
             [
              0.4444444444444444,
              "#bd3786"
             ],
             [
              0.5555555555555556,
              "#d8576b"
             ],
             [
              0.6666666666666666,
              "#ed7953"
             ],
             [
              0.7777777777777778,
              "#fb9f3a"
             ],
             [
              0.8888888888888888,
              "#fdca26"
             ],
             [
              1,
              "#f0f921"
             ]
            ],
            "type": "heatmapgl"
           }
          ],
          "histogram": [
           {
            "marker": {
             "pattern": {
              "fillmode": "overlay",
              "size": 10,
              "solidity": 0.2
             }
            },
            "type": "histogram"
           }
          ],
          "histogram2d": [
           {
            "colorbar": {
             "outlinewidth": 0,
             "ticks": ""
            },
            "colorscale": [
             [
              0,
              "#0d0887"
             ],
             [
              0.1111111111111111,
              "#46039f"
             ],
             [
              0.2222222222222222,
              "#7201a8"
             ],
             [
              0.3333333333333333,
              "#9c179e"
             ],
             [
              0.4444444444444444,
              "#bd3786"
             ],
             [
              0.5555555555555556,
              "#d8576b"
             ],
             [
              0.6666666666666666,
              "#ed7953"
             ],
             [
              0.7777777777777778,
              "#fb9f3a"
             ],
             [
              0.8888888888888888,
              "#fdca26"
             ],
             [
              1,
              "#f0f921"
             ]
            ],
            "type": "histogram2d"
           }
          ],
          "histogram2dcontour": [
           {
            "colorbar": {
             "outlinewidth": 0,
             "ticks": ""
            },
            "colorscale": [
             [
              0,
              "#0d0887"
             ],
             [
              0.1111111111111111,
              "#46039f"
             ],
             [
              0.2222222222222222,
              "#7201a8"
             ],
             [
              0.3333333333333333,
              "#9c179e"
             ],
             [
              0.4444444444444444,
              "#bd3786"
             ],
             [
              0.5555555555555556,
              "#d8576b"
             ],
             [
              0.6666666666666666,
              "#ed7953"
             ],
             [
              0.7777777777777778,
              "#fb9f3a"
             ],
             [
              0.8888888888888888,
              "#fdca26"
             ],
             [
              1,
              "#f0f921"
             ]
            ],
            "type": "histogram2dcontour"
           }
          ],
          "mesh3d": [
           {
            "colorbar": {
             "outlinewidth": 0,
             "ticks": ""
            },
            "type": "mesh3d"
           }
          ],
          "parcoords": [
           {
            "line": {
             "colorbar": {
              "outlinewidth": 0,
              "ticks": ""
             }
            },
            "type": "parcoords"
           }
          ],
          "pie": [
           {
            "automargin": true,
            "type": "pie"
           }
          ],
          "scatter": [
           {
            "fillpattern": {
             "fillmode": "overlay",
             "size": 10,
             "solidity": 0.2
            },
            "type": "scatter"
           }
          ],
          "scatter3d": [
           {
            "line": {
             "colorbar": {
              "outlinewidth": 0,
              "ticks": ""
             }
            },
            "marker": {
             "colorbar": {
              "outlinewidth": 0,
              "ticks": ""
             }
            },
            "type": "scatter3d"
           }
          ],
          "scattercarpet": [
           {
            "marker": {
             "colorbar": {
              "outlinewidth": 0,
              "ticks": ""
             }
            },
            "type": "scattercarpet"
           }
          ],
          "scattergeo": [
           {
            "marker": {
             "colorbar": {
              "outlinewidth": 0,
              "ticks": ""
             }
            },
            "type": "scattergeo"
           }
          ],
          "scattergl": [
           {
            "marker": {
             "colorbar": {
              "outlinewidth": 0,
              "ticks": ""
             }
            },
            "type": "scattergl"
           }
          ],
          "scattermapbox": [
           {
            "marker": {
             "colorbar": {
              "outlinewidth": 0,
              "ticks": ""
             }
            },
            "type": "scattermapbox"
           }
          ],
          "scatterpolar": [
           {
            "marker": {
             "colorbar": {
              "outlinewidth": 0,
              "ticks": ""
             }
            },
            "type": "scatterpolar"
           }
          ],
          "scatterpolargl": [
           {
            "marker": {
             "colorbar": {
              "outlinewidth": 0,
              "ticks": ""
             }
            },
            "type": "scatterpolargl"
           }
          ],
          "scatterternary": [
           {
            "marker": {
             "colorbar": {
              "outlinewidth": 0,
              "ticks": ""
             }
            },
            "type": "scatterternary"
           }
          ],
          "surface": [
           {
            "colorbar": {
             "outlinewidth": 0,
             "ticks": ""
            },
            "colorscale": [
             [
              0,
              "#0d0887"
             ],
             [
              0.1111111111111111,
              "#46039f"
             ],
             [
              0.2222222222222222,
              "#7201a8"
             ],
             [
              0.3333333333333333,
              "#9c179e"
             ],
             [
              0.4444444444444444,
              "#bd3786"
             ],
             [
              0.5555555555555556,
              "#d8576b"
             ],
             [
              0.6666666666666666,
              "#ed7953"
             ],
             [
              0.7777777777777778,
              "#fb9f3a"
             ],
             [
              0.8888888888888888,
              "#fdca26"
             ],
             [
              1,
              "#f0f921"
             ]
            ],
            "type": "surface"
           }
          ],
          "table": [
           {
            "cells": {
             "fill": {
              "color": "#EBF0F8"
             },
             "line": {
              "color": "white"
             }
            },
            "header": {
             "fill": {
              "color": "#C8D4E3"
             },
             "line": {
              "color": "white"
             }
            },
            "type": "table"
           }
          ]
         },
         "layout": {
          "annotationdefaults": {
           "arrowcolor": "#2a3f5f",
           "arrowhead": 0,
           "arrowwidth": 1
          },
          "autotypenumbers": "strict",
          "coloraxis": {
           "colorbar": {
            "outlinewidth": 0,
            "ticks": ""
           }
          },
          "colorscale": {
           "diverging": [
            [
             0,
             "#8e0152"
            ],
            [
             0.1,
             "#c51b7d"
            ],
            [
             0.2,
             "#de77ae"
            ],
            [
             0.3,
             "#f1b6da"
            ],
            [
             0.4,
             "#fde0ef"
            ],
            [
             0.5,
             "#f7f7f7"
            ],
            [
             0.6,
             "#e6f5d0"
            ],
            [
             0.7,
             "#b8e186"
            ],
            [
             0.8,
             "#7fbc41"
            ],
            [
             0.9,
             "#4d9221"
            ],
            [
             1,
             "#276419"
            ]
           ],
           "sequential": [
            [
             0,
             "#0d0887"
            ],
            [
             0.1111111111111111,
             "#46039f"
            ],
            [
             0.2222222222222222,
             "#7201a8"
            ],
            [
             0.3333333333333333,
             "#9c179e"
            ],
            [
             0.4444444444444444,
             "#bd3786"
            ],
            [
             0.5555555555555556,
             "#d8576b"
            ],
            [
             0.6666666666666666,
             "#ed7953"
            ],
            [
             0.7777777777777778,
             "#fb9f3a"
            ],
            [
             0.8888888888888888,
             "#fdca26"
            ],
            [
             1,
             "#f0f921"
            ]
           ],
           "sequentialminus": [
            [
             0,
             "#0d0887"
            ],
            [
             0.1111111111111111,
             "#46039f"
            ],
            [
             0.2222222222222222,
             "#7201a8"
            ],
            [
             0.3333333333333333,
             "#9c179e"
            ],
            [
             0.4444444444444444,
             "#bd3786"
            ],
            [
             0.5555555555555556,
             "#d8576b"
            ],
            [
             0.6666666666666666,
             "#ed7953"
            ],
            [
             0.7777777777777778,
             "#fb9f3a"
            ],
            [
             0.8888888888888888,
             "#fdca26"
            ],
            [
             1,
             "#f0f921"
            ]
           ]
          },
          "colorway": [
           "#636efa",
           "#EF553B",
           "#00cc96",
           "#ab63fa",
           "#FFA15A",
           "#19d3f3",
           "#FF6692",
           "#B6E880",
           "#FF97FF",
           "#FECB52"
          ],
          "font": {
           "color": "#2a3f5f"
          },
          "geo": {
           "bgcolor": "white",
           "lakecolor": "white",
           "landcolor": "#E5ECF6",
           "showlakes": true,
           "showland": true,
           "subunitcolor": "white"
          },
          "hoverlabel": {
           "align": "left"
          },
          "hovermode": "closest",
          "mapbox": {
           "style": "light"
          },
          "paper_bgcolor": "white",
          "plot_bgcolor": "#E5ECF6",
          "polar": {
           "angularaxis": {
            "gridcolor": "white",
            "linecolor": "white",
            "ticks": ""
           },
           "bgcolor": "#E5ECF6",
           "radialaxis": {
            "gridcolor": "white",
            "linecolor": "white",
            "ticks": ""
           }
          },
          "scene": {
           "xaxis": {
            "backgroundcolor": "#E5ECF6",
            "gridcolor": "white",
            "gridwidth": 2,
            "linecolor": "white",
            "showbackground": true,
            "ticks": "",
            "zerolinecolor": "white"
           },
           "yaxis": {
            "backgroundcolor": "#E5ECF6",
            "gridcolor": "white",
            "gridwidth": 2,
            "linecolor": "white",
            "showbackground": true,
            "ticks": "",
            "zerolinecolor": "white"
           },
           "zaxis": {
            "backgroundcolor": "#E5ECF6",
            "gridcolor": "white",
            "gridwidth": 2,
            "linecolor": "white",
            "showbackground": true,
            "ticks": "",
            "zerolinecolor": "white"
           }
          },
          "shapedefaults": {
           "line": {
            "color": "#2a3f5f"
           }
          },
          "ternary": {
           "aaxis": {
            "gridcolor": "white",
            "linecolor": "white",
            "ticks": ""
           },
           "baxis": {
            "gridcolor": "white",
            "linecolor": "white",
            "ticks": ""
           },
           "bgcolor": "#E5ECF6",
           "caxis": {
            "gridcolor": "white",
            "linecolor": "white",
            "ticks": ""
           }
          },
          "title": {
           "x": 0.05
          },
          "xaxis": {
           "automargin": true,
           "gridcolor": "white",
           "linecolor": "white",
           "ticks": "",
           "title": {
            "standoff": 15
           },
           "zerolinecolor": "white",
           "zerolinewidth": 2
          },
          "yaxis": {
           "automargin": true,
           "gridcolor": "white",
           "linecolor": "white",
           "ticks": "",
           "title": {
            "standoff": 15
           },
           "zerolinecolor": "white",
           "zerolinewidth": 2
          }
         }
        },
        "xaxis": {
         "anchor": "y",
         "domain": [
          0,
          1
         ],
         "title": {
          "text": "Team"
         }
        },
        "yaxis": {
         "anchor": "x",
         "domain": [
          0,
          1
         ],
         "title": {
          "text": "Pass Yds"
         }
        }
       }
      }
     },
     "metadata": {},
     "output_type": "display_data"
    }
   ],
   "source": [
    "fig = px.bar(passing_df, x='Team', y='Pass Yds', color='TD', hover_data=['Att'])\n",
    "fig.show()"
   ]
  }
 ],
 "metadata": {
  "kernelspec": {
   "display_name": "Python 3.9.1 ('env': venv)",
   "language": "python",
   "name": "python3"
  },
  "language_info": {
   "codemirror_mode": {
    "name": "ipython",
    "version": 3
   },
   "file_extension": ".py",
   "mimetype": "text/x-python",
   "name": "python",
   "nbconvert_exporter": "python",
   "pygments_lexer": "ipython3",
   "version": "3.9.1"
  },
  "orig_nbformat": 4,
  "vscode": {
   "interpreter": {
    "hash": "2b2dda87fb3e44dda843fd80acfd119264123654161c1dafb12f65aaac28dd1c"
   }
  }
 },
 "nbformat": 4,
 "nbformat_minor": 2
}
