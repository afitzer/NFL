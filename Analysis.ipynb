{
 "cells": [
  {
   "cell_type": "code",
   "execution_count": 19,
   "metadata": {},
   "outputs": [],
   "source": [
    "import pandas as pd\n",
    "import plotly.express as px\n",
    "from datetime import date\n",
    "import sqlite3"
   ]
  },
  {
   "cell_type": "code",
   "execution_count": 20,
   "metadata": {},
   "outputs": [],
   "source": [
    "con = sqlite3.connect('nfl.db')"
   ]
  },
  {
   "cell_type": "code",
   "execution_count": 21,
   "metadata": {},
   "outputs": [],
   "source": [
    "passing_df = pd.read_sql_query('SELECT * from offensive_passing WHERE Date is \"10-16-22\"', con)\n",
    "receiving_df = pd.read_sql_query('SELECT * from offensive_receiving WHERE Date is \"10-16-22\"', con) \n",
    "rushing_df = pd.read_sql_query('SELECT * from offensive_rushing WHERE Date is \"10-16-22\"', con)\n",
    "scoring_df = pd.read_sql_query('SELECT * from offensive_scoring WHERE Date is \"10-16-22\"', con)\n",
    "passing_rushing_df = pd.read_sql_query(\"SELECT offensive_passing.Team, offensive_passing.`Pass Yds`, offensive_rushing.`Rush Yds`, offensive_scoring.`Tot TD` FROM ((offensive_rushing JOIN offensive_passing ON offensive_rushing.Team=offensive_passing.Team) JOIN offensive_scoring ON offensive_scoring.Team=offensive_passing.Team) WHERE offensive_passing.Date is '10-04-22' AND offensive_rushing.Date is '10-16-22' AND offensive_scoring.Date is '10-05-22' ORDER BY offensive_scoring.`Tot TD` DESC\", con)"
   ]
  },
  {
   "cell_type": "code",
   "execution_count": 22,
   "metadata": {},
   "outputs": [
    {
     "data": {
      "text/html": [
       "<div>\n",
       "<style scoped>\n",
       "    .dataframe tbody tr th:only-of-type {\n",
       "        vertical-align: middle;\n",
       "    }\n",
       "\n",
       "    .dataframe tbody tr th {\n",
       "        vertical-align: top;\n",
       "    }\n",
       "\n",
       "    .dataframe thead th {\n",
       "        text-align: right;\n",
       "    }\n",
       "</style>\n",
       "<table border=\"1\" class=\"dataframe\">\n",
       "  <thead>\n",
       "    <tr style=\"text-align: right;\">\n",
       "      <th></th>\n",
       "      <th>Team</th>\n",
       "      <th>Att</th>\n",
       "      <th>Cmp</th>\n",
       "      <th>Cmp %</th>\n",
       "      <th>Yds/Att</th>\n",
       "      <th>Pass Yds</th>\n",
       "      <th>TD</th>\n",
       "      <th>INT</th>\n",
       "      <th>Rate</th>\n",
       "      <th>1st</th>\n",
       "      <th>1st%</th>\n",
       "      <th>20+</th>\n",
       "      <th>40+</th>\n",
       "      <th>Lng</th>\n",
       "      <th>Sck</th>\n",
       "      <th>SckY</th>\n",
       "      <th>Date</th>\n",
       "    </tr>\n",
       "  </thead>\n",
       "  <tbody>\n",
       "    <tr>\n",
       "      <th>0</th>\n",
       "      <td>CommandersCommanders</td>\n",
       "      <td>232</td>\n",
       "      <td>144</td>\n",
       "      <td>62.1</td>\n",
       "      <td>6.4</td>\n",
       "      <td>1489</td>\n",
       "      <td>10</td>\n",
       "      <td>6</td>\n",
       "      <td>84.1</td>\n",
       "      <td>68</td>\n",
       "      <td>29.3</td>\n",
       "      <td>18</td>\n",
       "      <td>4</td>\n",
       "      <td>75T</td>\n",
       "      <td>23</td>\n",
       "      <td>140</td>\n",
       "      <td>10-16-22</td>\n",
       "    </tr>\n",
       "    <tr>\n",
       "      <th>1</th>\n",
       "      <td>CardinalsCardinals</td>\n",
       "      <td>219</td>\n",
       "      <td>143</td>\n",
       "      <td>65.3</td>\n",
       "      <td>5.7</td>\n",
       "      <td>1253</td>\n",
       "      <td>6</td>\n",
       "      <td>3</td>\n",
       "      <td>83.8</td>\n",
       "      <td>66</td>\n",
       "      <td>30.1</td>\n",
       "      <td>13</td>\n",
       "      <td>0</td>\n",
       "      <td>30</td>\n",
       "      <td>8</td>\n",
       "      <td>64</td>\n",
       "      <td>10-16-22</td>\n",
       "    </tr>\n",
       "    <tr>\n",
       "      <th>2</th>\n",
       "      <td>JetsJets</td>\n",
       "      <td>214</td>\n",
       "      <td>125</td>\n",
       "      <td>58.4</td>\n",
       "      <td>6.5</td>\n",
       "      <td>1382</td>\n",
       "      <td>7</td>\n",
       "      <td>5</td>\n",
       "      <td>78.8</td>\n",
       "      <td>68</td>\n",
       "      <td>31.8</td>\n",
       "      <td>14</td>\n",
       "      <td>2</td>\n",
       "      <td>79</td>\n",
       "      <td>12</td>\n",
       "      <td>87</td>\n",
       "      <td>10-16-22</td>\n",
       "    </tr>\n",
       "    <tr>\n",
       "      <th>3</th>\n",
       "      <td>BuccaneersBuccaneers</td>\n",
       "      <td>207</td>\n",
       "      <td>141</td>\n",
       "      <td>68.1</td>\n",
       "      <td>6.8</td>\n",
       "      <td>1409</td>\n",
       "      <td>7</td>\n",
       "      <td>1</td>\n",
       "      <td>96.5</td>\n",
       "      <td>72</td>\n",
       "      <td>34.8</td>\n",
       "      <td>15</td>\n",
       "      <td>3</td>\n",
       "      <td>48</td>\n",
       "      <td>7</td>\n",
       "      <td>51</td>\n",
       "      <td>10-16-22</td>\n",
       "    </tr>\n",
       "    <tr>\n",
       "      <th>4</th>\n",
       "      <td>BillsBills</td>\n",
       "      <td>206</td>\n",
       "      <td>135</td>\n",
       "      <td>65.5</td>\n",
       "      <td>8.0</td>\n",
       "      <td>1659</td>\n",
       "      <td>14</td>\n",
       "      <td>4</td>\n",
       "      <td>104.8</td>\n",
       "      <td>78</td>\n",
       "      <td>37.9</td>\n",
       "      <td>20</td>\n",
       "      <td>6</td>\n",
       "      <td>98T</td>\n",
       "      <td>8</td>\n",
       "      <td>39</td>\n",
       "      <td>10-16-22</td>\n",
       "    </tr>\n",
       "  </tbody>\n",
       "</table>\n",
       "</div>"
      ],
      "text/plain": [
       "                   Team  Att  Cmp  Cmp %  Yds/Att  Pass Yds  TD  INT   Rate  \\\n",
       "0  CommandersCommanders  232  144   62.1      6.4      1489  10    6   84.1   \n",
       "1    CardinalsCardinals  219  143   65.3      5.7      1253   6    3   83.8   \n",
       "2              JetsJets  214  125   58.4      6.5      1382   7    5   78.8   \n",
       "3  BuccaneersBuccaneers  207  141   68.1      6.8      1409   7    1   96.5   \n",
       "4            BillsBills  206  135   65.5      8.0      1659  14    4  104.8   \n",
       "\n",
       "   1st  1st%  20+  40+  Lng  Sck  SckY      Date  \n",
       "0   68  29.3   18    4  75T   23   140  10-16-22  \n",
       "1   66  30.1   13    0   30    8    64  10-16-22  \n",
       "2   68  31.8   14    2   79   12    87  10-16-22  \n",
       "3   72  34.8   15    3   48    7    51  10-16-22  \n",
       "4   78  37.9   20    6  98T    8    39  10-16-22  "
      ]
     },
     "execution_count": 22,
     "metadata": {},
     "output_type": "execute_result"
    }
   ],
   "source": [
    "passing_df.head(5)"
   ]
  },
  {
   "cell_type": "code",
   "execution_count": 23,
   "metadata": {},
   "outputs": [
    {
     "data": {
      "text/html": [
       "<div>\n",
       "<style scoped>\n",
       "    .dataframe tbody tr th:only-of-type {\n",
       "        vertical-align: middle;\n",
       "    }\n",
       "\n",
       "    .dataframe tbody tr th {\n",
       "        vertical-align: top;\n",
       "    }\n",
       "\n",
       "    .dataframe thead th {\n",
       "        text-align: right;\n",
       "    }\n",
       "</style>\n",
       "<table border=\"1\" class=\"dataframe\">\n",
       "  <thead>\n",
       "    <tr style=\"text-align: right;\">\n",
       "      <th></th>\n",
       "      <th>Team</th>\n",
       "      <th>Rec</th>\n",
       "      <th>Yds</th>\n",
       "      <th>Yds/Rec</th>\n",
       "      <th>TD</th>\n",
       "      <th>20+</th>\n",
       "      <th>40+</th>\n",
       "      <th>Lng</th>\n",
       "      <th>Rec 1st</th>\n",
       "      <th>Rec 1st%</th>\n",
       "      <th>Rec FUM</th>\n",
       "      <th>Date</th>\n",
       "    </tr>\n",
       "  </thead>\n",
       "  <tbody>\n",
       "    <tr>\n",
       "      <th>0</th>\n",
       "      <td>CommandersCommanders</td>\n",
       "      <td>144</td>\n",
       "      <td>1489</td>\n",
       "      <td>10.3</td>\n",
       "      <td>10</td>\n",
       "      <td>18</td>\n",
       "      <td>4</td>\n",
       "      <td>75</td>\n",
       "      <td>68</td>\n",
       "      <td>47.2</td>\n",
       "      <td>1</td>\n",
       "      <td>10-16-22</td>\n",
       "    </tr>\n",
       "    <tr>\n",
       "      <th>1</th>\n",
       "      <td>CardinalsCardinals</td>\n",
       "      <td>143</td>\n",
       "      <td>1253</td>\n",
       "      <td>8.8</td>\n",
       "      <td>6</td>\n",
       "      <td>13</td>\n",
       "      <td>0</td>\n",
       "      <td>30</td>\n",
       "      <td>66</td>\n",
       "      <td>46.2</td>\n",
       "      <td>0</td>\n",
       "      <td>10-16-22</td>\n",
       "    </tr>\n",
       "    <tr>\n",
       "      <th>2</th>\n",
       "      <td>BuccaneersBuccaneers</td>\n",
       "      <td>141</td>\n",
       "      <td>1409</td>\n",
       "      <td>10.0</td>\n",
       "      <td>7</td>\n",
       "      <td>14</td>\n",
       "      <td>3</td>\n",
       "      <td>48T</td>\n",
       "      <td>72</td>\n",
       "      <td>51.1</td>\n",
       "      <td>2</td>\n",
       "      <td>10-16-22</td>\n",
       "    </tr>\n",
       "    <tr>\n",
       "      <th>3</th>\n",
       "      <td>BillsBills</td>\n",
       "      <td>135</td>\n",
       "      <td>1659</td>\n",
       "      <td>12.3</td>\n",
       "      <td>14</td>\n",
       "      <td>20</td>\n",
       "      <td>6</td>\n",
       "      <td>98</td>\n",
       "      <td>78</td>\n",
       "      <td>57.8</td>\n",
       "      <td>1</td>\n",
       "      <td>10-16-22</td>\n",
       "    </tr>\n",
       "    <tr>\n",
       "      <th>4</th>\n",
       "      <td>RamsRams</td>\n",
       "      <td>135</td>\n",
       "      <td>1335</td>\n",
       "      <td>9.9</td>\n",
       "      <td>5</td>\n",
       "      <td>11</td>\n",
       "      <td>2</td>\n",
       "      <td>75T</td>\n",
       "      <td>66</td>\n",
       "      <td>48.9</td>\n",
       "      <td>1</td>\n",
       "      <td>10-16-22</td>\n",
       "    </tr>\n",
       "  </tbody>\n",
       "</table>\n",
       "</div>"
      ],
      "text/plain": [
       "                   Team  Rec   Yds  Yds/Rec  TD  20+  40+  Lng  Rec 1st  \\\n",
       "0  CommandersCommanders  144  1489     10.3  10   18    4   75       68   \n",
       "1    CardinalsCardinals  143  1253      8.8   6   13    0   30       66   \n",
       "2  BuccaneersBuccaneers  141  1409     10.0   7   14    3  48T       72   \n",
       "3            BillsBills  135  1659     12.3  14   20    6   98       78   \n",
       "4              RamsRams  135  1335      9.9   5   11    2  75T       66   \n",
       "\n",
       "   Rec 1st%  Rec FUM      Date  \n",
       "0      47.2        1  10-16-22  \n",
       "1      46.2        0  10-16-22  \n",
       "2      51.1        2  10-16-22  \n",
       "3      57.8        1  10-16-22  \n",
       "4      48.9        1  10-16-22  "
      ]
     },
     "execution_count": 23,
     "metadata": {},
     "output_type": "execute_result"
    }
   ],
   "source": [
    "receiving_df.head(5)"
   ]
  },
  {
   "cell_type": "code",
   "execution_count": 24,
   "metadata": {},
   "outputs": [
    {
     "data": {
      "text/html": [
       "<div>\n",
       "<style scoped>\n",
       "    .dataframe tbody tr th:only-of-type {\n",
       "        vertical-align: middle;\n",
       "    }\n",
       "\n",
       "    .dataframe tbody tr th {\n",
       "        vertical-align: top;\n",
       "    }\n",
       "\n",
       "    .dataframe thead th {\n",
       "        text-align: right;\n",
       "    }\n",
       "</style>\n",
       "<table border=\"1\" class=\"dataframe\">\n",
       "  <thead>\n",
       "    <tr style=\"text-align: right;\">\n",
       "      <th></th>\n",
       "      <th>Team</th>\n",
       "      <th>Att</th>\n",
       "      <th>Rush Yds</th>\n",
       "      <th>YPC</th>\n",
       "      <th>TD</th>\n",
       "      <th>20+</th>\n",
       "      <th>40+</th>\n",
       "      <th>Lng</th>\n",
       "      <th>Rush 1st</th>\n",
       "      <th>Rush 1st%</th>\n",
       "      <th>Rush FUM</th>\n",
       "      <th>Date</th>\n",
       "    </tr>\n",
       "  </thead>\n",
       "  <tbody>\n",
       "    <tr>\n",
       "      <th>0</th>\n",
       "      <td>BearsBears</td>\n",
       "      <td>197</td>\n",
       "      <td>1025</td>\n",
       "      <td>5.2</td>\n",
       "      <td>5</td>\n",
       "      <td>7</td>\n",
       "      <td>3</td>\n",
       "      <td>64</td>\n",
       "      <td>47</td>\n",
       "      <td>23.9</td>\n",
       "      <td>3</td>\n",
       "      <td>10-16-22</td>\n",
       "    </tr>\n",
       "    <tr>\n",
       "      <th>1</th>\n",
       "      <td>EaglesEagles</td>\n",
       "      <td>186</td>\n",
       "      <td>800</td>\n",
       "      <td>4.3</td>\n",
       "      <td>12</td>\n",
       "      <td>4</td>\n",
       "      <td>0</td>\n",
       "      <td>35T</td>\n",
       "      <td>52</td>\n",
       "      <td>28.0</td>\n",
       "      <td>2</td>\n",
       "      <td>10-16-22</td>\n",
       "    </tr>\n",
       "    <tr>\n",
       "      <th>2</th>\n",
       "      <td>BrownsBrowns</td>\n",
       "      <td>180</td>\n",
       "      <td>962</td>\n",
       "      <td>5.3</td>\n",
       "      <td>10</td>\n",
       "      <td>11</td>\n",
       "      <td>1</td>\n",
       "      <td>41</td>\n",
       "      <td>57</td>\n",
       "      <td>31.7</td>\n",
       "      <td>0</td>\n",
       "      <td>10-16-22</td>\n",
       "    </tr>\n",
       "    <tr>\n",
       "      <th>3</th>\n",
       "      <td>GiantsGiants</td>\n",
       "      <td>165</td>\n",
       "      <td>895</td>\n",
       "      <td>5.4</td>\n",
       "      <td>7</td>\n",
       "      <td>6</td>\n",
       "      <td>2</td>\n",
       "      <td>68</td>\n",
       "      <td>51</td>\n",
       "      <td>30.9</td>\n",
       "      <td>2</td>\n",
       "      <td>10-16-22</td>\n",
       "    </tr>\n",
       "    <tr>\n",
       "      <th>4</th>\n",
       "      <td>FalconsFalcons</td>\n",
       "      <td>162</td>\n",
       "      <td>823</td>\n",
       "      <td>5.1</td>\n",
       "      <td>7</td>\n",
       "      <td>5</td>\n",
       "      <td>2</td>\n",
       "      <td>42</td>\n",
       "      <td>46</td>\n",
       "      <td>28.4</td>\n",
       "      <td>3</td>\n",
       "      <td>10-16-22</td>\n",
       "    </tr>\n",
       "  </tbody>\n",
       "</table>\n",
       "</div>"
      ],
      "text/plain": [
       "             Team  Att  Rush Yds  YPC  TD  20+  40+  Lng  Rush 1st  Rush 1st%  \\\n",
       "0      BearsBears  197      1025  5.2   5    7    3   64        47       23.9   \n",
       "1    EaglesEagles  186       800  4.3  12    4    0  35T        52       28.0   \n",
       "2    BrownsBrowns  180       962  5.3  10   11    1   41        57       31.7   \n",
       "3    GiantsGiants  165       895  5.4   7    6    2   68        51       30.9   \n",
       "4  FalconsFalcons  162       823  5.1   7    5    2   42        46       28.4   \n",
       "\n",
       "   Rush FUM      Date  \n",
       "0         3  10-16-22  \n",
       "1         2  10-16-22  \n",
       "2         0  10-16-22  \n",
       "3         2  10-16-22  \n",
       "4         3  10-16-22  "
      ]
     },
     "execution_count": 24,
     "metadata": {},
     "output_type": "execute_result"
    }
   ],
   "source": [
    "rushing_df.head(5)"
   ]
  },
  {
   "cell_type": "code",
   "execution_count": 25,
   "metadata": {},
   "outputs": [
    {
     "data": {
      "text/html": [
       "<div>\n",
       "<style scoped>\n",
       "    .dataframe tbody tr th:only-of-type {\n",
       "        vertical-align: middle;\n",
       "    }\n",
       "\n",
       "    .dataframe tbody tr th {\n",
       "        vertical-align: top;\n",
       "    }\n",
       "\n",
       "    .dataframe thead th {\n",
       "        text-align: right;\n",
       "    }\n",
       "</style>\n",
       "<table border=\"1\" class=\"dataframe\">\n",
       "  <thead>\n",
       "    <tr style=\"text-align: right;\">\n",
       "      <th></th>\n",
       "      <th>Team</th>\n",
       "      <th>Rsh TD</th>\n",
       "      <th>Rec TD</th>\n",
       "      <th>Tot TD</th>\n",
       "      <th>2-PT</th>\n",
       "      <th>Date</th>\n",
       "    </tr>\n",
       "  </thead>\n",
       "  <tbody>\n",
       "    <tr>\n",
       "      <th>0</th>\n",
       "      <td>EaglesEagles</td>\n",
       "      <td>12</td>\n",
       "      <td>4</td>\n",
       "      <td>17</td>\n",
       "      <td>0</td>\n",
       "      <td>10-16-22</td>\n",
       "    </tr>\n",
       "    <tr>\n",
       "      <th>1</th>\n",
       "      <td>BrownsBrowns</td>\n",
       "      <td>10</td>\n",
       "      <td>5</td>\n",
       "      <td>15</td>\n",
       "      <td>0</td>\n",
       "      <td>10-16-22</td>\n",
       "    </tr>\n",
       "    <tr>\n",
       "      <th>2</th>\n",
       "      <td>FalconsFalcons</td>\n",
       "      <td>7</td>\n",
       "      <td>4</td>\n",
       "      <td>12</td>\n",
       "      <td>2</td>\n",
       "      <td>10-16-22</td>\n",
       "    </tr>\n",
       "    <tr>\n",
       "      <th>3</th>\n",
       "      <td>LionsLions</td>\n",
       "      <td>7</td>\n",
       "      <td>11</td>\n",
       "      <td>18</td>\n",
       "      <td>2</td>\n",
       "      <td>10-16-22</td>\n",
       "    </tr>\n",
       "    <tr>\n",
       "      <th>4</th>\n",
       "      <td>SaintsSaints</td>\n",
       "      <td>7</td>\n",
       "      <td>7</td>\n",
       "      <td>14</td>\n",
       "      <td>3</td>\n",
       "      <td>10-16-22</td>\n",
       "    </tr>\n",
       "  </tbody>\n",
       "</table>\n",
       "</div>"
      ],
      "text/plain": [
       "             Team  Rsh TD  Rec TD  Tot TD  2-PT      Date\n",
       "0    EaglesEagles      12       4      17     0  10-16-22\n",
       "1    BrownsBrowns      10       5      15     0  10-16-22\n",
       "2  FalconsFalcons       7       4      12     2  10-16-22\n",
       "3      LionsLions       7      11      18     2  10-16-22\n",
       "4    SaintsSaints       7       7      14     3  10-16-22"
      ]
     },
     "execution_count": 25,
     "metadata": {},
     "output_type": "execute_result"
    }
   ],
   "source": [
    "scoring_df.head(5)"
   ]
  },
  {
   "cell_type": "code",
   "execution_count": 26,
   "metadata": {},
   "outputs": [
    {
     "data": {
      "text/html": [
       "<div>\n",
       "<style scoped>\n",
       "    .dataframe tbody tr th:only-of-type {\n",
       "        vertical-align: middle;\n",
       "    }\n",
       "\n",
       "    .dataframe tbody tr th {\n",
       "        vertical-align: top;\n",
       "    }\n",
       "\n",
       "    .dataframe thead th {\n",
       "        text-align: right;\n",
       "    }\n",
       "</style>\n",
       "<table border=\"1\" class=\"dataframe\">\n",
       "  <thead>\n",
       "    <tr style=\"text-align: right;\">\n",
       "      <th></th>\n",
       "      <th>Team</th>\n",
       "      <th>Pass Yds</th>\n",
       "      <th>Rush Yds</th>\n",
       "      <th>Tot TD</th>\n",
       "    </tr>\n",
       "  </thead>\n",
       "  <tbody>\n",
       "    <tr>\n",
       "      <th>0</th>\n",
       "      <td>LionsLions</td>\n",
       "      <td>1132</td>\n",
       "      <td>757</td>\n",
       "      <td>18</td>\n",
       "    </tr>\n",
       "    <tr>\n",
       "      <th>1</th>\n",
       "      <td>ChiefsChiefs</td>\n",
       "      <td>1106</td>\n",
       "      <td>571</td>\n",
       "      <td>16</td>\n",
       "    </tr>\n",
       "    <tr>\n",
       "      <th>2</th>\n",
       "      <td>EaglesEagles</td>\n",
       "      <td>1120</td>\n",
       "      <td>800</td>\n",
       "      <td>15</td>\n",
       "    </tr>\n",
       "    <tr>\n",
       "      <th>3</th>\n",
       "      <td>RavensRavens</td>\n",
       "      <td>893</td>\n",
       "      <td>723</td>\n",
       "      <td>15</td>\n",
       "    </tr>\n",
       "    <tr>\n",
       "      <th>4</th>\n",
       "      <td>BillsBills</td>\n",
       "      <td>1227</td>\n",
       "      <td>582</td>\n",
       "      <td>13</td>\n",
       "    </tr>\n",
       "  </tbody>\n",
       "</table>\n",
       "</div>"
      ],
      "text/plain": [
       "           Team  Pass Yds  Rush Yds  Tot TD\n",
       "0    LionsLions      1132       757      18\n",
       "1  ChiefsChiefs      1106       571      16\n",
       "2  EaglesEagles      1120       800      15\n",
       "3  RavensRavens       893       723      15\n",
       "4    BillsBills      1227       582      13"
      ]
     },
     "execution_count": 26,
     "metadata": {},
     "output_type": "execute_result"
    }
   ],
   "source": [
    "passing_rushing_df.head(5)"
   ]
  },
  {
   "cell_type": "code",
   "execution_count": 27,
   "metadata": {},
   "outputs": [
    {
     "name": "stdout",
     "output_type": "stream",
     "text": [
      "<class 'pandas.core.frame.DataFrame'>\n",
      "RangeIndex: 32 entries, 0 to 31\n",
      "Data columns (total 17 columns):\n",
      " #   Column    Non-Null Count  Dtype  \n",
      "---  ------    --------------  -----  \n",
      " 0   Team      32 non-null     object \n",
      " 1   Att       32 non-null     int64  \n",
      " 2   Cmp       32 non-null     int64  \n",
      " 3   Cmp %     32 non-null     float64\n",
      " 4   Yds/Att   32 non-null     float64\n",
      " 5   Pass Yds  32 non-null     int64  \n",
      " 6   TD        32 non-null     int64  \n",
      " 7   INT       32 non-null     int64  \n",
      " 8   Rate      32 non-null     float64\n",
      " 9   1st       32 non-null     int64  \n",
      " 10  1st%      32 non-null     float64\n",
      " 11  20+       32 non-null     int64  \n",
      " 12  40+       32 non-null     int64  \n",
      " 13  Lng       32 non-null     object \n",
      " 14  Sck       32 non-null     int64  \n",
      " 15  SckY      32 non-null     int64  \n",
      " 16  Date      32 non-null     object \n",
      "dtypes: float64(4), int64(10), object(3)\n",
      "memory usage: 4.4+ KB\n"
     ]
    }
   ],
   "source": [
    "passing_df.info()"
   ]
  },
  {
   "cell_type": "code",
   "execution_count": 28,
   "metadata": {},
   "outputs": [
    {
     "data": {
      "application/vnd.plotly.v1+json": {
       "config": {
        "plotlyServerURL": "https://plot.ly"
       },
       "data": [
        {
         "hovertemplate": "Team=LionsLions<br>Pass Yds=%{x}<br>Rush Yds=%{y}<br>Tot TD=%{marker.size}<extra></extra>",
         "legendgroup": "LionsLions",
         "marker": {
          "color": "#636efa",
          "size": [
           18
          ],
          "sizemode": "area",
          "sizeref": 0.045,
          "symbol": "circle"
         },
         "mode": "markers",
         "name": "LionsLions",
         "orientation": "v",
         "showlegend": true,
         "type": "scatter",
         "x": [
          1132
         ],
         "xaxis": "x",
         "y": [
          757
         ],
         "yaxis": "y"
        },
        {
         "hovertemplate": "Team=ChiefsChiefs<br>Pass Yds=%{x}<br>Rush Yds=%{y}<br>Tot TD=%{marker.size}<extra></extra>",
         "legendgroup": "ChiefsChiefs",
         "marker": {
          "color": "#EF553B",
          "size": [
           16
          ],
          "sizemode": "area",
          "sizeref": 0.045,
          "symbol": "circle"
         },
         "mode": "markers",
         "name": "ChiefsChiefs",
         "orientation": "v",
         "showlegend": true,
         "type": "scatter",
         "x": [
          1106
         ],
         "xaxis": "x",
         "y": [
          571
         ],
         "yaxis": "y"
        },
        {
         "hovertemplate": "Team=EaglesEagles<br>Pass Yds=%{x}<br>Rush Yds=%{y}<br>Tot TD=%{marker.size}<extra></extra>",
         "legendgroup": "EaglesEagles",
         "marker": {
          "color": "#00cc96",
          "size": [
           15
          ],
          "sizemode": "area",
          "sizeref": 0.045,
          "symbol": "circle"
         },
         "mode": "markers",
         "name": "EaglesEagles",
         "orientation": "v",
         "showlegend": true,
         "type": "scatter",
         "x": [
          1120
         ],
         "xaxis": "x",
         "y": [
          800
         ],
         "yaxis": "y"
        },
        {
         "hovertemplate": "Team=RavensRavens<br>Pass Yds=%{x}<br>Rush Yds=%{y}<br>Tot TD=%{marker.size}<extra></extra>",
         "legendgroup": "RavensRavens",
         "marker": {
          "color": "#ab63fa",
          "size": [
           15
          ],
          "sizemode": "area",
          "sizeref": 0.045,
          "symbol": "circle"
         },
         "mode": "markers",
         "name": "RavensRavens",
         "orientation": "v",
         "showlegend": true,
         "type": "scatter",
         "x": [
          893
         ],
         "xaxis": "x",
         "y": [
          723
         ],
         "yaxis": "y"
        },
        {
         "hovertemplate": "Team=BillsBills<br>Pass Yds=%{x}<br>Rush Yds=%{y}<br>Tot TD=%{marker.size}<extra></extra>",
         "legendgroup": "BillsBills",
         "marker": {
          "color": "#FFA15A",
          "size": [
           13
          ],
          "sizemode": "area",
          "sizeref": 0.045,
          "symbol": "circle"
         },
         "mode": "markers",
         "name": "BillsBills",
         "orientation": "v",
         "showlegend": true,
         "type": "scatter",
         "x": [
          1227
         ],
         "xaxis": "x",
         "y": [
          582
         ],
         "yaxis": "y"
        },
        {
         "hovertemplate": "Team=JaguarsJaguars<br>Pass Yds=%{x}<br>Rush Yds=%{y}<br>Tot TD=%{marker.size}<extra></extra>",
         "legendgroup": "JaguarsJaguars",
         "marker": {
          "color": "#19d3f3",
          "size": [
           12
          ],
          "sizemode": "area",
          "sizeref": 0.045,
          "symbol": "circle"
         },
         "mode": "markers",
         "name": "JaguarsJaguars",
         "orientation": "v",
         "showlegend": true,
         "type": "scatter",
         "x": [
          946
         ],
         "xaxis": "x",
         "y": [
          577
         ],
         "yaxis": "y"
        },
        {
         "hovertemplate": "Team=BrownsBrowns<br>Pass Yds=%{x}<br>Rush Yds=%{y}<br>Tot TD=%{marker.size}<extra></extra>",
         "legendgroup": "BrownsBrowns",
         "marker": {
          "color": "#FF6692",
          "size": [
           11
          ],
          "sizemode": "area",
          "sizeref": 0.045,
          "symbol": "circle"
         },
         "mode": "markers",
         "name": "BrownsBrowns",
         "orientation": "v",
         "showlegend": true,
         "type": "scatter",
         "x": [
          830
         ],
         "xaxis": "x",
         "y": [
          962
         ],
         "yaxis": "y"
        },
        {
         "hovertemplate": "Team=ChargersChargers<br>Pass Yds=%{x}<br>Rush Yds=%{y}<br>Tot TD=%{marker.size}<extra></extra>",
         "legendgroup": "ChargersChargers",
         "marker": {
          "color": "#B6E880",
          "size": [
           11
          ],
          "sizemode": "area",
          "sizeref": 0.045,
          "symbol": "circle"
         },
         "mode": "markers",
         "name": "ChargersChargers",
         "orientation": "v",
         "showlegend": true,
         "type": "scatter",
         "x": [
          1250
         ],
         "xaxis": "x",
         "y": [
          496
         ],
         "yaxis": "y"
        },
        {
         "hovertemplate": "Team=SeahawksSeahawks<br>Pass Yds=%{x}<br>Rush Yds=%{y}<br>Tot TD=%{marker.size}<extra></extra>",
         "legendgroup": "SeahawksSeahawks",
         "marker": {
          "color": "#FF97FF",
          "size": [
           11
          ],
          "sizemode": "area",
          "sizeref": 0.045,
          "symbol": "circle"
         },
         "mode": "markers",
         "name": "SeahawksSeahawks",
         "orientation": "v",
         "showlegend": true,
         "type": "scatter",
         "x": [
          1037
         ],
         "xaxis": "x",
         "y": [
          610
         ],
         "yaxis": "y"
        },
        {
         "hovertemplate": "Team=DolphinsDolphins<br>Pass Yds=%{x}<br>Rush Yds=%{y}<br>Tot TD=%{marker.size}<extra></extra>",
         "legendgroup": "DolphinsDolphins",
         "marker": {
          "color": "#FECB52",
          "size": [
           11
          ],
          "sizemode": "area",
          "sizeref": 0.045,
          "symbol": "circle"
         },
         "mode": "markers",
         "name": "DolphinsDolphins",
         "orientation": "v",
         "showlegend": true,
         "type": "scatter",
         "x": [
          1228
         ],
         "xaxis": "x",
         "y": [
          414
         ],
         "yaxis": "y"
        },
        {
         "hovertemplate": "Team=FalconsFalcons<br>Pass Yds=%{x}<br>Rush Yds=%{y}<br>Tot TD=%{marker.size}<extra></extra>",
         "legendgroup": "FalconsFalcons",
         "marker": {
          "color": "#636efa",
          "size": [
           10
          ],
          "sizemode": "area",
          "sizeref": 0.045,
          "symbol": "circle"
         },
         "mode": "markers",
         "name": "FalconsFalcons",
         "orientation": "v",
         "showlegend": true,
         "type": "scatter",
         "x": [
          779
         ],
         "xaxis": "x",
         "y": [
          823
         ],
         "yaxis": "y"
        },
        {
         "hovertemplate": "Team=CommandersCommanders<br>Pass Yds=%{x}<br>Rush Yds=%{y}<br>Tot TD=%{marker.size}<extra></extra>",
         "legendgroup": "CommandersCommanders",
         "marker": {
          "color": "#EF553B",
          "size": [
           10
          ],
          "sizemode": "area",
          "sizeref": 0.045,
          "symbol": "circle"
         },
         "mode": "markers",
         "name": "CommandersCommanders",
         "orientation": "v",
         "showlegend": true,
         "type": "scatter",
         "x": [
          1031
         ],
         "xaxis": "x",
         "y": [
          573
         ],
         "yaxis": "y"
        },
        {
         "hovertemplate": "Team=PatriotsPatriots<br>Pass Yds=%{x}<br>Rush Yds=%{y}<br>Tot TD=%{marker.size}<extra></extra>",
         "legendgroup": "PatriotsPatriots",
         "marker": {
          "color": "#00cc96",
          "size": [
           9
          ],
          "sizemode": "area",
          "sizeref": 0.045,
          "symbol": "circle"
         },
         "mode": "markers",
         "name": "PatriotsPatriots",
         "orientation": "v",
         "showlegend": true,
         "type": "scatter",
         "x": [
          922
         ],
         "xaxis": "x",
         "y": [
          690
         ],
         "yaxis": "y"
        },
        {
         "hovertemplate": "Team=TitansTitans<br>Pass Yds=%{x}<br>Rush Yds=%{y}<br>Tot TD=%{marker.size}<extra></extra>",
         "legendgroup": "TitansTitans",
         "marker": {
          "color": "#ab63fa",
          "size": [
           9
          ],
          "sizemode": "area",
          "sizeref": 0.045,
          "symbol": "circle"
         },
         "mode": "markers",
         "name": "TitansTitans",
         "orientation": "v",
         "showlegend": true,
         "type": "scatter",
         "x": [
          790
         ],
         "xaxis": "x",
         "y": [
          514
         ],
         "yaxis": "y"
        },
        {
         "hovertemplate": "Team=BengalsBengals<br>Pass Yds=%{x}<br>Rush Yds=%{y}<br>Tot TD=%{marker.size}<extra></extra>",
         "legendgroup": "BengalsBengals",
         "marker": {
          "color": "#FFA15A",
          "size": [
           9
          ],
          "sizemode": "area",
          "sizeref": 0.045,
          "symbol": "circle"
         },
         "mode": "markers",
         "name": "BengalsBengals",
         "orientation": "v",
         "showlegend": true,
         "type": "scatter",
         "x": [
          1122
         ],
         "xaxis": "x",
         "y": [
          459
         ],
         "yaxis": "y"
        },
        {
         "hovertemplate": "Team=PackersPackers<br>Pass Yds=%{x}<br>Rush Yds=%{y}<br>Tot TD=%{marker.size}<extra></extra>",
         "legendgroup": "PackersPackers",
         "marker": {
          "color": "#19d3f3",
          "size": [
           9
          ],
          "sizemode": "area",
          "sizeref": 0.045,
          "symbol": "circle"
         },
         "mode": "markers",
         "name": "PackersPackers",
         "orientation": "v",
         "showlegend": true,
         "type": "scatter",
         "x": [
          1000
         ],
         "xaxis": "x",
         "y": [
          674
         ],
         "yaxis": "y"
        },
        {
         "hovertemplate": "Team=SaintsSaints<br>Pass Yds=%{x}<br>Rush Yds=%{y}<br>Tot TD=%{marker.size}<extra></extra>",
         "legendgroup": "SaintsSaints",
         "marker": {
          "color": "#FF6692",
          "size": [
           9
          ],
          "sizemode": "area",
          "sizeref": 0.045,
          "symbol": "circle"
         },
         "mode": "markers",
         "name": "SaintsSaints",
         "orientation": "v",
         "showlegend": true,
         "type": "scatter",
         "x": [
          1094
         ],
         "xaxis": "x",
         "y": [
          681
         ],
         "yaxis": "y"
        },
        {
         "hovertemplate": "Team=CardinalsCardinals<br>Pass Yds=%{x}<br>Rush Yds=%{y}<br>Tot TD=%{marker.size}<extra></extra>",
         "legendgroup": "CardinalsCardinals",
         "marker": {
          "color": "#B6E880",
          "size": [
           9
          ],
          "sizemode": "area",
          "sizeref": 0.045,
          "symbol": "circle"
         },
         "mode": "markers",
         "name": "CardinalsCardinals",
         "orientation": "v",
         "showlegend": true,
         "type": "scatter",
         "x": [
          1003
         ],
         "xaxis": "x",
         "y": [
          572
         ],
         "yaxis": "y"
        },
        {
         "hovertemplate": "Team=VikingsVikings<br>Pass Yds=%{x}<br>Rush Yds=%{y}<br>Tot TD=%{marker.size}<extra></extra>",
         "legendgroup": "VikingsVikings",
         "marker": {
          "color": "#FF97FF",
          "size": [
           9
          ],
          "sizemode": "area",
          "sizeref": 0.045,
          "symbol": "circle"
         },
         "mode": "markers",
         "name": "VikingsVikings",
         "orientation": "v",
         "showlegend": true,
         "type": "scatter",
         "x": [
          1044
         ],
         "xaxis": "x",
         "y": [
          509
         ],
         "yaxis": "y"
        },
        {
         "hovertemplate": "Team=49ers49ers<br>Pass Yds=%{x}<br>Rush Yds=%{y}<br>Tot TD=%{marker.size}<extra></extra>",
         "legendgroup": "49ers49ers",
         "marker": {
          "color": "#FECB52",
          "size": [
           8
          ],
          "sizemode": "area",
          "sizeref": 0.045,
          "symbol": "circle"
         },
         "mode": "markers",
         "name": "49ers49ers",
         "orientation": "v",
         "showlegend": true,
         "type": "scatter",
         "x": [
          798
         ],
         "xaxis": "x",
         "y": [
          694
         ],
         "yaxis": "y"
        },
        {
         "hovertemplate": "Team=JetsJets<br>Pass Yds=%{x}<br>Rush Yds=%{y}<br>Tot TD=%{marker.size}<extra></extra>",
         "legendgroup": "JetsJets",
         "marker": {
          "color": "#636efa",
          "size": [
           8
          ],
          "sizemode": "area",
          "sizeref": 0.045,
          "symbol": "circle"
         },
         "mode": "markers",
         "name": "JetsJets",
         "orientation": "v",
         "showlegend": true,
         "type": "scatter",
         "x": [
          1172
         ],
         "xaxis": "x",
         "y": [
          485
         ],
         "yaxis": "y"
        },
        {
         "hovertemplate": "Team=RaidersRaiders<br>Pass Yds=%{x}<br>Rush Yds=%{y}<br>Tot TD=%{marker.size}<extra></extra>",
         "legendgroup": "RaidersRaiders",
         "marker": {
          "color": "#EF553B",
          "size": [
           8
          ],
          "sizemode": "area",
          "sizeref": 0.045,
          "symbol": "circle"
         },
         "mode": "markers",
         "name": "RaidersRaiders",
         "orientation": "v",
         "showlegend": true,
         "type": "scatter",
         "x": [
          1042
         ],
         "xaxis": "x",
         "y": [
          607
         ],
         "yaxis": "y"
        },
        {
         "hovertemplate": "Team=BuccaneersBuccaneers<br>Pass Yds=%{x}<br>Rush Yds=%{y}<br>Tot TD=%{marker.size}<extra></extra>",
         "legendgroup": "BuccaneersBuccaneers",
         "marker": {
          "color": "#00cc96",
          "size": [
           8
          ],
          "sizemode": "area",
          "sizeref": 0.045,
          "symbol": "circle"
         },
         "mode": "markers",
         "name": "BuccaneersBuccaneers",
         "orientation": "v",
         "showlegend": true,
         "type": "scatter",
         "x": [
          1058
         ],
         "xaxis": "x",
         "y": [
          330
         ],
         "yaxis": "y"
        },
        {
         "hovertemplate": "Team=GiantsGiants<br>Pass Yds=%{x}<br>Rush Yds=%{y}<br>Tot TD=%{marker.size}<extra></extra>",
         "legendgroup": "GiantsGiants",
         "marker": {
          "color": "#ab63fa",
          "size": [
           7
          ],
          "sizemode": "area",
          "sizeref": 0.045,
          "symbol": "circle"
         },
         "mode": "markers",
         "name": "GiantsGiants",
         "orientation": "v",
         "showlegend": true,
         "type": "scatter",
         "x": [
          642
         ],
         "xaxis": "x",
         "y": [
          895
         ],
         "yaxis": "y"
        },
        {
         "hovertemplate": "Team=TexansTexans<br>Pass Yds=%{x}<br>Rush Yds=%{y}<br>Tot TD=%{marker.size}<extra></extra>",
         "legendgroup": "TexansTexans",
         "marker": {
          "color": "#FFA15A",
          "size": [
           7
          ],
          "sizemode": "area",
          "sizeref": 0.045,
          "symbol": "circle"
         },
         "mode": "markers",
         "name": "TexansTexans",
         "orientation": "v",
         "showlegend": true,
         "type": "scatter",
         "x": [
          908
         ],
         "xaxis": "x",
         "y": [
          496
         ],
         "yaxis": "y"
        },
        {
         "hovertemplate": "Team=SteelersSteelers<br>Pass Yds=%{x}<br>Rush Yds=%{y}<br>Tot TD=%{marker.size}<extra></extra>",
         "legendgroup": "SteelersSteelers",
         "marker": {
          "color": "#19d3f3",
          "size": [
           7
          ],
          "sizemode": "area",
          "sizeref": 0.045,
          "symbol": "circle"
         },
         "mode": "markers",
         "name": "SteelersSteelers",
         "orientation": "v",
         "showlegend": true,
         "type": "scatter",
         "x": [
          773
         ],
         "xaxis": "x",
         "y": [
          443
         ],
         "yaxis": "y"
        },
        {
         "hovertemplate": "Team=PanthersPanthers<br>Pass Yds=%{x}<br>Rush Yds=%{y}<br>Tot TD=%{marker.size}<extra></extra>",
         "legendgroup": "PanthersPanthers",
         "marker": {
          "color": "#FF6692",
          "size": [
           7
          ],
          "sizemode": "area",
          "sizeref": 0.045,
          "symbol": "circle"
         },
         "mode": "markers",
         "name": "PanthersPanthers",
         "orientation": "v",
         "showlegend": true,
         "type": "scatter",
         "x": [
          747
         ],
         "xaxis": "x",
         "y": [
          449
         ],
         "yaxis": "y"
        },
        {
         "hovertemplate": "Team=RamsRams<br>Pass Yds=%{x}<br>Rush Yds=%{y}<br>Tot TD=%{marker.size}<extra></extra>",
         "legendgroup": "RamsRams",
         "marker": {
          "color": "#B6E880",
          "size": [
           7
          ],
          "sizemode": "area",
          "sizeref": 0.045,
          "symbol": "circle"
         },
         "mode": "markers",
         "name": "RamsRams",
         "orientation": "v",
         "showlegend": true,
         "type": "scatter",
         "x": [
          1015
         ],
         "xaxis": "x",
         "y": [
          312
         ],
         "yaxis": "y"
        },
        {
         "hovertemplate": "Team=BearsBears<br>Pass Yds=%{x}<br>Rush Yds=%{y}<br>Tot TD=%{marker.size}<extra></extra>",
         "legendgroup": "BearsBears",
         "marker": {
          "color": "#FF97FF",
          "size": [
           6
          ],
          "sizemode": "area",
          "sizeref": 0.045,
          "symbol": "circle"
         },
         "mode": "markers",
         "name": "BearsBears",
         "orientation": "v",
         "showlegend": true,
         "type": "scatter",
         "x": [
          471
         ],
         "xaxis": "x",
         "y": [
          1025
         ],
         "yaxis": "y"
        },
        {
         "hovertemplate": "Team=CowboysCowboys<br>Pass Yds=%{x}<br>Rush Yds=%{y}<br>Tot TD=%{marker.size}<extra></extra>",
         "legendgroup": "CowboysCowboys",
         "marker": {
          "color": "#FECB52",
          "size": [
           6
          ],
          "sizemode": "area",
          "sizeref": 0.045,
          "symbol": "circle"
         },
         "mode": "markers",
         "name": "CowboysCowboys",
         "orientation": "v",
         "showlegend": true,
         "type": "scatter",
         "x": [
          871
         ],
         "xaxis": "x",
         "y": [
          579
         ],
         "yaxis": "y"
        },
        {
         "hovertemplate": "Team=BroncosBroncos<br>Pass Yds=%{x}<br>Rush Yds=%{y}<br>Tot TD=%{marker.size}<extra></extra>",
         "legendgroup": "BroncosBroncos",
         "marker": {
          "color": "#636efa",
          "size": [
           6
          ],
          "sizemode": "area",
          "sizeref": 0.045,
          "symbol": "circle"
         },
         "mode": "markers",
         "name": "BroncosBroncos",
         "orientation": "v",
         "showlegend": true,
         "type": "scatter",
         "x": [
          980
         ],
         "xaxis": "x",
         "y": [
          563
         ],
         "yaxis": "y"
        },
        {
         "hovertemplate": "Team=ColtsColts<br>Pass Yds=%{x}<br>Rush Yds=%{y}<br>Tot TD=%{marker.size}<extra></extra>",
         "legendgroup": "ColtsColts",
         "marker": {
          "color": "#EF553B",
          "size": [
           6
          ],
          "sizemode": "area",
          "sizeref": 0.045,
          "symbol": "circle"
         },
         "mode": "markers",
         "name": "ColtsColts",
         "orientation": "v",
         "showlegend": true,
         "type": "scatter",
         "x": [
          1125
         ],
         "xaxis": "x",
         "y": [
          457
         ],
         "yaxis": "y"
        }
       ],
       "layout": {
        "legend": {
         "itemsizing": "constant",
         "title": {
          "text": "Team"
         },
         "tracegroupgap": 0
        },
        "template": {
         "data": {
          "bar": [
           {
            "error_x": {
             "color": "#2a3f5f"
            },
            "error_y": {
             "color": "#2a3f5f"
            },
            "marker": {
             "line": {
              "color": "#E5ECF6",
              "width": 0.5
             },
             "pattern": {
              "fillmode": "overlay",
              "size": 10,
              "solidity": 0.2
             }
            },
            "type": "bar"
           }
          ],
          "barpolar": [
           {
            "marker": {
             "line": {
              "color": "#E5ECF6",
              "width": 0.5
             },
             "pattern": {
              "fillmode": "overlay",
              "size": 10,
              "solidity": 0.2
             }
            },
            "type": "barpolar"
           }
          ],
          "carpet": [
           {
            "aaxis": {
             "endlinecolor": "#2a3f5f",
             "gridcolor": "white",
             "linecolor": "white",
             "minorgridcolor": "white",
             "startlinecolor": "#2a3f5f"
            },
            "baxis": {
             "endlinecolor": "#2a3f5f",
             "gridcolor": "white",
             "linecolor": "white",
             "minorgridcolor": "white",
             "startlinecolor": "#2a3f5f"
            },
            "type": "carpet"
           }
          ],
          "choropleth": [
           {
            "colorbar": {
             "outlinewidth": 0,
             "ticks": ""
            },
            "type": "choropleth"
           }
          ],
          "contour": [
           {
            "colorbar": {
             "outlinewidth": 0,
             "ticks": ""
            },
            "colorscale": [
             [
              0,
              "#0d0887"
             ],
             [
              0.1111111111111111,
              "#46039f"
             ],
             [
              0.2222222222222222,
              "#7201a8"
             ],
             [
              0.3333333333333333,
              "#9c179e"
             ],
             [
              0.4444444444444444,
              "#bd3786"
             ],
             [
              0.5555555555555556,
              "#d8576b"
             ],
             [
              0.6666666666666666,
              "#ed7953"
             ],
             [
              0.7777777777777778,
              "#fb9f3a"
             ],
             [
              0.8888888888888888,
              "#fdca26"
             ],
             [
              1,
              "#f0f921"
             ]
            ],
            "type": "contour"
           }
          ],
          "contourcarpet": [
           {
            "colorbar": {
             "outlinewidth": 0,
             "ticks": ""
            },
            "type": "contourcarpet"
           }
          ],
          "heatmap": [
           {
            "colorbar": {
             "outlinewidth": 0,
             "ticks": ""
            },
            "colorscale": [
             [
              0,
              "#0d0887"
             ],
             [
              0.1111111111111111,
              "#46039f"
             ],
             [
              0.2222222222222222,
              "#7201a8"
             ],
             [
              0.3333333333333333,
              "#9c179e"
             ],
             [
              0.4444444444444444,
              "#bd3786"
             ],
             [
              0.5555555555555556,
              "#d8576b"
             ],
             [
              0.6666666666666666,
              "#ed7953"
             ],
             [
              0.7777777777777778,
              "#fb9f3a"
             ],
             [
              0.8888888888888888,
              "#fdca26"
             ],
             [
              1,
              "#f0f921"
             ]
            ],
            "type": "heatmap"
           }
          ],
          "heatmapgl": [
           {
            "colorbar": {
             "outlinewidth": 0,
             "ticks": ""
            },
            "colorscale": [
             [
              0,
              "#0d0887"
             ],
             [
              0.1111111111111111,
              "#46039f"
             ],
             [
              0.2222222222222222,
              "#7201a8"
             ],
             [
              0.3333333333333333,
              "#9c179e"
             ],
             [
              0.4444444444444444,
              "#bd3786"
             ],
             [
              0.5555555555555556,
              "#d8576b"
             ],
             [
              0.6666666666666666,
              "#ed7953"
             ],
             [
              0.7777777777777778,
              "#fb9f3a"
             ],
             [
              0.8888888888888888,
              "#fdca26"
             ],
             [
              1,
              "#f0f921"
             ]
            ],
            "type": "heatmapgl"
           }
          ],
          "histogram": [
           {
            "marker": {
             "pattern": {
              "fillmode": "overlay",
              "size": 10,
              "solidity": 0.2
             }
            },
            "type": "histogram"
           }
          ],
          "histogram2d": [
           {
            "colorbar": {
             "outlinewidth": 0,
             "ticks": ""
            },
            "colorscale": [
             [
              0,
              "#0d0887"
             ],
             [
              0.1111111111111111,
              "#46039f"
             ],
             [
              0.2222222222222222,
              "#7201a8"
             ],
             [
              0.3333333333333333,
              "#9c179e"
             ],
             [
              0.4444444444444444,
              "#bd3786"
             ],
             [
              0.5555555555555556,
              "#d8576b"
             ],
             [
              0.6666666666666666,
              "#ed7953"
             ],
             [
              0.7777777777777778,
              "#fb9f3a"
             ],
             [
              0.8888888888888888,
              "#fdca26"
             ],
             [
              1,
              "#f0f921"
             ]
            ],
            "type": "histogram2d"
           }
          ],
          "histogram2dcontour": [
           {
            "colorbar": {
             "outlinewidth": 0,
             "ticks": ""
            },
            "colorscale": [
             [
              0,
              "#0d0887"
             ],
             [
              0.1111111111111111,
              "#46039f"
             ],
             [
              0.2222222222222222,
              "#7201a8"
             ],
             [
              0.3333333333333333,
              "#9c179e"
             ],
             [
              0.4444444444444444,
              "#bd3786"
             ],
             [
              0.5555555555555556,
              "#d8576b"
             ],
             [
              0.6666666666666666,
              "#ed7953"
             ],
             [
              0.7777777777777778,
              "#fb9f3a"
             ],
             [
              0.8888888888888888,
              "#fdca26"
             ],
             [
              1,
              "#f0f921"
             ]
            ],
            "type": "histogram2dcontour"
           }
          ],
          "mesh3d": [
           {
            "colorbar": {
             "outlinewidth": 0,
             "ticks": ""
            },
            "type": "mesh3d"
           }
          ],
          "parcoords": [
           {
            "line": {
             "colorbar": {
              "outlinewidth": 0,
              "ticks": ""
             }
            },
            "type": "parcoords"
           }
          ],
          "pie": [
           {
            "automargin": true,
            "type": "pie"
           }
          ],
          "scatter": [
           {
            "fillpattern": {
             "fillmode": "overlay",
             "size": 10,
             "solidity": 0.2
            },
            "type": "scatter"
           }
          ],
          "scatter3d": [
           {
            "line": {
             "colorbar": {
              "outlinewidth": 0,
              "ticks": ""
             }
            },
            "marker": {
             "colorbar": {
              "outlinewidth": 0,
              "ticks": ""
             }
            },
            "type": "scatter3d"
           }
          ],
          "scattercarpet": [
           {
            "marker": {
             "colorbar": {
              "outlinewidth": 0,
              "ticks": ""
             }
            },
            "type": "scattercarpet"
           }
          ],
          "scattergeo": [
           {
            "marker": {
             "colorbar": {
              "outlinewidth": 0,
              "ticks": ""
             }
            },
            "type": "scattergeo"
           }
          ],
          "scattergl": [
           {
            "marker": {
             "colorbar": {
              "outlinewidth": 0,
              "ticks": ""
             }
            },
            "type": "scattergl"
           }
          ],
          "scattermapbox": [
           {
            "marker": {
             "colorbar": {
              "outlinewidth": 0,
              "ticks": ""
             }
            },
            "type": "scattermapbox"
           }
          ],
          "scatterpolar": [
           {
            "marker": {
             "colorbar": {
              "outlinewidth": 0,
              "ticks": ""
             }
            },
            "type": "scatterpolar"
           }
          ],
          "scatterpolargl": [
           {
            "marker": {
             "colorbar": {
              "outlinewidth": 0,
              "ticks": ""
             }
            },
            "type": "scatterpolargl"
           }
          ],
          "scatterternary": [
           {
            "marker": {
             "colorbar": {
              "outlinewidth": 0,
              "ticks": ""
             }
            },
            "type": "scatterternary"
           }
          ],
          "surface": [
           {
            "colorbar": {
             "outlinewidth": 0,
             "ticks": ""
            },
            "colorscale": [
             [
              0,
              "#0d0887"
             ],
             [
              0.1111111111111111,
              "#46039f"
             ],
             [
              0.2222222222222222,
              "#7201a8"
             ],
             [
              0.3333333333333333,
              "#9c179e"
             ],
             [
              0.4444444444444444,
              "#bd3786"
             ],
             [
              0.5555555555555556,
              "#d8576b"
             ],
             [
              0.6666666666666666,
              "#ed7953"
             ],
             [
              0.7777777777777778,
              "#fb9f3a"
             ],
             [
              0.8888888888888888,
              "#fdca26"
             ],
             [
              1,
              "#f0f921"
             ]
            ],
            "type": "surface"
           }
          ],
          "table": [
           {
            "cells": {
             "fill": {
              "color": "#EBF0F8"
             },
             "line": {
              "color": "white"
             }
            },
            "header": {
             "fill": {
              "color": "#C8D4E3"
             },
             "line": {
              "color": "white"
             }
            },
            "type": "table"
           }
          ]
         },
         "layout": {
          "annotationdefaults": {
           "arrowcolor": "#2a3f5f",
           "arrowhead": 0,
           "arrowwidth": 1
          },
          "autotypenumbers": "strict",
          "coloraxis": {
           "colorbar": {
            "outlinewidth": 0,
            "ticks": ""
           }
          },
          "colorscale": {
           "diverging": [
            [
             0,
             "#8e0152"
            ],
            [
             0.1,
             "#c51b7d"
            ],
            [
             0.2,
             "#de77ae"
            ],
            [
             0.3,
             "#f1b6da"
            ],
            [
             0.4,
             "#fde0ef"
            ],
            [
             0.5,
             "#f7f7f7"
            ],
            [
             0.6,
             "#e6f5d0"
            ],
            [
             0.7,
             "#b8e186"
            ],
            [
             0.8,
             "#7fbc41"
            ],
            [
             0.9,
             "#4d9221"
            ],
            [
             1,
             "#276419"
            ]
           ],
           "sequential": [
            [
             0,
             "#0d0887"
            ],
            [
             0.1111111111111111,
             "#46039f"
            ],
            [
             0.2222222222222222,
             "#7201a8"
            ],
            [
             0.3333333333333333,
             "#9c179e"
            ],
            [
             0.4444444444444444,
             "#bd3786"
            ],
            [
             0.5555555555555556,
             "#d8576b"
            ],
            [
             0.6666666666666666,
             "#ed7953"
            ],
            [
             0.7777777777777778,
             "#fb9f3a"
            ],
            [
             0.8888888888888888,
             "#fdca26"
            ],
            [
             1,
             "#f0f921"
            ]
           ],
           "sequentialminus": [
            [
             0,
             "#0d0887"
            ],
            [
             0.1111111111111111,
             "#46039f"
            ],
            [
             0.2222222222222222,
             "#7201a8"
            ],
            [
             0.3333333333333333,
             "#9c179e"
            ],
            [
             0.4444444444444444,
             "#bd3786"
            ],
            [
             0.5555555555555556,
             "#d8576b"
            ],
            [
             0.6666666666666666,
             "#ed7953"
            ],
            [
             0.7777777777777778,
             "#fb9f3a"
            ],
            [
             0.8888888888888888,
             "#fdca26"
            ],
            [
             1,
             "#f0f921"
            ]
           ]
          },
          "colorway": [
           "#636efa",
           "#EF553B",
           "#00cc96",
           "#ab63fa",
           "#FFA15A",
           "#19d3f3",
           "#FF6692",
           "#B6E880",
           "#FF97FF",
           "#FECB52"
          ],
          "font": {
           "color": "#2a3f5f"
          },
          "geo": {
           "bgcolor": "white",
           "lakecolor": "white",
           "landcolor": "#E5ECF6",
           "showlakes": true,
           "showland": true,
           "subunitcolor": "white"
          },
          "hoverlabel": {
           "align": "left"
          },
          "hovermode": "closest",
          "mapbox": {
           "style": "light"
          },
          "paper_bgcolor": "white",
          "plot_bgcolor": "#E5ECF6",
          "polar": {
           "angularaxis": {
            "gridcolor": "white",
            "linecolor": "white",
            "ticks": ""
           },
           "bgcolor": "#E5ECF6",
           "radialaxis": {
            "gridcolor": "white",
            "linecolor": "white",
            "ticks": ""
           }
          },
          "scene": {
           "xaxis": {
            "backgroundcolor": "#E5ECF6",
            "gridcolor": "white",
            "gridwidth": 2,
            "linecolor": "white",
            "showbackground": true,
            "ticks": "",
            "zerolinecolor": "white"
           },
           "yaxis": {
            "backgroundcolor": "#E5ECF6",
            "gridcolor": "white",
            "gridwidth": 2,
            "linecolor": "white",
            "showbackground": true,
            "ticks": "",
            "zerolinecolor": "white"
           },
           "zaxis": {
            "backgroundcolor": "#E5ECF6",
            "gridcolor": "white",
            "gridwidth": 2,
            "linecolor": "white",
            "showbackground": true,
            "ticks": "",
            "zerolinecolor": "white"
           }
          },
          "shapedefaults": {
           "line": {
            "color": "#2a3f5f"
           }
          },
          "ternary": {
           "aaxis": {
            "gridcolor": "white",
            "linecolor": "white",
            "ticks": ""
           },
           "baxis": {
            "gridcolor": "white",
            "linecolor": "white",
            "ticks": ""
           },
           "bgcolor": "#E5ECF6",
           "caxis": {
            "gridcolor": "white",
            "linecolor": "white",
            "ticks": ""
           }
          },
          "title": {
           "x": 0.05
          },
          "xaxis": {
           "automargin": true,
           "gridcolor": "white",
           "linecolor": "white",
           "ticks": "",
           "title": {
            "standoff": 15
           },
           "zerolinecolor": "white",
           "zerolinewidth": 2
          },
          "yaxis": {
           "automargin": true,
           "gridcolor": "white",
           "linecolor": "white",
           "ticks": "",
           "title": {
            "standoff": 15
           },
           "zerolinecolor": "white",
           "zerolinewidth": 2
          }
         }
        },
        "title": {
         "text": "Passing Yards vs Rushing Yards"
        },
        "xaxis": {
         "anchor": "y",
         "domain": [
          0,
          1
         ],
         "title": {
          "text": "Pass Yds"
         }
        },
        "yaxis": {
         "anchor": "x",
         "domain": [
          0,
          1
         ],
         "title": {
          "text": "Rush Yds"
         }
        }
       }
      }
     },
     "metadata": {},
     "output_type": "display_data"
    }
   ],
   "source": [
    "px.scatter(passing_rushing_df, x='Pass Yds', y='Rush Yds', color='Team', size='Tot TD', title='Passing Yards vs Rushing Yards')"
   ]
  },
  {
   "cell_type": "code",
   "execution_count": 29,
   "metadata": {},
   "outputs": [
    {
     "data": {
      "application/vnd.plotly.v1+json": {
       "config": {
        "plotlyServerURL": "https://plot.ly"
       },
       "data": [
        {
         "hovertemplate": "<b>%{hovertext}</b><br><br>Team=CommandersCommanders<br>Pass Yds=%{x}<br>TD=%{y}<br>Att=%{marker.size}<extra></extra>",
         "hovertext": [
          "CommandersCommanders"
         ],
         "legendgroup": "CommandersCommanders",
         "marker": {
          "color": "#636efa",
          "size": [
           232
          ],
          "sizemode": "area",
          "sizeref": 0.06444444444444444,
          "symbol": "circle"
         },
         "mode": "markers",
         "name": "CommandersCommanders",
         "orientation": "v",
         "showlegend": true,
         "type": "scatter",
         "x": [
          1489
         ],
         "xaxis": "x",
         "y": [
          10
         ],
         "yaxis": "y"
        },
        {
         "hovertemplate": "<b>%{hovertext}</b><br><br>Team=CardinalsCardinals<br>Pass Yds=%{x}<br>TD=%{y}<br>Att=%{marker.size}<extra></extra>",
         "hovertext": [
          "CardinalsCardinals"
         ],
         "legendgroup": "CardinalsCardinals",
         "marker": {
          "color": "#EF553B",
          "size": [
           219
          ],
          "sizemode": "area",
          "sizeref": 0.06444444444444444,
          "symbol": "circle"
         },
         "mode": "markers",
         "name": "CardinalsCardinals",
         "orientation": "v",
         "showlegend": true,
         "type": "scatter",
         "x": [
          1253
         ],
         "xaxis": "x",
         "y": [
          6
         ],
         "yaxis": "y"
        },
        {
         "hovertemplate": "<b>%{hovertext}</b><br><br>Team=JetsJets<br>Pass Yds=%{x}<br>TD=%{y}<br>Att=%{marker.size}<extra></extra>",
         "hovertext": [
          "JetsJets"
         ],
         "legendgroup": "JetsJets",
         "marker": {
          "color": "#00cc96",
          "size": [
           214
          ],
          "sizemode": "area",
          "sizeref": 0.06444444444444444,
          "symbol": "circle"
         },
         "mode": "markers",
         "name": "JetsJets",
         "orientation": "v",
         "showlegend": true,
         "type": "scatter",
         "x": [
          1382
         ],
         "xaxis": "x",
         "y": [
          7
         ],
         "yaxis": "y"
        },
        {
         "hovertemplate": "<b>%{hovertext}</b><br><br>Team=BuccaneersBuccaneers<br>Pass Yds=%{x}<br>TD=%{y}<br>Att=%{marker.size}<extra></extra>",
         "hovertext": [
          "BuccaneersBuccaneers"
         ],
         "legendgroup": "BuccaneersBuccaneers",
         "marker": {
          "color": "#ab63fa",
          "size": [
           207
          ],
          "sizemode": "area",
          "sizeref": 0.06444444444444444,
          "symbol": "circle"
         },
         "mode": "markers",
         "name": "BuccaneersBuccaneers",
         "orientation": "v",
         "showlegend": true,
         "type": "scatter",
         "x": [
          1409
         ],
         "xaxis": "x",
         "y": [
          7
         ],
         "yaxis": "y"
        },
        {
         "hovertemplate": "<b>%{hovertext}</b><br><br>Team=BillsBills<br>Pass Yds=%{x}<br>TD=%{y}<br>Att=%{marker.size}<extra></extra>",
         "hovertext": [
          "BillsBills"
         ],
         "legendgroup": "BillsBills",
         "marker": {
          "color": "#FFA15A",
          "size": [
           206
          ],
          "sizemode": "area",
          "sizeref": 0.06444444444444444,
          "symbol": "circle"
         },
         "mode": "markers",
         "name": "BillsBills",
         "orientation": "v",
         "showlegend": true,
         "type": "scatter",
         "x": [
          1659
         ],
         "xaxis": "x",
         "y": [
          14
         ],
         "yaxis": "y"
        },
        {
         "hovertemplate": "<b>%{hovertext}</b><br><br>Team=VikingsVikings<br>Pass Yds=%{x}<br>TD=%{y}<br>Att=%{marker.size}<extra></extra>",
         "hovertext": [
          "VikingsVikings"
         ],
         "legendgroup": "VikingsVikings",
         "marker": {
          "color": "#19d3f3",
          "size": [
           200
          ],
          "sizemode": "area",
          "sizeref": 0.06444444444444444,
          "symbol": "circle"
         },
         "mode": "markers",
         "name": "VikingsVikings",
         "orientation": "v",
         "showlegend": true,
         "type": "scatter",
         "x": [
          1363
         ],
         "xaxis": "x",
         "y": [
          7
         ],
         "yaxis": "y"
        },
        {
         "hovertemplate": "<b>%{hovertext}</b><br><br>Team=ChargersChargers<br>Pass Yds=%{x}<br>TD=%{y}<br>Att=%{marker.size}<extra></extra>",
         "hovertext": [
          "ChargersChargers"
         ],
         "legendgroup": "ChargersChargers",
         "marker": {
          "color": "#FF6692",
          "size": [
           200
          ],
          "sizemode": "area",
          "sizeref": 0.06444444444444444,
          "symbol": "circle"
         },
         "mode": "markers",
         "name": "ChargersChargers",
         "orientation": "v",
         "showlegend": true,
         "type": "scatter",
         "x": [
          1478
         ],
         "xaxis": "x",
         "y": [
          10
         ],
         "yaxis": "y"
        },
        {
         "hovertemplate": "<b>%{hovertext}</b><br><br>Team=ColtsColts<br>Pass Yds=%{x}<br>TD=%{y}<br>Att=%{marker.size}<extra></extra>",
         "hovertext": [
          "ColtsColts"
         ],
         "legendgroup": "ColtsColts",
         "marker": {
          "color": "#B6E880",
          "size": [
           195
          ],
          "sizemode": "area",
          "sizeref": 0.06444444444444444,
          "symbol": "circle"
         },
         "mode": "markers",
         "name": "ColtsColts",
         "orientation": "v",
         "showlegend": true,
         "type": "scatter",
         "x": [
          1376
         ],
         "xaxis": "x",
         "y": [
          5
         ],
         "yaxis": "y"
        },
        {
         "hovertemplate": "<b>%{hovertext}</b><br><br>Team=RamsRams<br>Pass Yds=%{x}<br>TD=%{y}<br>Att=%{marker.size}<extra></extra>",
         "hovertext": [
          "RamsRams"
         ],
         "legendgroup": "RamsRams",
         "marker": {
          "color": "#FF97FF",
          "size": [
           194
          ],
          "sizemode": "area",
          "sizeref": 0.06444444444444444,
          "symbol": "circle"
         },
         "mode": "markers",
         "name": "RamsRams",
         "orientation": "v",
         "showlegend": true,
         "type": "scatter",
         "x": [
          1335
         ],
         "xaxis": "x",
         "y": [
          5
         ],
         "yaxis": "y"
        },
        {
         "hovertemplate": "<b>%{hovertext}</b><br><br>Team=BengalsBengals<br>Pass Yds=%{x}<br>TD=%{y}<br>Att=%{marker.size}<extra></extra>",
         "hovertext": [
          "BengalsBengals"
         ],
         "legendgroup": "BengalsBengals",
         "marker": {
          "color": "#FECB52",
          "size": [
           192
          ],
          "sizemode": "area",
          "sizeref": 0.06444444444444444,
          "symbol": "circle"
         },
         "mode": "markers",
         "name": "BengalsBengals",
         "orientation": "v",
         "showlegend": true,
         "type": "scatter",
         "x": [
          1339
         ],
         "xaxis": "x",
         "y": [
          9
         ],
         "yaxis": "y"
        },
        {
         "hovertemplate": "<b>%{hovertext}</b><br><br>Team=ChiefsChiefs<br>Pass Yds=%{x}<br>TD=%{y}<br>Att=%{marker.size}<extra></extra>",
         "hovertext": [
          "ChiefsChiefs"
         ],
         "legendgroup": "ChiefsChiefs",
         "marker": {
          "color": "#636efa",
          "size": [
           190
          ],
          "sizemode": "area",
          "sizeref": 0.06444444444444444,
          "symbol": "circle"
         },
         "mode": "markers",
         "name": "ChiefsChiefs",
         "orientation": "v",
         "showlegend": true,
         "type": "scatter",
         "x": [
          1398
         ],
         "xaxis": "x",
         "y": [
          15
         ],
         "yaxis": "y"
        },
        {
         "hovertemplate": "<b>%{hovertext}</b><br><br>Team=LionsLions<br>Pass Yds=%{x}<br>TD=%{y}<br>Att=%{marker.size}<extra></extra>",
         "hovertext": [
          "LionsLions"
         ],
         "legendgroup": "LionsLions",
         "marker": {
          "color": "#EF553B",
          "size": [
           187
          ],
          "sizemode": "area",
          "sizeref": 0.06444444444444444,
          "symbol": "circle"
         },
         "mode": "markers",
         "name": "LionsLions",
         "orientation": "v",
         "showlegend": true,
         "type": "scatter",
         "x": [
          1361
         ],
         "xaxis": "x",
         "y": [
          11
         ],
         "yaxis": "y"
        },
        {
         "hovertemplate": "<b>%{hovertext}</b><br><br>Team=RaidersRaiders<br>Pass Yds=%{x}<br>TD=%{y}<br>Att=%{marker.size}<extra></extra>",
         "hovertext": [
          "RaidersRaiders"
         ],
         "legendgroup": "RaidersRaiders",
         "marker": {
          "color": "#00cc96",
          "size": [
           185
          ],
          "sizemode": "area",
          "sizeref": 0.06444444444444444,
          "symbol": "circle"
         },
         "mode": "markers",
         "name": "RaidersRaiders",
         "orientation": "v",
         "showlegend": true,
         "type": "scatter",
         "x": [
          1283
         ],
         "xaxis": "x",
         "y": [
          8
         ],
         "yaxis": "y"
        },
        {
         "hovertemplate": "<b>%{hovertext}</b><br><br>Team=JaguarsJaguars<br>Pass Yds=%{x}<br>TD=%{y}<br>Att=%{marker.size}<extra></extra>",
         "hovertext": [
          "JaguarsJaguars"
         ],
         "legendgroup": "JaguarsJaguars",
         "marker": {
          "color": "#ab63fa",
          "size": [
           181
          ],
          "sizemode": "area",
          "sizeref": 0.06444444444444444,
          "symbol": "circle"
         },
         "mode": "markers",
         "name": "JaguarsJaguars",
         "orientation": "v",
         "showlegend": true,
         "type": "scatter",
         "x": [
          1232
         ],
         "xaxis": "x",
         "y": [
          8
         ],
         "yaxis": "y"
        },
        {
         "hovertemplate": "<b>%{hovertext}</b><br><br>Team=SteelersSteelers<br>Pass Yds=%{x}<br>TD=%{y}<br>Att=%{marker.size}<extra></extra>",
         "hovertext": [
          "SteelersSteelers"
         ],
         "legendgroup": "SteelersSteelers",
         "marker": {
          "color": "#FFA15A",
          "size": [
           181
          ],
          "sizemode": "area",
          "sizeref": 0.06444444444444444,
          "symbol": "circle"
         },
         "mode": "markers",
         "name": "SteelersSteelers",
         "orientation": "v",
         "showlegend": true,
         "type": "scatter",
         "x": [
          1100
         ],
         "xaxis": "x",
         "y": [
          2
         ],
         "yaxis": "y"
        },
        {
         "hovertemplate": "<b>%{hovertext}</b><br><br>Team=DolphinsDolphins<br>Pass Yds=%{x}<br>TD=%{y}<br>Att=%{marker.size}<extra></extra>",
         "hovertext": [
          "DolphinsDolphins"
         ],
         "legendgroup": "DolphinsDolphins",
         "marker": {
          "color": "#19d3f3",
          "size": [
           174
          ],
          "sizemode": "area",
          "sizeref": 0.06444444444444444,
          "symbol": "circle"
         },
         "mode": "markers",
         "name": "DolphinsDolphins",
         "orientation": "v",
         "showlegend": true,
         "type": "scatter",
         "x": [
          1394
         ],
         "xaxis": "x",
         "y": [
          9
         ],
         "yaxis": "y"
        },
        {
         "hovertemplate": "<b>%{hovertext}</b><br><br>Team=PackersPackers<br>Pass Yds=%{x}<br>TD=%{y}<br>Att=%{marker.size}<extra></extra>",
         "hovertext": [
          "PackersPackers"
         ],
         "legendgroup": "PackersPackers",
         "marker": {
          "color": "#FF6692",
          "size": [
           173
          ],
          "sizemode": "area",
          "sizeref": 0.06444444444444444,
          "symbol": "circle"
         },
         "mode": "markers",
         "name": "PackersPackers",
         "orientation": "v",
         "showlegend": true,
         "type": "scatter",
         "x": [
          1222
         ],
         "xaxis": "x",
         "y": [
          8
         ],
         "yaxis": "y"
        },
        {
         "hovertemplate": "<b>%{hovertext}</b><br><br>Team=BroncosBroncos<br>Pass Yds=%{x}<br>TD=%{y}<br>Att=%{marker.size}<extra></extra>",
         "hovertext": [
          "BroncosBroncos"
         ],
         "legendgroup": "BroncosBroncos",
         "marker": {
          "color": "#B6E880",
          "size": [
           170
          ],
          "sizemode": "area",
          "sizeref": 0.06444444444444444,
          "symbol": "circle"
         },
         "mode": "markers",
         "name": "BroncosBroncos",
         "orientation": "v",
         "showlegend": true,
         "type": "scatter",
         "x": [
          1254
         ],
         "xaxis": "x",
         "y": [
          4
         ],
         "yaxis": "y"
        },
        {
         "hovertemplate": "<b>%{hovertext}</b><br><br>Team=SaintsSaints<br>Pass Yds=%{x}<br>TD=%{y}<br>Att=%{marker.size}<extra></extra>",
         "hovertext": [
          "SaintsSaints"
         ],
         "legendgroup": "SaintsSaints",
         "marker": {
          "color": "#FF97FF",
          "size": [
           168
          ],
          "sizemode": "area",
          "sizeref": 0.06444444444444444,
          "symbol": "circle"
         },
         "mode": "markers",
         "name": "SaintsSaints",
         "orientation": "v",
         "showlegend": true,
         "type": "scatter",
         "x": [
          1303
         ],
         "xaxis": "x",
         "y": [
          7
         ],
         "yaxis": "y"
        },
        {
         "hovertemplate": "<b>%{hovertext}</b><br><br>Team=TexansTexans<br>Pass Yds=%{x}<br>TD=%{y}<br>Att=%{marker.size}<extra></extra>",
         "hovertext": [
          "TexansTexans"
         ],
         "legendgroup": "TexansTexans",
         "marker": {
          "color": "#FECB52",
          "size": [
           166
          ],
          "sizemode": "area",
          "sizeref": 0.06444444444444444,
          "symbol": "circle"
         },
         "mode": "markers",
         "name": "TexansTexans",
         "orientation": "v",
         "showlegend": true,
         "type": "scatter",
         "x": [
          1048
         ],
         "xaxis": "x",
         "y": [
          5
         ],
         "yaxis": "y"
        },
        {
         "hovertemplate": "<b>%{hovertext}</b><br><br>Team=BrownsBrowns<br>Pass Yds=%{x}<br>TD=%{y}<br>Att=%{marker.size}<extra></extra>",
         "hovertext": [
          "BrownsBrowns"
         ],
         "legendgroup": "BrownsBrowns",
         "marker": {
          "color": "#636efa",
          "size": [
           161
          ],
          "sizemode": "area",
          "sizeref": 0.06444444444444444,
          "symbol": "circle"
         },
         "mode": "markers",
         "name": "BrownsBrowns",
         "orientation": "v",
         "showlegend": true,
         "type": "scatter",
         "x": [
          1060
         ],
         "xaxis": "x",
         "y": [
          5
         ],
         "yaxis": "y"
        },
        {
         "hovertemplate": "<b>%{hovertext}</b><br><br>Team=PanthersPanthers<br>Pass Yds=%{x}<br>TD=%{y}<br>Att=%{marker.size}<extra></extra>",
         "hovertext": [
          "PanthersPanthers"
         ],
         "legendgroup": "PanthersPanthers",
         "marker": {
          "color": "#EF553B",
          "size": [
           159
          ],
          "sizemode": "area",
          "sizeref": 0.06444444444444444,
          "symbol": "circle"
         },
         "mode": "markers",
         "name": "PanthersPanthers",
         "orientation": "v",
         "showlegend": true,
         "type": "scatter",
         "x": [
          1022
         ],
         "xaxis": "x",
         "y": [
          4
         ],
         "yaxis": "y"
        },
        {
         "hovertemplate": "<b>%{hovertext}</b><br><br>Team=EaglesEagles<br>Pass Yds=%{x}<br>TD=%{y}<br>Att=%{marker.size}<extra></extra>",
         "hovertext": [
          "EaglesEagles"
         ],
         "legendgroup": "EaglesEagles",
         "marker": {
          "color": "#00cc96",
          "size": [
           159
          ],
          "sizemode": "area",
          "sizeref": 0.06444444444444444,
          "symbol": "circle"
         },
         "mode": "markers",
         "name": "EaglesEagles",
         "orientation": "v",
         "showlegend": true,
         "type": "scatter",
         "x": [
          1359
         ],
         "xaxis": "x",
         "y": [
          4
         ],
         "yaxis": "y"
        },
        {
         "hovertemplate": "<b>%{hovertext}</b><br><br>Team=SeahawksSeahawks<br>Pass Yds=%{x}<br>TD=%{y}<br>Att=%{marker.size}<extra></extra>",
         "hovertext": [
          "SeahawksSeahawks"
         ],
         "legendgroup": "SeahawksSeahawks",
         "marker": {
          "color": "#ab63fa",
          "size": [
           158
          ],
          "sizemode": "area",
          "sizeref": 0.06444444444444444,
          "symbol": "circle"
         },
         "mode": "markers",
         "name": "SeahawksSeahawks",
         "orientation": "v",
         "showlegend": true,
         "type": "scatter",
         "x": [
          1305
         ],
         "xaxis": "x",
         "y": [
          9
         ],
         "yaxis": "y"
        },
        {
         "hovertemplate": "<b>%{hovertext}</b><br><br>Team=RavensRavens<br>Pass Yds=%{x}<br>TD=%{y}<br>Att=%{marker.size}<extra></extra>",
         "hovertext": [
          "RavensRavens"
         ],
         "legendgroup": "RavensRavens",
         "marker": {
          "color": "#FFA15A",
          "size": [
           149
          ],
          "sizemode": "area",
          "sizeref": 0.06444444444444444,
          "symbol": "circle"
         },
         "mode": "markers",
         "name": "RavensRavens",
         "orientation": "v",
         "showlegend": true,
         "type": "scatter",
         "x": [
          1067
         ],
         "xaxis": "x",
         "y": [
          12
         ],
         "yaxis": "y"
        },
        {
         "hovertemplate": "<b>%{hovertext}</b><br><br>Team=CowboysCowboys<br>Pass Yds=%{x}<br>TD=%{y}<br>Att=%{marker.size}<extra></extra>",
         "hovertext": [
          "CowboysCowboys"
         ],
         "legendgroup": "CowboysCowboys",
         "marker": {
          "color": "#19d3f3",
          "size": [
           147
          ],
          "sizemode": "area",
          "sizeref": 0.06444444444444444,
          "symbol": "circle"
         },
         "mode": "markers",
         "name": "CowboysCowboys",
         "orientation": "v",
         "showlegend": true,
         "type": "scatter",
         "x": [
          973
         ],
         "xaxis": "x",
         "y": [
          4
         ],
         "yaxis": "y"
        },
        {
         "hovertemplate": "<b>%{hovertext}</b><br><br>Team=PatriotsPatriots<br>Pass Yds=%{x}<br>TD=%{y}<br>Att=%{marker.size}<extra></extra>",
         "hovertext": [
          "PatriotsPatriots"
         ],
         "legendgroup": "PatriotsPatriots",
         "marker": {
          "color": "#FF6692",
          "size": [
           139
          ],
          "sizemode": "area",
          "sizeref": 0.06444444444444444,
          "symbol": "circle"
         },
         "mode": "markers",
         "name": "PatriotsPatriots",
         "orientation": "v",
         "showlegend": true,
         "type": "scatter",
         "x": [
          1110
         ],
         "xaxis": "x",
         "y": [
          4
         ],
         "yaxis": "y"
        },
        {
         "hovertemplate": "<b>%{hovertext}</b><br><br>Team=49ers49ers<br>Pass Yds=%{x}<br>TD=%{y}<br>Att=%{marker.size}<extra></extra>",
         "hovertext": [
          "49ers49ers"
         ],
         "legendgroup": "49ers49ers",
         "marker": {
          "color": "#B6E880",
          "size": [
           138
          ],
          "sizemode": "area",
          "sizeref": 0.06444444444444444,
          "symbol": "circle"
         },
         "mode": "markers",
         "name": "49ers49ers",
         "orientation": "v",
         "showlegend": true,
         "type": "scatter",
         "x": [
          1051
         ],
         "xaxis": "x",
         "y": [
          5
         ],
         "yaxis": "y"
        },
        {
         "hovertemplate": "<b>%{hovertext}</b><br><br>Team=GiantsGiants<br>Pass Yds=%{x}<br>TD=%{y}<br>Att=%{marker.size}<extra></extra>",
         "hovertext": [
          "GiantsGiants"
         ],
         "legendgroup": "GiantsGiants",
         "marker": {
          "color": "#FF97FF",
          "size": [
           135
          ],
          "sizemode": "area",
          "sizeref": 0.06444444444444444,
          "symbol": "circle"
         },
         "mode": "markers",
         "name": "GiantsGiants",
         "orientation": "v",
         "showlegend": true,
         "type": "scatter",
         "x": [
          859
         ],
         "xaxis": "x",
         "y": [
          3
         ],
         "yaxis": "y"
        },
        {
         "hovertemplate": "<b>%{hovertext}</b><br><br>Team=TitansTitans<br>Pass Yds=%{x}<br>TD=%{y}<br>Att=%{marker.size}<extra></extra>",
         "hovertext": [
          "TitansTitans"
         ],
         "legendgroup": "TitansTitans",
         "marker": {
          "color": "#FECB52",
          "size": [
           130
          ],
          "sizemode": "area",
          "sizeref": 0.06444444444444444,
          "symbol": "circle"
         },
         "mode": "markers",
         "name": "TitansTitans",
         "orientation": "v",
         "showlegend": true,
         "type": "scatter",
         "x": [
          971
         ],
         "xaxis": "x",
         "y": [
          6
         ],
         "yaxis": "y"
        },
        {
         "hovertemplate": "<b>%{hovertext}</b><br><br>Team=FalconsFalcons<br>Pass Yds=%{x}<br>TD=%{y}<br>Att=%{marker.size}<extra></extra>",
         "hovertext": [
          "FalconsFalcons"
         ],
         "legendgroup": "FalconsFalcons",
         "marker": {
          "color": "#636efa",
          "size": [
           123
          ],
          "sizemode": "area",
          "sizeref": 0.06444444444444444,
          "symbol": "circle"
         },
         "mode": "markers",
         "name": "FalconsFalcons",
         "orientation": "v",
         "showlegend": true,
         "type": "scatter",
         "x": [
          926
         ],
         "xaxis": "x",
         "y": [
          4
         ],
         "yaxis": "y"
        },
        {
         "hovertemplate": "<b>%{hovertext}</b><br><br>Team=BearsBears<br>Pass Yds=%{x}<br>TD=%{y}<br>Att=%{marker.size}<extra></extra>",
         "hovertext": [
          "BearsBears"
         ],
         "legendgroup": "BearsBears",
         "marker": {
          "color": "#EF553B",
          "size": [
           115
          ],
          "sizemode": "area",
          "sizeref": 0.06444444444444444,
          "symbol": "circle"
         },
         "mode": "markers",
         "name": "BearsBears",
         "orientation": "v",
         "showlegend": true,
         "type": "scatter",
         "x": [
          869
         ],
         "xaxis": "x",
         "y": [
          4
         ],
         "yaxis": "y"
        }
       ],
       "layout": {
        "legend": {
         "itemsizing": "constant",
         "title": {
          "text": "Team"
         },
         "tracegroupgap": 0
        },
        "margin": {
         "t": 60
        },
        "template": {
         "data": {
          "bar": [
           {
            "error_x": {
             "color": "#2a3f5f"
            },
            "error_y": {
             "color": "#2a3f5f"
            },
            "marker": {
             "line": {
              "color": "#E5ECF6",
              "width": 0.5
             },
             "pattern": {
              "fillmode": "overlay",
              "size": 10,
              "solidity": 0.2
             }
            },
            "type": "bar"
           }
          ],
          "barpolar": [
           {
            "marker": {
             "line": {
              "color": "#E5ECF6",
              "width": 0.5
             },
             "pattern": {
              "fillmode": "overlay",
              "size": 10,
              "solidity": 0.2
             }
            },
            "type": "barpolar"
           }
          ],
          "carpet": [
           {
            "aaxis": {
             "endlinecolor": "#2a3f5f",
             "gridcolor": "white",
             "linecolor": "white",
             "minorgridcolor": "white",
             "startlinecolor": "#2a3f5f"
            },
            "baxis": {
             "endlinecolor": "#2a3f5f",
             "gridcolor": "white",
             "linecolor": "white",
             "minorgridcolor": "white",
             "startlinecolor": "#2a3f5f"
            },
            "type": "carpet"
           }
          ],
          "choropleth": [
           {
            "colorbar": {
             "outlinewidth": 0,
             "ticks": ""
            },
            "type": "choropleth"
           }
          ],
          "contour": [
           {
            "colorbar": {
             "outlinewidth": 0,
             "ticks": ""
            },
            "colorscale": [
             [
              0,
              "#0d0887"
             ],
             [
              0.1111111111111111,
              "#46039f"
             ],
             [
              0.2222222222222222,
              "#7201a8"
             ],
             [
              0.3333333333333333,
              "#9c179e"
             ],
             [
              0.4444444444444444,
              "#bd3786"
             ],
             [
              0.5555555555555556,
              "#d8576b"
             ],
             [
              0.6666666666666666,
              "#ed7953"
             ],
             [
              0.7777777777777778,
              "#fb9f3a"
             ],
             [
              0.8888888888888888,
              "#fdca26"
             ],
             [
              1,
              "#f0f921"
             ]
            ],
            "type": "contour"
           }
          ],
          "contourcarpet": [
           {
            "colorbar": {
             "outlinewidth": 0,
             "ticks": ""
            },
            "type": "contourcarpet"
           }
          ],
          "heatmap": [
           {
            "colorbar": {
             "outlinewidth": 0,
             "ticks": ""
            },
            "colorscale": [
             [
              0,
              "#0d0887"
             ],
             [
              0.1111111111111111,
              "#46039f"
             ],
             [
              0.2222222222222222,
              "#7201a8"
             ],
             [
              0.3333333333333333,
              "#9c179e"
             ],
             [
              0.4444444444444444,
              "#bd3786"
             ],
             [
              0.5555555555555556,
              "#d8576b"
             ],
             [
              0.6666666666666666,
              "#ed7953"
             ],
             [
              0.7777777777777778,
              "#fb9f3a"
             ],
             [
              0.8888888888888888,
              "#fdca26"
             ],
             [
              1,
              "#f0f921"
             ]
            ],
            "type": "heatmap"
           }
          ],
          "heatmapgl": [
           {
            "colorbar": {
             "outlinewidth": 0,
             "ticks": ""
            },
            "colorscale": [
             [
              0,
              "#0d0887"
             ],
             [
              0.1111111111111111,
              "#46039f"
             ],
             [
              0.2222222222222222,
              "#7201a8"
             ],
             [
              0.3333333333333333,
              "#9c179e"
             ],
             [
              0.4444444444444444,
              "#bd3786"
             ],
             [
              0.5555555555555556,
              "#d8576b"
             ],
             [
              0.6666666666666666,
              "#ed7953"
             ],
             [
              0.7777777777777778,
              "#fb9f3a"
             ],
             [
              0.8888888888888888,
              "#fdca26"
             ],
             [
              1,
              "#f0f921"
             ]
            ],
            "type": "heatmapgl"
           }
          ],
          "histogram": [
           {
            "marker": {
             "pattern": {
              "fillmode": "overlay",
              "size": 10,
              "solidity": 0.2
             }
            },
            "type": "histogram"
           }
          ],
          "histogram2d": [
           {
            "colorbar": {
             "outlinewidth": 0,
             "ticks": ""
            },
            "colorscale": [
             [
              0,
              "#0d0887"
             ],
             [
              0.1111111111111111,
              "#46039f"
             ],
             [
              0.2222222222222222,
              "#7201a8"
             ],
             [
              0.3333333333333333,
              "#9c179e"
             ],
             [
              0.4444444444444444,
              "#bd3786"
             ],
             [
              0.5555555555555556,
              "#d8576b"
             ],
             [
              0.6666666666666666,
              "#ed7953"
             ],
             [
              0.7777777777777778,
              "#fb9f3a"
             ],
             [
              0.8888888888888888,
              "#fdca26"
             ],
             [
              1,
              "#f0f921"
             ]
            ],
            "type": "histogram2d"
           }
          ],
          "histogram2dcontour": [
           {
            "colorbar": {
             "outlinewidth": 0,
             "ticks": ""
            },
            "colorscale": [
             [
              0,
              "#0d0887"
             ],
             [
              0.1111111111111111,
              "#46039f"
             ],
             [
              0.2222222222222222,
              "#7201a8"
             ],
             [
              0.3333333333333333,
              "#9c179e"
             ],
             [
              0.4444444444444444,
              "#bd3786"
             ],
             [
              0.5555555555555556,
              "#d8576b"
             ],
             [
              0.6666666666666666,
              "#ed7953"
             ],
             [
              0.7777777777777778,
              "#fb9f3a"
             ],
             [
              0.8888888888888888,
              "#fdca26"
             ],
             [
              1,
              "#f0f921"
             ]
            ],
            "type": "histogram2dcontour"
           }
          ],
          "mesh3d": [
           {
            "colorbar": {
             "outlinewidth": 0,
             "ticks": ""
            },
            "type": "mesh3d"
           }
          ],
          "parcoords": [
           {
            "line": {
             "colorbar": {
              "outlinewidth": 0,
              "ticks": ""
             }
            },
            "type": "parcoords"
           }
          ],
          "pie": [
           {
            "automargin": true,
            "type": "pie"
           }
          ],
          "scatter": [
           {
            "fillpattern": {
             "fillmode": "overlay",
             "size": 10,
             "solidity": 0.2
            },
            "type": "scatter"
           }
          ],
          "scatter3d": [
           {
            "line": {
             "colorbar": {
              "outlinewidth": 0,
              "ticks": ""
             }
            },
            "marker": {
             "colorbar": {
              "outlinewidth": 0,
              "ticks": ""
             }
            },
            "type": "scatter3d"
           }
          ],
          "scattercarpet": [
           {
            "marker": {
             "colorbar": {
              "outlinewidth": 0,
              "ticks": ""
             }
            },
            "type": "scattercarpet"
           }
          ],
          "scattergeo": [
           {
            "marker": {
             "colorbar": {
              "outlinewidth": 0,
              "ticks": ""
             }
            },
            "type": "scattergeo"
           }
          ],
          "scattergl": [
           {
            "marker": {
             "colorbar": {
              "outlinewidth": 0,
              "ticks": ""
             }
            },
            "type": "scattergl"
           }
          ],
          "scattermapbox": [
           {
            "marker": {
             "colorbar": {
              "outlinewidth": 0,
              "ticks": ""
             }
            },
            "type": "scattermapbox"
           }
          ],
          "scatterpolar": [
           {
            "marker": {
             "colorbar": {
              "outlinewidth": 0,
              "ticks": ""
             }
            },
            "type": "scatterpolar"
           }
          ],
          "scatterpolargl": [
           {
            "marker": {
             "colorbar": {
              "outlinewidth": 0,
              "ticks": ""
             }
            },
            "type": "scatterpolargl"
           }
          ],
          "scatterternary": [
           {
            "marker": {
             "colorbar": {
              "outlinewidth": 0,
              "ticks": ""
             }
            },
            "type": "scatterternary"
           }
          ],
          "surface": [
           {
            "colorbar": {
             "outlinewidth": 0,
             "ticks": ""
            },
            "colorscale": [
             [
              0,
              "#0d0887"
             ],
             [
              0.1111111111111111,
              "#46039f"
             ],
             [
              0.2222222222222222,
              "#7201a8"
             ],
             [
              0.3333333333333333,
              "#9c179e"
             ],
             [
              0.4444444444444444,
              "#bd3786"
             ],
             [
              0.5555555555555556,
              "#d8576b"
             ],
             [
              0.6666666666666666,
              "#ed7953"
             ],
             [
              0.7777777777777778,
              "#fb9f3a"
             ],
             [
              0.8888888888888888,
              "#fdca26"
             ],
             [
              1,
              "#f0f921"
             ]
            ],
            "type": "surface"
           }
          ],
          "table": [
           {
            "cells": {
             "fill": {
              "color": "#EBF0F8"
             },
             "line": {
              "color": "white"
             }
            },
            "header": {
             "fill": {
              "color": "#C8D4E3"
             },
             "line": {
              "color": "white"
             }
            },
            "type": "table"
           }
          ]
         },
         "layout": {
          "annotationdefaults": {
           "arrowcolor": "#2a3f5f",
           "arrowhead": 0,
           "arrowwidth": 1
          },
          "autotypenumbers": "strict",
          "coloraxis": {
           "colorbar": {
            "outlinewidth": 0,
            "ticks": ""
           }
          },
          "colorscale": {
           "diverging": [
            [
             0,
             "#8e0152"
            ],
            [
             0.1,
             "#c51b7d"
            ],
            [
             0.2,
             "#de77ae"
            ],
            [
             0.3,
             "#f1b6da"
            ],
            [
             0.4,
             "#fde0ef"
            ],
            [
             0.5,
             "#f7f7f7"
            ],
            [
             0.6,
             "#e6f5d0"
            ],
            [
             0.7,
             "#b8e186"
            ],
            [
             0.8,
             "#7fbc41"
            ],
            [
             0.9,
             "#4d9221"
            ],
            [
             1,
             "#276419"
            ]
           ],
           "sequential": [
            [
             0,
             "#0d0887"
            ],
            [
             0.1111111111111111,
             "#46039f"
            ],
            [
             0.2222222222222222,
             "#7201a8"
            ],
            [
             0.3333333333333333,
             "#9c179e"
            ],
            [
             0.4444444444444444,
             "#bd3786"
            ],
            [
             0.5555555555555556,
             "#d8576b"
            ],
            [
             0.6666666666666666,
             "#ed7953"
            ],
            [
             0.7777777777777778,
             "#fb9f3a"
            ],
            [
             0.8888888888888888,
             "#fdca26"
            ],
            [
             1,
             "#f0f921"
            ]
           ],
           "sequentialminus": [
            [
             0,
             "#0d0887"
            ],
            [
             0.1111111111111111,
             "#46039f"
            ],
            [
             0.2222222222222222,
             "#7201a8"
            ],
            [
             0.3333333333333333,
             "#9c179e"
            ],
            [
             0.4444444444444444,
             "#bd3786"
            ],
            [
             0.5555555555555556,
             "#d8576b"
            ],
            [
             0.6666666666666666,
             "#ed7953"
            ],
            [
             0.7777777777777778,
             "#fb9f3a"
            ],
            [
             0.8888888888888888,
             "#fdca26"
            ],
            [
             1,
             "#f0f921"
            ]
           ]
          },
          "colorway": [
           "#636efa",
           "#EF553B",
           "#00cc96",
           "#ab63fa",
           "#FFA15A",
           "#19d3f3",
           "#FF6692",
           "#B6E880",
           "#FF97FF",
           "#FECB52"
          ],
          "font": {
           "color": "#2a3f5f"
          },
          "geo": {
           "bgcolor": "white",
           "lakecolor": "white",
           "landcolor": "#E5ECF6",
           "showlakes": true,
           "showland": true,
           "subunitcolor": "white"
          },
          "hoverlabel": {
           "align": "left"
          },
          "hovermode": "closest",
          "mapbox": {
           "style": "light"
          },
          "paper_bgcolor": "white",
          "plot_bgcolor": "#E5ECF6",
          "polar": {
           "angularaxis": {
            "gridcolor": "white",
            "linecolor": "white",
            "ticks": ""
           },
           "bgcolor": "#E5ECF6",
           "radialaxis": {
            "gridcolor": "white",
            "linecolor": "white",
            "ticks": ""
           }
          },
          "scene": {
           "xaxis": {
            "backgroundcolor": "#E5ECF6",
            "gridcolor": "white",
            "gridwidth": 2,
            "linecolor": "white",
            "showbackground": true,
            "ticks": "",
            "zerolinecolor": "white"
           },
           "yaxis": {
            "backgroundcolor": "#E5ECF6",
            "gridcolor": "white",
            "gridwidth": 2,
            "linecolor": "white",
            "showbackground": true,
            "ticks": "",
            "zerolinecolor": "white"
           },
           "zaxis": {
            "backgroundcolor": "#E5ECF6",
            "gridcolor": "white",
            "gridwidth": 2,
            "linecolor": "white",
            "showbackground": true,
            "ticks": "",
            "zerolinecolor": "white"
           }
          },
          "shapedefaults": {
           "line": {
            "color": "#2a3f5f"
           }
          },
          "ternary": {
           "aaxis": {
            "gridcolor": "white",
            "linecolor": "white",
            "ticks": ""
           },
           "baxis": {
            "gridcolor": "white",
            "linecolor": "white",
            "ticks": ""
           },
           "bgcolor": "#E5ECF6",
           "caxis": {
            "gridcolor": "white",
            "linecolor": "white",
            "ticks": ""
           }
          },
          "title": {
           "x": 0.05
          },
          "xaxis": {
           "automargin": true,
           "gridcolor": "white",
           "linecolor": "white",
           "ticks": "",
           "title": {
            "standoff": 15
           },
           "zerolinecolor": "white",
           "zerolinewidth": 2
          },
          "yaxis": {
           "automargin": true,
           "gridcolor": "white",
           "linecolor": "white",
           "ticks": "",
           "title": {
            "standoff": 15
           },
           "zerolinecolor": "white",
           "zerolinewidth": 2
          }
         }
        },
        "xaxis": {
         "anchor": "y",
         "domain": [
          0,
          1
         ],
         "title": {
          "text": "Pass Yds"
         }
        },
        "yaxis": {
         "anchor": "x",
         "domain": [
          0,
          1
         ],
         "title": {
          "text": "TD"
         }
        }
       }
      }
     },
     "metadata": {},
     "output_type": "display_data"
    }
   ],
   "source": [
    "px.scatter(passing_df, x='Pass Yds', y='TD', color='Team', size='Att', hover_name='Team', size_max=60)"
   ]
  },
  {
   "cell_type": "code",
   "execution_count": 30,
   "metadata": {},
   "outputs": [
    {
     "data": {
      "application/vnd.plotly.v1+json": {
       "config": {
        "plotlyServerURL": "https://plot.ly"
       },
       "data": [
        {
         "hovertemplate": "<b>%{hovertext}</b><br><br>Team=BearsBears<br>Rush Yds=%{x}<br>TD=%{y}<br>Att=%{marker.size}<extra></extra>",
         "hovertext": [
          "BearsBears"
         ],
         "legendgroup": "BearsBears",
         "marker": {
          "color": "#636efa",
          "size": [
           197
          ],
          "sizemode": "area",
          "sizeref": 0.05472222222222222,
          "symbol": "circle"
         },
         "mode": "markers",
         "name": "BearsBears",
         "orientation": "v",
         "showlegend": true,
         "type": "scatter",
         "x": [
          1025
         ],
         "xaxis": "x",
         "y": [
          5
         ],
         "yaxis": "y"
        },
        {
         "hovertemplate": "<b>%{hovertext}</b><br><br>Team=EaglesEagles<br>Rush Yds=%{x}<br>TD=%{y}<br>Att=%{marker.size}<extra></extra>",
         "hovertext": [
          "EaglesEagles"
         ],
         "legendgroup": "EaglesEagles",
         "marker": {
          "color": "#EF553B",
          "size": [
           186
          ],
          "sizemode": "area",
          "sizeref": 0.05472222222222222,
          "symbol": "circle"
         },
         "mode": "markers",
         "name": "EaglesEagles",
         "orientation": "v",
         "showlegend": true,
         "type": "scatter",
         "x": [
          800
         ],
         "xaxis": "x",
         "y": [
          12
         ],
         "yaxis": "y"
        },
        {
         "hovertemplate": "<b>%{hovertext}</b><br><br>Team=BrownsBrowns<br>Rush Yds=%{x}<br>TD=%{y}<br>Att=%{marker.size}<extra></extra>",
         "hovertext": [
          "BrownsBrowns"
         ],
         "legendgroup": "BrownsBrowns",
         "marker": {
          "color": "#00cc96",
          "size": [
           180
          ],
          "sizemode": "area",
          "sizeref": 0.05472222222222222,
          "symbol": "circle"
         },
         "mode": "markers",
         "name": "BrownsBrowns",
         "orientation": "v",
         "showlegend": true,
         "type": "scatter",
         "x": [
          962
         ],
         "xaxis": "x",
         "y": [
          10
         ],
         "yaxis": "y"
        },
        {
         "hovertemplate": "<b>%{hovertext}</b><br><br>Team=GiantsGiants<br>Rush Yds=%{x}<br>TD=%{y}<br>Att=%{marker.size}<extra></extra>",
         "hovertext": [
          "GiantsGiants"
         ],
         "legendgroup": "GiantsGiants",
         "marker": {
          "color": "#ab63fa",
          "size": [
           165
          ],
          "sizemode": "area",
          "sizeref": 0.05472222222222222,
          "symbol": "circle"
         },
         "mode": "markers",
         "name": "GiantsGiants",
         "orientation": "v",
         "showlegend": true,
         "type": "scatter",
         "x": [
          895
         ],
         "xaxis": "x",
         "y": [
          7
         ],
         "yaxis": "y"
        },
        {
         "hovertemplate": "<b>%{hovertext}</b><br><br>Team=FalconsFalcons<br>Rush Yds=%{x}<br>TD=%{y}<br>Att=%{marker.size}<extra></extra>",
         "hovertext": [
          "FalconsFalcons"
         ],
         "legendgroup": "FalconsFalcons",
         "marker": {
          "color": "#FFA15A",
          "size": [
           162
          ],
          "sizemode": "area",
          "sizeref": 0.05472222222222222,
          "symbol": "circle"
         },
         "mode": "markers",
         "name": "FalconsFalcons",
         "orientation": "v",
         "showlegend": true,
         "type": "scatter",
         "x": [
          823
         ],
         "xaxis": "x",
         "y": [
          7
         ],
         "yaxis": "y"
        },
        {
         "hovertemplate": "<b>%{hovertext}</b><br><br>Team=49ers49ers<br>Rush Yds=%{x}<br>TD=%{y}<br>Att=%{marker.size}<extra></extra>",
         "hovertext": [
          "49ers49ers"
         ],
         "legendgroup": "49ers49ers",
         "marker": {
          "color": "#19d3f3",
          "size": [
           152
          ],
          "sizemode": "area",
          "sizeref": 0.05472222222222222,
          "symbol": "circle"
         },
         "mode": "markers",
         "name": "49ers49ers",
         "orientation": "v",
         "showlegend": true,
         "type": "scatter",
         "x": [
          694
         ],
         "xaxis": "x",
         "y": [
          6
         ],
         "yaxis": "y"
        },
        {
         "hovertemplate": "<b>%{hovertext}</b><br><br>Team=PatriotsPatriots<br>Rush Yds=%{x}<br>TD=%{y}<br>Att=%{marker.size}<extra></extra>",
         "hovertext": [
          "PatriotsPatriots"
         ],
         "legendgroup": "PatriotsPatriots",
         "marker": {
          "color": "#FF6692",
          "size": [
           149
          ],
          "sizemode": "area",
          "sizeref": 0.05472222222222222,
          "symbol": "circle"
         },
         "mode": "markers",
         "name": "PatriotsPatriots",
         "orientation": "v",
         "showlegend": true,
         "type": "scatter",
         "x": [
          690
         ],
         "xaxis": "x",
         "y": [
          5
         ],
         "yaxis": "y"
        },
        {
         "hovertemplate": "<b>%{hovertext}</b><br><br>Team=CommandersCommanders<br>Rush Yds=%{x}<br>TD=%{y}<br>Att=%{marker.size}<extra></extra>",
         "hovertext": [
          "CommandersCommanders"
         ],
         "legendgroup": "CommandersCommanders",
         "marker": {
          "color": "#B6E880",
          "size": [
           143
          ],
          "sizemode": "area",
          "sizeref": 0.05472222222222222,
          "symbol": "circle"
         },
         "mode": "markers",
         "name": "CommandersCommanders",
         "orientation": "v",
         "showlegend": true,
         "type": "scatter",
         "x": [
          573
         ],
         "xaxis": "x",
         "y": [
          3
         ],
         "yaxis": "y"
        },
        {
         "hovertemplate": "<b>%{hovertext}</b><br><br>Team=TitansTitans<br>Rush Yds=%{x}<br>TD=%{y}<br>Att=%{marker.size}<extra></extra>",
         "hovertext": [
          "TitansTitans"
         ],
         "legendgroup": "TitansTitans",
         "marker": {
          "color": "#FF97FF",
          "size": [
           140
          ],
          "sizemode": "area",
          "sizeref": 0.05472222222222222,
          "symbol": "circle"
         },
         "mode": "markers",
         "name": "TitansTitans",
         "orientation": "v",
         "showlegend": true,
         "type": "scatter",
         "x": [
          514
         ],
         "xaxis": "x",
         "y": [
          6
         ],
         "yaxis": "y"
        },
        {
         "hovertemplate": "<b>%{hovertext}</b><br><br>Team=LionsLions<br>Rush Yds=%{x}<br>TD=%{y}<br>Att=%{marker.size}<extra></extra>",
         "hovertext": [
          "LionsLions"
         ],
         "legendgroup": "LionsLions",
         "marker": {
          "color": "#FECB52",
          "size": [
           139
          ],
          "sizemode": "area",
          "sizeref": 0.05472222222222222,
          "symbol": "circle"
         },
         "mode": "markers",
         "name": "LionsLions",
         "orientation": "v",
         "showlegend": true,
         "type": "scatter",
         "x": [
          757
         ],
         "xaxis": "x",
         "y": [
          7
         ],
         "yaxis": "y"
        },
        {
         "hovertemplate": "<b>%{hovertext}</b><br><br>Team=BengalsBengals<br>Rush Yds=%{x}<br>TD=%{y}<br>Att=%{marker.size}<extra></extra>",
         "hovertext": [
          "BengalsBengals"
         ],
         "legendgroup": "BengalsBengals",
         "marker": {
          "color": "#636efa",
          "size": [
           138
          ],
          "sizemode": "area",
          "sizeref": 0.05472222222222222,
          "symbol": "circle"
         },
         "mode": "markers",
         "name": "BengalsBengals",
         "orientation": "v",
         "showlegend": true,
         "type": "scatter",
         "x": [
          459
         ],
         "xaxis": "x",
         "y": [
          2
         ],
         "yaxis": "y"
        },
        {
         "hovertemplate": "<b>%{hovertext}</b><br><br>Team=CowboysCowboys<br>Rush Yds=%{x}<br>TD=%{y}<br>Att=%{marker.size}<extra></extra>",
         "hovertext": [
          "CowboysCowboys"
         ],
         "legendgroup": "CowboysCowboys",
         "marker": {
          "color": "#EF553B",
          "size": [
           138
          ],
          "sizemode": "area",
          "sizeref": 0.05472222222222222,
          "symbol": "circle"
         },
         "mode": "markers",
         "name": "CowboysCowboys",
         "orientation": "v",
         "showlegend": true,
         "type": "scatter",
         "x": [
          579
         ],
         "xaxis": "x",
         "y": [
          3
         ],
         "yaxis": "y"
        },
        {
         "hovertemplate": "<b>%{hovertext}</b><br><br>Team=PackersPackers<br>Rush Yds=%{x}<br>TD=%{y}<br>Att=%{marker.size}<extra></extra>",
         "hovertext": [
          "PackersPackers"
         ],
         "legendgroup": "PackersPackers",
         "marker": {
          "color": "#00cc96",
          "size": [
           136
          ],
          "sizemode": "area",
          "sizeref": 0.05472222222222222,
          "symbol": "circle"
         },
         "mode": "markers",
         "name": "PackersPackers",
         "orientation": "v",
         "showlegend": true,
         "type": "scatter",
         "x": [
          674
         ],
         "xaxis": "x",
         "y": [
          3
         ],
         "yaxis": "y"
        },
        {
         "hovertemplate": "<b>%{hovertext}</b><br><br>Team=JaguarsJaguars<br>Rush Yds=%{x}<br>TD=%{y}<br>Att=%{marker.size}<extra></extra>",
         "hovertext": [
          "JaguarsJaguars"
         ],
         "legendgroup": "JaguarsJaguars",
         "marker": {
          "color": "#ab63fa",
          "size": [
           136
          ],
          "sizemode": "area",
          "sizeref": 0.05472222222222222,
          "symbol": "circle"
         },
         "mode": "markers",
         "name": "JaguarsJaguars",
         "orientation": "v",
         "showlegend": true,
         "type": "scatter",
         "x": [
          577
         ],
         "xaxis": "x",
         "y": [
          3
         ],
         "yaxis": "y"
        },
        {
         "hovertemplate": "<b>%{hovertext}</b><br><br>Team=SaintsSaints<br>Rush Yds=%{x}<br>TD=%{y}<br>Att=%{marker.size}<extra></extra>",
         "hovertext": [
          "SaintsSaints"
         ],
         "legendgroup": "SaintsSaints",
         "marker": {
          "color": "#FFA15A",
          "size": [
           136
          ],
          "sizemode": "area",
          "sizeref": 0.05472222222222222,
          "symbol": "circle"
         },
         "mode": "markers",
         "name": "SaintsSaints",
         "orientation": "v",
         "showlegend": true,
         "type": "scatter",
         "x": [
          681
         ],
         "xaxis": "x",
         "y": [
          7
         ],
         "yaxis": "y"
        },
        {
         "hovertemplate": "<b>%{hovertext}</b><br><br>Team=CardinalsCardinals<br>Rush Yds=%{x}<br>TD=%{y}<br>Att=%{marker.size}<extra></extra>",
         "hovertext": [
          "CardinalsCardinals"
         ],
         "legendgroup": "CardinalsCardinals",
         "marker": {
          "color": "#19d3f3",
          "size": [
           134
          ],
          "sizemode": "area",
          "sizeref": 0.05472222222222222,
          "symbol": "circle"
         },
         "mode": "markers",
         "name": "CardinalsCardinals",
         "orientation": "v",
         "showlegend": true,
         "type": "scatter",
         "x": [
          572
         ],
         "xaxis": "x",
         "y": [
          5
         ],
         "yaxis": "y"
        },
        {
         "hovertemplate": "<b>%{hovertext}</b><br><br>Team=RavensRavens<br>Rush Yds=%{x}<br>TD=%{y}<br>Att=%{marker.size}<extra></extra>",
         "hovertext": [
          "RavensRavens"
         ],
         "legendgroup": "RavensRavens",
         "marker": {
          "color": "#FF6692",
          "size": [
           133
          ],
          "sizemode": "area",
          "sizeref": 0.05472222222222222,
          "symbol": "circle"
         },
         "mode": "markers",
         "name": "RavensRavens",
         "orientation": "v",
         "showlegend": true,
         "type": "scatter",
         "x": [
          723
         ],
         "xaxis": "x",
         "y": [
          3
         ],
         "yaxis": "y"
        },
        {
         "hovertemplate": "<b>%{hovertext}</b><br><br>Team=BroncosBroncos<br>Rush Yds=%{x}<br>TD=%{y}<br>Att=%{marker.size}<extra></extra>",
         "hovertext": [
          "BroncosBroncos"
         ],
         "legendgroup": "BroncosBroncos",
         "marker": {
          "color": "#B6E880",
          "size": [
           132
          ],
          "sizemode": "area",
          "sizeref": 0.05472222222222222,
          "symbol": "circle"
         },
         "mode": "markers",
         "name": "BroncosBroncos",
         "orientation": "v",
         "showlegend": true,
         "type": "scatter",
         "x": [
          563
         ],
         "xaxis": "x",
         "y": [
          2
         ],
         "yaxis": "y"
        },
        {
         "hovertemplate": "<b>%{hovertext}</b><br><br>Team=ChiefsChiefs<br>Rush Yds=%{x}<br>TD=%{y}<br>Att=%{marker.size}<extra></extra>",
         "hovertext": [
          "ChiefsChiefs"
         ],
         "legendgroup": "ChiefsChiefs",
         "marker": {
          "color": "#FF97FF",
          "size": [
           128
          ],
          "sizemode": "area",
          "sizeref": 0.05472222222222222,
          "symbol": "circle"
         },
         "mode": "markers",
         "name": "ChiefsChiefs",
         "orientation": "v",
         "showlegend": true,
         "type": "scatter",
         "x": [
          571
         ],
         "xaxis": "x",
         "y": [
          4
         ],
         "yaxis": "y"
        },
        {
         "hovertemplate": "<b>%{hovertext}</b><br><br>Team=ChargersChargers<br>Rush Yds=%{x}<br>TD=%{y}<br>Att=%{marker.size}<extra></extra>",
         "hovertext": [
          "ChargersChargers"
         ],
         "legendgroup": "ChargersChargers",
         "marker": {
          "color": "#FECB52",
          "size": [
           128
          ],
          "sizemode": "area",
          "sizeref": 0.05472222222222222,
          "symbol": "circle"
         },
         "mode": "markers",
         "name": "ChargersChargers",
         "orientation": "v",
         "showlegend": true,
         "type": "scatter",
         "x": [
          496
         ],
         "xaxis": "x",
         "y": [
          4
         ],
         "yaxis": "y"
        },
        {
         "hovertemplate": "<b>%{hovertext}</b><br><br>Team=ColtsColts<br>Rush Yds=%{x}<br>TD=%{y}<br>Att=%{marker.size}<extra></extra>",
         "hovertext": [
          "ColtsColts"
         ],
         "legendgroup": "ColtsColts",
         "marker": {
          "color": "#636efa",
          "size": [
           127
          ],
          "sizemode": "area",
          "sizeref": 0.05472222222222222,
          "symbol": "circle"
         },
         "mode": "markers",
         "name": "ColtsColts",
         "orientation": "v",
         "showlegend": true,
         "type": "scatter",
         "x": [
          457
         ],
         "xaxis": "x",
         "y": [
          1
         ],
         "yaxis": "y"
        },
        {
         "hovertemplate": "<b>%{hovertext}</b><br><br>Team=VikingsVikings<br>Rush Yds=%{x}<br>TD=%{y}<br>Att=%{marker.size}<extra></extra>",
         "hovertext": [
          "VikingsVikings"
         ],
         "legendgroup": "VikingsVikings",
         "marker": {
          "color": "#EF553B",
          "size": [
           120
          ],
          "sizemode": "area",
          "sizeref": 0.05472222222222222,
          "symbol": "circle"
         },
         "mode": "markers",
         "name": "VikingsVikings",
         "orientation": "v",
         "showlegend": true,
         "type": "scatter",
         "x": [
          509
         ],
         "xaxis": "x",
         "y": [
          6
         ],
         "yaxis": "y"
        },
        {
         "hovertemplate": "<b>%{hovertext}</b><br><br>Team=JetsJets<br>Rush Yds=%{x}<br>TD=%{y}<br>Att=%{marker.size}<extra></extra>",
         "hovertext": [
          "JetsJets"
         ],
         "legendgroup": "JetsJets",
         "marker": {
          "color": "#00cc96",
          "size": [
           119
          ],
          "sizemode": "area",
          "sizeref": 0.05472222222222222,
          "symbol": "circle"
         },
         "mode": "markers",
         "name": "JetsJets",
         "orientation": "v",
         "showlegend": true,
         "type": "scatter",
         "x": [
          485
         ],
         "xaxis": "x",
         "y": [
          6
         ],
         "yaxis": "y"
        },
        {
         "hovertemplate": "<b>%{hovertext}</b><br><br>Team=BillsBills<br>Rush Yds=%{x}<br>TD=%{y}<br>Att=%{marker.size}<extra></extra>",
         "hovertext": [
          "BillsBills"
         ],
         "legendgroup": "BillsBills",
         "marker": {
          "color": "#ab63fa",
          "size": [
           115
          ],
          "sizemode": "area",
          "sizeref": 0.05472222222222222,
          "symbol": "circle"
         },
         "mode": "markers",
         "name": "BillsBills",
         "orientation": "v",
         "showlegend": true,
         "type": "scatter",
         "x": [
          582
         ],
         "xaxis": "x",
         "y": [
          3
         ],
         "yaxis": "y"
        },
        {
         "hovertemplate": "<b>%{hovertext}</b><br><br>Team=TexansTexans<br>Rush Yds=%{x}<br>TD=%{y}<br>Att=%{marker.size}<extra></extra>",
         "hovertext": [
          "TexansTexans"
         ],
         "legendgroup": "TexansTexans",
         "marker": {
          "color": "#FFA15A",
          "size": [
           115
          ],
          "sizemode": "area",
          "sizeref": 0.05472222222222222,
          "symbol": "circle"
         },
         "mode": "markers",
         "name": "TexansTexans",
         "orientation": "v",
         "showlegend": true,
         "type": "scatter",
         "x": [
          496
         ],
         "xaxis": "x",
         "y": [
          3
         ],
         "yaxis": "y"
        },
        {
         "hovertemplate": "<b>%{hovertext}</b><br><br>Team=RaidersRaiders<br>Rush Yds=%{x}<br>TD=%{y}<br>Att=%{marker.size}<extra></extra>",
         "hovertext": [
          "RaidersRaiders"
         ],
         "legendgroup": "RaidersRaiders",
         "marker": {
          "color": "#19d3f3",
          "size": [
           115
          ],
          "sizemode": "area",
          "sizeref": 0.05472222222222222,
          "symbol": "circle"
         },
         "mode": "markers",
         "name": "RaidersRaiders",
         "orientation": "v",
         "showlegend": true,
         "type": "scatter",
         "x": [
          607
         ],
         "xaxis": "x",
         "y": [
          3
         ],
         "yaxis": "y"
        },
        {
         "hovertemplate": "<b>%{hovertext}</b><br><br>Team=SteelersSteelers<br>Rush Yds=%{x}<br>TD=%{y}<br>Att=%{marker.size}<extra></extra>",
         "hovertext": [
          "SteelersSteelers"
         ],
         "legendgroup": "SteelersSteelers",
         "marker": {
          "color": "#FF6692",
          "size": [
           114
          ],
          "sizemode": "area",
          "sizeref": 0.05472222222222222,
          "symbol": "circle"
         },
         "mode": "markers",
         "name": "SteelersSteelers",
         "orientation": "v",
         "showlegend": true,
         "type": "scatter",
         "x": [
          443
         ],
         "xaxis": "x",
         "y": [
          4
         ],
         "yaxis": "y"
        },
        {
         "hovertemplate": "<b>%{hovertext}</b><br><br>Team=SeahawksSeahawks<br>Rush Yds=%{x}<br>TD=%{y}<br>Att=%{marker.size}<extra></extra>",
         "hovertext": [
          "SeahawksSeahawks"
         ],
         "legendgroup": "SeahawksSeahawks",
         "marker": {
          "color": "#B6E880",
          "size": [
           110
          ],
          "sizemode": "area",
          "sizeref": 0.05472222222222222,
          "symbol": "circle"
         },
         "mode": "markers",
         "name": "SeahawksSeahawks",
         "orientation": "v",
         "showlegend": true,
         "type": "scatter",
         "x": [
          610
         ],
         "xaxis": "x",
         "y": [
          4
         ],
         "yaxis": "y"
        },
        {
         "hovertemplate": "<b>%{hovertext}</b><br><br>Team=DolphinsDolphins<br>Rush Yds=%{x}<br>TD=%{y}<br>Att=%{marker.size}<extra></extra>",
         "hovertext": [
          "DolphinsDolphins"
         ],
         "legendgroup": "DolphinsDolphins",
         "marker": {
          "color": "#FF97FF",
          "size": [
           106
          ],
          "sizemode": "area",
          "sizeref": 0.05472222222222222,
          "symbol": "circle"
         },
         "mode": "markers",
         "name": "DolphinsDolphins",
         "orientation": "v",
         "showlegend": true,
         "type": "scatter",
         "x": [
          414
         ],
         "xaxis": "x",
         "y": [
          4
         ],
         "yaxis": "y"
        },
        {
         "hovertemplate": "<b>%{hovertext}</b><br><br>Team=BuccaneersBuccaneers<br>Rush Yds=%{x}<br>TD=%{y}<br>Att=%{marker.size}<extra></extra>",
         "hovertext": [
          "BuccaneersBuccaneers"
         ],
         "legendgroup": "BuccaneersBuccaneers",
         "marker": {
          "color": "#FECB52",
          "size": [
           106
          ],
          "sizemode": "area",
          "sizeref": 0.05472222222222222,
          "symbol": "circle"
         },
         "mode": "markers",
         "name": "BuccaneersBuccaneers",
         "orientation": "v",
         "showlegend": true,
         "type": "scatter",
         "x": [
          330
         ],
         "xaxis": "x",
         "y": [
          2
         ],
         "yaxis": "y"
        },
        {
         "hovertemplate": "<b>%{hovertext}</b><br><br>Team=PanthersPanthers<br>Rush Yds=%{x}<br>TD=%{y}<br>Att=%{marker.size}<extra></extra>",
         "hovertext": [
          "PanthersPanthers"
         ],
         "legendgroup": "PanthersPanthers",
         "marker": {
          "color": "#636efa",
          "size": [
           103
          ],
          "sizemode": "area",
          "sizeref": 0.05472222222222222,
          "symbol": "circle"
         },
         "mode": "markers",
         "name": "PanthersPanthers",
         "orientation": "v",
         "showlegend": true,
         "type": "scatter",
         "x": [
          449
         ],
         "xaxis": "x",
         "y": [
          3
         ],
         "yaxis": "y"
        },
        {
         "hovertemplate": "<b>%{hovertext}</b><br><br>Team=RamsRams<br>Rush Yds=%{x}<br>TD=%{y}<br>Att=%{marker.size}<extra></extra>",
         "hovertext": [
          "RamsRams"
         ],
         "legendgroup": "RamsRams",
         "marker": {
          "color": "#EF553B",
          "size": [
           97
          ],
          "sizemode": "area",
          "sizeref": 0.05472222222222222,
          "symbol": "circle"
         },
         "mode": "markers",
         "name": "RamsRams",
         "orientation": "v",
         "showlegend": true,
         "type": "scatter",
         "x": [
          312
         ],
         "xaxis": "x",
         "y": [
          3
         ],
         "yaxis": "y"
        }
       ],
       "layout": {
        "legend": {
         "itemsizing": "constant",
         "title": {
          "text": "Team"
         },
         "tracegroupgap": 0
        },
        "margin": {
         "t": 60
        },
        "template": {
         "data": {
          "bar": [
           {
            "error_x": {
             "color": "#2a3f5f"
            },
            "error_y": {
             "color": "#2a3f5f"
            },
            "marker": {
             "line": {
              "color": "#E5ECF6",
              "width": 0.5
             },
             "pattern": {
              "fillmode": "overlay",
              "size": 10,
              "solidity": 0.2
             }
            },
            "type": "bar"
           }
          ],
          "barpolar": [
           {
            "marker": {
             "line": {
              "color": "#E5ECF6",
              "width": 0.5
             },
             "pattern": {
              "fillmode": "overlay",
              "size": 10,
              "solidity": 0.2
             }
            },
            "type": "barpolar"
           }
          ],
          "carpet": [
           {
            "aaxis": {
             "endlinecolor": "#2a3f5f",
             "gridcolor": "white",
             "linecolor": "white",
             "minorgridcolor": "white",
             "startlinecolor": "#2a3f5f"
            },
            "baxis": {
             "endlinecolor": "#2a3f5f",
             "gridcolor": "white",
             "linecolor": "white",
             "minorgridcolor": "white",
             "startlinecolor": "#2a3f5f"
            },
            "type": "carpet"
           }
          ],
          "choropleth": [
           {
            "colorbar": {
             "outlinewidth": 0,
             "ticks": ""
            },
            "type": "choropleth"
           }
          ],
          "contour": [
           {
            "colorbar": {
             "outlinewidth": 0,
             "ticks": ""
            },
            "colorscale": [
             [
              0,
              "#0d0887"
             ],
             [
              0.1111111111111111,
              "#46039f"
             ],
             [
              0.2222222222222222,
              "#7201a8"
             ],
             [
              0.3333333333333333,
              "#9c179e"
             ],
             [
              0.4444444444444444,
              "#bd3786"
             ],
             [
              0.5555555555555556,
              "#d8576b"
             ],
             [
              0.6666666666666666,
              "#ed7953"
             ],
             [
              0.7777777777777778,
              "#fb9f3a"
             ],
             [
              0.8888888888888888,
              "#fdca26"
             ],
             [
              1,
              "#f0f921"
             ]
            ],
            "type": "contour"
           }
          ],
          "contourcarpet": [
           {
            "colorbar": {
             "outlinewidth": 0,
             "ticks": ""
            },
            "type": "contourcarpet"
           }
          ],
          "heatmap": [
           {
            "colorbar": {
             "outlinewidth": 0,
             "ticks": ""
            },
            "colorscale": [
             [
              0,
              "#0d0887"
             ],
             [
              0.1111111111111111,
              "#46039f"
             ],
             [
              0.2222222222222222,
              "#7201a8"
             ],
             [
              0.3333333333333333,
              "#9c179e"
             ],
             [
              0.4444444444444444,
              "#bd3786"
             ],
             [
              0.5555555555555556,
              "#d8576b"
             ],
             [
              0.6666666666666666,
              "#ed7953"
             ],
             [
              0.7777777777777778,
              "#fb9f3a"
             ],
             [
              0.8888888888888888,
              "#fdca26"
             ],
             [
              1,
              "#f0f921"
             ]
            ],
            "type": "heatmap"
           }
          ],
          "heatmapgl": [
           {
            "colorbar": {
             "outlinewidth": 0,
             "ticks": ""
            },
            "colorscale": [
             [
              0,
              "#0d0887"
             ],
             [
              0.1111111111111111,
              "#46039f"
             ],
             [
              0.2222222222222222,
              "#7201a8"
             ],
             [
              0.3333333333333333,
              "#9c179e"
             ],
             [
              0.4444444444444444,
              "#bd3786"
             ],
             [
              0.5555555555555556,
              "#d8576b"
             ],
             [
              0.6666666666666666,
              "#ed7953"
             ],
             [
              0.7777777777777778,
              "#fb9f3a"
             ],
             [
              0.8888888888888888,
              "#fdca26"
             ],
             [
              1,
              "#f0f921"
             ]
            ],
            "type": "heatmapgl"
           }
          ],
          "histogram": [
           {
            "marker": {
             "pattern": {
              "fillmode": "overlay",
              "size": 10,
              "solidity": 0.2
             }
            },
            "type": "histogram"
           }
          ],
          "histogram2d": [
           {
            "colorbar": {
             "outlinewidth": 0,
             "ticks": ""
            },
            "colorscale": [
             [
              0,
              "#0d0887"
             ],
             [
              0.1111111111111111,
              "#46039f"
             ],
             [
              0.2222222222222222,
              "#7201a8"
             ],
             [
              0.3333333333333333,
              "#9c179e"
             ],
             [
              0.4444444444444444,
              "#bd3786"
             ],
             [
              0.5555555555555556,
              "#d8576b"
             ],
             [
              0.6666666666666666,
              "#ed7953"
             ],
             [
              0.7777777777777778,
              "#fb9f3a"
             ],
             [
              0.8888888888888888,
              "#fdca26"
             ],
             [
              1,
              "#f0f921"
             ]
            ],
            "type": "histogram2d"
           }
          ],
          "histogram2dcontour": [
           {
            "colorbar": {
             "outlinewidth": 0,
             "ticks": ""
            },
            "colorscale": [
             [
              0,
              "#0d0887"
             ],
             [
              0.1111111111111111,
              "#46039f"
             ],
             [
              0.2222222222222222,
              "#7201a8"
             ],
             [
              0.3333333333333333,
              "#9c179e"
             ],
             [
              0.4444444444444444,
              "#bd3786"
             ],
             [
              0.5555555555555556,
              "#d8576b"
             ],
             [
              0.6666666666666666,
              "#ed7953"
             ],
             [
              0.7777777777777778,
              "#fb9f3a"
             ],
             [
              0.8888888888888888,
              "#fdca26"
             ],
             [
              1,
              "#f0f921"
             ]
            ],
            "type": "histogram2dcontour"
           }
          ],
          "mesh3d": [
           {
            "colorbar": {
             "outlinewidth": 0,
             "ticks": ""
            },
            "type": "mesh3d"
           }
          ],
          "parcoords": [
           {
            "line": {
             "colorbar": {
              "outlinewidth": 0,
              "ticks": ""
             }
            },
            "type": "parcoords"
           }
          ],
          "pie": [
           {
            "automargin": true,
            "type": "pie"
           }
          ],
          "scatter": [
           {
            "fillpattern": {
             "fillmode": "overlay",
             "size": 10,
             "solidity": 0.2
            },
            "type": "scatter"
           }
          ],
          "scatter3d": [
           {
            "line": {
             "colorbar": {
              "outlinewidth": 0,
              "ticks": ""
             }
            },
            "marker": {
             "colorbar": {
              "outlinewidth": 0,
              "ticks": ""
             }
            },
            "type": "scatter3d"
           }
          ],
          "scattercarpet": [
           {
            "marker": {
             "colorbar": {
              "outlinewidth": 0,
              "ticks": ""
             }
            },
            "type": "scattercarpet"
           }
          ],
          "scattergeo": [
           {
            "marker": {
             "colorbar": {
              "outlinewidth": 0,
              "ticks": ""
             }
            },
            "type": "scattergeo"
           }
          ],
          "scattergl": [
           {
            "marker": {
             "colorbar": {
              "outlinewidth": 0,
              "ticks": ""
             }
            },
            "type": "scattergl"
           }
          ],
          "scattermapbox": [
           {
            "marker": {
             "colorbar": {
              "outlinewidth": 0,
              "ticks": ""
             }
            },
            "type": "scattermapbox"
           }
          ],
          "scatterpolar": [
           {
            "marker": {
             "colorbar": {
              "outlinewidth": 0,
              "ticks": ""
             }
            },
            "type": "scatterpolar"
           }
          ],
          "scatterpolargl": [
           {
            "marker": {
             "colorbar": {
              "outlinewidth": 0,
              "ticks": ""
             }
            },
            "type": "scatterpolargl"
           }
          ],
          "scatterternary": [
           {
            "marker": {
             "colorbar": {
              "outlinewidth": 0,
              "ticks": ""
             }
            },
            "type": "scatterternary"
           }
          ],
          "surface": [
           {
            "colorbar": {
             "outlinewidth": 0,
             "ticks": ""
            },
            "colorscale": [
             [
              0,
              "#0d0887"
             ],
             [
              0.1111111111111111,
              "#46039f"
             ],
             [
              0.2222222222222222,
              "#7201a8"
             ],
             [
              0.3333333333333333,
              "#9c179e"
             ],
             [
              0.4444444444444444,
              "#bd3786"
             ],
             [
              0.5555555555555556,
              "#d8576b"
             ],
             [
              0.6666666666666666,
              "#ed7953"
             ],
             [
              0.7777777777777778,
              "#fb9f3a"
             ],
             [
              0.8888888888888888,
              "#fdca26"
             ],
             [
              1,
              "#f0f921"
             ]
            ],
            "type": "surface"
           }
          ],
          "table": [
           {
            "cells": {
             "fill": {
              "color": "#EBF0F8"
             },
             "line": {
              "color": "white"
             }
            },
            "header": {
             "fill": {
              "color": "#C8D4E3"
             },
             "line": {
              "color": "white"
             }
            },
            "type": "table"
           }
          ]
         },
         "layout": {
          "annotationdefaults": {
           "arrowcolor": "#2a3f5f",
           "arrowhead": 0,
           "arrowwidth": 1
          },
          "autotypenumbers": "strict",
          "coloraxis": {
           "colorbar": {
            "outlinewidth": 0,
            "ticks": ""
           }
          },
          "colorscale": {
           "diverging": [
            [
             0,
             "#8e0152"
            ],
            [
             0.1,
             "#c51b7d"
            ],
            [
             0.2,
             "#de77ae"
            ],
            [
             0.3,
             "#f1b6da"
            ],
            [
             0.4,
             "#fde0ef"
            ],
            [
             0.5,
             "#f7f7f7"
            ],
            [
             0.6,
             "#e6f5d0"
            ],
            [
             0.7,
             "#b8e186"
            ],
            [
             0.8,
             "#7fbc41"
            ],
            [
             0.9,
             "#4d9221"
            ],
            [
             1,
             "#276419"
            ]
           ],
           "sequential": [
            [
             0,
             "#0d0887"
            ],
            [
             0.1111111111111111,
             "#46039f"
            ],
            [
             0.2222222222222222,
             "#7201a8"
            ],
            [
             0.3333333333333333,
             "#9c179e"
            ],
            [
             0.4444444444444444,
             "#bd3786"
            ],
            [
             0.5555555555555556,
             "#d8576b"
            ],
            [
             0.6666666666666666,
             "#ed7953"
            ],
            [
             0.7777777777777778,
             "#fb9f3a"
            ],
            [
             0.8888888888888888,
             "#fdca26"
            ],
            [
             1,
             "#f0f921"
            ]
           ],
           "sequentialminus": [
            [
             0,
             "#0d0887"
            ],
            [
             0.1111111111111111,
             "#46039f"
            ],
            [
             0.2222222222222222,
             "#7201a8"
            ],
            [
             0.3333333333333333,
             "#9c179e"
            ],
            [
             0.4444444444444444,
             "#bd3786"
            ],
            [
             0.5555555555555556,
             "#d8576b"
            ],
            [
             0.6666666666666666,
             "#ed7953"
            ],
            [
             0.7777777777777778,
             "#fb9f3a"
            ],
            [
             0.8888888888888888,
             "#fdca26"
            ],
            [
             1,
             "#f0f921"
            ]
           ]
          },
          "colorway": [
           "#636efa",
           "#EF553B",
           "#00cc96",
           "#ab63fa",
           "#FFA15A",
           "#19d3f3",
           "#FF6692",
           "#B6E880",
           "#FF97FF",
           "#FECB52"
          ],
          "font": {
           "color": "#2a3f5f"
          },
          "geo": {
           "bgcolor": "white",
           "lakecolor": "white",
           "landcolor": "#E5ECF6",
           "showlakes": true,
           "showland": true,
           "subunitcolor": "white"
          },
          "hoverlabel": {
           "align": "left"
          },
          "hovermode": "closest",
          "mapbox": {
           "style": "light"
          },
          "paper_bgcolor": "white",
          "plot_bgcolor": "#E5ECF6",
          "polar": {
           "angularaxis": {
            "gridcolor": "white",
            "linecolor": "white",
            "ticks": ""
           },
           "bgcolor": "#E5ECF6",
           "radialaxis": {
            "gridcolor": "white",
            "linecolor": "white",
            "ticks": ""
           }
          },
          "scene": {
           "xaxis": {
            "backgroundcolor": "#E5ECF6",
            "gridcolor": "white",
            "gridwidth": 2,
            "linecolor": "white",
            "showbackground": true,
            "ticks": "",
            "zerolinecolor": "white"
           },
           "yaxis": {
            "backgroundcolor": "#E5ECF6",
            "gridcolor": "white",
            "gridwidth": 2,
            "linecolor": "white",
            "showbackground": true,
            "ticks": "",
            "zerolinecolor": "white"
           },
           "zaxis": {
            "backgroundcolor": "#E5ECF6",
            "gridcolor": "white",
            "gridwidth": 2,
            "linecolor": "white",
            "showbackground": true,
            "ticks": "",
            "zerolinecolor": "white"
           }
          },
          "shapedefaults": {
           "line": {
            "color": "#2a3f5f"
           }
          },
          "ternary": {
           "aaxis": {
            "gridcolor": "white",
            "linecolor": "white",
            "ticks": ""
           },
           "baxis": {
            "gridcolor": "white",
            "linecolor": "white",
            "ticks": ""
           },
           "bgcolor": "#E5ECF6",
           "caxis": {
            "gridcolor": "white",
            "linecolor": "white",
            "ticks": ""
           }
          },
          "title": {
           "x": 0.05
          },
          "xaxis": {
           "automargin": true,
           "gridcolor": "white",
           "linecolor": "white",
           "ticks": "",
           "title": {
            "standoff": 15
           },
           "zerolinecolor": "white",
           "zerolinewidth": 2
          },
          "yaxis": {
           "automargin": true,
           "gridcolor": "white",
           "linecolor": "white",
           "ticks": "",
           "title": {
            "standoff": 15
           },
           "zerolinecolor": "white",
           "zerolinewidth": 2
          }
         }
        },
        "xaxis": {
         "anchor": "y",
         "domain": [
          0,
          1
         ],
         "title": {
          "text": "Rush Yds"
         }
        },
        "yaxis": {
         "anchor": "x",
         "domain": [
          0,
          1
         ],
         "title": {
          "text": "TD"
         }
        }
       }
      }
     },
     "metadata": {},
     "output_type": "display_data"
    }
   ],
   "source": [
    "px.scatter(rushing_df, x='Rush Yds', y='TD', color='Team', size='Att', hover_name='Team', size_max=60)"
   ]
  },
  {
   "cell_type": "code",
   "execution_count": 31,
   "metadata": {},
   "outputs": [
    {
     "data": {
      "application/vnd.plotly.v1+json": {
       "config": {
        "plotlyServerURL": "https://plot.ly"
       },
       "data": [
        {
         "hovertemplate": "<b>%{hovertext}</b><br><br>Team=EaglesEagles<br>Rec TD=%{x}<br>Rsh TD=%{y}<br>Tot TD=%{marker.size}<extra></extra>",
         "hovertext": [
          "EaglesEagles"
         ],
         "legendgroup": "EaglesEagles",
         "marker": {
          "color": "#636efa",
          "size": [
           17
          ],
          "sizemode": "area",
          "sizeref": 0.005555555555555556,
          "symbol": "circle"
         },
         "mode": "markers",
         "name": "EaglesEagles",
         "orientation": "v",
         "showlegend": true,
         "type": "scatter",
         "x": [
          4
         ],
         "xaxis": "x",
         "y": [
          12
         ],
         "yaxis": "y"
        },
        {
         "hovertemplate": "<b>%{hovertext}</b><br><br>Team=BrownsBrowns<br>Rec TD=%{x}<br>Rsh TD=%{y}<br>Tot TD=%{marker.size}<extra></extra>",
         "hovertext": [
          "BrownsBrowns"
         ],
         "legendgroup": "BrownsBrowns",
         "marker": {
          "color": "#EF553B",
          "size": [
           15
          ],
          "sizemode": "area",
          "sizeref": 0.005555555555555556,
          "symbol": "circle"
         },
         "mode": "markers",
         "name": "BrownsBrowns",
         "orientation": "v",
         "showlegend": true,
         "type": "scatter",
         "x": [
          5
         ],
         "xaxis": "x",
         "y": [
          10
         ],
         "yaxis": "y"
        },
        {
         "hovertemplate": "<b>%{hovertext}</b><br><br>Team=FalconsFalcons<br>Rec TD=%{x}<br>Rsh TD=%{y}<br>Tot TD=%{marker.size}<extra></extra>",
         "hovertext": [
          "FalconsFalcons"
         ],
         "legendgroup": "FalconsFalcons",
         "marker": {
          "color": "#00cc96",
          "size": [
           12
          ],
          "sizemode": "area",
          "sizeref": 0.005555555555555556,
          "symbol": "circle"
         },
         "mode": "markers",
         "name": "FalconsFalcons",
         "orientation": "v",
         "showlegend": true,
         "type": "scatter",
         "x": [
          4
         ],
         "xaxis": "x",
         "y": [
          7
         ],
         "yaxis": "y"
        },
        {
         "hovertemplate": "<b>%{hovertext}</b><br><br>Team=LionsLions<br>Rec TD=%{x}<br>Rsh TD=%{y}<br>Tot TD=%{marker.size}<extra></extra>",
         "hovertext": [
          "LionsLions"
         ],
         "legendgroup": "LionsLions",
         "marker": {
          "color": "#ab63fa",
          "size": [
           18
          ],
          "sizemode": "area",
          "sizeref": 0.005555555555555556,
          "symbol": "circle"
         },
         "mode": "markers",
         "name": "LionsLions",
         "orientation": "v",
         "showlegend": true,
         "type": "scatter",
         "x": [
          11
         ],
         "xaxis": "x",
         "y": [
          7
         ],
         "yaxis": "y"
        },
        {
         "hovertemplate": "<b>%{hovertext}</b><br><br>Team=SaintsSaints<br>Rec TD=%{x}<br>Rsh TD=%{y}<br>Tot TD=%{marker.size}<extra></extra>",
         "hovertext": [
          "SaintsSaints"
         ],
         "legendgroup": "SaintsSaints",
         "marker": {
          "color": "#FFA15A",
          "size": [
           14
          ],
          "sizemode": "area",
          "sizeref": 0.005555555555555556,
          "symbol": "circle"
         },
         "mode": "markers",
         "name": "SaintsSaints",
         "orientation": "v",
         "showlegend": true,
         "type": "scatter",
         "x": [
          7
         ],
         "xaxis": "x",
         "y": [
          7
         ],
         "yaxis": "y"
        },
        {
         "hovertemplate": "<b>%{hovertext}</b><br><br>Team=GiantsGiants<br>Rec TD=%{x}<br>Rsh TD=%{y}<br>Tot TD=%{marker.size}<extra></extra>",
         "hovertext": [
          "GiantsGiants"
         ],
         "legendgroup": "GiantsGiants",
         "marker": {
          "color": "#19d3f3",
          "size": [
           10
          ],
          "sizemode": "area",
          "sizeref": 0.005555555555555556,
          "symbol": "circle"
         },
         "mode": "markers",
         "name": "GiantsGiants",
         "orientation": "v",
         "showlegend": true,
         "type": "scatter",
         "x": [
          3
         ],
         "xaxis": "x",
         "y": [
          7
         ],
         "yaxis": "y"
        },
        {
         "hovertemplate": "<b>%{hovertext}</b><br><br>Team=TitansTitans<br>Rec TD=%{x}<br>Rsh TD=%{y}<br>Tot TD=%{marker.size}<extra></extra>",
         "hovertext": [
          "TitansTitans"
         ],
         "legendgroup": "TitansTitans",
         "marker": {
          "color": "#FF6692",
          "size": [
           12
          ],
          "sizemode": "area",
          "sizeref": 0.005555555555555556,
          "symbol": "circle"
         },
         "mode": "markers",
         "name": "TitansTitans",
         "orientation": "v",
         "showlegend": true,
         "type": "scatter",
         "x": [
          6
         ],
         "xaxis": "x",
         "y": [
          6
         ],
         "yaxis": "y"
        },
        {
         "hovertemplate": "<b>%{hovertext}</b><br><br>Team=VikingsVikings<br>Rec TD=%{x}<br>Rsh TD=%{y}<br>Tot TD=%{marker.size}<extra></extra>",
         "hovertext": [
          "VikingsVikings"
         ],
         "legendgroup": "VikingsVikings",
         "marker": {
          "color": "#B6E880",
          "size": [
           13
          ],
          "sizemode": "area",
          "sizeref": 0.005555555555555556,
          "symbol": "circle"
         },
         "mode": "markers",
         "name": "VikingsVikings",
         "orientation": "v",
         "showlegend": true,
         "type": "scatter",
         "x": [
          7
         ],
         "xaxis": "x",
         "y": [
          6
         ],
         "yaxis": "y"
        },
        {
         "hovertemplate": "<b>%{hovertext}</b><br><br>Team=JetsJets<br>Rec TD=%{x}<br>Rsh TD=%{y}<br>Tot TD=%{marker.size}<extra></extra>",
         "hovertext": [
          "JetsJets"
         ],
         "legendgroup": "JetsJets",
         "marker": {
          "color": "#FF97FF",
          "size": [
           13
          ],
          "sizemode": "area",
          "sizeref": 0.005555555555555556,
          "symbol": "circle"
         },
         "mode": "markers",
         "name": "JetsJets",
         "orientation": "v",
         "showlegend": true,
         "type": "scatter",
         "x": [
          7
         ],
         "xaxis": "x",
         "y": [
          6
         ],
         "yaxis": "y"
        },
        {
         "hovertemplate": "<b>%{hovertext}</b><br><br>Team=49ers49ers<br>Rec TD=%{x}<br>Rsh TD=%{y}<br>Tot TD=%{marker.size}<extra></extra>",
         "hovertext": [
          "49ers49ers"
         ],
         "legendgroup": "49ers49ers",
         "marker": {
          "color": "#FECB52",
          "size": [
           13
          ],
          "sizemode": "area",
          "sizeref": 0.005555555555555556,
          "symbol": "circle"
         },
         "mode": "markers",
         "name": "49ers49ers",
         "orientation": "v",
         "showlegend": true,
         "type": "scatter",
         "x": [
          5
         ],
         "xaxis": "x",
         "y": [
          6
         ],
         "yaxis": "y"
        },
        {
         "hovertemplate": "<b>%{hovertext}</b><br><br>Team=BearsBears<br>Rec TD=%{x}<br>Rsh TD=%{y}<br>Tot TD=%{marker.size}<extra></extra>",
         "hovertext": [
          "BearsBears"
         ],
         "legendgroup": "BearsBears",
         "marker": {
          "color": "#636efa",
          "size": [
           9
          ],
          "sizemode": "area",
          "sizeref": 0.005555555555555556,
          "symbol": "circle"
         },
         "mode": "markers",
         "name": "BearsBears",
         "orientation": "v",
         "showlegend": true,
         "type": "scatter",
         "x": [
          4
         ],
         "xaxis": "x",
         "y": [
          5
         ],
         "yaxis": "y"
        },
        {
         "hovertemplate": "<b>%{hovertext}</b><br><br>Team=PatriotsPatriots<br>Rec TD=%{x}<br>Rsh TD=%{y}<br>Tot TD=%{marker.size}<extra></extra>",
         "hovertext": [
          "PatriotsPatriots"
         ],
         "legendgroup": "PatriotsPatriots",
         "marker": {
          "color": "#EF553B",
          "size": [
           10
          ],
          "sizemode": "area",
          "sizeref": 0.005555555555555556,
          "symbol": "circle"
         },
         "mode": "markers",
         "name": "PatriotsPatriots",
         "orientation": "v",
         "showlegend": true,
         "type": "scatter",
         "x": [
          4
         ],
         "xaxis": "x",
         "y": [
          5
         ],
         "yaxis": "y"
        },
        {
         "hovertemplate": "<b>%{hovertext}</b><br><br>Team=CardinalsCardinals<br>Rec TD=%{x}<br>Rsh TD=%{y}<br>Tot TD=%{marker.size}<extra></extra>",
         "hovertext": [
          "CardinalsCardinals"
         ],
         "legendgroup": "CardinalsCardinals",
         "marker": {
          "color": "#00cc96",
          "size": [
           11
          ],
          "sizemode": "area",
          "sizeref": 0.005555555555555556,
          "symbol": "circle"
         },
         "mode": "markers",
         "name": "CardinalsCardinals",
         "orientation": "v",
         "showlegend": true,
         "type": "scatter",
         "x": [
          6
         ],
         "xaxis": "x",
         "y": [
          5
         ],
         "yaxis": "y"
        },
        {
         "hovertemplate": "<b>%{hovertext}</b><br><br>Team=ChiefsChiefs<br>Rec TD=%{x}<br>Rsh TD=%{y}<br>Tot TD=%{marker.size}<extra></extra>",
         "hovertext": [
          "ChiefsChiefs"
         ],
         "legendgroup": "ChiefsChiefs",
         "marker": {
          "color": "#ab63fa",
          "size": [
           20
          ],
          "sizemode": "area",
          "sizeref": 0.005555555555555556,
          "symbol": "circle"
         },
         "mode": "markers",
         "name": "ChiefsChiefs",
         "orientation": "v",
         "showlegend": true,
         "type": "scatter",
         "x": [
          15
         ],
         "xaxis": "x",
         "y": [
          4
         ],
         "yaxis": "y"
        },
        {
         "hovertemplate": "<b>%{hovertext}</b><br><br>Team=DolphinsDolphins<br>Rec TD=%{x}<br>Rsh TD=%{y}<br>Tot TD=%{marker.size}<extra></extra>",
         "hovertext": [
          "DolphinsDolphins"
         ],
         "legendgroup": "DolphinsDolphins",
         "marker": {
          "color": "#FFA15A",
          "size": [
           13
          ],
          "sizemode": "area",
          "sizeref": 0.005555555555555556,
          "symbol": "circle"
         },
         "mode": "markers",
         "name": "DolphinsDolphins",
         "orientation": "v",
         "showlegend": true,
         "type": "scatter",
         "x": [
          9
         ],
         "xaxis": "x",
         "y": [
          4
         ],
         "yaxis": "y"
        },
        {
         "hovertemplate": "<b>%{hovertext}</b><br><br>Team=SteelersSteelers<br>Rec TD=%{x}<br>Rsh TD=%{y}<br>Tot TD=%{marker.size}<extra></extra>",
         "hovertext": [
          "SteelersSteelers"
         ],
         "legendgroup": "SteelersSteelers",
         "marker": {
          "color": "#19d3f3",
          "size": [
           7
          ],
          "sizemode": "area",
          "sizeref": 0.005555555555555556,
          "symbol": "circle"
         },
         "mode": "markers",
         "name": "SteelersSteelers",
         "orientation": "v",
         "showlegend": true,
         "type": "scatter",
         "x": [
          2
         ],
         "xaxis": "x",
         "y": [
          4
         ],
         "yaxis": "y"
        },
        {
         "hovertemplate": "<b>%{hovertext}</b><br><br>Team=ChargersChargers<br>Rec TD=%{x}<br>Rsh TD=%{y}<br>Tot TD=%{marker.size}<extra></extra>",
         "hovertext": [
          "ChargersChargers"
         ],
         "legendgroup": "ChargersChargers",
         "marker": {
          "color": "#FF6692",
          "size": [
           14
          ],
          "sizemode": "area",
          "sizeref": 0.005555555555555556,
          "symbol": "circle"
         },
         "mode": "markers",
         "name": "ChargersChargers",
         "orientation": "v",
         "showlegend": true,
         "type": "scatter",
         "x": [
          10
         ],
         "xaxis": "x",
         "y": [
          4
         ],
         "yaxis": "y"
        },
        {
         "hovertemplate": "<b>%{hovertext}</b><br><br>Team=SeahawksSeahawks<br>Rec TD=%{x}<br>Rsh TD=%{y}<br>Tot TD=%{marker.size}<extra></extra>",
         "hovertext": [
          "SeahawksSeahawks"
         ],
         "legendgroup": "SeahawksSeahawks",
         "marker": {
          "color": "#B6E880",
          "size": [
           15
          ],
          "sizemode": "area",
          "sizeref": 0.005555555555555556,
          "symbol": "circle"
         },
         "mode": "markers",
         "name": "SeahawksSeahawks",
         "orientation": "v",
         "showlegend": true,
         "type": "scatter",
         "x": [
          9
         ],
         "xaxis": "x",
         "y": [
          4
         ],
         "yaxis": "y"
        },
        {
         "hovertemplate": "<b>%{hovertext}</b><br><br>Team=RavensRavens<br>Rec TD=%{x}<br>Rsh TD=%{y}<br>Tot TD=%{marker.size}<extra></extra>",
         "hovertext": [
          "RavensRavens"
         ],
         "legendgroup": "RavensRavens",
         "marker": {
          "color": "#FF97FF",
          "size": [
           16
          ],
          "sizemode": "area",
          "sizeref": 0.005555555555555556,
          "symbol": "circle"
         },
         "mode": "markers",
         "name": "RavensRavens",
         "orientation": "v",
         "showlegend": true,
         "type": "scatter",
         "x": [
          12
         ],
         "xaxis": "x",
         "y": [
          3
         ],
         "yaxis": "y"
        },
        {
         "hovertemplate": "<b>%{hovertext}</b><br><br>Team=BillsBills<br>Rec TD=%{x}<br>Rsh TD=%{y}<br>Tot TD=%{marker.size}<extra></extra>",
         "hovertext": [
          "BillsBills"
         ],
         "legendgroup": "BillsBills",
         "marker": {
          "color": "#FECB52",
          "size": [
           18
          ],
          "sizemode": "area",
          "sizeref": 0.005555555555555556,
          "symbol": "circle"
         },
         "mode": "markers",
         "name": "BillsBills",
         "orientation": "v",
         "showlegend": true,
         "type": "scatter",
         "x": [
          14
         ],
         "xaxis": "x",
         "y": [
          3
         ],
         "yaxis": "y"
        },
        {
         "hovertemplate": "<b>%{hovertext}</b><br><br>Team=PanthersPanthers<br>Rec TD=%{x}<br>Rsh TD=%{y}<br>Tot TD=%{marker.size}<extra></extra>",
         "hovertext": [
          "PanthersPanthers"
         ],
         "legendgroup": "PanthersPanthers",
         "marker": {
          "color": "#636efa",
          "size": [
           8
          ],
          "sizemode": "area",
          "sizeref": 0.005555555555555556,
          "symbol": "circle"
         },
         "mode": "markers",
         "name": "PanthersPanthers",
         "orientation": "v",
         "showlegend": true,
         "type": "scatter",
         "x": [
          4
         ],
         "xaxis": "x",
         "y": [
          3
         ],
         "yaxis": "y"
        },
        {
         "hovertemplate": "<b>%{hovertext}</b><br><br>Team=CowboysCowboys<br>Rec TD=%{x}<br>Rsh TD=%{y}<br>Tot TD=%{marker.size}<extra></extra>",
         "hovertext": [
          "CowboysCowboys"
         ],
         "legendgroup": "CowboysCowboys",
         "marker": {
          "color": "#EF553B",
          "size": [
           7
          ],
          "sizemode": "area",
          "sizeref": 0.005555555555555556,
          "symbol": "circle"
         },
         "mode": "markers",
         "name": "CowboysCowboys",
         "orientation": "v",
         "showlegend": true,
         "type": "scatter",
         "x": [
          4
         ],
         "xaxis": "x",
         "y": [
          3
         ],
         "yaxis": "y"
        },
        {
         "hovertemplate": "<b>%{hovertext}</b><br><br>Team=PackersPackers<br>Rec TD=%{x}<br>Rsh TD=%{y}<br>Tot TD=%{marker.size}<extra></extra>",
         "hovertext": [
          "PackersPackers"
         ],
         "legendgroup": "PackersPackers",
         "marker": {
          "color": "#00cc96",
          "size": [
           11
          ],
          "sizemode": "area",
          "sizeref": 0.005555555555555556,
          "symbol": "circle"
         },
         "mode": "markers",
         "name": "PackersPackers",
         "orientation": "v",
         "showlegend": true,
         "type": "scatter",
         "x": [
          8
         ],
         "xaxis": "x",
         "y": [
          3
         ],
         "yaxis": "y"
        },
        {
         "hovertemplate": "<b>%{hovertext}</b><br><br>Team=TexansTexans<br>Rec TD=%{x}<br>Rsh TD=%{y}<br>Tot TD=%{marker.size}<extra></extra>",
         "hovertext": [
          "TexansTexans"
         ],
         "legendgroup": "TexansTexans",
         "marker": {
          "color": "#ab63fa",
          "size": [
           8
          ],
          "sizemode": "area",
          "sizeref": 0.005555555555555556,
          "symbol": "circle"
         },
         "mode": "markers",
         "name": "TexansTexans",
         "orientation": "v",
         "showlegend": true,
         "type": "scatter",
         "x": [
          5
         ],
         "xaxis": "x",
         "y": [
          3
         ],
         "yaxis": "y"
        },
        {
         "hovertemplate": "<b>%{hovertext}</b><br><br>Team=JaguarsJaguars<br>Rec TD=%{x}<br>Rsh TD=%{y}<br>Tot TD=%{marker.size}<extra></extra>",
         "hovertext": [
          "JaguarsJaguars"
         ],
         "legendgroup": "JaguarsJaguars",
         "marker": {
          "color": "#FFA15A",
          "size": [
           12
          ],
          "sizemode": "area",
          "sizeref": 0.005555555555555556,
          "symbol": "circle"
         },
         "mode": "markers",
         "name": "JaguarsJaguars",
         "orientation": "v",
         "showlegend": true,
         "type": "scatter",
         "x": [
          8
         ],
         "xaxis": "x",
         "y": [
          3
         ],
         "yaxis": "y"
        },
        {
         "hovertemplate": "<b>%{hovertext}</b><br><br>Team=RamsRams<br>Rec TD=%{x}<br>Rsh TD=%{y}<br>Tot TD=%{marker.size}<extra></extra>",
         "hovertext": [
          "RamsRams"
         ],
         "legendgroup": "RamsRams",
         "marker": {
          "color": "#19d3f3",
          "size": [
           8
          ],
          "sizemode": "area",
          "sizeref": 0.005555555555555556,
          "symbol": "circle"
         },
         "mode": "markers",
         "name": "RamsRams",
         "orientation": "v",
         "showlegend": true,
         "type": "scatter",
         "x": [
          5
         ],
         "xaxis": "x",
         "y": [
          3
         ],
         "yaxis": "y"
        },
        {
         "hovertemplate": "<b>%{hovertext}</b><br><br>Team=RaidersRaiders<br>Rec TD=%{x}<br>Rsh TD=%{y}<br>Tot TD=%{marker.size}<extra></extra>",
         "hovertext": [
          "RaidersRaiders"
         ],
         "legendgroup": "RaidersRaiders",
         "marker": {
          "color": "#FF6692",
          "size": [
           11
          ],
          "sizemode": "area",
          "sizeref": 0.005555555555555556,
          "symbol": "circle"
         },
         "mode": "markers",
         "name": "RaidersRaiders",
         "orientation": "v",
         "showlegend": true,
         "type": "scatter",
         "x": [
          8
         ],
         "xaxis": "x",
         "y": [
          3
         ],
         "yaxis": "y"
        },
        {
         "hovertemplate": "<b>%{hovertext}</b><br><br>Team=CommandersCommanders<br>Rec TD=%{x}<br>Rsh TD=%{y}<br>Tot TD=%{marker.size}<extra></extra>",
         "hovertext": [
          "CommandersCommanders"
         ],
         "legendgroup": "CommandersCommanders",
         "marker": {
          "color": "#B6E880",
          "size": [
           13
          ],
          "sizemode": "area",
          "sizeref": 0.005555555555555556,
          "symbol": "circle"
         },
         "mode": "markers",
         "name": "CommandersCommanders",
         "orientation": "v",
         "showlegend": true,
         "type": "scatter",
         "x": [
          10
         ],
         "xaxis": "x",
         "y": [
          3
         ],
         "yaxis": "y"
        },
        {
         "hovertemplate": "<b>%{hovertext}</b><br><br>Team=BengalsBengals<br>Rec TD=%{x}<br>Rsh TD=%{y}<br>Tot TD=%{marker.size}<extra></extra>",
         "hovertext": [
          "BengalsBengals"
         ],
         "legendgroup": "BengalsBengals",
         "marker": {
          "color": "#FF97FF",
          "size": [
           11
          ],
          "sizemode": "area",
          "sizeref": 0.005555555555555556,
          "symbol": "circle"
         },
         "mode": "markers",
         "name": "BengalsBengals",
         "orientation": "v",
         "showlegend": true,
         "type": "scatter",
         "x": [
          9
         ],
         "xaxis": "x",
         "y": [
          2
         ],
         "yaxis": "y"
        },
        {
         "hovertemplate": "<b>%{hovertext}</b><br><br>Team=BroncosBroncos<br>Rec TD=%{x}<br>Rsh TD=%{y}<br>Tot TD=%{marker.size}<extra></extra>",
         "hovertext": [
          "BroncosBroncos"
         ],
         "legendgroup": "BroncosBroncos",
         "marker": {
          "color": "#FECB52",
          "size": [
           6
          ],
          "sizemode": "area",
          "sizeref": 0.005555555555555556,
          "symbol": "circle"
         },
         "mode": "markers",
         "name": "BroncosBroncos",
         "orientation": "v",
         "showlegend": true,
         "type": "scatter",
         "x": [
          4
         ],
         "xaxis": "x",
         "y": [
          2
         ],
         "yaxis": "y"
        },
        {
         "hovertemplate": "<b>%{hovertext}</b><br><br>Team=BuccaneersBuccaneers<br>Rec TD=%{x}<br>Rsh TD=%{y}<br>Tot TD=%{marker.size}<extra></extra>",
         "hovertext": [
          "BuccaneersBuccaneers"
         ],
         "legendgroup": "BuccaneersBuccaneers",
         "marker": {
          "color": "#636efa",
          "size": [
           10
          ],
          "sizemode": "area",
          "sizeref": 0.005555555555555556,
          "symbol": "circle"
         },
         "mode": "markers",
         "name": "BuccaneersBuccaneers",
         "orientation": "v",
         "showlegend": true,
         "type": "scatter",
         "x": [
          7
         ],
         "xaxis": "x",
         "y": [
          2
         ],
         "yaxis": "y"
        },
        {
         "hovertemplate": "<b>%{hovertext}</b><br><br>Team=ColtsColts<br>Rec TD=%{x}<br>Rsh TD=%{y}<br>Tot TD=%{marker.size}<extra></extra>",
         "hovertext": [
          "ColtsColts"
         ],
         "legendgroup": "ColtsColts",
         "marker": {
          "color": "#EF553B",
          "size": [
           6
          ],
          "sizemode": "area",
          "sizeref": 0.005555555555555556,
          "symbol": "circle"
         },
         "mode": "markers",
         "name": "ColtsColts",
         "orientation": "v",
         "showlegend": true,
         "type": "scatter",
         "x": [
          5
         ],
         "xaxis": "x",
         "y": [
          1
         ],
         "yaxis": "y"
        }
       ],
       "layout": {
        "legend": {
         "itemsizing": "constant",
         "title": {
          "text": "Team"
         },
         "tracegroupgap": 0
        },
        "margin": {
         "t": 60
        },
        "template": {
         "data": {
          "bar": [
           {
            "error_x": {
             "color": "#2a3f5f"
            },
            "error_y": {
             "color": "#2a3f5f"
            },
            "marker": {
             "line": {
              "color": "#E5ECF6",
              "width": 0.5
             },
             "pattern": {
              "fillmode": "overlay",
              "size": 10,
              "solidity": 0.2
             }
            },
            "type": "bar"
           }
          ],
          "barpolar": [
           {
            "marker": {
             "line": {
              "color": "#E5ECF6",
              "width": 0.5
             },
             "pattern": {
              "fillmode": "overlay",
              "size": 10,
              "solidity": 0.2
             }
            },
            "type": "barpolar"
           }
          ],
          "carpet": [
           {
            "aaxis": {
             "endlinecolor": "#2a3f5f",
             "gridcolor": "white",
             "linecolor": "white",
             "minorgridcolor": "white",
             "startlinecolor": "#2a3f5f"
            },
            "baxis": {
             "endlinecolor": "#2a3f5f",
             "gridcolor": "white",
             "linecolor": "white",
             "minorgridcolor": "white",
             "startlinecolor": "#2a3f5f"
            },
            "type": "carpet"
           }
          ],
          "choropleth": [
           {
            "colorbar": {
             "outlinewidth": 0,
             "ticks": ""
            },
            "type": "choropleth"
           }
          ],
          "contour": [
           {
            "colorbar": {
             "outlinewidth": 0,
             "ticks": ""
            },
            "colorscale": [
             [
              0,
              "#0d0887"
             ],
             [
              0.1111111111111111,
              "#46039f"
             ],
             [
              0.2222222222222222,
              "#7201a8"
             ],
             [
              0.3333333333333333,
              "#9c179e"
             ],
             [
              0.4444444444444444,
              "#bd3786"
             ],
             [
              0.5555555555555556,
              "#d8576b"
             ],
             [
              0.6666666666666666,
              "#ed7953"
             ],
             [
              0.7777777777777778,
              "#fb9f3a"
             ],
             [
              0.8888888888888888,
              "#fdca26"
             ],
             [
              1,
              "#f0f921"
             ]
            ],
            "type": "contour"
           }
          ],
          "contourcarpet": [
           {
            "colorbar": {
             "outlinewidth": 0,
             "ticks": ""
            },
            "type": "contourcarpet"
           }
          ],
          "heatmap": [
           {
            "colorbar": {
             "outlinewidth": 0,
             "ticks": ""
            },
            "colorscale": [
             [
              0,
              "#0d0887"
             ],
             [
              0.1111111111111111,
              "#46039f"
             ],
             [
              0.2222222222222222,
              "#7201a8"
             ],
             [
              0.3333333333333333,
              "#9c179e"
             ],
             [
              0.4444444444444444,
              "#bd3786"
             ],
             [
              0.5555555555555556,
              "#d8576b"
             ],
             [
              0.6666666666666666,
              "#ed7953"
             ],
             [
              0.7777777777777778,
              "#fb9f3a"
             ],
             [
              0.8888888888888888,
              "#fdca26"
             ],
             [
              1,
              "#f0f921"
             ]
            ],
            "type": "heatmap"
           }
          ],
          "heatmapgl": [
           {
            "colorbar": {
             "outlinewidth": 0,
             "ticks": ""
            },
            "colorscale": [
             [
              0,
              "#0d0887"
             ],
             [
              0.1111111111111111,
              "#46039f"
             ],
             [
              0.2222222222222222,
              "#7201a8"
             ],
             [
              0.3333333333333333,
              "#9c179e"
             ],
             [
              0.4444444444444444,
              "#bd3786"
             ],
             [
              0.5555555555555556,
              "#d8576b"
             ],
             [
              0.6666666666666666,
              "#ed7953"
             ],
             [
              0.7777777777777778,
              "#fb9f3a"
             ],
             [
              0.8888888888888888,
              "#fdca26"
             ],
             [
              1,
              "#f0f921"
             ]
            ],
            "type": "heatmapgl"
           }
          ],
          "histogram": [
           {
            "marker": {
             "pattern": {
              "fillmode": "overlay",
              "size": 10,
              "solidity": 0.2
             }
            },
            "type": "histogram"
           }
          ],
          "histogram2d": [
           {
            "colorbar": {
             "outlinewidth": 0,
             "ticks": ""
            },
            "colorscale": [
             [
              0,
              "#0d0887"
             ],
             [
              0.1111111111111111,
              "#46039f"
             ],
             [
              0.2222222222222222,
              "#7201a8"
             ],
             [
              0.3333333333333333,
              "#9c179e"
             ],
             [
              0.4444444444444444,
              "#bd3786"
             ],
             [
              0.5555555555555556,
              "#d8576b"
             ],
             [
              0.6666666666666666,
              "#ed7953"
             ],
             [
              0.7777777777777778,
              "#fb9f3a"
             ],
             [
              0.8888888888888888,
              "#fdca26"
             ],
             [
              1,
              "#f0f921"
             ]
            ],
            "type": "histogram2d"
           }
          ],
          "histogram2dcontour": [
           {
            "colorbar": {
             "outlinewidth": 0,
             "ticks": ""
            },
            "colorscale": [
             [
              0,
              "#0d0887"
             ],
             [
              0.1111111111111111,
              "#46039f"
             ],
             [
              0.2222222222222222,
              "#7201a8"
             ],
             [
              0.3333333333333333,
              "#9c179e"
             ],
             [
              0.4444444444444444,
              "#bd3786"
             ],
             [
              0.5555555555555556,
              "#d8576b"
             ],
             [
              0.6666666666666666,
              "#ed7953"
             ],
             [
              0.7777777777777778,
              "#fb9f3a"
             ],
             [
              0.8888888888888888,
              "#fdca26"
             ],
             [
              1,
              "#f0f921"
             ]
            ],
            "type": "histogram2dcontour"
           }
          ],
          "mesh3d": [
           {
            "colorbar": {
             "outlinewidth": 0,
             "ticks": ""
            },
            "type": "mesh3d"
           }
          ],
          "parcoords": [
           {
            "line": {
             "colorbar": {
              "outlinewidth": 0,
              "ticks": ""
             }
            },
            "type": "parcoords"
           }
          ],
          "pie": [
           {
            "automargin": true,
            "type": "pie"
           }
          ],
          "scatter": [
           {
            "fillpattern": {
             "fillmode": "overlay",
             "size": 10,
             "solidity": 0.2
            },
            "type": "scatter"
           }
          ],
          "scatter3d": [
           {
            "line": {
             "colorbar": {
              "outlinewidth": 0,
              "ticks": ""
             }
            },
            "marker": {
             "colorbar": {
              "outlinewidth": 0,
              "ticks": ""
             }
            },
            "type": "scatter3d"
           }
          ],
          "scattercarpet": [
           {
            "marker": {
             "colorbar": {
              "outlinewidth": 0,
              "ticks": ""
             }
            },
            "type": "scattercarpet"
           }
          ],
          "scattergeo": [
           {
            "marker": {
             "colorbar": {
              "outlinewidth": 0,
              "ticks": ""
             }
            },
            "type": "scattergeo"
           }
          ],
          "scattergl": [
           {
            "marker": {
             "colorbar": {
              "outlinewidth": 0,
              "ticks": ""
             }
            },
            "type": "scattergl"
           }
          ],
          "scattermapbox": [
           {
            "marker": {
             "colorbar": {
              "outlinewidth": 0,
              "ticks": ""
             }
            },
            "type": "scattermapbox"
           }
          ],
          "scatterpolar": [
           {
            "marker": {
             "colorbar": {
              "outlinewidth": 0,
              "ticks": ""
             }
            },
            "type": "scatterpolar"
           }
          ],
          "scatterpolargl": [
           {
            "marker": {
             "colorbar": {
              "outlinewidth": 0,
              "ticks": ""
             }
            },
            "type": "scatterpolargl"
           }
          ],
          "scatterternary": [
           {
            "marker": {
             "colorbar": {
              "outlinewidth": 0,
              "ticks": ""
             }
            },
            "type": "scatterternary"
           }
          ],
          "surface": [
           {
            "colorbar": {
             "outlinewidth": 0,
             "ticks": ""
            },
            "colorscale": [
             [
              0,
              "#0d0887"
             ],
             [
              0.1111111111111111,
              "#46039f"
             ],
             [
              0.2222222222222222,
              "#7201a8"
             ],
             [
              0.3333333333333333,
              "#9c179e"
             ],
             [
              0.4444444444444444,
              "#bd3786"
             ],
             [
              0.5555555555555556,
              "#d8576b"
             ],
             [
              0.6666666666666666,
              "#ed7953"
             ],
             [
              0.7777777777777778,
              "#fb9f3a"
             ],
             [
              0.8888888888888888,
              "#fdca26"
             ],
             [
              1,
              "#f0f921"
             ]
            ],
            "type": "surface"
           }
          ],
          "table": [
           {
            "cells": {
             "fill": {
              "color": "#EBF0F8"
             },
             "line": {
              "color": "white"
             }
            },
            "header": {
             "fill": {
              "color": "#C8D4E3"
             },
             "line": {
              "color": "white"
             }
            },
            "type": "table"
           }
          ]
         },
         "layout": {
          "annotationdefaults": {
           "arrowcolor": "#2a3f5f",
           "arrowhead": 0,
           "arrowwidth": 1
          },
          "autotypenumbers": "strict",
          "coloraxis": {
           "colorbar": {
            "outlinewidth": 0,
            "ticks": ""
           }
          },
          "colorscale": {
           "diverging": [
            [
             0,
             "#8e0152"
            ],
            [
             0.1,
             "#c51b7d"
            ],
            [
             0.2,
             "#de77ae"
            ],
            [
             0.3,
             "#f1b6da"
            ],
            [
             0.4,
             "#fde0ef"
            ],
            [
             0.5,
             "#f7f7f7"
            ],
            [
             0.6,
             "#e6f5d0"
            ],
            [
             0.7,
             "#b8e186"
            ],
            [
             0.8,
             "#7fbc41"
            ],
            [
             0.9,
             "#4d9221"
            ],
            [
             1,
             "#276419"
            ]
           ],
           "sequential": [
            [
             0,
             "#0d0887"
            ],
            [
             0.1111111111111111,
             "#46039f"
            ],
            [
             0.2222222222222222,
             "#7201a8"
            ],
            [
             0.3333333333333333,
             "#9c179e"
            ],
            [
             0.4444444444444444,
             "#bd3786"
            ],
            [
             0.5555555555555556,
             "#d8576b"
            ],
            [
             0.6666666666666666,
             "#ed7953"
            ],
            [
             0.7777777777777778,
             "#fb9f3a"
            ],
            [
             0.8888888888888888,
             "#fdca26"
            ],
            [
             1,
             "#f0f921"
            ]
           ],
           "sequentialminus": [
            [
             0,
             "#0d0887"
            ],
            [
             0.1111111111111111,
             "#46039f"
            ],
            [
             0.2222222222222222,
             "#7201a8"
            ],
            [
             0.3333333333333333,
             "#9c179e"
            ],
            [
             0.4444444444444444,
             "#bd3786"
            ],
            [
             0.5555555555555556,
             "#d8576b"
            ],
            [
             0.6666666666666666,
             "#ed7953"
            ],
            [
             0.7777777777777778,
             "#fb9f3a"
            ],
            [
             0.8888888888888888,
             "#fdca26"
            ],
            [
             1,
             "#f0f921"
            ]
           ]
          },
          "colorway": [
           "#636efa",
           "#EF553B",
           "#00cc96",
           "#ab63fa",
           "#FFA15A",
           "#19d3f3",
           "#FF6692",
           "#B6E880",
           "#FF97FF",
           "#FECB52"
          ],
          "font": {
           "color": "#2a3f5f"
          },
          "geo": {
           "bgcolor": "white",
           "lakecolor": "white",
           "landcolor": "#E5ECF6",
           "showlakes": true,
           "showland": true,
           "subunitcolor": "white"
          },
          "hoverlabel": {
           "align": "left"
          },
          "hovermode": "closest",
          "mapbox": {
           "style": "light"
          },
          "paper_bgcolor": "white",
          "plot_bgcolor": "#E5ECF6",
          "polar": {
           "angularaxis": {
            "gridcolor": "white",
            "linecolor": "white",
            "ticks": ""
           },
           "bgcolor": "#E5ECF6",
           "radialaxis": {
            "gridcolor": "white",
            "linecolor": "white",
            "ticks": ""
           }
          },
          "scene": {
           "xaxis": {
            "backgroundcolor": "#E5ECF6",
            "gridcolor": "white",
            "gridwidth": 2,
            "linecolor": "white",
            "showbackground": true,
            "ticks": "",
            "zerolinecolor": "white"
           },
           "yaxis": {
            "backgroundcolor": "#E5ECF6",
            "gridcolor": "white",
            "gridwidth": 2,
            "linecolor": "white",
            "showbackground": true,
            "ticks": "",
            "zerolinecolor": "white"
           },
           "zaxis": {
            "backgroundcolor": "#E5ECF6",
            "gridcolor": "white",
            "gridwidth": 2,
            "linecolor": "white",
            "showbackground": true,
            "ticks": "",
            "zerolinecolor": "white"
           }
          },
          "shapedefaults": {
           "line": {
            "color": "#2a3f5f"
           }
          },
          "ternary": {
           "aaxis": {
            "gridcolor": "white",
            "linecolor": "white",
            "ticks": ""
           },
           "baxis": {
            "gridcolor": "white",
            "linecolor": "white",
            "ticks": ""
           },
           "bgcolor": "#E5ECF6",
           "caxis": {
            "gridcolor": "white",
            "linecolor": "white",
            "ticks": ""
           }
          },
          "title": {
           "x": 0.05
          },
          "xaxis": {
           "automargin": true,
           "gridcolor": "white",
           "linecolor": "white",
           "ticks": "",
           "title": {
            "standoff": 15
           },
           "zerolinecolor": "white",
           "zerolinewidth": 2
          },
          "yaxis": {
           "automargin": true,
           "gridcolor": "white",
           "linecolor": "white",
           "ticks": "",
           "title": {
            "standoff": 15
           },
           "zerolinecolor": "white",
           "zerolinewidth": 2
          }
         }
        },
        "xaxis": {
         "anchor": "y",
         "domain": [
          0,
          1
         ],
         "title": {
          "text": "Rec TD"
         }
        },
        "yaxis": {
         "anchor": "x",
         "domain": [
          0,
          1
         ],
         "title": {
          "text": "Rsh TD"
         }
        }
       }
      }
     },
     "metadata": {},
     "output_type": "display_data"
    }
   ],
   "source": [
    "px.scatter(scoring_df, x='Rec TD', y='Rsh TD', color='Team', size='Tot TD', hover_name='Team', size_max=60)"
   ]
  },
  {
   "cell_type": "code",
   "execution_count": 32,
   "metadata": {},
   "outputs": [
    {
     "data": {
      "application/vnd.plotly.v1+json": {
       "config": {
        "plotlyServerURL": "https://plot.ly"
       },
       "data": [
        {
         "branchvalues": "total",
         "customdata": [
          [
           138,
           5
          ],
          [
           115,
           4
          ],
          [
           192,
           9
          ],
          [
           206,
           14
          ],
          [
           170,
           4
          ],
          [
           161,
           5
          ],
          [
           207,
           7
          ],
          [
           219,
           6
          ],
          [
           200,
           10
          ],
          [
           190,
           15
          ],
          [
           195,
           5
          ],
          [
           232,
           10
          ],
          [
           147,
           4
          ],
          [
           174,
           9
          ],
          [
           159,
           4
          ],
          [
           123,
           4
          ],
          [
           135,
           3
          ],
          [
           181,
           8
          ],
          [
           214,
           7
          ],
          [
           187,
           11
          ],
          [
           173,
           8
          ],
          [
           159,
           4
          ],
          [
           139,
           4
          ],
          [
           185,
           8
          ],
          [
           194,
           5
          ],
          [
           149,
           12
          ],
          [
           168,
           7
          ],
          [
           158,
           9
          ],
          [
           181,
           2
          ],
          [
           166,
           5
          ],
          [
           130,
           6
          ],
          [
           200,
           7
          ]
         ],
         "domain": {
          "x": [
           0,
           1
          ],
          "y": [
           0,
           1
          ]
         },
         "hovertemplate": "labels=%{label}<br>Pass Yds=%{value}<br>parent=%{parent}<br>id=%{id}<br>Att=%{customdata[0]}<br>TD=%{color}<extra></extra>",
         "ids": [
          "49ers49ers",
          "BearsBears",
          "BengalsBengals",
          "BillsBills",
          "BroncosBroncos",
          "BrownsBrowns",
          "BuccaneersBuccaneers",
          "CardinalsCardinals",
          "ChargersChargers",
          "ChiefsChiefs",
          "ColtsColts",
          "CommandersCommanders",
          "CowboysCowboys",
          "DolphinsDolphins",
          "EaglesEagles",
          "FalconsFalcons",
          "GiantsGiants",
          "JaguarsJaguars",
          "JetsJets",
          "LionsLions",
          "PackersPackers",
          "PanthersPanthers",
          "PatriotsPatriots",
          "RaidersRaiders",
          "RamsRams",
          "RavensRavens",
          "SaintsSaints",
          "SeahawksSeahawks",
          "SteelersSteelers",
          "TexansTexans",
          "TitansTitans",
          "VikingsVikings"
         ],
         "labels": [
          "49ers49ers",
          "BearsBears",
          "BengalsBengals",
          "BillsBills",
          "BroncosBroncos",
          "BrownsBrowns",
          "BuccaneersBuccaneers",
          "CardinalsCardinals",
          "ChargersChargers",
          "ChiefsChiefs",
          "ColtsColts",
          "CommandersCommanders",
          "CowboysCowboys",
          "DolphinsDolphins",
          "EaglesEagles",
          "FalconsFalcons",
          "GiantsGiants",
          "JaguarsJaguars",
          "JetsJets",
          "LionsLions",
          "PackersPackers",
          "PanthersPanthers",
          "PatriotsPatriots",
          "RaidersRaiders",
          "RamsRams",
          "RavensRavens",
          "SaintsSaints",
          "SeahawksSeahawks",
          "SteelersSteelers",
          "TexansTexans",
          "TitansTitans",
          "VikingsVikings"
         ],
         "marker": {
          "coloraxis": "coloraxis",
          "colors": [
           5,
           4,
           9,
           14,
           4,
           5,
           7,
           6,
           10,
           15,
           5,
           10,
           4,
           9,
           4,
           4,
           3,
           8,
           7,
           11,
           8,
           4,
           4,
           8,
           5,
           12,
           7,
           9,
           2,
           5,
           6,
           7
          ]
         },
         "name": "",
         "parents": [
          "",
          "",
          "",
          "",
          "",
          "",
          "",
          "",
          "",
          "",
          "",
          "",
          "",
          "",
          "",
          "",
          "",
          "",
          "",
          "",
          "",
          "",
          "",
          "",
          "",
          "",
          "",
          "",
          "",
          "",
          "",
          ""
         ],
         "type": "treemap",
         "values": [
          1051,
          869,
          1339,
          1659,
          1254,
          1060,
          1409,
          1253,
          1478,
          1398,
          1376,
          1489,
          973,
          1394,
          1359,
          926,
          859,
          1232,
          1382,
          1361,
          1222,
          1022,
          1110,
          1283,
          1335,
          1067,
          1303,
          1305,
          1100,
          1048,
          971,
          1363
         ]
        }
       ],
       "layout": {
        "coloraxis": {
         "colorbar": {
          "title": {
           "text": "TD"
          }
         },
         "colorscale": [
          [
           0,
           "#0d0887"
          ],
          [
           0.1111111111111111,
           "#46039f"
          ],
          [
           0.2222222222222222,
           "#7201a8"
          ],
          [
           0.3333333333333333,
           "#9c179e"
          ],
          [
           0.4444444444444444,
           "#bd3786"
          ],
          [
           0.5555555555555556,
           "#d8576b"
          ],
          [
           0.6666666666666666,
           "#ed7953"
          ],
          [
           0.7777777777777778,
           "#fb9f3a"
          ],
          [
           0.8888888888888888,
           "#fdca26"
          ],
          [
           1,
           "#f0f921"
          ]
         ]
        },
        "legend": {
         "tracegroupgap": 0
        },
        "margin": {
         "t": 60
        },
        "template": {
         "data": {
          "bar": [
           {
            "error_x": {
             "color": "#2a3f5f"
            },
            "error_y": {
             "color": "#2a3f5f"
            },
            "marker": {
             "line": {
              "color": "#E5ECF6",
              "width": 0.5
             },
             "pattern": {
              "fillmode": "overlay",
              "size": 10,
              "solidity": 0.2
             }
            },
            "type": "bar"
           }
          ],
          "barpolar": [
           {
            "marker": {
             "line": {
              "color": "#E5ECF6",
              "width": 0.5
             },
             "pattern": {
              "fillmode": "overlay",
              "size": 10,
              "solidity": 0.2
             }
            },
            "type": "barpolar"
           }
          ],
          "carpet": [
           {
            "aaxis": {
             "endlinecolor": "#2a3f5f",
             "gridcolor": "white",
             "linecolor": "white",
             "minorgridcolor": "white",
             "startlinecolor": "#2a3f5f"
            },
            "baxis": {
             "endlinecolor": "#2a3f5f",
             "gridcolor": "white",
             "linecolor": "white",
             "minorgridcolor": "white",
             "startlinecolor": "#2a3f5f"
            },
            "type": "carpet"
           }
          ],
          "choropleth": [
           {
            "colorbar": {
             "outlinewidth": 0,
             "ticks": ""
            },
            "type": "choropleth"
           }
          ],
          "contour": [
           {
            "colorbar": {
             "outlinewidth": 0,
             "ticks": ""
            },
            "colorscale": [
             [
              0,
              "#0d0887"
             ],
             [
              0.1111111111111111,
              "#46039f"
             ],
             [
              0.2222222222222222,
              "#7201a8"
             ],
             [
              0.3333333333333333,
              "#9c179e"
             ],
             [
              0.4444444444444444,
              "#bd3786"
             ],
             [
              0.5555555555555556,
              "#d8576b"
             ],
             [
              0.6666666666666666,
              "#ed7953"
             ],
             [
              0.7777777777777778,
              "#fb9f3a"
             ],
             [
              0.8888888888888888,
              "#fdca26"
             ],
             [
              1,
              "#f0f921"
             ]
            ],
            "type": "contour"
           }
          ],
          "contourcarpet": [
           {
            "colorbar": {
             "outlinewidth": 0,
             "ticks": ""
            },
            "type": "contourcarpet"
           }
          ],
          "heatmap": [
           {
            "colorbar": {
             "outlinewidth": 0,
             "ticks": ""
            },
            "colorscale": [
             [
              0,
              "#0d0887"
             ],
             [
              0.1111111111111111,
              "#46039f"
             ],
             [
              0.2222222222222222,
              "#7201a8"
             ],
             [
              0.3333333333333333,
              "#9c179e"
             ],
             [
              0.4444444444444444,
              "#bd3786"
             ],
             [
              0.5555555555555556,
              "#d8576b"
             ],
             [
              0.6666666666666666,
              "#ed7953"
             ],
             [
              0.7777777777777778,
              "#fb9f3a"
             ],
             [
              0.8888888888888888,
              "#fdca26"
             ],
             [
              1,
              "#f0f921"
             ]
            ],
            "type": "heatmap"
           }
          ],
          "heatmapgl": [
           {
            "colorbar": {
             "outlinewidth": 0,
             "ticks": ""
            },
            "colorscale": [
             [
              0,
              "#0d0887"
             ],
             [
              0.1111111111111111,
              "#46039f"
             ],
             [
              0.2222222222222222,
              "#7201a8"
             ],
             [
              0.3333333333333333,
              "#9c179e"
             ],
             [
              0.4444444444444444,
              "#bd3786"
             ],
             [
              0.5555555555555556,
              "#d8576b"
             ],
             [
              0.6666666666666666,
              "#ed7953"
             ],
             [
              0.7777777777777778,
              "#fb9f3a"
             ],
             [
              0.8888888888888888,
              "#fdca26"
             ],
             [
              1,
              "#f0f921"
             ]
            ],
            "type": "heatmapgl"
           }
          ],
          "histogram": [
           {
            "marker": {
             "pattern": {
              "fillmode": "overlay",
              "size": 10,
              "solidity": 0.2
             }
            },
            "type": "histogram"
           }
          ],
          "histogram2d": [
           {
            "colorbar": {
             "outlinewidth": 0,
             "ticks": ""
            },
            "colorscale": [
             [
              0,
              "#0d0887"
             ],
             [
              0.1111111111111111,
              "#46039f"
             ],
             [
              0.2222222222222222,
              "#7201a8"
             ],
             [
              0.3333333333333333,
              "#9c179e"
             ],
             [
              0.4444444444444444,
              "#bd3786"
             ],
             [
              0.5555555555555556,
              "#d8576b"
             ],
             [
              0.6666666666666666,
              "#ed7953"
             ],
             [
              0.7777777777777778,
              "#fb9f3a"
             ],
             [
              0.8888888888888888,
              "#fdca26"
             ],
             [
              1,
              "#f0f921"
             ]
            ],
            "type": "histogram2d"
           }
          ],
          "histogram2dcontour": [
           {
            "colorbar": {
             "outlinewidth": 0,
             "ticks": ""
            },
            "colorscale": [
             [
              0,
              "#0d0887"
             ],
             [
              0.1111111111111111,
              "#46039f"
             ],
             [
              0.2222222222222222,
              "#7201a8"
             ],
             [
              0.3333333333333333,
              "#9c179e"
             ],
             [
              0.4444444444444444,
              "#bd3786"
             ],
             [
              0.5555555555555556,
              "#d8576b"
             ],
             [
              0.6666666666666666,
              "#ed7953"
             ],
             [
              0.7777777777777778,
              "#fb9f3a"
             ],
             [
              0.8888888888888888,
              "#fdca26"
             ],
             [
              1,
              "#f0f921"
             ]
            ],
            "type": "histogram2dcontour"
           }
          ],
          "mesh3d": [
           {
            "colorbar": {
             "outlinewidth": 0,
             "ticks": ""
            },
            "type": "mesh3d"
           }
          ],
          "parcoords": [
           {
            "line": {
             "colorbar": {
              "outlinewidth": 0,
              "ticks": ""
             }
            },
            "type": "parcoords"
           }
          ],
          "pie": [
           {
            "automargin": true,
            "type": "pie"
           }
          ],
          "scatter": [
           {
            "fillpattern": {
             "fillmode": "overlay",
             "size": 10,
             "solidity": 0.2
            },
            "type": "scatter"
           }
          ],
          "scatter3d": [
           {
            "line": {
             "colorbar": {
              "outlinewidth": 0,
              "ticks": ""
             }
            },
            "marker": {
             "colorbar": {
              "outlinewidth": 0,
              "ticks": ""
             }
            },
            "type": "scatter3d"
           }
          ],
          "scattercarpet": [
           {
            "marker": {
             "colorbar": {
              "outlinewidth": 0,
              "ticks": ""
             }
            },
            "type": "scattercarpet"
           }
          ],
          "scattergeo": [
           {
            "marker": {
             "colorbar": {
              "outlinewidth": 0,
              "ticks": ""
             }
            },
            "type": "scattergeo"
           }
          ],
          "scattergl": [
           {
            "marker": {
             "colorbar": {
              "outlinewidth": 0,
              "ticks": ""
             }
            },
            "type": "scattergl"
           }
          ],
          "scattermapbox": [
           {
            "marker": {
             "colorbar": {
              "outlinewidth": 0,
              "ticks": ""
             }
            },
            "type": "scattermapbox"
           }
          ],
          "scatterpolar": [
           {
            "marker": {
             "colorbar": {
              "outlinewidth": 0,
              "ticks": ""
             }
            },
            "type": "scatterpolar"
           }
          ],
          "scatterpolargl": [
           {
            "marker": {
             "colorbar": {
              "outlinewidth": 0,
              "ticks": ""
             }
            },
            "type": "scatterpolargl"
           }
          ],
          "scatterternary": [
           {
            "marker": {
             "colorbar": {
              "outlinewidth": 0,
              "ticks": ""
             }
            },
            "type": "scatterternary"
           }
          ],
          "surface": [
           {
            "colorbar": {
             "outlinewidth": 0,
             "ticks": ""
            },
            "colorscale": [
             [
              0,
              "#0d0887"
             ],
             [
              0.1111111111111111,
              "#46039f"
             ],
             [
              0.2222222222222222,
              "#7201a8"
             ],
             [
              0.3333333333333333,
              "#9c179e"
             ],
             [
              0.4444444444444444,
              "#bd3786"
             ],
             [
              0.5555555555555556,
              "#d8576b"
             ],
             [
              0.6666666666666666,
              "#ed7953"
             ],
             [
              0.7777777777777778,
              "#fb9f3a"
             ],
             [
              0.8888888888888888,
              "#fdca26"
             ],
             [
              1,
              "#f0f921"
             ]
            ],
            "type": "surface"
           }
          ],
          "table": [
           {
            "cells": {
             "fill": {
              "color": "#EBF0F8"
             },
             "line": {
              "color": "white"
             }
            },
            "header": {
             "fill": {
              "color": "#C8D4E3"
             },
             "line": {
              "color": "white"
             }
            },
            "type": "table"
           }
          ]
         },
         "layout": {
          "annotationdefaults": {
           "arrowcolor": "#2a3f5f",
           "arrowhead": 0,
           "arrowwidth": 1
          },
          "autotypenumbers": "strict",
          "coloraxis": {
           "colorbar": {
            "outlinewidth": 0,
            "ticks": ""
           }
          },
          "colorscale": {
           "diverging": [
            [
             0,
             "#8e0152"
            ],
            [
             0.1,
             "#c51b7d"
            ],
            [
             0.2,
             "#de77ae"
            ],
            [
             0.3,
             "#f1b6da"
            ],
            [
             0.4,
             "#fde0ef"
            ],
            [
             0.5,
             "#f7f7f7"
            ],
            [
             0.6,
             "#e6f5d0"
            ],
            [
             0.7,
             "#b8e186"
            ],
            [
             0.8,
             "#7fbc41"
            ],
            [
             0.9,
             "#4d9221"
            ],
            [
             1,
             "#276419"
            ]
           ],
           "sequential": [
            [
             0,
             "#0d0887"
            ],
            [
             0.1111111111111111,
             "#46039f"
            ],
            [
             0.2222222222222222,
             "#7201a8"
            ],
            [
             0.3333333333333333,
             "#9c179e"
            ],
            [
             0.4444444444444444,
             "#bd3786"
            ],
            [
             0.5555555555555556,
             "#d8576b"
            ],
            [
             0.6666666666666666,
             "#ed7953"
            ],
            [
             0.7777777777777778,
             "#fb9f3a"
            ],
            [
             0.8888888888888888,
             "#fdca26"
            ],
            [
             1,
             "#f0f921"
            ]
           ],
           "sequentialminus": [
            [
             0,
             "#0d0887"
            ],
            [
             0.1111111111111111,
             "#46039f"
            ],
            [
             0.2222222222222222,
             "#7201a8"
            ],
            [
             0.3333333333333333,
             "#9c179e"
            ],
            [
             0.4444444444444444,
             "#bd3786"
            ],
            [
             0.5555555555555556,
             "#d8576b"
            ],
            [
             0.6666666666666666,
             "#ed7953"
            ],
            [
             0.7777777777777778,
             "#fb9f3a"
            ],
            [
             0.8888888888888888,
             "#fdca26"
            ],
            [
             1,
             "#f0f921"
            ]
           ]
          },
          "colorway": [
           "#636efa",
           "#EF553B",
           "#00cc96",
           "#ab63fa",
           "#FFA15A",
           "#19d3f3",
           "#FF6692",
           "#B6E880",
           "#FF97FF",
           "#FECB52"
          ],
          "font": {
           "color": "#2a3f5f"
          },
          "geo": {
           "bgcolor": "white",
           "lakecolor": "white",
           "landcolor": "#E5ECF6",
           "showlakes": true,
           "showland": true,
           "subunitcolor": "white"
          },
          "hoverlabel": {
           "align": "left"
          },
          "hovermode": "closest",
          "mapbox": {
           "style": "light"
          },
          "paper_bgcolor": "white",
          "plot_bgcolor": "#E5ECF6",
          "polar": {
           "angularaxis": {
            "gridcolor": "white",
            "linecolor": "white",
            "ticks": ""
           },
           "bgcolor": "#E5ECF6",
           "radialaxis": {
            "gridcolor": "white",
            "linecolor": "white",
            "ticks": ""
           }
          },
          "scene": {
           "xaxis": {
            "backgroundcolor": "#E5ECF6",
            "gridcolor": "white",
            "gridwidth": 2,
            "linecolor": "white",
            "showbackground": true,
            "ticks": "",
            "zerolinecolor": "white"
           },
           "yaxis": {
            "backgroundcolor": "#E5ECF6",
            "gridcolor": "white",
            "gridwidth": 2,
            "linecolor": "white",
            "showbackground": true,
            "ticks": "",
            "zerolinecolor": "white"
           },
           "zaxis": {
            "backgroundcolor": "#E5ECF6",
            "gridcolor": "white",
            "gridwidth": 2,
            "linecolor": "white",
            "showbackground": true,
            "ticks": "",
            "zerolinecolor": "white"
           }
          },
          "shapedefaults": {
           "line": {
            "color": "#2a3f5f"
           }
          },
          "ternary": {
           "aaxis": {
            "gridcolor": "white",
            "linecolor": "white",
            "ticks": ""
           },
           "baxis": {
            "gridcolor": "white",
            "linecolor": "white",
            "ticks": ""
           },
           "bgcolor": "#E5ECF6",
           "caxis": {
            "gridcolor": "white",
            "linecolor": "white",
            "ticks": ""
           }
          },
          "title": {
           "x": 0.05
          },
          "xaxis": {
           "automargin": true,
           "gridcolor": "white",
           "linecolor": "white",
           "ticks": "",
           "title": {
            "standoff": 15
           },
           "zerolinecolor": "white",
           "zerolinewidth": 2
          },
          "yaxis": {
           "automargin": true,
           "gridcolor": "white",
           "linecolor": "white",
           "ticks": "",
           "title": {
            "standoff": 15
           },
           "zerolinecolor": "white",
           "zerolinewidth": 2
          }
         }
        }
       }
      }
     },
     "metadata": {},
     "output_type": "display_data"
    }
   ],
   "source": [
    "px.treemap(passing_df, path=['Team'], values='Pass Yds', color='TD', hover_data=['Att'])"
   ]
  },
  {
   "cell_type": "code",
   "execution_count": 33,
   "metadata": {},
   "outputs": [
    {
     "data": {
      "application/vnd.plotly.v1+json": {
       "config": {
        "plotlyServerURL": "https://plot.ly"
       },
       "data": [
        {
         "branchvalues": "total",
         "customdata": [
          [
           80,
           5
          ],
          [
           63,
           4
          ],
          [
           125,
           9
          ],
          [
           135,
           14
          ],
          [
           101,
           4
          ],
          [
           103,
           5
          ],
          [
           141,
           7
          ],
          [
           143,
           6
          ],
          [
           133,
           10
          ],
          [
           126,
           15
          ],
          [
           128,
           5
          ],
          [
           144,
           10
          ],
          [
           86,
           4
          ],
          [
           113,
           9
          ],
          [
           108,
           4
          ],
          [
           71,
           4
          ],
          [
           89,
           3
          ],
          [
           113,
           8
          ],
          [
           125,
           7
          ],
          [
           112,
           11
          ],
          [
           118,
           8
          ],
          [
           89,
           4
          ],
          [
           96,
           4
          ],
          [
           114,
           8
          ],
          [
           135,
           5
          ],
          [
           95,
           12
          ],
          [
           110,
           7
          ],
          [
           118,
           9
          ],
          [
           113,
           2
          ],
          [
           104,
           5
          ],
          [
           83,
           6
          ],
          [
           133,
           7
          ]
         ],
         "domain": {
          "x": [
           0,
           1
          ],
          "y": [
           0,
           1
          ]
         },
         "hovertemplate": "labels=%{label}<br>Yds=%{value}<br>parent=%{parent}<br>id=%{id}<br>Rec=%{customdata[0]}<br>TD=%{color}<extra></extra>",
         "ids": [
          "49ers49ers",
          "BearsBears",
          "BengalsBengals",
          "BillsBills",
          "BroncosBroncos",
          "BrownsBrowns",
          "BuccaneersBuccaneers",
          "CardinalsCardinals",
          "ChargersChargers",
          "ChiefsChiefs",
          "ColtsColts",
          "CommandersCommanders",
          "CowboysCowboys",
          "DolphinsDolphins",
          "EaglesEagles",
          "FalconsFalcons",
          "GiantsGiants",
          "JaguarsJaguars",
          "JetsJets",
          "LionsLions",
          "PackersPackers",
          "PanthersPanthers",
          "PatriotsPatriots",
          "RaidersRaiders",
          "RamsRams",
          "RavensRavens",
          "SaintsSaints",
          "SeahawksSeahawks",
          "SteelersSteelers",
          "TexansTexans",
          "TitansTitans",
          "VikingsVikings"
         ],
         "labels": [
          "49ers49ers",
          "BearsBears",
          "BengalsBengals",
          "BillsBills",
          "BroncosBroncos",
          "BrownsBrowns",
          "BuccaneersBuccaneers",
          "CardinalsCardinals",
          "ChargersChargers",
          "ChiefsChiefs",
          "ColtsColts",
          "CommandersCommanders",
          "CowboysCowboys",
          "DolphinsDolphins",
          "EaglesEagles",
          "FalconsFalcons",
          "GiantsGiants",
          "JaguarsJaguars",
          "JetsJets",
          "LionsLions",
          "PackersPackers",
          "PanthersPanthers",
          "PatriotsPatriots",
          "RaidersRaiders",
          "RamsRams",
          "RavensRavens",
          "SaintsSaints",
          "SeahawksSeahawks",
          "SteelersSteelers",
          "TexansTexans",
          "TitansTitans",
          "VikingsVikings"
         ],
         "marker": {
          "coloraxis": "coloraxis",
          "colors": [
           5,
           4,
           9,
           14,
           4,
           5,
           7,
           6,
           10,
           15,
           5,
           10,
           4,
           9,
           4,
           4,
           3,
           8,
           7,
           11,
           8,
           4,
           4,
           8,
           5,
           12,
           7,
           9,
           2,
           5,
           6,
           7
          ]
         },
         "name": "",
         "parents": [
          "",
          "",
          "",
          "",
          "",
          "",
          "",
          "",
          "",
          "",
          "",
          "",
          "",
          "",
          "",
          "",
          "",
          "",
          "",
          "",
          "",
          "",
          "",
          "",
          "",
          "",
          "",
          "",
          "",
          "",
          "",
          ""
         ],
         "type": "treemap",
         "values": [
          1051,
          869,
          1339,
          1659,
          1254,
          1060,
          1409,
          1253,
          1478,
          1398,
          1376,
          1489,
          973,
          1394,
          1359,
          926,
          859,
          1232,
          1382,
          1361,
          1222,
          1022,
          1110,
          1283,
          1335,
          1067,
          1303,
          1305,
          1100,
          1048,
          971,
          1363
         ]
        }
       ],
       "layout": {
        "coloraxis": {
         "colorbar": {
          "title": {
           "text": "TD"
          }
         },
         "colorscale": [
          [
           0,
           "#0d0887"
          ],
          [
           0.1111111111111111,
           "#46039f"
          ],
          [
           0.2222222222222222,
           "#7201a8"
          ],
          [
           0.3333333333333333,
           "#9c179e"
          ],
          [
           0.4444444444444444,
           "#bd3786"
          ],
          [
           0.5555555555555556,
           "#d8576b"
          ],
          [
           0.6666666666666666,
           "#ed7953"
          ],
          [
           0.7777777777777778,
           "#fb9f3a"
          ],
          [
           0.8888888888888888,
           "#fdca26"
          ],
          [
           1,
           "#f0f921"
          ]
         ]
        },
        "legend": {
         "tracegroupgap": 0
        },
        "margin": {
         "t": 60
        },
        "template": {
         "data": {
          "bar": [
           {
            "error_x": {
             "color": "#2a3f5f"
            },
            "error_y": {
             "color": "#2a3f5f"
            },
            "marker": {
             "line": {
              "color": "#E5ECF6",
              "width": 0.5
             },
             "pattern": {
              "fillmode": "overlay",
              "size": 10,
              "solidity": 0.2
             }
            },
            "type": "bar"
           }
          ],
          "barpolar": [
           {
            "marker": {
             "line": {
              "color": "#E5ECF6",
              "width": 0.5
             },
             "pattern": {
              "fillmode": "overlay",
              "size": 10,
              "solidity": 0.2
             }
            },
            "type": "barpolar"
           }
          ],
          "carpet": [
           {
            "aaxis": {
             "endlinecolor": "#2a3f5f",
             "gridcolor": "white",
             "linecolor": "white",
             "minorgridcolor": "white",
             "startlinecolor": "#2a3f5f"
            },
            "baxis": {
             "endlinecolor": "#2a3f5f",
             "gridcolor": "white",
             "linecolor": "white",
             "minorgridcolor": "white",
             "startlinecolor": "#2a3f5f"
            },
            "type": "carpet"
           }
          ],
          "choropleth": [
           {
            "colorbar": {
             "outlinewidth": 0,
             "ticks": ""
            },
            "type": "choropleth"
           }
          ],
          "contour": [
           {
            "colorbar": {
             "outlinewidth": 0,
             "ticks": ""
            },
            "colorscale": [
             [
              0,
              "#0d0887"
             ],
             [
              0.1111111111111111,
              "#46039f"
             ],
             [
              0.2222222222222222,
              "#7201a8"
             ],
             [
              0.3333333333333333,
              "#9c179e"
             ],
             [
              0.4444444444444444,
              "#bd3786"
             ],
             [
              0.5555555555555556,
              "#d8576b"
             ],
             [
              0.6666666666666666,
              "#ed7953"
             ],
             [
              0.7777777777777778,
              "#fb9f3a"
             ],
             [
              0.8888888888888888,
              "#fdca26"
             ],
             [
              1,
              "#f0f921"
             ]
            ],
            "type": "contour"
           }
          ],
          "contourcarpet": [
           {
            "colorbar": {
             "outlinewidth": 0,
             "ticks": ""
            },
            "type": "contourcarpet"
           }
          ],
          "heatmap": [
           {
            "colorbar": {
             "outlinewidth": 0,
             "ticks": ""
            },
            "colorscale": [
             [
              0,
              "#0d0887"
             ],
             [
              0.1111111111111111,
              "#46039f"
             ],
             [
              0.2222222222222222,
              "#7201a8"
             ],
             [
              0.3333333333333333,
              "#9c179e"
             ],
             [
              0.4444444444444444,
              "#bd3786"
             ],
             [
              0.5555555555555556,
              "#d8576b"
             ],
             [
              0.6666666666666666,
              "#ed7953"
             ],
             [
              0.7777777777777778,
              "#fb9f3a"
             ],
             [
              0.8888888888888888,
              "#fdca26"
             ],
             [
              1,
              "#f0f921"
             ]
            ],
            "type": "heatmap"
           }
          ],
          "heatmapgl": [
           {
            "colorbar": {
             "outlinewidth": 0,
             "ticks": ""
            },
            "colorscale": [
             [
              0,
              "#0d0887"
             ],
             [
              0.1111111111111111,
              "#46039f"
             ],
             [
              0.2222222222222222,
              "#7201a8"
             ],
             [
              0.3333333333333333,
              "#9c179e"
             ],
             [
              0.4444444444444444,
              "#bd3786"
             ],
             [
              0.5555555555555556,
              "#d8576b"
             ],
             [
              0.6666666666666666,
              "#ed7953"
             ],
             [
              0.7777777777777778,
              "#fb9f3a"
             ],
             [
              0.8888888888888888,
              "#fdca26"
             ],
             [
              1,
              "#f0f921"
             ]
            ],
            "type": "heatmapgl"
           }
          ],
          "histogram": [
           {
            "marker": {
             "pattern": {
              "fillmode": "overlay",
              "size": 10,
              "solidity": 0.2
             }
            },
            "type": "histogram"
           }
          ],
          "histogram2d": [
           {
            "colorbar": {
             "outlinewidth": 0,
             "ticks": ""
            },
            "colorscale": [
             [
              0,
              "#0d0887"
             ],
             [
              0.1111111111111111,
              "#46039f"
             ],
             [
              0.2222222222222222,
              "#7201a8"
             ],
             [
              0.3333333333333333,
              "#9c179e"
             ],
             [
              0.4444444444444444,
              "#bd3786"
             ],
             [
              0.5555555555555556,
              "#d8576b"
             ],
             [
              0.6666666666666666,
              "#ed7953"
             ],
             [
              0.7777777777777778,
              "#fb9f3a"
             ],
             [
              0.8888888888888888,
              "#fdca26"
             ],
             [
              1,
              "#f0f921"
             ]
            ],
            "type": "histogram2d"
           }
          ],
          "histogram2dcontour": [
           {
            "colorbar": {
             "outlinewidth": 0,
             "ticks": ""
            },
            "colorscale": [
             [
              0,
              "#0d0887"
             ],
             [
              0.1111111111111111,
              "#46039f"
             ],
             [
              0.2222222222222222,
              "#7201a8"
             ],
             [
              0.3333333333333333,
              "#9c179e"
             ],
             [
              0.4444444444444444,
              "#bd3786"
             ],
             [
              0.5555555555555556,
              "#d8576b"
             ],
             [
              0.6666666666666666,
              "#ed7953"
             ],
             [
              0.7777777777777778,
              "#fb9f3a"
             ],
             [
              0.8888888888888888,
              "#fdca26"
             ],
             [
              1,
              "#f0f921"
             ]
            ],
            "type": "histogram2dcontour"
           }
          ],
          "mesh3d": [
           {
            "colorbar": {
             "outlinewidth": 0,
             "ticks": ""
            },
            "type": "mesh3d"
           }
          ],
          "parcoords": [
           {
            "line": {
             "colorbar": {
              "outlinewidth": 0,
              "ticks": ""
             }
            },
            "type": "parcoords"
           }
          ],
          "pie": [
           {
            "automargin": true,
            "type": "pie"
           }
          ],
          "scatter": [
           {
            "fillpattern": {
             "fillmode": "overlay",
             "size": 10,
             "solidity": 0.2
            },
            "type": "scatter"
           }
          ],
          "scatter3d": [
           {
            "line": {
             "colorbar": {
              "outlinewidth": 0,
              "ticks": ""
             }
            },
            "marker": {
             "colorbar": {
              "outlinewidth": 0,
              "ticks": ""
             }
            },
            "type": "scatter3d"
           }
          ],
          "scattercarpet": [
           {
            "marker": {
             "colorbar": {
              "outlinewidth": 0,
              "ticks": ""
             }
            },
            "type": "scattercarpet"
           }
          ],
          "scattergeo": [
           {
            "marker": {
             "colorbar": {
              "outlinewidth": 0,
              "ticks": ""
             }
            },
            "type": "scattergeo"
           }
          ],
          "scattergl": [
           {
            "marker": {
             "colorbar": {
              "outlinewidth": 0,
              "ticks": ""
             }
            },
            "type": "scattergl"
           }
          ],
          "scattermapbox": [
           {
            "marker": {
             "colorbar": {
              "outlinewidth": 0,
              "ticks": ""
             }
            },
            "type": "scattermapbox"
           }
          ],
          "scatterpolar": [
           {
            "marker": {
             "colorbar": {
              "outlinewidth": 0,
              "ticks": ""
             }
            },
            "type": "scatterpolar"
           }
          ],
          "scatterpolargl": [
           {
            "marker": {
             "colorbar": {
              "outlinewidth": 0,
              "ticks": ""
             }
            },
            "type": "scatterpolargl"
           }
          ],
          "scatterternary": [
           {
            "marker": {
             "colorbar": {
              "outlinewidth": 0,
              "ticks": ""
             }
            },
            "type": "scatterternary"
           }
          ],
          "surface": [
           {
            "colorbar": {
             "outlinewidth": 0,
             "ticks": ""
            },
            "colorscale": [
             [
              0,
              "#0d0887"
             ],
             [
              0.1111111111111111,
              "#46039f"
             ],
             [
              0.2222222222222222,
              "#7201a8"
             ],
             [
              0.3333333333333333,
              "#9c179e"
             ],
             [
              0.4444444444444444,
              "#bd3786"
             ],
             [
              0.5555555555555556,
              "#d8576b"
             ],
             [
              0.6666666666666666,
              "#ed7953"
             ],
             [
              0.7777777777777778,
              "#fb9f3a"
             ],
             [
              0.8888888888888888,
              "#fdca26"
             ],
             [
              1,
              "#f0f921"
             ]
            ],
            "type": "surface"
           }
          ],
          "table": [
           {
            "cells": {
             "fill": {
              "color": "#EBF0F8"
             },
             "line": {
              "color": "white"
             }
            },
            "header": {
             "fill": {
              "color": "#C8D4E3"
             },
             "line": {
              "color": "white"
             }
            },
            "type": "table"
           }
          ]
         },
         "layout": {
          "annotationdefaults": {
           "arrowcolor": "#2a3f5f",
           "arrowhead": 0,
           "arrowwidth": 1
          },
          "autotypenumbers": "strict",
          "coloraxis": {
           "colorbar": {
            "outlinewidth": 0,
            "ticks": ""
           }
          },
          "colorscale": {
           "diverging": [
            [
             0,
             "#8e0152"
            ],
            [
             0.1,
             "#c51b7d"
            ],
            [
             0.2,
             "#de77ae"
            ],
            [
             0.3,
             "#f1b6da"
            ],
            [
             0.4,
             "#fde0ef"
            ],
            [
             0.5,
             "#f7f7f7"
            ],
            [
             0.6,
             "#e6f5d0"
            ],
            [
             0.7,
             "#b8e186"
            ],
            [
             0.8,
             "#7fbc41"
            ],
            [
             0.9,
             "#4d9221"
            ],
            [
             1,
             "#276419"
            ]
           ],
           "sequential": [
            [
             0,
             "#0d0887"
            ],
            [
             0.1111111111111111,
             "#46039f"
            ],
            [
             0.2222222222222222,
             "#7201a8"
            ],
            [
             0.3333333333333333,
             "#9c179e"
            ],
            [
             0.4444444444444444,
             "#bd3786"
            ],
            [
             0.5555555555555556,
             "#d8576b"
            ],
            [
             0.6666666666666666,
             "#ed7953"
            ],
            [
             0.7777777777777778,
             "#fb9f3a"
            ],
            [
             0.8888888888888888,
             "#fdca26"
            ],
            [
             1,
             "#f0f921"
            ]
           ],
           "sequentialminus": [
            [
             0,
             "#0d0887"
            ],
            [
             0.1111111111111111,
             "#46039f"
            ],
            [
             0.2222222222222222,
             "#7201a8"
            ],
            [
             0.3333333333333333,
             "#9c179e"
            ],
            [
             0.4444444444444444,
             "#bd3786"
            ],
            [
             0.5555555555555556,
             "#d8576b"
            ],
            [
             0.6666666666666666,
             "#ed7953"
            ],
            [
             0.7777777777777778,
             "#fb9f3a"
            ],
            [
             0.8888888888888888,
             "#fdca26"
            ],
            [
             1,
             "#f0f921"
            ]
           ]
          },
          "colorway": [
           "#636efa",
           "#EF553B",
           "#00cc96",
           "#ab63fa",
           "#FFA15A",
           "#19d3f3",
           "#FF6692",
           "#B6E880",
           "#FF97FF",
           "#FECB52"
          ],
          "font": {
           "color": "#2a3f5f"
          },
          "geo": {
           "bgcolor": "white",
           "lakecolor": "white",
           "landcolor": "#E5ECF6",
           "showlakes": true,
           "showland": true,
           "subunitcolor": "white"
          },
          "hoverlabel": {
           "align": "left"
          },
          "hovermode": "closest",
          "mapbox": {
           "style": "light"
          },
          "paper_bgcolor": "white",
          "plot_bgcolor": "#E5ECF6",
          "polar": {
           "angularaxis": {
            "gridcolor": "white",
            "linecolor": "white",
            "ticks": ""
           },
           "bgcolor": "#E5ECF6",
           "radialaxis": {
            "gridcolor": "white",
            "linecolor": "white",
            "ticks": ""
           }
          },
          "scene": {
           "xaxis": {
            "backgroundcolor": "#E5ECF6",
            "gridcolor": "white",
            "gridwidth": 2,
            "linecolor": "white",
            "showbackground": true,
            "ticks": "",
            "zerolinecolor": "white"
           },
           "yaxis": {
            "backgroundcolor": "#E5ECF6",
            "gridcolor": "white",
            "gridwidth": 2,
            "linecolor": "white",
            "showbackground": true,
            "ticks": "",
            "zerolinecolor": "white"
           },
           "zaxis": {
            "backgroundcolor": "#E5ECF6",
            "gridcolor": "white",
            "gridwidth": 2,
            "linecolor": "white",
            "showbackground": true,
            "ticks": "",
            "zerolinecolor": "white"
           }
          },
          "shapedefaults": {
           "line": {
            "color": "#2a3f5f"
           }
          },
          "ternary": {
           "aaxis": {
            "gridcolor": "white",
            "linecolor": "white",
            "ticks": ""
           },
           "baxis": {
            "gridcolor": "white",
            "linecolor": "white",
            "ticks": ""
           },
           "bgcolor": "#E5ECF6",
           "caxis": {
            "gridcolor": "white",
            "linecolor": "white",
            "ticks": ""
           }
          },
          "title": {
           "x": 0.05
          },
          "xaxis": {
           "automargin": true,
           "gridcolor": "white",
           "linecolor": "white",
           "ticks": "",
           "title": {
            "standoff": 15
           },
           "zerolinecolor": "white",
           "zerolinewidth": 2
          },
          "yaxis": {
           "automargin": true,
           "gridcolor": "white",
           "linecolor": "white",
           "ticks": "",
           "title": {
            "standoff": 15
           },
           "zerolinecolor": "white",
           "zerolinewidth": 2
          }
         }
        }
       }
      }
     },
     "metadata": {},
     "output_type": "display_data"
    }
   ],
   "source": [
    "px.treemap(receiving_df, path=['Team'], values='Yds', color='TD', hover_data=['Rec'])"
   ]
  },
  {
   "cell_type": "code",
   "execution_count": 34,
   "metadata": {},
   "outputs": [
    {
     "data": {
      "application/vnd.plotly.v1+json": {
       "config": {
        "plotlyServerURL": "https://plot.ly"
       },
       "data": [
        {
         "branchvalues": "total",
         "customdata": [
          [
           152,
           6
          ],
          [
           197,
           5
          ],
          [
           138,
           2
          ],
          [
           115,
           3
          ],
          [
           132,
           2
          ],
          [
           180,
           10
          ],
          [
           106,
           2
          ],
          [
           134,
           5
          ],
          [
           128,
           4
          ],
          [
           128,
           4
          ],
          [
           127,
           1
          ],
          [
           143,
           3
          ],
          [
           138,
           3
          ],
          [
           106,
           4
          ],
          [
           186,
           12
          ],
          [
           162,
           7
          ],
          [
           165,
           7
          ],
          [
           136,
           3
          ],
          [
           119,
           6
          ],
          [
           139,
           7
          ],
          [
           136,
           3
          ],
          [
           103,
           3
          ],
          [
           149,
           5
          ],
          [
           115,
           3
          ],
          [
           97,
           3
          ],
          [
           133,
           3
          ],
          [
           136,
           7
          ],
          [
           110,
           4
          ],
          [
           114,
           4
          ],
          [
           115,
           3
          ],
          [
           140,
           6
          ],
          [
           120,
           6
          ]
         ],
         "domain": {
          "x": [
           0,
           1
          ],
          "y": [
           0,
           1
          ]
         },
         "hovertemplate": "labels=%{label}<br>Rush Yds=%{value}<br>parent=%{parent}<br>id=%{id}<br>Att=%{customdata[0]}<br>TD=%{color}<extra></extra>",
         "ids": [
          "49ers49ers",
          "BearsBears",
          "BengalsBengals",
          "BillsBills",
          "BroncosBroncos",
          "BrownsBrowns",
          "BuccaneersBuccaneers",
          "CardinalsCardinals",
          "ChargersChargers",
          "ChiefsChiefs",
          "ColtsColts",
          "CommandersCommanders",
          "CowboysCowboys",
          "DolphinsDolphins",
          "EaglesEagles",
          "FalconsFalcons",
          "GiantsGiants",
          "JaguarsJaguars",
          "JetsJets",
          "LionsLions",
          "PackersPackers",
          "PanthersPanthers",
          "PatriotsPatriots",
          "RaidersRaiders",
          "RamsRams",
          "RavensRavens",
          "SaintsSaints",
          "SeahawksSeahawks",
          "SteelersSteelers",
          "TexansTexans",
          "TitansTitans",
          "VikingsVikings"
         ],
         "labels": [
          "49ers49ers",
          "BearsBears",
          "BengalsBengals",
          "BillsBills",
          "BroncosBroncos",
          "BrownsBrowns",
          "BuccaneersBuccaneers",
          "CardinalsCardinals",
          "ChargersChargers",
          "ChiefsChiefs",
          "ColtsColts",
          "CommandersCommanders",
          "CowboysCowboys",
          "DolphinsDolphins",
          "EaglesEagles",
          "FalconsFalcons",
          "GiantsGiants",
          "JaguarsJaguars",
          "JetsJets",
          "LionsLions",
          "PackersPackers",
          "PanthersPanthers",
          "PatriotsPatriots",
          "RaidersRaiders",
          "RamsRams",
          "RavensRavens",
          "SaintsSaints",
          "SeahawksSeahawks",
          "SteelersSteelers",
          "TexansTexans",
          "TitansTitans",
          "VikingsVikings"
         ],
         "marker": {
          "coloraxis": "coloraxis",
          "colors": [
           6,
           5,
           2,
           3,
           2,
           10,
           2,
           5,
           4,
           4,
           1,
           3,
           3,
           4,
           12,
           7,
           7,
           3,
           6,
           7,
           3,
           3,
           5,
           3,
           3,
           3,
           7,
           4,
           4,
           3,
           6,
           6
          ]
         },
         "name": "",
         "parents": [
          "",
          "",
          "",
          "",
          "",
          "",
          "",
          "",
          "",
          "",
          "",
          "",
          "",
          "",
          "",
          "",
          "",
          "",
          "",
          "",
          "",
          "",
          "",
          "",
          "",
          "",
          "",
          "",
          "",
          "",
          "",
          ""
         ],
         "type": "treemap",
         "values": [
          694,
          1025,
          459,
          582,
          563,
          962,
          330,
          572,
          496,
          571,
          457,
          573,
          579,
          414,
          800,
          823,
          895,
          577,
          485,
          757,
          674,
          449,
          690,
          607,
          312,
          723,
          681,
          610,
          443,
          496,
          514,
          509
         ]
        }
       ],
       "layout": {
        "coloraxis": {
         "colorbar": {
          "title": {
           "text": "TD"
          }
         },
         "colorscale": [
          [
           0,
           "#0d0887"
          ],
          [
           0.1111111111111111,
           "#46039f"
          ],
          [
           0.2222222222222222,
           "#7201a8"
          ],
          [
           0.3333333333333333,
           "#9c179e"
          ],
          [
           0.4444444444444444,
           "#bd3786"
          ],
          [
           0.5555555555555556,
           "#d8576b"
          ],
          [
           0.6666666666666666,
           "#ed7953"
          ],
          [
           0.7777777777777778,
           "#fb9f3a"
          ],
          [
           0.8888888888888888,
           "#fdca26"
          ],
          [
           1,
           "#f0f921"
          ]
         ]
        },
        "legend": {
         "tracegroupgap": 0
        },
        "margin": {
         "t": 60
        },
        "template": {
         "data": {
          "bar": [
           {
            "error_x": {
             "color": "#2a3f5f"
            },
            "error_y": {
             "color": "#2a3f5f"
            },
            "marker": {
             "line": {
              "color": "#E5ECF6",
              "width": 0.5
             },
             "pattern": {
              "fillmode": "overlay",
              "size": 10,
              "solidity": 0.2
             }
            },
            "type": "bar"
           }
          ],
          "barpolar": [
           {
            "marker": {
             "line": {
              "color": "#E5ECF6",
              "width": 0.5
             },
             "pattern": {
              "fillmode": "overlay",
              "size": 10,
              "solidity": 0.2
             }
            },
            "type": "barpolar"
           }
          ],
          "carpet": [
           {
            "aaxis": {
             "endlinecolor": "#2a3f5f",
             "gridcolor": "white",
             "linecolor": "white",
             "minorgridcolor": "white",
             "startlinecolor": "#2a3f5f"
            },
            "baxis": {
             "endlinecolor": "#2a3f5f",
             "gridcolor": "white",
             "linecolor": "white",
             "minorgridcolor": "white",
             "startlinecolor": "#2a3f5f"
            },
            "type": "carpet"
           }
          ],
          "choropleth": [
           {
            "colorbar": {
             "outlinewidth": 0,
             "ticks": ""
            },
            "type": "choropleth"
           }
          ],
          "contour": [
           {
            "colorbar": {
             "outlinewidth": 0,
             "ticks": ""
            },
            "colorscale": [
             [
              0,
              "#0d0887"
             ],
             [
              0.1111111111111111,
              "#46039f"
             ],
             [
              0.2222222222222222,
              "#7201a8"
             ],
             [
              0.3333333333333333,
              "#9c179e"
             ],
             [
              0.4444444444444444,
              "#bd3786"
             ],
             [
              0.5555555555555556,
              "#d8576b"
             ],
             [
              0.6666666666666666,
              "#ed7953"
             ],
             [
              0.7777777777777778,
              "#fb9f3a"
             ],
             [
              0.8888888888888888,
              "#fdca26"
             ],
             [
              1,
              "#f0f921"
             ]
            ],
            "type": "contour"
           }
          ],
          "contourcarpet": [
           {
            "colorbar": {
             "outlinewidth": 0,
             "ticks": ""
            },
            "type": "contourcarpet"
           }
          ],
          "heatmap": [
           {
            "colorbar": {
             "outlinewidth": 0,
             "ticks": ""
            },
            "colorscale": [
             [
              0,
              "#0d0887"
             ],
             [
              0.1111111111111111,
              "#46039f"
             ],
             [
              0.2222222222222222,
              "#7201a8"
             ],
             [
              0.3333333333333333,
              "#9c179e"
             ],
             [
              0.4444444444444444,
              "#bd3786"
             ],
             [
              0.5555555555555556,
              "#d8576b"
             ],
             [
              0.6666666666666666,
              "#ed7953"
             ],
             [
              0.7777777777777778,
              "#fb9f3a"
             ],
             [
              0.8888888888888888,
              "#fdca26"
             ],
             [
              1,
              "#f0f921"
             ]
            ],
            "type": "heatmap"
           }
          ],
          "heatmapgl": [
           {
            "colorbar": {
             "outlinewidth": 0,
             "ticks": ""
            },
            "colorscale": [
             [
              0,
              "#0d0887"
             ],
             [
              0.1111111111111111,
              "#46039f"
             ],
             [
              0.2222222222222222,
              "#7201a8"
             ],
             [
              0.3333333333333333,
              "#9c179e"
             ],
             [
              0.4444444444444444,
              "#bd3786"
             ],
             [
              0.5555555555555556,
              "#d8576b"
             ],
             [
              0.6666666666666666,
              "#ed7953"
             ],
             [
              0.7777777777777778,
              "#fb9f3a"
             ],
             [
              0.8888888888888888,
              "#fdca26"
             ],
             [
              1,
              "#f0f921"
             ]
            ],
            "type": "heatmapgl"
           }
          ],
          "histogram": [
           {
            "marker": {
             "pattern": {
              "fillmode": "overlay",
              "size": 10,
              "solidity": 0.2
             }
            },
            "type": "histogram"
           }
          ],
          "histogram2d": [
           {
            "colorbar": {
             "outlinewidth": 0,
             "ticks": ""
            },
            "colorscale": [
             [
              0,
              "#0d0887"
             ],
             [
              0.1111111111111111,
              "#46039f"
             ],
             [
              0.2222222222222222,
              "#7201a8"
             ],
             [
              0.3333333333333333,
              "#9c179e"
             ],
             [
              0.4444444444444444,
              "#bd3786"
             ],
             [
              0.5555555555555556,
              "#d8576b"
             ],
             [
              0.6666666666666666,
              "#ed7953"
             ],
             [
              0.7777777777777778,
              "#fb9f3a"
             ],
             [
              0.8888888888888888,
              "#fdca26"
             ],
             [
              1,
              "#f0f921"
             ]
            ],
            "type": "histogram2d"
           }
          ],
          "histogram2dcontour": [
           {
            "colorbar": {
             "outlinewidth": 0,
             "ticks": ""
            },
            "colorscale": [
             [
              0,
              "#0d0887"
             ],
             [
              0.1111111111111111,
              "#46039f"
             ],
             [
              0.2222222222222222,
              "#7201a8"
             ],
             [
              0.3333333333333333,
              "#9c179e"
             ],
             [
              0.4444444444444444,
              "#bd3786"
             ],
             [
              0.5555555555555556,
              "#d8576b"
             ],
             [
              0.6666666666666666,
              "#ed7953"
             ],
             [
              0.7777777777777778,
              "#fb9f3a"
             ],
             [
              0.8888888888888888,
              "#fdca26"
             ],
             [
              1,
              "#f0f921"
             ]
            ],
            "type": "histogram2dcontour"
           }
          ],
          "mesh3d": [
           {
            "colorbar": {
             "outlinewidth": 0,
             "ticks": ""
            },
            "type": "mesh3d"
           }
          ],
          "parcoords": [
           {
            "line": {
             "colorbar": {
              "outlinewidth": 0,
              "ticks": ""
             }
            },
            "type": "parcoords"
           }
          ],
          "pie": [
           {
            "automargin": true,
            "type": "pie"
           }
          ],
          "scatter": [
           {
            "fillpattern": {
             "fillmode": "overlay",
             "size": 10,
             "solidity": 0.2
            },
            "type": "scatter"
           }
          ],
          "scatter3d": [
           {
            "line": {
             "colorbar": {
              "outlinewidth": 0,
              "ticks": ""
             }
            },
            "marker": {
             "colorbar": {
              "outlinewidth": 0,
              "ticks": ""
             }
            },
            "type": "scatter3d"
           }
          ],
          "scattercarpet": [
           {
            "marker": {
             "colorbar": {
              "outlinewidth": 0,
              "ticks": ""
             }
            },
            "type": "scattercarpet"
           }
          ],
          "scattergeo": [
           {
            "marker": {
             "colorbar": {
              "outlinewidth": 0,
              "ticks": ""
             }
            },
            "type": "scattergeo"
           }
          ],
          "scattergl": [
           {
            "marker": {
             "colorbar": {
              "outlinewidth": 0,
              "ticks": ""
             }
            },
            "type": "scattergl"
           }
          ],
          "scattermapbox": [
           {
            "marker": {
             "colorbar": {
              "outlinewidth": 0,
              "ticks": ""
             }
            },
            "type": "scattermapbox"
           }
          ],
          "scatterpolar": [
           {
            "marker": {
             "colorbar": {
              "outlinewidth": 0,
              "ticks": ""
             }
            },
            "type": "scatterpolar"
           }
          ],
          "scatterpolargl": [
           {
            "marker": {
             "colorbar": {
              "outlinewidth": 0,
              "ticks": ""
             }
            },
            "type": "scatterpolargl"
           }
          ],
          "scatterternary": [
           {
            "marker": {
             "colorbar": {
              "outlinewidth": 0,
              "ticks": ""
             }
            },
            "type": "scatterternary"
           }
          ],
          "surface": [
           {
            "colorbar": {
             "outlinewidth": 0,
             "ticks": ""
            },
            "colorscale": [
             [
              0,
              "#0d0887"
             ],
             [
              0.1111111111111111,
              "#46039f"
             ],
             [
              0.2222222222222222,
              "#7201a8"
             ],
             [
              0.3333333333333333,
              "#9c179e"
             ],
             [
              0.4444444444444444,
              "#bd3786"
             ],
             [
              0.5555555555555556,
              "#d8576b"
             ],
             [
              0.6666666666666666,
              "#ed7953"
             ],
             [
              0.7777777777777778,
              "#fb9f3a"
             ],
             [
              0.8888888888888888,
              "#fdca26"
             ],
             [
              1,
              "#f0f921"
             ]
            ],
            "type": "surface"
           }
          ],
          "table": [
           {
            "cells": {
             "fill": {
              "color": "#EBF0F8"
             },
             "line": {
              "color": "white"
             }
            },
            "header": {
             "fill": {
              "color": "#C8D4E3"
             },
             "line": {
              "color": "white"
             }
            },
            "type": "table"
           }
          ]
         },
         "layout": {
          "annotationdefaults": {
           "arrowcolor": "#2a3f5f",
           "arrowhead": 0,
           "arrowwidth": 1
          },
          "autotypenumbers": "strict",
          "coloraxis": {
           "colorbar": {
            "outlinewidth": 0,
            "ticks": ""
           }
          },
          "colorscale": {
           "diverging": [
            [
             0,
             "#8e0152"
            ],
            [
             0.1,
             "#c51b7d"
            ],
            [
             0.2,
             "#de77ae"
            ],
            [
             0.3,
             "#f1b6da"
            ],
            [
             0.4,
             "#fde0ef"
            ],
            [
             0.5,
             "#f7f7f7"
            ],
            [
             0.6,
             "#e6f5d0"
            ],
            [
             0.7,
             "#b8e186"
            ],
            [
             0.8,
             "#7fbc41"
            ],
            [
             0.9,
             "#4d9221"
            ],
            [
             1,
             "#276419"
            ]
           ],
           "sequential": [
            [
             0,
             "#0d0887"
            ],
            [
             0.1111111111111111,
             "#46039f"
            ],
            [
             0.2222222222222222,
             "#7201a8"
            ],
            [
             0.3333333333333333,
             "#9c179e"
            ],
            [
             0.4444444444444444,
             "#bd3786"
            ],
            [
             0.5555555555555556,
             "#d8576b"
            ],
            [
             0.6666666666666666,
             "#ed7953"
            ],
            [
             0.7777777777777778,
             "#fb9f3a"
            ],
            [
             0.8888888888888888,
             "#fdca26"
            ],
            [
             1,
             "#f0f921"
            ]
           ],
           "sequentialminus": [
            [
             0,
             "#0d0887"
            ],
            [
             0.1111111111111111,
             "#46039f"
            ],
            [
             0.2222222222222222,
             "#7201a8"
            ],
            [
             0.3333333333333333,
             "#9c179e"
            ],
            [
             0.4444444444444444,
             "#bd3786"
            ],
            [
             0.5555555555555556,
             "#d8576b"
            ],
            [
             0.6666666666666666,
             "#ed7953"
            ],
            [
             0.7777777777777778,
             "#fb9f3a"
            ],
            [
             0.8888888888888888,
             "#fdca26"
            ],
            [
             1,
             "#f0f921"
            ]
           ]
          },
          "colorway": [
           "#636efa",
           "#EF553B",
           "#00cc96",
           "#ab63fa",
           "#FFA15A",
           "#19d3f3",
           "#FF6692",
           "#B6E880",
           "#FF97FF",
           "#FECB52"
          ],
          "font": {
           "color": "#2a3f5f"
          },
          "geo": {
           "bgcolor": "white",
           "lakecolor": "white",
           "landcolor": "#E5ECF6",
           "showlakes": true,
           "showland": true,
           "subunitcolor": "white"
          },
          "hoverlabel": {
           "align": "left"
          },
          "hovermode": "closest",
          "mapbox": {
           "style": "light"
          },
          "paper_bgcolor": "white",
          "plot_bgcolor": "#E5ECF6",
          "polar": {
           "angularaxis": {
            "gridcolor": "white",
            "linecolor": "white",
            "ticks": ""
           },
           "bgcolor": "#E5ECF6",
           "radialaxis": {
            "gridcolor": "white",
            "linecolor": "white",
            "ticks": ""
           }
          },
          "scene": {
           "xaxis": {
            "backgroundcolor": "#E5ECF6",
            "gridcolor": "white",
            "gridwidth": 2,
            "linecolor": "white",
            "showbackground": true,
            "ticks": "",
            "zerolinecolor": "white"
           },
           "yaxis": {
            "backgroundcolor": "#E5ECF6",
            "gridcolor": "white",
            "gridwidth": 2,
            "linecolor": "white",
            "showbackground": true,
            "ticks": "",
            "zerolinecolor": "white"
           },
           "zaxis": {
            "backgroundcolor": "#E5ECF6",
            "gridcolor": "white",
            "gridwidth": 2,
            "linecolor": "white",
            "showbackground": true,
            "ticks": "",
            "zerolinecolor": "white"
           }
          },
          "shapedefaults": {
           "line": {
            "color": "#2a3f5f"
           }
          },
          "ternary": {
           "aaxis": {
            "gridcolor": "white",
            "linecolor": "white",
            "ticks": ""
           },
           "baxis": {
            "gridcolor": "white",
            "linecolor": "white",
            "ticks": ""
           },
           "bgcolor": "#E5ECF6",
           "caxis": {
            "gridcolor": "white",
            "linecolor": "white",
            "ticks": ""
           }
          },
          "title": {
           "x": 0.05
          },
          "xaxis": {
           "automargin": true,
           "gridcolor": "white",
           "linecolor": "white",
           "ticks": "",
           "title": {
            "standoff": 15
           },
           "zerolinecolor": "white",
           "zerolinewidth": 2
          },
          "yaxis": {
           "automargin": true,
           "gridcolor": "white",
           "linecolor": "white",
           "ticks": "",
           "title": {
            "standoff": 15
           },
           "zerolinecolor": "white",
           "zerolinewidth": 2
          }
         }
        }
       }
      }
     },
     "metadata": {},
     "output_type": "display_data"
    }
   ],
   "source": [
    "px.treemap(rushing_df, path=['Team'], values='Rush Yds', color='TD', hover_data=['Att'])"
   ]
  },
  {
   "cell_type": "code",
   "execution_count": 35,
   "metadata": {},
   "outputs": [
    {
     "data": {
      "application/vnd.plotly.v1+json": {
       "config": {
        "plotlyServerURL": "https://plot.ly"
       },
       "data": [
        {
         "branchvalues": "total",
         "customdata": [
          [
           5,
           6,
           13
          ],
          [
           4,
           5,
           9
          ],
          [
           9,
           2,
           11
          ],
          [
           14,
           3,
           18
          ],
          [
           4,
           2,
           6
          ],
          [
           5,
           10,
           15
          ],
          [
           7,
           2,
           10
          ],
          [
           6,
           5,
           11
          ],
          [
           10,
           4,
           14
          ],
          [
           15,
           4,
           20
          ],
          [
           5,
           1,
           6
          ],
          [
           10,
           3,
           13
          ],
          [
           4,
           3,
           7
          ],
          [
           9,
           4,
           13
          ],
          [
           4,
           12,
           17
          ],
          [
           4,
           7,
           12
          ],
          [
           3,
           7,
           10
          ],
          [
           8,
           3,
           12
          ],
          [
           7,
           6,
           13
          ],
          [
           11,
           7,
           18
          ],
          [
           8,
           3,
           11
          ],
          [
           4,
           3,
           8
          ],
          [
           4,
           5,
           10
          ],
          [
           8,
           3,
           11
          ],
          [
           5,
           3,
           8
          ],
          [
           12,
           3,
           16
          ],
          [
           7,
           7,
           14
          ],
          [
           9,
           4,
           15
          ],
          [
           2,
           4,
           7
          ],
          [
           5,
           3,
           8
          ],
          [
           6,
           6,
           12
          ],
          [
           7,
           6,
           13
          ]
         ],
         "domain": {
          "x": [
           0,
           1
          ],
          "y": [
           0,
           1
          ]
         },
         "hovertemplate": "labels=%{label}<br>Tot TD_sum=%{value}<br>parent=%{parent}<br>id=%{id}<br>Rec TD=%{customdata[0]}<br>Rsh TD=%{customdata[1]}<br>Tot TD=%{color}<extra></extra>",
         "ids": [
          "49ers49ers",
          "BearsBears",
          "BengalsBengals",
          "BillsBills",
          "BroncosBroncos",
          "BrownsBrowns",
          "BuccaneersBuccaneers",
          "CardinalsCardinals",
          "ChargersChargers",
          "ChiefsChiefs",
          "ColtsColts",
          "CommandersCommanders",
          "CowboysCowboys",
          "DolphinsDolphins",
          "EaglesEagles",
          "FalconsFalcons",
          "GiantsGiants",
          "JaguarsJaguars",
          "JetsJets",
          "LionsLions",
          "PackersPackers",
          "PanthersPanthers",
          "PatriotsPatriots",
          "RaidersRaiders",
          "RamsRams",
          "RavensRavens",
          "SaintsSaints",
          "SeahawksSeahawks",
          "SteelersSteelers",
          "TexansTexans",
          "TitansTitans",
          "VikingsVikings"
         ],
         "labels": [
          "49ers49ers",
          "BearsBears",
          "BengalsBengals",
          "BillsBills",
          "BroncosBroncos",
          "BrownsBrowns",
          "BuccaneersBuccaneers",
          "CardinalsCardinals",
          "ChargersChargers",
          "ChiefsChiefs",
          "ColtsColts",
          "CommandersCommanders",
          "CowboysCowboys",
          "DolphinsDolphins",
          "EaglesEagles",
          "FalconsFalcons",
          "GiantsGiants",
          "JaguarsJaguars",
          "JetsJets",
          "LionsLions",
          "PackersPackers",
          "PanthersPanthers",
          "PatriotsPatriots",
          "RaidersRaiders",
          "RamsRams",
          "RavensRavens",
          "SaintsSaints",
          "SeahawksSeahawks",
          "SteelersSteelers",
          "TexansTexans",
          "TitansTitans",
          "VikingsVikings"
         ],
         "marker": {
          "coloraxis": "coloraxis",
          "colors": [
           13,
           9,
           11,
           18,
           6,
           15,
           10,
           11,
           14,
           20,
           6,
           13,
           7,
           13,
           17,
           12,
           10,
           12,
           13,
           18,
           11,
           8,
           10,
           11,
           8,
           16,
           14,
           15,
           7,
           8,
           12,
           13
          ]
         },
         "name": "",
         "parents": [
          "",
          "",
          "",
          "",
          "",
          "",
          "",
          "",
          "",
          "",
          "",
          "",
          "",
          "",
          "",
          "",
          "",
          "",
          "",
          "",
          "",
          "",
          "",
          "",
          "",
          "",
          "",
          "",
          "",
          "",
          "",
          ""
         ],
         "type": "treemap",
         "values": [
          13,
          9,
          11,
          18,
          6,
          15,
          10,
          11,
          14,
          20,
          6,
          13,
          7,
          13,
          17,
          12,
          10,
          12,
          13,
          18,
          11,
          8,
          10,
          11,
          8,
          16,
          14,
          15,
          7,
          8,
          12,
          13
         ]
        }
       ],
       "layout": {
        "coloraxis": {
         "colorbar": {
          "title": {
           "text": "Tot TD"
          }
         },
         "colorscale": [
          [
           0,
           "#0d0887"
          ],
          [
           0.1111111111111111,
           "#46039f"
          ],
          [
           0.2222222222222222,
           "#7201a8"
          ],
          [
           0.3333333333333333,
           "#9c179e"
          ],
          [
           0.4444444444444444,
           "#bd3786"
          ],
          [
           0.5555555555555556,
           "#d8576b"
          ],
          [
           0.6666666666666666,
           "#ed7953"
          ],
          [
           0.7777777777777778,
           "#fb9f3a"
          ],
          [
           0.8888888888888888,
           "#fdca26"
          ],
          [
           1,
           "#f0f921"
          ]
         ]
        },
        "legend": {
         "tracegroupgap": 0
        },
        "margin": {
         "t": 60
        },
        "template": {
         "data": {
          "bar": [
           {
            "error_x": {
             "color": "#2a3f5f"
            },
            "error_y": {
             "color": "#2a3f5f"
            },
            "marker": {
             "line": {
              "color": "#E5ECF6",
              "width": 0.5
             },
             "pattern": {
              "fillmode": "overlay",
              "size": 10,
              "solidity": 0.2
             }
            },
            "type": "bar"
           }
          ],
          "barpolar": [
           {
            "marker": {
             "line": {
              "color": "#E5ECF6",
              "width": 0.5
             },
             "pattern": {
              "fillmode": "overlay",
              "size": 10,
              "solidity": 0.2
             }
            },
            "type": "barpolar"
           }
          ],
          "carpet": [
           {
            "aaxis": {
             "endlinecolor": "#2a3f5f",
             "gridcolor": "white",
             "linecolor": "white",
             "minorgridcolor": "white",
             "startlinecolor": "#2a3f5f"
            },
            "baxis": {
             "endlinecolor": "#2a3f5f",
             "gridcolor": "white",
             "linecolor": "white",
             "minorgridcolor": "white",
             "startlinecolor": "#2a3f5f"
            },
            "type": "carpet"
           }
          ],
          "choropleth": [
           {
            "colorbar": {
             "outlinewidth": 0,
             "ticks": ""
            },
            "type": "choropleth"
           }
          ],
          "contour": [
           {
            "colorbar": {
             "outlinewidth": 0,
             "ticks": ""
            },
            "colorscale": [
             [
              0,
              "#0d0887"
             ],
             [
              0.1111111111111111,
              "#46039f"
             ],
             [
              0.2222222222222222,
              "#7201a8"
             ],
             [
              0.3333333333333333,
              "#9c179e"
             ],
             [
              0.4444444444444444,
              "#bd3786"
             ],
             [
              0.5555555555555556,
              "#d8576b"
             ],
             [
              0.6666666666666666,
              "#ed7953"
             ],
             [
              0.7777777777777778,
              "#fb9f3a"
             ],
             [
              0.8888888888888888,
              "#fdca26"
             ],
             [
              1,
              "#f0f921"
             ]
            ],
            "type": "contour"
           }
          ],
          "contourcarpet": [
           {
            "colorbar": {
             "outlinewidth": 0,
             "ticks": ""
            },
            "type": "contourcarpet"
           }
          ],
          "heatmap": [
           {
            "colorbar": {
             "outlinewidth": 0,
             "ticks": ""
            },
            "colorscale": [
             [
              0,
              "#0d0887"
             ],
             [
              0.1111111111111111,
              "#46039f"
             ],
             [
              0.2222222222222222,
              "#7201a8"
             ],
             [
              0.3333333333333333,
              "#9c179e"
             ],
             [
              0.4444444444444444,
              "#bd3786"
             ],
             [
              0.5555555555555556,
              "#d8576b"
             ],
             [
              0.6666666666666666,
              "#ed7953"
             ],
             [
              0.7777777777777778,
              "#fb9f3a"
             ],
             [
              0.8888888888888888,
              "#fdca26"
             ],
             [
              1,
              "#f0f921"
             ]
            ],
            "type": "heatmap"
           }
          ],
          "heatmapgl": [
           {
            "colorbar": {
             "outlinewidth": 0,
             "ticks": ""
            },
            "colorscale": [
             [
              0,
              "#0d0887"
             ],
             [
              0.1111111111111111,
              "#46039f"
             ],
             [
              0.2222222222222222,
              "#7201a8"
             ],
             [
              0.3333333333333333,
              "#9c179e"
             ],
             [
              0.4444444444444444,
              "#bd3786"
             ],
             [
              0.5555555555555556,
              "#d8576b"
             ],
             [
              0.6666666666666666,
              "#ed7953"
             ],
             [
              0.7777777777777778,
              "#fb9f3a"
             ],
             [
              0.8888888888888888,
              "#fdca26"
             ],
             [
              1,
              "#f0f921"
             ]
            ],
            "type": "heatmapgl"
           }
          ],
          "histogram": [
           {
            "marker": {
             "pattern": {
              "fillmode": "overlay",
              "size": 10,
              "solidity": 0.2
             }
            },
            "type": "histogram"
           }
          ],
          "histogram2d": [
           {
            "colorbar": {
             "outlinewidth": 0,
             "ticks": ""
            },
            "colorscale": [
             [
              0,
              "#0d0887"
             ],
             [
              0.1111111111111111,
              "#46039f"
             ],
             [
              0.2222222222222222,
              "#7201a8"
             ],
             [
              0.3333333333333333,
              "#9c179e"
             ],
             [
              0.4444444444444444,
              "#bd3786"
             ],
             [
              0.5555555555555556,
              "#d8576b"
             ],
             [
              0.6666666666666666,
              "#ed7953"
             ],
             [
              0.7777777777777778,
              "#fb9f3a"
             ],
             [
              0.8888888888888888,
              "#fdca26"
             ],
             [
              1,
              "#f0f921"
             ]
            ],
            "type": "histogram2d"
           }
          ],
          "histogram2dcontour": [
           {
            "colorbar": {
             "outlinewidth": 0,
             "ticks": ""
            },
            "colorscale": [
             [
              0,
              "#0d0887"
             ],
             [
              0.1111111111111111,
              "#46039f"
             ],
             [
              0.2222222222222222,
              "#7201a8"
             ],
             [
              0.3333333333333333,
              "#9c179e"
             ],
             [
              0.4444444444444444,
              "#bd3786"
             ],
             [
              0.5555555555555556,
              "#d8576b"
             ],
             [
              0.6666666666666666,
              "#ed7953"
             ],
             [
              0.7777777777777778,
              "#fb9f3a"
             ],
             [
              0.8888888888888888,
              "#fdca26"
             ],
             [
              1,
              "#f0f921"
             ]
            ],
            "type": "histogram2dcontour"
           }
          ],
          "mesh3d": [
           {
            "colorbar": {
             "outlinewidth": 0,
             "ticks": ""
            },
            "type": "mesh3d"
           }
          ],
          "parcoords": [
           {
            "line": {
             "colorbar": {
              "outlinewidth": 0,
              "ticks": ""
             }
            },
            "type": "parcoords"
           }
          ],
          "pie": [
           {
            "automargin": true,
            "type": "pie"
           }
          ],
          "scatter": [
           {
            "fillpattern": {
             "fillmode": "overlay",
             "size": 10,
             "solidity": 0.2
            },
            "type": "scatter"
           }
          ],
          "scatter3d": [
           {
            "line": {
             "colorbar": {
              "outlinewidth": 0,
              "ticks": ""
             }
            },
            "marker": {
             "colorbar": {
              "outlinewidth": 0,
              "ticks": ""
             }
            },
            "type": "scatter3d"
           }
          ],
          "scattercarpet": [
           {
            "marker": {
             "colorbar": {
              "outlinewidth": 0,
              "ticks": ""
             }
            },
            "type": "scattercarpet"
           }
          ],
          "scattergeo": [
           {
            "marker": {
             "colorbar": {
              "outlinewidth": 0,
              "ticks": ""
             }
            },
            "type": "scattergeo"
           }
          ],
          "scattergl": [
           {
            "marker": {
             "colorbar": {
              "outlinewidth": 0,
              "ticks": ""
             }
            },
            "type": "scattergl"
           }
          ],
          "scattermapbox": [
           {
            "marker": {
             "colorbar": {
              "outlinewidth": 0,
              "ticks": ""
             }
            },
            "type": "scattermapbox"
           }
          ],
          "scatterpolar": [
           {
            "marker": {
             "colorbar": {
              "outlinewidth": 0,
              "ticks": ""
             }
            },
            "type": "scatterpolar"
           }
          ],
          "scatterpolargl": [
           {
            "marker": {
             "colorbar": {
              "outlinewidth": 0,
              "ticks": ""
             }
            },
            "type": "scatterpolargl"
           }
          ],
          "scatterternary": [
           {
            "marker": {
             "colorbar": {
              "outlinewidth": 0,
              "ticks": ""
             }
            },
            "type": "scatterternary"
           }
          ],
          "surface": [
           {
            "colorbar": {
             "outlinewidth": 0,
             "ticks": ""
            },
            "colorscale": [
             [
              0,
              "#0d0887"
             ],
             [
              0.1111111111111111,
              "#46039f"
             ],
             [
              0.2222222222222222,
              "#7201a8"
             ],
             [
              0.3333333333333333,
              "#9c179e"
             ],
             [
              0.4444444444444444,
              "#bd3786"
             ],
             [
              0.5555555555555556,
              "#d8576b"
             ],
             [
              0.6666666666666666,
              "#ed7953"
             ],
             [
              0.7777777777777778,
              "#fb9f3a"
             ],
             [
              0.8888888888888888,
              "#fdca26"
             ],
             [
              1,
              "#f0f921"
             ]
            ],
            "type": "surface"
           }
          ],
          "table": [
           {
            "cells": {
             "fill": {
              "color": "#EBF0F8"
             },
             "line": {
              "color": "white"
             }
            },
            "header": {
             "fill": {
              "color": "#C8D4E3"
             },
             "line": {
              "color": "white"
             }
            },
            "type": "table"
           }
          ]
         },
         "layout": {
          "annotationdefaults": {
           "arrowcolor": "#2a3f5f",
           "arrowhead": 0,
           "arrowwidth": 1
          },
          "autotypenumbers": "strict",
          "coloraxis": {
           "colorbar": {
            "outlinewidth": 0,
            "ticks": ""
           }
          },
          "colorscale": {
           "diverging": [
            [
             0,
             "#8e0152"
            ],
            [
             0.1,
             "#c51b7d"
            ],
            [
             0.2,
             "#de77ae"
            ],
            [
             0.3,
             "#f1b6da"
            ],
            [
             0.4,
             "#fde0ef"
            ],
            [
             0.5,
             "#f7f7f7"
            ],
            [
             0.6,
             "#e6f5d0"
            ],
            [
             0.7,
             "#b8e186"
            ],
            [
             0.8,
             "#7fbc41"
            ],
            [
             0.9,
             "#4d9221"
            ],
            [
             1,
             "#276419"
            ]
           ],
           "sequential": [
            [
             0,
             "#0d0887"
            ],
            [
             0.1111111111111111,
             "#46039f"
            ],
            [
             0.2222222222222222,
             "#7201a8"
            ],
            [
             0.3333333333333333,
             "#9c179e"
            ],
            [
             0.4444444444444444,
             "#bd3786"
            ],
            [
             0.5555555555555556,
             "#d8576b"
            ],
            [
             0.6666666666666666,
             "#ed7953"
            ],
            [
             0.7777777777777778,
             "#fb9f3a"
            ],
            [
             0.8888888888888888,
             "#fdca26"
            ],
            [
             1,
             "#f0f921"
            ]
           ],
           "sequentialminus": [
            [
             0,
             "#0d0887"
            ],
            [
             0.1111111111111111,
             "#46039f"
            ],
            [
             0.2222222222222222,
             "#7201a8"
            ],
            [
             0.3333333333333333,
             "#9c179e"
            ],
            [
             0.4444444444444444,
             "#bd3786"
            ],
            [
             0.5555555555555556,
             "#d8576b"
            ],
            [
             0.6666666666666666,
             "#ed7953"
            ],
            [
             0.7777777777777778,
             "#fb9f3a"
            ],
            [
             0.8888888888888888,
             "#fdca26"
            ],
            [
             1,
             "#f0f921"
            ]
           ]
          },
          "colorway": [
           "#636efa",
           "#EF553B",
           "#00cc96",
           "#ab63fa",
           "#FFA15A",
           "#19d3f3",
           "#FF6692",
           "#B6E880",
           "#FF97FF",
           "#FECB52"
          ],
          "font": {
           "color": "#2a3f5f"
          },
          "geo": {
           "bgcolor": "white",
           "lakecolor": "white",
           "landcolor": "#E5ECF6",
           "showlakes": true,
           "showland": true,
           "subunitcolor": "white"
          },
          "hoverlabel": {
           "align": "left"
          },
          "hovermode": "closest",
          "mapbox": {
           "style": "light"
          },
          "paper_bgcolor": "white",
          "plot_bgcolor": "#E5ECF6",
          "polar": {
           "angularaxis": {
            "gridcolor": "white",
            "linecolor": "white",
            "ticks": ""
           },
           "bgcolor": "#E5ECF6",
           "radialaxis": {
            "gridcolor": "white",
            "linecolor": "white",
            "ticks": ""
           }
          },
          "scene": {
           "xaxis": {
            "backgroundcolor": "#E5ECF6",
            "gridcolor": "white",
            "gridwidth": 2,
            "linecolor": "white",
            "showbackground": true,
            "ticks": "",
            "zerolinecolor": "white"
           },
           "yaxis": {
            "backgroundcolor": "#E5ECF6",
            "gridcolor": "white",
            "gridwidth": 2,
            "linecolor": "white",
            "showbackground": true,
            "ticks": "",
            "zerolinecolor": "white"
           },
           "zaxis": {
            "backgroundcolor": "#E5ECF6",
            "gridcolor": "white",
            "gridwidth": 2,
            "linecolor": "white",
            "showbackground": true,
            "ticks": "",
            "zerolinecolor": "white"
           }
          },
          "shapedefaults": {
           "line": {
            "color": "#2a3f5f"
           }
          },
          "ternary": {
           "aaxis": {
            "gridcolor": "white",
            "linecolor": "white",
            "ticks": ""
           },
           "baxis": {
            "gridcolor": "white",
            "linecolor": "white",
            "ticks": ""
           },
           "bgcolor": "#E5ECF6",
           "caxis": {
            "gridcolor": "white",
            "linecolor": "white",
            "ticks": ""
           }
          },
          "title": {
           "x": 0.05
          },
          "xaxis": {
           "automargin": true,
           "gridcolor": "white",
           "linecolor": "white",
           "ticks": "",
           "title": {
            "standoff": 15
           },
           "zerolinecolor": "white",
           "zerolinewidth": 2
          },
          "yaxis": {
           "automargin": true,
           "gridcolor": "white",
           "linecolor": "white",
           "ticks": "",
           "title": {
            "standoff": 15
           },
           "zerolinecolor": "white",
           "zerolinewidth": 2
          }
         }
        }
       }
      }
     },
     "metadata": {},
     "output_type": "display_data"
    }
   ],
   "source": [
    "px.treemap(scoring_df, path=['Team'], values='Tot TD', color='Tot TD', hover_data=['Rec TD', 'Rsh TD'])"
   ]
  },
  {
   "cell_type": "code",
   "execution_count": 38,
   "metadata": {},
   "outputs": [
    {
     "data": {
      "application/vnd.plotly.v1+json": {
       "config": {
        "plotlyServerURL": "https://plot.ly"
       },
       "data": [
        {
         "alignmentgroup": "True",
         "customdata": [
          [
           232
          ],
          [
           219
          ],
          [
           214
          ],
          [
           207
          ],
          [
           206
          ],
          [
           200
          ],
          [
           200
          ],
          [
           195
          ],
          [
           194
          ],
          [
           192
          ],
          [
           190
          ],
          [
           187
          ],
          [
           185
          ],
          [
           181
          ],
          [
           181
          ],
          [
           174
          ],
          [
           173
          ],
          [
           170
          ],
          [
           168
          ],
          [
           166
          ],
          [
           161
          ],
          [
           159
          ],
          [
           159
          ],
          [
           158
          ],
          [
           149
          ],
          [
           147
          ],
          [
           139
          ],
          [
           138
          ],
          [
           135
          ],
          [
           130
          ],
          [
           123
          ],
          [
           115
          ]
         ],
         "hovertemplate": "Team=%{x}<br>Pass Yds=%{y}<br>Att=%{customdata[0]}<br>TD=%{marker.color}<extra></extra>",
         "legendgroup": "",
         "marker": {
          "color": [
           10,
           6,
           7,
           7,
           14,
           7,
           10,
           5,
           5,
           9,
           15,
           11,
           8,
           8,
           2,
           9,
           8,
           4,
           7,
           5,
           5,
           4,
           4,
           9,
           12,
           4,
           4,
           5,
           3,
           6,
           4,
           4
          ],
          "coloraxis": "coloraxis",
          "pattern": {
           "shape": ""
          }
         },
         "name": "",
         "offsetgroup": "",
         "orientation": "v",
         "showlegend": false,
         "textposition": "auto",
         "type": "bar",
         "x": [
          "CommandersCommanders",
          "CardinalsCardinals",
          "JetsJets",
          "BuccaneersBuccaneers",
          "BillsBills",
          "VikingsVikings",
          "ChargersChargers",
          "ColtsColts",
          "RamsRams",
          "BengalsBengals",
          "ChiefsChiefs",
          "LionsLions",
          "RaidersRaiders",
          "JaguarsJaguars",
          "SteelersSteelers",
          "DolphinsDolphins",
          "PackersPackers",
          "BroncosBroncos",
          "SaintsSaints",
          "TexansTexans",
          "BrownsBrowns",
          "PanthersPanthers",
          "EaglesEagles",
          "SeahawksSeahawks",
          "RavensRavens",
          "CowboysCowboys",
          "PatriotsPatriots",
          "49ers49ers",
          "GiantsGiants",
          "TitansTitans",
          "FalconsFalcons",
          "BearsBears"
         ],
         "xaxis": "x",
         "y": [
          1489,
          1253,
          1382,
          1409,
          1659,
          1363,
          1478,
          1376,
          1335,
          1339,
          1398,
          1361,
          1283,
          1232,
          1100,
          1394,
          1222,
          1254,
          1303,
          1048,
          1060,
          1022,
          1359,
          1305,
          1067,
          973,
          1110,
          1051,
          859,
          971,
          926,
          869
         ],
         "yaxis": "y"
        }
       ],
       "layout": {
        "barmode": "relative",
        "coloraxis": {
         "colorbar": {
          "title": {
           "text": "TD"
          }
         },
         "colorscale": [
          [
           0,
           "#0d0887"
          ],
          [
           0.1111111111111111,
           "#46039f"
          ],
          [
           0.2222222222222222,
           "#7201a8"
          ],
          [
           0.3333333333333333,
           "#9c179e"
          ],
          [
           0.4444444444444444,
           "#bd3786"
          ],
          [
           0.5555555555555556,
           "#d8576b"
          ],
          [
           0.6666666666666666,
           "#ed7953"
          ],
          [
           0.7777777777777778,
           "#fb9f3a"
          ],
          [
           0.8888888888888888,
           "#fdca26"
          ],
          [
           1,
           "#f0f921"
          ]
         ]
        },
        "legend": {
         "tracegroupgap": 0
        },
        "margin": {
         "t": 60
        },
        "template": {
         "data": {
          "bar": [
           {
            "error_x": {
             "color": "#2a3f5f"
            },
            "error_y": {
             "color": "#2a3f5f"
            },
            "marker": {
             "line": {
              "color": "#E5ECF6",
              "width": 0.5
             },
             "pattern": {
              "fillmode": "overlay",
              "size": 10,
              "solidity": 0.2
             }
            },
            "type": "bar"
           }
          ],
          "barpolar": [
           {
            "marker": {
             "line": {
              "color": "#E5ECF6",
              "width": 0.5
             },
             "pattern": {
              "fillmode": "overlay",
              "size": 10,
              "solidity": 0.2
             }
            },
            "type": "barpolar"
           }
          ],
          "carpet": [
           {
            "aaxis": {
             "endlinecolor": "#2a3f5f",
             "gridcolor": "white",
             "linecolor": "white",
             "minorgridcolor": "white",
             "startlinecolor": "#2a3f5f"
            },
            "baxis": {
             "endlinecolor": "#2a3f5f",
             "gridcolor": "white",
             "linecolor": "white",
             "minorgridcolor": "white",
             "startlinecolor": "#2a3f5f"
            },
            "type": "carpet"
           }
          ],
          "choropleth": [
           {
            "colorbar": {
             "outlinewidth": 0,
             "ticks": ""
            },
            "type": "choropleth"
           }
          ],
          "contour": [
           {
            "colorbar": {
             "outlinewidth": 0,
             "ticks": ""
            },
            "colorscale": [
             [
              0,
              "#0d0887"
             ],
             [
              0.1111111111111111,
              "#46039f"
             ],
             [
              0.2222222222222222,
              "#7201a8"
             ],
             [
              0.3333333333333333,
              "#9c179e"
             ],
             [
              0.4444444444444444,
              "#bd3786"
             ],
             [
              0.5555555555555556,
              "#d8576b"
             ],
             [
              0.6666666666666666,
              "#ed7953"
             ],
             [
              0.7777777777777778,
              "#fb9f3a"
             ],
             [
              0.8888888888888888,
              "#fdca26"
             ],
             [
              1,
              "#f0f921"
             ]
            ],
            "type": "contour"
           }
          ],
          "contourcarpet": [
           {
            "colorbar": {
             "outlinewidth": 0,
             "ticks": ""
            },
            "type": "contourcarpet"
           }
          ],
          "heatmap": [
           {
            "colorbar": {
             "outlinewidth": 0,
             "ticks": ""
            },
            "colorscale": [
             [
              0,
              "#0d0887"
             ],
             [
              0.1111111111111111,
              "#46039f"
             ],
             [
              0.2222222222222222,
              "#7201a8"
             ],
             [
              0.3333333333333333,
              "#9c179e"
             ],
             [
              0.4444444444444444,
              "#bd3786"
             ],
             [
              0.5555555555555556,
              "#d8576b"
             ],
             [
              0.6666666666666666,
              "#ed7953"
             ],
             [
              0.7777777777777778,
              "#fb9f3a"
             ],
             [
              0.8888888888888888,
              "#fdca26"
             ],
             [
              1,
              "#f0f921"
             ]
            ],
            "type": "heatmap"
           }
          ],
          "heatmapgl": [
           {
            "colorbar": {
             "outlinewidth": 0,
             "ticks": ""
            },
            "colorscale": [
             [
              0,
              "#0d0887"
             ],
             [
              0.1111111111111111,
              "#46039f"
             ],
             [
              0.2222222222222222,
              "#7201a8"
             ],
             [
              0.3333333333333333,
              "#9c179e"
             ],
             [
              0.4444444444444444,
              "#bd3786"
             ],
             [
              0.5555555555555556,
              "#d8576b"
             ],
             [
              0.6666666666666666,
              "#ed7953"
             ],
             [
              0.7777777777777778,
              "#fb9f3a"
             ],
             [
              0.8888888888888888,
              "#fdca26"
             ],
             [
              1,
              "#f0f921"
             ]
            ],
            "type": "heatmapgl"
           }
          ],
          "histogram": [
           {
            "marker": {
             "pattern": {
              "fillmode": "overlay",
              "size": 10,
              "solidity": 0.2
             }
            },
            "type": "histogram"
           }
          ],
          "histogram2d": [
           {
            "colorbar": {
             "outlinewidth": 0,
             "ticks": ""
            },
            "colorscale": [
             [
              0,
              "#0d0887"
             ],
             [
              0.1111111111111111,
              "#46039f"
             ],
             [
              0.2222222222222222,
              "#7201a8"
             ],
             [
              0.3333333333333333,
              "#9c179e"
             ],
             [
              0.4444444444444444,
              "#bd3786"
             ],
             [
              0.5555555555555556,
              "#d8576b"
             ],
             [
              0.6666666666666666,
              "#ed7953"
             ],
             [
              0.7777777777777778,
              "#fb9f3a"
             ],
             [
              0.8888888888888888,
              "#fdca26"
             ],
             [
              1,
              "#f0f921"
             ]
            ],
            "type": "histogram2d"
           }
          ],
          "histogram2dcontour": [
           {
            "colorbar": {
             "outlinewidth": 0,
             "ticks": ""
            },
            "colorscale": [
             [
              0,
              "#0d0887"
             ],
             [
              0.1111111111111111,
              "#46039f"
             ],
             [
              0.2222222222222222,
              "#7201a8"
             ],
             [
              0.3333333333333333,
              "#9c179e"
             ],
             [
              0.4444444444444444,
              "#bd3786"
             ],
             [
              0.5555555555555556,
              "#d8576b"
             ],
             [
              0.6666666666666666,
              "#ed7953"
             ],
             [
              0.7777777777777778,
              "#fb9f3a"
             ],
             [
              0.8888888888888888,
              "#fdca26"
             ],
             [
              1,
              "#f0f921"
             ]
            ],
            "type": "histogram2dcontour"
           }
          ],
          "mesh3d": [
           {
            "colorbar": {
             "outlinewidth": 0,
             "ticks": ""
            },
            "type": "mesh3d"
           }
          ],
          "parcoords": [
           {
            "line": {
             "colorbar": {
              "outlinewidth": 0,
              "ticks": ""
             }
            },
            "type": "parcoords"
           }
          ],
          "pie": [
           {
            "automargin": true,
            "type": "pie"
           }
          ],
          "scatter": [
           {
            "fillpattern": {
             "fillmode": "overlay",
             "size": 10,
             "solidity": 0.2
            },
            "type": "scatter"
           }
          ],
          "scatter3d": [
           {
            "line": {
             "colorbar": {
              "outlinewidth": 0,
              "ticks": ""
             }
            },
            "marker": {
             "colorbar": {
              "outlinewidth": 0,
              "ticks": ""
             }
            },
            "type": "scatter3d"
           }
          ],
          "scattercarpet": [
           {
            "marker": {
             "colorbar": {
              "outlinewidth": 0,
              "ticks": ""
             }
            },
            "type": "scattercarpet"
           }
          ],
          "scattergeo": [
           {
            "marker": {
             "colorbar": {
              "outlinewidth": 0,
              "ticks": ""
             }
            },
            "type": "scattergeo"
           }
          ],
          "scattergl": [
           {
            "marker": {
             "colorbar": {
              "outlinewidth": 0,
              "ticks": ""
             }
            },
            "type": "scattergl"
           }
          ],
          "scattermapbox": [
           {
            "marker": {
             "colorbar": {
              "outlinewidth": 0,
              "ticks": ""
             }
            },
            "type": "scattermapbox"
           }
          ],
          "scatterpolar": [
           {
            "marker": {
             "colorbar": {
              "outlinewidth": 0,
              "ticks": ""
             }
            },
            "type": "scatterpolar"
           }
          ],
          "scatterpolargl": [
           {
            "marker": {
             "colorbar": {
              "outlinewidth": 0,
              "ticks": ""
             }
            },
            "type": "scatterpolargl"
           }
          ],
          "scatterternary": [
           {
            "marker": {
             "colorbar": {
              "outlinewidth": 0,
              "ticks": ""
             }
            },
            "type": "scatterternary"
           }
          ],
          "surface": [
           {
            "colorbar": {
             "outlinewidth": 0,
             "ticks": ""
            },
            "colorscale": [
             [
              0,
              "#0d0887"
             ],
             [
              0.1111111111111111,
              "#46039f"
             ],
             [
              0.2222222222222222,
              "#7201a8"
             ],
             [
              0.3333333333333333,
              "#9c179e"
             ],
             [
              0.4444444444444444,
              "#bd3786"
             ],
             [
              0.5555555555555556,
              "#d8576b"
             ],
             [
              0.6666666666666666,
              "#ed7953"
             ],
             [
              0.7777777777777778,
              "#fb9f3a"
             ],
             [
              0.8888888888888888,
              "#fdca26"
             ],
             [
              1,
              "#f0f921"
             ]
            ],
            "type": "surface"
           }
          ],
          "table": [
           {
            "cells": {
             "fill": {
              "color": "#EBF0F8"
             },
             "line": {
              "color": "white"
             }
            },
            "header": {
             "fill": {
              "color": "#C8D4E3"
             },
             "line": {
              "color": "white"
             }
            },
            "type": "table"
           }
          ]
         },
         "layout": {
          "annotationdefaults": {
           "arrowcolor": "#2a3f5f",
           "arrowhead": 0,
           "arrowwidth": 1
          },
          "autotypenumbers": "strict",
          "coloraxis": {
           "colorbar": {
            "outlinewidth": 0,
            "ticks": ""
           }
          },
          "colorscale": {
           "diverging": [
            [
             0,
             "#8e0152"
            ],
            [
             0.1,
             "#c51b7d"
            ],
            [
             0.2,
             "#de77ae"
            ],
            [
             0.3,
             "#f1b6da"
            ],
            [
             0.4,
             "#fde0ef"
            ],
            [
             0.5,
             "#f7f7f7"
            ],
            [
             0.6,
             "#e6f5d0"
            ],
            [
             0.7,
             "#b8e186"
            ],
            [
             0.8,
             "#7fbc41"
            ],
            [
             0.9,
             "#4d9221"
            ],
            [
             1,
             "#276419"
            ]
           ],
           "sequential": [
            [
             0,
             "#0d0887"
            ],
            [
             0.1111111111111111,
             "#46039f"
            ],
            [
             0.2222222222222222,
             "#7201a8"
            ],
            [
             0.3333333333333333,
             "#9c179e"
            ],
            [
             0.4444444444444444,
             "#bd3786"
            ],
            [
             0.5555555555555556,
             "#d8576b"
            ],
            [
             0.6666666666666666,
             "#ed7953"
            ],
            [
             0.7777777777777778,
             "#fb9f3a"
            ],
            [
             0.8888888888888888,
             "#fdca26"
            ],
            [
             1,
             "#f0f921"
            ]
           ],
           "sequentialminus": [
            [
             0,
             "#0d0887"
            ],
            [
             0.1111111111111111,
             "#46039f"
            ],
            [
             0.2222222222222222,
             "#7201a8"
            ],
            [
             0.3333333333333333,
             "#9c179e"
            ],
            [
             0.4444444444444444,
             "#bd3786"
            ],
            [
             0.5555555555555556,
             "#d8576b"
            ],
            [
             0.6666666666666666,
             "#ed7953"
            ],
            [
             0.7777777777777778,
             "#fb9f3a"
            ],
            [
             0.8888888888888888,
             "#fdca26"
            ],
            [
             1,
             "#f0f921"
            ]
           ]
          },
          "colorway": [
           "#636efa",
           "#EF553B",
           "#00cc96",
           "#ab63fa",
           "#FFA15A",
           "#19d3f3",
           "#FF6692",
           "#B6E880",
           "#FF97FF",
           "#FECB52"
          ],
          "font": {
           "color": "#2a3f5f"
          },
          "geo": {
           "bgcolor": "white",
           "lakecolor": "white",
           "landcolor": "#E5ECF6",
           "showlakes": true,
           "showland": true,
           "subunitcolor": "white"
          },
          "hoverlabel": {
           "align": "left"
          },
          "hovermode": "closest",
          "mapbox": {
           "style": "light"
          },
          "paper_bgcolor": "white",
          "plot_bgcolor": "#E5ECF6",
          "polar": {
           "angularaxis": {
            "gridcolor": "white",
            "linecolor": "white",
            "ticks": ""
           },
           "bgcolor": "#E5ECF6",
           "radialaxis": {
            "gridcolor": "white",
            "linecolor": "white",
            "ticks": ""
           }
          },
          "scene": {
           "xaxis": {
            "backgroundcolor": "#E5ECF6",
            "gridcolor": "white",
            "gridwidth": 2,
            "linecolor": "white",
            "showbackground": true,
            "ticks": "",
            "zerolinecolor": "white"
           },
           "yaxis": {
            "backgroundcolor": "#E5ECF6",
            "gridcolor": "white",
            "gridwidth": 2,
            "linecolor": "white",
            "showbackground": true,
            "ticks": "",
            "zerolinecolor": "white"
           },
           "zaxis": {
            "backgroundcolor": "#E5ECF6",
            "gridcolor": "white",
            "gridwidth": 2,
            "linecolor": "white",
            "showbackground": true,
            "ticks": "",
            "zerolinecolor": "white"
           }
          },
          "shapedefaults": {
           "line": {
            "color": "#2a3f5f"
           }
          },
          "ternary": {
           "aaxis": {
            "gridcolor": "white",
            "linecolor": "white",
            "ticks": ""
           },
           "baxis": {
            "gridcolor": "white",
            "linecolor": "white",
            "ticks": ""
           },
           "bgcolor": "#E5ECF6",
           "caxis": {
            "gridcolor": "white",
            "linecolor": "white",
            "ticks": ""
           }
          },
          "title": {
           "x": 0.05
          },
          "xaxis": {
           "automargin": true,
           "gridcolor": "white",
           "linecolor": "white",
           "ticks": "",
           "title": {
            "standoff": 15
           },
           "zerolinecolor": "white",
           "zerolinewidth": 2
          },
          "yaxis": {
           "automargin": true,
           "gridcolor": "white",
           "linecolor": "white",
           "ticks": "",
           "title": {
            "standoff": 15
           },
           "zerolinecolor": "white",
           "zerolinewidth": 2
          }
         }
        },
        "xaxis": {
         "anchor": "y",
         "categoryorder": "total descending",
         "domain": [
          0,
          1
         ],
         "title": {
          "text": "Team"
         }
        },
        "yaxis": {
         "anchor": "x",
         "domain": [
          0,
          1
         ],
         "title": {
          "text": "Pass Yds"
         }
        }
       }
      }
     },
     "metadata": {},
     "output_type": "display_data"
    }
   ],
   "source": [
    "fig = px.bar(passing_df, x='Team', y='Pass Yds', color='TD', hover_data=['Att']).update_xaxes(categoryorder=\"total descending\")\n",
    "fig.show()"
   ]
  }
 ],
 "metadata": {
  "kernelspec": {
   "display_name": "Python 3.9.1 ('env': venv)",
   "language": "python",
   "name": "python3"
  },
  "language_info": {
   "codemirror_mode": {
    "name": "ipython",
    "version": 3
   },
   "file_extension": ".py",
   "mimetype": "text/x-python",
   "name": "python",
   "nbconvert_exporter": "python",
   "pygments_lexer": "ipython3",
   "version": "3.9.1"
  },
  "orig_nbformat": 4,
  "vscode": {
   "interpreter": {
    "hash": "2b2dda87fb3e44dda843fd80acfd119264123654161c1dafb12f65aaac28dd1c"
   }
  }
 },
 "nbformat": 4,
 "nbformat_minor": 2
}
