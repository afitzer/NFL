{
 "cells": [
  {
   "cell_type": "code",
   "execution_count": 1,
   "metadata": {},
   "outputs": [],
   "source": [
    "import pandas as pd\n",
    "import plotly.express as px\n",
    "from datetime import date\n",
    "import sqlite3"
   ]
  },
  {
   "cell_type": "code",
   "execution_count": 2,
   "metadata": {},
   "outputs": [],
   "source": [
    "con = sqlite3.connect('nfl.db')"
   ]
  },
  {
   "cell_type": "code",
   "execution_count": 3,
   "metadata": {},
   "outputs": [],
   "source": [
    "passing_df = pd.read_sql_query('SELECT * from offensive_passing WHERE Date is \"10-05-22\"', con)\n",
    "receiving_df = pd.read_sql_query('SELECT * from offensive_receiving WHERE Date is \"10-05-22\"', con) \n",
    "rushing_df = pd.read_sql_query('SELECT * from offensive_rushing WHERE Date is \"10-05-22\"', con)\n",
    "scoring_df = pd.read_sql_query('SELECT * from offensive_scoring WHERE Date is \"10-05-22\"', con)\n",
    "passing_rushing_df = pd.read_sql_query(\"SELECT offensive_passing.Team, offensive_passing.`Pass Yds`, offensive_rushing.`Rush Yds`, offensive_scoring.`Tot TD` FROM ((offensive_rushing JOIN offensive_passing ON offensive_rushing.Team=offensive_passing.Team) JOIN offensive_scoring ON offensive_scoring.Team=offensive_passing.Team) WHERE offensive_passing.Date is '10-04-22' AND offensive_rushing.Date is '10-04-22' AND offensive_scoring.Date is '10-05-22' ORDER BY offensive_scoring.`Tot TD` DESC\", con)"
   ]
  },
  {
   "cell_type": "code",
   "execution_count": 4,
   "metadata": {},
   "outputs": [
    {
     "data": {
      "text/html": [
       "<div>\n",
       "<style scoped>\n",
       "    .dataframe tbody tr th:only-of-type {\n",
       "        vertical-align: middle;\n",
       "    }\n",
       "\n",
       "    .dataframe tbody tr th {\n",
       "        vertical-align: top;\n",
       "    }\n",
       "\n",
       "    .dataframe thead th {\n",
       "        text-align: right;\n",
       "    }\n",
       "</style>\n",
       "<table border=\"1\" class=\"dataframe\">\n",
       "  <thead>\n",
       "    <tr style=\"text-align: right;\">\n",
       "      <th></th>\n",
       "      <th>Team</th>\n",
       "      <th>Att</th>\n",
       "      <th>Cmp</th>\n",
       "      <th>Cmp %</th>\n",
       "      <th>Yds/Att</th>\n",
       "      <th>Pass Yds</th>\n",
       "      <th>TD</th>\n",
       "      <th>INT</th>\n",
       "      <th>Rate</th>\n",
       "      <th>1st</th>\n",
       "      <th>1st%</th>\n",
       "      <th>20+</th>\n",
       "      <th>40+</th>\n",
       "      <th>Lng</th>\n",
       "      <th>Sck</th>\n",
       "      <th>SckY</th>\n",
       "      <th>Date</th>\n",
       "    </tr>\n",
       "  </thead>\n",
       "  <tbody>\n",
       "    <tr>\n",
       "      <th>0</th>\n",
       "      <td>JetsJets</td>\n",
       "      <td>193</td>\n",
       "      <td>111</td>\n",
       "      <td>57.5</td>\n",
       "      <td>6.1</td>\n",
       "      <td>1172</td>\n",
       "      <td>7</td>\n",
       "      <td>5</td>\n",
       "      <td>76.6</td>\n",
       "      <td>59</td>\n",
       "      <td>30.6</td>\n",
       "      <td>11</td>\n",
       "      <td>1</td>\n",
       "      <td>66</td>\n",
       "      <td>10</td>\n",
       "      <td>64</td>\n",
       "      <td>10-05-22</td>\n",
       "    </tr>\n",
       "    <tr>\n",
       "      <th>1</th>\n",
       "      <td>CardinalsCardinals</td>\n",
       "      <td>177</td>\n",
       "      <td>115</td>\n",
       "      <td>65.0</td>\n",
       "      <td>5.7</td>\n",
       "      <td>1003</td>\n",
       "      <td>5</td>\n",
       "      <td>2</td>\n",
       "      <td>84.6</td>\n",
       "      <td>50</td>\n",
       "      <td>28.2</td>\n",
       "      <td>11</td>\n",
       "      <td>0</td>\n",
       "      <td>30</td>\n",
       "      <td>7</td>\n",
       "      <td>53</td>\n",
       "      <td>10-05-22</td>\n",
       "    </tr>\n",
       "    <tr>\n",
       "      <th>2</th>\n",
       "      <td>CommandersCommanders</td>\n",
       "      <td>172</td>\n",
       "      <td>107</td>\n",
       "      <td>62.2</td>\n",
       "      <td>6.0</td>\n",
       "      <td>1031</td>\n",
       "      <td>8</td>\n",
       "      <td>5</td>\n",
       "      <td>82.3</td>\n",
       "      <td>52</td>\n",
       "      <td>30.2</td>\n",
       "      <td>12</td>\n",
       "      <td>3</td>\n",
       "      <td>49T</td>\n",
       "      <td>17</td>\n",
       "      <td>110</td>\n",
       "      <td>10-05-22</td>\n",
       "    </tr>\n",
       "    <tr>\n",
       "      <th>3</th>\n",
       "      <td>BillsBills</td>\n",
       "      <td>170</td>\n",
       "      <td>113</td>\n",
       "      <td>66.5</td>\n",
       "      <td>7.2</td>\n",
       "      <td>1227</td>\n",
       "      <td>10</td>\n",
       "      <td>3</td>\n",
       "      <td>99.8</td>\n",
       "      <td>63</td>\n",
       "      <td>37.1</td>\n",
       "      <td>12</td>\n",
       "      <td>3</td>\n",
       "      <td>53T</td>\n",
       "      <td>8</td>\n",
       "      <td>39</td>\n",
       "      <td>10-05-22</td>\n",
       "    </tr>\n",
       "    <tr>\n",
       "      <th>4</th>\n",
       "      <td>ChargersChargers</td>\n",
       "      <td>166</td>\n",
       "      <td>111</td>\n",
       "      <td>66.9</td>\n",
       "      <td>7.5</td>\n",
       "      <td>1250</td>\n",
       "      <td>9</td>\n",
       "      <td>2</td>\n",
       "      <td>102.2</td>\n",
       "      <td>55</td>\n",
       "      <td>33.1</td>\n",
       "      <td>16</td>\n",
       "      <td>4</td>\n",
       "      <td>54</td>\n",
       "      <td>4</td>\n",
       "      <td>21</td>\n",
       "      <td>10-05-22</td>\n",
       "    </tr>\n",
       "  </tbody>\n",
       "</table>\n",
       "</div>"
      ],
      "text/plain": [
       "                   Team  Att  Cmp  Cmp %  Yds/Att  Pass Yds  TD  INT   Rate  \\\n",
       "0              JetsJets  193  111   57.5      6.1      1172   7    5   76.6   \n",
       "1    CardinalsCardinals  177  115   65.0      5.7      1003   5    2   84.6   \n",
       "2  CommandersCommanders  172  107   62.2      6.0      1031   8    5   82.3   \n",
       "3            BillsBills  170  113   66.5      7.2      1227  10    3   99.8   \n",
       "4      ChargersChargers  166  111   66.9      7.5      1250   9    2  102.2   \n",
       "\n",
       "   1st  1st%  20+  40+  Lng  Sck  SckY      Date  \n",
       "0   59  30.6   11    1   66   10    64  10-05-22  \n",
       "1   50  28.2   11    0   30    7    53  10-05-22  \n",
       "2   52  30.2   12    3  49T   17   110  10-05-22  \n",
       "3   63  37.1   12    3  53T    8    39  10-05-22  \n",
       "4   55  33.1   16    4   54    4    21  10-05-22  "
      ]
     },
     "execution_count": 4,
     "metadata": {},
     "output_type": "execute_result"
    }
   ],
   "source": [
    "passing_df.head(5)"
   ]
  },
  {
   "cell_type": "code",
   "execution_count": 5,
   "metadata": {},
   "outputs": [
    {
     "data": {
      "text/html": [
       "<div>\n",
       "<style scoped>\n",
       "    .dataframe tbody tr th:only-of-type {\n",
       "        vertical-align: middle;\n",
       "    }\n",
       "\n",
       "    .dataframe tbody tr th {\n",
       "        vertical-align: top;\n",
       "    }\n",
       "\n",
       "    .dataframe thead th {\n",
       "        text-align: right;\n",
       "    }\n",
       "</style>\n",
       "<table border=\"1\" class=\"dataframe\">\n",
       "  <thead>\n",
       "    <tr style=\"text-align: right;\">\n",
       "      <th></th>\n",
       "      <th>Team</th>\n",
       "      <th>Rec</th>\n",
       "      <th>Yds</th>\n",
       "      <th>Yds/Rec</th>\n",
       "      <th>TD</th>\n",
       "      <th>20+</th>\n",
       "      <th>40+</th>\n",
       "      <th>Lng</th>\n",
       "      <th>Rec 1st</th>\n",
       "      <th>Rec 1st%</th>\n",
       "      <th>Rec FUM</th>\n",
       "      <th>Date</th>\n",
       "    </tr>\n",
       "  </thead>\n",
       "  <tbody>\n",
       "    <tr>\n",
       "      <th>0</th>\n",
       "      <td>CardinalsCardinals</td>\n",
       "      <td>115</td>\n",
       "      <td>1003</td>\n",
       "      <td>8.7</td>\n",
       "      <td>5</td>\n",
       "      <td>11</td>\n",
       "      <td>0</td>\n",
       "      <td>30</td>\n",
       "      <td>50</td>\n",
       "      <td>43.5</td>\n",
       "      <td>0</td>\n",
       "      <td>10-05-22</td>\n",
       "    </tr>\n",
       "    <tr>\n",
       "      <th>1</th>\n",
       "      <td>BillsBills</td>\n",
       "      <td>113</td>\n",
       "      <td>1227</td>\n",
       "      <td>10.9</td>\n",
       "      <td>10</td>\n",
       "      <td>12</td>\n",
       "      <td>3</td>\n",
       "      <td>53T</td>\n",
       "      <td>63</td>\n",
       "      <td>55.8</td>\n",
       "      <td>0</td>\n",
       "      <td>10-05-22</td>\n",
       "    </tr>\n",
       "    <tr>\n",
       "      <th>2</th>\n",
       "      <td>JetsJets</td>\n",
       "      <td>111</td>\n",
       "      <td>1172</td>\n",
       "      <td>10.6</td>\n",
       "      <td>7</td>\n",
       "      <td>11</td>\n",
       "      <td>1</td>\n",
       "      <td>66</td>\n",
       "      <td>59</td>\n",
       "      <td>53.2</td>\n",
       "      <td>3</td>\n",
       "      <td>10-05-22</td>\n",
       "    </tr>\n",
       "    <tr>\n",
       "      <th>3</th>\n",
       "      <td>ChargersChargers</td>\n",
       "      <td>111</td>\n",
       "      <td>1250</td>\n",
       "      <td>11.3</td>\n",
       "      <td>9</td>\n",
       "      <td>16</td>\n",
       "      <td>4</td>\n",
       "      <td>54</td>\n",
       "      <td>55</td>\n",
       "      <td>49.6</td>\n",
       "      <td>1</td>\n",
       "      <td>10-05-22</td>\n",
       "    </tr>\n",
       "    <tr>\n",
       "      <th>4</th>\n",
       "      <td>CommandersCommanders</td>\n",
       "      <td>107</td>\n",
       "      <td>1031</td>\n",
       "      <td>9.6</td>\n",
       "      <td>8</td>\n",
       "      <td>12</td>\n",
       "      <td>3</td>\n",
       "      <td>49T</td>\n",
       "      <td>52</td>\n",
       "      <td>48.6</td>\n",
       "      <td>1</td>\n",
       "      <td>10-05-22</td>\n",
       "    </tr>\n",
       "  </tbody>\n",
       "</table>\n",
       "</div>"
      ],
      "text/plain": [
       "                   Team  Rec   Yds  Yds/Rec  TD  20+  40+  Lng  Rec 1st  \\\n",
       "0    CardinalsCardinals  115  1003      8.7   5   11    0   30       50   \n",
       "1            BillsBills  113  1227     10.9  10   12    3  53T       63   \n",
       "2              JetsJets  111  1172     10.6   7   11    1   66       59   \n",
       "3      ChargersChargers  111  1250     11.3   9   16    4   54       55   \n",
       "4  CommandersCommanders  107  1031      9.6   8   12    3  49T       52   \n",
       "\n",
       "   Rec 1st%  Rec FUM      Date  \n",
       "0      43.5        0  10-05-22  \n",
       "1      55.8        0  10-05-22  \n",
       "2      53.2        3  10-05-22  \n",
       "3      49.6        1  10-05-22  \n",
       "4      48.6        1  10-05-22  "
      ]
     },
     "execution_count": 5,
     "metadata": {},
     "output_type": "execute_result"
    }
   ],
   "source": [
    "receiving_df.head(5)"
   ]
  },
  {
   "cell_type": "code",
   "execution_count": 6,
   "metadata": {},
   "outputs": [
    {
     "data": {
      "text/html": [
       "<div>\n",
       "<style scoped>\n",
       "    .dataframe tbody tr th:only-of-type {\n",
       "        vertical-align: middle;\n",
       "    }\n",
       "\n",
       "    .dataframe tbody tr th {\n",
       "        vertical-align: top;\n",
       "    }\n",
       "\n",
       "    .dataframe thead th {\n",
       "        text-align: right;\n",
       "    }\n",
       "</style>\n",
       "<table border=\"1\" class=\"dataframe\">\n",
       "  <thead>\n",
       "    <tr style=\"text-align: right;\">\n",
       "      <th></th>\n",
       "      <th>Team</th>\n",
       "      <th>Att</th>\n",
       "      <th>Rush Yds</th>\n",
       "      <th>YPC</th>\n",
       "      <th>TD</th>\n",
       "      <th>20+</th>\n",
       "      <th>40+</th>\n",
       "      <th>Lng</th>\n",
       "      <th>Rush 1st</th>\n",
       "      <th>Rush 1st%</th>\n",
       "      <th>Rush FUM</th>\n",
       "      <th>Date</th>\n",
       "    </tr>\n",
       "  </thead>\n",
       "  <tbody>\n",
       "    <tr>\n",
       "      <th>0</th>\n",
       "      <td>EaglesEagles</td>\n",
       "      <td>153</td>\n",
       "      <td>661</td>\n",
       "      <td>4.3</td>\n",
       "      <td>10</td>\n",
       "      <td>4</td>\n",
       "      <td>0</td>\n",
       "      <td>35</td>\n",
       "      <td>40</td>\n",
       "      <td>26.1</td>\n",
       "      <td>2</td>\n",
       "      <td>10-05-22</td>\n",
       "    </tr>\n",
       "    <tr>\n",
       "      <th>1</th>\n",
       "      <td>BrownsBrowns</td>\n",
       "      <td>149</td>\n",
       "      <td>749</td>\n",
       "      <td>5.0</td>\n",
       "      <td>7</td>\n",
       "      <td>8</td>\n",
       "      <td>0</td>\n",
       "      <td>36T</td>\n",
       "      <td>46</td>\n",
       "      <td>30.9</td>\n",
       "      <td>0</td>\n",
       "      <td>10-05-22</td>\n",
       "    </tr>\n",
       "    <tr>\n",
       "      <th>2</th>\n",
       "      <td>BearsBears</td>\n",
       "      <td>136</td>\n",
       "      <td>709</td>\n",
       "      <td>5.2</td>\n",
       "      <td>4</td>\n",
       "      <td>5</td>\n",
       "      <td>2</td>\n",
       "      <td>52</td>\n",
       "      <td>34</td>\n",
       "      <td>25.0</td>\n",
       "      <td>2</td>\n",
       "      <td>10-05-22</td>\n",
       "    </tr>\n",
       "    <tr>\n",
       "      <th>3</th>\n",
       "      <td>GiantsGiants</td>\n",
       "      <td>134</td>\n",
       "      <td>770</td>\n",
       "      <td>5.8</td>\n",
       "      <td>4</td>\n",
       "      <td>5</td>\n",
       "      <td>1</td>\n",
       "      <td>68T</td>\n",
       "      <td>43</td>\n",
       "      <td>32.1</td>\n",
       "      <td>2</td>\n",
       "      <td>10-05-22</td>\n",
       "    </tr>\n",
       "    <tr>\n",
       "      <th>4</th>\n",
       "      <td>FalconsFalcons</td>\n",
       "      <td>131</td>\n",
       "      <td>672</td>\n",
       "      <td>5.1</td>\n",
       "      <td>6</td>\n",
       "      <td>3</td>\n",
       "      <td>2</td>\n",
       "      <td>42</td>\n",
       "      <td>36</td>\n",
       "      <td>27.5</td>\n",
       "      <td>3</td>\n",
       "      <td>10-05-22</td>\n",
       "    </tr>\n",
       "  </tbody>\n",
       "</table>\n",
       "</div>"
      ],
      "text/plain": [
       "             Team  Att  Rush Yds  YPC  TD  20+  40+  Lng  Rush 1st  Rush 1st%  \\\n",
       "0    EaglesEagles  153       661  4.3  10    4    0   35        40       26.1   \n",
       "1    BrownsBrowns  149       749  5.0   7    8    0  36T        46       30.9   \n",
       "2      BearsBears  136       709  5.2   4    5    2   52        34       25.0   \n",
       "3    GiantsGiants  134       770  5.8   4    5    1  68T        43       32.1   \n",
       "4  FalconsFalcons  131       672  5.1   6    3    2   42        36       27.5   \n",
       "\n",
       "   Rush FUM      Date  \n",
       "0         2  10-05-22  \n",
       "1         0  10-05-22  \n",
       "2         2  10-05-22  \n",
       "3         2  10-05-22  \n",
       "4         3  10-05-22  "
      ]
     },
     "execution_count": 6,
     "metadata": {},
     "output_type": "execute_result"
    }
   ],
   "source": [
    "rushing_df.head(5)"
   ]
  },
  {
   "cell_type": "code",
   "execution_count": 7,
   "metadata": {},
   "outputs": [
    {
     "data": {
      "text/html": [
       "<div>\n",
       "<style scoped>\n",
       "    .dataframe tbody tr th:only-of-type {\n",
       "        vertical-align: middle;\n",
       "    }\n",
       "\n",
       "    .dataframe tbody tr th {\n",
       "        vertical-align: top;\n",
       "    }\n",
       "\n",
       "    .dataframe thead th {\n",
       "        text-align: right;\n",
       "    }\n",
       "</style>\n",
       "<table border=\"1\" class=\"dataframe\">\n",
       "  <thead>\n",
       "    <tr style=\"text-align: right;\">\n",
       "      <th></th>\n",
       "      <th>Team</th>\n",
       "      <th>Rsh TD</th>\n",
       "      <th>Rec TD</th>\n",
       "      <th>Tot TD</th>\n",
       "      <th>2-PT</th>\n",
       "      <th>Date</th>\n",
       "    </tr>\n",
       "  </thead>\n",
       "  <tbody>\n",
       "    <tr>\n",
       "      <th>0</th>\n",
       "      <td>EaglesEagles</td>\n",
       "      <td>10</td>\n",
       "      <td>4</td>\n",
       "      <td>15</td>\n",
       "      <td>0</td>\n",
       "      <td>10-05-22</td>\n",
       "    </tr>\n",
       "    <tr>\n",
       "      <th>1</th>\n",
       "      <td>BrownsBrowns</td>\n",
       "      <td>7</td>\n",
       "      <td>4</td>\n",
       "      <td>11</td>\n",
       "      <td>0</td>\n",
       "      <td>10-05-22</td>\n",
       "    </tr>\n",
       "    <tr>\n",
       "      <th>2</th>\n",
       "      <td>LionsLions</td>\n",
       "      <td>7</td>\n",
       "      <td>11</td>\n",
       "      <td>18</td>\n",
       "      <td>2</td>\n",
       "      <td>10-05-22</td>\n",
       "    </tr>\n",
       "    <tr>\n",
       "      <th>3</th>\n",
       "      <td>FalconsFalcons</td>\n",
       "      <td>6</td>\n",
       "      <td>3</td>\n",
       "      <td>10</td>\n",
       "      <td>1</td>\n",
       "      <td>10-05-22</td>\n",
       "    </tr>\n",
       "    <tr>\n",
       "      <th>4</th>\n",
       "      <td>PatriotsPatriots</td>\n",
       "      <td>5</td>\n",
       "      <td>3</td>\n",
       "      <td>9</td>\n",
       "      <td>0</td>\n",
       "      <td>10-05-22</td>\n",
       "    </tr>\n",
       "  </tbody>\n",
       "</table>\n",
       "</div>"
      ],
      "text/plain": [
       "               Team  Rsh TD  Rec TD  Tot TD  2-PT      Date\n",
       "0      EaglesEagles      10       4      15     0  10-05-22\n",
       "1      BrownsBrowns       7       4      11     0  10-05-22\n",
       "2        LionsLions       7      11      18     2  10-05-22\n",
       "3    FalconsFalcons       6       3      10     1  10-05-22\n",
       "4  PatriotsPatriots       5       3       9     0  10-05-22"
      ]
     },
     "execution_count": 7,
     "metadata": {},
     "output_type": "execute_result"
    }
   ],
   "source": [
    "scoring_df.head(5)"
   ]
  },
  {
   "cell_type": "code",
   "execution_count": 8,
   "metadata": {},
   "outputs": [
    {
     "data": {
      "text/html": [
       "<div>\n",
       "<style scoped>\n",
       "    .dataframe tbody tr th:only-of-type {\n",
       "        vertical-align: middle;\n",
       "    }\n",
       "\n",
       "    .dataframe tbody tr th {\n",
       "        vertical-align: top;\n",
       "    }\n",
       "\n",
       "    .dataframe thead th {\n",
       "        text-align: right;\n",
       "    }\n",
       "</style>\n",
       "<table border=\"1\" class=\"dataframe\">\n",
       "  <thead>\n",
       "    <tr style=\"text-align: right;\">\n",
       "      <th></th>\n",
       "      <th>Team</th>\n",
       "      <th>Pass Yds</th>\n",
       "      <th>Rush Yds</th>\n",
       "      <th>Tot TD</th>\n",
       "    </tr>\n",
       "  </thead>\n",
       "  <tbody>\n",
       "    <tr>\n",
       "      <th>0</th>\n",
       "      <td>LionsLions</td>\n",
       "      <td>1132</td>\n",
       "      <td>656</td>\n",
       "      <td>18</td>\n",
       "    </tr>\n",
       "    <tr>\n",
       "      <th>1</th>\n",
       "      <td>ChiefsChiefs</td>\n",
       "      <td>1106</td>\n",
       "      <td>468</td>\n",
       "      <td>16</td>\n",
       "    </tr>\n",
       "    <tr>\n",
       "      <th>2</th>\n",
       "      <td>EaglesEagles</td>\n",
       "      <td>1120</td>\n",
       "      <td>661</td>\n",
       "      <td>15</td>\n",
       "    </tr>\n",
       "    <tr>\n",
       "      <th>3</th>\n",
       "      <td>RavensRavens</td>\n",
       "      <td>893</td>\n",
       "      <td>568</td>\n",
       "      <td>15</td>\n",
       "    </tr>\n",
       "    <tr>\n",
       "      <th>4</th>\n",
       "      <td>BillsBills</td>\n",
       "      <td>1227</td>\n",
       "      <td>462</td>\n",
       "      <td>13</td>\n",
       "    </tr>\n",
       "  </tbody>\n",
       "</table>\n",
       "</div>"
      ],
      "text/plain": [
       "           Team  Pass Yds  Rush Yds  Tot TD\n",
       "0    LionsLions      1132       656      18\n",
       "1  ChiefsChiefs      1106       468      16\n",
       "2  EaglesEagles      1120       661      15\n",
       "3  RavensRavens       893       568      15\n",
       "4    BillsBills      1227       462      13"
      ]
     },
     "execution_count": 8,
     "metadata": {},
     "output_type": "execute_result"
    }
   ],
   "source": [
    "passing_rushing_df.head(5)"
   ]
  },
  {
   "cell_type": "code",
   "execution_count": 9,
   "metadata": {},
   "outputs": [
    {
     "name": "stdout",
     "output_type": "stream",
     "text": [
      "<class 'pandas.core.frame.DataFrame'>\n",
      "RangeIndex: 32 entries, 0 to 31\n",
      "Data columns (total 17 columns):\n",
      " #   Column    Non-Null Count  Dtype  \n",
      "---  ------    --------------  -----  \n",
      " 0   Team      32 non-null     object \n",
      " 1   Att       32 non-null     int64  \n",
      " 2   Cmp       32 non-null     int64  \n",
      " 3   Cmp %     32 non-null     float64\n",
      " 4   Yds/Att   32 non-null     float64\n",
      " 5   Pass Yds  32 non-null     int64  \n",
      " 6   TD        32 non-null     int64  \n",
      " 7   INT       32 non-null     int64  \n",
      " 8   Rate      32 non-null     float64\n",
      " 9   1st       32 non-null     int64  \n",
      " 10  1st%      32 non-null     float64\n",
      " 11  20+       32 non-null     int64  \n",
      " 12  40+       32 non-null     int64  \n",
      " 13  Lng       32 non-null     object \n",
      " 14  Sck       32 non-null     int64  \n",
      " 15  SckY      32 non-null     int64  \n",
      " 16  Date      32 non-null     object \n",
      "dtypes: float64(4), int64(10), object(3)\n",
      "memory usage: 4.4+ KB\n"
     ]
    }
   ],
   "source": [
    "passing_df.info()"
   ]
  },
  {
   "cell_type": "code",
   "execution_count": 10,
   "metadata": {},
   "outputs": [
    {
     "data": {
      "application/vnd.plotly.v1+json": {
       "config": {
        "plotlyServerURL": "https://plot.ly"
       },
       "data": [
        {
         "hovertemplate": "Team=LionsLions<br>Pass Yds=%{x}<br>Rush Yds=%{y}<br>Tot TD=%{marker.size}<extra></extra>",
         "legendgroup": "LionsLions",
         "marker": {
          "color": "#636efa",
          "size": [
           18
          ],
          "sizemode": "area",
          "sizeref": 0.045,
          "symbol": "circle"
         },
         "mode": "markers",
         "name": "LionsLions",
         "orientation": "v",
         "showlegend": true,
         "type": "scatter",
         "x": [
          1132
         ],
         "xaxis": "x",
         "y": [
          656
         ],
         "yaxis": "y"
        },
        {
         "hovertemplate": "Team=ChiefsChiefs<br>Pass Yds=%{x}<br>Rush Yds=%{y}<br>Tot TD=%{marker.size}<extra></extra>",
         "legendgroup": "ChiefsChiefs",
         "marker": {
          "color": "#EF553B",
          "size": [
           16
          ],
          "sizemode": "area",
          "sizeref": 0.045,
          "symbol": "circle"
         },
         "mode": "markers",
         "name": "ChiefsChiefs",
         "orientation": "v",
         "showlegend": true,
         "type": "scatter",
         "x": [
          1106
         ],
         "xaxis": "x",
         "y": [
          468
         ],
         "yaxis": "y"
        },
        {
         "hovertemplate": "Team=EaglesEagles<br>Pass Yds=%{x}<br>Rush Yds=%{y}<br>Tot TD=%{marker.size}<extra></extra>",
         "legendgroup": "EaglesEagles",
         "marker": {
          "color": "#00cc96",
          "size": [
           15
          ],
          "sizemode": "area",
          "sizeref": 0.045,
          "symbol": "circle"
         },
         "mode": "markers",
         "name": "EaglesEagles",
         "orientation": "v",
         "showlegend": true,
         "type": "scatter",
         "x": [
          1120
         ],
         "xaxis": "x",
         "y": [
          661
         ],
         "yaxis": "y"
        },
        {
         "hovertemplate": "Team=RavensRavens<br>Pass Yds=%{x}<br>Rush Yds=%{y}<br>Tot TD=%{marker.size}<extra></extra>",
         "legendgroup": "RavensRavens",
         "marker": {
          "color": "#ab63fa",
          "size": [
           15
          ],
          "sizemode": "area",
          "sizeref": 0.045,
          "symbol": "circle"
         },
         "mode": "markers",
         "name": "RavensRavens",
         "orientation": "v",
         "showlegend": true,
         "type": "scatter",
         "x": [
          893
         ],
         "xaxis": "x",
         "y": [
          568
         ],
         "yaxis": "y"
        },
        {
         "hovertemplate": "Team=BillsBills<br>Pass Yds=%{x}<br>Rush Yds=%{y}<br>Tot TD=%{marker.size}<extra></extra>",
         "legendgroup": "BillsBills",
         "marker": {
          "color": "#FFA15A",
          "size": [
           13
          ],
          "sizemode": "area",
          "sizeref": 0.045,
          "symbol": "circle"
         },
         "mode": "markers",
         "name": "BillsBills",
         "orientation": "v",
         "showlegend": true,
         "type": "scatter",
         "x": [
          1227
         ],
         "xaxis": "x",
         "y": [
          462
         ],
         "yaxis": "y"
        },
        {
         "hovertemplate": "Team=JaguarsJaguars<br>Pass Yds=%{x}<br>Rush Yds=%{y}<br>Tot TD=%{marker.size}<extra></extra>",
         "legendgroup": "JaguarsJaguars",
         "marker": {
          "color": "#19d3f3",
          "size": [
           12
          ],
          "sizemode": "area",
          "sizeref": 0.045,
          "symbol": "circle"
         },
         "mode": "markers",
         "name": "JaguarsJaguars",
         "orientation": "v",
         "showlegend": true,
         "type": "scatter",
         "x": [
          946
         ],
         "xaxis": "x",
         "y": [
          441
         ],
         "yaxis": "y"
        },
        {
         "hovertemplate": "Team=BrownsBrowns<br>Pass Yds=%{x}<br>Rush Yds=%{y}<br>Tot TD=%{marker.size}<extra></extra>",
         "legendgroup": "BrownsBrowns",
         "marker": {
          "color": "#FF6692",
          "size": [
           11
          ],
          "sizemode": "area",
          "sizeref": 0.045,
          "symbol": "circle"
         },
         "mode": "markers",
         "name": "BrownsBrowns",
         "orientation": "v",
         "showlegend": true,
         "type": "scatter",
         "x": [
          830
         ],
         "xaxis": "x",
         "y": [
          749
         ],
         "yaxis": "y"
        },
        {
         "hovertemplate": "Team=ChargersChargers<br>Pass Yds=%{x}<br>Rush Yds=%{y}<br>Tot TD=%{marker.size}<extra></extra>",
         "legendgroup": "ChargersChargers",
         "marker": {
          "color": "#B6E880",
          "size": [
           11
          ],
          "sizemode": "area",
          "sizeref": 0.045,
          "symbol": "circle"
         },
         "mode": "markers",
         "name": "ChargersChargers",
         "orientation": "v",
         "showlegend": true,
         "type": "scatter",
         "x": [
          1250
         ],
         "xaxis": "x",
         "y": [
          258
         ],
         "yaxis": "y"
        },
        {
         "hovertemplate": "Team=SeahawksSeahawks<br>Pass Yds=%{x}<br>Rush Yds=%{y}<br>Tot TD=%{marker.size}<extra></extra>",
         "legendgroup": "SeahawksSeahawks",
         "marker": {
          "color": "#FF97FF",
          "size": [
           11
          ],
          "sizemode": "area",
          "sizeref": 0.045,
          "symbol": "circle"
         },
         "mode": "markers",
         "name": "SeahawksSeahawks",
         "orientation": "v",
         "showlegend": true,
         "type": "scatter",
         "x": [
          1037
         ],
         "xaxis": "x",
         "y": [
          459
         ],
         "yaxis": "y"
        },
        {
         "hovertemplate": "Team=DolphinsDolphins<br>Pass Yds=%{x}<br>Rush Yds=%{y}<br>Tot TD=%{marker.size}<extra></extra>",
         "legendgroup": "DolphinsDolphins",
         "marker": {
          "color": "#FECB52",
          "size": [
           11
          ],
          "sizemode": "area",
          "sizeref": 0.045,
          "symbol": "circle"
         },
         "mode": "markers",
         "name": "DolphinsDolphins",
         "orientation": "v",
         "showlegend": true,
         "type": "scatter",
         "x": [
          1228
         ],
         "xaxis": "x",
         "y": [
          277
         ],
         "yaxis": "y"
        },
        {
         "hovertemplate": "Team=FalconsFalcons<br>Pass Yds=%{x}<br>Rush Yds=%{y}<br>Tot TD=%{marker.size}<extra></extra>",
         "legendgroup": "FalconsFalcons",
         "marker": {
          "color": "#636efa",
          "size": [
           10
          ],
          "sizemode": "area",
          "sizeref": 0.045,
          "symbol": "circle"
         },
         "mode": "markers",
         "name": "FalconsFalcons",
         "orientation": "v",
         "showlegend": true,
         "type": "scatter",
         "x": [
          779
         ],
         "xaxis": "x",
         "y": [
          672
         ],
         "yaxis": "y"
        },
        {
         "hovertemplate": "Team=CommandersCommanders<br>Pass Yds=%{x}<br>Rush Yds=%{y}<br>Tot TD=%{marker.size}<extra></extra>",
         "legendgroup": "CommandersCommanders",
         "marker": {
          "color": "#EF553B",
          "size": [
           10
          ],
          "sizemode": "area",
          "sizeref": 0.045,
          "symbol": "circle"
         },
         "mode": "markers",
         "name": "CommandersCommanders",
         "orientation": "v",
         "showlegend": true,
         "type": "scatter",
         "x": [
          1031
         ],
         "xaxis": "x",
         "y": [
          402
         ],
         "yaxis": "y"
        },
        {
         "hovertemplate": "Team=BengalsBengals<br>Pass Yds=%{x}<br>Rush Yds=%{y}<br>Tot TD=%{marker.size}<extra></extra>",
         "legendgroup": "BengalsBengals",
         "marker": {
          "color": "#00cc96",
          "size": [
           9
          ],
          "sizemode": "area",
          "sizeref": 0.045,
          "symbol": "circle"
         },
         "mode": "markers",
         "name": "BengalsBengals",
         "orientation": "v",
         "showlegend": true,
         "type": "scatter",
         "x": [
          1122
         ],
         "xaxis": "x",
         "y": [
          358
         ],
         "yaxis": "y"
        },
        {
         "hovertemplate": "Team=PackersPackers<br>Pass Yds=%{x}<br>Rush Yds=%{y}<br>Tot TD=%{marker.size}<extra></extra>",
         "legendgroup": "PackersPackers",
         "marker": {
          "color": "#ab63fa",
          "size": [
           9
          ],
          "sizemode": "area",
          "sizeref": 0.045,
          "symbol": "circle"
         },
         "mode": "markers",
         "name": "PackersPackers",
         "orientation": "v",
         "showlegend": true,
         "type": "scatter",
         "x": [
          1000
         ],
         "xaxis": "x",
         "y": [
          580
         ],
         "yaxis": "y"
        },
        {
         "hovertemplate": "Team=PatriotsPatriots<br>Pass Yds=%{x}<br>Rush Yds=%{y}<br>Tot TD=%{marker.size}<extra></extra>",
         "legendgroup": "PatriotsPatriots",
         "marker": {
          "color": "#FFA15A",
          "size": [
           9
          ],
          "sizemode": "area",
          "sizeref": 0.045,
          "symbol": "circle"
         },
         "mode": "markers",
         "name": "PatriotsPatriots",
         "orientation": "v",
         "showlegend": true,
         "type": "scatter",
         "x": [
          922
         ],
         "xaxis": "x",
         "y": [
          514
         ],
         "yaxis": "y"
        },
        {
         "hovertemplate": "Team=TitansTitans<br>Pass Yds=%{x}<br>Rush Yds=%{y}<br>Tot TD=%{marker.size}<extra></extra>",
         "legendgroup": "TitansTitans",
         "marker": {
          "color": "#19d3f3",
          "size": [
           9
          ],
          "sizemode": "area",
          "sizeref": 0.045,
          "symbol": "circle"
         },
         "mode": "markers",
         "name": "TitansTitans",
         "orientation": "v",
         "showlegend": true,
         "type": "scatter",
         "x": [
          790
         ],
         "xaxis": "x",
         "y": [
          409
         ],
         "yaxis": "y"
        },
        {
         "hovertemplate": "Team=CardinalsCardinals<br>Pass Yds=%{x}<br>Rush Yds=%{y}<br>Tot TD=%{marker.size}<extra></extra>",
         "legendgroup": "CardinalsCardinals",
         "marker": {
          "color": "#FF6692",
          "size": [
           9
          ],
          "sizemode": "area",
          "sizeref": 0.045,
          "symbol": "circle"
         },
         "mode": "markers",
         "name": "CardinalsCardinals",
         "orientation": "v",
         "showlegend": true,
         "type": "scatter",
         "x": [
          1003
         ],
         "xaxis": "x",
         "y": [
          448
         ],
         "yaxis": "y"
        },
        {
         "hovertemplate": "Team=VikingsVikings<br>Pass Yds=%{x}<br>Rush Yds=%{y}<br>Tot TD=%{marker.size}<extra></extra>",
         "legendgroup": "VikingsVikings",
         "marker": {
          "color": "#B6E880",
          "size": [
           9
          ],
          "sizemode": "area",
          "sizeref": 0.045,
          "symbol": "circle"
         },
         "mode": "markers",
         "name": "VikingsVikings",
         "orientation": "v",
         "showlegend": true,
         "type": "scatter",
         "x": [
          1044
         ],
         "xaxis": "x",
         "y": [
          392
         ],
         "yaxis": "y"
        },
        {
         "hovertemplate": "Team=SaintsSaints<br>Pass Yds=%{x}<br>Rush Yds=%{y}<br>Tot TD=%{marker.size}<extra></extra>",
         "legendgroup": "SaintsSaints",
         "marker": {
          "color": "#FF97FF",
          "size": [
           9
          ],
          "sizemode": "area",
          "sizeref": 0.045,
          "symbol": "circle"
         },
         "mode": "markers",
         "name": "SaintsSaints",
         "orientation": "v",
         "showlegend": true,
         "type": "scatter",
         "x": [
          1094
         ],
         "xaxis": "x",
         "y": [
          446
         ],
         "yaxis": "y"
        },
        {
         "hovertemplate": "Team=49ers49ers<br>Pass Yds=%{x}<br>Rush Yds=%{y}<br>Tot TD=%{marker.size}<extra></extra>",
         "legendgroup": "49ers49ers",
         "marker": {
          "color": "#FECB52",
          "size": [
           8
          ],
          "sizemode": "area",
          "sizeref": 0.045,
          "symbol": "circle"
         },
         "mode": "markers",
         "name": "49ers49ers",
         "orientation": "v",
         "showlegend": true,
         "type": "scatter",
         "x": [
          798
         ],
         "xaxis": "x",
         "y": [
          541
         ],
         "yaxis": "y"
        },
        {
         "hovertemplate": "Team=RaidersRaiders<br>Pass Yds=%{x}<br>Rush Yds=%{y}<br>Tot TD=%{marker.size}<extra></extra>",
         "legendgroup": "RaidersRaiders",
         "marker": {
          "color": "#636efa",
          "size": [
           8
          ],
          "sizemode": "area",
          "sizeref": 0.045,
          "symbol": "circle"
         },
         "mode": "markers",
         "name": "RaidersRaiders",
         "orientation": "v",
         "showlegend": true,
         "type": "scatter",
         "x": [
          1042
         ],
         "xaxis": "x",
         "y": [
          452
         ],
         "yaxis": "y"
        },
        {
         "hovertemplate": "Team=JetsJets<br>Pass Yds=%{x}<br>Rush Yds=%{y}<br>Tot TD=%{marker.size}<extra></extra>",
         "legendgroup": "JetsJets",
         "marker": {
          "color": "#EF553B",
          "size": [
           8
          ],
          "sizemode": "area",
          "sizeref": 0.045,
          "symbol": "circle"
         },
         "mode": "markers",
         "name": "JetsJets",
         "orientation": "v",
         "showlegend": true,
         "type": "scatter",
         "x": [
          1172
         ],
         "xaxis": "x",
         "y": [
          350
         ],
         "yaxis": "y"
        },
        {
         "hovertemplate": "Team=BuccaneersBuccaneers<br>Pass Yds=%{x}<br>Rush Yds=%{y}<br>Tot TD=%{marker.size}<extra></extra>",
         "legendgroup": "BuccaneersBuccaneers",
         "marker": {
          "color": "#00cc96",
          "size": [
           8
          ],
          "sizemode": "area",
          "sizeref": 0.045,
          "symbol": "circle"
         },
         "mode": "markers",
         "name": "BuccaneersBuccaneers",
         "orientation": "v",
         "showlegend": true,
         "type": "scatter",
         "x": [
          1058
         ],
         "xaxis": "x",
         "y": [
          261
         ],
         "yaxis": "y"
        },
        {
         "hovertemplate": "Team=GiantsGiants<br>Pass Yds=%{x}<br>Rush Yds=%{y}<br>Tot TD=%{marker.size}<extra></extra>",
         "legendgroup": "GiantsGiants",
         "marker": {
          "color": "#ab63fa",
          "size": [
           7
          ],
          "sizemode": "area",
          "sizeref": 0.045,
          "symbol": "circle"
         },
         "mode": "markers",
         "name": "GiantsGiants",
         "orientation": "v",
         "showlegend": true,
         "type": "scatter",
         "x": [
          642
         ],
         "xaxis": "x",
         "y": [
          770
         ],
         "yaxis": "y"
        },
        {
         "hovertemplate": "Team=SteelersSteelers<br>Pass Yds=%{x}<br>Rush Yds=%{y}<br>Tot TD=%{marker.size}<extra></extra>",
         "legendgroup": "SteelersSteelers",
         "marker": {
          "color": "#FFA15A",
          "size": [
           7
          ],
          "sizemode": "area",
          "sizeref": 0.045,
          "symbol": "circle"
         },
         "mode": "markers",
         "name": "SteelersSteelers",
         "orientation": "v",
         "showlegend": true,
         "type": "scatter",
         "x": [
          773
         ],
         "xaxis": "x",
         "y": [
          389
         ],
         "yaxis": "y"
        },
        {
         "hovertemplate": "Team=PanthersPanthers<br>Pass Yds=%{x}<br>Rush Yds=%{y}<br>Tot TD=%{marker.size}<extra></extra>",
         "legendgroup": "PanthersPanthers",
         "marker": {
          "color": "#19d3f3",
          "size": [
           7
          ],
          "sizemode": "area",
          "sizeref": 0.045,
          "symbol": "circle"
         },
         "mode": "markers",
         "name": "PanthersPanthers",
         "orientation": "v",
         "showlegend": true,
         "type": "scatter",
         "x": [
          747
         ],
         "xaxis": "x",
         "y": [
          385
         ],
         "yaxis": "y"
        },
        {
         "hovertemplate": "Team=TexansTexans<br>Pass Yds=%{x}<br>Rush Yds=%{y}<br>Tot TD=%{marker.size}<extra></extra>",
         "legendgroup": "TexansTexans",
         "marker": {
          "color": "#FF6692",
          "size": [
           7
          ],
          "sizemode": "area",
          "sizeref": 0.045,
          "symbol": "circle"
         },
         "mode": "markers",
         "name": "TexansTexans",
         "orientation": "v",
         "showlegend": true,
         "type": "scatter",
         "x": [
          908
         ],
         "xaxis": "x",
         "y": [
          380
         ],
         "yaxis": "y"
        },
        {
         "hovertemplate": "Team=RamsRams<br>Pass Yds=%{x}<br>Rush Yds=%{y}<br>Tot TD=%{marker.size}<extra></extra>",
         "legendgroup": "RamsRams",
         "marker": {
          "color": "#B6E880",
          "size": [
           7
          ],
          "sizemode": "area",
          "sizeref": 0.045,
          "symbol": "circle"
         },
         "mode": "markers",
         "name": "RamsRams",
         "orientation": "v",
         "showlegend": true,
         "type": "scatter",
         "x": [
          1015
         ],
         "xaxis": "x",
         "y": [
          274
         ],
         "yaxis": "y"
        },
        {
         "hovertemplate": "Team=BearsBears<br>Pass Yds=%{x}<br>Rush Yds=%{y}<br>Tot TD=%{marker.size}<extra></extra>",
         "legendgroup": "BearsBears",
         "marker": {
          "color": "#FF97FF",
          "size": [
           6
          ],
          "sizemode": "area",
          "sizeref": 0.045,
          "symbol": "circle"
         },
         "mode": "markers",
         "name": "BearsBears",
         "orientation": "v",
         "showlegend": true,
         "type": "scatter",
         "x": [
          471
         ],
         "xaxis": "x",
         "y": [
          709
         ],
         "yaxis": "y"
        },
        {
         "hovertemplate": "Team=CowboysCowboys<br>Pass Yds=%{x}<br>Rush Yds=%{y}<br>Tot TD=%{marker.size}<extra></extra>",
         "legendgroup": "CowboysCowboys",
         "marker": {
          "color": "#FECB52",
          "size": [
           6
          ],
          "sizemode": "area",
          "sizeref": 0.045,
          "symbol": "circle"
         },
         "mode": "markers",
         "name": "CowboysCowboys",
         "orientation": "v",
         "showlegend": true,
         "type": "scatter",
         "x": [
          871
         ],
         "xaxis": "x",
         "y": [
          416
         ],
         "yaxis": "y"
        },
        {
         "hovertemplate": "Team=BroncosBroncos<br>Pass Yds=%{x}<br>Rush Yds=%{y}<br>Tot TD=%{marker.size}<extra></extra>",
         "legendgroup": "BroncosBroncos",
         "marker": {
          "color": "#636efa",
          "size": [
           6
          ],
          "sizemode": "area",
          "sizeref": 0.045,
          "symbol": "circle"
         },
         "mode": "markers",
         "name": "BroncosBroncos",
         "orientation": "v",
         "showlegend": true,
         "type": "scatter",
         "x": [
          980
         ],
         "xaxis": "x",
         "y": [
          438
         ],
         "yaxis": "y"
        },
        {
         "hovertemplate": "Team=ColtsColts<br>Pass Yds=%{x}<br>Rush Yds=%{y}<br>Tot TD=%{marker.size}<extra></extra>",
         "legendgroup": "ColtsColts",
         "marker": {
          "color": "#EF553B",
          "size": [
           6
          ],
          "sizemode": "area",
          "sizeref": 0.045,
          "symbol": "circle"
         },
         "mode": "markers",
         "name": "ColtsColts",
         "orientation": "v",
         "showlegend": true,
         "type": "scatter",
         "x": [
          1125
         ],
         "xaxis": "x",
         "y": [
          351
         ],
         "yaxis": "y"
        }
       ],
       "layout": {
        "legend": {
         "itemsizing": "constant",
         "title": {
          "text": "Team"
         },
         "tracegroupgap": 0
        },
        "template": {
         "data": {
          "bar": [
           {
            "error_x": {
             "color": "#2a3f5f"
            },
            "error_y": {
             "color": "#2a3f5f"
            },
            "marker": {
             "line": {
              "color": "#E5ECF6",
              "width": 0.5
             },
             "pattern": {
              "fillmode": "overlay",
              "size": 10,
              "solidity": 0.2
             }
            },
            "type": "bar"
           }
          ],
          "barpolar": [
           {
            "marker": {
             "line": {
              "color": "#E5ECF6",
              "width": 0.5
             },
             "pattern": {
              "fillmode": "overlay",
              "size": 10,
              "solidity": 0.2
             }
            },
            "type": "barpolar"
           }
          ],
          "carpet": [
           {
            "aaxis": {
             "endlinecolor": "#2a3f5f",
             "gridcolor": "white",
             "linecolor": "white",
             "minorgridcolor": "white",
             "startlinecolor": "#2a3f5f"
            },
            "baxis": {
             "endlinecolor": "#2a3f5f",
             "gridcolor": "white",
             "linecolor": "white",
             "minorgridcolor": "white",
             "startlinecolor": "#2a3f5f"
            },
            "type": "carpet"
           }
          ],
          "choropleth": [
           {
            "colorbar": {
             "outlinewidth": 0,
             "ticks": ""
            },
            "type": "choropleth"
           }
          ],
          "contour": [
           {
            "colorbar": {
             "outlinewidth": 0,
             "ticks": ""
            },
            "colorscale": [
             [
              0,
              "#0d0887"
             ],
             [
              0.1111111111111111,
              "#46039f"
             ],
             [
              0.2222222222222222,
              "#7201a8"
             ],
             [
              0.3333333333333333,
              "#9c179e"
             ],
             [
              0.4444444444444444,
              "#bd3786"
             ],
             [
              0.5555555555555556,
              "#d8576b"
             ],
             [
              0.6666666666666666,
              "#ed7953"
             ],
             [
              0.7777777777777778,
              "#fb9f3a"
             ],
             [
              0.8888888888888888,
              "#fdca26"
             ],
             [
              1,
              "#f0f921"
             ]
            ],
            "type": "contour"
           }
          ],
          "contourcarpet": [
           {
            "colorbar": {
             "outlinewidth": 0,
             "ticks": ""
            },
            "type": "contourcarpet"
           }
          ],
          "heatmap": [
           {
            "colorbar": {
             "outlinewidth": 0,
             "ticks": ""
            },
            "colorscale": [
             [
              0,
              "#0d0887"
             ],
             [
              0.1111111111111111,
              "#46039f"
             ],
             [
              0.2222222222222222,
              "#7201a8"
             ],
             [
              0.3333333333333333,
              "#9c179e"
             ],
             [
              0.4444444444444444,
              "#bd3786"
             ],
             [
              0.5555555555555556,
              "#d8576b"
             ],
             [
              0.6666666666666666,
              "#ed7953"
             ],
             [
              0.7777777777777778,
              "#fb9f3a"
             ],
             [
              0.8888888888888888,
              "#fdca26"
             ],
             [
              1,
              "#f0f921"
             ]
            ],
            "type": "heatmap"
           }
          ],
          "heatmapgl": [
           {
            "colorbar": {
             "outlinewidth": 0,
             "ticks": ""
            },
            "colorscale": [
             [
              0,
              "#0d0887"
             ],
             [
              0.1111111111111111,
              "#46039f"
             ],
             [
              0.2222222222222222,
              "#7201a8"
             ],
             [
              0.3333333333333333,
              "#9c179e"
             ],
             [
              0.4444444444444444,
              "#bd3786"
             ],
             [
              0.5555555555555556,
              "#d8576b"
             ],
             [
              0.6666666666666666,
              "#ed7953"
             ],
             [
              0.7777777777777778,
              "#fb9f3a"
             ],
             [
              0.8888888888888888,
              "#fdca26"
             ],
             [
              1,
              "#f0f921"
             ]
            ],
            "type": "heatmapgl"
           }
          ],
          "histogram": [
           {
            "marker": {
             "pattern": {
              "fillmode": "overlay",
              "size": 10,
              "solidity": 0.2
             }
            },
            "type": "histogram"
           }
          ],
          "histogram2d": [
           {
            "colorbar": {
             "outlinewidth": 0,
             "ticks": ""
            },
            "colorscale": [
             [
              0,
              "#0d0887"
             ],
             [
              0.1111111111111111,
              "#46039f"
             ],
             [
              0.2222222222222222,
              "#7201a8"
             ],
             [
              0.3333333333333333,
              "#9c179e"
             ],
             [
              0.4444444444444444,
              "#bd3786"
             ],
             [
              0.5555555555555556,
              "#d8576b"
             ],
             [
              0.6666666666666666,
              "#ed7953"
             ],
             [
              0.7777777777777778,
              "#fb9f3a"
             ],
             [
              0.8888888888888888,
              "#fdca26"
             ],
             [
              1,
              "#f0f921"
             ]
            ],
            "type": "histogram2d"
           }
          ],
          "histogram2dcontour": [
           {
            "colorbar": {
             "outlinewidth": 0,
             "ticks": ""
            },
            "colorscale": [
             [
              0,
              "#0d0887"
             ],
             [
              0.1111111111111111,
              "#46039f"
             ],
             [
              0.2222222222222222,
              "#7201a8"
             ],
             [
              0.3333333333333333,
              "#9c179e"
             ],
             [
              0.4444444444444444,
              "#bd3786"
             ],
             [
              0.5555555555555556,
              "#d8576b"
             ],
             [
              0.6666666666666666,
              "#ed7953"
             ],
             [
              0.7777777777777778,
              "#fb9f3a"
             ],
             [
              0.8888888888888888,
              "#fdca26"
             ],
             [
              1,
              "#f0f921"
             ]
            ],
            "type": "histogram2dcontour"
           }
          ],
          "mesh3d": [
           {
            "colorbar": {
             "outlinewidth": 0,
             "ticks": ""
            },
            "type": "mesh3d"
           }
          ],
          "parcoords": [
           {
            "line": {
             "colorbar": {
              "outlinewidth": 0,
              "ticks": ""
             }
            },
            "type": "parcoords"
           }
          ],
          "pie": [
           {
            "automargin": true,
            "type": "pie"
           }
          ],
          "scatter": [
           {
            "fillpattern": {
             "fillmode": "overlay",
             "size": 10,
             "solidity": 0.2
            },
            "type": "scatter"
           }
          ],
          "scatter3d": [
           {
            "line": {
             "colorbar": {
              "outlinewidth": 0,
              "ticks": ""
             }
            },
            "marker": {
             "colorbar": {
              "outlinewidth": 0,
              "ticks": ""
             }
            },
            "type": "scatter3d"
           }
          ],
          "scattercarpet": [
           {
            "marker": {
             "colorbar": {
              "outlinewidth": 0,
              "ticks": ""
             }
            },
            "type": "scattercarpet"
           }
          ],
          "scattergeo": [
           {
            "marker": {
             "colorbar": {
              "outlinewidth": 0,
              "ticks": ""
             }
            },
            "type": "scattergeo"
           }
          ],
          "scattergl": [
           {
            "marker": {
             "colorbar": {
              "outlinewidth": 0,
              "ticks": ""
             }
            },
            "type": "scattergl"
           }
          ],
          "scattermapbox": [
           {
            "marker": {
             "colorbar": {
              "outlinewidth": 0,
              "ticks": ""
             }
            },
            "type": "scattermapbox"
           }
          ],
          "scatterpolar": [
           {
            "marker": {
             "colorbar": {
              "outlinewidth": 0,
              "ticks": ""
             }
            },
            "type": "scatterpolar"
           }
          ],
          "scatterpolargl": [
           {
            "marker": {
             "colorbar": {
              "outlinewidth": 0,
              "ticks": ""
             }
            },
            "type": "scatterpolargl"
           }
          ],
          "scatterternary": [
           {
            "marker": {
             "colorbar": {
              "outlinewidth": 0,
              "ticks": ""
             }
            },
            "type": "scatterternary"
           }
          ],
          "surface": [
           {
            "colorbar": {
             "outlinewidth": 0,
             "ticks": ""
            },
            "colorscale": [
             [
              0,
              "#0d0887"
             ],
             [
              0.1111111111111111,
              "#46039f"
             ],
             [
              0.2222222222222222,
              "#7201a8"
             ],
             [
              0.3333333333333333,
              "#9c179e"
             ],
             [
              0.4444444444444444,
              "#bd3786"
             ],
             [
              0.5555555555555556,
              "#d8576b"
             ],
             [
              0.6666666666666666,
              "#ed7953"
             ],
             [
              0.7777777777777778,
              "#fb9f3a"
             ],
             [
              0.8888888888888888,
              "#fdca26"
             ],
             [
              1,
              "#f0f921"
             ]
            ],
            "type": "surface"
           }
          ],
          "table": [
           {
            "cells": {
             "fill": {
              "color": "#EBF0F8"
             },
             "line": {
              "color": "white"
             }
            },
            "header": {
             "fill": {
              "color": "#C8D4E3"
             },
             "line": {
              "color": "white"
             }
            },
            "type": "table"
           }
          ]
         },
         "layout": {
          "annotationdefaults": {
           "arrowcolor": "#2a3f5f",
           "arrowhead": 0,
           "arrowwidth": 1
          },
          "autotypenumbers": "strict",
          "coloraxis": {
           "colorbar": {
            "outlinewidth": 0,
            "ticks": ""
           }
          },
          "colorscale": {
           "diverging": [
            [
             0,
             "#8e0152"
            ],
            [
             0.1,
             "#c51b7d"
            ],
            [
             0.2,
             "#de77ae"
            ],
            [
             0.3,
             "#f1b6da"
            ],
            [
             0.4,
             "#fde0ef"
            ],
            [
             0.5,
             "#f7f7f7"
            ],
            [
             0.6,
             "#e6f5d0"
            ],
            [
             0.7,
             "#b8e186"
            ],
            [
             0.8,
             "#7fbc41"
            ],
            [
             0.9,
             "#4d9221"
            ],
            [
             1,
             "#276419"
            ]
           ],
           "sequential": [
            [
             0,
             "#0d0887"
            ],
            [
             0.1111111111111111,
             "#46039f"
            ],
            [
             0.2222222222222222,
             "#7201a8"
            ],
            [
             0.3333333333333333,
             "#9c179e"
            ],
            [
             0.4444444444444444,
             "#bd3786"
            ],
            [
             0.5555555555555556,
             "#d8576b"
            ],
            [
             0.6666666666666666,
             "#ed7953"
            ],
            [
             0.7777777777777778,
             "#fb9f3a"
            ],
            [
             0.8888888888888888,
             "#fdca26"
            ],
            [
             1,
             "#f0f921"
            ]
           ],
           "sequentialminus": [
            [
             0,
             "#0d0887"
            ],
            [
             0.1111111111111111,
             "#46039f"
            ],
            [
             0.2222222222222222,
             "#7201a8"
            ],
            [
             0.3333333333333333,
             "#9c179e"
            ],
            [
             0.4444444444444444,
             "#bd3786"
            ],
            [
             0.5555555555555556,
             "#d8576b"
            ],
            [
             0.6666666666666666,
             "#ed7953"
            ],
            [
             0.7777777777777778,
             "#fb9f3a"
            ],
            [
             0.8888888888888888,
             "#fdca26"
            ],
            [
             1,
             "#f0f921"
            ]
           ]
          },
          "colorway": [
           "#636efa",
           "#EF553B",
           "#00cc96",
           "#ab63fa",
           "#FFA15A",
           "#19d3f3",
           "#FF6692",
           "#B6E880",
           "#FF97FF",
           "#FECB52"
          ],
          "font": {
           "color": "#2a3f5f"
          },
          "geo": {
           "bgcolor": "white",
           "lakecolor": "white",
           "landcolor": "#E5ECF6",
           "showlakes": true,
           "showland": true,
           "subunitcolor": "white"
          },
          "hoverlabel": {
           "align": "left"
          },
          "hovermode": "closest",
          "mapbox": {
           "style": "light"
          },
          "paper_bgcolor": "white",
          "plot_bgcolor": "#E5ECF6",
          "polar": {
           "angularaxis": {
            "gridcolor": "white",
            "linecolor": "white",
            "ticks": ""
           },
           "bgcolor": "#E5ECF6",
           "radialaxis": {
            "gridcolor": "white",
            "linecolor": "white",
            "ticks": ""
           }
          },
          "scene": {
           "xaxis": {
            "backgroundcolor": "#E5ECF6",
            "gridcolor": "white",
            "gridwidth": 2,
            "linecolor": "white",
            "showbackground": true,
            "ticks": "",
            "zerolinecolor": "white"
           },
           "yaxis": {
            "backgroundcolor": "#E5ECF6",
            "gridcolor": "white",
            "gridwidth": 2,
            "linecolor": "white",
            "showbackground": true,
            "ticks": "",
            "zerolinecolor": "white"
           },
           "zaxis": {
            "backgroundcolor": "#E5ECF6",
            "gridcolor": "white",
            "gridwidth": 2,
            "linecolor": "white",
            "showbackground": true,
            "ticks": "",
            "zerolinecolor": "white"
           }
          },
          "shapedefaults": {
           "line": {
            "color": "#2a3f5f"
           }
          },
          "ternary": {
           "aaxis": {
            "gridcolor": "white",
            "linecolor": "white",
            "ticks": ""
           },
           "baxis": {
            "gridcolor": "white",
            "linecolor": "white",
            "ticks": ""
           },
           "bgcolor": "#E5ECF6",
           "caxis": {
            "gridcolor": "white",
            "linecolor": "white",
            "ticks": ""
           }
          },
          "title": {
           "x": 0.05
          },
          "xaxis": {
           "automargin": true,
           "gridcolor": "white",
           "linecolor": "white",
           "ticks": "",
           "title": {
            "standoff": 15
           },
           "zerolinecolor": "white",
           "zerolinewidth": 2
          },
          "yaxis": {
           "automargin": true,
           "gridcolor": "white",
           "linecolor": "white",
           "ticks": "",
           "title": {
            "standoff": 15
           },
           "zerolinecolor": "white",
           "zerolinewidth": 2
          }
         }
        },
        "title": {
         "text": "Passing Yards vs Rushing Yards"
        },
        "xaxis": {
         "anchor": "y",
         "domain": [
          0,
          1
         ],
         "title": {
          "text": "Pass Yds"
         }
        },
        "yaxis": {
         "anchor": "x",
         "domain": [
          0,
          1
         ],
         "title": {
          "text": "Rush Yds"
         }
        }
       }
      }
     },
     "metadata": {},
     "output_type": "display_data"
    }
   ],
   "source": [
    "px.scatter(passing_rushing_df, x='Pass Yds', y='Rush Yds', color='Team', size='Tot TD', title='Passing Yards vs Rushing Yards')"
   ]
  },
  {
   "cell_type": "code",
   "execution_count": 11,
   "metadata": {},
   "outputs": [
    {
     "data": {
      "application/vnd.plotly.v1+json": {
       "config": {
        "plotlyServerURL": "https://plot.ly"
       },
       "data": [
        {
         "hovertemplate": "<b>%{hovertext}</b><br><br>Team=JetsJets<br>Pass Yds=%{x}<br>TD=%{y}<br>Att=%{marker.size}<extra></extra>",
         "hovertext": [
          "JetsJets"
         ],
         "legendgroup": "JetsJets",
         "marker": {
          "color": "#636efa",
          "size": [
           193
          ],
          "sizemode": "area",
          "sizeref": 0.05361111111111111,
          "symbol": "circle"
         },
         "mode": "markers",
         "name": "JetsJets",
         "orientation": "v",
         "showlegend": true,
         "type": "scatter",
         "x": [
          1172
         ],
         "xaxis": "x",
         "y": [
          7
         ],
         "yaxis": "y"
        },
        {
         "hovertemplate": "<b>%{hovertext}</b><br><br>Team=CardinalsCardinals<br>Pass Yds=%{x}<br>TD=%{y}<br>Att=%{marker.size}<extra></extra>",
         "hovertext": [
          "CardinalsCardinals"
         ],
         "legendgroup": "CardinalsCardinals",
         "marker": {
          "color": "#EF553B",
          "size": [
           177
          ],
          "sizemode": "area",
          "sizeref": 0.05361111111111111,
          "symbol": "circle"
         },
         "mode": "markers",
         "name": "CardinalsCardinals",
         "orientation": "v",
         "showlegend": true,
         "type": "scatter",
         "x": [
          1003
         ],
         "xaxis": "x",
         "y": [
          5
         ],
         "yaxis": "y"
        },
        {
         "hovertemplate": "<b>%{hovertext}</b><br><br>Team=CommandersCommanders<br>Pass Yds=%{x}<br>TD=%{y}<br>Att=%{marker.size}<extra></extra>",
         "hovertext": [
          "CommandersCommanders"
         ],
         "legendgroup": "CommandersCommanders",
         "marker": {
          "color": "#00cc96",
          "size": [
           172
          ],
          "sizemode": "area",
          "sizeref": 0.05361111111111111,
          "symbol": "circle"
         },
         "mode": "markers",
         "name": "CommandersCommanders",
         "orientation": "v",
         "showlegend": true,
         "type": "scatter",
         "x": [
          1031
         ],
         "xaxis": "x",
         "y": [
          8
         ],
         "yaxis": "y"
        },
        {
         "hovertemplate": "<b>%{hovertext}</b><br><br>Team=BillsBills<br>Pass Yds=%{x}<br>TD=%{y}<br>Att=%{marker.size}<extra></extra>",
         "hovertext": [
          "BillsBills"
         ],
         "legendgroup": "BillsBills",
         "marker": {
          "color": "#ab63fa",
          "size": [
           170
          ],
          "sizemode": "area",
          "sizeref": 0.05361111111111111,
          "symbol": "circle"
         },
         "mode": "markers",
         "name": "BillsBills",
         "orientation": "v",
         "showlegend": true,
         "type": "scatter",
         "x": [
          1227
         ],
         "xaxis": "x",
         "y": [
          10
         ],
         "yaxis": "y"
        },
        {
         "hovertemplate": "<b>%{hovertext}</b><br><br>Team=ChargersChargers<br>Pass Yds=%{x}<br>TD=%{y}<br>Att=%{marker.size}<extra></extra>",
         "hovertext": [
          "ChargersChargers"
         ],
         "legendgroup": "ChargersChargers",
         "marker": {
          "color": "#FFA15A",
          "size": [
           166
          ],
          "sizemode": "area",
          "sizeref": 0.05361111111111111,
          "symbol": "circle"
         },
         "mode": "markers",
         "name": "ChargersChargers",
         "orientation": "v",
         "showlegend": true,
         "type": "scatter",
         "x": [
          1250
         ],
         "xaxis": "x",
         "y": [
          9
         ],
         "yaxis": "y"
        },
        {
         "hovertemplate": "<b>%{hovertext}</b><br><br>Team=VikingsVikings<br>Pass Yds=%{x}<br>TD=%{y}<br>Att=%{marker.size}<extra></extra>",
         "hovertext": [
          "VikingsVikings"
         ],
         "legendgroup": "VikingsVikings",
         "marker": {
          "color": "#19d3f3",
          "size": [
           158
          ],
          "sizemode": "area",
          "sizeref": 0.05361111111111111,
          "symbol": "circle"
         },
         "mode": "markers",
         "name": "VikingsVikings",
         "orientation": "v",
         "showlegend": true,
         "type": "scatter",
         "x": [
          1044
         ],
         "xaxis": "x",
         "y": [
          6
         ],
         "yaxis": "y"
        },
        {
         "hovertemplate": "<b>%{hovertext}</b><br><br>Team=BengalsBengals<br>Pass Yds=%{x}<br>TD=%{y}<br>Att=%{marker.size}<extra></extra>",
         "hovertext": [
          "BengalsBengals"
         ],
         "legendgroup": "BengalsBengals",
         "marker": {
          "color": "#FF6692",
          "size": [
           157
          ],
          "sizemode": "area",
          "sizeref": 0.05361111111111111,
          "symbol": "circle"
         },
         "mode": "markers",
         "name": "BengalsBengals",
         "orientation": "v",
         "showlegend": true,
         "type": "scatter",
         "x": [
          1122
         ],
         "xaxis": "x",
         "y": [
          8
         ],
         "yaxis": "y"
        },
        {
         "hovertemplate": "<b>%{hovertext}</b><br><br>Team=RaidersRaiders<br>Pass Yds=%{x}<br>TD=%{y}<br>Att=%{marker.size}<extra></extra>",
         "hovertext": [
          "RaidersRaiders"
         ],
         "legendgroup": "RaidersRaiders",
         "marker": {
          "color": "#B6E880",
          "size": [
           155
          ],
          "sizemode": "area",
          "sizeref": 0.05361111111111111,
          "symbol": "circle"
         },
         "mode": "markers",
         "name": "RaidersRaiders",
         "orientation": "v",
         "showlegend": true,
         "type": "scatter",
         "x": [
          1042
         ],
         "xaxis": "x",
         "y": [
          6
         ],
         "yaxis": "y"
        },
        {
         "hovertemplate": "<b>%{hovertext}</b><br><br>Team=BuccaneersBuccaneers<br>Pass Yds=%{x}<br>TD=%{y}<br>Att=%{marker.size}<extra></extra>",
         "hovertext": [
          "BuccaneersBuccaneers"
         ],
         "legendgroup": "BuccaneersBuccaneers",
         "marker": {
          "color": "#FF97FF",
          "size": [
           155
          ],
          "sizemode": "area",
          "sizeref": 0.05361111111111111,
          "symbol": "circle"
         },
         "mode": "markers",
         "name": "BuccaneersBuccaneers",
         "orientation": "v",
         "showlegend": true,
         "type": "scatter",
         "x": [
          1058
         ],
         "xaxis": "x",
         "y": [
          6
         ],
         "yaxis": "y"
        },
        {
         "hovertemplate": "<b>%{hovertext}</b><br><br>Team=ColtsColts<br>Pass Yds=%{x}<br>TD=%{y}<br>Att=%{marker.size}<extra></extra>",
         "hovertext": [
          "ColtsColts"
         ],
         "legendgroup": "ColtsColts",
         "marker": {
          "color": "#FECB52",
          "size": [
           154
          ],
          "sizemode": "area",
          "sizeref": 0.05361111111111111,
          "symbol": "circle"
         },
         "mode": "markers",
         "name": "ColtsColts",
         "orientation": "v",
         "showlegend": true,
         "type": "scatter",
         "x": [
          1125
         ],
         "xaxis": "x",
         "y": [
          5
         ],
         "yaxis": "y"
        },
        {
         "hovertemplate": "<b>%{hovertext}</b><br><br>Team=LionsLions<br>Pass Yds=%{x}<br>TD=%{y}<br>Att=%{marker.size}<extra></extra>",
         "hovertext": [
          "LionsLions"
         ],
         "legendgroup": "LionsLions",
         "marker": {
          "color": "#636efa",
          "size": [
           152
          ],
          "sizemode": "area",
          "sizeref": 0.05361111111111111,
          "symbol": "circle"
         },
         "mode": "markers",
         "name": "LionsLions",
         "orientation": "v",
         "showlegend": true,
         "type": "scatter",
         "x": [
          1132
         ],
         "xaxis": "x",
         "y": [
          11
         ],
         "yaxis": "y"
        },
        {
         "hovertemplate": "<b>%{hovertext}</b><br><br>Team=RamsRams<br>Pass Yds=%{x}<br>TD=%{y}<br>Att=%{marker.size}<extra></extra>",
         "hovertext": [
          "RamsRams"
         ],
         "legendgroup": "RamsRams",
         "marker": {
          "color": "#EF553B",
          "size": [
           150
          ],
          "sizemode": "area",
          "sizeref": 0.05361111111111111,
          "symbol": "circle"
         },
         "mode": "markers",
         "name": "RamsRams",
         "orientation": "v",
         "showlegend": true,
         "type": "scatter",
         "x": [
          1015
         ],
         "xaxis": "x",
         "y": [
          4
         ],
         "yaxis": "y"
        },
        {
         "hovertemplate": "<b>%{hovertext}</b><br><br>Team=ChiefsChiefs<br>Pass Yds=%{x}<br>TD=%{y}<br>Att=%{marker.size}<extra></extra>",
         "hovertext": [
          "ChiefsChiefs"
         ],
         "legendgroup": "ChiefsChiefs",
         "marker": {
          "color": "#00cc96",
          "size": [
           147
          ],
          "sizemode": "area",
          "sizeref": 0.05361111111111111,
          "symbol": "circle"
         },
         "mode": "markers",
         "name": "ChiefsChiefs",
         "orientation": "v",
         "showlegend": true,
         "type": "scatter",
         "x": [
          1106
         ],
         "xaxis": "x",
         "y": [
          11
         ],
         "yaxis": "y"
        },
        {
         "hovertemplate": "<b>%{hovertext}</b><br><br>Team=SaintsSaints<br>Pass Yds=%{x}<br>TD=%{y}<br>Att=%{marker.size}<extra></extra>",
         "hovertext": [
          "SaintsSaints"
         ],
         "legendgroup": "SaintsSaints",
         "marker": {
          "color": "#ab63fa",
          "size": [
           143
          ],
          "sizemode": "area",
          "sizeref": 0.05361111111111111,
          "symbol": "circle"
         },
         "mode": "markers",
         "name": "SaintsSaints",
         "orientation": "v",
         "showlegend": true,
         "type": "scatter",
         "x": [
          1094
         ],
         "xaxis": "x",
         "y": [
          5
         ],
         "yaxis": "y"
        },
        {
         "hovertemplate": "<b>%{hovertext}</b><br><br>Team=TexansTexans<br>Pass Yds=%{x}<br>TD=%{y}<br>Att=%{marker.size}<extra></extra>",
         "hovertext": [
          "TexansTexans"
         ],
         "legendgroup": "TexansTexans",
         "marker": {
          "color": "#FFA15A",
          "size": [
           142
          ],
          "sizemode": "area",
          "sizeref": 0.05361111111111111,
          "symbol": "circle"
         },
         "mode": "markers",
         "name": "TexansTexans",
         "orientation": "v",
         "showlegend": true,
         "type": "scatter",
         "x": [
          908
         ],
         "xaxis": "x",
         "y": [
          5
         ],
         "yaxis": "y"
        },
        {
         "hovertemplate": "<b>%{hovertext}</b><br><br>Team=DolphinsDolphins<br>Pass Yds=%{x}<br>TD=%{y}<br>Att=%{marker.size}<extra></extra>",
         "hovertext": [
          "DolphinsDolphins"
         ],
         "legendgroup": "DolphinsDolphins",
         "marker": {
          "color": "#19d3f3",
          "size": [
           140
          ],
          "sizemode": "area",
          "sizeref": 0.05361111111111111,
          "symbol": "circle"
         },
         "mode": "markers",
         "name": "DolphinsDolphins",
         "orientation": "v",
         "showlegend": true,
         "type": "scatter",
         "x": [
          1228
         ],
         "xaxis": "x",
         "y": [
          9
         ],
         "yaxis": "y"
        },
        {
         "hovertemplate": "<b>%{hovertext}</b><br><br>Team=PackersPackers<br>Pass Yds=%{x}<br>TD=%{y}<br>Att=%{marker.size}<extra></extra>",
         "hovertext": [
          "PackersPackers"
         ],
         "legendgroup": "PackersPackers",
         "marker": {
          "color": "#FF6692",
          "size": [
           134
          ],
          "sizemode": "area",
          "sizeref": 0.05361111111111111,
          "symbol": "circle"
         },
         "mode": "markers",
         "name": "PackersPackers",
         "orientation": "v",
         "showlegend": true,
         "type": "scatter",
         "x": [
          1000
         ],
         "xaxis": "x",
         "y": [
          6
         ],
         "yaxis": "y"
        },
        {
         "hovertemplate": "<b>%{hovertext}</b><br><br>Team=JaguarsJaguars<br>Pass Yds=%{x}<br>TD=%{y}<br>Att=%{marker.size}<extra></extra>",
         "hovertext": [
          "JaguarsJaguars"
         ],
         "legendgroup": "JaguarsJaguars",
         "marker": {
          "color": "#B6E880",
          "size": [
           134
          ],
          "sizemode": "area",
          "sizeref": 0.05361111111111111,
          "symbol": "circle"
         },
         "mode": "markers",
         "name": "JaguarsJaguars",
         "orientation": "v",
         "showlegend": true,
         "type": "scatter",
         "x": [
          946
         ],
         "xaxis": "x",
         "y": [
          8
         ],
         "yaxis": "y"
        },
        {
         "hovertemplate": "<b>%{hovertext}</b><br><br>Team=SeahawksSeahawks<br>Pass Yds=%{x}<br>TD=%{y}<br>Att=%{marker.size}<extra></extra>",
         "hovertext": [
          "SeahawksSeahawks"
         ],
         "legendgroup": "SeahawksSeahawks",
         "marker": {
          "color": "#FF97FF",
          "size": [
           133
          ],
          "sizemode": "area",
          "sizeref": 0.05361111111111111,
          "symbol": "circle"
         },
         "mode": "markers",
         "name": "SeahawksSeahawks",
         "orientation": "v",
         "showlegend": true,
         "type": "scatter",
         "x": [
          1037
         ],
         "xaxis": "x",
         "y": [
          6
         ],
         "yaxis": "y"
        },
        {
         "hovertemplate": "<b>%{hovertext}</b><br><br>Team=CowboysCowboys<br>Pass Yds=%{x}<br>TD=%{y}<br>Att=%{marker.size}<extra></extra>",
         "hovertext": [
          "CowboysCowboys"
         ],
         "legendgroup": "CowboysCowboys",
         "marker": {
          "color": "#FECB52",
          "size": [
           131
          ],
          "sizemode": "area",
          "sizeref": 0.05361111111111111,
          "symbol": "circle"
         },
         "mode": "markers",
         "name": "CowboysCowboys",
         "orientation": "v",
         "showlegend": true,
         "type": "scatter",
         "x": [
          871
         ],
         "xaxis": "x",
         "y": [
          4
         ],
         "yaxis": "y"
        },
        {
         "hovertemplate": "<b>%{hovertext}</b><br><br>Team=BroncosBroncos<br>Pass Yds=%{x}<br>TD=%{y}<br>Att=%{marker.size}<extra></extra>",
         "hovertext": [
          "BroncosBroncos"
         ],
         "legendgroup": "BroncosBroncos",
         "marker": {
          "color": "#636efa",
          "size": [
           131
          ],
          "sizemode": "area",
          "sizeref": 0.05361111111111111,
          "symbol": "circle"
         },
         "mode": "markers",
         "name": "BroncosBroncos",
         "orientation": "v",
         "showlegend": true,
         "type": "scatter",
         "x": [
          980
         ],
         "xaxis": "x",
         "y": [
          4
         ],
         "yaxis": "y"
        },
        {
         "hovertemplate": "<b>%{hovertext}</b><br><br>Team=SteelersSteelers<br>Pass Yds=%{x}<br>TD=%{y}<br>Att=%{marker.size}<extra></extra>",
         "hovertext": [
          "SteelersSteelers"
         ],
         "legendgroup": "SteelersSteelers",
         "marker": {
          "color": "#EF553B",
          "size": [
           129
          ],
          "sizemode": "area",
          "sizeref": 0.05361111111111111,
          "symbol": "circle"
         },
         "mode": "markers",
         "name": "SteelersSteelers",
         "orientation": "v",
         "showlegend": true,
         "type": "scatter",
         "x": [
          773
         ],
         "xaxis": "x",
         "y": [
          2
         ],
         "yaxis": "y"
        },
        {
         "hovertemplate": "<b>%{hovertext}</b><br><br>Team=BrownsBrowns<br>Pass Yds=%{x}<br>TD=%{y}<br>Att=%{marker.size}<extra></extra>",
         "hovertext": [
          "BrownsBrowns"
         ],
         "legendgroup": "BrownsBrowns",
         "marker": {
          "color": "#00cc96",
          "size": [
           127
          ],
          "sizemode": "area",
          "sizeref": 0.05361111111111111,
          "symbol": "circle"
         },
         "mode": "markers",
         "name": "BrownsBrowns",
         "orientation": "v",
         "showlegend": true,
         "type": "scatter",
         "x": [
          830
         ],
         "xaxis": "x",
         "y": [
          4
         ],
         "yaxis": "y"
        },
        {
         "hovertemplate": "<b>%{hovertext}</b><br><br>Team=EaglesEagles<br>Pass Yds=%{x}<br>TD=%{y}<br>Att=%{marker.size}<extra></extra>",
         "hovertext": [
          "EaglesEagles"
         ],
         "legendgroup": "EaglesEagles",
         "marker": {
          "color": "#ab63fa",
          "size": [
           123
          ],
          "sizemode": "area",
          "sizeref": 0.05361111111111111,
          "symbol": "circle"
         },
         "mode": "markers",
         "name": "EaglesEagles",
         "orientation": "v",
         "showlegend": true,
         "type": "scatter",
         "x": [
          1120
         ],
         "xaxis": "x",
         "y": [
          4
         ],
         "yaxis": "y"
        },
        {
         "hovertemplate": "<b>%{hovertext}</b><br><br>Team=PatriotsPatriots<br>Pass Yds=%{x}<br>TD=%{y}<br>Att=%{marker.size}<extra></extra>",
         "hovertext": [
          "PatriotsPatriots"
         ],
         "legendgroup": "PatriotsPatriots",
         "marker": {
          "color": "#FFA15A",
          "size": [
           118
          ],
          "sizemode": "area",
          "sizeref": 0.05361111111111111,
          "symbol": "circle"
         },
         "mode": "markers",
         "name": "PatriotsPatriots",
         "orientation": "v",
         "showlegend": true,
         "type": "scatter",
         "x": [
          922
         ],
         "xaxis": "x",
         "y": [
          3
         ],
         "yaxis": "y"
        },
        {
         "hovertemplate": "<b>%{hovertext}</b><br><br>Team=RavensRavens<br>Pass Yds=%{x}<br>TD=%{y}<br>Att=%{marker.size}<extra></extra>",
         "hovertext": [
          "RavensRavens"
         ],
         "legendgroup": "RavensRavens",
         "marker": {
          "color": "#19d3f3",
          "size": [
           117
          ],
          "sizemode": "area",
          "sizeref": 0.05361111111111111,
          "symbol": "circle"
         },
         "mode": "markers",
         "name": "RavensRavens",
         "orientation": "v",
         "showlegend": true,
         "type": "scatter",
         "x": [
          893
         ],
         "xaxis": "x",
         "y": [
          11
         ],
         "yaxis": "y"
        },
        {
         "hovertemplate": "<b>%{hovertext}</b><br><br>Team=PanthersPanthers<br>Pass Yds=%{x}<br>TD=%{y}<br>Att=%{marker.size}<extra></extra>",
         "hovertext": [
          "PanthersPanthers"
         ],
         "legendgroup": "PanthersPanthers",
         "marker": {
          "color": "#FF6692",
          "size": [
           117
          ],
          "sizemode": "area",
          "sizeref": 0.05361111111111111,
          "symbol": "circle"
         },
         "mode": "markers",
         "name": "PanthersPanthers",
         "orientation": "v",
         "showlegend": true,
         "type": "scatter",
         "x": [
          747
         ],
         "xaxis": "x",
         "y": [
          4
         ],
         "yaxis": "y"
        },
        {
         "hovertemplate": "<b>%{hovertext}</b><br><br>Team=GiantsGiants<br>Pass Yds=%{x}<br>TD=%{y}<br>Att=%{marker.size}<extra></extra>",
         "hovertext": [
          "GiantsGiants"
         ],
         "legendgroup": "GiantsGiants",
         "marker": {
          "color": "#B6E880",
          "size": [
           108
          ],
          "sizemode": "area",
          "sizeref": 0.05361111111111111,
          "symbol": "circle"
         },
         "mode": "markers",
         "name": "GiantsGiants",
         "orientation": "v",
         "showlegend": true,
         "type": "scatter",
         "x": [
          642
         ],
         "xaxis": "x",
         "y": [
          3
         ],
         "yaxis": "y"
        },
        {
         "hovertemplate": "<b>%{hovertext}</b><br><br>Team=49ers49ers<br>Pass Yds=%{x}<br>TD=%{y}<br>Att=%{marker.size}<extra></extra>",
         "hovertext": [
          "49ers49ers"
         ],
         "legendgroup": "49ers49ers",
         "marker": {
          "color": "#FF97FF",
          "size": [
           108
          ],
          "sizemode": "area",
          "sizeref": 0.05361111111111111,
          "symbol": "circle"
         },
         "mode": "markers",
         "name": "49ers49ers",
         "orientation": "v",
         "showlegend": true,
         "type": "scatter",
         "x": [
          798
         ],
         "xaxis": "x",
         "y": [
          3
         ],
         "yaxis": "y"
        },
        {
         "hovertemplate": "<b>%{hovertext}</b><br><br>Team=TitansTitans<br>Pass Yds=%{x}<br>TD=%{y}<br>Att=%{marker.size}<extra></extra>",
         "hovertext": [
          "TitansTitans"
         ],
         "legendgroup": "TitansTitans",
         "marker": {
          "color": "#FECB52",
          "size": [
           105
          ],
          "sizemode": "area",
          "sizeref": 0.05361111111111111,
          "symbol": "circle"
         },
         "mode": "markers",
         "name": "TitansTitans",
         "orientation": "v",
         "showlegend": true,
         "type": "scatter",
         "x": [
          790
         ],
         "xaxis": "x",
         "y": [
          5
         ],
         "yaxis": "y"
        },
        {
         "hovertemplate": "<b>%{hovertext}</b><br><br>Team=FalconsFalcons<br>Pass Yds=%{x}<br>TD=%{y}<br>Att=%{marker.size}<extra></extra>",
         "hovertext": [
          "FalconsFalcons"
         ],
         "legendgroup": "FalconsFalcons",
         "marker": {
          "color": "#636efa",
          "size": [
           98
          ],
          "sizemode": "area",
          "sizeref": 0.05361111111111111,
          "symbol": "circle"
         },
         "mode": "markers",
         "name": "FalconsFalcons",
         "orientation": "v",
         "showlegend": true,
         "type": "scatter",
         "x": [
          779
         ],
         "xaxis": "x",
         "y": [
          3
         ],
         "yaxis": "y"
        },
        {
         "hovertemplate": "<b>%{hovertext}</b><br><br>Team=BearsBears<br>Pass Yds=%{x}<br>TD=%{y}<br>Att=%{marker.size}<extra></extra>",
         "hovertext": [
          "BearsBears"
         ],
         "legendgroup": "BearsBears",
         "marker": {
          "color": "#EF553B",
          "size": [
           67
          ],
          "sizemode": "area",
          "sizeref": 0.05361111111111111,
          "symbol": "circle"
         },
         "mode": "markers",
         "name": "BearsBears",
         "orientation": "v",
         "showlegend": true,
         "type": "scatter",
         "x": [
          471
         ],
         "xaxis": "x",
         "y": [
          2
         ],
         "yaxis": "y"
        }
       ],
       "layout": {
        "legend": {
         "itemsizing": "constant",
         "title": {
          "text": "Team"
         },
         "tracegroupgap": 0
        },
        "margin": {
         "t": 60
        },
        "template": {
         "data": {
          "bar": [
           {
            "error_x": {
             "color": "#2a3f5f"
            },
            "error_y": {
             "color": "#2a3f5f"
            },
            "marker": {
             "line": {
              "color": "#E5ECF6",
              "width": 0.5
             },
             "pattern": {
              "fillmode": "overlay",
              "size": 10,
              "solidity": 0.2
             }
            },
            "type": "bar"
           }
          ],
          "barpolar": [
           {
            "marker": {
             "line": {
              "color": "#E5ECF6",
              "width": 0.5
             },
             "pattern": {
              "fillmode": "overlay",
              "size": 10,
              "solidity": 0.2
             }
            },
            "type": "barpolar"
           }
          ],
          "carpet": [
           {
            "aaxis": {
             "endlinecolor": "#2a3f5f",
             "gridcolor": "white",
             "linecolor": "white",
             "minorgridcolor": "white",
             "startlinecolor": "#2a3f5f"
            },
            "baxis": {
             "endlinecolor": "#2a3f5f",
             "gridcolor": "white",
             "linecolor": "white",
             "minorgridcolor": "white",
             "startlinecolor": "#2a3f5f"
            },
            "type": "carpet"
           }
          ],
          "choropleth": [
           {
            "colorbar": {
             "outlinewidth": 0,
             "ticks": ""
            },
            "type": "choropleth"
           }
          ],
          "contour": [
           {
            "colorbar": {
             "outlinewidth": 0,
             "ticks": ""
            },
            "colorscale": [
             [
              0,
              "#0d0887"
             ],
             [
              0.1111111111111111,
              "#46039f"
             ],
             [
              0.2222222222222222,
              "#7201a8"
             ],
             [
              0.3333333333333333,
              "#9c179e"
             ],
             [
              0.4444444444444444,
              "#bd3786"
             ],
             [
              0.5555555555555556,
              "#d8576b"
             ],
             [
              0.6666666666666666,
              "#ed7953"
             ],
             [
              0.7777777777777778,
              "#fb9f3a"
             ],
             [
              0.8888888888888888,
              "#fdca26"
             ],
             [
              1,
              "#f0f921"
             ]
            ],
            "type": "contour"
           }
          ],
          "contourcarpet": [
           {
            "colorbar": {
             "outlinewidth": 0,
             "ticks": ""
            },
            "type": "contourcarpet"
           }
          ],
          "heatmap": [
           {
            "colorbar": {
             "outlinewidth": 0,
             "ticks": ""
            },
            "colorscale": [
             [
              0,
              "#0d0887"
             ],
             [
              0.1111111111111111,
              "#46039f"
             ],
             [
              0.2222222222222222,
              "#7201a8"
             ],
             [
              0.3333333333333333,
              "#9c179e"
             ],
             [
              0.4444444444444444,
              "#bd3786"
             ],
             [
              0.5555555555555556,
              "#d8576b"
             ],
             [
              0.6666666666666666,
              "#ed7953"
             ],
             [
              0.7777777777777778,
              "#fb9f3a"
             ],
             [
              0.8888888888888888,
              "#fdca26"
             ],
             [
              1,
              "#f0f921"
             ]
            ],
            "type": "heatmap"
           }
          ],
          "heatmapgl": [
           {
            "colorbar": {
             "outlinewidth": 0,
             "ticks": ""
            },
            "colorscale": [
             [
              0,
              "#0d0887"
             ],
             [
              0.1111111111111111,
              "#46039f"
             ],
             [
              0.2222222222222222,
              "#7201a8"
             ],
             [
              0.3333333333333333,
              "#9c179e"
             ],
             [
              0.4444444444444444,
              "#bd3786"
             ],
             [
              0.5555555555555556,
              "#d8576b"
             ],
             [
              0.6666666666666666,
              "#ed7953"
             ],
             [
              0.7777777777777778,
              "#fb9f3a"
             ],
             [
              0.8888888888888888,
              "#fdca26"
             ],
             [
              1,
              "#f0f921"
             ]
            ],
            "type": "heatmapgl"
           }
          ],
          "histogram": [
           {
            "marker": {
             "pattern": {
              "fillmode": "overlay",
              "size": 10,
              "solidity": 0.2
             }
            },
            "type": "histogram"
           }
          ],
          "histogram2d": [
           {
            "colorbar": {
             "outlinewidth": 0,
             "ticks": ""
            },
            "colorscale": [
             [
              0,
              "#0d0887"
             ],
             [
              0.1111111111111111,
              "#46039f"
             ],
             [
              0.2222222222222222,
              "#7201a8"
             ],
             [
              0.3333333333333333,
              "#9c179e"
             ],
             [
              0.4444444444444444,
              "#bd3786"
             ],
             [
              0.5555555555555556,
              "#d8576b"
             ],
             [
              0.6666666666666666,
              "#ed7953"
             ],
             [
              0.7777777777777778,
              "#fb9f3a"
             ],
             [
              0.8888888888888888,
              "#fdca26"
             ],
             [
              1,
              "#f0f921"
             ]
            ],
            "type": "histogram2d"
           }
          ],
          "histogram2dcontour": [
           {
            "colorbar": {
             "outlinewidth": 0,
             "ticks": ""
            },
            "colorscale": [
             [
              0,
              "#0d0887"
             ],
             [
              0.1111111111111111,
              "#46039f"
             ],
             [
              0.2222222222222222,
              "#7201a8"
             ],
             [
              0.3333333333333333,
              "#9c179e"
             ],
             [
              0.4444444444444444,
              "#bd3786"
             ],
             [
              0.5555555555555556,
              "#d8576b"
             ],
             [
              0.6666666666666666,
              "#ed7953"
             ],
             [
              0.7777777777777778,
              "#fb9f3a"
             ],
             [
              0.8888888888888888,
              "#fdca26"
             ],
             [
              1,
              "#f0f921"
             ]
            ],
            "type": "histogram2dcontour"
           }
          ],
          "mesh3d": [
           {
            "colorbar": {
             "outlinewidth": 0,
             "ticks": ""
            },
            "type": "mesh3d"
           }
          ],
          "parcoords": [
           {
            "line": {
             "colorbar": {
              "outlinewidth": 0,
              "ticks": ""
             }
            },
            "type": "parcoords"
           }
          ],
          "pie": [
           {
            "automargin": true,
            "type": "pie"
           }
          ],
          "scatter": [
           {
            "fillpattern": {
             "fillmode": "overlay",
             "size": 10,
             "solidity": 0.2
            },
            "type": "scatter"
           }
          ],
          "scatter3d": [
           {
            "line": {
             "colorbar": {
              "outlinewidth": 0,
              "ticks": ""
             }
            },
            "marker": {
             "colorbar": {
              "outlinewidth": 0,
              "ticks": ""
             }
            },
            "type": "scatter3d"
           }
          ],
          "scattercarpet": [
           {
            "marker": {
             "colorbar": {
              "outlinewidth": 0,
              "ticks": ""
             }
            },
            "type": "scattercarpet"
           }
          ],
          "scattergeo": [
           {
            "marker": {
             "colorbar": {
              "outlinewidth": 0,
              "ticks": ""
             }
            },
            "type": "scattergeo"
           }
          ],
          "scattergl": [
           {
            "marker": {
             "colorbar": {
              "outlinewidth": 0,
              "ticks": ""
             }
            },
            "type": "scattergl"
           }
          ],
          "scattermapbox": [
           {
            "marker": {
             "colorbar": {
              "outlinewidth": 0,
              "ticks": ""
             }
            },
            "type": "scattermapbox"
           }
          ],
          "scatterpolar": [
           {
            "marker": {
             "colorbar": {
              "outlinewidth": 0,
              "ticks": ""
             }
            },
            "type": "scatterpolar"
           }
          ],
          "scatterpolargl": [
           {
            "marker": {
             "colorbar": {
              "outlinewidth": 0,
              "ticks": ""
             }
            },
            "type": "scatterpolargl"
           }
          ],
          "scatterternary": [
           {
            "marker": {
             "colorbar": {
              "outlinewidth": 0,
              "ticks": ""
             }
            },
            "type": "scatterternary"
           }
          ],
          "surface": [
           {
            "colorbar": {
             "outlinewidth": 0,
             "ticks": ""
            },
            "colorscale": [
             [
              0,
              "#0d0887"
             ],
             [
              0.1111111111111111,
              "#46039f"
             ],
             [
              0.2222222222222222,
              "#7201a8"
             ],
             [
              0.3333333333333333,
              "#9c179e"
             ],
             [
              0.4444444444444444,
              "#bd3786"
             ],
             [
              0.5555555555555556,
              "#d8576b"
             ],
             [
              0.6666666666666666,
              "#ed7953"
             ],
             [
              0.7777777777777778,
              "#fb9f3a"
             ],
             [
              0.8888888888888888,
              "#fdca26"
             ],
             [
              1,
              "#f0f921"
             ]
            ],
            "type": "surface"
           }
          ],
          "table": [
           {
            "cells": {
             "fill": {
              "color": "#EBF0F8"
             },
             "line": {
              "color": "white"
             }
            },
            "header": {
             "fill": {
              "color": "#C8D4E3"
             },
             "line": {
              "color": "white"
             }
            },
            "type": "table"
           }
          ]
         },
         "layout": {
          "annotationdefaults": {
           "arrowcolor": "#2a3f5f",
           "arrowhead": 0,
           "arrowwidth": 1
          },
          "autotypenumbers": "strict",
          "coloraxis": {
           "colorbar": {
            "outlinewidth": 0,
            "ticks": ""
           }
          },
          "colorscale": {
           "diverging": [
            [
             0,
             "#8e0152"
            ],
            [
             0.1,
             "#c51b7d"
            ],
            [
             0.2,
             "#de77ae"
            ],
            [
             0.3,
             "#f1b6da"
            ],
            [
             0.4,
             "#fde0ef"
            ],
            [
             0.5,
             "#f7f7f7"
            ],
            [
             0.6,
             "#e6f5d0"
            ],
            [
             0.7,
             "#b8e186"
            ],
            [
             0.8,
             "#7fbc41"
            ],
            [
             0.9,
             "#4d9221"
            ],
            [
             1,
             "#276419"
            ]
           ],
           "sequential": [
            [
             0,
             "#0d0887"
            ],
            [
             0.1111111111111111,
             "#46039f"
            ],
            [
             0.2222222222222222,
             "#7201a8"
            ],
            [
             0.3333333333333333,
             "#9c179e"
            ],
            [
             0.4444444444444444,
             "#bd3786"
            ],
            [
             0.5555555555555556,
             "#d8576b"
            ],
            [
             0.6666666666666666,
             "#ed7953"
            ],
            [
             0.7777777777777778,
             "#fb9f3a"
            ],
            [
             0.8888888888888888,
             "#fdca26"
            ],
            [
             1,
             "#f0f921"
            ]
           ],
           "sequentialminus": [
            [
             0,
             "#0d0887"
            ],
            [
             0.1111111111111111,
             "#46039f"
            ],
            [
             0.2222222222222222,
             "#7201a8"
            ],
            [
             0.3333333333333333,
             "#9c179e"
            ],
            [
             0.4444444444444444,
             "#bd3786"
            ],
            [
             0.5555555555555556,
             "#d8576b"
            ],
            [
             0.6666666666666666,
             "#ed7953"
            ],
            [
             0.7777777777777778,
             "#fb9f3a"
            ],
            [
             0.8888888888888888,
             "#fdca26"
            ],
            [
             1,
             "#f0f921"
            ]
           ]
          },
          "colorway": [
           "#636efa",
           "#EF553B",
           "#00cc96",
           "#ab63fa",
           "#FFA15A",
           "#19d3f3",
           "#FF6692",
           "#B6E880",
           "#FF97FF",
           "#FECB52"
          ],
          "font": {
           "color": "#2a3f5f"
          },
          "geo": {
           "bgcolor": "white",
           "lakecolor": "white",
           "landcolor": "#E5ECF6",
           "showlakes": true,
           "showland": true,
           "subunitcolor": "white"
          },
          "hoverlabel": {
           "align": "left"
          },
          "hovermode": "closest",
          "mapbox": {
           "style": "light"
          },
          "paper_bgcolor": "white",
          "plot_bgcolor": "#E5ECF6",
          "polar": {
           "angularaxis": {
            "gridcolor": "white",
            "linecolor": "white",
            "ticks": ""
           },
           "bgcolor": "#E5ECF6",
           "radialaxis": {
            "gridcolor": "white",
            "linecolor": "white",
            "ticks": ""
           }
          },
          "scene": {
           "xaxis": {
            "backgroundcolor": "#E5ECF6",
            "gridcolor": "white",
            "gridwidth": 2,
            "linecolor": "white",
            "showbackground": true,
            "ticks": "",
            "zerolinecolor": "white"
           },
           "yaxis": {
            "backgroundcolor": "#E5ECF6",
            "gridcolor": "white",
            "gridwidth": 2,
            "linecolor": "white",
            "showbackground": true,
            "ticks": "",
            "zerolinecolor": "white"
           },
           "zaxis": {
            "backgroundcolor": "#E5ECF6",
            "gridcolor": "white",
            "gridwidth": 2,
            "linecolor": "white",
            "showbackground": true,
            "ticks": "",
            "zerolinecolor": "white"
           }
          },
          "shapedefaults": {
           "line": {
            "color": "#2a3f5f"
           }
          },
          "ternary": {
           "aaxis": {
            "gridcolor": "white",
            "linecolor": "white",
            "ticks": ""
           },
           "baxis": {
            "gridcolor": "white",
            "linecolor": "white",
            "ticks": ""
           },
           "bgcolor": "#E5ECF6",
           "caxis": {
            "gridcolor": "white",
            "linecolor": "white",
            "ticks": ""
           }
          },
          "title": {
           "x": 0.05
          },
          "xaxis": {
           "automargin": true,
           "gridcolor": "white",
           "linecolor": "white",
           "ticks": "",
           "title": {
            "standoff": 15
           },
           "zerolinecolor": "white",
           "zerolinewidth": 2
          },
          "yaxis": {
           "automargin": true,
           "gridcolor": "white",
           "linecolor": "white",
           "ticks": "",
           "title": {
            "standoff": 15
           },
           "zerolinecolor": "white",
           "zerolinewidth": 2
          }
         }
        },
        "xaxis": {
         "anchor": "y",
         "domain": [
          0,
          1
         ],
         "title": {
          "text": "Pass Yds"
         }
        },
        "yaxis": {
         "anchor": "x",
         "domain": [
          0,
          1
         ],
         "title": {
          "text": "TD"
         }
        }
       }
      }
     },
     "metadata": {},
     "output_type": "display_data"
    }
   ],
   "source": [
    "px.scatter(passing_df, x='Pass Yds', y='TD', color='Team', size='Att', hover_name='Team', size_max=60)"
   ]
  },
  {
   "cell_type": "code",
   "execution_count": 12,
   "metadata": {},
   "outputs": [
    {
     "data": {
      "application/vnd.plotly.v1+json": {
       "config": {
        "plotlyServerURL": "https://plot.ly"
       },
       "data": [
        {
         "hovertemplate": "<b>%{hovertext}</b><br><br>Team=EaglesEagles<br>Rush Yds=%{x}<br>TD=%{y}<br>Att=%{marker.size}<extra></extra>",
         "hovertext": [
          "EaglesEagles"
         ],
         "legendgroup": "EaglesEagles",
         "marker": {
          "color": "#636efa",
          "size": [
           153
          ],
          "sizemode": "area",
          "sizeref": 0.0425,
          "symbol": "circle"
         },
         "mode": "markers",
         "name": "EaglesEagles",
         "orientation": "v",
         "showlegend": true,
         "type": "scatter",
         "x": [
          661
         ],
         "xaxis": "x",
         "y": [
          10
         ],
         "yaxis": "y"
        },
        {
         "hovertemplate": "<b>%{hovertext}</b><br><br>Team=BrownsBrowns<br>Rush Yds=%{x}<br>TD=%{y}<br>Att=%{marker.size}<extra></extra>",
         "hovertext": [
          "BrownsBrowns"
         ],
         "legendgroup": "BrownsBrowns",
         "marker": {
          "color": "#EF553B",
          "size": [
           149
          ],
          "sizemode": "area",
          "sizeref": 0.0425,
          "symbol": "circle"
         },
         "mode": "markers",
         "name": "BrownsBrowns",
         "orientation": "v",
         "showlegend": true,
         "type": "scatter",
         "x": [
          749
         ],
         "xaxis": "x",
         "y": [
          7
         ],
         "yaxis": "y"
        },
        {
         "hovertemplate": "<b>%{hovertext}</b><br><br>Team=BearsBears<br>Rush Yds=%{x}<br>TD=%{y}<br>Att=%{marker.size}<extra></extra>",
         "hovertext": [
          "BearsBears"
         ],
         "legendgroup": "BearsBears",
         "marker": {
          "color": "#00cc96",
          "size": [
           136
          ],
          "sizemode": "area",
          "sizeref": 0.0425,
          "symbol": "circle"
         },
         "mode": "markers",
         "name": "BearsBears",
         "orientation": "v",
         "showlegend": true,
         "type": "scatter",
         "x": [
          709
         ],
         "xaxis": "x",
         "y": [
          4
         ],
         "yaxis": "y"
        },
        {
         "hovertemplate": "<b>%{hovertext}</b><br><br>Team=GiantsGiants<br>Rush Yds=%{x}<br>TD=%{y}<br>Att=%{marker.size}<extra></extra>",
         "hovertext": [
          "GiantsGiants"
         ],
         "legendgroup": "GiantsGiants",
         "marker": {
          "color": "#ab63fa",
          "size": [
           134
          ],
          "sizemode": "area",
          "sizeref": 0.0425,
          "symbol": "circle"
         },
         "mode": "markers",
         "name": "GiantsGiants",
         "orientation": "v",
         "showlegend": true,
         "type": "scatter",
         "x": [
          770
         ],
         "xaxis": "x",
         "y": [
          4
         ],
         "yaxis": "y"
        },
        {
         "hovertemplate": "<b>%{hovertext}</b><br><br>Team=FalconsFalcons<br>Rush Yds=%{x}<br>TD=%{y}<br>Att=%{marker.size}<extra></extra>",
         "hovertext": [
          "FalconsFalcons"
         ],
         "legendgroup": "FalconsFalcons",
         "marker": {
          "color": "#FFA15A",
          "size": [
           131
          ],
          "sizemode": "area",
          "sizeref": 0.0425,
          "symbol": "circle"
         },
         "mode": "markers",
         "name": "FalconsFalcons",
         "orientation": "v",
         "showlegend": true,
         "type": "scatter",
         "x": [
          672
         ],
         "xaxis": "x",
         "y": [
          6
         ],
         "yaxis": "y"
        },
        {
         "hovertemplate": "<b>%{hovertext}</b><br><br>Team=49ers49ers<br>Rush Yds=%{x}<br>TD=%{y}<br>Att=%{marker.size}<extra></extra>",
         "hovertext": [
          "49ers49ers"
         ],
         "legendgroup": "49ers49ers",
         "marker": {
          "color": "#19d3f3",
          "size": [
           123
          ],
          "sizemode": "area",
          "sizeref": 0.0425,
          "symbol": "circle"
         },
         "mode": "markers",
         "name": "49ers49ers",
         "orientation": "v",
         "showlegend": true,
         "type": "scatter",
         "x": [
          541
         ],
         "xaxis": "x",
         "y": [
          4
         ],
         "yaxis": "y"
        },
        {
         "hovertemplate": "<b>%{hovertext}</b><br><br>Team=BengalsBengals<br>Rush Yds=%{x}<br>TD=%{y}<br>Att=%{marker.size}<extra></extra>",
         "hovertext": [
          "BengalsBengals"
         ],
         "legendgroup": "BengalsBengals",
         "marker": {
          "color": "#FF6692",
          "size": [
           117
          ],
          "sizemode": "area",
          "sizeref": 0.0425,
          "symbol": "circle"
         },
         "mode": "markers",
         "name": "BengalsBengals",
         "orientation": "v",
         "showlegend": true,
         "type": "scatter",
         "x": [
          358
         ],
         "xaxis": "x",
         "y": [
          1
         ],
         "yaxis": "y"
        },
        {
         "hovertemplate": "<b>%{hovertext}</b><br><br>Team=PackersPackers<br>Rush Yds=%{x}<br>TD=%{y}<br>Att=%{marker.size}<extra></extra>",
         "hovertext": [
          "PackersPackers"
         ],
         "legendgroup": "PackersPackers",
         "marker": {
          "color": "#B6E880",
          "size": [
           116
          ],
          "sizemode": "area",
          "sizeref": 0.0425,
          "symbol": "circle"
         },
         "mode": "markers",
         "name": "PackersPackers",
         "orientation": "v",
         "showlegend": true,
         "type": "scatter",
         "x": [
          580
         ],
         "xaxis": "x",
         "y": [
          3
         ],
         "yaxis": "y"
        },
        {
         "hovertemplate": "<b>%{hovertext}</b><br><br>Team=PatriotsPatriots<br>Rush Yds=%{x}<br>TD=%{y}<br>Att=%{marker.size}<extra></extra>",
         "hovertext": [
          "PatriotsPatriots"
         ],
         "legendgroup": "PatriotsPatriots",
         "marker": {
          "color": "#FF97FF",
          "size": [
           114
          ],
          "sizemode": "area",
          "sizeref": 0.0425,
          "symbol": "circle"
         },
         "mode": "markers",
         "name": "PatriotsPatriots",
         "orientation": "v",
         "showlegend": true,
         "type": "scatter",
         "x": [
          514
         ],
         "xaxis": "x",
         "y": [
          5
         ],
         "yaxis": "y"
        },
        {
         "hovertemplate": "<b>%{hovertext}</b><br><br>Team=LionsLions<br>Rush Yds=%{x}<br>TD=%{y}<br>Att=%{marker.size}<extra></extra>",
         "hovertext": [
          "LionsLions"
         ],
         "legendgroup": "LionsLions",
         "marker": {
          "color": "#FECB52",
          "size": [
           112
          ],
          "sizemode": "area",
          "sizeref": 0.0425,
          "symbol": "circle"
         },
         "mode": "markers",
         "name": "LionsLions",
         "orientation": "v",
         "showlegend": true,
         "type": "scatter",
         "x": [
          656
         ],
         "xaxis": "x",
         "y": [
          7
         ],
         "yaxis": "y"
        },
        {
         "hovertemplate": "<b>%{hovertext}</b><br><br>Team=JaguarsJaguars<br>Rush Yds=%{x}<br>TD=%{y}<br>Att=%{marker.size}<extra></extra>",
         "hovertext": [
          "JaguarsJaguars"
         ],
         "legendgroup": "JaguarsJaguars",
         "marker": {
          "color": "#636efa",
          "size": [
           110
          ],
          "sizemode": "area",
          "sizeref": 0.0425,
          "symbol": "circle"
         },
         "mode": "markers",
         "name": "JaguarsJaguars",
         "orientation": "v",
         "showlegend": true,
         "type": "scatter",
         "x": [
          441
         ],
         "xaxis": "x",
         "y": [
          3
         ],
         "yaxis": "y"
        },
        {
         "hovertemplate": "<b>%{hovertext}</b><br><br>Team=TitansTitans<br>Rush Yds=%{x}<br>TD=%{y}<br>Att=%{marker.size}<extra></extra>",
         "hovertext": [
          "TitansTitans"
         ],
         "legendgroup": "TitansTitans",
         "marker": {
          "color": "#EF553B",
          "size": [
           108
          ],
          "sizemode": "area",
          "sizeref": 0.0425,
          "symbol": "circle"
         },
         "mode": "markers",
         "name": "TitansTitans",
         "orientation": "v",
         "showlegend": true,
         "type": "scatter",
         "x": [
          409
         ],
         "xaxis": "x",
         "y": [
          4
         ],
         "yaxis": "y"
        },
        {
         "hovertemplate": "<b>%{hovertext}</b><br><br>Team=CardinalsCardinals<br>Rush Yds=%{x}<br>TD=%{y}<br>Att=%{marker.size}<extra></extra>",
         "hovertext": [
          "CardinalsCardinals"
         ],
         "legendgroup": "CardinalsCardinals",
         "marker": {
          "color": "#00cc96",
          "size": [
           108
          ],
          "sizemode": "area",
          "sizeref": 0.0425,
          "symbol": "circle"
         },
         "mode": "markers",
         "name": "CardinalsCardinals",
         "orientation": "v",
         "showlegend": true,
         "type": "scatter",
         "x": [
          448
         ],
         "xaxis": "x",
         "y": [
          4
         ],
         "yaxis": "y"
        },
        {
         "hovertemplate": "<b>%{hovertext}</b><br><br>Team=RavensRavens<br>Rush Yds=%{x}<br>TD=%{y}<br>Att=%{marker.size}<extra></extra>",
         "hovertext": [
          "RavensRavens"
         ],
         "legendgroup": "RavensRavens",
         "marker": {
          "color": "#ab63fa",
          "size": [
           105
          ],
          "sizemode": "area",
          "sizeref": 0.0425,
          "symbol": "circle"
         },
         "mode": "markers",
         "name": "RavensRavens",
         "orientation": "v",
         "showlegend": true,
         "type": "scatter",
         "x": [
          568
         ],
         "xaxis": "x",
         "y": [
          3
         ],
         "yaxis": "y"
        },
        {
         "hovertemplate": "<b>%{hovertext}</b><br><br>Team=ChiefsChiefs<br>Rush Yds=%{x}<br>TD=%{y}<br>Att=%{marker.size}<extra></extra>",
         "hovertext": [
          "ChiefsChiefs"
         ],
         "legendgroup": "ChiefsChiefs",
         "marker": {
          "color": "#FFA15A",
          "size": [
           105
          ],
          "sizemode": "area",
          "sizeref": 0.0425,
          "symbol": "circle"
         },
         "mode": "markers",
         "name": "ChiefsChiefs",
         "orientation": "v",
         "showlegend": true,
         "type": "scatter",
         "x": [
          468
         ],
         "xaxis": "x",
         "y": [
          4
         ],
         "yaxis": "y"
        },
        {
         "hovertemplate": "<b>%{hovertext}</b><br><br>Team=CowboysCowboys<br>Rush Yds=%{x}<br>TD=%{y}<br>Att=%{marker.size}<extra></extra>",
         "hovertext": [
          "CowboysCowboys"
         ],
         "legendgroup": "CowboysCowboys",
         "marker": {
          "color": "#19d3f3",
          "size": [
           104
          ],
          "sizemode": "area",
          "sizeref": 0.0425,
          "symbol": "circle"
         },
         "mode": "markers",
         "name": "CowboysCowboys",
         "orientation": "v",
         "showlegend": true,
         "type": "scatter",
         "x": [
          416
         ],
         "xaxis": "x",
         "y": [
          2
         ],
         "yaxis": "y"
        },
        {
         "hovertemplate": "<b>%{hovertext}</b><br><br>Team=BroncosBroncos<br>Rush Yds=%{x}<br>TD=%{y}<br>Att=%{marker.size}<extra></extra>",
         "hovertext": [
          "BroncosBroncos"
         ],
         "legendgroup": "BroncosBroncos",
         "marker": {
          "color": "#FF6692",
          "size": [
           104
          ],
          "sizemode": "area",
          "sizeref": 0.0425,
          "symbol": "circle"
         },
         "mode": "markers",
         "name": "BroncosBroncos",
         "orientation": "v",
         "showlegend": true,
         "type": "scatter",
         "x": [
          438
         ],
         "xaxis": "x",
         "y": [
          2
         ],
         "yaxis": "y"
        },
        {
         "hovertemplate": "<b>%{hovertext}</b><br><br>Team=ColtsColts<br>Rush Yds=%{x}<br>TD=%{y}<br>Att=%{marker.size}<extra></extra>",
         "hovertext": [
          "ColtsColts"
         ],
         "legendgroup": "ColtsColts",
         "marker": {
          "color": "#B6E880",
          "size": [
           101
          ],
          "sizemode": "area",
          "sizeref": 0.0425,
          "symbol": "circle"
         },
         "mode": "markers",
         "name": "ColtsColts",
         "orientation": "v",
         "showlegend": true,
         "type": "scatter",
         "x": [
          351
         ],
         "xaxis": "x",
         "y": [
          1
         ],
         "yaxis": "y"
        },
        {
         "hovertemplate": "<b>%{hovertext}</b><br><br>Team=CommandersCommanders<br>Rush Yds=%{x}<br>TD=%{y}<br>Att=%{marker.size}<extra></extra>",
         "hovertext": [
          "CommandersCommanders"
         ],
         "legendgroup": "CommandersCommanders",
         "marker": {
          "color": "#FF97FF",
          "size": [
           98
          ],
          "sizemode": "area",
          "sizeref": 0.0425,
          "symbol": "circle"
         },
         "mode": "markers",
         "name": "CommandersCommanders",
         "orientation": "v",
         "showlegend": true,
         "type": "scatter",
         "x": [
          402
         ],
         "xaxis": "x",
         "y": [
          2
         ],
         "yaxis": "y"
        },
        {
         "hovertemplate": "<b>%{hovertext}</b><br><br>Team=BillsBills<br>Rush Yds=%{x}<br>TD=%{y}<br>Att=%{marker.size}<extra></extra>",
         "hovertext": [
          "BillsBills"
         ],
         "legendgroup": "BillsBills",
         "marker": {
          "color": "#FECB52",
          "size": [
           97
          ],
          "sizemode": "area",
          "sizeref": 0.0425,
          "symbol": "circle"
         },
         "mode": "markers",
         "name": "BillsBills",
         "orientation": "v",
         "showlegend": true,
         "type": "scatter",
         "x": [
          462
         ],
         "xaxis": "x",
         "y": [
          2
         ],
         "yaxis": "y"
        },
        {
         "hovertemplate": "<b>%{hovertext}</b><br><br>Team=SteelersSteelers<br>Rush Yds=%{x}<br>TD=%{y}<br>Att=%{marker.size}<extra></extra>",
         "hovertext": [
          "SteelersSteelers"
         ],
         "legendgroup": "SteelersSteelers",
         "marker": {
          "color": "#636efa",
          "size": [
           97
          ],
          "sizemode": "area",
          "sizeref": 0.0425,
          "symbol": "circle"
         },
         "mode": "markers",
         "name": "SteelersSteelers",
         "orientation": "v",
         "showlegend": true,
         "type": "scatter",
         "x": [
          389
         ],
         "xaxis": "x",
         "y": [
          4
         ],
         "yaxis": "y"
        },
        {
         "hovertemplate": "<b>%{hovertext}</b><br><br>Team=ChargersChargers<br>Rush Yds=%{x}<br>TD=%{y}<br>Att=%{marker.size}<extra></extra>",
         "hovertext": [
          "ChargersChargers"
         ],
         "legendgroup": "ChargersChargers",
         "marker": {
          "color": "#EF553B",
          "size": [
           94
          ],
          "sizemode": "area",
          "sizeref": 0.0425,
          "symbol": "circle"
         },
         "mode": "markers",
         "name": "ChargersChargers",
         "orientation": "v",
         "showlegend": true,
         "type": "scatter",
         "x": [
          258
         ],
         "xaxis": "x",
         "y": [
          2
         ],
         "yaxis": "y"
        },
        {
         "hovertemplate": "<b>%{hovertext}</b><br><br>Team=RaidersRaiders<br>Rush Yds=%{x}<br>TD=%{y}<br>Att=%{marker.size}<extra></extra>",
         "hovertext": [
          "RaidersRaiders"
         ],
         "legendgroup": "RaidersRaiders",
         "marker": {
          "color": "#00cc96",
          "size": [
           91
          ],
          "sizemode": "area",
          "sizeref": 0.0425,
          "symbol": "circle"
         },
         "mode": "markers",
         "name": "RaidersRaiders",
         "orientation": "v",
         "showlegend": true,
         "type": "scatter",
         "x": [
          452
         ],
         "xaxis": "x",
         "y": [
          2
         ],
         "yaxis": "y"
        },
        {
         "hovertemplate": "<b>%{hovertext}</b><br><br>Team=VikingsVikings<br>Rush Yds=%{x}<br>TD=%{y}<br>Att=%{marker.size}<extra></extra>",
         "hovertext": [
          "VikingsVikings"
         ],
         "legendgroup": "VikingsVikings",
         "marker": {
          "color": "#ab63fa",
          "size": [
           89
          ],
          "sizemode": "area",
          "sizeref": 0.0425,
          "symbol": "circle"
         },
         "mode": "markers",
         "name": "VikingsVikings",
         "orientation": "v",
         "showlegend": true,
         "type": "scatter",
         "x": [
          392
         ],
         "xaxis": "x",
         "y": [
          3
         ],
         "yaxis": "y"
        },
        {
         "hovertemplate": "<b>%{hovertext}</b><br><br>Team=SeahawksSeahawks<br>Rush Yds=%{x}<br>TD=%{y}<br>Att=%{marker.size}<extra></extra>",
         "hovertext": [
          "SeahawksSeahawks"
         ],
         "legendgroup": "SeahawksSeahawks",
         "marker": {
          "color": "#FFA15A",
          "size": [
           89
          ],
          "sizemode": "area",
          "sizeref": 0.0425,
          "symbol": "circle"
         },
         "mode": "markers",
         "name": "SeahawksSeahawks",
         "orientation": "v",
         "showlegend": true,
         "type": "scatter",
         "x": [
          459
         ],
         "xaxis": "x",
         "y": [
          3
         ],
         "yaxis": "y"
        },
        {
         "hovertemplate": "<b>%{hovertext}</b><br><br>Team=SaintsSaints<br>Rush Yds=%{x}<br>TD=%{y}<br>Att=%{marker.size}<extra></extra>",
         "hovertext": [
          "SaintsSaints"
         ],
         "legendgroup": "SaintsSaints",
         "marker": {
          "color": "#19d3f3",
          "size": [
           88
          ],
          "sizemode": "area",
          "sizeref": 0.0425,
          "symbol": "circle"
         },
         "mode": "markers",
         "name": "SaintsSaints",
         "orientation": "v",
         "showlegend": true,
         "type": "scatter",
         "x": [
          446
         ],
         "xaxis": "x",
         "y": [
          4
         ],
         "yaxis": "y"
        },
        {
         "hovertemplate": "<b>%{hovertext}</b><br><br>Team=PanthersPanthers<br>Rush Yds=%{x}<br>TD=%{y}<br>Att=%{marker.size}<extra></extra>",
         "hovertext": [
          "PanthersPanthers"
         ],
         "legendgroup": "PanthersPanthers",
         "marker": {
          "color": "#FF6692",
          "size": [
           86
          ],
          "sizemode": "area",
          "sizeref": 0.0425,
          "symbol": "circle"
         },
         "mode": "markers",
         "name": "PanthersPanthers",
         "orientation": "v",
         "showlegend": true,
         "type": "scatter",
         "x": [
          385
         ],
         "xaxis": "x",
         "y": [
          2
         ],
         "yaxis": "y"
        },
        {
         "hovertemplate": "<b>%{hovertext}</b><br><br>Team=JetsJets<br>Rush Yds=%{x}<br>TD=%{y}<br>Att=%{marker.size}<extra></extra>",
         "hovertext": [
          "JetsJets"
         ],
         "legendgroup": "JetsJets",
         "marker": {
          "color": "#B6E880",
          "size": [
           86
          ],
          "sizemode": "area",
          "sizeref": 0.0425,
          "symbol": "circle"
         },
         "mode": "markers",
         "name": "JetsJets",
         "orientation": "v",
         "showlegend": true,
         "type": "scatter",
         "x": [
          350
         ],
         "xaxis": "x",
         "y": [
          1
         ],
         "yaxis": "y"
        },
        {
         "hovertemplate": "<b>%{hovertext}</b><br><br>Team=TexansTexans<br>Rush Yds=%{x}<br>TD=%{y}<br>Att=%{marker.size}<extra></extra>",
         "hovertext": [
          "TexansTexans"
         ],
         "legendgroup": "TexansTexans",
         "marker": {
          "color": "#FF97FF",
          "size": [
           84
          ],
          "sizemode": "area",
          "sizeref": 0.0425,
          "symbol": "circle"
         },
         "mode": "markers",
         "name": "TexansTexans",
         "orientation": "v",
         "showlegend": true,
         "type": "scatter",
         "x": [
          380
         ],
         "xaxis": "x",
         "y": [
          2
         ],
         "yaxis": "y"
        },
        {
         "hovertemplate": "<b>%{hovertext}</b><br><br>Team=BuccaneersBuccaneers<br>Rush Yds=%{x}<br>TD=%{y}<br>Att=%{marker.size}<extra></extra>",
         "hovertext": [
          "BuccaneersBuccaneers"
         ],
         "legendgroup": "BuccaneersBuccaneers",
         "marker": {
          "color": "#FECB52",
          "size": [
           83
          ],
          "sizemode": "area",
          "sizeref": 0.0425,
          "symbol": "circle"
         },
         "mode": "markers",
         "name": "BuccaneersBuccaneers",
         "orientation": "v",
         "showlegend": true,
         "type": "scatter",
         "x": [
          261
         ],
         "xaxis": "x",
         "y": [
          1
         ],
         "yaxis": "y"
        },
        {
         "hovertemplate": "<b>%{hovertext}</b><br><br>Team=RamsRams<br>Rush Yds=%{x}<br>TD=%{y}<br>Att=%{marker.size}<extra></extra>",
         "hovertext": [
          "RamsRams"
         ],
         "legendgroup": "RamsRams",
         "marker": {
          "color": "#636efa",
          "size": [
           82
          ],
          "sizemode": "area",
          "sizeref": 0.0425,
          "symbol": "circle"
         },
         "mode": "markers",
         "name": "RamsRams",
         "orientation": "v",
         "showlegend": true,
         "type": "scatter",
         "x": [
          274
         ],
         "xaxis": "x",
         "y": [
          3
         ],
         "yaxis": "y"
        },
        {
         "hovertemplate": "<b>%{hovertext}</b><br><br>Team=DolphinsDolphins<br>Rush Yds=%{x}<br>TD=%{y}<br>Att=%{marker.size}<extra></extra>",
         "hovertext": [
          "DolphinsDolphins"
         ],
         "legendgroup": "DolphinsDolphins",
         "marker": {
          "color": "#EF553B",
          "size": [
           80
          ],
          "sizemode": "area",
          "sizeref": 0.0425,
          "symbol": "circle"
         },
         "mode": "markers",
         "name": "DolphinsDolphins",
         "orientation": "v",
         "showlegend": true,
         "type": "scatter",
         "x": [
          277
         ],
         "xaxis": "x",
         "y": [
          2
         ],
         "yaxis": "y"
        }
       ],
       "layout": {
        "legend": {
         "itemsizing": "constant",
         "title": {
          "text": "Team"
         },
         "tracegroupgap": 0
        },
        "margin": {
         "t": 60
        },
        "template": {
         "data": {
          "bar": [
           {
            "error_x": {
             "color": "#2a3f5f"
            },
            "error_y": {
             "color": "#2a3f5f"
            },
            "marker": {
             "line": {
              "color": "#E5ECF6",
              "width": 0.5
             },
             "pattern": {
              "fillmode": "overlay",
              "size": 10,
              "solidity": 0.2
             }
            },
            "type": "bar"
           }
          ],
          "barpolar": [
           {
            "marker": {
             "line": {
              "color": "#E5ECF6",
              "width": 0.5
             },
             "pattern": {
              "fillmode": "overlay",
              "size": 10,
              "solidity": 0.2
             }
            },
            "type": "barpolar"
           }
          ],
          "carpet": [
           {
            "aaxis": {
             "endlinecolor": "#2a3f5f",
             "gridcolor": "white",
             "linecolor": "white",
             "minorgridcolor": "white",
             "startlinecolor": "#2a3f5f"
            },
            "baxis": {
             "endlinecolor": "#2a3f5f",
             "gridcolor": "white",
             "linecolor": "white",
             "minorgridcolor": "white",
             "startlinecolor": "#2a3f5f"
            },
            "type": "carpet"
           }
          ],
          "choropleth": [
           {
            "colorbar": {
             "outlinewidth": 0,
             "ticks": ""
            },
            "type": "choropleth"
           }
          ],
          "contour": [
           {
            "colorbar": {
             "outlinewidth": 0,
             "ticks": ""
            },
            "colorscale": [
             [
              0,
              "#0d0887"
             ],
             [
              0.1111111111111111,
              "#46039f"
             ],
             [
              0.2222222222222222,
              "#7201a8"
             ],
             [
              0.3333333333333333,
              "#9c179e"
             ],
             [
              0.4444444444444444,
              "#bd3786"
             ],
             [
              0.5555555555555556,
              "#d8576b"
             ],
             [
              0.6666666666666666,
              "#ed7953"
             ],
             [
              0.7777777777777778,
              "#fb9f3a"
             ],
             [
              0.8888888888888888,
              "#fdca26"
             ],
             [
              1,
              "#f0f921"
             ]
            ],
            "type": "contour"
           }
          ],
          "contourcarpet": [
           {
            "colorbar": {
             "outlinewidth": 0,
             "ticks": ""
            },
            "type": "contourcarpet"
           }
          ],
          "heatmap": [
           {
            "colorbar": {
             "outlinewidth": 0,
             "ticks": ""
            },
            "colorscale": [
             [
              0,
              "#0d0887"
             ],
             [
              0.1111111111111111,
              "#46039f"
             ],
             [
              0.2222222222222222,
              "#7201a8"
             ],
             [
              0.3333333333333333,
              "#9c179e"
             ],
             [
              0.4444444444444444,
              "#bd3786"
             ],
             [
              0.5555555555555556,
              "#d8576b"
             ],
             [
              0.6666666666666666,
              "#ed7953"
             ],
             [
              0.7777777777777778,
              "#fb9f3a"
             ],
             [
              0.8888888888888888,
              "#fdca26"
             ],
             [
              1,
              "#f0f921"
             ]
            ],
            "type": "heatmap"
           }
          ],
          "heatmapgl": [
           {
            "colorbar": {
             "outlinewidth": 0,
             "ticks": ""
            },
            "colorscale": [
             [
              0,
              "#0d0887"
             ],
             [
              0.1111111111111111,
              "#46039f"
             ],
             [
              0.2222222222222222,
              "#7201a8"
             ],
             [
              0.3333333333333333,
              "#9c179e"
             ],
             [
              0.4444444444444444,
              "#bd3786"
             ],
             [
              0.5555555555555556,
              "#d8576b"
             ],
             [
              0.6666666666666666,
              "#ed7953"
             ],
             [
              0.7777777777777778,
              "#fb9f3a"
             ],
             [
              0.8888888888888888,
              "#fdca26"
             ],
             [
              1,
              "#f0f921"
             ]
            ],
            "type": "heatmapgl"
           }
          ],
          "histogram": [
           {
            "marker": {
             "pattern": {
              "fillmode": "overlay",
              "size": 10,
              "solidity": 0.2
             }
            },
            "type": "histogram"
           }
          ],
          "histogram2d": [
           {
            "colorbar": {
             "outlinewidth": 0,
             "ticks": ""
            },
            "colorscale": [
             [
              0,
              "#0d0887"
             ],
             [
              0.1111111111111111,
              "#46039f"
             ],
             [
              0.2222222222222222,
              "#7201a8"
             ],
             [
              0.3333333333333333,
              "#9c179e"
             ],
             [
              0.4444444444444444,
              "#bd3786"
             ],
             [
              0.5555555555555556,
              "#d8576b"
             ],
             [
              0.6666666666666666,
              "#ed7953"
             ],
             [
              0.7777777777777778,
              "#fb9f3a"
             ],
             [
              0.8888888888888888,
              "#fdca26"
             ],
             [
              1,
              "#f0f921"
             ]
            ],
            "type": "histogram2d"
           }
          ],
          "histogram2dcontour": [
           {
            "colorbar": {
             "outlinewidth": 0,
             "ticks": ""
            },
            "colorscale": [
             [
              0,
              "#0d0887"
             ],
             [
              0.1111111111111111,
              "#46039f"
             ],
             [
              0.2222222222222222,
              "#7201a8"
             ],
             [
              0.3333333333333333,
              "#9c179e"
             ],
             [
              0.4444444444444444,
              "#bd3786"
             ],
             [
              0.5555555555555556,
              "#d8576b"
             ],
             [
              0.6666666666666666,
              "#ed7953"
             ],
             [
              0.7777777777777778,
              "#fb9f3a"
             ],
             [
              0.8888888888888888,
              "#fdca26"
             ],
             [
              1,
              "#f0f921"
             ]
            ],
            "type": "histogram2dcontour"
           }
          ],
          "mesh3d": [
           {
            "colorbar": {
             "outlinewidth": 0,
             "ticks": ""
            },
            "type": "mesh3d"
           }
          ],
          "parcoords": [
           {
            "line": {
             "colorbar": {
              "outlinewidth": 0,
              "ticks": ""
             }
            },
            "type": "parcoords"
           }
          ],
          "pie": [
           {
            "automargin": true,
            "type": "pie"
           }
          ],
          "scatter": [
           {
            "fillpattern": {
             "fillmode": "overlay",
             "size": 10,
             "solidity": 0.2
            },
            "type": "scatter"
           }
          ],
          "scatter3d": [
           {
            "line": {
             "colorbar": {
              "outlinewidth": 0,
              "ticks": ""
             }
            },
            "marker": {
             "colorbar": {
              "outlinewidth": 0,
              "ticks": ""
             }
            },
            "type": "scatter3d"
           }
          ],
          "scattercarpet": [
           {
            "marker": {
             "colorbar": {
              "outlinewidth": 0,
              "ticks": ""
             }
            },
            "type": "scattercarpet"
           }
          ],
          "scattergeo": [
           {
            "marker": {
             "colorbar": {
              "outlinewidth": 0,
              "ticks": ""
             }
            },
            "type": "scattergeo"
           }
          ],
          "scattergl": [
           {
            "marker": {
             "colorbar": {
              "outlinewidth": 0,
              "ticks": ""
             }
            },
            "type": "scattergl"
           }
          ],
          "scattermapbox": [
           {
            "marker": {
             "colorbar": {
              "outlinewidth": 0,
              "ticks": ""
             }
            },
            "type": "scattermapbox"
           }
          ],
          "scatterpolar": [
           {
            "marker": {
             "colorbar": {
              "outlinewidth": 0,
              "ticks": ""
             }
            },
            "type": "scatterpolar"
           }
          ],
          "scatterpolargl": [
           {
            "marker": {
             "colorbar": {
              "outlinewidth": 0,
              "ticks": ""
             }
            },
            "type": "scatterpolargl"
           }
          ],
          "scatterternary": [
           {
            "marker": {
             "colorbar": {
              "outlinewidth": 0,
              "ticks": ""
             }
            },
            "type": "scatterternary"
           }
          ],
          "surface": [
           {
            "colorbar": {
             "outlinewidth": 0,
             "ticks": ""
            },
            "colorscale": [
             [
              0,
              "#0d0887"
             ],
             [
              0.1111111111111111,
              "#46039f"
             ],
             [
              0.2222222222222222,
              "#7201a8"
             ],
             [
              0.3333333333333333,
              "#9c179e"
             ],
             [
              0.4444444444444444,
              "#bd3786"
             ],
             [
              0.5555555555555556,
              "#d8576b"
             ],
             [
              0.6666666666666666,
              "#ed7953"
             ],
             [
              0.7777777777777778,
              "#fb9f3a"
             ],
             [
              0.8888888888888888,
              "#fdca26"
             ],
             [
              1,
              "#f0f921"
             ]
            ],
            "type": "surface"
           }
          ],
          "table": [
           {
            "cells": {
             "fill": {
              "color": "#EBF0F8"
             },
             "line": {
              "color": "white"
             }
            },
            "header": {
             "fill": {
              "color": "#C8D4E3"
             },
             "line": {
              "color": "white"
             }
            },
            "type": "table"
           }
          ]
         },
         "layout": {
          "annotationdefaults": {
           "arrowcolor": "#2a3f5f",
           "arrowhead": 0,
           "arrowwidth": 1
          },
          "autotypenumbers": "strict",
          "coloraxis": {
           "colorbar": {
            "outlinewidth": 0,
            "ticks": ""
           }
          },
          "colorscale": {
           "diverging": [
            [
             0,
             "#8e0152"
            ],
            [
             0.1,
             "#c51b7d"
            ],
            [
             0.2,
             "#de77ae"
            ],
            [
             0.3,
             "#f1b6da"
            ],
            [
             0.4,
             "#fde0ef"
            ],
            [
             0.5,
             "#f7f7f7"
            ],
            [
             0.6,
             "#e6f5d0"
            ],
            [
             0.7,
             "#b8e186"
            ],
            [
             0.8,
             "#7fbc41"
            ],
            [
             0.9,
             "#4d9221"
            ],
            [
             1,
             "#276419"
            ]
           ],
           "sequential": [
            [
             0,
             "#0d0887"
            ],
            [
             0.1111111111111111,
             "#46039f"
            ],
            [
             0.2222222222222222,
             "#7201a8"
            ],
            [
             0.3333333333333333,
             "#9c179e"
            ],
            [
             0.4444444444444444,
             "#bd3786"
            ],
            [
             0.5555555555555556,
             "#d8576b"
            ],
            [
             0.6666666666666666,
             "#ed7953"
            ],
            [
             0.7777777777777778,
             "#fb9f3a"
            ],
            [
             0.8888888888888888,
             "#fdca26"
            ],
            [
             1,
             "#f0f921"
            ]
           ],
           "sequentialminus": [
            [
             0,
             "#0d0887"
            ],
            [
             0.1111111111111111,
             "#46039f"
            ],
            [
             0.2222222222222222,
             "#7201a8"
            ],
            [
             0.3333333333333333,
             "#9c179e"
            ],
            [
             0.4444444444444444,
             "#bd3786"
            ],
            [
             0.5555555555555556,
             "#d8576b"
            ],
            [
             0.6666666666666666,
             "#ed7953"
            ],
            [
             0.7777777777777778,
             "#fb9f3a"
            ],
            [
             0.8888888888888888,
             "#fdca26"
            ],
            [
             1,
             "#f0f921"
            ]
           ]
          },
          "colorway": [
           "#636efa",
           "#EF553B",
           "#00cc96",
           "#ab63fa",
           "#FFA15A",
           "#19d3f3",
           "#FF6692",
           "#B6E880",
           "#FF97FF",
           "#FECB52"
          ],
          "font": {
           "color": "#2a3f5f"
          },
          "geo": {
           "bgcolor": "white",
           "lakecolor": "white",
           "landcolor": "#E5ECF6",
           "showlakes": true,
           "showland": true,
           "subunitcolor": "white"
          },
          "hoverlabel": {
           "align": "left"
          },
          "hovermode": "closest",
          "mapbox": {
           "style": "light"
          },
          "paper_bgcolor": "white",
          "plot_bgcolor": "#E5ECF6",
          "polar": {
           "angularaxis": {
            "gridcolor": "white",
            "linecolor": "white",
            "ticks": ""
           },
           "bgcolor": "#E5ECF6",
           "radialaxis": {
            "gridcolor": "white",
            "linecolor": "white",
            "ticks": ""
           }
          },
          "scene": {
           "xaxis": {
            "backgroundcolor": "#E5ECF6",
            "gridcolor": "white",
            "gridwidth": 2,
            "linecolor": "white",
            "showbackground": true,
            "ticks": "",
            "zerolinecolor": "white"
           },
           "yaxis": {
            "backgroundcolor": "#E5ECF6",
            "gridcolor": "white",
            "gridwidth": 2,
            "linecolor": "white",
            "showbackground": true,
            "ticks": "",
            "zerolinecolor": "white"
           },
           "zaxis": {
            "backgroundcolor": "#E5ECF6",
            "gridcolor": "white",
            "gridwidth": 2,
            "linecolor": "white",
            "showbackground": true,
            "ticks": "",
            "zerolinecolor": "white"
           }
          },
          "shapedefaults": {
           "line": {
            "color": "#2a3f5f"
           }
          },
          "ternary": {
           "aaxis": {
            "gridcolor": "white",
            "linecolor": "white",
            "ticks": ""
           },
           "baxis": {
            "gridcolor": "white",
            "linecolor": "white",
            "ticks": ""
           },
           "bgcolor": "#E5ECF6",
           "caxis": {
            "gridcolor": "white",
            "linecolor": "white",
            "ticks": ""
           }
          },
          "title": {
           "x": 0.05
          },
          "xaxis": {
           "automargin": true,
           "gridcolor": "white",
           "linecolor": "white",
           "ticks": "",
           "title": {
            "standoff": 15
           },
           "zerolinecolor": "white",
           "zerolinewidth": 2
          },
          "yaxis": {
           "automargin": true,
           "gridcolor": "white",
           "linecolor": "white",
           "ticks": "",
           "title": {
            "standoff": 15
           },
           "zerolinecolor": "white",
           "zerolinewidth": 2
          }
         }
        },
        "xaxis": {
         "anchor": "y",
         "domain": [
          0,
          1
         ],
         "title": {
          "text": "Rush Yds"
         }
        },
        "yaxis": {
         "anchor": "x",
         "domain": [
          0,
          1
         ],
         "title": {
          "text": "TD"
         }
        }
       }
      }
     },
     "metadata": {},
     "output_type": "display_data"
    }
   ],
   "source": [
    "px.scatter(rushing_df, x='Rush Yds', y='TD', color='Team', size='Att', hover_name='Team', size_max=60)"
   ]
  },
  {
   "cell_type": "code",
   "execution_count": 13,
   "metadata": {},
   "outputs": [
    {
     "data": {
      "application/vnd.plotly.v1+json": {
       "config": {
        "plotlyServerURL": "https://plot.ly"
       },
       "data": [
        {
         "hovertemplate": "<b>%{hovertext}</b><br><br>Team=EaglesEagles<br>Rec TD=%{x}<br>Rsh TD=%{y}<br>Tot TD=%{marker.size}<extra></extra>",
         "hovertext": [
          "EaglesEagles"
         ],
         "legendgroup": "EaglesEagles",
         "marker": {
          "color": "#636efa",
          "size": [
           15
          ],
          "sizemode": "area",
          "sizeref": 0.005,
          "symbol": "circle"
         },
         "mode": "markers",
         "name": "EaglesEagles",
         "orientation": "v",
         "showlegend": true,
         "type": "scatter",
         "x": [
          4
         ],
         "xaxis": "x",
         "y": [
          10
         ],
         "yaxis": "y"
        },
        {
         "hovertemplate": "<b>%{hovertext}</b><br><br>Team=BrownsBrowns<br>Rec TD=%{x}<br>Rsh TD=%{y}<br>Tot TD=%{marker.size}<extra></extra>",
         "hovertext": [
          "BrownsBrowns"
         ],
         "legendgroup": "BrownsBrowns",
         "marker": {
          "color": "#EF553B",
          "size": [
           11
          ],
          "sizemode": "area",
          "sizeref": 0.005,
          "symbol": "circle"
         },
         "mode": "markers",
         "name": "BrownsBrowns",
         "orientation": "v",
         "showlegend": true,
         "type": "scatter",
         "x": [
          4
         ],
         "xaxis": "x",
         "y": [
          7
         ],
         "yaxis": "y"
        },
        {
         "hovertemplate": "<b>%{hovertext}</b><br><br>Team=LionsLions<br>Rec TD=%{x}<br>Rsh TD=%{y}<br>Tot TD=%{marker.size}<extra></extra>",
         "hovertext": [
          "LionsLions"
         ],
         "legendgroup": "LionsLions",
         "marker": {
          "color": "#00cc96",
          "size": [
           18
          ],
          "sizemode": "area",
          "sizeref": 0.005,
          "symbol": "circle"
         },
         "mode": "markers",
         "name": "LionsLions",
         "orientation": "v",
         "showlegend": true,
         "type": "scatter",
         "x": [
          11
         ],
         "xaxis": "x",
         "y": [
          7
         ],
         "yaxis": "y"
        },
        {
         "hovertemplate": "<b>%{hovertext}</b><br><br>Team=FalconsFalcons<br>Rec TD=%{x}<br>Rsh TD=%{y}<br>Tot TD=%{marker.size}<extra></extra>",
         "hovertext": [
          "FalconsFalcons"
         ],
         "legendgroup": "FalconsFalcons",
         "marker": {
          "color": "#ab63fa",
          "size": [
           10
          ],
          "sizemode": "area",
          "sizeref": 0.005,
          "symbol": "circle"
         },
         "mode": "markers",
         "name": "FalconsFalcons",
         "orientation": "v",
         "showlegend": true,
         "type": "scatter",
         "x": [
          3
         ],
         "xaxis": "x",
         "y": [
          6
         ],
         "yaxis": "y"
        },
        {
         "hovertemplate": "<b>%{hovertext}</b><br><br>Team=PatriotsPatriots<br>Rec TD=%{x}<br>Rsh TD=%{y}<br>Tot TD=%{marker.size}<extra></extra>",
         "hovertext": [
          "PatriotsPatriots"
         ],
         "legendgroup": "PatriotsPatriots",
         "marker": {
          "color": "#FFA15A",
          "size": [
           9
          ],
          "sizemode": "area",
          "sizeref": 0.005,
          "symbol": "circle"
         },
         "mode": "markers",
         "name": "PatriotsPatriots",
         "orientation": "v",
         "showlegend": true,
         "type": "scatter",
         "x": [
          3
         ],
         "xaxis": "x",
         "y": [
          5
         ],
         "yaxis": "y"
        },
        {
         "hovertemplate": "<b>%{hovertext}</b><br><br>Team=BearsBears<br>Rec TD=%{x}<br>Rsh TD=%{y}<br>Tot TD=%{marker.size}<extra></extra>",
         "hovertext": [
          "BearsBears"
         ],
         "legendgroup": "BearsBears",
         "marker": {
          "color": "#19d3f3",
          "size": [
           6
          ],
          "sizemode": "area",
          "sizeref": 0.005,
          "symbol": "circle"
         },
         "mode": "markers",
         "name": "BearsBears",
         "orientation": "v",
         "showlegend": true,
         "type": "scatter",
         "x": [
          2
         ],
         "xaxis": "x",
         "y": [
          4
         ],
         "yaxis": "y"
        },
        {
         "hovertemplate": "<b>%{hovertext}</b><br><br>Team=TitansTitans<br>Rec TD=%{x}<br>Rsh TD=%{y}<br>Tot TD=%{marker.size}<extra></extra>",
         "hovertext": [
          "TitansTitans"
         ],
         "legendgroup": "TitansTitans",
         "marker": {
          "color": "#FF6692",
          "size": [
           9
          ],
          "sizemode": "area",
          "sizeref": 0.005,
          "symbol": "circle"
         },
         "mode": "markers",
         "name": "TitansTitans",
         "orientation": "v",
         "showlegend": true,
         "type": "scatter",
         "x": [
          5
         ],
         "xaxis": "x",
         "y": [
          4
         ],
         "yaxis": "y"
        },
        {
         "hovertemplate": "<b>%{hovertext}</b><br><br>Team=ChiefsChiefs<br>Rec TD=%{x}<br>Rsh TD=%{y}<br>Tot TD=%{marker.size}<extra></extra>",
         "hovertext": [
          "ChiefsChiefs"
         ],
         "legendgroup": "ChiefsChiefs",
         "marker": {
          "color": "#B6E880",
          "size": [
           16
          ],
          "sizemode": "area",
          "sizeref": 0.005,
          "symbol": "circle"
         },
         "mode": "markers",
         "name": "ChiefsChiefs",
         "orientation": "v",
         "showlegend": true,
         "type": "scatter",
         "x": [
          11
         ],
         "xaxis": "x",
         "y": [
          4
         ],
         "yaxis": "y"
        },
        {
         "hovertemplate": "<b>%{hovertext}</b><br><br>Team=SaintsSaints<br>Rec TD=%{x}<br>Rsh TD=%{y}<br>Tot TD=%{marker.size}<extra></extra>",
         "hovertext": [
          "SaintsSaints"
         ],
         "legendgroup": "SaintsSaints",
         "marker": {
          "color": "#FF97FF",
          "size": [
           9
          ],
          "sizemode": "area",
          "sizeref": 0.005,
          "symbol": "circle"
         },
         "mode": "markers",
         "name": "SaintsSaints",
         "orientation": "v",
         "showlegend": true,
         "type": "scatter",
         "x": [
          5
         ],
         "xaxis": "x",
         "y": [
          4
         ],
         "yaxis": "y"
        },
        {
         "hovertemplate": "<b>%{hovertext}</b><br><br>Team=GiantsGiants<br>Rec TD=%{x}<br>Rsh TD=%{y}<br>Tot TD=%{marker.size}<extra></extra>",
         "hovertext": [
          "GiantsGiants"
         ],
         "legendgroup": "GiantsGiants",
         "marker": {
          "color": "#FECB52",
          "size": [
           7
          ],
          "sizemode": "area",
          "sizeref": 0.005,
          "symbol": "circle"
         },
         "mode": "markers",
         "name": "GiantsGiants",
         "orientation": "v",
         "showlegend": true,
         "type": "scatter",
         "x": [
          3
         ],
         "xaxis": "x",
         "y": [
          4
         ],
         "yaxis": "y"
        },
        {
         "hovertemplate": "<b>%{hovertext}</b><br><br>Team=CardinalsCardinals<br>Rec TD=%{x}<br>Rsh TD=%{y}<br>Tot TD=%{marker.size}<extra></extra>",
         "hovertext": [
          "CardinalsCardinals"
         ],
         "legendgroup": "CardinalsCardinals",
         "marker": {
          "color": "#636efa",
          "size": [
           9
          ],
          "sizemode": "area",
          "sizeref": 0.005,
          "symbol": "circle"
         },
         "mode": "markers",
         "name": "CardinalsCardinals",
         "orientation": "v",
         "showlegend": true,
         "type": "scatter",
         "x": [
          5
         ],
         "xaxis": "x",
         "y": [
          4
         ],
         "yaxis": "y"
        },
        {
         "hovertemplate": "<b>%{hovertext}</b><br><br>Team=SteelersSteelers<br>Rec TD=%{x}<br>Rsh TD=%{y}<br>Tot TD=%{marker.size}<extra></extra>",
         "hovertext": [
          "SteelersSteelers"
         ],
         "legendgroup": "SteelersSteelers",
         "marker": {
          "color": "#EF553B",
          "size": [
           7
          ],
          "sizemode": "area",
          "sizeref": 0.005,
          "symbol": "circle"
         },
         "mode": "markers",
         "name": "SteelersSteelers",
         "orientation": "v",
         "showlegend": true,
         "type": "scatter",
         "x": [
          2
         ],
         "xaxis": "x",
         "y": [
          4
         ],
         "yaxis": "y"
        },
        {
         "hovertemplate": "<b>%{hovertext}</b><br><br>Team=49ers49ers<br>Rec TD=%{x}<br>Rsh TD=%{y}<br>Tot TD=%{marker.size}<extra></extra>",
         "hovertext": [
          "49ers49ers"
         ],
         "legendgroup": "49ers49ers",
         "marker": {
          "color": "#00cc96",
          "size": [
           8
          ],
          "sizemode": "area",
          "sizeref": 0.005,
          "symbol": "circle"
         },
         "mode": "markers",
         "name": "49ers49ers",
         "orientation": "v",
         "showlegend": true,
         "type": "scatter",
         "x": [
          3
         ],
         "xaxis": "x",
         "y": [
          4
         ],
         "yaxis": "y"
        },
        {
         "hovertemplate": "<b>%{hovertext}</b><br><br>Team=RavensRavens<br>Rec TD=%{x}<br>Rsh TD=%{y}<br>Tot TD=%{marker.size}<extra></extra>",
         "hovertext": [
          "RavensRavens"
         ],
         "legendgroup": "RavensRavens",
         "marker": {
          "color": "#ab63fa",
          "size": [
           15
          ],
          "sizemode": "area",
          "sizeref": 0.005,
          "symbol": "circle"
         },
         "mode": "markers",
         "name": "RavensRavens",
         "orientation": "v",
         "showlegend": true,
         "type": "scatter",
         "x": [
          11
         ],
         "xaxis": "x",
         "y": [
          3
         ],
         "yaxis": "y"
        },
        {
         "hovertemplate": "<b>%{hovertext}</b><br><br>Team=PackersPackers<br>Rec TD=%{x}<br>Rsh TD=%{y}<br>Tot TD=%{marker.size}<extra></extra>",
         "hovertext": [
          "PackersPackers"
         ],
         "legendgroup": "PackersPackers",
         "marker": {
          "color": "#FFA15A",
          "size": [
           9
          ],
          "sizemode": "area",
          "sizeref": 0.005,
          "symbol": "circle"
         },
         "mode": "markers",
         "name": "PackersPackers",
         "orientation": "v",
         "showlegend": true,
         "type": "scatter",
         "x": [
          6
         ],
         "xaxis": "x",
         "y": [
          3
         ],
         "yaxis": "y"
        },
        {
         "hovertemplate": "<b>%{hovertext}</b><br><br>Team=JaguarsJaguars<br>Rec TD=%{x}<br>Rsh TD=%{y}<br>Tot TD=%{marker.size}<extra></extra>",
         "hovertext": [
          "JaguarsJaguars"
         ],
         "legendgroup": "JaguarsJaguars",
         "marker": {
          "color": "#19d3f3",
          "size": [
           12
          ],
          "sizemode": "area",
          "sizeref": 0.005,
          "symbol": "circle"
         },
         "mode": "markers",
         "name": "JaguarsJaguars",
         "orientation": "v",
         "showlegend": true,
         "type": "scatter",
         "x": [
          8
         ],
         "xaxis": "x",
         "y": [
          3
         ],
         "yaxis": "y"
        },
        {
         "hovertemplate": "<b>%{hovertext}</b><br><br>Team=RamsRams<br>Rec TD=%{x}<br>Rsh TD=%{y}<br>Tot TD=%{marker.size}<extra></extra>",
         "hovertext": [
          "RamsRams"
         ],
         "legendgroup": "RamsRams",
         "marker": {
          "color": "#FF6692",
          "size": [
           7
          ],
          "sizemode": "area",
          "sizeref": 0.005,
          "symbol": "circle"
         },
         "mode": "markers",
         "name": "RamsRams",
         "orientation": "v",
         "showlegend": true,
         "type": "scatter",
         "x": [
          4
         ],
         "xaxis": "x",
         "y": [
          3
         ],
         "yaxis": "y"
        },
        {
         "hovertemplate": "<b>%{hovertext}</b><br><br>Team=VikingsVikings<br>Rec TD=%{x}<br>Rsh TD=%{y}<br>Tot TD=%{marker.size}<extra></extra>",
         "hovertext": [
          "VikingsVikings"
         ],
         "legendgroup": "VikingsVikings",
         "marker": {
          "color": "#B6E880",
          "size": [
           9
          ],
          "sizemode": "area",
          "sizeref": 0.005,
          "symbol": "circle"
         },
         "mode": "markers",
         "name": "VikingsVikings",
         "orientation": "v",
         "showlegend": true,
         "type": "scatter",
         "x": [
          6
         ],
         "xaxis": "x",
         "y": [
          3
         ],
         "yaxis": "y"
        },
        {
         "hovertemplate": "<b>%{hovertext}</b><br><br>Team=SeahawksSeahawks<br>Rec TD=%{x}<br>Rsh TD=%{y}<br>Tot TD=%{marker.size}<extra></extra>",
         "hovertext": [
          "SeahawksSeahawks"
         ],
         "legendgroup": "SeahawksSeahawks",
         "marker": {
          "color": "#FF97FF",
          "size": [
           11
          ],
          "sizemode": "area",
          "sizeref": 0.005,
          "symbol": "circle"
         },
         "mode": "markers",
         "name": "SeahawksSeahawks",
         "orientation": "v",
         "showlegend": true,
         "type": "scatter",
         "x": [
          6
         ],
         "xaxis": "x",
         "y": [
          3
         ],
         "yaxis": "y"
        },
        {
         "hovertemplate": "<b>%{hovertext}</b><br><br>Team=BillsBills<br>Rec TD=%{x}<br>Rsh TD=%{y}<br>Tot TD=%{marker.size}<extra></extra>",
         "hovertext": [
          "BillsBills"
         ],
         "legendgroup": "BillsBills",
         "marker": {
          "color": "#FECB52",
          "size": [
           13
          ],
          "sizemode": "area",
          "sizeref": 0.005,
          "symbol": "circle"
         },
         "mode": "markers",
         "name": "BillsBills",
         "orientation": "v",
         "showlegend": true,
         "type": "scatter",
         "x": [
          10
         ],
         "xaxis": "x",
         "y": [
          2
         ],
         "yaxis": "y"
        },
        {
         "hovertemplate": "<b>%{hovertext}</b><br><br>Team=PanthersPanthers<br>Rec TD=%{x}<br>Rsh TD=%{y}<br>Tot TD=%{marker.size}<extra></extra>",
         "hovertext": [
          "PanthersPanthers"
         ],
         "legendgroup": "PanthersPanthers",
         "marker": {
          "color": "#636efa",
          "size": [
           7
          ],
          "sizemode": "area",
          "sizeref": 0.005,
          "symbol": "circle"
         },
         "mode": "markers",
         "name": "PanthersPanthers",
         "orientation": "v",
         "showlegend": true,
         "type": "scatter",
         "x": [
          4
         ],
         "xaxis": "x",
         "y": [
          2
         ],
         "yaxis": "y"
        },
        {
         "hovertemplate": "<b>%{hovertext}</b><br><br>Team=CowboysCowboys<br>Rec TD=%{x}<br>Rsh TD=%{y}<br>Tot TD=%{marker.size}<extra></extra>",
         "hovertext": [
          "CowboysCowboys"
         ],
         "legendgroup": "CowboysCowboys",
         "marker": {
          "color": "#EF553B",
          "size": [
           6
          ],
          "sizemode": "area",
          "sizeref": 0.005,
          "symbol": "circle"
         },
         "mode": "markers",
         "name": "CowboysCowboys",
         "orientation": "v",
         "showlegend": true,
         "type": "scatter",
         "x": [
          4
         ],
         "xaxis": "x",
         "y": [
          2
         ],
         "yaxis": "y"
        },
        {
         "hovertemplate": "<b>%{hovertext}</b><br><br>Team=BroncosBroncos<br>Rec TD=%{x}<br>Rsh TD=%{y}<br>Tot TD=%{marker.size}<extra></extra>",
         "hovertext": [
          "BroncosBroncos"
         ],
         "legendgroup": "BroncosBroncos",
         "marker": {
          "color": "#00cc96",
          "size": [
           6
          ],
          "sizemode": "area",
          "sizeref": 0.005,
          "symbol": "circle"
         },
         "mode": "markers",
         "name": "BroncosBroncos",
         "orientation": "v",
         "showlegend": true,
         "type": "scatter",
         "x": [
          4
         ],
         "xaxis": "x",
         "y": [
          2
         ],
         "yaxis": "y"
        },
        {
         "hovertemplate": "<b>%{hovertext}</b><br><br>Team=TexansTexans<br>Rec TD=%{x}<br>Rsh TD=%{y}<br>Tot TD=%{marker.size}<extra></extra>",
         "hovertext": [
          "TexansTexans"
         ],
         "legendgroup": "TexansTexans",
         "marker": {
          "color": "#ab63fa",
          "size": [
           7
          ],
          "sizemode": "area",
          "sizeref": 0.005,
          "symbol": "circle"
         },
         "mode": "markers",
         "name": "TexansTexans",
         "orientation": "v",
         "showlegend": true,
         "type": "scatter",
         "x": [
          5
         ],
         "xaxis": "x",
         "y": [
          2
         ],
         "yaxis": "y"
        },
        {
         "hovertemplate": "<b>%{hovertext}</b><br><br>Team=RaidersRaiders<br>Rec TD=%{x}<br>Rsh TD=%{y}<br>Tot TD=%{marker.size}<extra></extra>",
         "hovertext": [
          "RaidersRaiders"
         ],
         "legendgroup": "RaidersRaiders",
         "marker": {
          "color": "#FFA15A",
          "size": [
           8
          ],
          "sizemode": "area",
          "sizeref": 0.005,
          "symbol": "circle"
         },
         "mode": "markers",
         "name": "RaidersRaiders",
         "orientation": "v",
         "showlegend": true,
         "type": "scatter",
         "x": [
          6
         ],
         "xaxis": "x",
         "y": [
          2
         ],
         "yaxis": "y"
        },
        {
         "hovertemplate": "<b>%{hovertext}</b><br><br>Team=DolphinsDolphins<br>Rec TD=%{x}<br>Rsh TD=%{y}<br>Tot TD=%{marker.size}<extra></extra>",
         "hovertext": [
          "DolphinsDolphins"
         ],
         "legendgroup": "DolphinsDolphins",
         "marker": {
          "color": "#19d3f3",
          "size": [
           11
          ],
          "sizemode": "area",
          "sizeref": 0.005,
          "symbol": "circle"
         },
         "mode": "markers",
         "name": "DolphinsDolphins",
         "orientation": "v",
         "showlegend": true,
         "type": "scatter",
         "x": [
          9
         ],
         "xaxis": "x",
         "y": [
          2
         ],
         "yaxis": "y"
        },
        {
         "hovertemplate": "<b>%{hovertext}</b><br><br>Team=ChargersChargers<br>Rec TD=%{x}<br>Rsh TD=%{y}<br>Tot TD=%{marker.size}<extra></extra>",
         "hovertext": [
          "ChargersChargers"
         ],
         "legendgroup": "ChargersChargers",
         "marker": {
          "color": "#FF6692",
          "size": [
           11
          ],
          "sizemode": "area",
          "sizeref": 0.005,
          "symbol": "circle"
         },
         "mode": "markers",
         "name": "ChargersChargers",
         "orientation": "v",
         "showlegend": true,
         "type": "scatter",
         "x": [
          9
         ],
         "xaxis": "x",
         "y": [
          2
         ],
         "yaxis": "y"
        },
        {
         "hovertemplate": "<b>%{hovertext}</b><br><br>Team=CommandersCommanders<br>Rec TD=%{x}<br>Rsh TD=%{y}<br>Tot TD=%{marker.size}<extra></extra>",
         "hovertext": [
          "CommandersCommanders"
         ],
         "legendgroup": "CommandersCommanders",
         "marker": {
          "color": "#B6E880",
          "size": [
           10
          ],
          "sizemode": "area",
          "sizeref": 0.005,
          "symbol": "circle"
         },
         "mode": "markers",
         "name": "CommandersCommanders",
         "orientation": "v",
         "showlegend": true,
         "type": "scatter",
         "x": [
          8
         ],
         "xaxis": "x",
         "y": [
          2
         ],
         "yaxis": "y"
        },
        {
         "hovertemplate": "<b>%{hovertext}</b><br><br>Team=BengalsBengals<br>Rec TD=%{x}<br>Rsh TD=%{y}<br>Tot TD=%{marker.size}<extra></extra>",
         "hovertext": [
          "BengalsBengals"
         ],
         "legendgroup": "BengalsBengals",
         "marker": {
          "color": "#FF97FF",
          "size": [
           9
          ],
          "sizemode": "area",
          "sizeref": 0.005,
          "symbol": "circle"
         },
         "mode": "markers",
         "name": "BengalsBengals",
         "orientation": "v",
         "showlegend": true,
         "type": "scatter",
         "x": [
          8
         ],
         "xaxis": "x",
         "y": [
          1
         ],
         "yaxis": "y"
        },
        {
         "hovertemplate": "<b>%{hovertext}</b><br><br>Team=ColtsColts<br>Rec TD=%{x}<br>Rsh TD=%{y}<br>Tot TD=%{marker.size}<extra></extra>",
         "hovertext": [
          "ColtsColts"
         ],
         "legendgroup": "ColtsColts",
         "marker": {
          "color": "#FECB52",
          "size": [
           6
          ],
          "sizemode": "area",
          "sizeref": 0.005,
          "symbol": "circle"
         },
         "mode": "markers",
         "name": "ColtsColts",
         "orientation": "v",
         "showlegend": true,
         "type": "scatter",
         "x": [
          5
         ],
         "xaxis": "x",
         "y": [
          1
         ],
         "yaxis": "y"
        },
        {
         "hovertemplate": "<b>%{hovertext}</b><br><br>Team=JetsJets<br>Rec TD=%{x}<br>Rsh TD=%{y}<br>Tot TD=%{marker.size}<extra></extra>",
         "hovertext": [
          "JetsJets"
         ],
         "legendgroup": "JetsJets",
         "marker": {
          "color": "#636efa",
          "size": [
           8
          ],
          "sizemode": "area",
          "sizeref": 0.005,
          "symbol": "circle"
         },
         "mode": "markers",
         "name": "JetsJets",
         "orientation": "v",
         "showlegend": true,
         "type": "scatter",
         "x": [
          7
         ],
         "xaxis": "x",
         "y": [
          1
         ],
         "yaxis": "y"
        },
        {
         "hovertemplate": "<b>%{hovertext}</b><br><br>Team=BuccaneersBuccaneers<br>Rec TD=%{x}<br>Rsh TD=%{y}<br>Tot TD=%{marker.size}<extra></extra>",
         "hovertext": [
          "BuccaneersBuccaneers"
         ],
         "legendgroup": "BuccaneersBuccaneers",
         "marker": {
          "color": "#EF553B",
          "size": [
           8
          ],
          "sizemode": "area",
          "sizeref": 0.005,
          "symbol": "circle"
         },
         "mode": "markers",
         "name": "BuccaneersBuccaneers",
         "orientation": "v",
         "showlegend": true,
         "type": "scatter",
         "x": [
          6
         ],
         "xaxis": "x",
         "y": [
          1
         ],
         "yaxis": "y"
        }
       ],
       "layout": {
        "legend": {
         "itemsizing": "constant",
         "title": {
          "text": "Team"
         },
         "tracegroupgap": 0
        },
        "margin": {
         "t": 60
        },
        "template": {
         "data": {
          "bar": [
           {
            "error_x": {
             "color": "#2a3f5f"
            },
            "error_y": {
             "color": "#2a3f5f"
            },
            "marker": {
             "line": {
              "color": "#E5ECF6",
              "width": 0.5
             },
             "pattern": {
              "fillmode": "overlay",
              "size": 10,
              "solidity": 0.2
             }
            },
            "type": "bar"
           }
          ],
          "barpolar": [
           {
            "marker": {
             "line": {
              "color": "#E5ECF6",
              "width": 0.5
             },
             "pattern": {
              "fillmode": "overlay",
              "size": 10,
              "solidity": 0.2
             }
            },
            "type": "barpolar"
           }
          ],
          "carpet": [
           {
            "aaxis": {
             "endlinecolor": "#2a3f5f",
             "gridcolor": "white",
             "linecolor": "white",
             "minorgridcolor": "white",
             "startlinecolor": "#2a3f5f"
            },
            "baxis": {
             "endlinecolor": "#2a3f5f",
             "gridcolor": "white",
             "linecolor": "white",
             "minorgridcolor": "white",
             "startlinecolor": "#2a3f5f"
            },
            "type": "carpet"
           }
          ],
          "choropleth": [
           {
            "colorbar": {
             "outlinewidth": 0,
             "ticks": ""
            },
            "type": "choropleth"
           }
          ],
          "contour": [
           {
            "colorbar": {
             "outlinewidth": 0,
             "ticks": ""
            },
            "colorscale": [
             [
              0,
              "#0d0887"
             ],
             [
              0.1111111111111111,
              "#46039f"
             ],
             [
              0.2222222222222222,
              "#7201a8"
             ],
             [
              0.3333333333333333,
              "#9c179e"
             ],
             [
              0.4444444444444444,
              "#bd3786"
             ],
             [
              0.5555555555555556,
              "#d8576b"
             ],
             [
              0.6666666666666666,
              "#ed7953"
             ],
             [
              0.7777777777777778,
              "#fb9f3a"
             ],
             [
              0.8888888888888888,
              "#fdca26"
             ],
             [
              1,
              "#f0f921"
             ]
            ],
            "type": "contour"
           }
          ],
          "contourcarpet": [
           {
            "colorbar": {
             "outlinewidth": 0,
             "ticks": ""
            },
            "type": "contourcarpet"
           }
          ],
          "heatmap": [
           {
            "colorbar": {
             "outlinewidth": 0,
             "ticks": ""
            },
            "colorscale": [
             [
              0,
              "#0d0887"
             ],
             [
              0.1111111111111111,
              "#46039f"
             ],
             [
              0.2222222222222222,
              "#7201a8"
             ],
             [
              0.3333333333333333,
              "#9c179e"
             ],
             [
              0.4444444444444444,
              "#bd3786"
             ],
             [
              0.5555555555555556,
              "#d8576b"
             ],
             [
              0.6666666666666666,
              "#ed7953"
             ],
             [
              0.7777777777777778,
              "#fb9f3a"
             ],
             [
              0.8888888888888888,
              "#fdca26"
             ],
             [
              1,
              "#f0f921"
             ]
            ],
            "type": "heatmap"
           }
          ],
          "heatmapgl": [
           {
            "colorbar": {
             "outlinewidth": 0,
             "ticks": ""
            },
            "colorscale": [
             [
              0,
              "#0d0887"
             ],
             [
              0.1111111111111111,
              "#46039f"
             ],
             [
              0.2222222222222222,
              "#7201a8"
             ],
             [
              0.3333333333333333,
              "#9c179e"
             ],
             [
              0.4444444444444444,
              "#bd3786"
             ],
             [
              0.5555555555555556,
              "#d8576b"
             ],
             [
              0.6666666666666666,
              "#ed7953"
             ],
             [
              0.7777777777777778,
              "#fb9f3a"
             ],
             [
              0.8888888888888888,
              "#fdca26"
             ],
             [
              1,
              "#f0f921"
             ]
            ],
            "type": "heatmapgl"
           }
          ],
          "histogram": [
           {
            "marker": {
             "pattern": {
              "fillmode": "overlay",
              "size": 10,
              "solidity": 0.2
             }
            },
            "type": "histogram"
           }
          ],
          "histogram2d": [
           {
            "colorbar": {
             "outlinewidth": 0,
             "ticks": ""
            },
            "colorscale": [
             [
              0,
              "#0d0887"
             ],
             [
              0.1111111111111111,
              "#46039f"
             ],
             [
              0.2222222222222222,
              "#7201a8"
             ],
             [
              0.3333333333333333,
              "#9c179e"
             ],
             [
              0.4444444444444444,
              "#bd3786"
             ],
             [
              0.5555555555555556,
              "#d8576b"
             ],
             [
              0.6666666666666666,
              "#ed7953"
             ],
             [
              0.7777777777777778,
              "#fb9f3a"
             ],
             [
              0.8888888888888888,
              "#fdca26"
             ],
             [
              1,
              "#f0f921"
             ]
            ],
            "type": "histogram2d"
           }
          ],
          "histogram2dcontour": [
           {
            "colorbar": {
             "outlinewidth": 0,
             "ticks": ""
            },
            "colorscale": [
             [
              0,
              "#0d0887"
             ],
             [
              0.1111111111111111,
              "#46039f"
             ],
             [
              0.2222222222222222,
              "#7201a8"
             ],
             [
              0.3333333333333333,
              "#9c179e"
             ],
             [
              0.4444444444444444,
              "#bd3786"
             ],
             [
              0.5555555555555556,
              "#d8576b"
             ],
             [
              0.6666666666666666,
              "#ed7953"
             ],
             [
              0.7777777777777778,
              "#fb9f3a"
             ],
             [
              0.8888888888888888,
              "#fdca26"
             ],
             [
              1,
              "#f0f921"
             ]
            ],
            "type": "histogram2dcontour"
           }
          ],
          "mesh3d": [
           {
            "colorbar": {
             "outlinewidth": 0,
             "ticks": ""
            },
            "type": "mesh3d"
           }
          ],
          "parcoords": [
           {
            "line": {
             "colorbar": {
              "outlinewidth": 0,
              "ticks": ""
             }
            },
            "type": "parcoords"
           }
          ],
          "pie": [
           {
            "automargin": true,
            "type": "pie"
           }
          ],
          "scatter": [
           {
            "fillpattern": {
             "fillmode": "overlay",
             "size": 10,
             "solidity": 0.2
            },
            "type": "scatter"
           }
          ],
          "scatter3d": [
           {
            "line": {
             "colorbar": {
              "outlinewidth": 0,
              "ticks": ""
             }
            },
            "marker": {
             "colorbar": {
              "outlinewidth": 0,
              "ticks": ""
             }
            },
            "type": "scatter3d"
           }
          ],
          "scattercarpet": [
           {
            "marker": {
             "colorbar": {
              "outlinewidth": 0,
              "ticks": ""
             }
            },
            "type": "scattercarpet"
           }
          ],
          "scattergeo": [
           {
            "marker": {
             "colorbar": {
              "outlinewidth": 0,
              "ticks": ""
             }
            },
            "type": "scattergeo"
           }
          ],
          "scattergl": [
           {
            "marker": {
             "colorbar": {
              "outlinewidth": 0,
              "ticks": ""
             }
            },
            "type": "scattergl"
           }
          ],
          "scattermapbox": [
           {
            "marker": {
             "colorbar": {
              "outlinewidth": 0,
              "ticks": ""
             }
            },
            "type": "scattermapbox"
           }
          ],
          "scatterpolar": [
           {
            "marker": {
             "colorbar": {
              "outlinewidth": 0,
              "ticks": ""
             }
            },
            "type": "scatterpolar"
           }
          ],
          "scatterpolargl": [
           {
            "marker": {
             "colorbar": {
              "outlinewidth": 0,
              "ticks": ""
             }
            },
            "type": "scatterpolargl"
           }
          ],
          "scatterternary": [
           {
            "marker": {
             "colorbar": {
              "outlinewidth": 0,
              "ticks": ""
             }
            },
            "type": "scatterternary"
           }
          ],
          "surface": [
           {
            "colorbar": {
             "outlinewidth": 0,
             "ticks": ""
            },
            "colorscale": [
             [
              0,
              "#0d0887"
             ],
             [
              0.1111111111111111,
              "#46039f"
             ],
             [
              0.2222222222222222,
              "#7201a8"
             ],
             [
              0.3333333333333333,
              "#9c179e"
             ],
             [
              0.4444444444444444,
              "#bd3786"
             ],
             [
              0.5555555555555556,
              "#d8576b"
             ],
             [
              0.6666666666666666,
              "#ed7953"
             ],
             [
              0.7777777777777778,
              "#fb9f3a"
             ],
             [
              0.8888888888888888,
              "#fdca26"
             ],
             [
              1,
              "#f0f921"
             ]
            ],
            "type": "surface"
           }
          ],
          "table": [
           {
            "cells": {
             "fill": {
              "color": "#EBF0F8"
             },
             "line": {
              "color": "white"
             }
            },
            "header": {
             "fill": {
              "color": "#C8D4E3"
             },
             "line": {
              "color": "white"
             }
            },
            "type": "table"
           }
          ]
         },
         "layout": {
          "annotationdefaults": {
           "arrowcolor": "#2a3f5f",
           "arrowhead": 0,
           "arrowwidth": 1
          },
          "autotypenumbers": "strict",
          "coloraxis": {
           "colorbar": {
            "outlinewidth": 0,
            "ticks": ""
           }
          },
          "colorscale": {
           "diverging": [
            [
             0,
             "#8e0152"
            ],
            [
             0.1,
             "#c51b7d"
            ],
            [
             0.2,
             "#de77ae"
            ],
            [
             0.3,
             "#f1b6da"
            ],
            [
             0.4,
             "#fde0ef"
            ],
            [
             0.5,
             "#f7f7f7"
            ],
            [
             0.6,
             "#e6f5d0"
            ],
            [
             0.7,
             "#b8e186"
            ],
            [
             0.8,
             "#7fbc41"
            ],
            [
             0.9,
             "#4d9221"
            ],
            [
             1,
             "#276419"
            ]
           ],
           "sequential": [
            [
             0,
             "#0d0887"
            ],
            [
             0.1111111111111111,
             "#46039f"
            ],
            [
             0.2222222222222222,
             "#7201a8"
            ],
            [
             0.3333333333333333,
             "#9c179e"
            ],
            [
             0.4444444444444444,
             "#bd3786"
            ],
            [
             0.5555555555555556,
             "#d8576b"
            ],
            [
             0.6666666666666666,
             "#ed7953"
            ],
            [
             0.7777777777777778,
             "#fb9f3a"
            ],
            [
             0.8888888888888888,
             "#fdca26"
            ],
            [
             1,
             "#f0f921"
            ]
           ],
           "sequentialminus": [
            [
             0,
             "#0d0887"
            ],
            [
             0.1111111111111111,
             "#46039f"
            ],
            [
             0.2222222222222222,
             "#7201a8"
            ],
            [
             0.3333333333333333,
             "#9c179e"
            ],
            [
             0.4444444444444444,
             "#bd3786"
            ],
            [
             0.5555555555555556,
             "#d8576b"
            ],
            [
             0.6666666666666666,
             "#ed7953"
            ],
            [
             0.7777777777777778,
             "#fb9f3a"
            ],
            [
             0.8888888888888888,
             "#fdca26"
            ],
            [
             1,
             "#f0f921"
            ]
           ]
          },
          "colorway": [
           "#636efa",
           "#EF553B",
           "#00cc96",
           "#ab63fa",
           "#FFA15A",
           "#19d3f3",
           "#FF6692",
           "#B6E880",
           "#FF97FF",
           "#FECB52"
          ],
          "font": {
           "color": "#2a3f5f"
          },
          "geo": {
           "bgcolor": "white",
           "lakecolor": "white",
           "landcolor": "#E5ECF6",
           "showlakes": true,
           "showland": true,
           "subunitcolor": "white"
          },
          "hoverlabel": {
           "align": "left"
          },
          "hovermode": "closest",
          "mapbox": {
           "style": "light"
          },
          "paper_bgcolor": "white",
          "plot_bgcolor": "#E5ECF6",
          "polar": {
           "angularaxis": {
            "gridcolor": "white",
            "linecolor": "white",
            "ticks": ""
           },
           "bgcolor": "#E5ECF6",
           "radialaxis": {
            "gridcolor": "white",
            "linecolor": "white",
            "ticks": ""
           }
          },
          "scene": {
           "xaxis": {
            "backgroundcolor": "#E5ECF6",
            "gridcolor": "white",
            "gridwidth": 2,
            "linecolor": "white",
            "showbackground": true,
            "ticks": "",
            "zerolinecolor": "white"
           },
           "yaxis": {
            "backgroundcolor": "#E5ECF6",
            "gridcolor": "white",
            "gridwidth": 2,
            "linecolor": "white",
            "showbackground": true,
            "ticks": "",
            "zerolinecolor": "white"
           },
           "zaxis": {
            "backgroundcolor": "#E5ECF6",
            "gridcolor": "white",
            "gridwidth": 2,
            "linecolor": "white",
            "showbackground": true,
            "ticks": "",
            "zerolinecolor": "white"
           }
          },
          "shapedefaults": {
           "line": {
            "color": "#2a3f5f"
           }
          },
          "ternary": {
           "aaxis": {
            "gridcolor": "white",
            "linecolor": "white",
            "ticks": ""
           },
           "baxis": {
            "gridcolor": "white",
            "linecolor": "white",
            "ticks": ""
           },
           "bgcolor": "#E5ECF6",
           "caxis": {
            "gridcolor": "white",
            "linecolor": "white",
            "ticks": ""
           }
          },
          "title": {
           "x": 0.05
          },
          "xaxis": {
           "automargin": true,
           "gridcolor": "white",
           "linecolor": "white",
           "ticks": "",
           "title": {
            "standoff": 15
           },
           "zerolinecolor": "white",
           "zerolinewidth": 2
          },
          "yaxis": {
           "automargin": true,
           "gridcolor": "white",
           "linecolor": "white",
           "ticks": "",
           "title": {
            "standoff": 15
           },
           "zerolinecolor": "white",
           "zerolinewidth": 2
          }
         }
        },
        "xaxis": {
         "anchor": "y",
         "domain": [
          0,
          1
         ],
         "title": {
          "text": "Rec TD"
         }
        },
        "yaxis": {
         "anchor": "x",
         "domain": [
          0,
          1
         ],
         "title": {
          "text": "Rsh TD"
         }
        }
       }
      }
     },
     "metadata": {},
     "output_type": "display_data"
    }
   ],
   "source": [
    "px.scatter(scoring_df, x='Rec TD', y='Rsh TD', color='Team', size='Tot TD', hover_name='Team', size_max=60)"
   ]
  },
  {
   "cell_type": "code",
   "execution_count": 14,
   "metadata": {},
   "outputs": [
    {
     "data": {
      "application/vnd.plotly.v1+json": {
       "config": {
        "plotlyServerURL": "https://plot.ly"
       },
       "data": [
        {
         "branchvalues": "total",
         "customdata": [
          [
           108,
           3
          ],
          [
           67,
           2
          ],
          [
           157,
           8
          ],
          [
           170,
           10
          ],
          [
           131,
           4
          ],
          [
           127,
           4
          ],
          [
           155,
           6
          ],
          [
           177,
           5
          ],
          [
           166,
           9
          ],
          [
           147,
           11
          ],
          [
           154,
           5
          ],
          [
           172,
           8
          ],
          [
           131,
           4
          ],
          [
           140,
           9
          ],
          [
           123,
           4
          ],
          [
           98,
           3
          ],
          [
           108,
           3
          ],
          [
           134,
           8
          ],
          [
           193,
           7
          ],
          [
           152,
           11
          ],
          [
           134,
           6
          ],
          [
           117,
           4
          ],
          [
           118,
           3
          ],
          [
           155,
           6
          ],
          [
           150,
           4
          ],
          [
           117,
           11
          ],
          [
           143,
           5
          ],
          [
           133,
           6
          ],
          [
           129,
           2
          ],
          [
           142,
           5
          ],
          [
           105,
           5
          ],
          [
           158,
           6
          ]
         ],
         "domain": {
          "x": [
           0,
           1
          ],
          "y": [
           0,
           1
          ]
         },
         "hovertemplate": "labels=%{label}<br>Pass Yds=%{value}<br>parent=%{parent}<br>id=%{id}<br>Att=%{customdata[0]}<br>TD=%{color}<extra></extra>",
         "ids": [
          "49ers49ers",
          "BearsBears",
          "BengalsBengals",
          "BillsBills",
          "BroncosBroncos",
          "BrownsBrowns",
          "BuccaneersBuccaneers",
          "CardinalsCardinals",
          "ChargersChargers",
          "ChiefsChiefs",
          "ColtsColts",
          "CommandersCommanders",
          "CowboysCowboys",
          "DolphinsDolphins",
          "EaglesEagles",
          "FalconsFalcons",
          "GiantsGiants",
          "JaguarsJaguars",
          "JetsJets",
          "LionsLions",
          "PackersPackers",
          "PanthersPanthers",
          "PatriotsPatriots",
          "RaidersRaiders",
          "RamsRams",
          "RavensRavens",
          "SaintsSaints",
          "SeahawksSeahawks",
          "SteelersSteelers",
          "TexansTexans",
          "TitansTitans",
          "VikingsVikings"
         ],
         "labels": [
          "49ers49ers",
          "BearsBears",
          "BengalsBengals",
          "BillsBills",
          "BroncosBroncos",
          "BrownsBrowns",
          "BuccaneersBuccaneers",
          "CardinalsCardinals",
          "ChargersChargers",
          "ChiefsChiefs",
          "ColtsColts",
          "CommandersCommanders",
          "CowboysCowboys",
          "DolphinsDolphins",
          "EaglesEagles",
          "FalconsFalcons",
          "GiantsGiants",
          "JaguarsJaguars",
          "JetsJets",
          "LionsLions",
          "PackersPackers",
          "PanthersPanthers",
          "PatriotsPatriots",
          "RaidersRaiders",
          "RamsRams",
          "RavensRavens",
          "SaintsSaints",
          "SeahawksSeahawks",
          "SteelersSteelers",
          "TexansTexans",
          "TitansTitans",
          "VikingsVikings"
         ],
         "marker": {
          "coloraxis": "coloraxis",
          "colors": [
           3,
           2,
           8,
           10,
           4,
           4,
           6,
           5,
           9,
           11,
           5,
           8,
           4,
           9,
           4,
           3,
           3,
           8,
           7,
           11,
           6,
           4,
           3,
           6,
           4,
           11,
           5,
           6,
           2,
           5,
           5,
           6
          ]
         },
         "name": "",
         "parents": [
          "",
          "",
          "",
          "",
          "",
          "",
          "",
          "",
          "",
          "",
          "",
          "",
          "",
          "",
          "",
          "",
          "",
          "",
          "",
          "",
          "",
          "",
          "",
          "",
          "",
          "",
          "",
          "",
          "",
          "",
          "",
          ""
         ],
         "type": "treemap",
         "values": [
          798,
          471,
          1122,
          1227,
          980,
          830,
          1058,
          1003,
          1250,
          1106,
          1125,
          1031,
          871,
          1228,
          1120,
          779,
          642,
          946,
          1172,
          1132,
          1000,
          747,
          922,
          1042,
          1015,
          893,
          1094,
          1037,
          773,
          908,
          790,
          1044
         ]
        }
       ],
       "layout": {
        "coloraxis": {
         "colorbar": {
          "title": {
           "text": "TD"
          }
         },
         "colorscale": [
          [
           0,
           "#0d0887"
          ],
          [
           0.1111111111111111,
           "#46039f"
          ],
          [
           0.2222222222222222,
           "#7201a8"
          ],
          [
           0.3333333333333333,
           "#9c179e"
          ],
          [
           0.4444444444444444,
           "#bd3786"
          ],
          [
           0.5555555555555556,
           "#d8576b"
          ],
          [
           0.6666666666666666,
           "#ed7953"
          ],
          [
           0.7777777777777778,
           "#fb9f3a"
          ],
          [
           0.8888888888888888,
           "#fdca26"
          ],
          [
           1,
           "#f0f921"
          ]
         ]
        },
        "legend": {
         "tracegroupgap": 0
        },
        "margin": {
         "t": 60
        },
        "template": {
         "data": {
          "bar": [
           {
            "error_x": {
             "color": "#2a3f5f"
            },
            "error_y": {
             "color": "#2a3f5f"
            },
            "marker": {
             "line": {
              "color": "#E5ECF6",
              "width": 0.5
             },
             "pattern": {
              "fillmode": "overlay",
              "size": 10,
              "solidity": 0.2
             }
            },
            "type": "bar"
           }
          ],
          "barpolar": [
           {
            "marker": {
             "line": {
              "color": "#E5ECF6",
              "width": 0.5
             },
             "pattern": {
              "fillmode": "overlay",
              "size": 10,
              "solidity": 0.2
             }
            },
            "type": "barpolar"
           }
          ],
          "carpet": [
           {
            "aaxis": {
             "endlinecolor": "#2a3f5f",
             "gridcolor": "white",
             "linecolor": "white",
             "minorgridcolor": "white",
             "startlinecolor": "#2a3f5f"
            },
            "baxis": {
             "endlinecolor": "#2a3f5f",
             "gridcolor": "white",
             "linecolor": "white",
             "minorgridcolor": "white",
             "startlinecolor": "#2a3f5f"
            },
            "type": "carpet"
           }
          ],
          "choropleth": [
           {
            "colorbar": {
             "outlinewidth": 0,
             "ticks": ""
            },
            "type": "choropleth"
           }
          ],
          "contour": [
           {
            "colorbar": {
             "outlinewidth": 0,
             "ticks": ""
            },
            "colorscale": [
             [
              0,
              "#0d0887"
             ],
             [
              0.1111111111111111,
              "#46039f"
             ],
             [
              0.2222222222222222,
              "#7201a8"
             ],
             [
              0.3333333333333333,
              "#9c179e"
             ],
             [
              0.4444444444444444,
              "#bd3786"
             ],
             [
              0.5555555555555556,
              "#d8576b"
             ],
             [
              0.6666666666666666,
              "#ed7953"
             ],
             [
              0.7777777777777778,
              "#fb9f3a"
             ],
             [
              0.8888888888888888,
              "#fdca26"
             ],
             [
              1,
              "#f0f921"
             ]
            ],
            "type": "contour"
           }
          ],
          "contourcarpet": [
           {
            "colorbar": {
             "outlinewidth": 0,
             "ticks": ""
            },
            "type": "contourcarpet"
           }
          ],
          "heatmap": [
           {
            "colorbar": {
             "outlinewidth": 0,
             "ticks": ""
            },
            "colorscale": [
             [
              0,
              "#0d0887"
             ],
             [
              0.1111111111111111,
              "#46039f"
             ],
             [
              0.2222222222222222,
              "#7201a8"
             ],
             [
              0.3333333333333333,
              "#9c179e"
             ],
             [
              0.4444444444444444,
              "#bd3786"
             ],
             [
              0.5555555555555556,
              "#d8576b"
             ],
             [
              0.6666666666666666,
              "#ed7953"
             ],
             [
              0.7777777777777778,
              "#fb9f3a"
             ],
             [
              0.8888888888888888,
              "#fdca26"
             ],
             [
              1,
              "#f0f921"
             ]
            ],
            "type": "heatmap"
           }
          ],
          "heatmapgl": [
           {
            "colorbar": {
             "outlinewidth": 0,
             "ticks": ""
            },
            "colorscale": [
             [
              0,
              "#0d0887"
             ],
             [
              0.1111111111111111,
              "#46039f"
             ],
             [
              0.2222222222222222,
              "#7201a8"
             ],
             [
              0.3333333333333333,
              "#9c179e"
             ],
             [
              0.4444444444444444,
              "#bd3786"
             ],
             [
              0.5555555555555556,
              "#d8576b"
             ],
             [
              0.6666666666666666,
              "#ed7953"
             ],
             [
              0.7777777777777778,
              "#fb9f3a"
             ],
             [
              0.8888888888888888,
              "#fdca26"
             ],
             [
              1,
              "#f0f921"
             ]
            ],
            "type": "heatmapgl"
           }
          ],
          "histogram": [
           {
            "marker": {
             "pattern": {
              "fillmode": "overlay",
              "size": 10,
              "solidity": 0.2
             }
            },
            "type": "histogram"
           }
          ],
          "histogram2d": [
           {
            "colorbar": {
             "outlinewidth": 0,
             "ticks": ""
            },
            "colorscale": [
             [
              0,
              "#0d0887"
             ],
             [
              0.1111111111111111,
              "#46039f"
             ],
             [
              0.2222222222222222,
              "#7201a8"
             ],
             [
              0.3333333333333333,
              "#9c179e"
             ],
             [
              0.4444444444444444,
              "#bd3786"
             ],
             [
              0.5555555555555556,
              "#d8576b"
             ],
             [
              0.6666666666666666,
              "#ed7953"
             ],
             [
              0.7777777777777778,
              "#fb9f3a"
             ],
             [
              0.8888888888888888,
              "#fdca26"
             ],
             [
              1,
              "#f0f921"
             ]
            ],
            "type": "histogram2d"
           }
          ],
          "histogram2dcontour": [
           {
            "colorbar": {
             "outlinewidth": 0,
             "ticks": ""
            },
            "colorscale": [
             [
              0,
              "#0d0887"
             ],
             [
              0.1111111111111111,
              "#46039f"
             ],
             [
              0.2222222222222222,
              "#7201a8"
             ],
             [
              0.3333333333333333,
              "#9c179e"
             ],
             [
              0.4444444444444444,
              "#bd3786"
             ],
             [
              0.5555555555555556,
              "#d8576b"
             ],
             [
              0.6666666666666666,
              "#ed7953"
             ],
             [
              0.7777777777777778,
              "#fb9f3a"
             ],
             [
              0.8888888888888888,
              "#fdca26"
             ],
             [
              1,
              "#f0f921"
             ]
            ],
            "type": "histogram2dcontour"
           }
          ],
          "mesh3d": [
           {
            "colorbar": {
             "outlinewidth": 0,
             "ticks": ""
            },
            "type": "mesh3d"
           }
          ],
          "parcoords": [
           {
            "line": {
             "colorbar": {
              "outlinewidth": 0,
              "ticks": ""
             }
            },
            "type": "parcoords"
           }
          ],
          "pie": [
           {
            "automargin": true,
            "type": "pie"
           }
          ],
          "scatter": [
           {
            "fillpattern": {
             "fillmode": "overlay",
             "size": 10,
             "solidity": 0.2
            },
            "type": "scatter"
           }
          ],
          "scatter3d": [
           {
            "line": {
             "colorbar": {
              "outlinewidth": 0,
              "ticks": ""
             }
            },
            "marker": {
             "colorbar": {
              "outlinewidth": 0,
              "ticks": ""
             }
            },
            "type": "scatter3d"
           }
          ],
          "scattercarpet": [
           {
            "marker": {
             "colorbar": {
              "outlinewidth": 0,
              "ticks": ""
             }
            },
            "type": "scattercarpet"
           }
          ],
          "scattergeo": [
           {
            "marker": {
             "colorbar": {
              "outlinewidth": 0,
              "ticks": ""
             }
            },
            "type": "scattergeo"
           }
          ],
          "scattergl": [
           {
            "marker": {
             "colorbar": {
              "outlinewidth": 0,
              "ticks": ""
             }
            },
            "type": "scattergl"
           }
          ],
          "scattermapbox": [
           {
            "marker": {
             "colorbar": {
              "outlinewidth": 0,
              "ticks": ""
             }
            },
            "type": "scattermapbox"
           }
          ],
          "scatterpolar": [
           {
            "marker": {
             "colorbar": {
              "outlinewidth": 0,
              "ticks": ""
             }
            },
            "type": "scatterpolar"
           }
          ],
          "scatterpolargl": [
           {
            "marker": {
             "colorbar": {
              "outlinewidth": 0,
              "ticks": ""
             }
            },
            "type": "scatterpolargl"
           }
          ],
          "scatterternary": [
           {
            "marker": {
             "colorbar": {
              "outlinewidth": 0,
              "ticks": ""
             }
            },
            "type": "scatterternary"
           }
          ],
          "surface": [
           {
            "colorbar": {
             "outlinewidth": 0,
             "ticks": ""
            },
            "colorscale": [
             [
              0,
              "#0d0887"
             ],
             [
              0.1111111111111111,
              "#46039f"
             ],
             [
              0.2222222222222222,
              "#7201a8"
             ],
             [
              0.3333333333333333,
              "#9c179e"
             ],
             [
              0.4444444444444444,
              "#bd3786"
             ],
             [
              0.5555555555555556,
              "#d8576b"
             ],
             [
              0.6666666666666666,
              "#ed7953"
             ],
             [
              0.7777777777777778,
              "#fb9f3a"
             ],
             [
              0.8888888888888888,
              "#fdca26"
             ],
             [
              1,
              "#f0f921"
             ]
            ],
            "type": "surface"
           }
          ],
          "table": [
           {
            "cells": {
             "fill": {
              "color": "#EBF0F8"
             },
             "line": {
              "color": "white"
             }
            },
            "header": {
             "fill": {
              "color": "#C8D4E3"
             },
             "line": {
              "color": "white"
             }
            },
            "type": "table"
           }
          ]
         },
         "layout": {
          "annotationdefaults": {
           "arrowcolor": "#2a3f5f",
           "arrowhead": 0,
           "arrowwidth": 1
          },
          "autotypenumbers": "strict",
          "coloraxis": {
           "colorbar": {
            "outlinewidth": 0,
            "ticks": ""
           }
          },
          "colorscale": {
           "diverging": [
            [
             0,
             "#8e0152"
            ],
            [
             0.1,
             "#c51b7d"
            ],
            [
             0.2,
             "#de77ae"
            ],
            [
             0.3,
             "#f1b6da"
            ],
            [
             0.4,
             "#fde0ef"
            ],
            [
             0.5,
             "#f7f7f7"
            ],
            [
             0.6,
             "#e6f5d0"
            ],
            [
             0.7,
             "#b8e186"
            ],
            [
             0.8,
             "#7fbc41"
            ],
            [
             0.9,
             "#4d9221"
            ],
            [
             1,
             "#276419"
            ]
           ],
           "sequential": [
            [
             0,
             "#0d0887"
            ],
            [
             0.1111111111111111,
             "#46039f"
            ],
            [
             0.2222222222222222,
             "#7201a8"
            ],
            [
             0.3333333333333333,
             "#9c179e"
            ],
            [
             0.4444444444444444,
             "#bd3786"
            ],
            [
             0.5555555555555556,
             "#d8576b"
            ],
            [
             0.6666666666666666,
             "#ed7953"
            ],
            [
             0.7777777777777778,
             "#fb9f3a"
            ],
            [
             0.8888888888888888,
             "#fdca26"
            ],
            [
             1,
             "#f0f921"
            ]
           ],
           "sequentialminus": [
            [
             0,
             "#0d0887"
            ],
            [
             0.1111111111111111,
             "#46039f"
            ],
            [
             0.2222222222222222,
             "#7201a8"
            ],
            [
             0.3333333333333333,
             "#9c179e"
            ],
            [
             0.4444444444444444,
             "#bd3786"
            ],
            [
             0.5555555555555556,
             "#d8576b"
            ],
            [
             0.6666666666666666,
             "#ed7953"
            ],
            [
             0.7777777777777778,
             "#fb9f3a"
            ],
            [
             0.8888888888888888,
             "#fdca26"
            ],
            [
             1,
             "#f0f921"
            ]
           ]
          },
          "colorway": [
           "#636efa",
           "#EF553B",
           "#00cc96",
           "#ab63fa",
           "#FFA15A",
           "#19d3f3",
           "#FF6692",
           "#B6E880",
           "#FF97FF",
           "#FECB52"
          ],
          "font": {
           "color": "#2a3f5f"
          },
          "geo": {
           "bgcolor": "white",
           "lakecolor": "white",
           "landcolor": "#E5ECF6",
           "showlakes": true,
           "showland": true,
           "subunitcolor": "white"
          },
          "hoverlabel": {
           "align": "left"
          },
          "hovermode": "closest",
          "mapbox": {
           "style": "light"
          },
          "paper_bgcolor": "white",
          "plot_bgcolor": "#E5ECF6",
          "polar": {
           "angularaxis": {
            "gridcolor": "white",
            "linecolor": "white",
            "ticks": ""
           },
           "bgcolor": "#E5ECF6",
           "radialaxis": {
            "gridcolor": "white",
            "linecolor": "white",
            "ticks": ""
           }
          },
          "scene": {
           "xaxis": {
            "backgroundcolor": "#E5ECF6",
            "gridcolor": "white",
            "gridwidth": 2,
            "linecolor": "white",
            "showbackground": true,
            "ticks": "",
            "zerolinecolor": "white"
           },
           "yaxis": {
            "backgroundcolor": "#E5ECF6",
            "gridcolor": "white",
            "gridwidth": 2,
            "linecolor": "white",
            "showbackground": true,
            "ticks": "",
            "zerolinecolor": "white"
           },
           "zaxis": {
            "backgroundcolor": "#E5ECF6",
            "gridcolor": "white",
            "gridwidth": 2,
            "linecolor": "white",
            "showbackground": true,
            "ticks": "",
            "zerolinecolor": "white"
           }
          },
          "shapedefaults": {
           "line": {
            "color": "#2a3f5f"
           }
          },
          "ternary": {
           "aaxis": {
            "gridcolor": "white",
            "linecolor": "white",
            "ticks": ""
           },
           "baxis": {
            "gridcolor": "white",
            "linecolor": "white",
            "ticks": ""
           },
           "bgcolor": "#E5ECF6",
           "caxis": {
            "gridcolor": "white",
            "linecolor": "white",
            "ticks": ""
           }
          },
          "title": {
           "x": 0.05
          },
          "xaxis": {
           "automargin": true,
           "gridcolor": "white",
           "linecolor": "white",
           "ticks": "",
           "title": {
            "standoff": 15
           },
           "zerolinecolor": "white",
           "zerolinewidth": 2
          },
          "yaxis": {
           "automargin": true,
           "gridcolor": "white",
           "linecolor": "white",
           "ticks": "",
           "title": {
            "standoff": 15
           },
           "zerolinecolor": "white",
           "zerolinewidth": 2
          }
         }
        }
       }
      }
     },
     "metadata": {},
     "output_type": "display_data"
    }
   ],
   "source": [
    "px.treemap(passing_df, path=['Team'], values='Pass Yds', color='TD', hover_data=['Att'])"
   ]
  },
  {
   "cell_type": "code",
   "execution_count": 15,
   "metadata": {},
   "outputs": [
    {
     "data": {
      "application/vnd.plotly.v1+json": {
       "config": {
        "plotlyServerURL": "https://plot.ly"
       },
       "data": [
        {
         "branchvalues": "total",
         "customdata": [
          [
           62,
           3
          ],
          [
           34,
           2
          ],
          [
           101,
           8
          ],
          [
           113,
           10
          ],
          [
           80,
           4
          ],
          [
           82,
           4
          ],
          [
           106,
           6
          ],
          [
           115,
           5
          ],
          [
           111,
           9
          ],
          [
           97,
           11
          ],
          [
           102,
           5
          ],
          [
           107,
           8
          ],
          [
           76,
           4
          ],
          [
           94,
           9
          ],
          [
           82,
           4
          ],
          [
           57,
           3
          ],
          [
           68,
           3
          ],
          [
           88,
           8
          ],
          [
           111,
           7
          ],
          [
           93,
           11
          ],
          [
           93,
           6
          ],
          [
           64,
           4
          ],
          [
           79,
           3
          ],
          [
           95,
           6
          ],
          [
           106,
           4
          ],
          [
           76,
           11
          ],
          [
           93,
           5
          ],
          [
           102,
           6
          ],
          [
           79,
           2
          ],
          [
           88,
           5
          ],
          [
           68,
           5
          ],
          [
           100,
           6
          ]
         ],
         "domain": {
          "x": [
           0,
           1
          ],
          "y": [
           0,
           1
          ]
         },
         "hovertemplate": "labels=%{label}<br>Yds=%{value}<br>parent=%{parent}<br>id=%{id}<br>Rec=%{customdata[0]}<br>TD=%{color}<extra></extra>",
         "ids": [
          "49ers49ers",
          "BearsBears",
          "BengalsBengals",
          "BillsBills",
          "BroncosBroncos",
          "BrownsBrowns",
          "BuccaneersBuccaneers",
          "CardinalsCardinals",
          "ChargersChargers",
          "ChiefsChiefs",
          "ColtsColts",
          "CommandersCommanders",
          "CowboysCowboys",
          "DolphinsDolphins",
          "EaglesEagles",
          "FalconsFalcons",
          "GiantsGiants",
          "JaguarsJaguars",
          "JetsJets",
          "LionsLions",
          "PackersPackers",
          "PanthersPanthers",
          "PatriotsPatriots",
          "RaidersRaiders",
          "RamsRams",
          "RavensRavens",
          "SaintsSaints",
          "SeahawksSeahawks",
          "SteelersSteelers",
          "TexansTexans",
          "TitansTitans",
          "VikingsVikings"
         ],
         "labels": [
          "49ers49ers",
          "BearsBears",
          "BengalsBengals",
          "BillsBills",
          "BroncosBroncos",
          "BrownsBrowns",
          "BuccaneersBuccaneers",
          "CardinalsCardinals",
          "ChargersChargers",
          "ChiefsChiefs",
          "ColtsColts",
          "CommandersCommanders",
          "CowboysCowboys",
          "DolphinsDolphins",
          "EaglesEagles",
          "FalconsFalcons",
          "GiantsGiants",
          "JaguarsJaguars",
          "JetsJets",
          "LionsLions",
          "PackersPackers",
          "PanthersPanthers",
          "PatriotsPatriots",
          "RaidersRaiders",
          "RamsRams",
          "RavensRavens",
          "SaintsSaints",
          "SeahawksSeahawks",
          "SteelersSteelers",
          "TexansTexans",
          "TitansTitans",
          "VikingsVikings"
         ],
         "marker": {
          "coloraxis": "coloraxis",
          "colors": [
           3,
           2,
           8,
           10,
           4,
           4,
           6,
           5,
           9,
           11,
           5,
           8,
           4,
           9,
           4,
           3,
           3,
           8,
           7,
           11,
           6,
           4,
           3,
           6,
           4,
           11,
           5,
           6,
           2,
           5,
           5,
           6
          ]
         },
         "name": "",
         "parents": [
          "",
          "",
          "",
          "",
          "",
          "",
          "",
          "",
          "",
          "",
          "",
          "",
          "",
          "",
          "",
          "",
          "",
          "",
          "",
          "",
          "",
          "",
          "",
          "",
          "",
          "",
          "",
          "",
          "",
          "",
          "",
          ""
         ],
         "type": "treemap",
         "values": [
          798,
          471,
          1122,
          1227,
          980,
          830,
          1058,
          1003,
          1250,
          1106,
          1125,
          1031,
          871,
          1228,
          1120,
          779,
          642,
          946,
          1172,
          1132,
          1000,
          747,
          922,
          1042,
          1015,
          893,
          1094,
          1037,
          773,
          908,
          790,
          1044
         ]
        }
       ],
       "layout": {
        "coloraxis": {
         "colorbar": {
          "title": {
           "text": "TD"
          }
         },
         "colorscale": [
          [
           0,
           "#0d0887"
          ],
          [
           0.1111111111111111,
           "#46039f"
          ],
          [
           0.2222222222222222,
           "#7201a8"
          ],
          [
           0.3333333333333333,
           "#9c179e"
          ],
          [
           0.4444444444444444,
           "#bd3786"
          ],
          [
           0.5555555555555556,
           "#d8576b"
          ],
          [
           0.6666666666666666,
           "#ed7953"
          ],
          [
           0.7777777777777778,
           "#fb9f3a"
          ],
          [
           0.8888888888888888,
           "#fdca26"
          ],
          [
           1,
           "#f0f921"
          ]
         ]
        },
        "legend": {
         "tracegroupgap": 0
        },
        "margin": {
         "t": 60
        },
        "template": {
         "data": {
          "bar": [
           {
            "error_x": {
             "color": "#2a3f5f"
            },
            "error_y": {
             "color": "#2a3f5f"
            },
            "marker": {
             "line": {
              "color": "#E5ECF6",
              "width": 0.5
             },
             "pattern": {
              "fillmode": "overlay",
              "size": 10,
              "solidity": 0.2
             }
            },
            "type": "bar"
           }
          ],
          "barpolar": [
           {
            "marker": {
             "line": {
              "color": "#E5ECF6",
              "width": 0.5
             },
             "pattern": {
              "fillmode": "overlay",
              "size": 10,
              "solidity": 0.2
             }
            },
            "type": "barpolar"
           }
          ],
          "carpet": [
           {
            "aaxis": {
             "endlinecolor": "#2a3f5f",
             "gridcolor": "white",
             "linecolor": "white",
             "minorgridcolor": "white",
             "startlinecolor": "#2a3f5f"
            },
            "baxis": {
             "endlinecolor": "#2a3f5f",
             "gridcolor": "white",
             "linecolor": "white",
             "minorgridcolor": "white",
             "startlinecolor": "#2a3f5f"
            },
            "type": "carpet"
           }
          ],
          "choropleth": [
           {
            "colorbar": {
             "outlinewidth": 0,
             "ticks": ""
            },
            "type": "choropleth"
           }
          ],
          "contour": [
           {
            "colorbar": {
             "outlinewidth": 0,
             "ticks": ""
            },
            "colorscale": [
             [
              0,
              "#0d0887"
             ],
             [
              0.1111111111111111,
              "#46039f"
             ],
             [
              0.2222222222222222,
              "#7201a8"
             ],
             [
              0.3333333333333333,
              "#9c179e"
             ],
             [
              0.4444444444444444,
              "#bd3786"
             ],
             [
              0.5555555555555556,
              "#d8576b"
             ],
             [
              0.6666666666666666,
              "#ed7953"
             ],
             [
              0.7777777777777778,
              "#fb9f3a"
             ],
             [
              0.8888888888888888,
              "#fdca26"
             ],
             [
              1,
              "#f0f921"
             ]
            ],
            "type": "contour"
           }
          ],
          "contourcarpet": [
           {
            "colorbar": {
             "outlinewidth": 0,
             "ticks": ""
            },
            "type": "contourcarpet"
           }
          ],
          "heatmap": [
           {
            "colorbar": {
             "outlinewidth": 0,
             "ticks": ""
            },
            "colorscale": [
             [
              0,
              "#0d0887"
             ],
             [
              0.1111111111111111,
              "#46039f"
             ],
             [
              0.2222222222222222,
              "#7201a8"
             ],
             [
              0.3333333333333333,
              "#9c179e"
             ],
             [
              0.4444444444444444,
              "#bd3786"
             ],
             [
              0.5555555555555556,
              "#d8576b"
             ],
             [
              0.6666666666666666,
              "#ed7953"
             ],
             [
              0.7777777777777778,
              "#fb9f3a"
             ],
             [
              0.8888888888888888,
              "#fdca26"
             ],
             [
              1,
              "#f0f921"
             ]
            ],
            "type": "heatmap"
           }
          ],
          "heatmapgl": [
           {
            "colorbar": {
             "outlinewidth": 0,
             "ticks": ""
            },
            "colorscale": [
             [
              0,
              "#0d0887"
             ],
             [
              0.1111111111111111,
              "#46039f"
             ],
             [
              0.2222222222222222,
              "#7201a8"
             ],
             [
              0.3333333333333333,
              "#9c179e"
             ],
             [
              0.4444444444444444,
              "#bd3786"
             ],
             [
              0.5555555555555556,
              "#d8576b"
             ],
             [
              0.6666666666666666,
              "#ed7953"
             ],
             [
              0.7777777777777778,
              "#fb9f3a"
             ],
             [
              0.8888888888888888,
              "#fdca26"
             ],
             [
              1,
              "#f0f921"
             ]
            ],
            "type": "heatmapgl"
           }
          ],
          "histogram": [
           {
            "marker": {
             "pattern": {
              "fillmode": "overlay",
              "size": 10,
              "solidity": 0.2
             }
            },
            "type": "histogram"
           }
          ],
          "histogram2d": [
           {
            "colorbar": {
             "outlinewidth": 0,
             "ticks": ""
            },
            "colorscale": [
             [
              0,
              "#0d0887"
             ],
             [
              0.1111111111111111,
              "#46039f"
             ],
             [
              0.2222222222222222,
              "#7201a8"
             ],
             [
              0.3333333333333333,
              "#9c179e"
             ],
             [
              0.4444444444444444,
              "#bd3786"
             ],
             [
              0.5555555555555556,
              "#d8576b"
             ],
             [
              0.6666666666666666,
              "#ed7953"
             ],
             [
              0.7777777777777778,
              "#fb9f3a"
             ],
             [
              0.8888888888888888,
              "#fdca26"
             ],
             [
              1,
              "#f0f921"
             ]
            ],
            "type": "histogram2d"
           }
          ],
          "histogram2dcontour": [
           {
            "colorbar": {
             "outlinewidth": 0,
             "ticks": ""
            },
            "colorscale": [
             [
              0,
              "#0d0887"
             ],
             [
              0.1111111111111111,
              "#46039f"
             ],
             [
              0.2222222222222222,
              "#7201a8"
             ],
             [
              0.3333333333333333,
              "#9c179e"
             ],
             [
              0.4444444444444444,
              "#bd3786"
             ],
             [
              0.5555555555555556,
              "#d8576b"
             ],
             [
              0.6666666666666666,
              "#ed7953"
             ],
             [
              0.7777777777777778,
              "#fb9f3a"
             ],
             [
              0.8888888888888888,
              "#fdca26"
             ],
             [
              1,
              "#f0f921"
             ]
            ],
            "type": "histogram2dcontour"
           }
          ],
          "mesh3d": [
           {
            "colorbar": {
             "outlinewidth": 0,
             "ticks": ""
            },
            "type": "mesh3d"
           }
          ],
          "parcoords": [
           {
            "line": {
             "colorbar": {
              "outlinewidth": 0,
              "ticks": ""
             }
            },
            "type": "parcoords"
           }
          ],
          "pie": [
           {
            "automargin": true,
            "type": "pie"
           }
          ],
          "scatter": [
           {
            "fillpattern": {
             "fillmode": "overlay",
             "size": 10,
             "solidity": 0.2
            },
            "type": "scatter"
           }
          ],
          "scatter3d": [
           {
            "line": {
             "colorbar": {
              "outlinewidth": 0,
              "ticks": ""
             }
            },
            "marker": {
             "colorbar": {
              "outlinewidth": 0,
              "ticks": ""
             }
            },
            "type": "scatter3d"
           }
          ],
          "scattercarpet": [
           {
            "marker": {
             "colorbar": {
              "outlinewidth": 0,
              "ticks": ""
             }
            },
            "type": "scattercarpet"
           }
          ],
          "scattergeo": [
           {
            "marker": {
             "colorbar": {
              "outlinewidth": 0,
              "ticks": ""
             }
            },
            "type": "scattergeo"
           }
          ],
          "scattergl": [
           {
            "marker": {
             "colorbar": {
              "outlinewidth": 0,
              "ticks": ""
             }
            },
            "type": "scattergl"
           }
          ],
          "scattermapbox": [
           {
            "marker": {
             "colorbar": {
              "outlinewidth": 0,
              "ticks": ""
             }
            },
            "type": "scattermapbox"
           }
          ],
          "scatterpolar": [
           {
            "marker": {
             "colorbar": {
              "outlinewidth": 0,
              "ticks": ""
             }
            },
            "type": "scatterpolar"
           }
          ],
          "scatterpolargl": [
           {
            "marker": {
             "colorbar": {
              "outlinewidth": 0,
              "ticks": ""
             }
            },
            "type": "scatterpolargl"
           }
          ],
          "scatterternary": [
           {
            "marker": {
             "colorbar": {
              "outlinewidth": 0,
              "ticks": ""
             }
            },
            "type": "scatterternary"
           }
          ],
          "surface": [
           {
            "colorbar": {
             "outlinewidth": 0,
             "ticks": ""
            },
            "colorscale": [
             [
              0,
              "#0d0887"
             ],
             [
              0.1111111111111111,
              "#46039f"
             ],
             [
              0.2222222222222222,
              "#7201a8"
             ],
             [
              0.3333333333333333,
              "#9c179e"
             ],
             [
              0.4444444444444444,
              "#bd3786"
             ],
             [
              0.5555555555555556,
              "#d8576b"
             ],
             [
              0.6666666666666666,
              "#ed7953"
             ],
             [
              0.7777777777777778,
              "#fb9f3a"
             ],
             [
              0.8888888888888888,
              "#fdca26"
             ],
             [
              1,
              "#f0f921"
             ]
            ],
            "type": "surface"
           }
          ],
          "table": [
           {
            "cells": {
             "fill": {
              "color": "#EBF0F8"
             },
             "line": {
              "color": "white"
             }
            },
            "header": {
             "fill": {
              "color": "#C8D4E3"
             },
             "line": {
              "color": "white"
             }
            },
            "type": "table"
           }
          ]
         },
         "layout": {
          "annotationdefaults": {
           "arrowcolor": "#2a3f5f",
           "arrowhead": 0,
           "arrowwidth": 1
          },
          "autotypenumbers": "strict",
          "coloraxis": {
           "colorbar": {
            "outlinewidth": 0,
            "ticks": ""
           }
          },
          "colorscale": {
           "diverging": [
            [
             0,
             "#8e0152"
            ],
            [
             0.1,
             "#c51b7d"
            ],
            [
             0.2,
             "#de77ae"
            ],
            [
             0.3,
             "#f1b6da"
            ],
            [
             0.4,
             "#fde0ef"
            ],
            [
             0.5,
             "#f7f7f7"
            ],
            [
             0.6,
             "#e6f5d0"
            ],
            [
             0.7,
             "#b8e186"
            ],
            [
             0.8,
             "#7fbc41"
            ],
            [
             0.9,
             "#4d9221"
            ],
            [
             1,
             "#276419"
            ]
           ],
           "sequential": [
            [
             0,
             "#0d0887"
            ],
            [
             0.1111111111111111,
             "#46039f"
            ],
            [
             0.2222222222222222,
             "#7201a8"
            ],
            [
             0.3333333333333333,
             "#9c179e"
            ],
            [
             0.4444444444444444,
             "#bd3786"
            ],
            [
             0.5555555555555556,
             "#d8576b"
            ],
            [
             0.6666666666666666,
             "#ed7953"
            ],
            [
             0.7777777777777778,
             "#fb9f3a"
            ],
            [
             0.8888888888888888,
             "#fdca26"
            ],
            [
             1,
             "#f0f921"
            ]
           ],
           "sequentialminus": [
            [
             0,
             "#0d0887"
            ],
            [
             0.1111111111111111,
             "#46039f"
            ],
            [
             0.2222222222222222,
             "#7201a8"
            ],
            [
             0.3333333333333333,
             "#9c179e"
            ],
            [
             0.4444444444444444,
             "#bd3786"
            ],
            [
             0.5555555555555556,
             "#d8576b"
            ],
            [
             0.6666666666666666,
             "#ed7953"
            ],
            [
             0.7777777777777778,
             "#fb9f3a"
            ],
            [
             0.8888888888888888,
             "#fdca26"
            ],
            [
             1,
             "#f0f921"
            ]
           ]
          },
          "colorway": [
           "#636efa",
           "#EF553B",
           "#00cc96",
           "#ab63fa",
           "#FFA15A",
           "#19d3f3",
           "#FF6692",
           "#B6E880",
           "#FF97FF",
           "#FECB52"
          ],
          "font": {
           "color": "#2a3f5f"
          },
          "geo": {
           "bgcolor": "white",
           "lakecolor": "white",
           "landcolor": "#E5ECF6",
           "showlakes": true,
           "showland": true,
           "subunitcolor": "white"
          },
          "hoverlabel": {
           "align": "left"
          },
          "hovermode": "closest",
          "mapbox": {
           "style": "light"
          },
          "paper_bgcolor": "white",
          "plot_bgcolor": "#E5ECF6",
          "polar": {
           "angularaxis": {
            "gridcolor": "white",
            "linecolor": "white",
            "ticks": ""
           },
           "bgcolor": "#E5ECF6",
           "radialaxis": {
            "gridcolor": "white",
            "linecolor": "white",
            "ticks": ""
           }
          },
          "scene": {
           "xaxis": {
            "backgroundcolor": "#E5ECF6",
            "gridcolor": "white",
            "gridwidth": 2,
            "linecolor": "white",
            "showbackground": true,
            "ticks": "",
            "zerolinecolor": "white"
           },
           "yaxis": {
            "backgroundcolor": "#E5ECF6",
            "gridcolor": "white",
            "gridwidth": 2,
            "linecolor": "white",
            "showbackground": true,
            "ticks": "",
            "zerolinecolor": "white"
           },
           "zaxis": {
            "backgroundcolor": "#E5ECF6",
            "gridcolor": "white",
            "gridwidth": 2,
            "linecolor": "white",
            "showbackground": true,
            "ticks": "",
            "zerolinecolor": "white"
           }
          },
          "shapedefaults": {
           "line": {
            "color": "#2a3f5f"
           }
          },
          "ternary": {
           "aaxis": {
            "gridcolor": "white",
            "linecolor": "white",
            "ticks": ""
           },
           "baxis": {
            "gridcolor": "white",
            "linecolor": "white",
            "ticks": ""
           },
           "bgcolor": "#E5ECF6",
           "caxis": {
            "gridcolor": "white",
            "linecolor": "white",
            "ticks": ""
           }
          },
          "title": {
           "x": 0.05
          },
          "xaxis": {
           "automargin": true,
           "gridcolor": "white",
           "linecolor": "white",
           "ticks": "",
           "title": {
            "standoff": 15
           },
           "zerolinecolor": "white",
           "zerolinewidth": 2
          },
          "yaxis": {
           "automargin": true,
           "gridcolor": "white",
           "linecolor": "white",
           "ticks": "",
           "title": {
            "standoff": 15
           },
           "zerolinecolor": "white",
           "zerolinewidth": 2
          }
         }
        }
       }
      }
     },
     "metadata": {},
     "output_type": "display_data"
    }
   ],
   "source": [
    "px.treemap(receiving_df, path=['Team'], values='Yds', color='TD', hover_data=['Rec'])"
   ]
  },
  {
   "cell_type": "code",
   "execution_count": 16,
   "metadata": {},
   "outputs": [
    {
     "data": {
      "application/vnd.plotly.v1+json": {
       "config": {
        "plotlyServerURL": "https://plot.ly"
       },
       "data": [
        {
         "branchvalues": "total",
         "customdata": [
          [
           123,
           4
          ],
          [
           136,
           4
          ],
          [
           117,
           1
          ],
          [
           97,
           2
          ],
          [
           104,
           2
          ],
          [
           149,
           7
          ],
          [
           83,
           1
          ],
          [
           108,
           4
          ],
          [
           94,
           2
          ],
          [
           105,
           4
          ],
          [
           101,
           1
          ],
          [
           98,
           2
          ],
          [
           104,
           2
          ],
          [
           80,
           2
          ],
          [
           153,
           10
          ],
          [
           131,
           6
          ],
          [
           134,
           4
          ],
          [
           110,
           3
          ],
          [
           86,
           1
          ],
          [
           112,
           7
          ],
          [
           116,
           3
          ],
          [
           86,
           2
          ],
          [
           114,
           5
          ],
          [
           91,
           2
          ],
          [
           82,
           3
          ],
          [
           105,
           3
          ],
          [
           88,
           4
          ],
          [
           89,
           3
          ],
          [
           97,
           4
          ],
          [
           84,
           2
          ],
          [
           108,
           4
          ],
          [
           89,
           3
          ]
         ],
         "domain": {
          "x": [
           0,
           1
          ],
          "y": [
           0,
           1
          ]
         },
         "hovertemplate": "labels=%{label}<br>Rush Yds=%{value}<br>parent=%{parent}<br>id=%{id}<br>Att=%{customdata[0]}<br>TD=%{color}<extra></extra>",
         "ids": [
          "49ers49ers",
          "BearsBears",
          "BengalsBengals",
          "BillsBills",
          "BroncosBroncos",
          "BrownsBrowns",
          "BuccaneersBuccaneers",
          "CardinalsCardinals",
          "ChargersChargers",
          "ChiefsChiefs",
          "ColtsColts",
          "CommandersCommanders",
          "CowboysCowboys",
          "DolphinsDolphins",
          "EaglesEagles",
          "FalconsFalcons",
          "GiantsGiants",
          "JaguarsJaguars",
          "JetsJets",
          "LionsLions",
          "PackersPackers",
          "PanthersPanthers",
          "PatriotsPatriots",
          "RaidersRaiders",
          "RamsRams",
          "RavensRavens",
          "SaintsSaints",
          "SeahawksSeahawks",
          "SteelersSteelers",
          "TexansTexans",
          "TitansTitans",
          "VikingsVikings"
         ],
         "labels": [
          "49ers49ers",
          "BearsBears",
          "BengalsBengals",
          "BillsBills",
          "BroncosBroncos",
          "BrownsBrowns",
          "BuccaneersBuccaneers",
          "CardinalsCardinals",
          "ChargersChargers",
          "ChiefsChiefs",
          "ColtsColts",
          "CommandersCommanders",
          "CowboysCowboys",
          "DolphinsDolphins",
          "EaglesEagles",
          "FalconsFalcons",
          "GiantsGiants",
          "JaguarsJaguars",
          "JetsJets",
          "LionsLions",
          "PackersPackers",
          "PanthersPanthers",
          "PatriotsPatriots",
          "RaidersRaiders",
          "RamsRams",
          "RavensRavens",
          "SaintsSaints",
          "SeahawksSeahawks",
          "SteelersSteelers",
          "TexansTexans",
          "TitansTitans",
          "VikingsVikings"
         ],
         "marker": {
          "coloraxis": "coloraxis",
          "colors": [
           4,
           4,
           1,
           2,
           2,
           7,
           1,
           4,
           2,
           4,
           1,
           2,
           2,
           2,
           10,
           6,
           4,
           3,
           1,
           7,
           3,
           2,
           5,
           2,
           3,
           3,
           4,
           3,
           4,
           2,
           4,
           3
          ]
         },
         "name": "",
         "parents": [
          "",
          "",
          "",
          "",
          "",
          "",
          "",
          "",
          "",
          "",
          "",
          "",
          "",
          "",
          "",
          "",
          "",
          "",
          "",
          "",
          "",
          "",
          "",
          "",
          "",
          "",
          "",
          "",
          "",
          "",
          "",
          ""
         ],
         "type": "treemap",
         "values": [
          541,
          709,
          358,
          462,
          438,
          749,
          261,
          448,
          258,
          468,
          351,
          402,
          416,
          277,
          661,
          672,
          770,
          441,
          350,
          656,
          580,
          385,
          514,
          452,
          274,
          568,
          446,
          459,
          389,
          380,
          409,
          392
         ]
        }
       ],
       "layout": {
        "coloraxis": {
         "colorbar": {
          "title": {
           "text": "TD"
          }
         },
         "colorscale": [
          [
           0,
           "#0d0887"
          ],
          [
           0.1111111111111111,
           "#46039f"
          ],
          [
           0.2222222222222222,
           "#7201a8"
          ],
          [
           0.3333333333333333,
           "#9c179e"
          ],
          [
           0.4444444444444444,
           "#bd3786"
          ],
          [
           0.5555555555555556,
           "#d8576b"
          ],
          [
           0.6666666666666666,
           "#ed7953"
          ],
          [
           0.7777777777777778,
           "#fb9f3a"
          ],
          [
           0.8888888888888888,
           "#fdca26"
          ],
          [
           1,
           "#f0f921"
          ]
         ]
        },
        "legend": {
         "tracegroupgap": 0
        },
        "margin": {
         "t": 60
        },
        "template": {
         "data": {
          "bar": [
           {
            "error_x": {
             "color": "#2a3f5f"
            },
            "error_y": {
             "color": "#2a3f5f"
            },
            "marker": {
             "line": {
              "color": "#E5ECF6",
              "width": 0.5
             },
             "pattern": {
              "fillmode": "overlay",
              "size": 10,
              "solidity": 0.2
             }
            },
            "type": "bar"
           }
          ],
          "barpolar": [
           {
            "marker": {
             "line": {
              "color": "#E5ECF6",
              "width": 0.5
             },
             "pattern": {
              "fillmode": "overlay",
              "size": 10,
              "solidity": 0.2
             }
            },
            "type": "barpolar"
           }
          ],
          "carpet": [
           {
            "aaxis": {
             "endlinecolor": "#2a3f5f",
             "gridcolor": "white",
             "linecolor": "white",
             "minorgridcolor": "white",
             "startlinecolor": "#2a3f5f"
            },
            "baxis": {
             "endlinecolor": "#2a3f5f",
             "gridcolor": "white",
             "linecolor": "white",
             "minorgridcolor": "white",
             "startlinecolor": "#2a3f5f"
            },
            "type": "carpet"
           }
          ],
          "choropleth": [
           {
            "colorbar": {
             "outlinewidth": 0,
             "ticks": ""
            },
            "type": "choropleth"
           }
          ],
          "contour": [
           {
            "colorbar": {
             "outlinewidth": 0,
             "ticks": ""
            },
            "colorscale": [
             [
              0,
              "#0d0887"
             ],
             [
              0.1111111111111111,
              "#46039f"
             ],
             [
              0.2222222222222222,
              "#7201a8"
             ],
             [
              0.3333333333333333,
              "#9c179e"
             ],
             [
              0.4444444444444444,
              "#bd3786"
             ],
             [
              0.5555555555555556,
              "#d8576b"
             ],
             [
              0.6666666666666666,
              "#ed7953"
             ],
             [
              0.7777777777777778,
              "#fb9f3a"
             ],
             [
              0.8888888888888888,
              "#fdca26"
             ],
             [
              1,
              "#f0f921"
             ]
            ],
            "type": "contour"
           }
          ],
          "contourcarpet": [
           {
            "colorbar": {
             "outlinewidth": 0,
             "ticks": ""
            },
            "type": "contourcarpet"
           }
          ],
          "heatmap": [
           {
            "colorbar": {
             "outlinewidth": 0,
             "ticks": ""
            },
            "colorscale": [
             [
              0,
              "#0d0887"
             ],
             [
              0.1111111111111111,
              "#46039f"
             ],
             [
              0.2222222222222222,
              "#7201a8"
             ],
             [
              0.3333333333333333,
              "#9c179e"
             ],
             [
              0.4444444444444444,
              "#bd3786"
             ],
             [
              0.5555555555555556,
              "#d8576b"
             ],
             [
              0.6666666666666666,
              "#ed7953"
             ],
             [
              0.7777777777777778,
              "#fb9f3a"
             ],
             [
              0.8888888888888888,
              "#fdca26"
             ],
             [
              1,
              "#f0f921"
             ]
            ],
            "type": "heatmap"
           }
          ],
          "heatmapgl": [
           {
            "colorbar": {
             "outlinewidth": 0,
             "ticks": ""
            },
            "colorscale": [
             [
              0,
              "#0d0887"
             ],
             [
              0.1111111111111111,
              "#46039f"
             ],
             [
              0.2222222222222222,
              "#7201a8"
             ],
             [
              0.3333333333333333,
              "#9c179e"
             ],
             [
              0.4444444444444444,
              "#bd3786"
             ],
             [
              0.5555555555555556,
              "#d8576b"
             ],
             [
              0.6666666666666666,
              "#ed7953"
             ],
             [
              0.7777777777777778,
              "#fb9f3a"
             ],
             [
              0.8888888888888888,
              "#fdca26"
             ],
             [
              1,
              "#f0f921"
             ]
            ],
            "type": "heatmapgl"
           }
          ],
          "histogram": [
           {
            "marker": {
             "pattern": {
              "fillmode": "overlay",
              "size": 10,
              "solidity": 0.2
             }
            },
            "type": "histogram"
           }
          ],
          "histogram2d": [
           {
            "colorbar": {
             "outlinewidth": 0,
             "ticks": ""
            },
            "colorscale": [
             [
              0,
              "#0d0887"
             ],
             [
              0.1111111111111111,
              "#46039f"
             ],
             [
              0.2222222222222222,
              "#7201a8"
             ],
             [
              0.3333333333333333,
              "#9c179e"
             ],
             [
              0.4444444444444444,
              "#bd3786"
             ],
             [
              0.5555555555555556,
              "#d8576b"
             ],
             [
              0.6666666666666666,
              "#ed7953"
             ],
             [
              0.7777777777777778,
              "#fb9f3a"
             ],
             [
              0.8888888888888888,
              "#fdca26"
             ],
             [
              1,
              "#f0f921"
             ]
            ],
            "type": "histogram2d"
           }
          ],
          "histogram2dcontour": [
           {
            "colorbar": {
             "outlinewidth": 0,
             "ticks": ""
            },
            "colorscale": [
             [
              0,
              "#0d0887"
             ],
             [
              0.1111111111111111,
              "#46039f"
             ],
             [
              0.2222222222222222,
              "#7201a8"
             ],
             [
              0.3333333333333333,
              "#9c179e"
             ],
             [
              0.4444444444444444,
              "#bd3786"
             ],
             [
              0.5555555555555556,
              "#d8576b"
             ],
             [
              0.6666666666666666,
              "#ed7953"
             ],
             [
              0.7777777777777778,
              "#fb9f3a"
             ],
             [
              0.8888888888888888,
              "#fdca26"
             ],
             [
              1,
              "#f0f921"
             ]
            ],
            "type": "histogram2dcontour"
           }
          ],
          "mesh3d": [
           {
            "colorbar": {
             "outlinewidth": 0,
             "ticks": ""
            },
            "type": "mesh3d"
           }
          ],
          "parcoords": [
           {
            "line": {
             "colorbar": {
              "outlinewidth": 0,
              "ticks": ""
             }
            },
            "type": "parcoords"
           }
          ],
          "pie": [
           {
            "automargin": true,
            "type": "pie"
           }
          ],
          "scatter": [
           {
            "fillpattern": {
             "fillmode": "overlay",
             "size": 10,
             "solidity": 0.2
            },
            "type": "scatter"
           }
          ],
          "scatter3d": [
           {
            "line": {
             "colorbar": {
              "outlinewidth": 0,
              "ticks": ""
             }
            },
            "marker": {
             "colorbar": {
              "outlinewidth": 0,
              "ticks": ""
             }
            },
            "type": "scatter3d"
           }
          ],
          "scattercarpet": [
           {
            "marker": {
             "colorbar": {
              "outlinewidth": 0,
              "ticks": ""
             }
            },
            "type": "scattercarpet"
           }
          ],
          "scattergeo": [
           {
            "marker": {
             "colorbar": {
              "outlinewidth": 0,
              "ticks": ""
             }
            },
            "type": "scattergeo"
           }
          ],
          "scattergl": [
           {
            "marker": {
             "colorbar": {
              "outlinewidth": 0,
              "ticks": ""
             }
            },
            "type": "scattergl"
           }
          ],
          "scattermapbox": [
           {
            "marker": {
             "colorbar": {
              "outlinewidth": 0,
              "ticks": ""
             }
            },
            "type": "scattermapbox"
           }
          ],
          "scatterpolar": [
           {
            "marker": {
             "colorbar": {
              "outlinewidth": 0,
              "ticks": ""
             }
            },
            "type": "scatterpolar"
           }
          ],
          "scatterpolargl": [
           {
            "marker": {
             "colorbar": {
              "outlinewidth": 0,
              "ticks": ""
             }
            },
            "type": "scatterpolargl"
           }
          ],
          "scatterternary": [
           {
            "marker": {
             "colorbar": {
              "outlinewidth": 0,
              "ticks": ""
             }
            },
            "type": "scatterternary"
           }
          ],
          "surface": [
           {
            "colorbar": {
             "outlinewidth": 0,
             "ticks": ""
            },
            "colorscale": [
             [
              0,
              "#0d0887"
             ],
             [
              0.1111111111111111,
              "#46039f"
             ],
             [
              0.2222222222222222,
              "#7201a8"
             ],
             [
              0.3333333333333333,
              "#9c179e"
             ],
             [
              0.4444444444444444,
              "#bd3786"
             ],
             [
              0.5555555555555556,
              "#d8576b"
             ],
             [
              0.6666666666666666,
              "#ed7953"
             ],
             [
              0.7777777777777778,
              "#fb9f3a"
             ],
             [
              0.8888888888888888,
              "#fdca26"
             ],
             [
              1,
              "#f0f921"
             ]
            ],
            "type": "surface"
           }
          ],
          "table": [
           {
            "cells": {
             "fill": {
              "color": "#EBF0F8"
             },
             "line": {
              "color": "white"
             }
            },
            "header": {
             "fill": {
              "color": "#C8D4E3"
             },
             "line": {
              "color": "white"
             }
            },
            "type": "table"
           }
          ]
         },
         "layout": {
          "annotationdefaults": {
           "arrowcolor": "#2a3f5f",
           "arrowhead": 0,
           "arrowwidth": 1
          },
          "autotypenumbers": "strict",
          "coloraxis": {
           "colorbar": {
            "outlinewidth": 0,
            "ticks": ""
           }
          },
          "colorscale": {
           "diverging": [
            [
             0,
             "#8e0152"
            ],
            [
             0.1,
             "#c51b7d"
            ],
            [
             0.2,
             "#de77ae"
            ],
            [
             0.3,
             "#f1b6da"
            ],
            [
             0.4,
             "#fde0ef"
            ],
            [
             0.5,
             "#f7f7f7"
            ],
            [
             0.6,
             "#e6f5d0"
            ],
            [
             0.7,
             "#b8e186"
            ],
            [
             0.8,
             "#7fbc41"
            ],
            [
             0.9,
             "#4d9221"
            ],
            [
             1,
             "#276419"
            ]
           ],
           "sequential": [
            [
             0,
             "#0d0887"
            ],
            [
             0.1111111111111111,
             "#46039f"
            ],
            [
             0.2222222222222222,
             "#7201a8"
            ],
            [
             0.3333333333333333,
             "#9c179e"
            ],
            [
             0.4444444444444444,
             "#bd3786"
            ],
            [
             0.5555555555555556,
             "#d8576b"
            ],
            [
             0.6666666666666666,
             "#ed7953"
            ],
            [
             0.7777777777777778,
             "#fb9f3a"
            ],
            [
             0.8888888888888888,
             "#fdca26"
            ],
            [
             1,
             "#f0f921"
            ]
           ],
           "sequentialminus": [
            [
             0,
             "#0d0887"
            ],
            [
             0.1111111111111111,
             "#46039f"
            ],
            [
             0.2222222222222222,
             "#7201a8"
            ],
            [
             0.3333333333333333,
             "#9c179e"
            ],
            [
             0.4444444444444444,
             "#bd3786"
            ],
            [
             0.5555555555555556,
             "#d8576b"
            ],
            [
             0.6666666666666666,
             "#ed7953"
            ],
            [
             0.7777777777777778,
             "#fb9f3a"
            ],
            [
             0.8888888888888888,
             "#fdca26"
            ],
            [
             1,
             "#f0f921"
            ]
           ]
          },
          "colorway": [
           "#636efa",
           "#EF553B",
           "#00cc96",
           "#ab63fa",
           "#FFA15A",
           "#19d3f3",
           "#FF6692",
           "#B6E880",
           "#FF97FF",
           "#FECB52"
          ],
          "font": {
           "color": "#2a3f5f"
          },
          "geo": {
           "bgcolor": "white",
           "lakecolor": "white",
           "landcolor": "#E5ECF6",
           "showlakes": true,
           "showland": true,
           "subunitcolor": "white"
          },
          "hoverlabel": {
           "align": "left"
          },
          "hovermode": "closest",
          "mapbox": {
           "style": "light"
          },
          "paper_bgcolor": "white",
          "plot_bgcolor": "#E5ECF6",
          "polar": {
           "angularaxis": {
            "gridcolor": "white",
            "linecolor": "white",
            "ticks": ""
           },
           "bgcolor": "#E5ECF6",
           "radialaxis": {
            "gridcolor": "white",
            "linecolor": "white",
            "ticks": ""
           }
          },
          "scene": {
           "xaxis": {
            "backgroundcolor": "#E5ECF6",
            "gridcolor": "white",
            "gridwidth": 2,
            "linecolor": "white",
            "showbackground": true,
            "ticks": "",
            "zerolinecolor": "white"
           },
           "yaxis": {
            "backgroundcolor": "#E5ECF6",
            "gridcolor": "white",
            "gridwidth": 2,
            "linecolor": "white",
            "showbackground": true,
            "ticks": "",
            "zerolinecolor": "white"
           },
           "zaxis": {
            "backgroundcolor": "#E5ECF6",
            "gridcolor": "white",
            "gridwidth": 2,
            "linecolor": "white",
            "showbackground": true,
            "ticks": "",
            "zerolinecolor": "white"
           }
          },
          "shapedefaults": {
           "line": {
            "color": "#2a3f5f"
           }
          },
          "ternary": {
           "aaxis": {
            "gridcolor": "white",
            "linecolor": "white",
            "ticks": ""
           },
           "baxis": {
            "gridcolor": "white",
            "linecolor": "white",
            "ticks": ""
           },
           "bgcolor": "#E5ECF6",
           "caxis": {
            "gridcolor": "white",
            "linecolor": "white",
            "ticks": ""
           }
          },
          "title": {
           "x": 0.05
          },
          "xaxis": {
           "automargin": true,
           "gridcolor": "white",
           "linecolor": "white",
           "ticks": "",
           "title": {
            "standoff": 15
           },
           "zerolinecolor": "white",
           "zerolinewidth": 2
          },
          "yaxis": {
           "automargin": true,
           "gridcolor": "white",
           "linecolor": "white",
           "ticks": "",
           "title": {
            "standoff": 15
           },
           "zerolinecolor": "white",
           "zerolinewidth": 2
          }
         }
        }
       }
      }
     },
     "metadata": {},
     "output_type": "display_data"
    }
   ],
   "source": [
    "px.treemap(rushing_df, path=['Team'], values='Rush Yds', color='TD', hover_data=['Att'])"
   ]
  },
  {
   "cell_type": "code",
   "execution_count": 17,
   "metadata": {},
   "outputs": [
    {
     "data": {
      "application/vnd.plotly.v1+json": {
       "config": {
        "plotlyServerURL": "https://plot.ly"
       },
       "data": [
        {
         "branchvalues": "total",
         "customdata": [
          [
           3,
           4,
           8
          ],
          [
           2,
           4,
           6
          ],
          [
           8,
           1,
           9
          ],
          [
           10,
           2,
           13
          ],
          [
           4,
           2,
           6
          ],
          [
           4,
           7,
           11
          ],
          [
           6,
           1,
           8
          ],
          [
           5,
           4,
           9
          ],
          [
           9,
           2,
           11
          ],
          [
           11,
           4,
           16
          ],
          [
           5,
           1,
           6
          ],
          [
           8,
           2,
           10
          ],
          [
           4,
           2,
           6
          ],
          [
           9,
           2,
           11
          ],
          [
           4,
           10,
           15
          ],
          [
           3,
           6,
           10
          ],
          [
           3,
           4,
           7
          ],
          [
           8,
           3,
           12
          ],
          [
           7,
           1,
           8
          ],
          [
           11,
           7,
           18
          ],
          [
           6,
           3,
           9
          ],
          [
           4,
           2,
           7
          ],
          [
           3,
           5,
           9
          ],
          [
           6,
           2,
           8
          ],
          [
           4,
           3,
           7
          ],
          [
           11,
           3,
           15
          ],
          [
           5,
           4,
           9
          ],
          [
           6,
           3,
           11
          ],
          [
           2,
           4,
           7
          ],
          [
           5,
           2,
           7
          ],
          [
           5,
           4,
           9
          ],
          [
           6,
           3,
           9
          ]
         ],
         "domain": {
          "x": [
           0,
           1
          ],
          "y": [
           0,
           1
          ]
         },
         "hovertemplate": "labels=%{label}<br>Tot TD_sum=%{value}<br>parent=%{parent}<br>id=%{id}<br>Rec TD=%{customdata[0]}<br>Rsh TD=%{customdata[1]}<br>Tot TD=%{color}<extra></extra>",
         "ids": [
          "49ers49ers",
          "BearsBears",
          "BengalsBengals",
          "BillsBills",
          "BroncosBroncos",
          "BrownsBrowns",
          "BuccaneersBuccaneers",
          "CardinalsCardinals",
          "ChargersChargers",
          "ChiefsChiefs",
          "ColtsColts",
          "CommandersCommanders",
          "CowboysCowboys",
          "DolphinsDolphins",
          "EaglesEagles",
          "FalconsFalcons",
          "GiantsGiants",
          "JaguarsJaguars",
          "JetsJets",
          "LionsLions",
          "PackersPackers",
          "PanthersPanthers",
          "PatriotsPatriots",
          "RaidersRaiders",
          "RamsRams",
          "RavensRavens",
          "SaintsSaints",
          "SeahawksSeahawks",
          "SteelersSteelers",
          "TexansTexans",
          "TitansTitans",
          "VikingsVikings"
         ],
         "labels": [
          "49ers49ers",
          "BearsBears",
          "BengalsBengals",
          "BillsBills",
          "BroncosBroncos",
          "BrownsBrowns",
          "BuccaneersBuccaneers",
          "CardinalsCardinals",
          "ChargersChargers",
          "ChiefsChiefs",
          "ColtsColts",
          "CommandersCommanders",
          "CowboysCowboys",
          "DolphinsDolphins",
          "EaglesEagles",
          "FalconsFalcons",
          "GiantsGiants",
          "JaguarsJaguars",
          "JetsJets",
          "LionsLions",
          "PackersPackers",
          "PanthersPanthers",
          "PatriotsPatriots",
          "RaidersRaiders",
          "RamsRams",
          "RavensRavens",
          "SaintsSaints",
          "SeahawksSeahawks",
          "SteelersSteelers",
          "TexansTexans",
          "TitansTitans",
          "VikingsVikings"
         ],
         "marker": {
          "coloraxis": "coloraxis",
          "colors": [
           8,
           6,
           9,
           13,
           6,
           11,
           8,
           9,
           11,
           16,
           6,
           10,
           6,
           11,
           15,
           10,
           7,
           12,
           8,
           18,
           9,
           7,
           9,
           8,
           7,
           15,
           9,
           11,
           7,
           7,
           9,
           9
          ]
         },
         "name": "",
         "parents": [
          "",
          "",
          "",
          "",
          "",
          "",
          "",
          "",
          "",
          "",
          "",
          "",
          "",
          "",
          "",
          "",
          "",
          "",
          "",
          "",
          "",
          "",
          "",
          "",
          "",
          "",
          "",
          "",
          "",
          "",
          "",
          ""
         ],
         "type": "treemap",
         "values": [
          8,
          6,
          9,
          13,
          6,
          11,
          8,
          9,
          11,
          16,
          6,
          10,
          6,
          11,
          15,
          10,
          7,
          12,
          8,
          18,
          9,
          7,
          9,
          8,
          7,
          15,
          9,
          11,
          7,
          7,
          9,
          9
         ]
        }
       ],
       "layout": {
        "coloraxis": {
         "colorbar": {
          "title": {
           "text": "Tot TD"
          }
         },
         "colorscale": [
          [
           0,
           "#0d0887"
          ],
          [
           0.1111111111111111,
           "#46039f"
          ],
          [
           0.2222222222222222,
           "#7201a8"
          ],
          [
           0.3333333333333333,
           "#9c179e"
          ],
          [
           0.4444444444444444,
           "#bd3786"
          ],
          [
           0.5555555555555556,
           "#d8576b"
          ],
          [
           0.6666666666666666,
           "#ed7953"
          ],
          [
           0.7777777777777778,
           "#fb9f3a"
          ],
          [
           0.8888888888888888,
           "#fdca26"
          ],
          [
           1,
           "#f0f921"
          ]
         ]
        },
        "legend": {
         "tracegroupgap": 0
        },
        "margin": {
         "t": 60
        },
        "template": {
         "data": {
          "bar": [
           {
            "error_x": {
             "color": "#2a3f5f"
            },
            "error_y": {
             "color": "#2a3f5f"
            },
            "marker": {
             "line": {
              "color": "#E5ECF6",
              "width": 0.5
             },
             "pattern": {
              "fillmode": "overlay",
              "size": 10,
              "solidity": 0.2
             }
            },
            "type": "bar"
           }
          ],
          "barpolar": [
           {
            "marker": {
             "line": {
              "color": "#E5ECF6",
              "width": 0.5
             },
             "pattern": {
              "fillmode": "overlay",
              "size": 10,
              "solidity": 0.2
             }
            },
            "type": "barpolar"
           }
          ],
          "carpet": [
           {
            "aaxis": {
             "endlinecolor": "#2a3f5f",
             "gridcolor": "white",
             "linecolor": "white",
             "minorgridcolor": "white",
             "startlinecolor": "#2a3f5f"
            },
            "baxis": {
             "endlinecolor": "#2a3f5f",
             "gridcolor": "white",
             "linecolor": "white",
             "minorgridcolor": "white",
             "startlinecolor": "#2a3f5f"
            },
            "type": "carpet"
           }
          ],
          "choropleth": [
           {
            "colorbar": {
             "outlinewidth": 0,
             "ticks": ""
            },
            "type": "choropleth"
           }
          ],
          "contour": [
           {
            "colorbar": {
             "outlinewidth": 0,
             "ticks": ""
            },
            "colorscale": [
             [
              0,
              "#0d0887"
             ],
             [
              0.1111111111111111,
              "#46039f"
             ],
             [
              0.2222222222222222,
              "#7201a8"
             ],
             [
              0.3333333333333333,
              "#9c179e"
             ],
             [
              0.4444444444444444,
              "#bd3786"
             ],
             [
              0.5555555555555556,
              "#d8576b"
             ],
             [
              0.6666666666666666,
              "#ed7953"
             ],
             [
              0.7777777777777778,
              "#fb9f3a"
             ],
             [
              0.8888888888888888,
              "#fdca26"
             ],
             [
              1,
              "#f0f921"
             ]
            ],
            "type": "contour"
           }
          ],
          "contourcarpet": [
           {
            "colorbar": {
             "outlinewidth": 0,
             "ticks": ""
            },
            "type": "contourcarpet"
           }
          ],
          "heatmap": [
           {
            "colorbar": {
             "outlinewidth": 0,
             "ticks": ""
            },
            "colorscale": [
             [
              0,
              "#0d0887"
             ],
             [
              0.1111111111111111,
              "#46039f"
             ],
             [
              0.2222222222222222,
              "#7201a8"
             ],
             [
              0.3333333333333333,
              "#9c179e"
             ],
             [
              0.4444444444444444,
              "#bd3786"
             ],
             [
              0.5555555555555556,
              "#d8576b"
             ],
             [
              0.6666666666666666,
              "#ed7953"
             ],
             [
              0.7777777777777778,
              "#fb9f3a"
             ],
             [
              0.8888888888888888,
              "#fdca26"
             ],
             [
              1,
              "#f0f921"
             ]
            ],
            "type": "heatmap"
           }
          ],
          "heatmapgl": [
           {
            "colorbar": {
             "outlinewidth": 0,
             "ticks": ""
            },
            "colorscale": [
             [
              0,
              "#0d0887"
             ],
             [
              0.1111111111111111,
              "#46039f"
             ],
             [
              0.2222222222222222,
              "#7201a8"
             ],
             [
              0.3333333333333333,
              "#9c179e"
             ],
             [
              0.4444444444444444,
              "#bd3786"
             ],
             [
              0.5555555555555556,
              "#d8576b"
             ],
             [
              0.6666666666666666,
              "#ed7953"
             ],
             [
              0.7777777777777778,
              "#fb9f3a"
             ],
             [
              0.8888888888888888,
              "#fdca26"
             ],
             [
              1,
              "#f0f921"
             ]
            ],
            "type": "heatmapgl"
           }
          ],
          "histogram": [
           {
            "marker": {
             "pattern": {
              "fillmode": "overlay",
              "size": 10,
              "solidity": 0.2
             }
            },
            "type": "histogram"
           }
          ],
          "histogram2d": [
           {
            "colorbar": {
             "outlinewidth": 0,
             "ticks": ""
            },
            "colorscale": [
             [
              0,
              "#0d0887"
             ],
             [
              0.1111111111111111,
              "#46039f"
             ],
             [
              0.2222222222222222,
              "#7201a8"
             ],
             [
              0.3333333333333333,
              "#9c179e"
             ],
             [
              0.4444444444444444,
              "#bd3786"
             ],
             [
              0.5555555555555556,
              "#d8576b"
             ],
             [
              0.6666666666666666,
              "#ed7953"
             ],
             [
              0.7777777777777778,
              "#fb9f3a"
             ],
             [
              0.8888888888888888,
              "#fdca26"
             ],
             [
              1,
              "#f0f921"
             ]
            ],
            "type": "histogram2d"
           }
          ],
          "histogram2dcontour": [
           {
            "colorbar": {
             "outlinewidth": 0,
             "ticks": ""
            },
            "colorscale": [
             [
              0,
              "#0d0887"
             ],
             [
              0.1111111111111111,
              "#46039f"
             ],
             [
              0.2222222222222222,
              "#7201a8"
             ],
             [
              0.3333333333333333,
              "#9c179e"
             ],
             [
              0.4444444444444444,
              "#bd3786"
             ],
             [
              0.5555555555555556,
              "#d8576b"
             ],
             [
              0.6666666666666666,
              "#ed7953"
             ],
             [
              0.7777777777777778,
              "#fb9f3a"
             ],
             [
              0.8888888888888888,
              "#fdca26"
             ],
             [
              1,
              "#f0f921"
             ]
            ],
            "type": "histogram2dcontour"
           }
          ],
          "mesh3d": [
           {
            "colorbar": {
             "outlinewidth": 0,
             "ticks": ""
            },
            "type": "mesh3d"
           }
          ],
          "parcoords": [
           {
            "line": {
             "colorbar": {
              "outlinewidth": 0,
              "ticks": ""
             }
            },
            "type": "parcoords"
           }
          ],
          "pie": [
           {
            "automargin": true,
            "type": "pie"
           }
          ],
          "scatter": [
           {
            "fillpattern": {
             "fillmode": "overlay",
             "size": 10,
             "solidity": 0.2
            },
            "type": "scatter"
           }
          ],
          "scatter3d": [
           {
            "line": {
             "colorbar": {
              "outlinewidth": 0,
              "ticks": ""
             }
            },
            "marker": {
             "colorbar": {
              "outlinewidth": 0,
              "ticks": ""
             }
            },
            "type": "scatter3d"
           }
          ],
          "scattercarpet": [
           {
            "marker": {
             "colorbar": {
              "outlinewidth": 0,
              "ticks": ""
             }
            },
            "type": "scattercarpet"
           }
          ],
          "scattergeo": [
           {
            "marker": {
             "colorbar": {
              "outlinewidth": 0,
              "ticks": ""
             }
            },
            "type": "scattergeo"
           }
          ],
          "scattergl": [
           {
            "marker": {
             "colorbar": {
              "outlinewidth": 0,
              "ticks": ""
             }
            },
            "type": "scattergl"
           }
          ],
          "scattermapbox": [
           {
            "marker": {
             "colorbar": {
              "outlinewidth": 0,
              "ticks": ""
             }
            },
            "type": "scattermapbox"
           }
          ],
          "scatterpolar": [
           {
            "marker": {
             "colorbar": {
              "outlinewidth": 0,
              "ticks": ""
             }
            },
            "type": "scatterpolar"
           }
          ],
          "scatterpolargl": [
           {
            "marker": {
             "colorbar": {
              "outlinewidth": 0,
              "ticks": ""
             }
            },
            "type": "scatterpolargl"
           }
          ],
          "scatterternary": [
           {
            "marker": {
             "colorbar": {
              "outlinewidth": 0,
              "ticks": ""
             }
            },
            "type": "scatterternary"
           }
          ],
          "surface": [
           {
            "colorbar": {
             "outlinewidth": 0,
             "ticks": ""
            },
            "colorscale": [
             [
              0,
              "#0d0887"
             ],
             [
              0.1111111111111111,
              "#46039f"
             ],
             [
              0.2222222222222222,
              "#7201a8"
             ],
             [
              0.3333333333333333,
              "#9c179e"
             ],
             [
              0.4444444444444444,
              "#bd3786"
             ],
             [
              0.5555555555555556,
              "#d8576b"
             ],
             [
              0.6666666666666666,
              "#ed7953"
             ],
             [
              0.7777777777777778,
              "#fb9f3a"
             ],
             [
              0.8888888888888888,
              "#fdca26"
             ],
             [
              1,
              "#f0f921"
             ]
            ],
            "type": "surface"
           }
          ],
          "table": [
           {
            "cells": {
             "fill": {
              "color": "#EBF0F8"
             },
             "line": {
              "color": "white"
             }
            },
            "header": {
             "fill": {
              "color": "#C8D4E3"
             },
             "line": {
              "color": "white"
             }
            },
            "type": "table"
           }
          ]
         },
         "layout": {
          "annotationdefaults": {
           "arrowcolor": "#2a3f5f",
           "arrowhead": 0,
           "arrowwidth": 1
          },
          "autotypenumbers": "strict",
          "coloraxis": {
           "colorbar": {
            "outlinewidth": 0,
            "ticks": ""
           }
          },
          "colorscale": {
           "diverging": [
            [
             0,
             "#8e0152"
            ],
            [
             0.1,
             "#c51b7d"
            ],
            [
             0.2,
             "#de77ae"
            ],
            [
             0.3,
             "#f1b6da"
            ],
            [
             0.4,
             "#fde0ef"
            ],
            [
             0.5,
             "#f7f7f7"
            ],
            [
             0.6,
             "#e6f5d0"
            ],
            [
             0.7,
             "#b8e186"
            ],
            [
             0.8,
             "#7fbc41"
            ],
            [
             0.9,
             "#4d9221"
            ],
            [
             1,
             "#276419"
            ]
           ],
           "sequential": [
            [
             0,
             "#0d0887"
            ],
            [
             0.1111111111111111,
             "#46039f"
            ],
            [
             0.2222222222222222,
             "#7201a8"
            ],
            [
             0.3333333333333333,
             "#9c179e"
            ],
            [
             0.4444444444444444,
             "#bd3786"
            ],
            [
             0.5555555555555556,
             "#d8576b"
            ],
            [
             0.6666666666666666,
             "#ed7953"
            ],
            [
             0.7777777777777778,
             "#fb9f3a"
            ],
            [
             0.8888888888888888,
             "#fdca26"
            ],
            [
             1,
             "#f0f921"
            ]
           ],
           "sequentialminus": [
            [
             0,
             "#0d0887"
            ],
            [
             0.1111111111111111,
             "#46039f"
            ],
            [
             0.2222222222222222,
             "#7201a8"
            ],
            [
             0.3333333333333333,
             "#9c179e"
            ],
            [
             0.4444444444444444,
             "#bd3786"
            ],
            [
             0.5555555555555556,
             "#d8576b"
            ],
            [
             0.6666666666666666,
             "#ed7953"
            ],
            [
             0.7777777777777778,
             "#fb9f3a"
            ],
            [
             0.8888888888888888,
             "#fdca26"
            ],
            [
             1,
             "#f0f921"
            ]
           ]
          },
          "colorway": [
           "#636efa",
           "#EF553B",
           "#00cc96",
           "#ab63fa",
           "#FFA15A",
           "#19d3f3",
           "#FF6692",
           "#B6E880",
           "#FF97FF",
           "#FECB52"
          ],
          "font": {
           "color": "#2a3f5f"
          },
          "geo": {
           "bgcolor": "white",
           "lakecolor": "white",
           "landcolor": "#E5ECF6",
           "showlakes": true,
           "showland": true,
           "subunitcolor": "white"
          },
          "hoverlabel": {
           "align": "left"
          },
          "hovermode": "closest",
          "mapbox": {
           "style": "light"
          },
          "paper_bgcolor": "white",
          "plot_bgcolor": "#E5ECF6",
          "polar": {
           "angularaxis": {
            "gridcolor": "white",
            "linecolor": "white",
            "ticks": ""
           },
           "bgcolor": "#E5ECF6",
           "radialaxis": {
            "gridcolor": "white",
            "linecolor": "white",
            "ticks": ""
           }
          },
          "scene": {
           "xaxis": {
            "backgroundcolor": "#E5ECF6",
            "gridcolor": "white",
            "gridwidth": 2,
            "linecolor": "white",
            "showbackground": true,
            "ticks": "",
            "zerolinecolor": "white"
           },
           "yaxis": {
            "backgroundcolor": "#E5ECF6",
            "gridcolor": "white",
            "gridwidth": 2,
            "linecolor": "white",
            "showbackground": true,
            "ticks": "",
            "zerolinecolor": "white"
           },
           "zaxis": {
            "backgroundcolor": "#E5ECF6",
            "gridcolor": "white",
            "gridwidth": 2,
            "linecolor": "white",
            "showbackground": true,
            "ticks": "",
            "zerolinecolor": "white"
           }
          },
          "shapedefaults": {
           "line": {
            "color": "#2a3f5f"
           }
          },
          "ternary": {
           "aaxis": {
            "gridcolor": "white",
            "linecolor": "white",
            "ticks": ""
           },
           "baxis": {
            "gridcolor": "white",
            "linecolor": "white",
            "ticks": ""
           },
           "bgcolor": "#E5ECF6",
           "caxis": {
            "gridcolor": "white",
            "linecolor": "white",
            "ticks": ""
           }
          },
          "title": {
           "x": 0.05
          },
          "xaxis": {
           "automargin": true,
           "gridcolor": "white",
           "linecolor": "white",
           "ticks": "",
           "title": {
            "standoff": 15
           },
           "zerolinecolor": "white",
           "zerolinewidth": 2
          },
          "yaxis": {
           "automargin": true,
           "gridcolor": "white",
           "linecolor": "white",
           "ticks": "",
           "title": {
            "standoff": 15
           },
           "zerolinecolor": "white",
           "zerolinewidth": 2
          }
         }
        }
       }
      }
     },
     "metadata": {},
     "output_type": "display_data"
    }
   ],
   "source": [
    "px.treemap(scoring_df, path=['Team'], values='Tot TD', color='Tot TD', hover_data=['Rec TD', 'Rsh TD'])"
   ]
  },
  {
   "cell_type": "code",
   "execution_count": 18,
   "metadata": {},
   "outputs": [
    {
     "data": {
      "application/vnd.plotly.v1+json": {
       "config": {
        "plotlyServerURL": "https://plot.ly"
       },
       "data": [
        {
         "alignmentgroup": "True",
         "customdata": [
          [
           193
          ],
          [
           177
          ],
          [
           172
          ],
          [
           170
          ],
          [
           166
          ],
          [
           158
          ],
          [
           157
          ],
          [
           155
          ],
          [
           155
          ],
          [
           154
          ],
          [
           152
          ],
          [
           150
          ],
          [
           147
          ],
          [
           143
          ],
          [
           142
          ],
          [
           140
          ],
          [
           134
          ],
          [
           134
          ],
          [
           133
          ],
          [
           131
          ],
          [
           131
          ],
          [
           129
          ],
          [
           127
          ],
          [
           123
          ],
          [
           118
          ],
          [
           117
          ],
          [
           117
          ],
          [
           108
          ],
          [
           108
          ],
          [
           105
          ],
          [
           98
          ],
          [
           67
          ]
         ],
         "hovertemplate": "Team=%{x}<br>Pass Yds=%{y}<br>Att=%{customdata[0]}<br>TD=%{marker.color}<extra></extra>",
         "legendgroup": "",
         "marker": {
          "color": [
           7,
           5,
           8,
           10,
           9,
           6,
           8,
           6,
           6,
           5,
           11,
           4,
           11,
           5,
           5,
           9,
           6,
           8,
           6,
           4,
           4,
           2,
           4,
           4,
           3,
           11,
           4,
           3,
           3,
           5,
           3,
           2
          ],
          "coloraxis": "coloraxis",
          "pattern": {
           "shape": ""
          }
         },
         "name": "",
         "offsetgroup": "",
         "orientation": "v",
         "showlegend": false,
         "textposition": "auto",
         "type": "bar",
         "x": [
          "JetsJets",
          "CardinalsCardinals",
          "CommandersCommanders",
          "BillsBills",
          "ChargersChargers",
          "VikingsVikings",
          "BengalsBengals",
          "RaidersRaiders",
          "BuccaneersBuccaneers",
          "ColtsColts",
          "LionsLions",
          "RamsRams",
          "ChiefsChiefs",
          "SaintsSaints",
          "TexansTexans",
          "DolphinsDolphins",
          "PackersPackers",
          "JaguarsJaguars",
          "SeahawksSeahawks",
          "CowboysCowboys",
          "BroncosBroncos",
          "SteelersSteelers",
          "BrownsBrowns",
          "EaglesEagles",
          "PatriotsPatriots",
          "RavensRavens",
          "PanthersPanthers",
          "GiantsGiants",
          "49ers49ers",
          "TitansTitans",
          "FalconsFalcons",
          "BearsBears"
         ],
         "xaxis": "x",
         "y": [
          1172,
          1003,
          1031,
          1227,
          1250,
          1044,
          1122,
          1042,
          1058,
          1125,
          1132,
          1015,
          1106,
          1094,
          908,
          1228,
          1000,
          946,
          1037,
          871,
          980,
          773,
          830,
          1120,
          922,
          893,
          747,
          642,
          798,
          790,
          779,
          471
         ],
         "yaxis": "y"
        }
       ],
       "layout": {
        "barmode": "relative",
        "coloraxis": {
         "colorbar": {
          "title": {
           "text": "TD"
          }
         },
         "colorscale": [
          [
           0,
           "#0d0887"
          ],
          [
           0.1111111111111111,
           "#46039f"
          ],
          [
           0.2222222222222222,
           "#7201a8"
          ],
          [
           0.3333333333333333,
           "#9c179e"
          ],
          [
           0.4444444444444444,
           "#bd3786"
          ],
          [
           0.5555555555555556,
           "#d8576b"
          ],
          [
           0.6666666666666666,
           "#ed7953"
          ],
          [
           0.7777777777777778,
           "#fb9f3a"
          ],
          [
           0.8888888888888888,
           "#fdca26"
          ],
          [
           1,
           "#f0f921"
          ]
         ]
        },
        "legend": {
         "tracegroupgap": 0
        },
        "margin": {
         "t": 60
        },
        "template": {
         "data": {
          "bar": [
           {
            "error_x": {
             "color": "#2a3f5f"
            },
            "error_y": {
             "color": "#2a3f5f"
            },
            "marker": {
             "line": {
              "color": "#E5ECF6",
              "width": 0.5
             },
             "pattern": {
              "fillmode": "overlay",
              "size": 10,
              "solidity": 0.2
             }
            },
            "type": "bar"
           }
          ],
          "barpolar": [
           {
            "marker": {
             "line": {
              "color": "#E5ECF6",
              "width": 0.5
             },
             "pattern": {
              "fillmode": "overlay",
              "size": 10,
              "solidity": 0.2
             }
            },
            "type": "barpolar"
           }
          ],
          "carpet": [
           {
            "aaxis": {
             "endlinecolor": "#2a3f5f",
             "gridcolor": "white",
             "linecolor": "white",
             "minorgridcolor": "white",
             "startlinecolor": "#2a3f5f"
            },
            "baxis": {
             "endlinecolor": "#2a3f5f",
             "gridcolor": "white",
             "linecolor": "white",
             "minorgridcolor": "white",
             "startlinecolor": "#2a3f5f"
            },
            "type": "carpet"
           }
          ],
          "choropleth": [
           {
            "colorbar": {
             "outlinewidth": 0,
             "ticks": ""
            },
            "type": "choropleth"
           }
          ],
          "contour": [
           {
            "colorbar": {
             "outlinewidth": 0,
             "ticks": ""
            },
            "colorscale": [
             [
              0,
              "#0d0887"
             ],
             [
              0.1111111111111111,
              "#46039f"
             ],
             [
              0.2222222222222222,
              "#7201a8"
             ],
             [
              0.3333333333333333,
              "#9c179e"
             ],
             [
              0.4444444444444444,
              "#bd3786"
             ],
             [
              0.5555555555555556,
              "#d8576b"
             ],
             [
              0.6666666666666666,
              "#ed7953"
             ],
             [
              0.7777777777777778,
              "#fb9f3a"
             ],
             [
              0.8888888888888888,
              "#fdca26"
             ],
             [
              1,
              "#f0f921"
             ]
            ],
            "type": "contour"
           }
          ],
          "contourcarpet": [
           {
            "colorbar": {
             "outlinewidth": 0,
             "ticks": ""
            },
            "type": "contourcarpet"
           }
          ],
          "heatmap": [
           {
            "colorbar": {
             "outlinewidth": 0,
             "ticks": ""
            },
            "colorscale": [
             [
              0,
              "#0d0887"
             ],
             [
              0.1111111111111111,
              "#46039f"
             ],
             [
              0.2222222222222222,
              "#7201a8"
             ],
             [
              0.3333333333333333,
              "#9c179e"
             ],
             [
              0.4444444444444444,
              "#bd3786"
             ],
             [
              0.5555555555555556,
              "#d8576b"
             ],
             [
              0.6666666666666666,
              "#ed7953"
             ],
             [
              0.7777777777777778,
              "#fb9f3a"
             ],
             [
              0.8888888888888888,
              "#fdca26"
             ],
             [
              1,
              "#f0f921"
             ]
            ],
            "type": "heatmap"
           }
          ],
          "heatmapgl": [
           {
            "colorbar": {
             "outlinewidth": 0,
             "ticks": ""
            },
            "colorscale": [
             [
              0,
              "#0d0887"
             ],
             [
              0.1111111111111111,
              "#46039f"
             ],
             [
              0.2222222222222222,
              "#7201a8"
             ],
             [
              0.3333333333333333,
              "#9c179e"
             ],
             [
              0.4444444444444444,
              "#bd3786"
             ],
             [
              0.5555555555555556,
              "#d8576b"
             ],
             [
              0.6666666666666666,
              "#ed7953"
             ],
             [
              0.7777777777777778,
              "#fb9f3a"
             ],
             [
              0.8888888888888888,
              "#fdca26"
             ],
             [
              1,
              "#f0f921"
             ]
            ],
            "type": "heatmapgl"
           }
          ],
          "histogram": [
           {
            "marker": {
             "pattern": {
              "fillmode": "overlay",
              "size": 10,
              "solidity": 0.2
             }
            },
            "type": "histogram"
           }
          ],
          "histogram2d": [
           {
            "colorbar": {
             "outlinewidth": 0,
             "ticks": ""
            },
            "colorscale": [
             [
              0,
              "#0d0887"
             ],
             [
              0.1111111111111111,
              "#46039f"
             ],
             [
              0.2222222222222222,
              "#7201a8"
             ],
             [
              0.3333333333333333,
              "#9c179e"
             ],
             [
              0.4444444444444444,
              "#bd3786"
             ],
             [
              0.5555555555555556,
              "#d8576b"
             ],
             [
              0.6666666666666666,
              "#ed7953"
             ],
             [
              0.7777777777777778,
              "#fb9f3a"
             ],
             [
              0.8888888888888888,
              "#fdca26"
             ],
             [
              1,
              "#f0f921"
             ]
            ],
            "type": "histogram2d"
           }
          ],
          "histogram2dcontour": [
           {
            "colorbar": {
             "outlinewidth": 0,
             "ticks": ""
            },
            "colorscale": [
             [
              0,
              "#0d0887"
             ],
             [
              0.1111111111111111,
              "#46039f"
             ],
             [
              0.2222222222222222,
              "#7201a8"
             ],
             [
              0.3333333333333333,
              "#9c179e"
             ],
             [
              0.4444444444444444,
              "#bd3786"
             ],
             [
              0.5555555555555556,
              "#d8576b"
             ],
             [
              0.6666666666666666,
              "#ed7953"
             ],
             [
              0.7777777777777778,
              "#fb9f3a"
             ],
             [
              0.8888888888888888,
              "#fdca26"
             ],
             [
              1,
              "#f0f921"
             ]
            ],
            "type": "histogram2dcontour"
           }
          ],
          "mesh3d": [
           {
            "colorbar": {
             "outlinewidth": 0,
             "ticks": ""
            },
            "type": "mesh3d"
           }
          ],
          "parcoords": [
           {
            "line": {
             "colorbar": {
              "outlinewidth": 0,
              "ticks": ""
             }
            },
            "type": "parcoords"
           }
          ],
          "pie": [
           {
            "automargin": true,
            "type": "pie"
           }
          ],
          "scatter": [
           {
            "fillpattern": {
             "fillmode": "overlay",
             "size": 10,
             "solidity": 0.2
            },
            "type": "scatter"
           }
          ],
          "scatter3d": [
           {
            "line": {
             "colorbar": {
              "outlinewidth": 0,
              "ticks": ""
             }
            },
            "marker": {
             "colorbar": {
              "outlinewidth": 0,
              "ticks": ""
             }
            },
            "type": "scatter3d"
           }
          ],
          "scattercarpet": [
           {
            "marker": {
             "colorbar": {
              "outlinewidth": 0,
              "ticks": ""
             }
            },
            "type": "scattercarpet"
           }
          ],
          "scattergeo": [
           {
            "marker": {
             "colorbar": {
              "outlinewidth": 0,
              "ticks": ""
             }
            },
            "type": "scattergeo"
           }
          ],
          "scattergl": [
           {
            "marker": {
             "colorbar": {
              "outlinewidth": 0,
              "ticks": ""
             }
            },
            "type": "scattergl"
           }
          ],
          "scattermapbox": [
           {
            "marker": {
             "colorbar": {
              "outlinewidth": 0,
              "ticks": ""
             }
            },
            "type": "scattermapbox"
           }
          ],
          "scatterpolar": [
           {
            "marker": {
             "colorbar": {
              "outlinewidth": 0,
              "ticks": ""
             }
            },
            "type": "scatterpolar"
           }
          ],
          "scatterpolargl": [
           {
            "marker": {
             "colorbar": {
              "outlinewidth": 0,
              "ticks": ""
             }
            },
            "type": "scatterpolargl"
           }
          ],
          "scatterternary": [
           {
            "marker": {
             "colorbar": {
              "outlinewidth": 0,
              "ticks": ""
             }
            },
            "type": "scatterternary"
           }
          ],
          "surface": [
           {
            "colorbar": {
             "outlinewidth": 0,
             "ticks": ""
            },
            "colorscale": [
             [
              0,
              "#0d0887"
             ],
             [
              0.1111111111111111,
              "#46039f"
             ],
             [
              0.2222222222222222,
              "#7201a8"
             ],
             [
              0.3333333333333333,
              "#9c179e"
             ],
             [
              0.4444444444444444,
              "#bd3786"
             ],
             [
              0.5555555555555556,
              "#d8576b"
             ],
             [
              0.6666666666666666,
              "#ed7953"
             ],
             [
              0.7777777777777778,
              "#fb9f3a"
             ],
             [
              0.8888888888888888,
              "#fdca26"
             ],
             [
              1,
              "#f0f921"
             ]
            ],
            "type": "surface"
           }
          ],
          "table": [
           {
            "cells": {
             "fill": {
              "color": "#EBF0F8"
             },
             "line": {
              "color": "white"
             }
            },
            "header": {
             "fill": {
              "color": "#C8D4E3"
             },
             "line": {
              "color": "white"
             }
            },
            "type": "table"
           }
          ]
         },
         "layout": {
          "annotationdefaults": {
           "arrowcolor": "#2a3f5f",
           "arrowhead": 0,
           "arrowwidth": 1
          },
          "autotypenumbers": "strict",
          "coloraxis": {
           "colorbar": {
            "outlinewidth": 0,
            "ticks": ""
           }
          },
          "colorscale": {
           "diverging": [
            [
             0,
             "#8e0152"
            ],
            [
             0.1,
             "#c51b7d"
            ],
            [
             0.2,
             "#de77ae"
            ],
            [
             0.3,
             "#f1b6da"
            ],
            [
             0.4,
             "#fde0ef"
            ],
            [
             0.5,
             "#f7f7f7"
            ],
            [
             0.6,
             "#e6f5d0"
            ],
            [
             0.7,
             "#b8e186"
            ],
            [
             0.8,
             "#7fbc41"
            ],
            [
             0.9,
             "#4d9221"
            ],
            [
             1,
             "#276419"
            ]
           ],
           "sequential": [
            [
             0,
             "#0d0887"
            ],
            [
             0.1111111111111111,
             "#46039f"
            ],
            [
             0.2222222222222222,
             "#7201a8"
            ],
            [
             0.3333333333333333,
             "#9c179e"
            ],
            [
             0.4444444444444444,
             "#bd3786"
            ],
            [
             0.5555555555555556,
             "#d8576b"
            ],
            [
             0.6666666666666666,
             "#ed7953"
            ],
            [
             0.7777777777777778,
             "#fb9f3a"
            ],
            [
             0.8888888888888888,
             "#fdca26"
            ],
            [
             1,
             "#f0f921"
            ]
           ],
           "sequentialminus": [
            [
             0,
             "#0d0887"
            ],
            [
             0.1111111111111111,
             "#46039f"
            ],
            [
             0.2222222222222222,
             "#7201a8"
            ],
            [
             0.3333333333333333,
             "#9c179e"
            ],
            [
             0.4444444444444444,
             "#bd3786"
            ],
            [
             0.5555555555555556,
             "#d8576b"
            ],
            [
             0.6666666666666666,
             "#ed7953"
            ],
            [
             0.7777777777777778,
             "#fb9f3a"
            ],
            [
             0.8888888888888888,
             "#fdca26"
            ],
            [
             1,
             "#f0f921"
            ]
           ]
          },
          "colorway": [
           "#636efa",
           "#EF553B",
           "#00cc96",
           "#ab63fa",
           "#FFA15A",
           "#19d3f3",
           "#FF6692",
           "#B6E880",
           "#FF97FF",
           "#FECB52"
          ],
          "font": {
           "color": "#2a3f5f"
          },
          "geo": {
           "bgcolor": "white",
           "lakecolor": "white",
           "landcolor": "#E5ECF6",
           "showlakes": true,
           "showland": true,
           "subunitcolor": "white"
          },
          "hoverlabel": {
           "align": "left"
          },
          "hovermode": "closest",
          "mapbox": {
           "style": "light"
          },
          "paper_bgcolor": "white",
          "plot_bgcolor": "#E5ECF6",
          "polar": {
           "angularaxis": {
            "gridcolor": "white",
            "linecolor": "white",
            "ticks": ""
           },
           "bgcolor": "#E5ECF6",
           "radialaxis": {
            "gridcolor": "white",
            "linecolor": "white",
            "ticks": ""
           }
          },
          "scene": {
           "xaxis": {
            "backgroundcolor": "#E5ECF6",
            "gridcolor": "white",
            "gridwidth": 2,
            "linecolor": "white",
            "showbackground": true,
            "ticks": "",
            "zerolinecolor": "white"
           },
           "yaxis": {
            "backgroundcolor": "#E5ECF6",
            "gridcolor": "white",
            "gridwidth": 2,
            "linecolor": "white",
            "showbackground": true,
            "ticks": "",
            "zerolinecolor": "white"
           },
           "zaxis": {
            "backgroundcolor": "#E5ECF6",
            "gridcolor": "white",
            "gridwidth": 2,
            "linecolor": "white",
            "showbackground": true,
            "ticks": "",
            "zerolinecolor": "white"
           }
          },
          "shapedefaults": {
           "line": {
            "color": "#2a3f5f"
           }
          },
          "ternary": {
           "aaxis": {
            "gridcolor": "white",
            "linecolor": "white",
            "ticks": ""
           },
           "baxis": {
            "gridcolor": "white",
            "linecolor": "white",
            "ticks": ""
           },
           "bgcolor": "#E5ECF6",
           "caxis": {
            "gridcolor": "white",
            "linecolor": "white",
            "ticks": ""
           }
          },
          "title": {
           "x": 0.05
          },
          "xaxis": {
           "automargin": true,
           "gridcolor": "white",
           "linecolor": "white",
           "ticks": "",
           "title": {
            "standoff": 15
           },
           "zerolinecolor": "white",
           "zerolinewidth": 2
          },
          "yaxis": {
           "automargin": true,
           "gridcolor": "white",
           "linecolor": "white",
           "ticks": "",
           "title": {
            "standoff": 15
           },
           "zerolinecolor": "white",
           "zerolinewidth": 2
          }
         }
        },
        "xaxis": {
         "anchor": "y",
         "domain": [
          0,
          1
         ],
         "title": {
          "text": "Team"
         }
        },
        "yaxis": {
         "anchor": "x",
         "domain": [
          0,
          1
         ],
         "title": {
          "text": "Pass Yds"
         }
        }
       }
      }
     },
     "metadata": {},
     "output_type": "display_data"
    }
   ],
   "source": [
    "fig = px.bar(passing_df, x='Team', y='Pass Yds', color='TD', hover_data=['Att'])\n",
    "fig.show()"
   ]
  }
 ],
 "metadata": {
  "kernelspec": {
   "display_name": "Python 3.9.1 ('env': venv)",
   "language": "python",
   "name": "python3"
  },
  "language_info": {
   "codemirror_mode": {
    "name": "ipython",
    "version": 3
   },
   "file_extension": ".py",
   "mimetype": "text/x-python",
   "name": "python",
   "nbconvert_exporter": "python",
   "pygments_lexer": "ipython3",
   "version": "3.9.1"
  },
  "orig_nbformat": 4,
  "vscode": {
   "interpreter": {
    "hash": "2b2dda87fb3e44dda843fd80acfd119264123654161c1dafb12f65aaac28dd1c"
   }
  }
 },
 "nbformat": 4,
 "nbformat_minor": 2
}
