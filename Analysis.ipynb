{
 "cells": [
  {
   "cell_type": "code",
   "execution_count": 19,
   "metadata": {},
   "outputs": [],
   "source": [
    "import pandas as pd\n",
    "import plotly.express as px\n",
    "from datetime import date\n",
    "import sqlite3"
   ]
  },
  {
   "cell_type": "code",
   "execution_count": 20,
   "metadata": {},
   "outputs": [],
   "source": [
    "con = sqlite3.connect('nfl.db')"
   ]
  },
  {
   "cell_type": "code",
   "execution_count": 21,
   "metadata": {},
   "outputs": [],
   "source": [
    "passing_df = pd.read_sql_query('SELECT * from offensive_passing WHERE Date is \"09-28-22\"', con)\n",
    "receiving_df = pd.read_sql_query('SELECT * from offensive_receiving WHERE Date is \"09-28-22\"', con) \n",
    "rushing_df = pd.read_sql_query('SELECT * from offensive_rushing WHERE Date is \"09-28-22\"', con)\n",
    "scoring_df = pd.read_sql_query('SELECT * from offensive_scoring WHERE Date is \"09-28-22\"', con)\n",
    "passing_rushing_df = pd.read_sql_query(\"SELECT offensive_passing.Team, offensive_passing.`Pass Yds`, offensive_rushing.`Rush Yds`, offensive_scoring.`Tot TD` FROM ((offensive_rushing JOIN offensive_passing ON offensive_rushing.Team=offensive_passing.Team) JOIN offensive_scoring ON offensive_scoring.Team=offensive_passing.Team) WHERE offensive_passing.Date is '09-28-22' AND offensive_rushing.Date is '09-28-22' AND offensive_scoring.Date is '09-28-22' ORDER BY offensive_scoring.`Tot TD` DESC\", con)"
   ]
  },
  {
   "cell_type": "code",
   "execution_count": 22,
   "metadata": {},
   "outputs": [
    {
     "data": {
      "text/html": [
       "<div>\n",
       "<style scoped>\n",
       "    .dataframe tbody tr th:only-of-type {\n",
       "        vertical-align: middle;\n",
       "    }\n",
       "\n",
       "    .dataframe tbody tr th {\n",
       "        vertical-align: top;\n",
       "    }\n",
       "\n",
       "    .dataframe thead th {\n",
       "        text-align: right;\n",
       "    }\n",
       "</style>\n",
       "<table border=\"1\" class=\"dataframe\">\n",
       "  <thead>\n",
       "    <tr style=\"text-align: right;\">\n",
       "      <th></th>\n",
       "      <th>Team</th>\n",
       "      <th>Att</th>\n",
       "      <th>Cmp</th>\n",
       "      <th>Cmp %</th>\n",
       "      <th>Yds/Att</th>\n",
       "      <th>Pass Yds</th>\n",
       "      <th>TD</th>\n",
       "      <th>INT</th>\n",
       "      <th>Rate</th>\n",
       "      <th>1st</th>\n",
       "      <th>1st%</th>\n",
       "      <th>20+</th>\n",
       "      <th>40+</th>\n",
       "      <th>Lng</th>\n",
       "      <th>Sck</th>\n",
       "      <th>SckY</th>\n",
       "      <th>Date</th>\n",
       "    </tr>\n",
       "  </thead>\n",
       "  <tbody>\n",
       "    <tr>\n",
       "      <th>0</th>\n",
       "      <td>JetsJets</td>\n",
       "      <td>156</td>\n",
       "      <td>92</td>\n",
       "      <td>59.0</td>\n",
       "      <td>5.9</td>\n",
       "      <td>918</td>\n",
       "      <td>5</td>\n",
       "      <td>3</td>\n",
       "      <td>78.4</td>\n",
       "      <td>47</td>\n",
       "      <td>30.1</td>\n",
       "      <td>6</td>\n",
       "      <td>1</td>\n",
       "      <td>66T</td>\n",
       "      <td>9</td>\n",
       "      <td>60</td>\n",
       "      <td>09-28-22</td>\n",
       "    </tr>\n",
       "    <tr>\n",
       "      <th>1</th>\n",
       "      <td>CardinalsCardinals</td>\n",
       "      <td>145</td>\n",
       "      <td>92</td>\n",
       "      <td>63.4</td>\n",
       "      <td>5.5</td>\n",
       "      <td>796</td>\n",
       "      <td>3</td>\n",
       "      <td>1</td>\n",
       "      <td>81.8</td>\n",
       "      <td>40</td>\n",
       "      <td>27.6</td>\n",
       "      <td>8</td>\n",
       "      <td>0</td>\n",
       "      <td>30</td>\n",
       "      <td>6</td>\n",
       "      <td>52</td>\n",
       "      <td>09-28-22</td>\n",
       "    </tr>\n",
       "    <tr>\n",
       "      <th>2</th>\n",
       "      <td>BillsBills</td>\n",
       "      <td>134</td>\n",
       "      <td>94</td>\n",
       "      <td>70.2</td>\n",
       "      <td>7.6</td>\n",
       "      <td>1014</td>\n",
       "      <td>9</td>\n",
       "      <td>2</td>\n",
       "      <td>108.2</td>\n",
       "      <td>49</td>\n",
       "      <td>36.6</td>\n",
       "      <td>10</td>\n",
       "      <td>3</td>\n",
       "      <td>53T</td>\n",
       "      <td>7</td>\n",
       "      <td>27</td>\n",
       "      <td>09-28-22</td>\n",
       "    </tr>\n",
       "    <tr>\n",
       "      <th>3</th>\n",
       "      <td>CommandersCommanders</td>\n",
       "      <td>130</td>\n",
       "      <td>82</td>\n",
       "      <td>63.1</td>\n",
       "      <td>6.6</td>\n",
       "      <td>861</td>\n",
       "      <td>7</td>\n",
       "      <td>3</td>\n",
       "      <td>90.6</td>\n",
       "      <td>42</td>\n",
       "      <td>32.3</td>\n",
       "      <td>11</td>\n",
       "      <td>3</td>\n",
       "      <td>49T</td>\n",
       "      <td>15</td>\n",
       "      <td>95</td>\n",
       "      <td>09-28-22</td>\n",
       "    </tr>\n",
       "    <tr>\n",
       "      <th>4</th>\n",
       "      <td>ChargersChargers</td>\n",
       "      <td>127</td>\n",
       "      <td>84</td>\n",
       "      <td>66.1</td>\n",
       "      <td>7.2</td>\n",
       "      <td>910</td>\n",
       "      <td>7</td>\n",
       "      <td>2</td>\n",
       "      <td>98.9</td>\n",
       "      <td>40</td>\n",
       "      <td>31.5</td>\n",
       "      <td>10</td>\n",
       "      <td>3</td>\n",
       "      <td>54</td>\n",
       "      <td>3</td>\n",
       "      <td>19</td>\n",
       "      <td>09-28-22</td>\n",
       "    </tr>\n",
       "  </tbody>\n",
       "</table>\n",
       "</div>"
      ],
      "text/plain": [
       "                   Team  Att  Cmp  Cmp %  Yds/Att  Pass Yds  TD  INT   Rate  \\\n",
       "0              JetsJets  156   92   59.0      5.9       918   5    3   78.4   \n",
       "1    CardinalsCardinals  145   92   63.4      5.5       796   3    1   81.8   \n",
       "2            BillsBills  134   94   70.2      7.6      1014   9    2  108.2   \n",
       "3  CommandersCommanders  130   82   63.1      6.6       861   7    3   90.6   \n",
       "4      ChargersChargers  127   84   66.1      7.2       910   7    2   98.9   \n",
       "\n",
       "   1st  1st%  20+  40+  Lng  Sck  SckY      Date  \n",
       "0   47  30.1    6    1  66T    9    60  09-28-22  \n",
       "1   40  27.6    8    0   30    6    52  09-28-22  \n",
       "2   49  36.6   10    3  53T    7    27  09-28-22  \n",
       "3   42  32.3   11    3  49T   15    95  09-28-22  \n",
       "4   40  31.5   10    3   54    3    19  09-28-22  "
      ]
     },
     "execution_count": 22,
     "metadata": {},
     "output_type": "execute_result"
    }
   ],
   "source": [
    "passing_df.head(5)"
   ]
  },
  {
   "cell_type": "code",
   "execution_count": 23,
   "metadata": {},
   "outputs": [
    {
     "data": {
      "text/html": [
       "<div>\n",
       "<style scoped>\n",
       "    .dataframe tbody tr th:only-of-type {\n",
       "        vertical-align: middle;\n",
       "    }\n",
       "\n",
       "    .dataframe tbody tr th {\n",
       "        vertical-align: top;\n",
       "    }\n",
       "\n",
       "    .dataframe thead th {\n",
       "        text-align: right;\n",
       "    }\n",
       "</style>\n",
       "<table border=\"1\" class=\"dataframe\">\n",
       "  <thead>\n",
       "    <tr style=\"text-align: right;\">\n",
       "      <th></th>\n",
       "      <th>Team</th>\n",
       "      <th>Rec</th>\n",
       "      <th>Yds</th>\n",
       "      <th>Yds/Rec</th>\n",
       "      <th>TD</th>\n",
       "      <th>20+</th>\n",
       "      <th>40+</th>\n",
       "      <th>Lng</th>\n",
       "      <th>Rec 1st</th>\n",
       "      <th>Rec 1st%</th>\n",
       "      <th>Rec FUM</th>\n",
       "      <th>Date</th>\n",
       "    </tr>\n",
       "  </thead>\n",
       "  <tbody>\n",
       "    <tr>\n",
       "      <th>0</th>\n",
       "      <td>BillsBills</td>\n",
       "      <td>94</td>\n",
       "      <td>1014</td>\n",
       "      <td>10.8</td>\n",
       "      <td>9</td>\n",
       "      <td>10</td>\n",
       "      <td>3</td>\n",
       "      <td>53T</td>\n",
       "      <td>49</td>\n",
       "      <td>52.1</td>\n",
       "      <td>0</td>\n",
       "      <td>09-28-22</td>\n",
       "    </tr>\n",
       "    <tr>\n",
       "      <th>1</th>\n",
       "      <td>JetsJets</td>\n",
       "      <td>92</td>\n",
       "      <td>918</td>\n",
       "      <td>10.0</td>\n",
       "      <td>5</td>\n",
       "      <td>6</td>\n",
       "      <td>1</td>\n",
       "      <td>66T</td>\n",
       "      <td>47</td>\n",
       "      <td>51.1</td>\n",
       "      <td>3</td>\n",
       "      <td>09-28-22</td>\n",
       "    </tr>\n",
       "    <tr>\n",
       "      <th>2</th>\n",
       "      <td>CardinalsCardinals</td>\n",
       "      <td>92</td>\n",
       "      <td>796</td>\n",
       "      <td>8.6</td>\n",
       "      <td>3</td>\n",
       "      <td>8</td>\n",
       "      <td>0</td>\n",
       "      <td>30</td>\n",
       "      <td>40</td>\n",
       "      <td>43.5</td>\n",
       "      <td>0</td>\n",
       "      <td>09-28-22</td>\n",
       "    </tr>\n",
       "    <tr>\n",
       "      <th>3</th>\n",
       "      <td>ChargersChargers</td>\n",
       "      <td>84</td>\n",
       "      <td>910</td>\n",
       "      <td>10.8</td>\n",
       "      <td>7</td>\n",
       "      <td>10</td>\n",
       "      <td>3</td>\n",
       "      <td>54</td>\n",
       "      <td>40</td>\n",
       "      <td>47.6</td>\n",
       "      <td>1</td>\n",
       "      <td>09-28-22</td>\n",
       "    </tr>\n",
       "    <tr>\n",
       "      <th>4</th>\n",
       "      <td>CommandersCommanders</td>\n",
       "      <td>82</td>\n",
       "      <td>861</td>\n",
       "      <td>10.5</td>\n",
       "      <td>7</td>\n",
       "      <td>11</td>\n",
       "      <td>3</td>\n",
       "      <td>49T</td>\n",
       "      <td>42</td>\n",
       "      <td>51.2</td>\n",
       "      <td>0</td>\n",
       "      <td>09-28-22</td>\n",
       "    </tr>\n",
       "  </tbody>\n",
       "</table>\n",
       "</div>"
      ],
      "text/plain": [
       "                   Team  Rec   Yds  Yds/Rec  TD  20+  40+  Lng  Rec 1st  \\\n",
       "0            BillsBills   94  1014     10.8   9   10    3  53T       49   \n",
       "1              JetsJets   92   918     10.0   5    6    1  66T       47   \n",
       "2    CardinalsCardinals   92   796      8.6   3    8    0   30       40   \n",
       "3      ChargersChargers   84   910     10.8   7   10    3   54       40   \n",
       "4  CommandersCommanders   82   861     10.5   7   11    3  49T       42   \n",
       "\n",
       "   Rec 1st%  Rec FUM      Date  \n",
       "0      52.1        0  09-28-22  \n",
       "1      51.1        3  09-28-22  \n",
       "2      43.5        0  09-28-22  \n",
       "3      47.6        1  09-28-22  \n",
       "4      51.2        0  09-28-22  "
      ]
     },
     "execution_count": 23,
     "metadata": {},
     "output_type": "execute_result"
    }
   ],
   "source": [
    "receiving_df.head(5)"
   ]
  },
  {
   "cell_type": "code",
   "execution_count": 24,
   "metadata": {},
   "outputs": [
    {
     "data": {
      "text/html": [
       "<div>\n",
       "<style scoped>\n",
       "    .dataframe tbody tr th:only-of-type {\n",
       "        vertical-align: middle;\n",
       "    }\n",
       "\n",
       "    .dataframe tbody tr th {\n",
       "        vertical-align: top;\n",
       "    }\n",
       "\n",
       "    .dataframe thead th {\n",
       "        text-align: right;\n",
       "    }\n",
       "</style>\n",
       "<table border=\"1\" class=\"dataframe\">\n",
       "  <thead>\n",
       "    <tr style=\"text-align: right;\">\n",
       "      <th></th>\n",
       "      <th>Team</th>\n",
       "      <th>Att</th>\n",
       "      <th>Rush Yds</th>\n",
       "      <th>YPC</th>\n",
       "      <th>TD</th>\n",
       "      <th>20+</th>\n",
       "      <th>40+</th>\n",
       "      <th>Lng</th>\n",
       "      <th>Rush 1st</th>\n",
       "      <th>Rush 1st%</th>\n",
       "      <th>Rush FUM</th>\n",
       "      <th>Date</th>\n",
       "    </tr>\n",
       "  </thead>\n",
       "  <tbody>\n",
       "    <tr>\n",
       "      <th>0</th>\n",
       "      <td>BrownsBrowns</td>\n",
       "      <td>114</td>\n",
       "      <td>572</td>\n",
       "      <td>5.0</td>\n",
       "      <td>5</td>\n",
       "      <td>6</td>\n",
       "      <td>0</td>\n",
       "      <td>36T</td>\n",
       "      <td>33</td>\n",
       "      <td>29.0</td>\n",
       "      <td>0</td>\n",
       "      <td>09-28-22</td>\n",
       "    </tr>\n",
       "    <tr>\n",
       "      <th>1</th>\n",
       "      <td>BearsBears</td>\n",
       "      <td>104</td>\n",
       "      <td>560</td>\n",
       "      <td>5.4</td>\n",
       "      <td>4</td>\n",
       "      <td>5</td>\n",
       "      <td>2</td>\n",
       "      <td>52</td>\n",
       "      <td>27</td>\n",
       "      <td>26.0</td>\n",
       "      <td>2</td>\n",
       "      <td>09-28-22</td>\n",
       "    </tr>\n",
       "    <tr>\n",
       "      <th>2</th>\n",
       "      <td>EaglesEagles</td>\n",
       "      <td>103</td>\n",
       "      <td>451</td>\n",
       "      <td>4.4</td>\n",
       "      <td>6</td>\n",
       "      <td>3</td>\n",
       "      <td>0</td>\n",
       "      <td>26T</td>\n",
       "      <td>26</td>\n",
       "      <td>25.2</td>\n",
       "      <td>1</td>\n",
       "      <td>09-28-22</td>\n",
       "    </tr>\n",
       "    <tr>\n",
       "      <th>3</th>\n",
       "      <td>49ers49ers</td>\n",
       "      <td>101</td>\n",
       "      <td>453</td>\n",
       "      <td>4.5</td>\n",
       "      <td>3</td>\n",
       "      <td>4</td>\n",
       "      <td>1</td>\n",
       "      <td>51T</td>\n",
       "      <td>25</td>\n",
       "      <td>24.8</td>\n",
       "      <td>4</td>\n",
       "      <td>09-28-22</td>\n",
       "    </tr>\n",
       "    <tr>\n",
       "      <th>4</th>\n",
       "      <td>FalconsFalcons</td>\n",
       "      <td>96</td>\n",
       "      <td>470</td>\n",
       "      <td>4.9</td>\n",
       "      <td>4</td>\n",
       "      <td>1</td>\n",
       "      <td>1</td>\n",
       "      <td>40</td>\n",
       "      <td>25</td>\n",
       "      <td>26.0</td>\n",
       "      <td>3</td>\n",
       "      <td>09-28-22</td>\n",
       "    </tr>\n",
       "  </tbody>\n",
       "</table>\n",
       "</div>"
      ],
      "text/plain": [
       "             Team  Att  Rush Yds  YPC  TD  20+  40+  Lng  Rush 1st  Rush 1st%  \\\n",
       "0    BrownsBrowns  114       572  5.0   5    6    0  36T        33       29.0   \n",
       "1      BearsBears  104       560  5.4   4    5    2   52        27       26.0   \n",
       "2    EaglesEagles  103       451  4.4   6    3    0  26T        26       25.2   \n",
       "3      49ers49ers  101       453  4.5   3    4    1  51T        25       24.8   \n",
       "4  FalconsFalcons   96       470  4.9   4    1    1   40        25       26.0   \n",
       "\n",
       "   Rush FUM      Date  \n",
       "0         0  09-28-22  \n",
       "1         2  09-28-22  \n",
       "2         1  09-28-22  \n",
       "3         4  09-28-22  \n",
       "4         3  09-28-22  "
      ]
     },
     "execution_count": 24,
     "metadata": {},
     "output_type": "execute_result"
    }
   ],
   "source": [
    "rushing_df.head(5)"
   ]
  },
  {
   "cell_type": "code",
   "execution_count": 25,
   "metadata": {},
   "outputs": [
    {
     "data": {
      "text/html": [
       "<div>\n",
       "<style scoped>\n",
       "    .dataframe tbody tr th:only-of-type {\n",
       "        vertical-align: middle;\n",
       "    }\n",
       "\n",
       "    .dataframe tbody tr th {\n",
       "        vertical-align: top;\n",
       "    }\n",
       "\n",
       "    .dataframe thead th {\n",
       "        text-align: right;\n",
       "    }\n",
       "</style>\n",
       "<table border=\"1\" class=\"dataframe\">\n",
       "  <thead>\n",
       "    <tr style=\"text-align: right;\">\n",
       "      <th></th>\n",
       "      <th>Team</th>\n",
       "      <th>Rsh TD</th>\n",
       "      <th>Rec TD</th>\n",
       "      <th>Tot TD</th>\n",
       "      <th>2-PT</th>\n",
       "      <th>Date</th>\n",
       "    </tr>\n",
       "  </thead>\n",
       "  <tbody>\n",
       "    <tr>\n",
       "      <th>0</th>\n",
       "      <td>EaglesEagles</td>\n",
       "      <td>6</td>\n",
       "      <td>4</td>\n",
       "      <td>11</td>\n",
       "      <td>0</td>\n",
       "      <td>09-28-22</td>\n",
       "    </tr>\n",
       "    <tr>\n",
       "      <th>1</th>\n",
       "      <td>BrownsBrowns</td>\n",
       "      <td>5</td>\n",
       "      <td>4</td>\n",
       "      <td>9</td>\n",
       "      <td>0</td>\n",
       "      <td>09-28-22</td>\n",
       "    </tr>\n",
       "    <tr>\n",
       "      <th>2</th>\n",
       "      <td>LionsLions</td>\n",
       "      <td>5</td>\n",
       "      <td>7</td>\n",
       "      <td>12</td>\n",
       "      <td>0</td>\n",
       "      <td>09-28-22</td>\n",
       "    </tr>\n",
       "    <tr>\n",
       "      <th>3</th>\n",
       "      <td>FalconsFalcons</td>\n",
       "      <td>4</td>\n",
       "      <td>3</td>\n",
       "      <td>8</td>\n",
       "      <td>1</td>\n",
       "      <td>09-28-22</td>\n",
       "    </tr>\n",
       "    <tr>\n",
       "      <th>4</th>\n",
       "      <td>BearsBears</td>\n",
       "      <td>4</td>\n",
       "      <td>2</td>\n",
       "      <td>6</td>\n",
       "      <td>0</td>\n",
       "      <td>09-28-22</td>\n",
       "    </tr>\n",
       "  </tbody>\n",
       "</table>\n",
       "</div>"
      ],
      "text/plain": [
       "             Team  Rsh TD  Rec TD  Tot TD  2-PT      Date\n",
       "0    EaglesEagles       6       4      11     0  09-28-22\n",
       "1    BrownsBrowns       5       4       9     0  09-28-22\n",
       "2      LionsLions       5       7      12     0  09-28-22\n",
       "3  FalconsFalcons       4       3       8     1  09-28-22\n",
       "4      BearsBears       4       2       6     0  09-28-22"
      ]
     },
     "execution_count": 25,
     "metadata": {},
     "output_type": "execute_result"
    }
   ],
   "source": [
    "scoring_df.head(5)"
   ]
  },
  {
   "cell_type": "code",
   "execution_count": 26,
   "metadata": {},
   "outputs": [
    {
     "data": {
      "text/html": [
       "<div>\n",
       "<style scoped>\n",
       "    .dataframe tbody tr th:only-of-type {\n",
       "        vertical-align: middle;\n",
       "    }\n",
       "\n",
       "    .dataframe tbody tr th {\n",
       "        vertical-align: top;\n",
       "    }\n",
       "\n",
       "    .dataframe thead th {\n",
       "        text-align: right;\n",
       "    }\n",
       "</style>\n",
       "<table border=\"1\" class=\"dataframe\">\n",
       "  <thead>\n",
       "    <tr style=\"text-align: right;\">\n",
       "      <th></th>\n",
       "      <th>Team</th>\n",
       "      <th>Pass Yds</th>\n",
       "      <th>Rush Yds</th>\n",
       "      <th>Tot TD</th>\n",
       "    </tr>\n",
       "  </thead>\n",
       "  <tbody>\n",
       "    <tr>\n",
       "      <th>0</th>\n",
       "      <td>RavensRavens</td>\n",
       "      <td>749</td>\n",
       "      <td>406</td>\n",
       "      <td>13</td>\n",
       "    </tr>\n",
       "    <tr>\n",
       "      <th>1</th>\n",
       "      <td>LionsLions</td>\n",
       "      <td>748</td>\n",
       "      <td>511</td>\n",
       "      <td>12</td>\n",
       "    </tr>\n",
       "    <tr>\n",
       "      <th>2</th>\n",
       "      <td>EaglesEagles</td>\n",
       "      <td>916</td>\n",
       "      <td>451</td>\n",
       "      <td>11</td>\n",
       "    </tr>\n",
       "    <tr>\n",
       "      <th>3</th>\n",
       "      <td>BillsBills</td>\n",
       "      <td>1014</td>\n",
       "      <td>337</td>\n",
       "      <td>11</td>\n",
       "    </tr>\n",
       "    <tr>\n",
       "      <th>4</th>\n",
       "      <td>ChiefsChiefs</td>\n",
       "      <td>857</td>\n",
       "      <td>279</td>\n",
       "      <td>11</td>\n",
       "    </tr>\n",
       "  </tbody>\n",
       "</table>\n",
       "</div>"
      ],
      "text/plain": [
       "           Team  Pass Yds  Rush Yds  Tot TD\n",
       "0  RavensRavens       749       406      13\n",
       "1    LionsLions       748       511      12\n",
       "2  EaglesEagles       916       451      11\n",
       "3    BillsBills      1014       337      11\n",
       "4  ChiefsChiefs       857       279      11"
      ]
     },
     "execution_count": 26,
     "metadata": {},
     "output_type": "execute_result"
    }
   ],
   "source": [
    "passing_rushing_df.head(5)"
   ]
  },
  {
   "cell_type": "code",
   "execution_count": 27,
   "metadata": {},
   "outputs": [
    {
     "name": "stdout",
     "output_type": "stream",
     "text": [
      "<class 'pandas.core.frame.DataFrame'>\n",
      "RangeIndex: 32 entries, 0 to 31\n",
      "Data columns (total 17 columns):\n",
      " #   Column    Non-Null Count  Dtype  \n",
      "---  ------    --------------  -----  \n",
      " 0   Team      32 non-null     object \n",
      " 1   Att       32 non-null     int64  \n",
      " 2   Cmp       32 non-null     int64  \n",
      " 3   Cmp %     32 non-null     float64\n",
      " 4   Yds/Att   32 non-null     float64\n",
      " 5   Pass Yds  32 non-null     int64  \n",
      " 6   TD        32 non-null     int64  \n",
      " 7   INT       32 non-null     int64  \n",
      " 8   Rate      32 non-null     float64\n",
      " 9   1st       32 non-null     int64  \n",
      " 10  1st%      32 non-null     float64\n",
      " 11  20+       32 non-null     int64  \n",
      " 12  40+       32 non-null     int64  \n",
      " 13  Lng       32 non-null     object \n",
      " 14  Sck       32 non-null     int64  \n",
      " 15  SckY      32 non-null     int64  \n",
      " 16  Date      32 non-null     object \n",
      "dtypes: float64(4), int64(10), object(3)\n",
      "memory usage: 4.4+ KB\n"
     ]
    }
   ],
   "source": [
    "passing_df.info()"
   ]
  },
  {
   "cell_type": "code",
   "execution_count": 28,
   "metadata": {},
   "outputs": [
    {
     "data": {
      "application/vnd.plotly.v1+json": {
       "config": {
        "plotlyServerURL": "https://plot.ly"
       },
       "data": [
        {
         "hovertemplate": "Team=RavensRavens<br>Pass Yds=%{x}<br>Rush Yds=%{y}<br>Tot TD=%{marker.size}<extra></extra>",
         "legendgroup": "RavensRavens",
         "marker": {
          "color": "#636efa",
          "size": [
           13
          ],
          "sizemode": "area",
          "sizeref": 0.0325,
          "symbol": "circle"
         },
         "mode": "markers",
         "name": "RavensRavens",
         "orientation": "v",
         "showlegend": true,
         "type": "scatter",
         "x": [
          749
         ],
         "xaxis": "x",
         "y": [
          406
         ],
         "yaxis": "y"
        },
        {
         "hovertemplate": "Team=LionsLions<br>Pass Yds=%{x}<br>Rush Yds=%{y}<br>Tot TD=%{marker.size}<extra></extra>",
         "legendgroup": "LionsLions",
         "marker": {
          "color": "#EF553B",
          "size": [
           12
          ],
          "sizemode": "area",
          "sizeref": 0.0325,
          "symbol": "circle"
         },
         "mode": "markers",
         "name": "LionsLions",
         "orientation": "v",
         "showlegend": true,
         "type": "scatter",
         "x": [
          748
         ],
         "xaxis": "x",
         "y": [
          511
         ],
         "yaxis": "y"
        },
        {
         "hovertemplate": "Team=EaglesEagles<br>Pass Yds=%{x}<br>Rush Yds=%{y}<br>Tot TD=%{marker.size}<extra></extra>",
         "legendgroup": "EaglesEagles",
         "marker": {
          "color": "#00cc96",
          "size": [
           11
          ],
          "sizemode": "area",
          "sizeref": 0.0325,
          "symbol": "circle"
         },
         "mode": "markers",
         "name": "EaglesEagles",
         "orientation": "v",
         "showlegend": true,
         "type": "scatter",
         "x": [
          916
         ],
         "xaxis": "x",
         "y": [
          451
         ],
         "yaxis": "y"
        },
        {
         "hovertemplate": "Team=BillsBills<br>Pass Yds=%{x}<br>Rush Yds=%{y}<br>Tot TD=%{marker.size}<extra></extra>",
         "legendgroup": "BillsBills",
         "marker": {
          "color": "#ab63fa",
          "size": [
           11
          ],
          "sizemode": "area",
          "sizeref": 0.0325,
          "symbol": "circle"
         },
         "mode": "markers",
         "name": "BillsBills",
         "orientation": "v",
         "showlegend": true,
         "type": "scatter",
         "x": [
          1014
         ],
         "xaxis": "x",
         "y": [
          337
         ],
         "yaxis": "y"
        },
        {
         "hovertemplate": "Team=ChiefsChiefs<br>Pass Yds=%{x}<br>Rush Yds=%{y}<br>Tot TD=%{marker.size}<extra></extra>",
         "legendgroup": "ChiefsChiefs",
         "marker": {
          "color": "#FFA15A",
          "size": [
           11
          ],
          "sizemode": "area",
          "sizeref": 0.0325,
          "symbol": "circle"
         },
         "mode": "markers",
         "name": "ChiefsChiefs",
         "orientation": "v",
         "showlegend": true,
         "type": "scatter",
         "x": [
          857
         ],
         "xaxis": "x",
         "y": [
          279
         ],
         "yaxis": "y"
        },
        {
         "hovertemplate": "Team=DolphinsDolphins<br>Pass Yds=%{x}<br>Rush Yds=%{y}<br>Tot TD=%{marker.size}<extra></extra>",
         "legendgroup": "DolphinsDolphins",
         "marker": {
          "color": "#19d3f3",
          "size": [
           10
          ],
          "sizemode": "area",
          "sizeref": 0.0325,
          "symbol": "circle"
         },
         "mode": "markers",
         "name": "DolphinsDolphins",
         "orientation": "v",
         "showlegend": true,
         "type": "scatter",
         "x": [
          925
         ],
         "xaxis": "x",
         "y": [
          192
         ],
         "yaxis": "y"
        },
        {
         "hovertemplate": "Team=BrownsBrowns<br>Pass Yds=%{x}<br>Rush Yds=%{y}<br>Tot TD=%{marker.size}<extra></extra>",
         "legendgroup": "BrownsBrowns",
         "marker": {
          "color": "#FF6692",
          "size": [
           9
          ],
          "sizemode": "area",
          "sizeref": 0.0325,
          "symbol": "circle"
         },
         "mode": "markers",
         "name": "BrownsBrowns",
         "orientation": "v",
         "showlegend": true,
         "type": "scatter",
         "x": [
          596
         ],
         "xaxis": "x",
         "y": [
          572
         ],
         "yaxis": "y"
        },
        {
         "hovertemplate": "Team=JaguarsJaguars<br>Pass Yds=%{x}<br>Rush Yds=%{y}<br>Tot TD=%{marker.size}<extra></extra>",
         "legendgroup": "JaguarsJaguars",
         "marker": {
          "color": "#B6E880",
          "size": [
           9
          ],
          "sizemode": "area",
          "sizeref": 0.0325,
          "symbol": "circle"
         },
         "mode": "markers",
         "name": "JaguarsJaguars",
         "orientation": "v",
         "showlegend": true,
         "type": "scatter",
         "x": [
          772
         ],
         "xaxis": "x",
         "y": [
          370
         ],
         "yaxis": "y"
        },
        {
         "hovertemplate": "Team=CommandersCommanders<br>Pass Yds=%{x}<br>Rush Yds=%{y}<br>Tot TD=%{marker.size}<extra></extra>",
         "legendgroup": "CommandersCommanders",
         "marker": {
          "color": "#FF97FF",
          "size": [
           9
          ],
          "sizemode": "area",
          "sizeref": 0.0325,
          "symbol": "circle"
         },
         "mode": "markers",
         "name": "CommandersCommanders",
         "orientation": "v",
         "showlegend": true,
         "type": "scatter",
         "x": [
          861
         ],
         "xaxis": "x",
         "y": [
          260
         ],
         "yaxis": "y"
        },
        {
         "hovertemplate": "Team=FalconsFalcons<br>Pass Yds=%{x}<br>Rush Yds=%{y}<br>Tot TD=%{marker.size}<extra></extra>",
         "legendgroup": "FalconsFalcons",
         "marker": {
          "color": "#FECB52",
          "size": [
           8
          ],
          "sizemode": "area",
          "sizeref": 0.0325,
          "symbol": "circle"
         },
         "mode": "markers",
         "name": "FalconsFalcons",
         "orientation": "v",
         "showlegend": true,
         "type": "scatter",
         "x": [
          640
         ],
         "xaxis": "x",
         "y": [
          470
         ],
         "yaxis": "y"
        },
        {
         "hovertemplate": "Team=ChargersChargers<br>Pass Yds=%{x}<br>Rush Yds=%{y}<br>Tot TD=%{marker.size}<extra></extra>",
         "legendgroup": "ChargersChargers",
         "marker": {
          "color": "#636efa",
          "size": [
           7
          ],
          "sizemode": "area",
          "sizeref": 0.0325,
          "symbol": "circle"
         },
         "mode": "markers",
         "name": "ChargersChargers",
         "orientation": "v",
         "showlegend": true,
         "type": "scatter",
         "x": [
          910
         ],
         "xaxis": "x",
         "y": [
          177
         ],
         "yaxis": "y"
        },
        {
         "hovertemplate": "Team=RamsRams<br>Pass Yds=%{x}<br>Rush Yds=%{y}<br>Tot TD=%{marker.size}<extra></extra>",
         "legendgroup": "RamsRams",
         "marker": {
          "color": "#EF553B",
          "size": [
           7
          ],
          "sizemode": "area",
          "sizeref": 0.0325,
          "symbol": "circle"
         },
         "mode": "markers",
         "name": "RamsRams",
         "orientation": "v",
         "showlegend": true,
         "type": "scatter",
         "x": [
          761
         ],
         "xaxis": "x",
         "y": [
          217
         ],
         "yaxis": "y"
        },
        {
         "hovertemplate": "Team=VikingsVikings<br>Pass Yds=%{x}<br>Rush Yds=%{y}<br>Tot TD=%{marker.size}<extra></extra>",
         "legendgroup": "VikingsVikings",
         "marker": {
          "color": "#00cc96",
          "size": [
           7
          ],
          "sizemode": "area",
          "sizeref": 0.0325,
          "symbol": "circle"
         },
         "mode": "markers",
         "name": "VikingsVikings",
         "orientation": "v",
         "showlegend": true,
         "type": "scatter",
         "x": [
          758
         ],
         "xaxis": "x",
         "y": [
          311
         ],
         "yaxis": "y"
        },
        {
         "hovertemplate": "Team=BearsBears<br>Pass Yds=%{x}<br>Rush Yds=%{y}<br>Tot TD=%{marker.size}<extra></extra>",
         "legendgroup": "BearsBears",
         "marker": {
          "color": "#ab63fa",
          "size": [
           6
          ],
          "sizemode": "area",
          "sizeref": 0.0325,
          "symbol": "circle"
         },
         "mode": "markers",
         "name": "BearsBears",
         "orientation": "v",
         "showlegend": true,
         "type": "scatter",
         "x": [
          297
         ],
         "xaxis": "x",
         "y": [
          560
         ],
         "yaxis": "y"
        },
        {
         "hovertemplate": "Team=BengalsBengals<br>Pass Yds=%{x}<br>Rush Yds=%{y}<br>Tot TD=%{marker.size}<extra></extra>",
         "legendgroup": "BengalsBengals",
         "marker": {
          "color": "#FFA15A",
          "size": [
           6
          ],
          "sizemode": "area",
          "sizeref": 0.0325,
          "symbol": "circle"
         },
         "mode": "markers",
         "name": "BengalsBengals",
         "orientation": "v",
         "showlegend": true,
         "type": "scatter",
         "x": [
          812
         ],
         "xaxis": "x",
         "y": [
          291
         ],
         "yaxis": "y"
        },
        {
         "hovertemplate": "Team=PackersPackers<br>Pass Yds=%{x}<br>Rush Yds=%{y}<br>Tot TD=%{marker.size}<extra></extra>",
         "legendgroup": "PackersPackers",
         "marker": {
          "color": "#19d3f3",
          "size": [
           6
          ],
          "sizemode": "area",
          "sizeref": 0.0325,
          "symbol": "circle"
         },
         "mode": "markers",
         "name": "PackersPackers",
         "orientation": "v",
         "showlegend": true,
         "type": "scatter",
         "x": [
          749
         ],
         "xaxis": "x",
         "y": [
          381
         ],
         "yaxis": "y"
        },
        {
         "hovertemplate": "Team=PatriotsPatriots<br>Pass Yds=%{x}<br>Rush Yds=%{y}<br>Tot TD=%{marker.size}<extra></extra>",
         "legendgroup": "PatriotsPatriots",
         "marker": {
          "color": "#FF6692",
          "size": [
           6
          ],
          "sizemode": "area",
          "sizeref": 0.0325,
          "symbol": "circle"
         },
         "mode": "markers",
         "name": "PatriotsPatriots",
         "orientation": "v",
         "showlegend": true,
         "type": "scatter",
         "x": [
          786
         ],
         "xaxis": "x",
         "y": [
          347
         ],
         "yaxis": "y"
        },
        {
         "hovertemplate": "Team=TitansTitans<br>Pass Yds=%{x}<br>Rush Yds=%{y}<br>Tot TD=%{marker.size}<extra></extra>",
         "legendgroup": "TitansTitans",
         "marker": {
          "color": "#B6E880",
          "size": [
           6
          ],
          "sizemode": "area",
          "sizeref": 0.0325,
          "symbol": "circle"
         },
         "mode": "markers",
         "name": "TitansTitans",
         "orientation": "v",
         "showlegend": true,
         "type": "scatter",
         "x": [
          653
         ],
         "xaxis": "x",
         "y": [
          282
         ],
         "yaxis": "y"
        },
        {
         "hovertemplate": "Team=CardinalsCardinals<br>Pass Yds=%{x}<br>Rush Yds=%{y}<br>Tot TD=%{marker.size}<extra></extra>",
         "legendgroup": "CardinalsCardinals",
         "marker": {
          "color": "#FF97FF",
          "size": [
           6
          ],
          "sizemode": "area",
          "sizeref": 0.0325,
          "symbol": "circle"
         },
         "mode": "markers",
         "name": "CardinalsCardinals",
         "orientation": "v",
         "showlegend": true,
         "type": "scatter",
         "x": [
          796
         ],
         "xaxis": "x",
         "y": [
          316
         ],
         "yaxis": "y"
        },
        {
         "hovertemplate": "Team=SaintsSaints<br>Pass Yds=%{x}<br>Rush Yds=%{y}<br>Tot TD=%{marker.size}<extra></extra>",
         "legendgroup": "SaintsSaints",
         "marker": {
          "color": "#FECB52",
          "size": [
           6
          ],
          "sizemode": "area",
          "sizeref": 0.0325,
          "symbol": "circle"
         },
         "mode": "markers",
         "name": "SaintsSaints",
         "orientation": "v",
         "showlegend": true,
         "type": "scatter",
         "x": [
          858
         ],
         "xaxis": "x",
         "y": [
          335
         ],
         "yaxis": "y"
        },
        {
         "hovertemplate": "Team=RaidersRaiders<br>Pass Yds=%{x}<br>Rush Yds=%{y}<br>Tot TD=%{marker.size}<extra></extra>",
         "legendgroup": "RaidersRaiders",
         "marker": {
          "color": "#636efa",
          "size": [
           6
          ],
          "sizemode": "area",
          "sizeref": 0.0325,
          "symbol": "circle"
         },
         "mode": "markers",
         "name": "RaidersRaiders",
         "orientation": "v",
         "showlegend": true,
         "type": "scatter",
         "x": [
          854
         ],
         "xaxis": "x",
         "y": [
          240
         ],
         "yaxis": "y"
        },
        {
         "hovertemplate": "Team=49ers49ers<br>Pass Yds=%{x}<br>Rush Yds=%{y}<br>Tot TD=%{marker.size}<extra></extra>",
         "legendgroup": "49ers49ers",
         "marker": {
          "color": "#EF553B",
          "size": [
           5
          ],
          "sizemode": "area",
          "sizeref": 0.0325,
          "symbol": "circle"
         },
         "mode": "markers",
         "name": "49ers49ers",
         "orientation": "v",
         "showlegend": true,
         "type": "scatter",
         "x": [
          559
         ],
         "xaxis": "x",
         "y": [
          453
         ],
         "yaxis": "y"
        },
        {
         "hovertemplate": "Team=GiantsGiants<br>Pass Yds=%{x}<br>Rush Yds=%{y}<br>Tot TD=%{marker.size}<extra></extra>",
         "legendgroup": "GiantsGiants",
         "marker": {
          "color": "#00cc96",
          "size": [
           5
          ],
          "sizemode": "area",
          "sizeref": 0.0325,
          "symbol": "circle"
         },
         "mode": "markers",
         "name": "GiantsGiants",
         "orientation": "v",
         "showlegend": true,
         "type": "scatter",
         "x": [
          560
         ],
         "xaxis": "x",
         "y": [
          508
         ],
         "yaxis": "y"
        },
        {
         "hovertemplate": "Team=PanthersPanthers<br>Pass Yds=%{x}<br>Rush Yds=%{y}<br>Tot TD=%{marker.size}<extra></extra>",
         "legendgroup": "PanthersPanthers",
         "marker": {
          "color": "#ab63fa",
          "size": [
           5
          ],
          "sizemode": "area",
          "sizeref": 0.0325,
          "symbol": "circle"
         },
         "mode": "markers",
         "name": "PanthersPanthers",
         "orientation": "v",
         "showlegend": true,
         "type": "scatter",
         "x": [
          550
         ],
         "xaxis": "x",
         "y": [
          345
         ],
         "yaxis": "y"
        },
        {
         "hovertemplate": "Team=SteelersSteelers<br>Pass Yds=%{x}<br>Rush Yds=%{y}<br>Tot TD=%{marker.size}<extra></extra>",
         "legendgroup": "SteelersSteelers",
         "marker": {
          "color": "#FFA15A",
          "size": [
           5
          ],
          "sizemode": "area",
          "sizeref": 0.0325,
          "symbol": "circle"
         },
         "mode": "markers",
         "name": "SteelersSteelers",
         "orientation": "v",
         "showlegend": true,
         "type": "scatter",
         "x": [
          569
         ],
         "xaxis": "x",
         "y": [
          270
         ],
         "yaxis": "y"
        },
        {
         "hovertemplate": "Team=JetsJets<br>Pass Yds=%{x}<br>Rush Yds=%{y}<br>Tot TD=%{marker.size}<extra></extra>",
         "legendgroup": "JetsJets",
         "marker": {
          "color": "#19d3f3",
          "size": [
           5
          ],
          "sizemode": "area",
          "sizeref": 0.0325,
          "symbol": "circle"
         },
         "mode": "markers",
         "name": "JetsJets",
         "orientation": "v",
         "showlegend": true,
         "type": "scatter",
         "x": [
          918
         ],
         "xaxis": "x",
         "y": [
          252
         ],
         "yaxis": "y"
        },
        {
         "hovertemplate": "Team=SeahawksSeahawks<br>Pass Yds=%{x}<br>Rush Yds=%{y}<br>Tot TD=%{marker.size}<extra></extra>",
         "legendgroup": "SeahawksSeahawks",
         "marker": {
          "color": "#FF6692",
          "size": [
           5
          ],
          "sizemode": "area",
          "sizeref": 0.0325,
          "symbol": "circle"
         },
         "mode": "markers",
         "name": "SeahawksSeahawks",
         "orientation": "v",
         "showlegend": true,
         "type": "scatter",
         "x": [
          717
         ],
         "xaxis": "x",
         "y": [
          224
         ],
         "yaxis": "y"
        },
        {
         "hovertemplate": "Team=ColtsColts<br>Pass Yds=%{x}<br>Rush Yds=%{y}<br>Tot TD=%{marker.size}<extra></extra>",
         "legendgroup": "ColtsColts",
         "marker": {
          "color": "#B6E880",
          "size": [
           4
          ],
          "sizemode": "area",
          "sizeref": 0.0325,
          "symbol": "circle"
         },
         "mode": "markers",
         "name": "ColtsColts",
         "orientation": "v",
         "showlegend": true,
         "type": "scatter",
         "x": [
          769
         ],
         "xaxis": "x",
         "y": [
          313
         ],
         "yaxis": "y"
        },
        {
         "hovertemplate": "Team=BuccaneersBuccaneers<br>Pass Yds=%{x}<br>Rush Yds=%{y}<br>Tot TD=%{marker.size}<extra></extra>",
         "legendgroup": "BuccaneersBuccaneers",
         "marker": {
          "color": "#FF97FF",
          "size": [
           4
          ],
          "sizemode": "area",
          "sizeref": 0.0325,
          "symbol": "circle"
         },
         "mode": "markers",
         "name": "BuccaneersBuccaneers",
         "orientation": "v",
         "showlegend": true,
         "type": "scatter",
         "x": [
          673
         ],
         "xaxis": "x",
         "y": [
          258
         ],
         "yaxis": "y"
        },
        {
         "hovertemplate": "Team=CowboysCowboys<br>Pass Yds=%{x}<br>Rush Yds=%{y}<br>Tot TD=%{marker.size}<extra></extra>",
         "legendgroup": "CowboysCowboys",
         "marker": {
          "color": "#FECB52",
          "size": [
           4
          ],
          "sizemode": "area",
          "sizeref": 0.0325,
          "symbol": "circle"
         },
         "mode": "markers",
         "name": "CowboysCowboys",
         "orientation": "v",
         "showlegend": true,
         "type": "scatter",
         "x": [
          648
         ],
         "xaxis": "x",
         "y": [
          354
         ],
         "yaxis": "y"
        },
        {
         "hovertemplate": "Team=TexansTexans<br>Pass Yds=%{x}<br>Rush Yds=%{y}<br>Tot TD=%{marker.size}<extra></extra>",
         "legendgroup": "TexansTexans",
         "marker": {
          "color": "#636efa",
          "size": [
           4
          ],
          "sizemode": "area",
          "sizeref": 0.0325,
          "symbol": "circle"
         },
         "mode": "markers",
         "name": "TexansTexans",
         "orientation": "v",
         "showlegend": true,
         "type": "scatter",
         "x": [
          662
         ],
         "xaxis": "x",
         "y": [
          249
         ],
         "yaxis": "y"
        },
        {
         "hovertemplate": "Team=BroncosBroncos<br>Pass Yds=%{x}<br>Rush Yds=%{y}<br>Tot TD=%{marker.size}<extra></extra>",
         "legendgroup": "BroncosBroncos",
         "marker": {
          "color": "#EF553B",
          "size": [
           3
          ],
          "sizemode": "area",
          "sizeref": 0.0325,
          "symbol": "circle"
         },
         "mode": "markers",
         "name": "BroncosBroncos",
         "orientation": "v",
         "showlegend": true,
         "type": "scatter",
         "x": [
          743
         ],
         "xaxis": "x",
         "y": [
          353
         ],
         "yaxis": "y"
        }
       ],
       "layout": {
        "legend": {
         "itemsizing": "constant",
         "title": {
          "text": "Team"
         },
         "tracegroupgap": 0
        },
        "template": {
         "data": {
          "bar": [
           {
            "error_x": {
             "color": "#2a3f5f"
            },
            "error_y": {
             "color": "#2a3f5f"
            },
            "marker": {
             "line": {
              "color": "#E5ECF6",
              "width": 0.5
             },
             "pattern": {
              "fillmode": "overlay",
              "size": 10,
              "solidity": 0.2
             }
            },
            "type": "bar"
           }
          ],
          "barpolar": [
           {
            "marker": {
             "line": {
              "color": "#E5ECF6",
              "width": 0.5
             },
             "pattern": {
              "fillmode": "overlay",
              "size": 10,
              "solidity": 0.2
             }
            },
            "type": "barpolar"
           }
          ],
          "carpet": [
           {
            "aaxis": {
             "endlinecolor": "#2a3f5f",
             "gridcolor": "white",
             "linecolor": "white",
             "minorgridcolor": "white",
             "startlinecolor": "#2a3f5f"
            },
            "baxis": {
             "endlinecolor": "#2a3f5f",
             "gridcolor": "white",
             "linecolor": "white",
             "minorgridcolor": "white",
             "startlinecolor": "#2a3f5f"
            },
            "type": "carpet"
           }
          ],
          "choropleth": [
           {
            "colorbar": {
             "outlinewidth": 0,
             "ticks": ""
            },
            "type": "choropleth"
           }
          ],
          "contour": [
           {
            "colorbar": {
             "outlinewidth": 0,
             "ticks": ""
            },
            "colorscale": [
             [
              0,
              "#0d0887"
             ],
             [
              0.1111111111111111,
              "#46039f"
             ],
             [
              0.2222222222222222,
              "#7201a8"
             ],
             [
              0.3333333333333333,
              "#9c179e"
             ],
             [
              0.4444444444444444,
              "#bd3786"
             ],
             [
              0.5555555555555556,
              "#d8576b"
             ],
             [
              0.6666666666666666,
              "#ed7953"
             ],
             [
              0.7777777777777778,
              "#fb9f3a"
             ],
             [
              0.8888888888888888,
              "#fdca26"
             ],
             [
              1,
              "#f0f921"
             ]
            ],
            "type": "contour"
           }
          ],
          "contourcarpet": [
           {
            "colorbar": {
             "outlinewidth": 0,
             "ticks": ""
            },
            "type": "contourcarpet"
           }
          ],
          "heatmap": [
           {
            "colorbar": {
             "outlinewidth": 0,
             "ticks": ""
            },
            "colorscale": [
             [
              0,
              "#0d0887"
             ],
             [
              0.1111111111111111,
              "#46039f"
             ],
             [
              0.2222222222222222,
              "#7201a8"
             ],
             [
              0.3333333333333333,
              "#9c179e"
             ],
             [
              0.4444444444444444,
              "#bd3786"
             ],
             [
              0.5555555555555556,
              "#d8576b"
             ],
             [
              0.6666666666666666,
              "#ed7953"
             ],
             [
              0.7777777777777778,
              "#fb9f3a"
             ],
             [
              0.8888888888888888,
              "#fdca26"
             ],
             [
              1,
              "#f0f921"
             ]
            ],
            "type": "heatmap"
           }
          ],
          "heatmapgl": [
           {
            "colorbar": {
             "outlinewidth": 0,
             "ticks": ""
            },
            "colorscale": [
             [
              0,
              "#0d0887"
             ],
             [
              0.1111111111111111,
              "#46039f"
             ],
             [
              0.2222222222222222,
              "#7201a8"
             ],
             [
              0.3333333333333333,
              "#9c179e"
             ],
             [
              0.4444444444444444,
              "#bd3786"
             ],
             [
              0.5555555555555556,
              "#d8576b"
             ],
             [
              0.6666666666666666,
              "#ed7953"
             ],
             [
              0.7777777777777778,
              "#fb9f3a"
             ],
             [
              0.8888888888888888,
              "#fdca26"
             ],
             [
              1,
              "#f0f921"
             ]
            ],
            "type": "heatmapgl"
           }
          ],
          "histogram": [
           {
            "marker": {
             "pattern": {
              "fillmode": "overlay",
              "size": 10,
              "solidity": 0.2
             }
            },
            "type": "histogram"
           }
          ],
          "histogram2d": [
           {
            "colorbar": {
             "outlinewidth": 0,
             "ticks": ""
            },
            "colorscale": [
             [
              0,
              "#0d0887"
             ],
             [
              0.1111111111111111,
              "#46039f"
             ],
             [
              0.2222222222222222,
              "#7201a8"
             ],
             [
              0.3333333333333333,
              "#9c179e"
             ],
             [
              0.4444444444444444,
              "#bd3786"
             ],
             [
              0.5555555555555556,
              "#d8576b"
             ],
             [
              0.6666666666666666,
              "#ed7953"
             ],
             [
              0.7777777777777778,
              "#fb9f3a"
             ],
             [
              0.8888888888888888,
              "#fdca26"
             ],
             [
              1,
              "#f0f921"
             ]
            ],
            "type": "histogram2d"
           }
          ],
          "histogram2dcontour": [
           {
            "colorbar": {
             "outlinewidth": 0,
             "ticks": ""
            },
            "colorscale": [
             [
              0,
              "#0d0887"
             ],
             [
              0.1111111111111111,
              "#46039f"
             ],
             [
              0.2222222222222222,
              "#7201a8"
             ],
             [
              0.3333333333333333,
              "#9c179e"
             ],
             [
              0.4444444444444444,
              "#bd3786"
             ],
             [
              0.5555555555555556,
              "#d8576b"
             ],
             [
              0.6666666666666666,
              "#ed7953"
             ],
             [
              0.7777777777777778,
              "#fb9f3a"
             ],
             [
              0.8888888888888888,
              "#fdca26"
             ],
             [
              1,
              "#f0f921"
             ]
            ],
            "type": "histogram2dcontour"
           }
          ],
          "mesh3d": [
           {
            "colorbar": {
             "outlinewidth": 0,
             "ticks": ""
            },
            "type": "mesh3d"
           }
          ],
          "parcoords": [
           {
            "line": {
             "colorbar": {
              "outlinewidth": 0,
              "ticks": ""
             }
            },
            "type": "parcoords"
           }
          ],
          "pie": [
           {
            "automargin": true,
            "type": "pie"
           }
          ],
          "scatter": [
           {
            "fillpattern": {
             "fillmode": "overlay",
             "size": 10,
             "solidity": 0.2
            },
            "type": "scatter"
           }
          ],
          "scatter3d": [
           {
            "line": {
             "colorbar": {
              "outlinewidth": 0,
              "ticks": ""
             }
            },
            "marker": {
             "colorbar": {
              "outlinewidth": 0,
              "ticks": ""
             }
            },
            "type": "scatter3d"
           }
          ],
          "scattercarpet": [
           {
            "marker": {
             "colorbar": {
              "outlinewidth": 0,
              "ticks": ""
             }
            },
            "type": "scattercarpet"
           }
          ],
          "scattergeo": [
           {
            "marker": {
             "colorbar": {
              "outlinewidth": 0,
              "ticks": ""
             }
            },
            "type": "scattergeo"
           }
          ],
          "scattergl": [
           {
            "marker": {
             "colorbar": {
              "outlinewidth": 0,
              "ticks": ""
             }
            },
            "type": "scattergl"
           }
          ],
          "scattermapbox": [
           {
            "marker": {
             "colorbar": {
              "outlinewidth": 0,
              "ticks": ""
             }
            },
            "type": "scattermapbox"
           }
          ],
          "scatterpolar": [
           {
            "marker": {
             "colorbar": {
              "outlinewidth": 0,
              "ticks": ""
             }
            },
            "type": "scatterpolar"
           }
          ],
          "scatterpolargl": [
           {
            "marker": {
             "colorbar": {
              "outlinewidth": 0,
              "ticks": ""
             }
            },
            "type": "scatterpolargl"
           }
          ],
          "scatterternary": [
           {
            "marker": {
             "colorbar": {
              "outlinewidth": 0,
              "ticks": ""
             }
            },
            "type": "scatterternary"
           }
          ],
          "surface": [
           {
            "colorbar": {
             "outlinewidth": 0,
             "ticks": ""
            },
            "colorscale": [
             [
              0,
              "#0d0887"
             ],
             [
              0.1111111111111111,
              "#46039f"
             ],
             [
              0.2222222222222222,
              "#7201a8"
             ],
             [
              0.3333333333333333,
              "#9c179e"
             ],
             [
              0.4444444444444444,
              "#bd3786"
             ],
             [
              0.5555555555555556,
              "#d8576b"
             ],
             [
              0.6666666666666666,
              "#ed7953"
             ],
             [
              0.7777777777777778,
              "#fb9f3a"
             ],
             [
              0.8888888888888888,
              "#fdca26"
             ],
             [
              1,
              "#f0f921"
             ]
            ],
            "type": "surface"
           }
          ],
          "table": [
           {
            "cells": {
             "fill": {
              "color": "#EBF0F8"
             },
             "line": {
              "color": "white"
             }
            },
            "header": {
             "fill": {
              "color": "#C8D4E3"
             },
             "line": {
              "color": "white"
             }
            },
            "type": "table"
           }
          ]
         },
         "layout": {
          "annotationdefaults": {
           "arrowcolor": "#2a3f5f",
           "arrowhead": 0,
           "arrowwidth": 1
          },
          "autotypenumbers": "strict",
          "coloraxis": {
           "colorbar": {
            "outlinewidth": 0,
            "ticks": ""
           }
          },
          "colorscale": {
           "diverging": [
            [
             0,
             "#8e0152"
            ],
            [
             0.1,
             "#c51b7d"
            ],
            [
             0.2,
             "#de77ae"
            ],
            [
             0.3,
             "#f1b6da"
            ],
            [
             0.4,
             "#fde0ef"
            ],
            [
             0.5,
             "#f7f7f7"
            ],
            [
             0.6,
             "#e6f5d0"
            ],
            [
             0.7,
             "#b8e186"
            ],
            [
             0.8,
             "#7fbc41"
            ],
            [
             0.9,
             "#4d9221"
            ],
            [
             1,
             "#276419"
            ]
           ],
           "sequential": [
            [
             0,
             "#0d0887"
            ],
            [
             0.1111111111111111,
             "#46039f"
            ],
            [
             0.2222222222222222,
             "#7201a8"
            ],
            [
             0.3333333333333333,
             "#9c179e"
            ],
            [
             0.4444444444444444,
             "#bd3786"
            ],
            [
             0.5555555555555556,
             "#d8576b"
            ],
            [
             0.6666666666666666,
             "#ed7953"
            ],
            [
             0.7777777777777778,
             "#fb9f3a"
            ],
            [
             0.8888888888888888,
             "#fdca26"
            ],
            [
             1,
             "#f0f921"
            ]
           ],
           "sequentialminus": [
            [
             0,
             "#0d0887"
            ],
            [
             0.1111111111111111,
             "#46039f"
            ],
            [
             0.2222222222222222,
             "#7201a8"
            ],
            [
             0.3333333333333333,
             "#9c179e"
            ],
            [
             0.4444444444444444,
             "#bd3786"
            ],
            [
             0.5555555555555556,
             "#d8576b"
            ],
            [
             0.6666666666666666,
             "#ed7953"
            ],
            [
             0.7777777777777778,
             "#fb9f3a"
            ],
            [
             0.8888888888888888,
             "#fdca26"
            ],
            [
             1,
             "#f0f921"
            ]
           ]
          },
          "colorway": [
           "#636efa",
           "#EF553B",
           "#00cc96",
           "#ab63fa",
           "#FFA15A",
           "#19d3f3",
           "#FF6692",
           "#B6E880",
           "#FF97FF",
           "#FECB52"
          ],
          "font": {
           "color": "#2a3f5f"
          },
          "geo": {
           "bgcolor": "white",
           "lakecolor": "white",
           "landcolor": "#E5ECF6",
           "showlakes": true,
           "showland": true,
           "subunitcolor": "white"
          },
          "hoverlabel": {
           "align": "left"
          },
          "hovermode": "closest",
          "mapbox": {
           "style": "light"
          },
          "paper_bgcolor": "white",
          "plot_bgcolor": "#E5ECF6",
          "polar": {
           "angularaxis": {
            "gridcolor": "white",
            "linecolor": "white",
            "ticks": ""
           },
           "bgcolor": "#E5ECF6",
           "radialaxis": {
            "gridcolor": "white",
            "linecolor": "white",
            "ticks": ""
           }
          },
          "scene": {
           "xaxis": {
            "backgroundcolor": "#E5ECF6",
            "gridcolor": "white",
            "gridwidth": 2,
            "linecolor": "white",
            "showbackground": true,
            "ticks": "",
            "zerolinecolor": "white"
           },
           "yaxis": {
            "backgroundcolor": "#E5ECF6",
            "gridcolor": "white",
            "gridwidth": 2,
            "linecolor": "white",
            "showbackground": true,
            "ticks": "",
            "zerolinecolor": "white"
           },
           "zaxis": {
            "backgroundcolor": "#E5ECF6",
            "gridcolor": "white",
            "gridwidth": 2,
            "linecolor": "white",
            "showbackground": true,
            "ticks": "",
            "zerolinecolor": "white"
           }
          },
          "shapedefaults": {
           "line": {
            "color": "#2a3f5f"
           }
          },
          "ternary": {
           "aaxis": {
            "gridcolor": "white",
            "linecolor": "white",
            "ticks": ""
           },
           "baxis": {
            "gridcolor": "white",
            "linecolor": "white",
            "ticks": ""
           },
           "bgcolor": "#E5ECF6",
           "caxis": {
            "gridcolor": "white",
            "linecolor": "white",
            "ticks": ""
           }
          },
          "title": {
           "x": 0.05
          },
          "xaxis": {
           "automargin": true,
           "gridcolor": "white",
           "linecolor": "white",
           "ticks": "",
           "title": {
            "standoff": 15
           },
           "zerolinecolor": "white",
           "zerolinewidth": 2
          },
          "yaxis": {
           "automargin": true,
           "gridcolor": "white",
           "linecolor": "white",
           "ticks": "",
           "title": {
            "standoff": 15
           },
           "zerolinecolor": "white",
           "zerolinewidth": 2
          }
         }
        },
        "title": {
         "text": "Passing Yards vs Rushing Yards"
        },
        "xaxis": {
         "anchor": "y",
         "domain": [
          0,
          1
         ],
         "title": {
          "text": "Pass Yds"
         }
        },
        "yaxis": {
         "anchor": "x",
         "domain": [
          0,
          1
         ],
         "title": {
          "text": "Rush Yds"
         }
        }
       }
      }
     },
     "metadata": {},
     "output_type": "display_data"
    }
   ],
   "source": [
    "px.scatter(passing_rushing_df, x='Pass Yds', y='Rush Yds', color='Team', size='Tot TD', title='Passing Yards vs Rushing Yards')"
   ]
  },
  {
   "cell_type": "code",
   "execution_count": 29,
   "metadata": {},
   "outputs": [
    {
     "data": {
      "application/vnd.plotly.v1+json": {
       "config": {
        "plotlyServerURL": "https://plot.ly"
       },
       "data": [
        {
         "hovertemplate": "<b>%{hovertext}</b><br><br>Team=JetsJets<br>Pass Yds=%{x}<br>TD=%{y}<br>Att=%{marker.size}<extra></extra>",
         "hovertext": [
          "JetsJets"
         ],
         "legendgroup": "JetsJets",
         "marker": {
          "color": "#636efa",
          "size": [
           156
          ],
          "sizemode": "area",
          "sizeref": 0.043333333333333335,
          "symbol": "circle"
         },
         "mode": "markers",
         "name": "JetsJets",
         "orientation": "v",
         "showlegend": true,
         "type": "scatter",
         "x": [
          918
         ],
         "xaxis": "x",
         "y": [
          5
         ],
         "yaxis": "y"
        },
        {
         "hovertemplate": "<b>%{hovertext}</b><br><br>Team=CardinalsCardinals<br>Pass Yds=%{x}<br>TD=%{y}<br>Att=%{marker.size}<extra></extra>",
         "hovertext": [
          "CardinalsCardinals"
         ],
         "legendgroup": "CardinalsCardinals",
         "marker": {
          "color": "#EF553B",
          "size": [
           145
          ],
          "sizemode": "area",
          "sizeref": 0.043333333333333335,
          "symbol": "circle"
         },
         "mode": "markers",
         "name": "CardinalsCardinals",
         "orientation": "v",
         "showlegend": true,
         "type": "scatter",
         "x": [
          796
         ],
         "xaxis": "x",
         "y": [
          3
         ],
         "yaxis": "y"
        },
        {
         "hovertemplate": "<b>%{hovertext}</b><br><br>Team=BillsBills<br>Pass Yds=%{x}<br>TD=%{y}<br>Att=%{marker.size}<extra></extra>",
         "hovertext": [
          "BillsBills"
         ],
         "legendgroup": "BillsBills",
         "marker": {
          "color": "#00cc96",
          "size": [
           134
          ],
          "sizemode": "area",
          "sizeref": 0.043333333333333335,
          "symbol": "circle"
         },
         "mode": "markers",
         "name": "BillsBills",
         "orientation": "v",
         "showlegend": true,
         "type": "scatter",
         "x": [
          1014
         ],
         "xaxis": "x",
         "y": [
          9
         ],
         "yaxis": "y"
        },
        {
         "hovertemplate": "<b>%{hovertext}</b><br><br>Team=CommandersCommanders<br>Pass Yds=%{x}<br>TD=%{y}<br>Att=%{marker.size}<extra></extra>",
         "hovertext": [
          "CommandersCommanders"
         ],
         "legendgroup": "CommandersCommanders",
         "marker": {
          "color": "#ab63fa",
          "size": [
           130
          ],
          "sizemode": "area",
          "sizeref": 0.043333333333333335,
          "symbol": "circle"
         },
         "mode": "markers",
         "name": "CommandersCommanders",
         "orientation": "v",
         "showlegend": true,
         "type": "scatter",
         "x": [
          861
         ],
         "xaxis": "x",
         "y": [
          7
         ],
         "yaxis": "y"
        },
        {
         "hovertemplate": "<b>%{hovertext}</b><br><br>Team=ChargersChargers<br>Pass Yds=%{x}<br>TD=%{y}<br>Att=%{marker.size}<extra></extra>",
         "hovertext": [
          "ChargersChargers"
         ],
         "legendgroup": "ChargersChargers",
         "marker": {
          "color": "#FFA15A",
          "size": [
           127
          ],
          "sizemode": "area",
          "sizeref": 0.043333333333333335,
          "symbol": "circle"
         },
         "mode": "markers",
         "name": "ChargersChargers",
         "orientation": "v",
         "showlegend": true,
         "type": "scatter",
         "x": [
          910
         ],
         "xaxis": "x",
         "y": [
          7
         ],
         "yaxis": "y"
        },
        {
         "hovertemplate": "<b>%{hovertext}</b><br><br>Team=BengalsBengals<br>Pass Yds=%{x}<br>TD=%{y}<br>Att=%{marker.size}<extra></extra>",
         "hovertext": [
          "BengalsBengals"
         ],
         "legendgroup": "BengalsBengals",
         "marker": {
          "color": "#19d3f3",
          "size": [
           125
          ],
          "sizemode": "area",
          "sizeref": 0.043333333333333335,
          "symbol": "circle"
         },
         "mode": "markers",
         "name": "BengalsBengals",
         "orientation": "v",
         "showlegend": true,
         "type": "scatter",
         "x": [
          812
         ],
         "xaxis": "x",
         "y": [
          6
         ],
         "yaxis": "y"
        },
        {
         "hovertemplate": "<b>%{hovertext}</b><br><br>Team=RaidersRaiders<br>Pass Yds=%{x}<br>TD=%{y}<br>Att=%{marker.size}<extra></extra>",
         "hovertext": [
          "RaidersRaiders"
         ],
         "legendgroup": "RaidersRaiders",
         "marker": {
          "color": "#FF6692",
          "size": [
           121
          ],
          "sizemode": "area",
          "sizeref": 0.043333333333333335,
          "symbol": "circle"
         },
         "mode": "markers",
         "name": "RaidersRaiders",
         "orientation": "v",
         "showlegend": true,
         "type": "scatter",
         "x": [
          854
         ],
         "xaxis": "x",
         "y": [
          6
         ],
         "yaxis": "y"
        },
        {
         "hovertemplate": "<b>%{hovertext}</b><br><br>Team=VikingsVikings<br>Pass Yds=%{x}<br>TD=%{y}<br>Att=%{marker.size}<extra></extra>",
         "hovertext": [
          "VikingsVikings"
         ],
         "legendgroup": "VikingsVikings",
         "marker": {
          "color": "#B6E880",
          "size": [
           119
          ],
          "sizemode": "area",
          "sizeref": 0.043333333333333335,
          "symbol": "circle"
         },
         "mode": "markers",
         "name": "VikingsVikings",
         "orientation": "v",
         "showlegend": true,
         "type": "scatter",
         "x": [
          758
         ],
         "xaxis": "x",
         "y": [
          5
         ],
         "yaxis": "y"
        },
        {
         "hovertemplate": "<b>%{hovertext}</b><br><br>Team=ColtsColts<br>Pass Yds=%{x}<br>TD=%{y}<br>Att=%{marker.size}<extra></extra>",
         "hovertext": [
          "ColtsColts"
         ],
         "legendgroup": "ColtsColts",
         "marker": {
          "color": "#FF97FF",
          "size": [
           117
          ],
          "sizemode": "area",
          "sizeref": 0.043333333333333335,
          "symbol": "circle"
         },
         "mode": "markers",
         "name": "ColtsColts",
         "orientation": "v",
         "showlegend": true,
         "type": "scatter",
         "x": [
          769
         ],
         "xaxis": "x",
         "y": [
          3
         ],
         "yaxis": "y"
        },
        {
         "hovertemplate": "<b>%{hovertext}</b><br><br>Team=SaintsSaints<br>Pass Yds=%{x}<br>TD=%{y}<br>Att=%{marker.size}<extra></extra>",
         "hovertext": [
          "SaintsSaints"
         ],
         "legendgroup": "SaintsSaints",
         "marker": {
          "color": "#FECB52",
          "size": [
           115
          ],
          "sizemode": "area",
          "sizeref": 0.043333333333333335,
          "symbol": "circle"
         },
         "mode": "markers",
         "name": "SaintsSaints",
         "orientation": "v",
         "showlegend": true,
         "type": "scatter",
         "x": [
          858
         ],
         "xaxis": "x",
         "y": [
          4
         ],
         "yaxis": "y"
        },
        {
         "hovertemplate": "<b>%{hovertext}</b><br><br>Team=LionsLions<br>Pass Yds=%{x}<br>TD=%{y}<br>Att=%{marker.size}<extra></extra>",
         "hovertext": [
          "LionsLions"
         ],
         "legendgroup": "LionsLions",
         "marker": {
          "color": "#636efa",
          "size": [
           112
          ],
          "sizemode": "area",
          "sizeref": 0.043333333333333335,
          "symbol": "circle"
         },
         "mode": "markers",
         "name": "LionsLions",
         "orientation": "v",
         "showlegend": true,
         "type": "scatter",
         "x": [
          748
         ],
         "xaxis": "x",
         "y": [
          7
         ],
         "yaxis": "y"
        },
        {
         "hovertemplate": "<b>%{hovertext}</b><br><br>Team=JaguarsJaguars<br>Pass Yds=%{x}<br>TD=%{y}<br>Att=%{marker.size}<extra></extra>",
         "hovertext": [
          "JaguarsJaguars"
         ],
         "legendgroup": "JaguarsJaguars",
         "marker": {
          "color": "#EF553B",
          "size": [
           111
          ],
          "sizemode": "area",
          "sizeref": 0.043333333333333335,
          "symbol": "circle"
         },
         "mode": "markers",
         "name": "JaguarsJaguars",
         "orientation": "v",
         "showlegend": true,
         "type": "scatter",
         "x": [
          772
         ],
         "xaxis": "x",
         "y": [
          6
         ],
         "yaxis": "y"
        },
        {
         "hovertemplate": "<b>%{hovertext}</b><br><br>Team=ChiefsChiefs<br>Pass Yds=%{x}<br>TD=%{y}<br>Att=%{marker.size}<extra></extra>",
         "hovertext": [
          "ChiefsChiefs"
         ],
         "legendgroup": "ChiefsChiefs",
         "marker": {
          "color": "#00cc96",
          "size": [
           110
          ],
          "sizemode": "area",
          "sizeref": 0.043333333333333335,
          "symbol": "circle"
         },
         "mode": "markers",
         "name": "ChiefsChiefs",
         "orientation": "v",
         "showlegend": true,
         "type": "scatter",
         "x": [
          857
         ],
         "xaxis": "x",
         "y": [
          8
         ],
         "yaxis": "y"
        },
        {
         "hovertemplate": "<b>%{hovertext}</b><br><br>Team=TexansTexans<br>Pass Yds=%{x}<br>TD=%{y}<br>Att=%{marker.size}<extra></extra>",
         "hovertext": [
          "TexansTexans"
         ],
         "legendgroup": "TexansTexans",
         "marker": {
          "color": "#ab63fa",
          "size": [
           107
          ],
          "sizemode": "area",
          "sizeref": 0.043333333333333335,
          "symbol": "circle"
         },
         "mode": "markers",
         "name": "TexansTexans",
         "orientation": "v",
         "showlegend": true,
         "type": "scatter",
         "x": [
          662
         ],
         "xaxis": "x",
         "y": [
          3
         ],
         "yaxis": "y"
        },
        {
         "hovertemplate": "<b>%{hovertext}</b><br><br>Team=BroncosBroncos<br>Pass Yds=%{x}<br>TD=%{y}<br>Att=%{marker.size}<extra></extra>",
         "hovertext": [
          "BroncosBroncos"
         ],
         "legendgroup": "BroncosBroncos",
         "marker": {
          "color": "#FFA15A",
          "size": [
           106
          ],
          "sizemode": "area",
          "sizeref": 0.043333333333333335,
          "symbol": "circle"
         },
         "mode": "markers",
         "name": "BroncosBroncos",
         "orientation": "v",
         "showlegend": true,
         "type": "scatter",
         "x": [
          743
         ],
         "xaxis": "x",
         "y": [
          2
         ],
         "yaxis": "y"
        },
        {
         "hovertemplate": "<b>%{hovertext}</b><br><br>Team=CowboysCowboys<br>Pass Yds=%{x}<br>TD=%{y}<br>Att=%{marker.size}<extra></extra>",
         "hovertext": [
          "CowboysCowboys"
         ],
         "legendgroup": "CowboysCowboys",
         "marker": {
          "color": "#19d3f3",
          "size": [
           104
          ],
          "sizemode": "area",
          "sizeref": 0.043333333333333335,
          "symbol": "circle"
         },
         "mode": "markers",
         "name": "CowboysCowboys",
         "orientation": "v",
         "showlegend": true,
         "type": "scatter",
         "x": [
          648
         ],
         "xaxis": "x",
         "y": [
          2
         ],
         "yaxis": "y"
        },
        {
         "hovertemplate": "<b>%{hovertext}</b><br><br>Team=DolphinsDolphins<br>Pass Yds=%{x}<br>TD=%{y}<br>Att=%{marker.size}<extra></extra>",
         "hovertext": [
          "DolphinsDolphins"
         ],
         "legendgroup": "DolphinsDolphins",
         "marker": {
          "color": "#FF6692",
          "size": [
           103
          ],
          "sizemode": "area",
          "sizeref": 0.043333333333333335,
          "symbol": "circle"
         },
         "mode": "markers",
         "name": "DolphinsDolphins",
         "orientation": "v",
         "showlegend": true,
         "type": "scatter",
         "x": [
          925
         ],
         "xaxis": "x",
         "y": [
          8
         ],
         "yaxis": "y"
        },
        {
         "hovertemplate": "<b>%{hovertext}</b><br><br>Team=SteelersSteelers<br>Pass Yds=%{x}<br>TD=%{y}<br>Att=%{marker.size}<extra></extra>",
         "hovertext": [
          "SteelersSteelers"
         ],
         "legendgroup": "SteelersSteelers",
         "marker": {
          "color": "#B6E880",
          "size": [
           103
          ],
          "sizemode": "area",
          "sizeref": 0.043333333333333335,
          "symbol": "circle"
         },
         "mode": "markers",
         "name": "SteelersSteelers",
         "orientation": "v",
         "showlegend": true,
         "type": "scatter",
         "x": [
          569
         ],
         "xaxis": "x",
         "y": [
          2
         ],
         "yaxis": "y"
        },
        {
         "hovertemplate": "<b>%{hovertext}</b><br><br>Team=SeahawksSeahawks<br>Pass Yds=%{x}<br>TD=%{y}<br>Att=%{marker.size}<extra></extra>",
         "hovertext": [
          "SeahawksSeahawks"
         ],
         "legendgroup": "SeahawksSeahawks",
         "marker": {
          "color": "#FF97FF",
          "size": [
           103
          ],
          "sizemode": "area",
          "sizeref": 0.043333333333333335,
          "symbol": "circle"
         },
         "mode": "markers",
         "name": "SeahawksSeahawks",
         "orientation": "v",
         "showlegend": true,
         "type": "scatter",
         "x": [
          717
         ],
         "xaxis": "x",
         "y": [
          4
         ],
         "yaxis": "y"
        },
        {
         "hovertemplate": "<b>%{hovertext}</b><br><br>Team=BuccaneersBuccaneers<br>Pass Yds=%{x}<br>TD=%{y}<br>Att=%{marker.size}<extra></extra>",
         "hovertext": [
          "BuccaneersBuccaneers"
         ],
         "legendgroup": "BuccaneersBuccaneers",
         "marker": {
          "color": "#FECB52",
          "size": [
           103
          ],
          "sizemode": "area",
          "sizeref": 0.043333333333333335,
          "symbol": "circle"
         },
         "mode": "markers",
         "name": "BuccaneersBuccaneers",
         "orientation": "v",
         "showlegend": true,
         "type": "scatter",
         "x": [
          673
         ],
         "xaxis": "x",
         "y": [
          3
         ],
         "yaxis": "y"
        },
        {
         "hovertemplate": "<b>%{hovertext}</b><br><br>Team=RamsRams<br>Pass Yds=%{x}<br>TD=%{y}<br>Att=%{marker.size}<extra></extra>",
         "hovertext": [
          "RamsRams"
         ],
         "legendgroup": "RamsRams",
         "marker": {
          "color": "#636efa",
          "size": [
           102
          ],
          "sizemode": "area",
          "sizeref": 0.043333333333333335,
          "symbol": "circle"
         },
         "mode": "markers",
         "name": "RamsRams",
         "orientation": "v",
         "showlegend": true,
         "type": "scatter",
         "x": [
          761
         ],
         "xaxis": "x",
         "y": [
          4
         ],
         "yaxis": "y"
        },
        {
         "hovertemplate": "<b>%{hovertext}</b><br><br>Team=PackersPackers<br>Pass Yds=%{x}<br>TD=%{y}<br>Att=%{marker.size}<extra></extra>",
         "hovertext": [
          "PackersPackers"
         ],
         "legendgroup": "PackersPackers",
         "marker": {
          "color": "#EF553B",
          "size": [
           99
          ],
          "sizemode": "area",
          "sizeref": 0.043333333333333335,
          "symbol": "circle"
         },
         "mode": "markers",
         "name": "PackersPackers",
         "orientation": "v",
         "showlegend": true,
         "type": "scatter",
         "x": [
          749
         ],
         "xaxis": "x",
         "y": [
          4
         ],
         "yaxis": "y"
        },
        {
         "hovertemplate": "<b>%{hovertext}</b><br><br>Team=EaglesEagles<br>Pass Yds=%{x}<br>TD=%{y}<br>Att=%{marker.size}<extra></extra>",
         "hovertext": [
          "EaglesEagles"
         ],
         "legendgroup": "EaglesEagles",
         "marker": {
          "color": "#00cc96",
          "size": [
           98
          ],
          "sizemode": "area",
          "sizeref": 0.043333333333333335,
          "symbol": "circle"
         },
         "mode": "markers",
         "name": "EaglesEagles",
         "orientation": "v",
         "showlegend": true,
         "type": "scatter",
         "x": [
          916
         ],
         "xaxis": "x",
         "y": [
          4
         ],
         "yaxis": "y"
        },
        {
         "hovertemplate": "<b>%{hovertext}</b><br><br>Team=PatriotsPatriots<br>Pass Yds=%{x}<br>TD=%{y}<br>Att=%{marker.size}<extra></extra>",
         "hovertext": [
          "PatriotsPatriots"
         ],
         "legendgroup": "PatriotsPatriots",
         "marker": {
          "color": "#ab63fa",
          "size": [
           97
          ],
          "sizemode": "area",
          "sizeref": 0.043333333333333335,
          "symbol": "circle"
         },
         "mode": "markers",
         "name": "PatriotsPatriots",
         "orientation": "v",
         "showlegend": true,
         "type": "scatter",
         "x": [
          786
         ],
         "xaxis": "x",
         "y": [
          2
         ],
         "yaxis": "y"
        },
        {
         "hovertemplate": "<b>%{hovertext}</b><br><br>Team=BrownsBrowns<br>Pass Yds=%{x}<br>TD=%{y}<br>Att=%{marker.size}<extra></extra>",
         "hovertext": [
          "BrownsBrowns"
         ],
         "legendgroup": "BrownsBrowns",
         "marker": {
          "color": "#FFA15A",
          "size": [
           92
          ],
          "sizemode": "area",
          "sizeref": 0.043333333333333335,
          "symbol": "circle"
         },
         "mode": "markers",
         "name": "BrownsBrowns",
         "orientation": "v",
         "showlegend": true,
         "type": "scatter",
         "x": [
          596
         ],
         "xaxis": "x",
         "y": [
          4
         ],
         "yaxis": "y"
        },
        {
         "hovertemplate": "<b>%{hovertext}</b><br><br>Team=GiantsGiants<br>Pass Yds=%{x}<br>TD=%{y}<br>Att=%{marker.size}<extra></extra>",
         "hovertext": [
          "GiantsGiants"
         ],
         "legendgroup": "GiantsGiants",
         "marker": {
          "color": "#19d3f3",
          "size": [
           92
          ],
          "sizemode": "area",
          "sizeref": 0.043333333333333335,
          "symbol": "circle"
         },
         "mode": "markers",
         "name": "GiantsGiants",
         "orientation": "v",
         "showlegend": true,
         "type": "scatter",
         "x": [
          560
         ],
         "xaxis": "x",
         "y": [
          3
         ],
         "yaxis": "y"
        },
        {
         "hovertemplate": "<b>%{hovertext}</b><br><br>Team=RavensRavens<br>Pass Yds=%{x}<br>TD=%{y}<br>Att=%{marker.size}<extra></extra>",
         "hovertext": [
          "RavensRavens"
         ],
         "legendgroup": "RavensRavens",
         "marker": {
          "color": "#FF6692",
          "size": [
           88
          ],
          "sizemode": "area",
          "sizeref": 0.043333333333333335,
          "symbol": "circle"
         },
         "mode": "markers",
         "name": "RavensRavens",
         "orientation": "v",
         "showlegend": true,
         "type": "scatter",
         "x": [
          749
         ],
         "xaxis": "x",
         "y": [
          10
         ],
         "yaxis": "y"
        },
        {
         "hovertemplate": "<b>%{hovertext}</b><br><br>Team=TitansTitans<br>Pass Yds=%{x}<br>TD=%{y}<br>Att=%{marker.size}<extra></extra>",
         "hovertext": [
          "TitansTitans"
         ],
         "legendgroup": "TitansTitans",
         "marker": {
          "color": "#B6E880",
          "size": [
           84
          ],
          "sizemode": "area",
          "sizeref": 0.043333333333333335,
          "symbol": "circle"
         },
         "mode": "markers",
         "name": "TitansTitans",
         "orientation": "v",
         "showlegend": true,
         "type": "scatter",
         "x": [
          653
         ],
         "xaxis": "x",
         "y": [
          3
         ],
         "yaxis": "y"
        },
        {
         "hovertemplate": "<b>%{hovertext}</b><br><br>Team=PanthersPanthers<br>Pass Yds=%{x}<br>TD=%{y}<br>Att=%{marker.size}<extra></extra>",
         "hovertext": [
          "PanthersPanthers"
         ],
         "legendgroup": "PanthersPanthers",
         "marker": {
          "color": "#FF97FF",
          "size": [
           81
          ],
          "sizemode": "area",
          "sizeref": 0.043333333333333335,
          "symbol": "circle"
         },
         "mode": "markers",
         "name": "PanthersPanthers",
         "orientation": "v",
         "showlegend": true,
         "type": "scatter",
         "x": [
          550
         ],
         "xaxis": "x",
         "y": [
          3
         ],
         "yaxis": "y"
        },
        {
         "hovertemplate": "<b>%{hovertext}</b><br><br>Team=49ers49ers<br>Pass Yds=%{x}<br>TD=%{y}<br>Att=%{marker.size}<extra></extra>",
         "hovertext": [
          "49ers49ers"
         ],
         "legendgroup": "49ers49ers",
         "marker": {
          "color": "#FECB52",
          "size": [
           81
          ],
          "sizemode": "area",
          "sizeref": 0.043333333333333335,
          "symbol": "circle"
         },
         "mode": "markers",
         "name": "49ers49ers",
         "orientation": "v",
         "showlegend": true,
         "type": "scatter",
         "x": [
          559
         ],
         "xaxis": "x",
         "y": [
          2
         ],
         "yaxis": "y"
        },
        {
         "hovertemplate": "<b>%{hovertext}</b><br><br>Team=FalconsFalcons<br>Pass Yds=%{x}<br>TD=%{y}<br>Att=%{marker.size}<extra></extra>",
         "hovertext": [
          "FalconsFalcons"
         ],
         "legendgroup": "FalconsFalcons",
         "marker": {
          "color": "#636efa",
          "size": [
           79
          ],
          "sizemode": "area",
          "sizeref": 0.043333333333333335,
          "symbol": "circle"
         },
         "mode": "markers",
         "name": "FalconsFalcons",
         "orientation": "v",
         "showlegend": true,
         "type": "scatter",
         "x": [
          640
         ],
         "xaxis": "x",
         "y": [
          3
         ],
         "yaxis": "y"
        },
        {
         "hovertemplate": "<b>%{hovertext}</b><br><br>Team=BearsBears<br>Pass Yds=%{x}<br>TD=%{y}<br>Att=%{marker.size}<extra></extra>",
         "hovertext": [
          "BearsBears"
         ],
         "legendgroup": "BearsBears",
         "marker": {
          "color": "#EF553B",
          "size": [
           45
          ],
          "sizemode": "area",
          "sizeref": 0.043333333333333335,
          "symbol": "circle"
         },
         "mode": "markers",
         "name": "BearsBears",
         "orientation": "v",
         "showlegend": true,
         "type": "scatter",
         "x": [
          297
         ],
         "xaxis": "x",
         "y": [
          2
         ],
         "yaxis": "y"
        }
       ],
       "layout": {
        "legend": {
         "itemsizing": "constant",
         "title": {
          "text": "Team"
         },
         "tracegroupgap": 0
        },
        "margin": {
         "t": 60
        },
        "template": {
         "data": {
          "bar": [
           {
            "error_x": {
             "color": "#2a3f5f"
            },
            "error_y": {
             "color": "#2a3f5f"
            },
            "marker": {
             "line": {
              "color": "#E5ECF6",
              "width": 0.5
             },
             "pattern": {
              "fillmode": "overlay",
              "size": 10,
              "solidity": 0.2
             }
            },
            "type": "bar"
           }
          ],
          "barpolar": [
           {
            "marker": {
             "line": {
              "color": "#E5ECF6",
              "width": 0.5
             },
             "pattern": {
              "fillmode": "overlay",
              "size": 10,
              "solidity": 0.2
             }
            },
            "type": "barpolar"
           }
          ],
          "carpet": [
           {
            "aaxis": {
             "endlinecolor": "#2a3f5f",
             "gridcolor": "white",
             "linecolor": "white",
             "minorgridcolor": "white",
             "startlinecolor": "#2a3f5f"
            },
            "baxis": {
             "endlinecolor": "#2a3f5f",
             "gridcolor": "white",
             "linecolor": "white",
             "minorgridcolor": "white",
             "startlinecolor": "#2a3f5f"
            },
            "type": "carpet"
           }
          ],
          "choropleth": [
           {
            "colorbar": {
             "outlinewidth": 0,
             "ticks": ""
            },
            "type": "choropleth"
           }
          ],
          "contour": [
           {
            "colorbar": {
             "outlinewidth": 0,
             "ticks": ""
            },
            "colorscale": [
             [
              0,
              "#0d0887"
             ],
             [
              0.1111111111111111,
              "#46039f"
             ],
             [
              0.2222222222222222,
              "#7201a8"
             ],
             [
              0.3333333333333333,
              "#9c179e"
             ],
             [
              0.4444444444444444,
              "#bd3786"
             ],
             [
              0.5555555555555556,
              "#d8576b"
             ],
             [
              0.6666666666666666,
              "#ed7953"
             ],
             [
              0.7777777777777778,
              "#fb9f3a"
             ],
             [
              0.8888888888888888,
              "#fdca26"
             ],
             [
              1,
              "#f0f921"
             ]
            ],
            "type": "contour"
           }
          ],
          "contourcarpet": [
           {
            "colorbar": {
             "outlinewidth": 0,
             "ticks": ""
            },
            "type": "contourcarpet"
           }
          ],
          "heatmap": [
           {
            "colorbar": {
             "outlinewidth": 0,
             "ticks": ""
            },
            "colorscale": [
             [
              0,
              "#0d0887"
             ],
             [
              0.1111111111111111,
              "#46039f"
             ],
             [
              0.2222222222222222,
              "#7201a8"
             ],
             [
              0.3333333333333333,
              "#9c179e"
             ],
             [
              0.4444444444444444,
              "#bd3786"
             ],
             [
              0.5555555555555556,
              "#d8576b"
             ],
             [
              0.6666666666666666,
              "#ed7953"
             ],
             [
              0.7777777777777778,
              "#fb9f3a"
             ],
             [
              0.8888888888888888,
              "#fdca26"
             ],
             [
              1,
              "#f0f921"
             ]
            ],
            "type": "heatmap"
           }
          ],
          "heatmapgl": [
           {
            "colorbar": {
             "outlinewidth": 0,
             "ticks": ""
            },
            "colorscale": [
             [
              0,
              "#0d0887"
             ],
             [
              0.1111111111111111,
              "#46039f"
             ],
             [
              0.2222222222222222,
              "#7201a8"
             ],
             [
              0.3333333333333333,
              "#9c179e"
             ],
             [
              0.4444444444444444,
              "#bd3786"
             ],
             [
              0.5555555555555556,
              "#d8576b"
             ],
             [
              0.6666666666666666,
              "#ed7953"
             ],
             [
              0.7777777777777778,
              "#fb9f3a"
             ],
             [
              0.8888888888888888,
              "#fdca26"
             ],
             [
              1,
              "#f0f921"
             ]
            ],
            "type": "heatmapgl"
           }
          ],
          "histogram": [
           {
            "marker": {
             "pattern": {
              "fillmode": "overlay",
              "size": 10,
              "solidity": 0.2
             }
            },
            "type": "histogram"
           }
          ],
          "histogram2d": [
           {
            "colorbar": {
             "outlinewidth": 0,
             "ticks": ""
            },
            "colorscale": [
             [
              0,
              "#0d0887"
             ],
             [
              0.1111111111111111,
              "#46039f"
             ],
             [
              0.2222222222222222,
              "#7201a8"
             ],
             [
              0.3333333333333333,
              "#9c179e"
             ],
             [
              0.4444444444444444,
              "#bd3786"
             ],
             [
              0.5555555555555556,
              "#d8576b"
             ],
             [
              0.6666666666666666,
              "#ed7953"
             ],
             [
              0.7777777777777778,
              "#fb9f3a"
             ],
             [
              0.8888888888888888,
              "#fdca26"
             ],
             [
              1,
              "#f0f921"
             ]
            ],
            "type": "histogram2d"
           }
          ],
          "histogram2dcontour": [
           {
            "colorbar": {
             "outlinewidth": 0,
             "ticks": ""
            },
            "colorscale": [
             [
              0,
              "#0d0887"
             ],
             [
              0.1111111111111111,
              "#46039f"
             ],
             [
              0.2222222222222222,
              "#7201a8"
             ],
             [
              0.3333333333333333,
              "#9c179e"
             ],
             [
              0.4444444444444444,
              "#bd3786"
             ],
             [
              0.5555555555555556,
              "#d8576b"
             ],
             [
              0.6666666666666666,
              "#ed7953"
             ],
             [
              0.7777777777777778,
              "#fb9f3a"
             ],
             [
              0.8888888888888888,
              "#fdca26"
             ],
             [
              1,
              "#f0f921"
             ]
            ],
            "type": "histogram2dcontour"
           }
          ],
          "mesh3d": [
           {
            "colorbar": {
             "outlinewidth": 0,
             "ticks": ""
            },
            "type": "mesh3d"
           }
          ],
          "parcoords": [
           {
            "line": {
             "colorbar": {
              "outlinewidth": 0,
              "ticks": ""
             }
            },
            "type": "parcoords"
           }
          ],
          "pie": [
           {
            "automargin": true,
            "type": "pie"
           }
          ],
          "scatter": [
           {
            "fillpattern": {
             "fillmode": "overlay",
             "size": 10,
             "solidity": 0.2
            },
            "type": "scatter"
           }
          ],
          "scatter3d": [
           {
            "line": {
             "colorbar": {
              "outlinewidth": 0,
              "ticks": ""
             }
            },
            "marker": {
             "colorbar": {
              "outlinewidth": 0,
              "ticks": ""
             }
            },
            "type": "scatter3d"
           }
          ],
          "scattercarpet": [
           {
            "marker": {
             "colorbar": {
              "outlinewidth": 0,
              "ticks": ""
             }
            },
            "type": "scattercarpet"
           }
          ],
          "scattergeo": [
           {
            "marker": {
             "colorbar": {
              "outlinewidth": 0,
              "ticks": ""
             }
            },
            "type": "scattergeo"
           }
          ],
          "scattergl": [
           {
            "marker": {
             "colorbar": {
              "outlinewidth": 0,
              "ticks": ""
             }
            },
            "type": "scattergl"
           }
          ],
          "scattermapbox": [
           {
            "marker": {
             "colorbar": {
              "outlinewidth": 0,
              "ticks": ""
             }
            },
            "type": "scattermapbox"
           }
          ],
          "scatterpolar": [
           {
            "marker": {
             "colorbar": {
              "outlinewidth": 0,
              "ticks": ""
             }
            },
            "type": "scatterpolar"
           }
          ],
          "scatterpolargl": [
           {
            "marker": {
             "colorbar": {
              "outlinewidth": 0,
              "ticks": ""
             }
            },
            "type": "scatterpolargl"
           }
          ],
          "scatterternary": [
           {
            "marker": {
             "colorbar": {
              "outlinewidth": 0,
              "ticks": ""
             }
            },
            "type": "scatterternary"
           }
          ],
          "surface": [
           {
            "colorbar": {
             "outlinewidth": 0,
             "ticks": ""
            },
            "colorscale": [
             [
              0,
              "#0d0887"
             ],
             [
              0.1111111111111111,
              "#46039f"
             ],
             [
              0.2222222222222222,
              "#7201a8"
             ],
             [
              0.3333333333333333,
              "#9c179e"
             ],
             [
              0.4444444444444444,
              "#bd3786"
             ],
             [
              0.5555555555555556,
              "#d8576b"
             ],
             [
              0.6666666666666666,
              "#ed7953"
             ],
             [
              0.7777777777777778,
              "#fb9f3a"
             ],
             [
              0.8888888888888888,
              "#fdca26"
             ],
             [
              1,
              "#f0f921"
             ]
            ],
            "type": "surface"
           }
          ],
          "table": [
           {
            "cells": {
             "fill": {
              "color": "#EBF0F8"
             },
             "line": {
              "color": "white"
             }
            },
            "header": {
             "fill": {
              "color": "#C8D4E3"
             },
             "line": {
              "color": "white"
             }
            },
            "type": "table"
           }
          ]
         },
         "layout": {
          "annotationdefaults": {
           "arrowcolor": "#2a3f5f",
           "arrowhead": 0,
           "arrowwidth": 1
          },
          "autotypenumbers": "strict",
          "coloraxis": {
           "colorbar": {
            "outlinewidth": 0,
            "ticks": ""
           }
          },
          "colorscale": {
           "diverging": [
            [
             0,
             "#8e0152"
            ],
            [
             0.1,
             "#c51b7d"
            ],
            [
             0.2,
             "#de77ae"
            ],
            [
             0.3,
             "#f1b6da"
            ],
            [
             0.4,
             "#fde0ef"
            ],
            [
             0.5,
             "#f7f7f7"
            ],
            [
             0.6,
             "#e6f5d0"
            ],
            [
             0.7,
             "#b8e186"
            ],
            [
             0.8,
             "#7fbc41"
            ],
            [
             0.9,
             "#4d9221"
            ],
            [
             1,
             "#276419"
            ]
           ],
           "sequential": [
            [
             0,
             "#0d0887"
            ],
            [
             0.1111111111111111,
             "#46039f"
            ],
            [
             0.2222222222222222,
             "#7201a8"
            ],
            [
             0.3333333333333333,
             "#9c179e"
            ],
            [
             0.4444444444444444,
             "#bd3786"
            ],
            [
             0.5555555555555556,
             "#d8576b"
            ],
            [
             0.6666666666666666,
             "#ed7953"
            ],
            [
             0.7777777777777778,
             "#fb9f3a"
            ],
            [
             0.8888888888888888,
             "#fdca26"
            ],
            [
             1,
             "#f0f921"
            ]
           ],
           "sequentialminus": [
            [
             0,
             "#0d0887"
            ],
            [
             0.1111111111111111,
             "#46039f"
            ],
            [
             0.2222222222222222,
             "#7201a8"
            ],
            [
             0.3333333333333333,
             "#9c179e"
            ],
            [
             0.4444444444444444,
             "#bd3786"
            ],
            [
             0.5555555555555556,
             "#d8576b"
            ],
            [
             0.6666666666666666,
             "#ed7953"
            ],
            [
             0.7777777777777778,
             "#fb9f3a"
            ],
            [
             0.8888888888888888,
             "#fdca26"
            ],
            [
             1,
             "#f0f921"
            ]
           ]
          },
          "colorway": [
           "#636efa",
           "#EF553B",
           "#00cc96",
           "#ab63fa",
           "#FFA15A",
           "#19d3f3",
           "#FF6692",
           "#B6E880",
           "#FF97FF",
           "#FECB52"
          ],
          "font": {
           "color": "#2a3f5f"
          },
          "geo": {
           "bgcolor": "white",
           "lakecolor": "white",
           "landcolor": "#E5ECF6",
           "showlakes": true,
           "showland": true,
           "subunitcolor": "white"
          },
          "hoverlabel": {
           "align": "left"
          },
          "hovermode": "closest",
          "mapbox": {
           "style": "light"
          },
          "paper_bgcolor": "white",
          "plot_bgcolor": "#E5ECF6",
          "polar": {
           "angularaxis": {
            "gridcolor": "white",
            "linecolor": "white",
            "ticks": ""
           },
           "bgcolor": "#E5ECF6",
           "radialaxis": {
            "gridcolor": "white",
            "linecolor": "white",
            "ticks": ""
           }
          },
          "scene": {
           "xaxis": {
            "backgroundcolor": "#E5ECF6",
            "gridcolor": "white",
            "gridwidth": 2,
            "linecolor": "white",
            "showbackground": true,
            "ticks": "",
            "zerolinecolor": "white"
           },
           "yaxis": {
            "backgroundcolor": "#E5ECF6",
            "gridcolor": "white",
            "gridwidth": 2,
            "linecolor": "white",
            "showbackground": true,
            "ticks": "",
            "zerolinecolor": "white"
           },
           "zaxis": {
            "backgroundcolor": "#E5ECF6",
            "gridcolor": "white",
            "gridwidth": 2,
            "linecolor": "white",
            "showbackground": true,
            "ticks": "",
            "zerolinecolor": "white"
           }
          },
          "shapedefaults": {
           "line": {
            "color": "#2a3f5f"
           }
          },
          "ternary": {
           "aaxis": {
            "gridcolor": "white",
            "linecolor": "white",
            "ticks": ""
           },
           "baxis": {
            "gridcolor": "white",
            "linecolor": "white",
            "ticks": ""
           },
           "bgcolor": "#E5ECF6",
           "caxis": {
            "gridcolor": "white",
            "linecolor": "white",
            "ticks": ""
           }
          },
          "title": {
           "x": 0.05
          },
          "xaxis": {
           "automargin": true,
           "gridcolor": "white",
           "linecolor": "white",
           "ticks": "",
           "title": {
            "standoff": 15
           },
           "zerolinecolor": "white",
           "zerolinewidth": 2
          },
          "yaxis": {
           "automargin": true,
           "gridcolor": "white",
           "linecolor": "white",
           "ticks": "",
           "title": {
            "standoff": 15
           },
           "zerolinecolor": "white",
           "zerolinewidth": 2
          }
         }
        },
        "xaxis": {
         "anchor": "y",
         "domain": [
          0,
          1
         ],
         "title": {
          "text": "Pass Yds"
         }
        },
        "yaxis": {
         "anchor": "x",
         "domain": [
          0,
          1
         ],
         "title": {
          "text": "TD"
         }
        }
       }
      }
     },
     "metadata": {},
     "output_type": "display_data"
    }
   ],
   "source": [
    "px.scatter(passing_df, x='Pass Yds', y='TD', color='Team', size='Att', hover_name='Team', size_max=60)"
   ]
  },
  {
   "cell_type": "code",
   "execution_count": 30,
   "metadata": {},
   "outputs": [
    {
     "data": {
      "application/vnd.plotly.v1+json": {
       "config": {
        "plotlyServerURL": "https://plot.ly"
       },
       "data": [
        {
         "hovertemplate": "<b>%{hovertext}</b><br><br>Team=BrownsBrowns<br>Rush Yds=%{x}<br>TD=%{y}<br>Att=%{marker.size}<extra></extra>",
         "hovertext": [
          "BrownsBrowns"
         ],
         "legendgroup": "BrownsBrowns",
         "marker": {
          "color": "#636efa",
          "size": [
           114
          ],
          "sizemode": "area",
          "sizeref": 0.03166666666666667,
          "symbol": "circle"
         },
         "mode": "markers",
         "name": "BrownsBrowns",
         "orientation": "v",
         "showlegend": true,
         "type": "scatter",
         "x": [
          572
         ],
         "xaxis": "x",
         "y": [
          5
         ],
         "yaxis": "y"
        },
        {
         "hovertemplate": "<b>%{hovertext}</b><br><br>Team=BearsBears<br>Rush Yds=%{x}<br>TD=%{y}<br>Att=%{marker.size}<extra></extra>",
         "hovertext": [
          "BearsBears"
         ],
         "legendgroup": "BearsBears",
         "marker": {
          "color": "#EF553B",
          "size": [
           104
          ],
          "sizemode": "area",
          "sizeref": 0.03166666666666667,
          "symbol": "circle"
         },
         "mode": "markers",
         "name": "BearsBears",
         "orientation": "v",
         "showlegend": true,
         "type": "scatter",
         "x": [
          560
         ],
         "xaxis": "x",
         "y": [
          4
         ],
         "yaxis": "y"
        },
        {
         "hovertemplate": "<b>%{hovertext}</b><br><br>Team=EaglesEagles<br>Rush Yds=%{x}<br>TD=%{y}<br>Att=%{marker.size}<extra></extra>",
         "hovertext": [
          "EaglesEagles"
         ],
         "legendgroup": "EaglesEagles",
         "marker": {
          "color": "#00cc96",
          "size": [
           103
          ],
          "sizemode": "area",
          "sizeref": 0.03166666666666667,
          "symbol": "circle"
         },
         "mode": "markers",
         "name": "EaglesEagles",
         "orientation": "v",
         "showlegend": true,
         "type": "scatter",
         "x": [
          451
         ],
         "xaxis": "x",
         "y": [
          6
         ],
         "yaxis": "y"
        },
        {
         "hovertemplate": "<b>%{hovertext}</b><br><br>Team=49ers49ers<br>Rush Yds=%{x}<br>TD=%{y}<br>Att=%{marker.size}<extra></extra>",
         "hovertext": [
          "49ers49ers"
         ],
         "legendgroup": "49ers49ers",
         "marker": {
          "color": "#ab63fa",
          "size": [
           101
          ],
          "sizemode": "area",
          "sizeref": 0.03166666666666667,
          "symbol": "circle"
         },
         "mode": "markers",
         "name": "49ers49ers",
         "orientation": "v",
         "showlegend": true,
         "type": "scatter",
         "x": [
          453
         ],
         "xaxis": "x",
         "y": [
          3
         ],
         "yaxis": "y"
        },
        {
         "hovertemplate": "<b>%{hovertext}</b><br><br>Team=FalconsFalcons<br>Rush Yds=%{x}<br>TD=%{y}<br>Att=%{marker.size}<extra></extra>",
         "hovertext": [
          "FalconsFalcons"
         ],
         "legendgroup": "FalconsFalcons",
         "marker": {
          "color": "#FFA15A",
          "size": [
           96
          ],
          "sizemode": "area",
          "sizeref": 0.03166666666666667,
          "symbol": "circle"
         },
         "mode": "markers",
         "name": "FalconsFalcons",
         "orientation": "v",
         "showlegend": true,
         "type": "scatter",
         "x": [
          470
         ],
         "xaxis": "x",
         "y": [
          4
         ],
         "yaxis": "y"
        },
        {
         "hovertemplate": "<b>%{hovertext}</b><br><br>Team=JaguarsJaguars<br>Rush Yds=%{x}<br>TD=%{y}<br>Att=%{marker.size}<extra></extra>",
         "hovertext": [
          "JaguarsJaguars"
         ],
         "legendgroup": "JaguarsJaguars",
         "marker": {
          "color": "#19d3f3",
          "size": [
           91
          ],
          "sizemode": "area",
          "sizeref": 0.03166666666666667,
          "symbol": "circle"
         },
         "mode": "markers",
         "name": "JaguarsJaguars",
         "orientation": "v",
         "showlegend": true,
         "type": "scatter",
         "x": [
          370
         ],
         "xaxis": "x",
         "y": [
          3
         ],
         "yaxis": "y"
        },
        {
         "hovertemplate": "<b>%{hovertext}</b><br><br>Team=GiantsGiants<br>Rush Yds=%{x}<br>TD=%{y}<br>Att=%{marker.size}<extra></extra>",
         "hovertext": [
          "GiantsGiants"
         ],
         "legendgroup": "GiantsGiants",
         "marker": {
          "color": "#FF6692",
          "size": [
           90
          ],
          "sizemode": "area",
          "sizeref": 0.03166666666666667,
          "symbol": "circle"
         },
         "mode": "markers",
         "name": "GiantsGiants",
         "orientation": "v",
         "showlegend": true,
         "type": "scatter",
         "x": [
          508
         ],
         "xaxis": "x",
         "y": [
          2
         ],
         "yaxis": "y"
        },
        {
         "hovertemplate": "<b>%{hovertext}</b><br><br>Team=BengalsBengals<br>Rush Yds=%{x}<br>TD=%{y}<br>Att=%{marker.size}<extra></extra>",
         "hovertext": [
          "BengalsBengals"
         ],
         "legendgroup": "BengalsBengals",
         "marker": {
          "color": "#B6E880",
          "size": [
           87
          ],
          "sizemode": "area",
          "sizeref": 0.03166666666666667,
          "symbol": "circle"
         },
         "mode": "markers",
         "name": "BengalsBengals",
         "orientation": "v",
         "showlegend": true,
         "type": "scatter",
         "x": [
          291
         ],
         "xaxis": "x",
         "y": [
          0
         ],
         "yaxis": "y"
        },
        {
         "hovertemplate": "<b>%{hovertext}</b><br><br>Team=LionsLions<br>Rush Yds=%{x}<br>TD=%{y}<br>Att=%{marker.size}<extra></extra>",
         "hovertext": [
          "LionsLions"
         ],
         "legendgroup": "LionsLions",
         "marker": {
          "color": "#FF97FF",
          "size": [
           87
          ],
          "sizemode": "area",
          "sizeref": 0.03166666666666667,
          "symbol": "circle"
         },
         "mode": "markers",
         "name": "LionsLions",
         "orientation": "v",
         "showlegend": true,
         "type": "scatter",
         "x": [
          511
         ],
         "xaxis": "x",
         "y": [
          5
         ],
         "yaxis": "y"
        },
        {
         "hovertemplate": "<b>%{hovertext}</b><br><br>Team=BroncosBroncos<br>Rush Yds=%{x}<br>TD=%{y}<br>Att=%{marker.size}<extra></extra>",
         "hovertext": [
          "BroncosBroncos"
         ],
         "legendgroup": "BroncosBroncos",
         "marker": {
          "color": "#FECB52",
          "size": [
           84
          ],
          "sizemode": "area",
          "sizeref": 0.03166666666666667,
          "symbol": "circle"
         },
         "mode": "markers",
         "name": "BroncosBroncos",
         "orientation": "v",
         "showlegend": true,
         "type": "scatter",
         "x": [
          353
         ],
         "xaxis": "x",
         "y": [
          1
         ],
         "yaxis": "y"
        },
        {
         "hovertemplate": "<b>%{hovertext}</b><br><br>Team=PackersPackers<br>Rush Yds=%{x}<br>TD=%{y}<br>Att=%{marker.size}<extra></extra>",
         "hovertext": [
          "PackersPackers"
         ],
         "legendgroup": "PackersPackers",
         "marker": {
          "color": "#636efa",
          "size": [
           81
          ],
          "sizemode": "area",
          "sizeref": 0.03166666666666667,
          "symbol": "circle"
         },
         "mode": "markers",
         "name": "PackersPackers",
         "orientation": "v",
         "showlegend": true,
         "type": "scatter",
         "x": [
          381
         ],
         "xaxis": "x",
         "y": [
          2
         ],
         "yaxis": "y"
        },
        {
         "hovertemplate": "<b>%{hovertext}</b><br><br>Team=PatriotsPatriots<br>Rush Yds=%{x}<br>TD=%{y}<br>Att=%{marker.size}<extra></extra>",
         "hovertext": [
          "PatriotsPatriots"
         ],
         "legendgroup": "PatriotsPatriots",
         "marker": {
          "color": "#EF553B",
          "size": [
           81
          ],
          "sizemode": "area",
          "sizeref": 0.03166666666666667,
          "symbol": "circle"
         },
         "mode": "markers",
         "name": "PatriotsPatriots",
         "orientation": "v",
         "showlegend": true,
         "type": "scatter",
         "x": [
          347
         ],
         "xaxis": "x",
         "y": [
          4
         ],
         "yaxis": "y"
        },
        {
         "hovertemplate": "<b>%{hovertext}</b><br><br>Team=TitansTitans<br>Rush Yds=%{x}<br>TD=%{y}<br>Att=%{marker.size}<extra></extra>",
         "hovertext": [
          "TitansTitans"
         ],
         "legendgroup": "TitansTitans",
         "marker": {
          "color": "#00cc96",
          "size": [
           80
          ],
          "sizemode": "area",
          "sizeref": 0.03166666666666667,
          "symbol": "circle"
         },
         "mode": "markers",
         "name": "TitansTitans",
         "orientation": "v",
         "showlegend": true,
         "type": "scatter",
         "x": [
          282
         ],
         "xaxis": "x",
         "y": [
          3
         ],
         "yaxis": "y"
        },
        {
         "hovertemplate": "<b>%{hovertext}</b><br><br>Team=ColtsColts<br>Rush Yds=%{x}<br>TD=%{y}<br>Att=%{marker.size}<extra></extra>",
         "hovertext": [
          "ColtsColts"
         ],
         "legendgroup": "ColtsColts",
         "marker": {
          "color": "#ab63fa",
          "size": [
           78
          ],
          "sizemode": "area",
          "sizeref": 0.03166666666666667,
          "symbol": "circle"
         },
         "mode": "markers",
         "name": "ColtsColts",
         "orientation": "v",
         "showlegend": true,
         "type": "scatter",
         "x": [
          313
         ],
         "xaxis": "x",
         "y": [
          1
         ],
         "yaxis": "y"
        },
        {
         "hovertemplate": "<b>%{hovertext}</b><br><br>Team=BuccaneersBuccaneers<br>Rush Yds=%{x}<br>TD=%{y}<br>Att=%{marker.size}<extra></extra>",
         "hovertext": [
          "BuccaneersBuccaneers"
         ],
         "legendgroup": "BuccaneersBuccaneers",
         "marker": {
          "color": "#FFA15A",
          "size": [
           77
          ],
          "sizemode": "area",
          "sizeref": 0.03166666666666667,
          "symbol": "circle"
         },
         "mode": "markers",
         "name": "BuccaneersBuccaneers",
         "orientation": "v",
         "showlegend": true,
         "type": "scatter",
         "x": [
          258
         ],
         "xaxis": "x",
         "y": [
          0
         ],
         "yaxis": "y"
        },
        {
         "hovertemplate": "<b>%{hovertext}</b><br><br>Team=CowboysCowboys<br>Rush Yds=%{x}<br>TD=%{y}<br>Att=%{marker.size}<extra></extra>",
         "hovertext": [
          "CowboysCowboys"
         ],
         "legendgroup": "CowboysCowboys",
         "marker": {
          "color": "#19d3f3",
          "size": [
           75
          ],
          "sizemode": "area",
          "sizeref": 0.03166666666666667,
          "symbol": "circle"
         },
         "mode": "markers",
         "name": "CowboysCowboys",
         "orientation": "v",
         "showlegend": true,
         "type": "scatter",
         "x": [
          354
         ],
         "xaxis": "x",
         "y": [
          2
         ],
         "yaxis": "y"
        },
        {
         "hovertemplate": "<b>%{hovertext}</b><br><br>Team=PanthersPanthers<br>Rush Yds=%{x}<br>TD=%{y}<br>Att=%{marker.size}<extra></extra>",
         "hovertext": [
          "PanthersPanthers"
         ],
         "legendgroup": "PanthersPanthers",
         "marker": {
          "color": "#FF6692",
          "size": [
           73
          ],
          "sizemode": "area",
          "sizeref": 0.03166666666666667,
          "symbol": "circle"
         },
         "mode": "markers",
         "name": "PanthersPanthers",
         "orientation": "v",
         "showlegend": true,
         "type": "scatter",
         "x": [
          345
         ],
         "xaxis": "x",
         "y": [
          2
         ],
         "yaxis": "y"
        },
        {
         "hovertemplate": "<b>%{hovertext}</b><br><br>Team=RavensRavens<br>Rush Yds=%{x}<br>TD=%{y}<br>Att=%{marker.size}<extra></extra>",
         "hovertext": [
          "RavensRavens"
         ],
         "legendgroup": "RavensRavens",
         "marker": {
          "color": "#B6E880",
          "size": [
           72
          ],
          "sizemode": "area",
          "sizeref": 0.03166666666666667,
          "symbol": "circle"
         },
         "mode": "markers",
         "name": "RavensRavens",
         "orientation": "v",
         "showlegend": true,
         "type": "scatter",
         "x": [
          406
         ],
         "xaxis": "x",
         "y": [
          2
         ],
         "yaxis": "y"
        },
        {
         "hovertemplate": "<b>%{hovertext}</b><br><br>Team=BillsBills<br>Rush Yds=%{x}<br>TD=%{y}<br>Att=%{marker.size}<extra></extra>",
         "hovertext": [
          "BillsBills"
         ],
         "legendgroup": "BillsBills",
         "marker": {
          "color": "#FF97FF",
          "size": [
           72
          ],
          "sizemode": "area",
          "sizeref": 0.03166666666666667,
          "symbol": "circle"
         },
         "mode": "markers",
         "name": "BillsBills",
         "orientation": "v",
         "showlegend": true,
         "type": "scatter",
         "x": [
          337
         ],
         "xaxis": "x",
         "y": [
          1
         ],
         "yaxis": "y"
        },
        {
         "hovertemplate": "<b>%{hovertext}</b><br><br>Team=CardinalsCardinals<br>Rush Yds=%{x}<br>TD=%{y}<br>Att=%{marker.size}<extra></extra>",
         "hovertext": [
          "CardinalsCardinals"
         ],
         "legendgroup": "CardinalsCardinals",
         "marker": {
          "color": "#FECB52",
          "size": [
           71
          ],
          "sizemode": "area",
          "sizeref": 0.03166666666666667,
          "symbol": "circle"
         },
         "mode": "markers",
         "name": "CardinalsCardinals",
         "orientation": "v",
         "showlegend": true,
         "type": "scatter",
         "x": [
          316
         ],
         "xaxis": "x",
         "y": [
          3
         ],
         "yaxis": "y"
        },
        {
         "hovertemplate": "<b>%{hovertext}</b><br><br>Team=CommandersCommanders<br>Rush Yds=%{x}<br>TD=%{y}<br>Att=%{marker.size}<extra></extra>",
         "hovertext": [
          "CommandersCommanders"
         ],
         "legendgroup": "CommandersCommanders",
         "marker": {
          "color": "#636efa",
          "size": [
           71
          ],
          "sizemode": "area",
          "sizeref": 0.03166666666666667,
          "symbol": "circle"
         },
         "mode": "markers",
         "name": "CommandersCommanders",
         "orientation": "v",
         "showlegend": true,
         "type": "scatter",
         "x": [
          260
         ],
         "xaxis": "x",
         "y": [
          2
         ],
         "yaxis": "y"
        },
        {
         "hovertemplate": "<b>%{hovertext}</b><br><br>Team=TexansTexans<br>Rush Yds=%{x}<br>TD=%{y}<br>Att=%{marker.size}<extra></extra>",
         "hovertext": [
          "TexansTexans"
         ],
         "legendgroup": "TexansTexans",
         "marker": {
          "color": "#EF553B",
          "size": [
           70
          ],
          "sizemode": "area",
          "sizeref": 0.03166666666666667,
          "symbol": "circle"
         },
         "mode": "markers",
         "name": "TexansTexans",
         "orientation": "v",
         "showlegend": true,
         "type": "scatter",
         "x": [
          249
         ],
         "xaxis": "x",
         "y": [
          1
         ],
         "yaxis": "y"
        },
        {
         "hovertemplate": "<b>%{hovertext}</b><br><br>Team=ChiefsChiefs<br>Rush Yds=%{x}<br>TD=%{y}<br>Att=%{marker.size}<extra></extra>",
         "hovertext": [
          "ChiefsChiefs"
         ],
         "legendgroup": "ChiefsChiefs",
         "marker": {
          "color": "#00cc96",
          "size": [
           68
          ],
          "sizemode": "area",
          "sizeref": 0.03166666666666667,
          "symbol": "circle"
         },
         "mode": "markers",
         "name": "ChiefsChiefs",
         "orientation": "v",
         "showlegend": true,
         "type": "scatter",
         "x": [
          279
         ],
         "xaxis": "x",
         "y": [
          2
         ],
         "yaxis": "y"
        },
        {
         "hovertemplate": "<b>%{hovertext}</b><br><br>Team=ChargersChargers<br>Rush Yds=%{x}<br>TD=%{y}<br>Att=%{marker.size}<extra></extra>",
         "hovertext": [
          "ChargersChargers"
         ],
         "legendgroup": "ChargersChargers",
         "marker": {
          "color": "#ab63fa",
          "size": [
           67
          ],
          "sizemode": "area",
          "sizeref": 0.03166666666666667,
          "symbol": "circle"
         },
         "mode": "markers",
         "name": "ChargersChargers",
         "orientation": "v",
         "showlegend": true,
         "type": "scatter",
         "x": [
          177
         ],
         "xaxis": "x",
         "y": [
          0
         ],
         "yaxis": "y"
        },
        {
         "hovertemplate": "<b>%{hovertext}</b><br><br>Team=SteelersSteelers<br>Rush Yds=%{x}<br>TD=%{y}<br>Att=%{marker.size}<extra></extra>",
         "hovertext": [
          "SteelersSteelers"
         ],
         "legendgroup": "SteelersSteelers",
         "marker": {
          "color": "#FFA15A",
          "size": [
           66
          ],
          "sizemode": "area",
          "sizeref": 0.03166666666666667,
          "symbol": "circle"
         },
         "mode": "markers",
         "name": "SteelersSteelers",
         "orientation": "v",
         "showlegend": true,
         "type": "scatter",
         "x": [
          270
         ],
         "xaxis": "x",
         "y": [
          2
         ],
         "yaxis": "y"
        },
        {
         "hovertemplate": "<b>%{hovertext}</b><br><br>Team=RamsRams<br>Rush Yds=%{x}<br>TD=%{y}<br>Att=%{marker.size}<extra></extra>",
         "hovertext": [
          "RamsRams"
         ],
         "legendgroup": "RamsRams",
         "marker": {
          "color": "#19d3f3",
          "size": [
           64
          ],
          "sizemode": "area",
          "sizeref": 0.03166666666666667,
          "symbol": "circle"
         },
         "mode": "markers",
         "name": "RamsRams",
         "orientation": "v",
         "showlegend": true,
         "type": "scatter",
         "x": [
          217
         ],
         "xaxis": "x",
         "y": [
          3
         ],
         "yaxis": "y"
        },
        {
         "hovertemplate": "<b>%{hovertext}</b><br><br>Team=VikingsVikings<br>Rush Yds=%{x}<br>TD=%{y}<br>Att=%{marker.size}<extra></extra>",
         "hovertext": [
          "VikingsVikings"
         ],
         "legendgroup": "VikingsVikings",
         "marker": {
          "color": "#FF6692",
          "size": [
           64
          ],
          "sizemode": "area",
          "sizeref": 0.03166666666666667,
          "symbol": "circle"
         },
         "mode": "markers",
         "name": "VikingsVikings",
         "orientation": "v",
         "showlegend": true,
         "type": "scatter",
         "x": [
          311
         ],
         "xaxis": "x",
         "y": [
          2
         ],
         "yaxis": "y"
        },
        {
         "hovertemplate": "<b>%{hovertext}</b><br><br>Team=SaintsSaints<br>Rush Yds=%{x}<br>TD=%{y}<br>Att=%{marker.size}<extra></extra>",
         "hovertext": [
          "SaintsSaints"
         ],
         "legendgroup": "SaintsSaints",
         "marker": {
          "color": "#B6E880",
          "size": [
           61
          ],
          "sizemode": "area",
          "sizeref": 0.03166666666666667,
          "symbol": "circle"
         },
         "mode": "markers",
         "name": "SaintsSaints",
         "orientation": "v",
         "showlegend": true,
         "type": "scatter",
         "x": [
          335
         ],
         "xaxis": "x",
         "y": [
          2
         ],
         "yaxis": "y"
        },
        {
         "hovertemplate": "<b>%{hovertext}</b><br><br>Team=DolphinsDolphins<br>Rush Yds=%{x}<br>TD=%{y}<br>Att=%{marker.size}<extra></extra>",
         "hovertext": [
          "DolphinsDolphins"
         ],
         "legendgroup": "DolphinsDolphins",
         "marker": {
          "color": "#FF97FF",
          "size": [
           58
          ],
          "sizemode": "area",
          "sizeref": 0.03166666666666667,
          "symbol": "circle"
         },
         "mode": "markers",
         "name": "DolphinsDolphins",
         "orientation": "v",
         "showlegend": true,
         "type": "scatter",
         "x": [
          192
         ],
         "xaxis": "x",
         "y": [
          2
         ],
         "yaxis": "y"
        },
        {
         "hovertemplate": "<b>%{hovertext}</b><br><br>Team=JetsJets<br>Rush Yds=%{x}<br>TD=%{y}<br>Att=%{marker.size}<extra></extra>",
         "hovertext": [
          "JetsJets"
         ],
         "legendgroup": "JetsJets",
         "marker": {
          "color": "#FECB52",
          "size": [
           57
          ],
          "sizemode": "area",
          "sizeref": 0.03166666666666667,
          "symbol": "circle"
         },
         "mode": "markers",
         "name": "JetsJets",
         "orientation": "v",
         "showlegend": true,
         "type": "scatter",
         "x": [
          252
         ],
         "xaxis": "x",
         "y": [
          0
         ],
         "yaxis": "y"
        },
        {
         "hovertemplate": "<b>%{hovertext}</b><br><br>Team=SeahawksSeahawks<br>Rush Yds=%{x}<br>TD=%{y}<br>Att=%{marker.size}<extra></extra>",
         "hovertext": [
          "SeahawksSeahawks"
         ],
         "legendgroup": "SeahawksSeahawks",
         "marker": {
          "color": "#636efa",
          "size": [
           56
          ],
          "sizemode": "area",
          "sizeref": 0.03166666666666667,
          "symbol": "circle"
         },
         "mode": "markers",
         "name": "SeahawksSeahawks",
         "orientation": "v",
         "showlegend": true,
         "type": "scatter",
         "x": [
          224
         ],
         "xaxis": "x",
         "y": [
          0
         ],
         "yaxis": "y"
        },
        {
         "hovertemplate": "<b>%{hovertext}</b><br><br>Team=RaidersRaiders<br>Rush Yds=%{x}<br>TD=%{y}<br>Att=%{marker.size}<extra></extra>",
         "hovertext": [
          "RaidersRaiders"
         ],
         "legendgroup": "RaidersRaiders",
         "marker": {
          "color": "#EF553B",
          "size": [
           53
          ],
          "sizemode": "area",
          "sizeref": 0.03166666666666667,
          "symbol": "circle"
         },
         "mode": "markers",
         "name": "RaidersRaiders",
         "orientation": "v",
         "showlegend": true,
         "type": "scatter",
         "x": [
          240
         ],
         "xaxis": "x",
         "y": [
          0
         ],
         "yaxis": "y"
        }
       ],
       "layout": {
        "legend": {
         "itemsizing": "constant",
         "title": {
          "text": "Team"
         },
         "tracegroupgap": 0
        },
        "margin": {
         "t": 60
        },
        "template": {
         "data": {
          "bar": [
           {
            "error_x": {
             "color": "#2a3f5f"
            },
            "error_y": {
             "color": "#2a3f5f"
            },
            "marker": {
             "line": {
              "color": "#E5ECF6",
              "width": 0.5
             },
             "pattern": {
              "fillmode": "overlay",
              "size": 10,
              "solidity": 0.2
             }
            },
            "type": "bar"
           }
          ],
          "barpolar": [
           {
            "marker": {
             "line": {
              "color": "#E5ECF6",
              "width": 0.5
             },
             "pattern": {
              "fillmode": "overlay",
              "size": 10,
              "solidity": 0.2
             }
            },
            "type": "barpolar"
           }
          ],
          "carpet": [
           {
            "aaxis": {
             "endlinecolor": "#2a3f5f",
             "gridcolor": "white",
             "linecolor": "white",
             "minorgridcolor": "white",
             "startlinecolor": "#2a3f5f"
            },
            "baxis": {
             "endlinecolor": "#2a3f5f",
             "gridcolor": "white",
             "linecolor": "white",
             "minorgridcolor": "white",
             "startlinecolor": "#2a3f5f"
            },
            "type": "carpet"
           }
          ],
          "choropleth": [
           {
            "colorbar": {
             "outlinewidth": 0,
             "ticks": ""
            },
            "type": "choropleth"
           }
          ],
          "contour": [
           {
            "colorbar": {
             "outlinewidth": 0,
             "ticks": ""
            },
            "colorscale": [
             [
              0,
              "#0d0887"
             ],
             [
              0.1111111111111111,
              "#46039f"
             ],
             [
              0.2222222222222222,
              "#7201a8"
             ],
             [
              0.3333333333333333,
              "#9c179e"
             ],
             [
              0.4444444444444444,
              "#bd3786"
             ],
             [
              0.5555555555555556,
              "#d8576b"
             ],
             [
              0.6666666666666666,
              "#ed7953"
             ],
             [
              0.7777777777777778,
              "#fb9f3a"
             ],
             [
              0.8888888888888888,
              "#fdca26"
             ],
             [
              1,
              "#f0f921"
             ]
            ],
            "type": "contour"
           }
          ],
          "contourcarpet": [
           {
            "colorbar": {
             "outlinewidth": 0,
             "ticks": ""
            },
            "type": "contourcarpet"
           }
          ],
          "heatmap": [
           {
            "colorbar": {
             "outlinewidth": 0,
             "ticks": ""
            },
            "colorscale": [
             [
              0,
              "#0d0887"
             ],
             [
              0.1111111111111111,
              "#46039f"
             ],
             [
              0.2222222222222222,
              "#7201a8"
             ],
             [
              0.3333333333333333,
              "#9c179e"
             ],
             [
              0.4444444444444444,
              "#bd3786"
             ],
             [
              0.5555555555555556,
              "#d8576b"
             ],
             [
              0.6666666666666666,
              "#ed7953"
             ],
             [
              0.7777777777777778,
              "#fb9f3a"
             ],
             [
              0.8888888888888888,
              "#fdca26"
             ],
             [
              1,
              "#f0f921"
             ]
            ],
            "type": "heatmap"
           }
          ],
          "heatmapgl": [
           {
            "colorbar": {
             "outlinewidth": 0,
             "ticks": ""
            },
            "colorscale": [
             [
              0,
              "#0d0887"
             ],
             [
              0.1111111111111111,
              "#46039f"
             ],
             [
              0.2222222222222222,
              "#7201a8"
             ],
             [
              0.3333333333333333,
              "#9c179e"
             ],
             [
              0.4444444444444444,
              "#bd3786"
             ],
             [
              0.5555555555555556,
              "#d8576b"
             ],
             [
              0.6666666666666666,
              "#ed7953"
             ],
             [
              0.7777777777777778,
              "#fb9f3a"
             ],
             [
              0.8888888888888888,
              "#fdca26"
             ],
             [
              1,
              "#f0f921"
             ]
            ],
            "type": "heatmapgl"
           }
          ],
          "histogram": [
           {
            "marker": {
             "pattern": {
              "fillmode": "overlay",
              "size": 10,
              "solidity": 0.2
             }
            },
            "type": "histogram"
           }
          ],
          "histogram2d": [
           {
            "colorbar": {
             "outlinewidth": 0,
             "ticks": ""
            },
            "colorscale": [
             [
              0,
              "#0d0887"
             ],
             [
              0.1111111111111111,
              "#46039f"
             ],
             [
              0.2222222222222222,
              "#7201a8"
             ],
             [
              0.3333333333333333,
              "#9c179e"
             ],
             [
              0.4444444444444444,
              "#bd3786"
             ],
             [
              0.5555555555555556,
              "#d8576b"
             ],
             [
              0.6666666666666666,
              "#ed7953"
             ],
             [
              0.7777777777777778,
              "#fb9f3a"
             ],
             [
              0.8888888888888888,
              "#fdca26"
             ],
             [
              1,
              "#f0f921"
             ]
            ],
            "type": "histogram2d"
           }
          ],
          "histogram2dcontour": [
           {
            "colorbar": {
             "outlinewidth": 0,
             "ticks": ""
            },
            "colorscale": [
             [
              0,
              "#0d0887"
             ],
             [
              0.1111111111111111,
              "#46039f"
             ],
             [
              0.2222222222222222,
              "#7201a8"
             ],
             [
              0.3333333333333333,
              "#9c179e"
             ],
             [
              0.4444444444444444,
              "#bd3786"
             ],
             [
              0.5555555555555556,
              "#d8576b"
             ],
             [
              0.6666666666666666,
              "#ed7953"
             ],
             [
              0.7777777777777778,
              "#fb9f3a"
             ],
             [
              0.8888888888888888,
              "#fdca26"
             ],
             [
              1,
              "#f0f921"
             ]
            ],
            "type": "histogram2dcontour"
           }
          ],
          "mesh3d": [
           {
            "colorbar": {
             "outlinewidth": 0,
             "ticks": ""
            },
            "type": "mesh3d"
           }
          ],
          "parcoords": [
           {
            "line": {
             "colorbar": {
              "outlinewidth": 0,
              "ticks": ""
             }
            },
            "type": "parcoords"
           }
          ],
          "pie": [
           {
            "automargin": true,
            "type": "pie"
           }
          ],
          "scatter": [
           {
            "fillpattern": {
             "fillmode": "overlay",
             "size": 10,
             "solidity": 0.2
            },
            "type": "scatter"
           }
          ],
          "scatter3d": [
           {
            "line": {
             "colorbar": {
              "outlinewidth": 0,
              "ticks": ""
             }
            },
            "marker": {
             "colorbar": {
              "outlinewidth": 0,
              "ticks": ""
             }
            },
            "type": "scatter3d"
           }
          ],
          "scattercarpet": [
           {
            "marker": {
             "colorbar": {
              "outlinewidth": 0,
              "ticks": ""
             }
            },
            "type": "scattercarpet"
           }
          ],
          "scattergeo": [
           {
            "marker": {
             "colorbar": {
              "outlinewidth": 0,
              "ticks": ""
             }
            },
            "type": "scattergeo"
           }
          ],
          "scattergl": [
           {
            "marker": {
             "colorbar": {
              "outlinewidth": 0,
              "ticks": ""
             }
            },
            "type": "scattergl"
           }
          ],
          "scattermapbox": [
           {
            "marker": {
             "colorbar": {
              "outlinewidth": 0,
              "ticks": ""
             }
            },
            "type": "scattermapbox"
           }
          ],
          "scatterpolar": [
           {
            "marker": {
             "colorbar": {
              "outlinewidth": 0,
              "ticks": ""
             }
            },
            "type": "scatterpolar"
           }
          ],
          "scatterpolargl": [
           {
            "marker": {
             "colorbar": {
              "outlinewidth": 0,
              "ticks": ""
             }
            },
            "type": "scatterpolargl"
           }
          ],
          "scatterternary": [
           {
            "marker": {
             "colorbar": {
              "outlinewidth": 0,
              "ticks": ""
             }
            },
            "type": "scatterternary"
           }
          ],
          "surface": [
           {
            "colorbar": {
             "outlinewidth": 0,
             "ticks": ""
            },
            "colorscale": [
             [
              0,
              "#0d0887"
             ],
             [
              0.1111111111111111,
              "#46039f"
             ],
             [
              0.2222222222222222,
              "#7201a8"
             ],
             [
              0.3333333333333333,
              "#9c179e"
             ],
             [
              0.4444444444444444,
              "#bd3786"
             ],
             [
              0.5555555555555556,
              "#d8576b"
             ],
             [
              0.6666666666666666,
              "#ed7953"
             ],
             [
              0.7777777777777778,
              "#fb9f3a"
             ],
             [
              0.8888888888888888,
              "#fdca26"
             ],
             [
              1,
              "#f0f921"
             ]
            ],
            "type": "surface"
           }
          ],
          "table": [
           {
            "cells": {
             "fill": {
              "color": "#EBF0F8"
             },
             "line": {
              "color": "white"
             }
            },
            "header": {
             "fill": {
              "color": "#C8D4E3"
             },
             "line": {
              "color": "white"
             }
            },
            "type": "table"
           }
          ]
         },
         "layout": {
          "annotationdefaults": {
           "arrowcolor": "#2a3f5f",
           "arrowhead": 0,
           "arrowwidth": 1
          },
          "autotypenumbers": "strict",
          "coloraxis": {
           "colorbar": {
            "outlinewidth": 0,
            "ticks": ""
           }
          },
          "colorscale": {
           "diverging": [
            [
             0,
             "#8e0152"
            ],
            [
             0.1,
             "#c51b7d"
            ],
            [
             0.2,
             "#de77ae"
            ],
            [
             0.3,
             "#f1b6da"
            ],
            [
             0.4,
             "#fde0ef"
            ],
            [
             0.5,
             "#f7f7f7"
            ],
            [
             0.6,
             "#e6f5d0"
            ],
            [
             0.7,
             "#b8e186"
            ],
            [
             0.8,
             "#7fbc41"
            ],
            [
             0.9,
             "#4d9221"
            ],
            [
             1,
             "#276419"
            ]
           ],
           "sequential": [
            [
             0,
             "#0d0887"
            ],
            [
             0.1111111111111111,
             "#46039f"
            ],
            [
             0.2222222222222222,
             "#7201a8"
            ],
            [
             0.3333333333333333,
             "#9c179e"
            ],
            [
             0.4444444444444444,
             "#bd3786"
            ],
            [
             0.5555555555555556,
             "#d8576b"
            ],
            [
             0.6666666666666666,
             "#ed7953"
            ],
            [
             0.7777777777777778,
             "#fb9f3a"
            ],
            [
             0.8888888888888888,
             "#fdca26"
            ],
            [
             1,
             "#f0f921"
            ]
           ],
           "sequentialminus": [
            [
             0,
             "#0d0887"
            ],
            [
             0.1111111111111111,
             "#46039f"
            ],
            [
             0.2222222222222222,
             "#7201a8"
            ],
            [
             0.3333333333333333,
             "#9c179e"
            ],
            [
             0.4444444444444444,
             "#bd3786"
            ],
            [
             0.5555555555555556,
             "#d8576b"
            ],
            [
             0.6666666666666666,
             "#ed7953"
            ],
            [
             0.7777777777777778,
             "#fb9f3a"
            ],
            [
             0.8888888888888888,
             "#fdca26"
            ],
            [
             1,
             "#f0f921"
            ]
           ]
          },
          "colorway": [
           "#636efa",
           "#EF553B",
           "#00cc96",
           "#ab63fa",
           "#FFA15A",
           "#19d3f3",
           "#FF6692",
           "#B6E880",
           "#FF97FF",
           "#FECB52"
          ],
          "font": {
           "color": "#2a3f5f"
          },
          "geo": {
           "bgcolor": "white",
           "lakecolor": "white",
           "landcolor": "#E5ECF6",
           "showlakes": true,
           "showland": true,
           "subunitcolor": "white"
          },
          "hoverlabel": {
           "align": "left"
          },
          "hovermode": "closest",
          "mapbox": {
           "style": "light"
          },
          "paper_bgcolor": "white",
          "plot_bgcolor": "#E5ECF6",
          "polar": {
           "angularaxis": {
            "gridcolor": "white",
            "linecolor": "white",
            "ticks": ""
           },
           "bgcolor": "#E5ECF6",
           "radialaxis": {
            "gridcolor": "white",
            "linecolor": "white",
            "ticks": ""
           }
          },
          "scene": {
           "xaxis": {
            "backgroundcolor": "#E5ECF6",
            "gridcolor": "white",
            "gridwidth": 2,
            "linecolor": "white",
            "showbackground": true,
            "ticks": "",
            "zerolinecolor": "white"
           },
           "yaxis": {
            "backgroundcolor": "#E5ECF6",
            "gridcolor": "white",
            "gridwidth": 2,
            "linecolor": "white",
            "showbackground": true,
            "ticks": "",
            "zerolinecolor": "white"
           },
           "zaxis": {
            "backgroundcolor": "#E5ECF6",
            "gridcolor": "white",
            "gridwidth": 2,
            "linecolor": "white",
            "showbackground": true,
            "ticks": "",
            "zerolinecolor": "white"
           }
          },
          "shapedefaults": {
           "line": {
            "color": "#2a3f5f"
           }
          },
          "ternary": {
           "aaxis": {
            "gridcolor": "white",
            "linecolor": "white",
            "ticks": ""
           },
           "baxis": {
            "gridcolor": "white",
            "linecolor": "white",
            "ticks": ""
           },
           "bgcolor": "#E5ECF6",
           "caxis": {
            "gridcolor": "white",
            "linecolor": "white",
            "ticks": ""
           }
          },
          "title": {
           "x": 0.05
          },
          "xaxis": {
           "automargin": true,
           "gridcolor": "white",
           "linecolor": "white",
           "ticks": "",
           "title": {
            "standoff": 15
           },
           "zerolinecolor": "white",
           "zerolinewidth": 2
          },
          "yaxis": {
           "automargin": true,
           "gridcolor": "white",
           "linecolor": "white",
           "ticks": "",
           "title": {
            "standoff": 15
           },
           "zerolinecolor": "white",
           "zerolinewidth": 2
          }
         }
        },
        "xaxis": {
         "anchor": "y",
         "domain": [
          0,
          1
         ],
         "title": {
          "text": "Rush Yds"
         }
        },
        "yaxis": {
         "anchor": "x",
         "domain": [
          0,
          1
         ],
         "title": {
          "text": "TD"
         }
        }
       }
      }
     },
     "metadata": {},
     "output_type": "display_data"
    }
   ],
   "source": [
    "px.scatter(rushing_df, x='Rush Yds', y='TD', color='Team', size='Att', hover_name='Team', size_max=60)"
   ]
  },
  {
   "cell_type": "code",
   "execution_count": 31,
   "metadata": {},
   "outputs": [
    {
     "data": {
      "application/vnd.plotly.v1+json": {
       "config": {
        "plotlyServerURL": "https://plot.ly"
       },
       "data": [
        {
         "hovertemplate": "<b>%{hovertext}</b><br><br>Team=EaglesEagles<br>Rec TD=%{x}<br>Rsh TD=%{y}<br>Tot TD=%{marker.size}<extra></extra>",
         "hovertext": [
          "EaglesEagles"
         ],
         "legendgroup": "EaglesEagles",
         "marker": {
          "color": "#636efa",
          "size": [
           11
          ],
          "sizemode": "area",
          "sizeref": 0.003611111111111111,
          "symbol": "circle"
         },
         "mode": "markers",
         "name": "EaglesEagles",
         "orientation": "v",
         "showlegend": true,
         "type": "scatter",
         "x": [
          4
         ],
         "xaxis": "x",
         "y": [
          6
         ],
         "yaxis": "y"
        },
        {
         "hovertemplate": "<b>%{hovertext}</b><br><br>Team=BrownsBrowns<br>Rec TD=%{x}<br>Rsh TD=%{y}<br>Tot TD=%{marker.size}<extra></extra>",
         "hovertext": [
          "BrownsBrowns"
         ],
         "legendgroup": "BrownsBrowns",
         "marker": {
          "color": "#EF553B",
          "size": [
           9
          ],
          "sizemode": "area",
          "sizeref": 0.003611111111111111,
          "symbol": "circle"
         },
         "mode": "markers",
         "name": "BrownsBrowns",
         "orientation": "v",
         "showlegend": true,
         "type": "scatter",
         "x": [
          4
         ],
         "xaxis": "x",
         "y": [
          5
         ],
         "yaxis": "y"
        },
        {
         "hovertemplate": "<b>%{hovertext}</b><br><br>Team=LionsLions<br>Rec TD=%{x}<br>Rsh TD=%{y}<br>Tot TD=%{marker.size}<extra></extra>",
         "hovertext": [
          "LionsLions"
         ],
         "legendgroup": "LionsLions",
         "marker": {
          "color": "#00cc96",
          "size": [
           12
          ],
          "sizemode": "area",
          "sizeref": 0.003611111111111111,
          "symbol": "circle"
         },
         "mode": "markers",
         "name": "LionsLions",
         "orientation": "v",
         "showlegend": true,
         "type": "scatter",
         "x": [
          7
         ],
         "xaxis": "x",
         "y": [
          5
         ],
         "yaxis": "y"
        },
        {
         "hovertemplate": "<b>%{hovertext}</b><br><br>Team=FalconsFalcons<br>Rec TD=%{x}<br>Rsh TD=%{y}<br>Tot TD=%{marker.size}<extra></extra>",
         "hovertext": [
          "FalconsFalcons"
         ],
         "legendgroup": "FalconsFalcons",
         "marker": {
          "color": "#ab63fa",
          "size": [
           8
          ],
          "sizemode": "area",
          "sizeref": 0.003611111111111111,
          "symbol": "circle"
         },
         "mode": "markers",
         "name": "FalconsFalcons",
         "orientation": "v",
         "showlegend": true,
         "type": "scatter",
         "x": [
          3
         ],
         "xaxis": "x",
         "y": [
          4
         ],
         "yaxis": "y"
        },
        {
         "hovertemplate": "<b>%{hovertext}</b><br><br>Team=BearsBears<br>Rec TD=%{x}<br>Rsh TD=%{y}<br>Tot TD=%{marker.size}<extra></extra>",
         "hovertext": [
          "BearsBears"
         ],
         "legendgroup": "BearsBears",
         "marker": {
          "color": "#FFA15A",
          "size": [
           6
          ],
          "sizemode": "area",
          "sizeref": 0.003611111111111111,
          "symbol": "circle"
         },
         "mode": "markers",
         "name": "BearsBears",
         "orientation": "v",
         "showlegend": true,
         "type": "scatter",
         "x": [
          2
         ],
         "xaxis": "x",
         "y": [
          4
         ],
         "yaxis": "y"
        },
        {
         "hovertemplate": "<b>%{hovertext}</b><br><br>Team=PatriotsPatriots<br>Rec TD=%{x}<br>Rsh TD=%{y}<br>Tot TD=%{marker.size}<extra></extra>",
         "hovertext": [
          "PatriotsPatriots"
         ],
         "legendgroup": "PatriotsPatriots",
         "marker": {
          "color": "#19d3f3",
          "size": [
           6
          ],
          "sizemode": "area",
          "sizeref": 0.003611111111111111,
          "symbol": "circle"
         },
         "mode": "markers",
         "name": "PatriotsPatriots",
         "orientation": "v",
         "showlegend": true,
         "type": "scatter",
         "x": [
          2
         ],
         "xaxis": "x",
         "y": [
          4
         ],
         "yaxis": "y"
        },
        {
         "hovertemplate": "<b>%{hovertext}</b><br><br>Team=TitansTitans<br>Rec TD=%{x}<br>Rsh TD=%{y}<br>Tot TD=%{marker.size}<extra></extra>",
         "hovertext": [
          "TitansTitans"
         ],
         "legendgroup": "TitansTitans",
         "marker": {
          "color": "#FF6692",
          "size": [
           6
          ],
          "sizemode": "area",
          "sizeref": 0.003611111111111111,
          "symbol": "circle"
         },
         "mode": "markers",
         "name": "TitansTitans",
         "orientation": "v",
         "showlegend": true,
         "type": "scatter",
         "x": [
          3
         ],
         "xaxis": "x",
         "y": [
          3
         ],
         "yaxis": "y"
        },
        {
         "hovertemplate": "<b>%{hovertext}</b><br><br>Team=JaguarsJaguars<br>Rec TD=%{x}<br>Rsh TD=%{y}<br>Tot TD=%{marker.size}<extra></extra>",
         "hovertext": [
          "JaguarsJaguars"
         ],
         "legendgroup": "JaguarsJaguars",
         "marker": {
          "color": "#B6E880",
          "size": [
           9
          ],
          "sizemode": "area",
          "sizeref": 0.003611111111111111,
          "symbol": "circle"
         },
         "mode": "markers",
         "name": "JaguarsJaguars",
         "orientation": "v",
         "showlegend": true,
         "type": "scatter",
         "x": [
          6
         ],
         "xaxis": "x",
         "y": [
          3
         ],
         "yaxis": "y"
        },
        {
         "hovertemplate": "<b>%{hovertext}</b><br><br>Team=RamsRams<br>Rec TD=%{x}<br>Rsh TD=%{y}<br>Tot TD=%{marker.size}<extra></extra>",
         "hovertext": [
          "RamsRams"
         ],
         "legendgroup": "RamsRams",
         "marker": {
          "color": "#FF97FF",
          "size": [
           7
          ],
          "sizemode": "area",
          "sizeref": 0.003611111111111111,
          "symbol": "circle"
         },
         "mode": "markers",
         "name": "RamsRams",
         "orientation": "v",
         "showlegend": true,
         "type": "scatter",
         "x": [
          4
         ],
         "xaxis": "x",
         "y": [
          3
         ],
         "yaxis": "y"
        },
        {
         "hovertemplate": "<b>%{hovertext}</b><br><br>Team=CardinalsCardinals<br>Rec TD=%{x}<br>Rsh TD=%{y}<br>Tot TD=%{marker.size}<extra></extra>",
         "hovertext": [
          "CardinalsCardinals"
         ],
         "legendgroup": "CardinalsCardinals",
         "marker": {
          "color": "#FECB52",
          "size": [
           6
          ],
          "sizemode": "area",
          "sizeref": 0.003611111111111111,
          "symbol": "circle"
         },
         "mode": "markers",
         "name": "CardinalsCardinals",
         "orientation": "v",
         "showlegend": true,
         "type": "scatter",
         "x": [
          3
         ],
         "xaxis": "x",
         "y": [
          3
         ],
         "yaxis": "y"
        },
        {
         "hovertemplate": "<b>%{hovertext}</b><br><br>Team=49ers49ers<br>Rec TD=%{x}<br>Rsh TD=%{y}<br>Tot TD=%{marker.size}<extra></extra>",
         "hovertext": [
          "49ers49ers"
         ],
         "legendgroup": "49ers49ers",
         "marker": {
          "color": "#636efa",
          "size": [
           5
          ],
          "sizemode": "area",
          "sizeref": 0.003611111111111111,
          "symbol": "circle"
         },
         "mode": "markers",
         "name": "49ers49ers",
         "orientation": "v",
         "showlegend": true,
         "type": "scatter",
         "x": [
          2
         ],
         "xaxis": "x",
         "y": [
          3
         ],
         "yaxis": "y"
        },
        {
         "hovertemplate": "<b>%{hovertext}</b><br><br>Team=RavensRavens<br>Rec TD=%{x}<br>Rsh TD=%{y}<br>Tot TD=%{marker.size}<extra></extra>",
         "hovertext": [
          "RavensRavens"
         ],
         "legendgroup": "RavensRavens",
         "marker": {
          "color": "#EF553B",
          "size": [
           13
          ],
          "sizemode": "area",
          "sizeref": 0.003611111111111111,
          "symbol": "circle"
         },
         "mode": "markers",
         "name": "RavensRavens",
         "orientation": "v",
         "showlegend": true,
         "type": "scatter",
         "x": [
          10
         ],
         "xaxis": "x",
         "y": [
          2
         ],
         "yaxis": "y"
        },
        {
         "hovertemplate": "<b>%{hovertext}</b><br><br>Team=PanthersPanthers<br>Rec TD=%{x}<br>Rsh TD=%{y}<br>Tot TD=%{marker.size}<extra></extra>",
         "hovertext": [
          "PanthersPanthers"
         ],
         "legendgroup": "PanthersPanthers",
         "marker": {
          "color": "#00cc96",
          "size": [
           5
          ],
          "sizemode": "area",
          "sizeref": 0.003611111111111111,
          "symbol": "circle"
         },
         "mode": "markers",
         "name": "PanthersPanthers",
         "orientation": "v",
         "showlegend": true,
         "type": "scatter",
         "x": [
          3
         ],
         "xaxis": "x",
         "y": [
          2
         ],
         "yaxis": "y"
        },
        {
         "hovertemplate": "<b>%{hovertext}</b><br><br>Team=CowboysCowboys<br>Rec TD=%{x}<br>Rsh TD=%{y}<br>Tot TD=%{marker.size}<extra></extra>",
         "hovertext": [
          "CowboysCowboys"
         ],
         "legendgroup": "CowboysCowboys",
         "marker": {
          "color": "#ab63fa",
          "size": [
           4
          ],
          "sizemode": "area",
          "sizeref": 0.003611111111111111,
          "symbol": "circle"
         },
         "mode": "markers",
         "name": "CowboysCowboys",
         "orientation": "v",
         "showlegend": true,
         "type": "scatter",
         "x": [
          2
         ],
         "xaxis": "x",
         "y": [
          2
         ],
         "yaxis": "y"
        },
        {
         "hovertemplate": "<b>%{hovertext}</b><br><br>Team=PackersPackers<br>Rec TD=%{x}<br>Rsh TD=%{y}<br>Tot TD=%{marker.size}<extra></extra>",
         "hovertext": [
          "PackersPackers"
         ],
         "legendgroup": "PackersPackers",
         "marker": {
          "color": "#FFA15A",
          "size": [
           6
          ],
          "sizemode": "area",
          "sizeref": 0.003611111111111111,
          "symbol": "circle"
         },
         "mode": "markers",
         "name": "PackersPackers",
         "orientation": "v",
         "showlegend": true,
         "type": "scatter",
         "x": [
          4
         ],
         "xaxis": "x",
         "y": [
          2
         ],
         "yaxis": "y"
        },
        {
         "hovertemplate": "<b>%{hovertext}</b><br><br>Team=ChiefsChiefs<br>Rec TD=%{x}<br>Rsh TD=%{y}<br>Tot TD=%{marker.size}<extra></extra>",
         "hovertext": [
          "ChiefsChiefs"
         ],
         "legendgroup": "ChiefsChiefs",
         "marker": {
          "color": "#19d3f3",
          "size": [
           11
          ],
          "sizemode": "area",
          "sizeref": 0.003611111111111111,
          "symbol": "circle"
         },
         "mode": "markers",
         "name": "ChiefsChiefs",
         "orientation": "v",
         "showlegend": true,
         "type": "scatter",
         "x": [
          8
         ],
         "xaxis": "x",
         "y": [
          2
         ],
         "yaxis": "y"
        },
        {
         "hovertemplate": "<b>%{hovertext}</b><br><br>Team=DolphinsDolphins<br>Rec TD=%{x}<br>Rsh TD=%{y}<br>Tot TD=%{marker.size}<extra></extra>",
         "hovertext": [
          "DolphinsDolphins"
         ],
         "legendgroup": "DolphinsDolphins",
         "marker": {
          "color": "#FF6692",
          "size": [
           10
          ],
          "sizemode": "area",
          "sizeref": 0.003611111111111111,
          "symbol": "circle"
         },
         "mode": "markers",
         "name": "DolphinsDolphins",
         "orientation": "v",
         "showlegend": true,
         "type": "scatter",
         "x": [
          8
         ],
         "xaxis": "x",
         "y": [
          2
         ],
         "yaxis": "y"
        },
        {
         "hovertemplate": "<b>%{hovertext}</b><br><br>Team=VikingsVikings<br>Rec TD=%{x}<br>Rsh TD=%{y}<br>Tot TD=%{marker.size}<extra></extra>",
         "hovertext": [
          "VikingsVikings"
         ],
         "legendgroup": "VikingsVikings",
         "marker": {
          "color": "#B6E880",
          "size": [
           7
          ],
          "sizemode": "area",
          "sizeref": 0.003611111111111111,
          "symbol": "circle"
         },
         "mode": "markers",
         "name": "VikingsVikings",
         "orientation": "v",
         "showlegend": true,
         "type": "scatter",
         "x": [
          5
         ],
         "xaxis": "x",
         "y": [
          2
         ],
         "yaxis": "y"
        },
        {
         "hovertemplate": "<b>%{hovertext}</b><br><br>Team=SaintsSaints<br>Rec TD=%{x}<br>Rsh TD=%{y}<br>Tot TD=%{marker.size}<extra></extra>",
         "hovertext": [
          "SaintsSaints"
         ],
         "legendgroup": "SaintsSaints",
         "marker": {
          "color": "#FF97FF",
          "size": [
           6
          ],
          "sizemode": "area",
          "sizeref": 0.003611111111111111,
          "symbol": "circle"
         },
         "mode": "markers",
         "name": "SaintsSaints",
         "orientation": "v",
         "showlegend": true,
         "type": "scatter",
         "x": [
          4
         ],
         "xaxis": "x",
         "y": [
          2
         ],
         "yaxis": "y"
        },
        {
         "hovertemplate": "<b>%{hovertext}</b><br><br>Team=GiantsGiants<br>Rec TD=%{x}<br>Rsh TD=%{y}<br>Tot TD=%{marker.size}<extra></extra>",
         "hovertext": [
          "GiantsGiants"
         ],
         "legendgroup": "GiantsGiants",
         "marker": {
          "color": "#FECB52",
          "size": [
           5
          ],
          "sizemode": "area",
          "sizeref": 0.003611111111111111,
          "symbol": "circle"
         },
         "mode": "markers",
         "name": "GiantsGiants",
         "orientation": "v",
         "showlegend": true,
         "type": "scatter",
         "x": [
          3
         ],
         "xaxis": "x",
         "y": [
          2
         ],
         "yaxis": "y"
        },
        {
         "hovertemplate": "<b>%{hovertext}</b><br><br>Team=SteelersSteelers<br>Rec TD=%{x}<br>Rsh TD=%{y}<br>Tot TD=%{marker.size}<extra></extra>",
         "hovertext": [
          "SteelersSteelers"
         ],
         "legendgroup": "SteelersSteelers",
         "marker": {
          "color": "#636efa",
          "size": [
           5
          ],
          "sizemode": "area",
          "sizeref": 0.003611111111111111,
          "symbol": "circle"
         },
         "mode": "markers",
         "name": "SteelersSteelers",
         "orientation": "v",
         "showlegend": true,
         "type": "scatter",
         "x": [
          2
         ],
         "xaxis": "x",
         "y": [
          2
         ],
         "yaxis": "y"
        },
        {
         "hovertemplate": "<b>%{hovertext}</b><br><br>Team=CommandersCommanders<br>Rec TD=%{x}<br>Rsh TD=%{y}<br>Tot TD=%{marker.size}<extra></extra>",
         "hovertext": [
          "CommandersCommanders"
         ],
         "legendgroup": "CommandersCommanders",
         "marker": {
          "color": "#EF553B",
          "size": [
           9
          ],
          "sizemode": "area",
          "sizeref": 0.003611111111111111,
          "symbol": "circle"
         },
         "mode": "markers",
         "name": "CommandersCommanders",
         "orientation": "v",
         "showlegend": true,
         "type": "scatter",
         "x": [
          7
         ],
         "xaxis": "x",
         "y": [
          2
         ],
         "yaxis": "y"
        },
        {
         "hovertemplate": "<b>%{hovertext}</b><br><br>Team=BillsBills<br>Rec TD=%{x}<br>Rsh TD=%{y}<br>Tot TD=%{marker.size}<extra></extra>",
         "hovertext": [
          "BillsBills"
         ],
         "legendgroup": "BillsBills",
         "marker": {
          "color": "#00cc96",
          "size": [
           11
          ],
          "sizemode": "area",
          "sizeref": 0.003611111111111111,
          "symbol": "circle"
         },
         "mode": "markers",
         "name": "BillsBills",
         "orientation": "v",
         "showlegend": true,
         "type": "scatter",
         "x": [
          9
         ],
         "xaxis": "x",
         "y": [
          1
         ],
         "yaxis": "y"
        },
        {
         "hovertemplate": "<b>%{hovertext}</b><br><br>Team=BroncosBroncos<br>Rec TD=%{x}<br>Rsh TD=%{y}<br>Tot TD=%{marker.size}<extra></extra>",
         "hovertext": [
          "BroncosBroncos"
         ],
         "legendgroup": "BroncosBroncos",
         "marker": {
          "color": "#ab63fa",
          "size": [
           3
          ],
          "sizemode": "area",
          "sizeref": 0.003611111111111111,
          "symbol": "circle"
         },
         "mode": "markers",
         "name": "BroncosBroncos",
         "orientation": "v",
         "showlegend": true,
         "type": "scatter",
         "x": [
          2
         ],
         "xaxis": "x",
         "y": [
          1
         ],
         "yaxis": "y"
        },
        {
         "hovertemplate": "<b>%{hovertext}</b><br><br>Team=TexansTexans<br>Rec TD=%{x}<br>Rsh TD=%{y}<br>Tot TD=%{marker.size}<extra></extra>",
         "hovertext": [
          "TexansTexans"
         ],
         "legendgroup": "TexansTexans",
         "marker": {
          "color": "#FFA15A",
          "size": [
           4
          ],
          "sizemode": "area",
          "sizeref": 0.003611111111111111,
          "symbol": "circle"
         },
         "mode": "markers",
         "name": "TexansTexans",
         "orientation": "v",
         "showlegend": true,
         "type": "scatter",
         "x": [
          3
         ],
         "xaxis": "x",
         "y": [
          1
         ],
         "yaxis": "y"
        },
        {
         "hovertemplate": "<b>%{hovertext}</b><br><br>Team=ColtsColts<br>Rec TD=%{x}<br>Rsh TD=%{y}<br>Tot TD=%{marker.size}<extra></extra>",
         "hovertext": [
          "ColtsColts"
         ],
         "legendgroup": "ColtsColts",
         "marker": {
          "color": "#19d3f3",
          "size": [
           4
          ],
          "sizemode": "area",
          "sizeref": 0.003611111111111111,
          "symbol": "circle"
         },
         "mode": "markers",
         "name": "ColtsColts",
         "orientation": "v",
         "showlegend": true,
         "type": "scatter",
         "x": [
          3
         ],
         "xaxis": "x",
         "y": [
          1
         ],
         "yaxis": "y"
        },
        {
         "hovertemplate": "<b>%{hovertext}</b><br><br>Team=BengalsBengals<br>Rec TD=%{x}<br>Rsh TD=%{y}<br>Tot TD=%{marker.size}<extra></extra>",
         "hovertext": [
          "BengalsBengals"
         ],
         "legendgroup": "BengalsBengals",
         "marker": {
          "color": "#FF6692",
          "size": [
           6
          ],
          "sizemode": "area",
          "sizeref": 0.003611111111111111,
          "symbol": "circle"
         },
         "mode": "markers",
         "name": "BengalsBengals",
         "orientation": "v",
         "showlegend": true,
         "type": "scatter",
         "x": [
          6
         ],
         "xaxis": "x",
         "y": [
          0
         ],
         "yaxis": "y"
        },
        {
         "hovertemplate": "<b>%{hovertext}</b><br><br>Team=RaidersRaiders<br>Rec TD=%{x}<br>Rsh TD=%{y}<br>Tot TD=%{marker.size}<extra></extra>",
         "hovertext": [
          "RaidersRaiders"
         ],
         "legendgroup": "RaidersRaiders",
         "marker": {
          "color": "#B6E880",
          "size": [
           6
          ],
          "sizemode": "area",
          "sizeref": 0.003611111111111111,
          "symbol": "circle"
         },
         "mode": "markers",
         "name": "RaidersRaiders",
         "orientation": "v",
         "showlegend": true,
         "type": "scatter",
         "x": [
          6
         ],
         "xaxis": "x",
         "y": [
          0
         ],
         "yaxis": "y"
        },
        {
         "hovertemplate": "<b>%{hovertext}</b><br><br>Team=JetsJets<br>Rec TD=%{x}<br>Rsh TD=%{y}<br>Tot TD=%{marker.size}<extra></extra>",
         "hovertext": [
          "JetsJets"
         ],
         "legendgroup": "JetsJets",
         "marker": {
          "color": "#FF97FF",
          "size": [
           5
          ],
          "sizemode": "area",
          "sizeref": 0.003611111111111111,
          "symbol": "circle"
         },
         "mode": "markers",
         "name": "JetsJets",
         "orientation": "v",
         "showlegend": true,
         "type": "scatter",
         "x": [
          5
         ],
         "xaxis": "x",
         "y": [
          0
         ],
         "yaxis": "y"
        },
        {
         "hovertemplate": "<b>%{hovertext}</b><br><br>Team=ChargersChargers<br>Rec TD=%{x}<br>Rsh TD=%{y}<br>Tot TD=%{marker.size}<extra></extra>",
         "hovertext": [
          "ChargersChargers"
         ],
         "legendgroup": "ChargersChargers",
         "marker": {
          "color": "#FECB52",
          "size": [
           7
          ],
          "sizemode": "area",
          "sizeref": 0.003611111111111111,
          "symbol": "circle"
         },
         "mode": "markers",
         "name": "ChargersChargers",
         "orientation": "v",
         "showlegend": true,
         "type": "scatter",
         "x": [
          7
         ],
         "xaxis": "x",
         "y": [
          0
         ],
         "yaxis": "y"
        },
        {
         "hovertemplate": "<b>%{hovertext}</b><br><br>Team=SeahawksSeahawks<br>Rec TD=%{x}<br>Rsh TD=%{y}<br>Tot TD=%{marker.size}<extra></extra>",
         "hovertext": [
          "SeahawksSeahawks"
         ],
         "legendgroup": "SeahawksSeahawks",
         "marker": {
          "color": "#636efa",
          "size": [
           5
          ],
          "sizemode": "area",
          "sizeref": 0.003611111111111111,
          "symbol": "circle"
         },
         "mode": "markers",
         "name": "SeahawksSeahawks",
         "orientation": "v",
         "showlegend": true,
         "type": "scatter",
         "x": [
          4
         ],
         "xaxis": "x",
         "y": [
          0
         ],
         "yaxis": "y"
        },
        {
         "hovertemplate": "<b>%{hovertext}</b><br><br>Team=BuccaneersBuccaneers<br>Rec TD=%{x}<br>Rsh TD=%{y}<br>Tot TD=%{marker.size}<extra></extra>",
         "hovertext": [
          "BuccaneersBuccaneers"
         ],
         "legendgroup": "BuccaneersBuccaneers",
         "marker": {
          "color": "#EF553B",
          "size": [
           4
          ],
          "sizemode": "area",
          "sizeref": 0.003611111111111111,
          "symbol": "circle"
         },
         "mode": "markers",
         "name": "BuccaneersBuccaneers",
         "orientation": "v",
         "showlegend": true,
         "type": "scatter",
         "x": [
          3
         ],
         "xaxis": "x",
         "y": [
          0
         ],
         "yaxis": "y"
        }
       ],
       "layout": {
        "legend": {
         "itemsizing": "constant",
         "title": {
          "text": "Team"
         },
         "tracegroupgap": 0
        },
        "margin": {
         "t": 60
        },
        "template": {
         "data": {
          "bar": [
           {
            "error_x": {
             "color": "#2a3f5f"
            },
            "error_y": {
             "color": "#2a3f5f"
            },
            "marker": {
             "line": {
              "color": "#E5ECF6",
              "width": 0.5
             },
             "pattern": {
              "fillmode": "overlay",
              "size": 10,
              "solidity": 0.2
             }
            },
            "type": "bar"
           }
          ],
          "barpolar": [
           {
            "marker": {
             "line": {
              "color": "#E5ECF6",
              "width": 0.5
             },
             "pattern": {
              "fillmode": "overlay",
              "size": 10,
              "solidity": 0.2
             }
            },
            "type": "barpolar"
           }
          ],
          "carpet": [
           {
            "aaxis": {
             "endlinecolor": "#2a3f5f",
             "gridcolor": "white",
             "linecolor": "white",
             "minorgridcolor": "white",
             "startlinecolor": "#2a3f5f"
            },
            "baxis": {
             "endlinecolor": "#2a3f5f",
             "gridcolor": "white",
             "linecolor": "white",
             "minorgridcolor": "white",
             "startlinecolor": "#2a3f5f"
            },
            "type": "carpet"
           }
          ],
          "choropleth": [
           {
            "colorbar": {
             "outlinewidth": 0,
             "ticks": ""
            },
            "type": "choropleth"
           }
          ],
          "contour": [
           {
            "colorbar": {
             "outlinewidth": 0,
             "ticks": ""
            },
            "colorscale": [
             [
              0,
              "#0d0887"
             ],
             [
              0.1111111111111111,
              "#46039f"
             ],
             [
              0.2222222222222222,
              "#7201a8"
             ],
             [
              0.3333333333333333,
              "#9c179e"
             ],
             [
              0.4444444444444444,
              "#bd3786"
             ],
             [
              0.5555555555555556,
              "#d8576b"
             ],
             [
              0.6666666666666666,
              "#ed7953"
             ],
             [
              0.7777777777777778,
              "#fb9f3a"
             ],
             [
              0.8888888888888888,
              "#fdca26"
             ],
             [
              1,
              "#f0f921"
             ]
            ],
            "type": "contour"
           }
          ],
          "contourcarpet": [
           {
            "colorbar": {
             "outlinewidth": 0,
             "ticks": ""
            },
            "type": "contourcarpet"
           }
          ],
          "heatmap": [
           {
            "colorbar": {
             "outlinewidth": 0,
             "ticks": ""
            },
            "colorscale": [
             [
              0,
              "#0d0887"
             ],
             [
              0.1111111111111111,
              "#46039f"
             ],
             [
              0.2222222222222222,
              "#7201a8"
             ],
             [
              0.3333333333333333,
              "#9c179e"
             ],
             [
              0.4444444444444444,
              "#bd3786"
             ],
             [
              0.5555555555555556,
              "#d8576b"
             ],
             [
              0.6666666666666666,
              "#ed7953"
             ],
             [
              0.7777777777777778,
              "#fb9f3a"
             ],
             [
              0.8888888888888888,
              "#fdca26"
             ],
             [
              1,
              "#f0f921"
             ]
            ],
            "type": "heatmap"
           }
          ],
          "heatmapgl": [
           {
            "colorbar": {
             "outlinewidth": 0,
             "ticks": ""
            },
            "colorscale": [
             [
              0,
              "#0d0887"
             ],
             [
              0.1111111111111111,
              "#46039f"
             ],
             [
              0.2222222222222222,
              "#7201a8"
             ],
             [
              0.3333333333333333,
              "#9c179e"
             ],
             [
              0.4444444444444444,
              "#bd3786"
             ],
             [
              0.5555555555555556,
              "#d8576b"
             ],
             [
              0.6666666666666666,
              "#ed7953"
             ],
             [
              0.7777777777777778,
              "#fb9f3a"
             ],
             [
              0.8888888888888888,
              "#fdca26"
             ],
             [
              1,
              "#f0f921"
             ]
            ],
            "type": "heatmapgl"
           }
          ],
          "histogram": [
           {
            "marker": {
             "pattern": {
              "fillmode": "overlay",
              "size": 10,
              "solidity": 0.2
             }
            },
            "type": "histogram"
           }
          ],
          "histogram2d": [
           {
            "colorbar": {
             "outlinewidth": 0,
             "ticks": ""
            },
            "colorscale": [
             [
              0,
              "#0d0887"
             ],
             [
              0.1111111111111111,
              "#46039f"
             ],
             [
              0.2222222222222222,
              "#7201a8"
             ],
             [
              0.3333333333333333,
              "#9c179e"
             ],
             [
              0.4444444444444444,
              "#bd3786"
             ],
             [
              0.5555555555555556,
              "#d8576b"
             ],
             [
              0.6666666666666666,
              "#ed7953"
             ],
             [
              0.7777777777777778,
              "#fb9f3a"
             ],
             [
              0.8888888888888888,
              "#fdca26"
             ],
             [
              1,
              "#f0f921"
             ]
            ],
            "type": "histogram2d"
           }
          ],
          "histogram2dcontour": [
           {
            "colorbar": {
             "outlinewidth": 0,
             "ticks": ""
            },
            "colorscale": [
             [
              0,
              "#0d0887"
             ],
             [
              0.1111111111111111,
              "#46039f"
             ],
             [
              0.2222222222222222,
              "#7201a8"
             ],
             [
              0.3333333333333333,
              "#9c179e"
             ],
             [
              0.4444444444444444,
              "#bd3786"
             ],
             [
              0.5555555555555556,
              "#d8576b"
             ],
             [
              0.6666666666666666,
              "#ed7953"
             ],
             [
              0.7777777777777778,
              "#fb9f3a"
             ],
             [
              0.8888888888888888,
              "#fdca26"
             ],
             [
              1,
              "#f0f921"
             ]
            ],
            "type": "histogram2dcontour"
           }
          ],
          "mesh3d": [
           {
            "colorbar": {
             "outlinewidth": 0,
             "ticks": ""
            },
            "type": "mesh3d"
           }
          ],
          "parcoords": [
           {
            "line": {
             "colorbar": {
              "outlinewidth": 0,
              "ticks": ""
             }
            },
            "type": "parcoords"
           }
          ],
          "pie": [
           {
            "automargin": true,
            "type": "pie"
           }
          ],
          "scatter": [
           {
            "fillpattern": {
             "fillmode": "overlay",
             "size": 10,
             "solidity": 0.2
            },
            "type": "scatter"
           }
          ],
          "scatter3d": [
           {
            "line": {
             "colorbar": {
              "outlinewidth": 0,
              "ticks": ""
             }
            },
            "marker": {
             "colorbar": {
              "outlinewidth": 0,
              "ticks": ""
             }
            },
            "type": "scatter3d"
           }
          ],
          "scattercarpet": [
           {
            "marker": {
             "colorbar": {
              "outlinewidth": 0,
              "ticks": ""
             }
            },
            "type": "scattercarpet"
           }
          ],
          "scattergeo": [
           {
            "marker": {
             "colorbar": {
              "outlinewidth": 0,
              "ticks": ""
             }
            },
            "type": "scattergeo"
           }
          ],
          "scattergl": [
           {
            "marker": {
             "colorbar": {
              "outlinewidth": 0,
              "ticks": ""
             }
            },
            "type": "scattergl"
           }
          ],
          "scattermapbox": [
           {
            "marker": {
             "colorbar": {
              "outlinewidth": 0,
              "ticks": ""
             }
            },
            "type": "scattermapbox"
           }
          ],
          "scatterpolar": [
           {
            "marker": {
             "colorbar": {
              "outlinewidth": 0,
              "ticks": ""
             }
            },
            "type": "scatterpolar"
           }
          ],
          "scatterpolargl": [
           {
            "marker": {
             "colorbar": {
              "outlinewidth": 0,
              "ticks": ""
             }
            },
            "type": "scatterpolargl"
           }
          ],
          "scatterternary": [
           {
            "marker": {
             "colorbar": {
              "outlinewidth": 0,
              "ticks": ""
             }
            },
            "type": "scatterternary"
           }
          ],
          "surface": [
           {
            "colorbar": {
             "outlinewidth": 0,
             "ticks": ""
            },
            "colorscale": [
             [
              0,
              "#0d0887"
             ],
             [
              0.1111111111111111,
              "#46039f"
             ],
             [
              0.2222222222222222,
              "#7201a8"
             ],
             [
              0.3333333333333333,
              "#9c179e"
             ],
             [
              0.4444444444444444,
              "#bd3786"
             ],
             [
              0.5555555555555556,
              "#d8576b"
             ],
             [
              0.6666666666666666,
              "#ed7953"
             ],
             [
              0.7777777777777778,
              "#fb9f3a"
             ],
             [
              0.8888888888888888,
              "#fdca26"
             ],
             [
              1,
              "#f0f921"
             ]
            ],
            "type": "surface"
           }
          ],
          "table": [
           {
            "cells": {
             "fill": {
              "color": "#EBF0F8"
             },
             "line": {
              "color": "white"
             }
            },
            "header": {
             "fill": {
              "color": "#C8D4E3"
             },
             "line": {
              "color": "white"
             }
            },
            "type": "table"
           }
          ]
         },
         "layout": {
          "annotationdefaults": {
           "arrowcolor": "#2a3f5f",
           "arrowhead": 0,
           "arrowwidth": 1
          },
          "autotypenumbers": "strict",
          "coloraxis": {
           "colorbar": {
            "outlinewidth": 0,
            "ticks": ""
           }
          },
          "colorscale": {
           "diverging": [
            [
             0,
             "#8e0152"
            ],
            [
             0.1,
             "#c51b7d"
            ],
            [
             0.2,
             "#de77ae"
            ],
            [
             0.3,
             "#f1b6da"
            ],
            [
             0.4,
             "#fde0ef"
            ],
            [
             0.5,
             "#f7f7f7"
            ],
            [
             0.6,
             "#e6f5d0"
            ],
            [
             0.7,
             "#b8e186"
            ],
            [
             0.8,
             "#7fbc41"
            ],
            [
             0.9,
             "#4d9221"
            ],
            [
             1,
             "#276419"
            ]
           ],
           "sequential": [
            [
             0,
             "#0d0887"
            ],
            [
             0.1111111111111111,
             "#46039f"
            ],
            [
             0.2222222222222222,
             "#7201a8"
            ],
            [
             0.3333333333333333,
             "#9c179e"
            ],
            [
             0.4444444444444444,
             "#bd3786"
            ],
            [
             0.5555555555555556,
             "#d8576b"
            ],
            [
             0.6666666666666666,
             "#ed7953"
            ],
            [
             0.7777777777777778,
             "#fb9f3a"
            ],
            [
             0.8888888888888888,
             "#fdca26"
            ],
            [
             1,
             "#f0f921"
            ]
           ],
           "sequentialminus": [
            [
             0,
             "#0d0887"
            ],
            [
             0.1111111111111111,
             "#46039f"
            ],
            [
             0.2222222222222222,
             "#7201a8"
            ],
            [
             0.3333333333333333,
             "#9c179e"
            ],
            [
             0.4444444444444444,
             "#bd3786"
            ],
            [
             0.5555555555555556,
             "#d8576b"
            ],
            [
             0.6666666666666666,
             "#ed7953"
            ],
            [
             0.7777777777777778,
             "#fb9f3a"
            ],
            [
             0.8888888888888888,
             "#fdca26"
            ],
            [
             1,
             "#f0f921"
            ]
           ]
          },
          "colorway": [
           "#636efa",
           "#EF553B",
           "#00cc96",
           "#ab63fa",
           "#FFA15A",
           "#19d3f3",
           "#FF6692",
           "#B6E880",
           "#FF97FF",
           "#FECB52"
          ],
          "font": {
           "color": "#2a3f5f"
          },
          "geo": {
           "bgcolor": "white",
           "lakecolor": "white",
           "landcolor": "#E5ECF6",
           "showlakes": true,
           "showland": true,
           "subunitcolor": "white"
          },
          "hoverlabel": {
           "align": "left"
          },
          "hovermode": "closest",
          "mapbox": {
           "style": "light"
          },
          "paper_bgcolor": "white",
          "plot_bgcolor": "#E5ECF6",
          "polar": {
           "angularaxis": {
            "gridcolor": "white",
            "linecolor": "white",
            "ticks": ""
           },
           "bgcolor": "#E5ECF6",
           "radialaxis": {
            "gridcolor": "white",
            "linecolor": "white",
            "ticks": ""
           }
          },
          "scene": {
           "xaxis": {
            "backgroundcolor": "#E5ECF6",
            "gridcolor": "white",
            "gridwidth": 2,
            "linecolor": "white",
            "showbackground": true,
            "ticks": "",
            "zerolinecolor": "white"
           },
           "yaxis": {
            "backgroundcolor": "#E5ECF6",
            "gridcolor": "white",
            "gridwidth": 2,
            "linecolor": "white",
            "showbackground": true,
            "ticks": "",
            "zerolinecolor": "white"
           },
           "zaxis": {
            "backgroundcolor": "#E5ECF6",
            "gridcolor": "white",
            "gridwidth": 2,
            "linecolor": "white",
            "showbackground": true,
            "ticks": "",
            "zerolinecolor": "white"
           }
          },
          "shapedefaults": {
           "line": {
            "color": "#2a3f5f"
           }
          },
          "ternary": {
           "aaxis": {
            "gridcolor": "white",
            "linecolor": "white",
            "ticks": ""
           },
           "baxis": {
            "gridcolor": "white",
            "linecolor": "white",
            "ticks": ""
           },
           "bgcolor": "#E5ECF6",
           "caxis": {
            "gridcolor": "white",
            "linecolor": "white",
            "ticks": ""
           }
          },
          "title": {
           "x": 0.05
          },
          "xaxis": {
           "automargin": true,
           "gridcolor": "white",
           "linecolor": "white",
           "ticks": "",
           "title": {
            "standoff": 15
           },
           "zerolinecolor": "white",
           "zerolinewidth": 2
          },
          "yaxis": {
           "automargin": true,
           "gridcolor": "white",
           "linecolor": "white",
           "ticks": "",
           "title": {
            "standoff": 15
           },
           "zerolinecolor": "white",
           "zerolinewidth": 2
          }
         }
        },
        "xaxis": {
         "anchor": "y",
         "domain": [
          0,
          1
         ],
         "title": {
          "text": "Rec TD"
         }
        },
        "yaxis": {
         "anchor": "x",
         "domain": [
          0,
          1
         ],
         "title": {
          "text": "Rsh TD"
         }
        }
       }
      }
     },
     "metadata": {},
     "output_type": "display_data"
    }
   ],
   "source": [
    "px.scatter(scoring_df, x='Rec TD', y='Rsh TD', color='Team', size='Tot TD', hover_name='Team', size_max=60)"
   ]
  },
  {
   "cell_type": "code",
   "execution_count": 32,
   "metadata": {},
   "outputs": [
    {
     "data": {
      "application/vnd.plotly.v1+json": {
       "config": {
        "plotlyServerURL": "https://plot.ly"
       },
       "data": [
        {
         "branchvalues": "total",
         "customdata": [
          [
           81,
           2
          ],
          [
           45,
           2
          ],
          [
           125,
           6
          ],
          [
           134,
           9
          ],
          [
           106,
           2
          ],
          [
           92,
           4
          ],
          [
           103,
           3
          ],
          [
           145,
           3
          ],
          [
           127,
           7
          ],
          [
           110,
           8
          ],
          [
           117,
           3
          ],
          [
           130,
           7
          ],
          [
           104,
           2
          ],
          [
           103,
           8
          ],
          [
           98,
           4
          ],
          [
           79,
           3
          ],
          [
           92,
           3
          ],
          [
           111,
           6
          ],
          [
           156,
           5
          ],
          [
           112,
           7
          ],
          [
           99,
           4
          ],
          [
           81,
           3
          ],
          [
           97,
           2
          ],
          [
           121,
           6
          ],
          [
           102,
           4
          ],
          [
           88,
           10
          ],
          [
           115,
           4
          ],
          [
           103,
           4
          ],
          [
           103,
           2
          ],
          [
           107,
           3
          ],
          [
           84,
           3
          ],
          [
           119,
           5
          ]
         ],
         "domain": {
          "x": [
           0,
           1
          ],
          "y": [
           0,
           1
          ]
         },
         "hovertemplate": "labels=%{label}<br>Pass Yds=%{value}<br>parent=%{parent}<br>id=%{id}<br>Att=%{customdata[0]}<br>TD=%{color}<extra></extra>",
         "ids": [
          "49ers49ers",
          "BearsBears",
          "BengalsBengals",
          "BillsBills",
          "BroncosBroncos",
          "BrownsBrowns",
          "BuccaneersBuccaneers",
          "CardinalsCardinals",
          "ChargersChargers",
          "ChiefsChiefs",
          "ColtsColts",
          "CommandersCommanders",
          "CowboysCowboys",
          "DolphinsDolphins",
          "EaglesEagles",
          "FalconsFalcons",
          "GiantsGiants",
          "JaguarsJaguars",
          "JetsJets",
          "LionsLions",
          "PackersPackers",
          "PanthersPanthers",
          "PatriotsPatriots",
          "RaidersRaiders",
          "RamsRams",
          "RavensRavens",
          "SaintsSaints",
          "SeahawksSeahawks",
          "SteelersSteelers",
          "TexansTexans",
          "TitansTitans",
          "VikingsVikings"
         ],
         "labels": [
          "49ers49ers",
          "BearsBears",
          "BengalsBengals",
          "BillsBills",
          "BroncosBroncos",
          "BrownsBrowns",
          "BuccaneersBuccaneers",
          "CardinalsCardinals",
          "ChargersChargers",
          "ChiefsChiefs",
          "ColtsColts",
          "CommandersCommanders",
          "CowboysCowboys",
          "DolphinsDolphins",
          "EaglesEagles",
          "FalconsFalcons",
          "GiantsGiants",
          "JaguarsJaguars",
          "JetsJets",
          "LionsLions",
          "PackersPackers",
          "PanthersPanthers",
          "PatriotsPatriots",
          "RaidersRaiders",
          "RamsRams",
          "RavensRavens",
          "SaintsSaints",
          "SeahawksSeahawks",
          "SteelersSteelers",
          "TexansTexans",
          "TitansTitans",
          "VikingsVikings"
         ],
         "marker": {
          "coloraxis": "coloraxis",
          "colors": [
           2,
           2,
           6,
           9,
           2,
           4,
           3,
           3,
           7,
           8,
           3,
           7,
           2,
           8,
           4,
           3,
           3,
           6,
           5,
           7,
           4,
           3,
           2,
           6,
           4,
           10,
           4,
           4,
           2,
           3,
           3,
           5
          ]
         },
         "name": "",
         "parents": [
          "",
          "",
          "",
          "",
          "",
          "",
          "",
          "",
          "",
          "",
          "",
          "",
          "",
          "",
          "",
          "",
          "",
          "",
          "",
          "",
          "",
          "",
          "",
          "",
          "",
          "",
          "",
          "",
          "",
          "",
          "",
          ""
         ],
         "type": "treemap",
         "values": [
          559,
          297,
          812,
          1014,
          743,
          596,
          673,
          796,
          910,
          857,
          769,
          861,
          648,
          925,
          916,
          640,
          560,
          772,
          918,
          748,
          749,
          550,
          786,
          854,
          761,
          749,
          858,
          717,
          569,
          662,
          653,
          758
         ]
        }
       ],
       "layout": {
        "coloraxis": {
         "colorbar": {
          "title": {
           "text": "TD"
          }
         },
         "colorscale": [
          [
           0,
           "#0d0887"
          ],
          [
           0.1111111111111111,
           "#46039f"
          ],
          [
           0.2222222222222222,
           "#7201a8"
          ],
          [
           0.3333333333333333,
           "#9c179e"
          ],
          [
           0.4444444444444444,
           "#bd3786"
          ],
          [
           0.5555555555555556,
           "#d8576b"
          ],
          [
           0.6666666666666666,
           "#ed7953"
          ],
          [
           0.7777777777777778,
           "#fb9f3a"
          ],
          [
           0.8888888888888888,
           "#fdca26"
          ],
          [
           1,
           "#f0f921"
          ]
         ]
        },
        "legend": {
         "tracegroupgap": 0
        },
        "margin": {
         "t": 60
        },
        "template": {
         "data": {
          "bar": [
           {
            "error_x": {
             "color": "#2a3f5f"
            },
            "error_y": {
             "color": "#2a3f5f"
            },
            "marker": {
             "line": {
              "color": "#E5ECF6",
              "width": 0.5
             },
             "pattern": {
              "fillmode": "overlay",
              "size": 10,
              "solidity": 0.2
             }
            },
            "type": "bar"
           }
          ],
          "barpolar": [
           {
            "marker": {
             "line": {
              "color": "#E5ECF6",
              "width": 0.5
             },
             "pattern": {
              "fillmode": "overlay",
              "size": 10,
              "solidity": 0.2
             }
            },
            "type": "barpolar"
           }
          ],
          "carpet": [
           {
            "aaxis": {
             "endlinecolor": "#2a3f5f",
             "gridcolor": "white",
             "linecolor": "white",
             "minorgridcolor": "white",
             "startlinecolor": "#2a3f5f"
            },
            "baxis": {
             "endlinecolor": "#2a3f5f",
             "gridcolor": "white",
             "linecolor": "white",
             "minorgridcolor": "white",
             "startlinecolor": "#2a3f5f"
            },
            "type": "carpet"
           }
          ],
          "choropleth": [
           {
            "colorbar": {
             "outlinewidth": 0,
             "ticks": ""
            },
            "type": "choropleth"
           }
          ],
          "contour": [
           {
            "colorbar": {
             "outlinewidth": 0,
             "ticks": ""
            },
            "colorscale": [
             [
              0,
              "#0d0887"
             ],
             [
              0.1111111111111111,
              "#46039f"
             ],
             [
              0.2222222222222222,
              "#7201a8"
             ],
             [
              0.3333333333333333,
              "#9c179e"
             ],
             [
              0.4444444444444444,
              "#bd3786"
             ],
             [
              0.5555555555555556,
              "#d8576b"
             ],
             [
              0.6666666666666666,
              "#ed7953"
             ],
             [
              0.7777777777777778,
              "#fb9f3a"
             ],
             [
              0.8888888888888888,
              "#fdca26"
             ],
             [
              1,
              "#f0f921"
             ]
            ],
            "type": "contour"
           }
          ],
          "contourcarpet": [
           {
            "colorbar": {
             "outlinewidth": 0,
             "ticks": ""
            },
            "type": "contourcarpet"
           }
          ],
          "heatmap": [
           {
            "colorbar": {
             "outlinewidth": 0,
             "ticks": ""
            },
            "colorscale": [
             [
              0,
              "#0d0887"
             ],
             [
              0.1111111111111111,
              "#46039f"
             ],
             [
              0.2222222222222222,
              "#7201a8"
             ],
             [
              0.3333333333333333,
              "#9c179e"
             ],
             [
              0.4444444444444444,
              "#bd3786"
             ],
             [
              0.5555555555555556,
              "#d8576b"
             ],
             [
              0.6666666666666666,
              "#ed7953"
             ],
             [
              0.7777777777777778,
              "#fb9f3a"
             ],
             [
              0.8888888888888888,
              "#fdca26"
             ],
             [
              1,
              "#f0f921"
             ]
            ],
            "type": "heatmap"
           }
          ],
          "heatmapgl": [
           {
            "colorbar": {
             "outlinewidth": 0,
             "ticks": ""
            },
            "colorscale": [
             [
              0,
              "#0d0887"
             ],
             [
              0.1111111111111111,
              "#46039f"
             ],
             [
              0.2222222222222222,
              "#7201a8"
             ],
             [
              0.3333333333333333,
              "#9c179e"
             ],
             [
              0.4444444444444444,
              "#bd3786"
             ],
             [
              0.5555555555555556,
              "#d8576b"
             ],
             [
              0.6666666666666666,
              "#ed7953"
             ],
             [
              0.7777777777777778,
              "#fb9f3a"
             ],
             [
              0.8888888888888888,
              "#fdca26"
             ],
             [
              1,
              "#f0f921"
             ]
            ],
            "type": "heatmapgl"
           }
          ],
          "histogram": [
           {
            "marker": {
             "pattern": {
              "fillmode": "overlay",
              "size": 10,
              "solidity": 0.2
             }
            },
            "type": "histogram"
           }
          ],
          "histogram2d": [
           {
            "colorbar": {
             "outlinewidth": 0,
             "ticks": ""
            },
            "colorscale": [
             [
              0,
              "#0d0887"
             ],
             [
              0.1111111111111111,
              "#46039f"
             ],
             [
              0.2222222222222222,
              "#7201a8"
             ],
             [
              0.3333333333333333,
              "#9c179e"
             ],
             [
              0.4444444444444444,
              "#bd3786"
             ],
             [
              0.5555555555555556,
              "#d8576b"
             ],
             [
              0.6666666666666666,
              "#ed7953"
             ],
             [
              0.7777777777777778,
              "#fb9f3a"
             ],
             [
              0.8888888888888888,
              "#fdca26"
             ],
             [
              1,
              "#f0f921"
             ]
            ],
            "type": "histogram2d"
           }
          ],
          "histogram2dcontour": [
           {
            "colorbar": {
             "outlinewidth": 0,
             "ticks": ""
            },
            "colorscale": [
             [
              0,
              "#0d0887"
             ],
             [
              0.1111111111111111,
              "#46039f"
             ],
             [
              0.2222222222222222,
              "#7201a8"
             ],
             [
              0.3333333333333333,
              "#9c179e"
             ],
             [
              0.4444444444444444,
              "#bd3786"
             ],
             [
              0.5555555555555556,
              "#d8576b"
             ],
             [
              0.6666666666666666,
              "#ed7953"
             ],
             [
              0.7777777777777778,
              "#fb9f3a"
             ],
             [
              0.8888888888888888,
              "#fdca26"
             ],
             [
              1,
              "#f0f921"
             ]
            ],
            "type": "histogram2dcontour"
           }
          ],
          "mesh3d": [
           {
            "colorbar": {
             "outlinewidth": 0,
             "ticks": ""
            },
            "type": "mesh3d"
           }
          ],
          "parcoords": [
           {
            "line": {
             "colorbar": {
              "outlinewidth": 0,
              "ticks": ""
             }
            },
            "type": "parcoords"
           }
          ],
          "pie": [
           {
            "automargin": true,
            "type": "pie"
           }
          ],
          "scatter": [
           {
            "fillpattern": {
             "fillmode": "overlay",
             "size": 10,
             "solidity": 0.2
            },
            "type": "scatter"
           }
          ],
          "scatter3d": [
           {
            "line": {
             "colorbar": {
              "outlinewidth": 0,
              "ticks": ""
             }
            },
            "marker": {
             "colorbar": {
              "outlinewidth": 0,
              "ticks": ""
             }
            },
            "type": "scatter3d"
           }
          ],
          "scattercarpet": [
           {
            "marker": {
             "colorbar": {
              "outlinewidth": 0,
              "ticks": ""
             }
            },
            "type": "scattercarpet"
           }
          ],
          "scattergeo": [
           {
            "marker": {
             "colorbar": {
              "outlinewidth": 0,
              "ticks": ""
             }
            },
            "type": "scattergeo"
           }
          ],
          "scattergl": [
           {
            "marker": {
             "colorbar": {
              "outlinewidth": 0,
              "ticks": ""
             }
            },
            "type": "scattergl"
           }
          ],
          "scattermapbox": [
           {
            "marker": {
             "colorbar": {
              "outlinewidth": 0,
              "ticks": ""
             }
            },
            "type": "scattermapbox"
           }
          ],
          "scatterpolar": [
           {
            "marker": {
             "colorbar": {
              "outlinewidth": 0,
              "ticks": ""
             }
            },
            "type": "scatterpolar"
           }
          ],
          "scatterpolargl": [
           {
            "marker": {
             "colorbar": {
              "outlinewidth": 0,
              "ticks": ""
             }
            },
            "type": "scatterpolargl"
           }
          ],
          "scatterternary": [
           {
            "marker": {
             "colorbar": {
              "outlinewidth": 0,
              "ticks": ""
             }
            },
            "type": "scatterternary"
           }
          ],
          "surface": [
           {
            "colorbar": {
             "outlinewidth": 0,
             "ticks": ""
            },
            "colorscale": [
             [
              0,
              "#0d0887"
             ],
             [
              0.1111111111111111,
              "#46039f"
             ],
             [
              0.2222222222222222,
              "#7201a8"
             ],
             [
              0.3333333333333333,
              "#9c179e"
             ],
             [
              0.4444444444444444,
              "#bd3786"
             ],
             [
              0.5555555555555556,
              "#d8576b"
             ],
             [
              0.6666666666666666,
              "#ed7953"
             ],
             [
              0.7777777777777778,
              "#fb9f3a"
             ],
             [
              0.8888888888888888,
              "#fdca26"
             ],
             [
              1,
              "#f0f921"
             ]
            ],
            "type": "surface"
           }
          ],
          "table": [
           {
            "cells": {
             "fill": {
              "color": "#EBF0F8"
             },
             "line": {
              "color": "white"
             }
            },
            "header": {
             "fill": {
              "color": "#C8D4E3"
             },
             "line": {
              "color": "white"
             }
            },
            "type": "table"
           }
          ]
         },
         "layout": {
          "annotationdefaults": {
           "arrowcolor": "#2a3f5f",
           "arrowhead": 0,
           "arrowwidth": 1
          },
          "autotypenumbers": "strict",
          "coloraxis": {
           "colorbar": {
            "outlinewidth": 0,
            "ticks": ""
           }
          },
          "colorscale": {
           "diverging": [
            [
             0,
             "#8e0152"
            ],
            [
             0.1,
             "#c51b7d"
            ],
            [
             0.2,
             "#de77ae"
            ],
            [
             0.3,
             "#f1b6da"
            ],
            [
             0.4,
             "#fde0ef"
            ],
            [
             0.5,
             "#f7f7f7"
            ],
            [
             0.6,
             "#e6f5d0"
            ],
            [
             0.7,
             "#b8e186"
            ],
            [
             0.8,
             "#7fbc41"
            ],
            [
             0.9,
             "#4d9221"
            ],
            [
             1,
             "#276419"
            ]
           ],
           "sequential": [
            [
             0,
             "#0d0887"
            ],
            [
             0.1111111111111111,
             "#46039f"
            ],
            [
             0.2222222222222222,
             "#7201a8"
            ],
            [
             0.3333333333333333,
             "#9c179e"
            ],
            [
             0.4444444444444444,
             "#bd3786"
            ],
            [
             0.5555555555555556,
             "#d8576b"
            ],
            [
             0.6666666666666666,
             "#ed7953"
            ],
            [
             0.7777777777777778,
             "#fb9f3a"
            ],
            [
             0.8888888888888888,
             "#fdca26"
            ],
            [
             1,
             "#f0f921"
            ]
           ],
           "sequentialminus": [
            [
             0,
             "#0d0887"
            ],
            [
             0.1111111111111111,
             "#46039f"
            ],
            [
             0.2222222222222222,
             "#7201a8"
            ],
            [
             0.3333333333333333,
             "#9c179e"
            ],
            [
             0.4444444444444444,
             "#bd3786"
            ],
            [
             0.5555555555555556,
             "#d8576b"
            ],
            [
             0.6666666666666666,
             "#ed7953"
            ],
            [
             0.7777777777777778,
             "#fb9f3a"
            ],
            [
             0.8888888888888888,
             "#fdca26"
            ],
            [
             1,
             "#f0f921"
            ]
           ]
          },
          "colorway": [
           "#636efa",
           "#EF553B",
           "#00cc96",
           "#ab63fa",
           "#FFA15A",
           "#19d3f3",
           "#FF6692",
           "#B6E880",
           "#FF97FF",
           "#FECB52"
          ],
          "font": {
           "color": "#2a3f5f"
          },
          "geo": {
           "bgcolor": "white",
           "lakecolor": "white",
           "landcolor": "#E5ECF6",
           "showlakes": true,
           "showland": true,
           "subunitcolor": "white"
          },
          "hoverlabel": {
           "align": "left"
          },
          "hovermode": "closest",
          "mapbox": {
           "style": "light"
          },
          "paper_bgcolor": "white",
          "plot_bgcolor": "#E5ECF6",
          "polar": {
           "angularaxis": {
            "gridcolor": "white",
            "linecolor": "white",
            "ticks": ""
           },
           "bgcolor": "#E5ECF6",
           "radialaxis": {
            "gridcolor": "white",
            "linecolor": "white",
            "ticks": ""
           }
          },
          "scene": {
           "xaxis": {
            "backgroundcolor": "#E5ECF6",
            "gridcolor": "white",
            "gridwidth": 2,
            "linecolor": "white",
            "showbackground": true,
            "ticks": "",
            "zerolinecolor": "white"
           },
           "yaxis": {
            "backgroundcolor": "#E5ECF6",
            "gridcolor": "white",
            "gridwidth": 2,
            "linecolor": "white",
            "showbackground": true,
            "ticks": "",
            "zerolinecolor": "white"
           },
           "zaxis": {
            "backgroundcolor": "#E5ECF6",
            "gridcolor": "white",
            "gridwidth": 2,
            "linecolor": "white",
            "showbackground": true,
            "ticks": "",
            "zerolinecolor": "white"
           }
          },
          "shapedefaults": {
           "line": {
            "color": "#2a3f5f"
           }
          },
          "ternary": {
           "aaxis": {
            "gridcolor": "white",
            "linecolor": "white",
            "ticks": ""
           },
           "baxis": {
            "gridcolor": "white",
            "linecolor": "white",
            "ticks": ""
           },
           "bgcolor": "#E5ECF6",
           "caxis": {
            "gridcolor": "white",
            "linecolor": "white",
            "ticks": ""
           }
          },
          "title": {
           "x": 0.05
          },
          "xaxis": {
           "automargin": true,
           "gridcolor": "white",
           "linecolor": "white",
           "ticks": "",
           "title": {
            "standoff": 15
           },
           "zerolinecolor": "white",
           "zerolinewidth": 2
          },
          "yaxis": {
           "automargin": true,
           "gridcolor": "white",
           "linecolor": "white",
           "ticks": "",
           "title": {
            "standoff": 15
           },
           "zerolinecolor": "white",
           "zerolinewidth": 2
          }
         }
        }
       }
      }
     },
     "metadata": {},
     "output_type": "display_data"
    }
   ],
   "source": [
    "px.treemap(passing_df, path=['Team'], values='Pass Yds', color='TD', hover_data=['Att'])"
   ]
  },
  {
   "cell_type": "code",
   "execution_count": 33,
   "metadata": {},
   "outputs": [
    {
     "data": {
      "application/vnd.plotly.v1+json": {
       "config": {
        "plotlyServerURL": "https://plot.ly"
       },
       "data": [
        {
         "branchvalues": "total",
         "customdata": [
          [
           46,
           2
          ],
          [
           23,
           2
          ],
          [
           80,
           6
          ],
          [
           94,
           9
          ],
          [
           63,
           2
          ],
          [
           61,
           4
          ],
          [
           67,
           3
          ],
          [
           92,
           3
          ],
          [
           84,
           7
          ],
          [
           74,
           8
          ],
          [
           75,
           3
          ],
          [
           82,
           7
          ],
          [
           61,
           2
          ],
          [
           72,
           8
          ],
          [
           66,
           4
          ],
          [
           50,
           3
          ],
          [
           59,
           3
          ],
          [
           77,
           6
          ],
          [
           92,
           5
          ],
          [
           66,
           7
          ],
          [
           72,
           4
          ],
          [
           42,
           3
          ],
          [
           64,
           2
          ],
          [
           74,
           6
          ],
          [
           74,
           4
          ],
          [
           56,
           10
          ],
          [
           73,
           4
          ],
          [
           79,
           4
          ],
          [
           62,
           2
          ],
          [
           62,
           3
          ],
          [
           51,
           3
          ],
          [
           74,
           5
          ]
         ],
         "domain": {
          "x": [
           0,
           1
          ],
          "y": [
           0,
           1
          ]
         },
         "hovertemplate": "labels=%{label}<br>Yds=%{value}<br>parent=%{parent}<br>id=%{id}<br>Rec=%{customdata[0]}<br>TD=%{color}<extra></extra>",
         "ids": [
          "49ers49ers",
          "BearsBears",
          "BengalsBengals",
          "BillsBills",
          "BroncosBroncos",
          "BrownsBrowns",
          "BuccaneersBuccaneers",
          "CardinalsCardinals",
          "ChargersChargers",
          "ChiefsChiefs",
          "ColtsColts",
          "CommandersCommanders",
          "CowboysCowboys",
          "DolphinsDolphins",
          "EaglesEagles",
          "FalconsFalcons",
          "GiantsGiants",
          "JaguarsJaguars",
          "JetsJets",
          "LionsLions",
          "PackersPackers",
          "PanthersPanthers",
          "PatriotsPatriots",
          "RaidersRaiders",
          "RamsRams",
          "RavensRavens",
          "SaintsSaints",
          "SeahawksSeahawks",
          "SteelersSteelers",
          "TexansTexans",
          "TitansTitans",
          "VikingsVikings"
         ],
         "labels": [
          "49ers49ers",
          "BearsBears",
          "BengalsBengals",
          "BillsBills",
          "BroncosBroncos",
          "BrownsBrowns",
          "BuccaneersBuccaneers",
          "CardinalsCardinals",
          "ChargersChargers",
          "ChiefsChiefs",
          "ColtsColts",
          "CommandersCommanders",
          "CowboysCowboys",
          "DolphinsDolphins",
          "EaglesEagles",
          "FalconsFalcons",
          "GiantsGiants",
          "JaguarsJaguars",
          "JetsJets",
          "LionsLions",
          "PackersPackers",
          "PanthersPanthers",
          "PatriotsPatriots",
          "RaidersRaiders",
          "RamsRams",
          "RavensRavens",
          "SaintsSaints",
          "SeahawksSeahawks",
          "SteelersSteelers",
          "TexansTexans",
          "TitansTitans",
          "VikingsVikings"
         ],
         "marker": {
          "coloraxis": "coloraxis",
          "colors": [
           2,
           2,
           6,
           9,
           2,
           4,
           3,
           3,
           7,
           8,
           3,
           7,
           2,
           8,
           4,
           3,
           3,
           6,
           5,
           7,
           4,
           3,
           2,
           6,
           4,
           10,
           4,
           4,
           2,
           3,
           3,
           5
          ]
         },
         "name": "",
         "parents": [
          "",
          "",
          "",
          "",
          "",
          "",
          "",
          "",
          "",
          "",
          "",
          "",
          "",
          "",
          "",
          "",
          "",
          "",
          "",
          "",
          "",
          "",
          "",
          "",
          "",
          "",
          "",
          "",
          "",
          "",
          "",
          ""
         ],
         "type": "treemap",
         "values": [
          559,
          297,
          812,
          1014,
          743,
          596,
          673,
          796,
          910,
          857,
          769,
          861,
          648,
          925,
          916,
          640,
          560,
          772,
          918,
          748,
          749,
          550,
          786,
          854,
          761,
          749,
          858,
          717,
          569,
          662,
          653,
          758
         ]
        }
       ],
       "layout": {
        "coloraxis": {
         "colorbar": {
          "title": {
           "text": "TD"
          }
         },
         "colorscale": [
          [
           0,
           "#0d0887"
          ],
          [
           0.1111111111111111,
           "#46039f"
          ],
          [
           0.2222222222222222,
           "#7201a8"
          ],
          [
           0.3333333333333333,
           "#9c179e"
          ],
          [
           0.4444444444444444,
           "#bd3786"
          ],
          [
           0.5555555555555556,
           "#d8576b"
          ],
          [
           0.6666666666666666,
           "#ed7953"
          ],
          [
           0.7777777777777778,
           "#fb9f3a"
          ],
          [
           0.8888888888888888,
           "#fdca26"
          ],
          [
           1,
           "#f0f921"
          ]
         ]
        },
        "legend": {
         "tracegroupgap": 0
        },
        "margin": {
         "t": 60
        },
        "template": {
         "data": {
          "bar": [
           {
            "error_x": {
             "color": "#2a3f5f"
            },
            "error_y": {
             "color": "#2a3f5f"
            },
            "marker": {
             "line": {
              "color": "#E5ECF6",
              "width": 0.5
             },
             "pattern": {
              "fillmode": "overlay",
              "size": 10,
              "solidity": 0.2
             }
            },
            "type": "bar"
           }
          ],
          "barpolar": [
           {
            "marker": {
             "line": {
              "color": "#E5ECF6",
              "width": 0.5
             },
             "pattern": {
              "fillmode": "overlay",
              "size": 10,
              "solidity": 0.2
             }
            },
            "type": "barpolar"
           }
          ],
          "carpet": [
           {
            "aaxis": {
             "endlinecolor": "#2a3f5f",
             "gridcolor": "white",
             "linecolor": "white",
             "minorgridcolor": "white",
             "startlinecolor": "#2a3f5f"
            },
            "baxis": {
             "endlinecolor": "#2a3f5f",
             "gridcolor": "white",
             "linecolor": "white",
             "minorgridcolor": "white",
             "startlinecolor": "#2a3f5f"
            },
            "type": "carpet"
           }
          ],
          "choropleth": [
           {
            "colorbar": {
             "outlinewidth": 0,
             "ticks": ""
            },
            "type": "choropleth"
           }
          ],
          "contour": [
           {
            "colorbar": {
             "outlinewidth": 0,
             "ticks": ""
            },
            "colorscale": [
             [
              0,
              "#0d0887"
             ],
             [
              0.1111111111111111,
              "#46039f"
             ],
             [
              0.2222222222222222,
              "#7201a8"
             ],
             [
              0.3333333333333333,
              "#9c179e"
             ],
             [
              0.4444444444444444,
              "#bd3786"
             ],
             [
              0.5555555555555556,
              "#d8576b"
             ],
             [
              0.6666666666666666,
              "#ed7953"
             ],
             [
              0.7777777777777778,
              "#fb9f3a"
             ],
             [
              0.8888888888888888,
              "#fdca26"
             ],
             [
              1,
              "#f0f921"
             ]
            ],
            "type": "contour"
           }
          ],
          "contourcarpet": [
           {
            "colorbar": {
             "outlinewidth": 0,
             "ticks": ""
            },
            "type": "contourcarpet"
           }
          ],
          "heatmap": [
           {
            "colorbar": {
             "outlinewidth": 0,
             "ticks": ""
            },
            "colorscale": [
             [
              0,
              "#0d0887"
             ],
             [
              0.1111111111111111,
              "#46039f"
             ],
             [
              0.2222222222222222,
              "#7201a8"
             ],
             [
              0.3333333333333333,
              "#9c179e"
             ],
             [
              0.4444444444444444,
              "#bd3786"
             ],
             [
              0.5555555555555556,
              "#d8576b"
             ],
             [
              0.6666666666666666,
              "#ed7953"
             ],
             [
              0.7777777777777778,
              "#fb9f3a"
             ],
             [
              0.8888888888888888,
              "#fdca26"
             ],
             [
              1,
              "#f0f921"
             ]
            ],
            "type": "heatmap"
           }
          ],
          "heatmapgl": [
           {
            "colorbar": {
             "outlinewidth": 0,
             "ticks": ""
            },
            "colorscale": [
             [
              0,
              "#0d0887"
             ],
             [
              0.1111111111111111,
              "#46039f"
             ],
             [
              0.2222222222222222,
              "#7201a8"
             ],
             [
              0.3333333333333333,
              "#9c179e"
             ],
             [
              0.4444444444444444,
              "#bd3786"
             ],
             [
              0.5555555555555556,
              "#d8576b"
             ],
             [
              0.6666666666666666,
              "#ed7953"
             ],
             [
              0.7777777777777778,
              "#fb9f3a"
             ],
             [
              0.8888888888888888,
              "#fdca26"
             ],
             [
              1,
              "#f0f921"
             ]
            ],
            "type": "heatmapgl"
           }
          ],
          "histogram": [
           {
            "marker": {
             "pattern": {
              "fillmode": "overlay",
              "size": 10,
              "solidity": 0.2
             }
            },
            "type": "histogram"
           }
          ],
          "histogram2d": [
           {
            "colorbar": {
             "outlinewidth": 0,
             "ticks": ""
            },
            "colorscale": [
             [
              0,
              "#0d0887"
             ],
             [
              0.1111111111111111,
              "#46039f"
             ],
             [
              0.2222222222222222,
              "#7201a8"
             ],
             [
              0.3333333333333333,
              "#9c179e"
             ],
             [
              0.4444444444444444,
              "#bd3786"
             ],
             [
              0.5555555555555556,
              "#d8576b"
             ],
             [
              0.6666666666666666,
              "#ed7953"
             ],
             [
              0.7777777777777778,
              "#fb9f3a"
             ],
             [
              0.8888888888888888,
              "#fdca26"
             ],
             [
              1,
              "#f0f921"
             ]
            ],
            "type": "histogram2d"
           }
          ],
          "histogram2dcontour": [
           {
            "colorbar": {
             "outlinewidth": 0,
             "ticks": ""
            },
            "colorscale": [
             [
              0,
              "#0d0887"
             ],
             [
              0.1111111111111111,
              "#46039f"
             ],
             [
              0.2222222222222222,
              "#7201a8"
             ],
             [
              0.3333333333333333,
              "#9c179e"
             ],
             [
              0.4444444444444444,
              "#bd3786"
             ],
             [
              0.5555555555555556,
              "#d8576b"
             ],
             [
              0.6666666666666666,
              "#ed7953"
             ],
             [
              0.7777777777777778,
              "#fb9f3a"
             ],
             [
              0.8888888888888888,
              "#fdca26"
             ],
             [
              1,
              "#f0f921"
             ]
            ],
            "type": "histogram2dcontour"
           }
          ],
          "mesh3d": [
           {
            "colorbar": {
             "outlinewidth": 0,
             "ticks": ""
            },
            "type": "mesh3d"
           }
          ],
          "parcoords": [
           {
            "line": {
             "colorbar": {
              "outlinewidth": 0,
              "ticks": ""
             }
            },
            "type": "parcoords"
           }
          ],
          "pie": [
           {
            "automargin": true,
            "type": "pie"
           }
          ],
          "scatter": [
           {
            "fillpattern": {
             "fillmode": "overlay",
             "size": 10,
             "solidity": 0.2
            },
            "type": "scatter"
           }
          ],
          "scatter3d": [
           {
            "line": {
             "colorbar": {
              "outlinewidth": 0,
              "ticks": ""
             }
            },
            "marker": {
             "colorbar": {
              "outlinewidth": 0,
              "ticks": ""
             }
            },
            "type": "scatter3d"
           }
          ],
          "scattercarpet": [
           {
            "marker": {
             "colorbar": {
              "outlinewidth": 0,
              "ticks": ""
             }
            },
            "type": "scattercarpet"
           }
          ],
          "scattergeo": [
           {
            "marker": {
             "colorbar": {
              "outlinewidth": 0,
              "ticks": ""
             }
            },
            "type": "scattergeo"
           }
          ],
          "scattergl": [
           {
            "marker": {
             "colorbar": {
              "outlinewidth": 0,
              "ticks": ""
             }
            },
            "type": "scattergl"
           }
          ],
          "scattermapbox": [
           {
            "marker": {
             "colorbar": {
              "outlinewidth": 0,
              "ticks": ""
             }
            },
            "type": "scattermapbox"
           }
          ],
          "scatterpolar": [
           {
            "marker": {
             "colorbar": {
              "outlinewidth": 0,
              "ticks": ""
             }
            },
            "type": "scatterpolar"
           }
          ],
          "scatterpolargl": [
           {
            "marker": {
             "colorbar": {
              "outlinewidth": 0,
              "ticks": ""
             }
            },
            "type": "scatterpolargl"
           }
          ],
          "scatterternary": [
           {
            "marker": {
             "colorbar": {
              "outlinewidth": 0,
              "ticks": ""
             }
            },
            "type": "scatterternary"
           }
          ],
          "surface": [
           {
            "colorbar": {
             "outlinewidth": 0,
             "ticks": ""
            },
            "colorscale": [
             [
              0,
              "#0d0887"
             ],
             [
              0.1111111111111111,
              "#46039f"
             ],
             [
              0.2222222222222222,
              "#7201a8"
             ],
             [
              0.3333333333333333,
              "#9c179e"
             ],
             [
              0.4444444444444444,
              "#bd3786"
             ],
             [
              0.5555555555555556,
              "#d8576b"
             ],
             [
              0.6666666666666666,
              "#ed7953"
             ],
             [
              0.7777777777777778,
              "#fb9f3a"
             ],
             [
              0.8888888888888888,
              "#fdca26"
             ],
             [
              1,
              "#f0f921"
             ]
            ],
            "type": "surface"
           }
          ],
          "table": [
           {
            "cells": {
             "fill": {
              "color": "#EBF0F8"
             },
             "line": {
              "color": "white"
             }
            },
            "header": {
             "fill": {
              "color": "#C8D4E3"
             },
             "line": {
              "color": "white"
             }
            },
            "type": "table"
           }
          ]
         },
         "layout": {
          "annotationdefaults": {
           "arrowcolor": "#2a3f5f",
           "arrowhead": 0,
           "arrowwidth": 1
          },
          "autotypenumbers": "strict",
          "coloraxis": {
           "colorbar": {
            "outlinewidth": 0,
            "ticks": ""
           }
          },
          "colorscale": {
           "diverging": [
            [
             0,
             "#8e0152"
            ],
            [
             0.1,
             "#c51b7d"
            ],
            [
             0.2,
             "#de77ae"
            ],
            [
             0.3,
             "#f1b6da"
            ],
            [
             0.4,
             "#fde0ef"
            ],
            [
             0.5,
             "#f7f7f7"
            ],
            [
             0.6,
             "#e6f5d0"
            ],
            [
             0.7,
             "#b8e186"
            ],
            [
             0.8,
             "#7fbc41"
            ],
            [
             0.9,
             "#4d9221"
            ],
            [
             1,
             "#276419"
            ]
           ],
           "sequential": [
            [
             0,
             "#0d0887"
            ],
            [
             0.1111111111111111,
             "#46039f"
            ],
            [
             0.2222222222222222,
             "#7201a8"
            ],
            [
             0.3333333333333333,
             "#9c179e"
            ],
            [
             0.4444444444444444,
             "#bd3786"
            ],
            [
             0.5555555555555556,
             "#d8576b"
            ],
            [
             0.6666666666666666,
             "#ed7953"
            ],
            [
             0.7777777777777778,
             "#fb9f3a"
            ],
            [
             0.8888888888888888,
             "#fdca26"
            ],
            [
             1,
             "#f0f921"
            ]
           ],
           "sequentialminus": [
            [
             0,
             "#0d0887"
            ],
            [
             0.1111111111111111,
             "#46039f"
            ],
            [
             0.2222222222222222,
             "#7201a8"
            ],
            [
             0.3333333333333333,
             "#9c179e"
            ],
            [
             0.4444444444444444,
             "#bd3786"
            ],
            [
             0.5555555555555556,
             "#d8576b"
            ],
            [
             0.6666666666666666,
             "#ed7953"
            ],
            [
             0.7777777777777778,
             "#fb9f3a"
            ],
            [
             0.8888888888888888,
             "#fdca26"
            ],
            [
             1,
             "#f0f921"
            ]
           ]
          },
          "colorway": [
           "#636efa",
           "#EF553B",
           "#00cc96",
           "#ab63fa",
           "#FFA15A",
           "#19d3f3",
           "#FF6692",
           "#B6E880",
           "#FF97FF",
           "#FECB52"
          ],
          "font": {
           "color": "#2a3f5f"
          },
          "geo": {
           "bgcolor": "white",
           "lakecolor": "white",
           "landcolor": "#E5ECF6",
           "showlakes": true,
           "showland": true,
           "subunitcolor": "white"
          },
          "hoverlabel": {
           "align": "left"
          },
          "hovermode": "closest",
          "mapbox": {
           "style": "light"
          },
          "paper_bgcolor": "white",
          "plot_bgcolor": "#E5ECF6",
          "polar": {
           "angularaxis": {
            "gridcolor": "white",
            "linecolor": "white",
            "ticks": ""
           },
           "bgcolor": "#E5ECF6",
           "radialaxis": {
            "gridcolor": "white",
            "linecolor": "white",
            "ticks": ""
           }
          },
          "scene": {
           "xaxis": {
            "backgroundcolor": "#E5ECF6",
            "gridcolor": "white",
            "gridwidth": 2,
            "linecolor": "white",
            "showbackground": true,
            "ticks": "",
            "zerolinecolor": "white"
           },
           "yaxis": {
            "backgroundcolor": "#E5ECF6",
            "gridcolor": "white",
            "gridwidth": 2,
            "linecolor": "white",
            "showbackground": true,
            "ticks": "",
            "zerolinecolor": "white"
           },
           "zaxis": {
            "backgroundcolor": "#E5ECF6",
            "gridcolor": "white",
            "gridwidth": 2,
            "linecolor": "white",
            "showbackground": true,
            "ticks": "",
            "zerolinecolor": "white"
           }
          },
          "shapedefaults": {
           "line": {
            "color": "#2a3f5f"
           }
          },
          "ternary": {
           "aaxis": {
            "gridcolor": "white",
            "linecolor": "white",
            "ticks": ""
           },
           "baxis": {
            "gridcolor": "white",
            "linecolor": "white",
            "ticks": ""
           },
           "bgcolor": "#E5ECF6",
           "caxis": {
            "gridcolor": "white",
            "linecolor": "white",
            "ticks": ""
           }
          },
          "title": {
           "x": 0.05
          },
          "xaxis": {
           "automargin": true,
           "gridcolor": "white",
           "linecolor": "white",
           "ticks": "",
           "title": {
            "standoff": 15
           },
           "zerolinecolor": "white",
           "zerolinewidth": 2
          },
          "yaxis": {
           "automargin": true,
           "gridcolor": "white",
           "linecolor": "white",
           "ticks": "",
           "title": {
            "standoff": 15
           },
           "zerolinecolor": "white",
           "zerolinewidth": 2
          }
         }
        }
       }
      }
     },
     "metadata": {},
     "output_type": "display_data"
    }
   ],
   "source": [
    "px.treemap(receiving_df, path=['Team'], values='Yds', color='TD', hover_data=['Rec'])"
   ]
  },
  {
   "cell_type": "code",
   "execution_count": 34,
   "metadata": {},
   "outputs": [
    {
     "data": {
      "application/vnd.plotly.v1+json": {
       "config": {
        "plotlyServerURL": "https://plot.ly"
       },
       "data": [
        {
         "branchvalues": "total",
         "customdata": [
          [
           101,
           3
          ],
          [
           104,
           4
          ],
          [
           87,
           0
          ],
          [
           72,
           1
          ],
          [
           84,
           1
          ],
          [
           114,
           5
          ],
          [
           77,
           0
          ],
          [
           71,
           3
          ],
          [
           67,
           0
          ],
          [
           68,
           2
          ],
          [
           78,
           1
          ],
          [
           71,
           2
          ],
          [
           75,
           2
          ],
          [
           58,
           2
          ],
          [
           103,
           6
          ],
          [
           96,
           4
          ],
          [
           90,
           2
          ],
          [
           91,
           3
          ],
          [
           57,
           0
          ],
          [
           87,
           5
          ],
          [
           81,
           2
          ],
          [
           73,
           2
          ],
          [
           81,
           4
          ],
          [
           53,
           0
          ],
          [
           64,
           3
          ],
          [
           72,
           2
          ],
          [
           61,
           2
          ],
          [
           56,
           0
          ],
          [
           66,
           2
          ],
          [
           70,
           1
          ],
          [
           80,
           3
          ],
          [
           64,
           2
          ]
         ],
         "domain": {
          "x": [
           0,
           1
          ],
          "y": [
           0,
           1
          ]
         },
         "hovertemplate": "labels=%{label}<br>Rush Yds=%{value}<br>parent=%{parent}<br>id=%{id}<br>Att=%{customdata[0]}<br>TD=%{color}<extra></extra>",
         "ids": [
          "49ers49ers",
          "BearsBears",
          "BengalsBengals",
          "BillsBills",
          "BroncosBroncos",
          "BrownsBrowns",
          "BuccaneersBuccaneers",
          "CardinalsCardinals",
          "ChargersChargers",
          "ChiefsChiefs",
          "ColtsColts",
          "CommandersCommanders",
          "CowboysCowboys",
          "DolphinsDolphins",
          "EaglesEagles",
          "FalconsFalcons",
          "GiantsGiants",
          "JaguarsJaguars",
          "JetsJets",
          "LionsLions",
          "PackersPackers",
          "PanthersPanthers",
          "PatriotsPatriots",
          "RaidersRaiders",
          "RamsRams",
          "RavensRavens",
          "SaintsSaints",
          "SeahawksSeahawks",
          "SteelersSteelers",
          "TexansTexans",
          "TitansTitans",
          "VikingsVikings"
         ],
         "labels": [
          "49ers49ers",
          "BearsBears",
          "BengalsBengals",
          "BillsBills",
          "BroncosBroncos",
          "BrownsBrowns",
          "BuccaneersBuccaneers",
          "CardinalsCardinals",
          "ChargersChargers",
          "ChiefsChiefs",
          "ColtsColts",
          "CommandersCommanders",
          "CowboysCowboys",
          "DolphinsDolphins",
          "EaglesEagles",
          "FalconsFalcons",
          "GiantsGiants",
          "JaguarsJaguars",
          "JetsJets",
          "LionsLions",
          "PackersPackers",
          "PanthersPanthers",
          "PatriotsPatriots",
          "RaidersRaiders",
          "RamsRams",
          "RavensRavens",
          "SaintsSaints",
          "SeahawksSeahawks",
          "SteelersSteelers",
          "TexansTexans",
          "TitansTitans",
          "VikingsVikings"
         ],
         "marker": {
          "coloraxis": "coloraxis",
          "colors": [
           3,
           4,
           0,
           1,
           1,
           5,
           0,
           3,
           0,
           2,
           1,
           2,
           2,
           2,
           6,
           4,
           2,
           3,
           0,
           5,
           2,
           2,
           4,
           0,
           3,
           2,
           2,
           0,
           2,
           1,
           3,
           2
          ]
         },
         "name": "",
         "parents": [
          "",
          "",
          "",
          "",
          "",
          "",
          "",
          "",
          "",
          "",
          "",
          "",
          "",
          "",
          "",
          "",
          "",
          "",
          "",
          "",
          "",
          "",
          "",
          "",
          "",
          "",
          "",
          "",
          "",
          "",
          "",
          ""
         ],
         "type": "treemap",
         "values": [
          453,
          560,
          291,
          337,
          353,
          572,
          258,
          316,
          177,
          279,
          313,
          260,
          354,
          192,
          451,
          470,
          508,
          370,
          252,
          511,
          381,
          345,
          347,
          240,
          217,
          406,
          335,
          224,
          270,
          249,
          282,
          311
         ]
        }
       ],
       "layout": {
        "coloraxis": {
         "colorbar": {
          "title": {
           "text": "TD"
          }
         },
         "colorscale": [
          [
           0,
           "#0d0887"
          ],
          [
           0.1111111111111111,
           "#46039f"
          ],
          [
           0.2222222222222222,
           "#7201a8"
          ],
          [
           0.3333333333333333,
           "#9c179e"
          ],
          [
           0.4444444444444444,
           "#bd3786"
          ],
          [
           0.5555555555555556,
           "#d8576b"
          ],
          [
           0.6666666666666666,
           "#ed7953"
          ],
          [
           0.7777777777777778,
           "#fb9f3a"
          ],
          [
           0.8888888888888888,
           "#fdca26"
          ],
          [
           1,
           "#f0f921"
          ]
         ]
        },
        "legend": {
         "tracegroupgap": 0
        },
        "margin": {
         "t": 60
        },
        "template": {
         "data": {
          "bar": [
           {
            "error_x": {
             "color": "#2a3f5f"
            },
            "error_y": {
             "color": "#2a3f5f"
            },
            "marker": {
             "line": {
              "color": "#E5ECF6",
              "width": 0.5
             },
             "pattern": {
              "fillmode": "overlay",
              "size": 10,
              "solidity": 0.2
             }
            },
            "type": "bar"
           }
          ],
          "barpolar": [
           {
            "marker": {
             "line": {
              "color": "#E5ECF6",
              "width": 0.5
             },
             "pattern": {
              "fillmode": "overlay",
              "size": 10,
              "solidity": 0.2
             }
            },
            "type": "barpolar"
           }
          ],
          "carpet": [
           {
            "aaxis": {
             "endlinecolor": "#2a3f5f",
             "gridcolor": "white",
             "linecolor": "white",
             "minorgridcolor": "white",
             "startlinecolor": "#2a3f5f"
            },
            "baxis": {
             "endlinecolor": "#2a3f5f",
             "gridcolor": "white",
             "linecolor": "white",
             "minorgridcolor": "white",
             "startlinecolor": "#2a3f5f"
            },
            "type": "carpet"
           }
          ],
          "choropleth": [
           {
            "colorbar": {
             "outlinewidth": 0,
             "ticks": ""
            },
            "type": "choropleth"
           }
          ],
          "contour": [
           {
            "colorbar": {
             "outlinewidth": 0,
             "ticks": ""
            },
            "colorscale": [
             [
              0,
              "#0d0887"
             ],
             [
              0.1111111111111111,
              "#46039f"
             ],
             [
              0.2222222222222222,
              "#7201a8"
             ],
             [
              0.3333333333333333,
              "#9c179e"
             ],
             [
              0.4444444444444444,
              "#bd3786"
             ],
             [
              0.5555555555555556,
              "#d8576b"
             ],
             [
              0.6666666666666666,
              "#ed7953"
             ],
             [
              0.7777777777777778,
              "#fb9f3a"
             ],
             [
              0.8888888888888888,
              "#fdca26"
             ],
             [
              1,
              "#f0f921"
             ]
            ],
            "type": "contour"
           }
          ],
          "contourcarpet": [
           {
            "colorbar": {
             "outlinewidth": 0,
             "ticks": ""
            },
            "type": "contourcarpet"
           }
          ],
          "heatmap": [
           {
            "colorbar": {
             "outlinewidth": 0,
             "ticks": ""
            },
            "colorscale": [
             [
              0,
              "#0d0887"
             ],
             [
              0.1111111111111111,
              "#46039f"
             ],
             [
              0.2222222222222222,
              "#7201a8"
             ],
             [
              0.3333333333333333,
              "#9c179e"
             ],
             [
              0.4444444444444444,
              "#bd3786"
             ],
             [
              0.5555555555555556,
              "#d8576b"
             ],
             [
              0.6666666666666666,
              "#ed7953"
             ],
             [
              0.7777777777777778,
              "#fb9f3a"
             ],
             [
              0.8888888888888888,
              "#fdca26"
             ],
             [
              1,
              "#f0f921"
             ]
            ],
            "type": "heatmap"
           }
          ],
          "heatmapgl": [
           {
            "colorbar": {
             "outlinewidth": 0,
             "ticks": ""
            },
            "colorscale": [
             [
              0,
              "#0d0887"
             ],
             [
              0.1111111111111111,
              "#46039f"
             ],
             [
              0.2222222222222222,
              "#7201a8"
             ],
             [
              0.3333333333333333,
              "#9c179e"
             ],
             [
              0.4444444444444444,
              "#bd3786"
             ],
             [
              0.5555555555555556,
              "#d8576b"
             ],
             [
              0.6666666666666666,
              "#ed7953"
             ],
             [
              0.7777777777777778,
              "#fb9f3a"
             ],
             [
              0.8888888888888888,
              "#fdca26"
             ],
             [
              1,
              "#f0f921"
             ]
            ],
            "type": "heatmapgl"
           }
          ],
          "histogram": [
           {
            "marker": {
             "pattern": {
              "fillmode": "overlay",
              "size": 10,
              "solidity": 0.2
             }
            },
            "type": "histogram"
           }
          ],
          "histogram2d": [
           {
            "colorbar": {
             "outlinewidth": 0,
             "ticks": ""
            },
            "colorscale": [
             [
              0,
              "#0d0887"
             ],
             [
              0.1111111111111111,
              "#46039f"
             ],
             [
              0.2222222222222222,
              "#7201a8"
             ],
             [
              0.3333333333333333,
              "#9c179e"
             ],
             [
              0.4444444444444444,
              "#bd3786"
             ],
             [
              0.5555555555555556,
              "#d8576b"
             ],
             [
              0.6666666666666666,
              "#ed7953"
             ],
             [
              0.7777777777777778,
              "#fb9f3a"
             ],
             [
              0.8888888888888888,
              "#fdca26"
             ],
             [
              1,
              "#f0f921"
             ]
            ],
            "type": "histogram2d"
           }
          ],
          "histogram2dcontour": [
           {
            "colorbar": {
             "outlinewidth": 0,
             "ticks": ""
            },
            "colorscale": [
             [
              0,
              "#0d0887"
             ],
             [
              0.1111111111111111,
              "#46039f"
             ],
             [
              0.2222222222222222,
              "#7201a8"
             ],
             [
              0.3333333333333333,
              "#9c179e"
             ],
             [
              0.4444444444444444,
              "#bd3786"
             ],
             [
              0.5555555555555556,
              "#d8576b"
             ],
             [
              0.6666666666666666,
              "#ed7953"
             ],
             [
              0.7777777777777778,
              "#fb9f3a"
             ],
             [
              0.8888888888888888,
              "#fdca26"
             ],
             [
              1,
              "#f0f921"
             ]
            ],
            "type": "histogram2dcontour"
           }
          ],
          "mesh3d": [
           {
            "colorbar": {
             "outlinewidth": 0,
             "ticks": ""
            },
            "type": "mesh3d"
           }
          ],
          "parcoords": [
           {
            "line": {
             "colorbar": {
              "outlinewidth": 0,
              "ticks": ""
             }
            },
            "type": "parcoords"
           }
          ],
          "pie": [
           {
            "automargin": true,
            "type": "pie"
           }
          ],
          "scatter": [
           {
            "fillpattern": {
             "fillmode": "overlay",
             "size": 10,
             "solidity": 0.2
            },
            "type": "scatter"
           }
          ],
          "scatter3d": [
           {
            "line": {
             "colorbar": {
              "outlinewidth": 0,
              "ticks": ""
             }
            },
            "marker": {
             "colorbar": {
              "outlinewidth": 0,
              "ticks": ""
             }
            },
            "type": "scatter3d"
           }
          ],
          "scattercarpet": [
           {
            "marker": {
             "colorbar": {
              "outlinewidth": 0,
              "ticks": ""
             }
            },
            "type": "scattercarpet"
           }
          ],
          "scattergeo": [
           {
            "marker": {
             "colorbar": {
              "outlinewidth": 0,
              "ticks": ""
             }
            },
            "type": "scattergeo"
           }
          ],
          "scattergl": [
           {
            "marker": {
             "colorbar": {
              "outlinewidth": 0,
              "ticks": ""
             }
            },
            "type": "scattergl"
           }
          ],
          "scattermapbox": [
           {
            "marker": {
             "colorbar": {
              "outlinewidth": 0,
              "ticks": ""
             }
            },
            "type": "scattermapbox"
           }
          ],
          "scatterpolar": [
           {
            "marker": {
             "colorbar": {
              "outlinewidth": 0,
              "ticks": ""
             }
            },
            "type": "scatterpolar"
           }
          ],
          "scatterpolargl": [
           {
            "marker": {
             "colorbar": {
              "outlinewidth": 0,
              "ticks": ""
             }
            },
            "type": "scatterpolargl"
           }
          ],
          "scatterternary": [
           {
            "marker": {
             "colorbar": {
              "outlinewidth": 0,
              "ticks": ""
             }
            },
            "type": "scatterternary"
           }
          ],
          "surface": [
           {
            "colorbar": {
             "outlinewidth": 0,
             "ticks": ""
            },
            "colorscale": [
             [
              0,
              "#0d0887"
             ],
             [
              0.1111111111111111,
              "#46039f"
             ],
             [
              0.2222222222222222,
              "#7201a8"
             ],
             [
              0.3333333333333333,
              "#9c179e"
             ],
             [
              0.4444444444444444,
              "#bd3786"
             ],
             [
              0.5555555555555556,
              "#d8576b"
             ],
             [
              0.6666666666666666,
              "#ed7953"
             ],
             [
              0.7777777777777778,
              "#fb9f3a"
             ],
             [
              0.8888888888888888,
              "#fdca26"
             ],
             [
              1,
              "#f0f921"
             ]
            ],
            "type": "surface"
           }
          ],
          "table": [
           {
            "cells": {
             "fill": {
              "color": "#EBF0F8"
             },
             "line": {
              "color": "white"
             }
            },
            "header": {
             "fill": {
              "color": "#C8D4E3"
             },
             "line": {
              "color": "white"
             }
            },
            "type": "table"
           }
          ]
         },
         "layout": {
          "annotationdefaults": {
           "arrowcolor": "#2a3f5f",
           "arrowhead": 0,
           "arrowwidth": 1
          },
          "autotypenumbers": "strict",
          "coloraxis": {
           "colorbar": {
            "outlinewidth": 0,
            "ticks": ""
           }
          },
          "colorscale": {
           "diverging": [
            [
             0,
             "#8e0152"
            ],
            [
             0.1,
             "#c51b7d"
            ],
            [
             0.2,
             "#de77ae"
            ],
            [
             0.3,
             "#f1b6da"
            ],
            [
             0.4,
             "#fde0ef"
            ],
            [
             0.5,
             "#f7f7f7"
            ],
            [
             0.6,
             "#e6f5d0"
            ],
            [
             0.7,
             "#b8e186"
            ],
            [
             0.8,
             "#7fbc41"
            ],
            [
             0.9,
             "#4d9221"
            ],
            [
             1,
             "#276419"
            ]
           ],
           "sequential": [
            [
             0,
             "#0d0887"
            ],
            [
             0.1111111111111111,
             "#46039f"
            ],
            [
             0.2222222222222222,
             "#7201a8"
            ],
            [
             0.3333333333333333,
             "#9c179e"
            ],
            [
             0.4444444444444444,
             "#bd3786"
            ],
            [
             0.5555555555555556,
             "#d8576b"
            ],
            [
             0.6666666666666666,
             "#ed7953"
            ],
            [
             0.7777777777777778,
             "#fb9f3a"
            ],
            [
             0.8888888888888888,
             "#fdca26"
            ],
            [
             1,
             "#f0f921"
            ]
           ],
           "sequentialminus": [
            [
             0,
             "#0d0887"
            ],
            [
             0.1111111111111111,
             "#46039f"
            ],
            [
             0.2222222222222222,
             "#7201a8"
            ],
            [
             0.3333333333333333,
             "#9c179e"
            ],
            [
             0.4444444444444444,
             "#bd3786"
            ],
            [
             0.5555555555555556,
             "#d8576b"
            ],
            [
             0.6666666666666666,
             "#ed7953"
            ],
            [
             0.7777777777777778,
             "#fb9f3a"
            ],
            [
             0.8888888888888888,
             "#fdca26"
            ],
            [
             1,
             "#f0f921"
            ]
           ]
          },
          "colorway": [
           "#636efa",
           "#EF553B",
           "#00cc96",
           "#ab63fa",
           "#FFA15A",
           "#19d3f3",
           "#FF6692",
           "#B6E880",
           "#FF97FF",
           "#FECB52"
          ],
          "font": {
           "color": "#2a3f5f"
          },
          "geo": {
           "bgcolor": "white",
           "lakecolor": "white",
           "landcolor": "#E5ECF6",
           "showlakes": true,
           "showland": true,
           "subunitcolor": "white"
          },
          "hoverlabel": {
           "align": "left"
          },
          "hovermode": "closest",
          "mapbox": {
           "style": "light"
          },
          "paper_bgcolor": "white",
          "plot_bgcolor": "#E5ECF6",
          "polar": {
           "angularaxis": {
            "gridcolor": "white",
            "linecolor": "white",
            "ticks": ""
           },
           "bgcolor": "#E5ECF6",
           "radialaxis": {
            "gridcolor": "white",
            "linecolor": "white",
            "ticks": ""
           }
          },
          "scene": {
           "xaxis": {
            "backgroundcolor": "#E5ECF6",
            "gridcolor": "white",
            "gridwidth": 2,
            "linecolor": "white",
            "showbackground": true,
            "ticks": "",
            "zerolinecolor": "white"
           },
           "yaxis": {
            "backgroundcolor": "#E5ECF6",
            "gridcolor": "white",
            "gridwidth": 2,
            "linecolor": "white",
            "showbackground": true,
            "ticks": "",
            "zerolinecolor": "white"
           },
           "zaxis": {
            "backgroundcolor": "#E5ECF6",
            "gridcolor": "white",
            "gridwidth": 2,
            "linecolor": "white",
            "showbackground": true,
            "ticks": "",
            "zerolinecolor": "white"
           }
          },
          "shapedefaults": {
           "line": {
            "color": "#2a3f5f"
           }
          },
          "ternary": {
           "aaxis": {
            "gridcolor": "white",
            "linecolor": "white",
            "ticks": ""
           },
           "baxis": {
            "gridcolor": "white",
            "linecolor": "white",
            "ticks": ""
           },
           "bgcolor": "#E5ECF6",
           "caxis": {
            "gridcolor": "white",
            "linecolor": "white",
            "ticks": ""
           }
          },
          "title": {
           "x": 0.05
          },
          "xaxis": {
           "automargin": true,
           "gridcolor": "white",
           "linecolor": "white",
           "ticks": "",
           "title": {
            "standoff": 15
           },
           "zerolinecolor": "white",
           "zerolinewidth": 2
          },
          "yaxis": {
           "automargin": true,
           "gridcolor": "white",
           "linecolor": "white",
           "ticks": "",
           "title": {
            "standoff": 15
           },
           "zerolinecolor": "white",
           "zerolinewidth": 2
          }
         }
        }
       }
      }
     },
     "metadata": {},
     "output_type": "display_data"
    }
   ],
   "source": [
    "px.treemap(rushing_df, path=['Team'], values='Rush Yds', color='TD', hover_data=['Att'])"
   ]
  },
  {
   "cell_type": "code",
   "execution_count": 35,
   "metadata": {},
   "outputs": [
    {
     "data": {
      "application/vnd.plotly.v1+json": {
       "config": {
        "plotlyServerURL": "https://plot.ly"
       },
       "data": [
        {
         "branchvalues": "total",
         "customdata": [
          [
           2,
           3,
           5
          ],
          [
           2,
           4,
           6
          ],
          [
           6,
           0,
           6
          ],
          [
           9,
           1,
           11
          ],
          [
           2,
           1,
           3
          ],
          [
           4,
           5,
           9
          ],
          [
           3,
           0,
           4
          ],
          [
           3,
           3,
           6
          ],
          [
           7,
           0,
           7
          ],
          [
           8,
           2,
           11
          ],
          [
           3,
           1,
           4
          ],
          [
           7,
           2,
           9
          ],
          [
           2,
           2,
           4
          ],
          [
           8,
           2,
           10
          ],
          [
           4,
           6,
           11
          ],
          [
           3,
           4,
           8
          ],
          [
           3,
           2,
           5
          ],
          [
           6,
           3,
           9
          ],
          [
           5,
           0,
           5
          ],
          [
           7,
           5,
           12
          ],
          [
           4,
           2,
           6
          ],
          [
           3,
           2,
           5
          ],
          [
           2,
           4,
           6
          ],
          [
           6,
           0,
           6
          ],
          [
           4,
           3,
           7
          ],
          [
           10,
           2,
           13
          ],
          [
           4,
           2,
           6
          ],
          [
           4,
           0,
           5
          ],
          [
           2,
           2,
           5
          ],
          [
           3,
           1,
           4
          ],
          [
           3,
           3,
           6
          ],
          [
           5,
           2,
           7
          ]
         ],
         "domain": {
          "x": [
           0,
           1
          ],
          "y": [
           0,
           1
          ]
         },
         "hovertemplate": "labels=%{label}<br>Tot TD_sum=%{value}<br>parent=%{parent}<br>id=%{id}<br>Rec TD=%{customdata[0]}<br>Rsh TD=%{customdata[1]}<br>Tot TD=%{color}<extra></extra>",
         "ids": [
          "49ers49ers",
          "BearsBears",
          "BengalsBengals",
          "BillsBills",
          "BroncosBroncos",
          "BrownsBrowns",
          "BuccaneersBuccaneers",
          "CardinalsCardinals",
          "ChargersChargers",
          "ChiefsChiefs",
          "ColtsColts",
          "CommandersCommanders",
          "CowboysCowboys",
          "DolphinsDolphins",
          "EaglesEagles",
          "FalconsFalcons",
          "GiantsGiants",
          "JaguarsJaguars",
          "JetsJets",
          "LionsLions",
          "PackersPackers",
          "PanthersPanthers",
          "PatriotsPatriots",
          "RaidersRaiders",
          "RamsRams",
          "RavensRavens",
          "SaintsSaints",
          "SeahawksSeahawks",
          "SteelersSteelers",
          "TexansTexans",
          "TitansTitans",
          "VikingsVikings"
         ],
         "labels": [
          "49ers49ers",
          "BearsBears",
          "BengalsBengals",
          "BillsBills",
          "BroncosBroncos",
          "BrownsBrowns",
          "BuccaneersBuccaneers",
          "CardinalsCardinals",
          "ChargersChargers",
          "ChiefsChiefs",
          "ColtsColts",
          "CommandersCommanders",
          "CowboysCowboys",
          "DolphinsDolphins",
          "EaglesEagles",
          "FalconsFalcons",
          "GiantsGiants",
          "JaguarsJaguars",
          "JetsJets",
          "LionsLions",
          "PackersPackers",
          "PanthersPanthers",
          "PatriotsPatriots",
          "RaidersRaiders",
          "RamsRams",
          "RavensRavens",
          "SaintsSaints",
          "SeahawksSeahawks",
          "SteelersSteelers",
          "TexansTexans",
          "TitansTitans",
          "VikingsVikings"
         ],
         "marker": {
          "coloraxis": "coloraxis",
          "colors": [
           5,
           6,
           6,
           11,
           3,
           9,
           4,
           6,
           7,
           11,
           4,
           9,
           4,
           10,
           11,
           8,
           5,
           9,
           5,
           12,
           6,
           5,
           6,
           6,
           7,
           13,
           6,
           5,
           5,
           4,
           6,
           7
          ]
         },
         "name": "",
         "parents": [
          "",
          "",
          "",
          "",
          "",
          "",
          "",
          "",
          "",
          "",
          "",
          "",
          "",
          "",
          "",
          "",
          "",
          "",
          "",
          "",
          "",
          "",
          "",
          "",
          "",
          "",
          "",
          "",
          "",
          "",
          "",
          ""
         ],
         "type": "treemap",
         "values": [
          5,
          6,
          6,
          11,
          3,
          9,
          4,
          6,
          7,
          11,
          4,
          9,
          4,
          10,
          11,
          8,
          5,
          9,
          5,
          12,
          6,
          5,
          6,
          6,
          7,
          13,
          6,
          5,
          5,
          4,
          6,
          7
         ]
        }
       ],
       "layout": {
        "coloraxis": {
         "colorbar": {
          "title": {
           "text": "Tot TD"
          }
         },
         "colorscale": [
          [
           0,
           "#0d0887"
          ],
          [
           0.1111111111111111,
           "#46039f"
          ],
          [
           0.2222222222222222,
           "#7201a8"
          ],
          [
           0.3333333333333333,
           "#9c179e"
          ],
          [
           0.4444444444444444,
           "#bd3786"
          ],
          [
           0.5555555555555556,
           "#d8576b"
          ],
          [
           0.6666666666666666,
           "#ed7953"
          ],
          [
           0.7777777777777778,
           "#fb9f3a"
          ],
          [
           0.8888888888888888,
           "#fdca26"
          ],
          [
           1,
           "#f0f921"
          ]
         ]
        },
        "legend": {
         "tracegroupgap": 0
        },
        "margin": {
         "t": 60
        },
        "template": {
         "data": {
          "bar": [
           {
            "error_x": {
             "color": "#2a3f5f"
            },
            "error_y": {
             "color": "#2a3f5f"
            },
            "marker": {
             "line": {
              "color": "#E5ECF6",
              "width": 0.5
             },
             "pattern": {
              "fillmode": "overlay",
              "size": 10,
              "solidity": 0.2
             }
            },
            "type": "bar"
           }
          ],
          "barpolar": [
           {
            "marker": {
             "line": {
              "color": "#E5ECF6",
              "width": 0.5
             },
             "pattern": {
              "fillmode": "overlay",
              "size": 10,
              "solidity": 0.2
             }
            },
            "type": "barpolar"
           }
          ],
          "carpet": [
           {
            "aaxis": {
             "endlinecolor": "#2a3f5f",
             "gridcolor": "white",
             "linecolor": "white",
             "minorgridcolor": "white",
             "startlinecolor": "#2a3f5f"
            },
            "baxis": {
             "endlinecolor": "#2a3f5f",
             "gridcolor": "white",
             "linecolor": "white",
             "minorgridcolor": "white",
             "startlinecolor": "#2a3f5f"
            },
            "type": "carpet"
           }
          ],
          "choropleth": [
           {
            "colorbar": {
             "outlinewidth": 0,
             "ticks": ""
            },
            "type": "choropleth"
           }
          ],
          "contour": [
           {
            "colorbar": {
             "outlinewidth": 0,
             "ticks": ""
            },
            "colorscale": [
             [
              0,
              "#0d0887"
             ],
             [
              0.1111111111111111,
              "#46039f"
             ],
             [
              0.2222222222222222,
              "#7201a8"
             ],
             [
              0.3333333333333333,
              "#9c179e"
             ],
             [
              0.4444444444444444,
              "#bd3786"
             ],
             [
              0.5555555555555556,
              "#d8576b"
             ],
             [
              0.6666666666666666,
              "#ed7953"
             ],
             [
              0.7777777777777778,
              "#fb9f3a"
             ],
             [
              0.8888888888888888,
              "#fdca26"
             ],
             [
              1,
              "#f0f921"
             ]
            ],
            "type": "contour"
           }
          ],
          "contourcarpet": [
           {
            "colorbar": {
             "outlinewidth": 0,
             "ticks": ""
            },
            "type": "contourcarpet"
           }
          ],
          "heatmap": [
           {
            "colorbar": {
             "outlinewidth": 0,
             "ticks": ""
            },
            "colorscale": [
             [
              0,
              "#0d0887"
             ],
             [
              0.1111111111111111,
              "#46039f"
             ],
             [
              0.2222222222222222,
              "#7201a8"
             ],
             [
              0.3333333333333333,
              "#9c179e"
             ],
             [
              0.4444444444444444,
              "#bd3786"
             ],
             [
              0.5555555555555556,
              "#d8576b"
             ],
             [
              0.6666666666666666,
              "#ed7953"
             ],
             [
              0.7777777777777778,
              "#fb9f3a"
             ],
             [
              0.8888888888888888,
              "#fdca26"
             ],
             [
              1,
              "#f0f921"
             ]
            ],
            "type": "heatmap"
           }
          ],
          "heatmapgl": [
           {
            "colorbar": {
             "outlinewidth": 0,
             "ticks": ""
            },
            "colorscale": [
             [
              0,
              "#0d0887"
             ],
             [
              0.1111111111111111,
              "#46039f"
             ],
             [
              0.2222222222222222,
              "#7201a8"
             ],
             [
              0.3333333333333333,
              "#9c179e"
             ],
             [
              0.4444444444444444,
              "#bd3786"
             ],
             [
              0.5555555555555556,
              "#d8576b"
             ],
             [
              0.6666666666666666,
              "#ed7953"
             ],
             [
              0.7777777777777778,
              "#fb9f3a"
             ],
             [
              0.8888888888888888,
              "#fdca26"
             ],
             [
              1,
              "#f0f921"
             ]
            ],
            "type": "heatmapgl"
           }
          ],
          "histogram": [
           {
            "marker": {
             "pattern": {
              "fillmode": "overlay",
              "size": 10,
              "solidity": 0.2
             }
            },
            "type": "histogram"
           }
          ],
          "histogram2d": [
           {
            "colorbar": {
             "outlinewidth": 0,
             "ticks": ""
            },
            "colorscale": [
             [
              0,
              "#0d0887"
             ],
             [
              0.1111111111111111,
              "#46039f"
             ],
             [
              0.2222222222222222,
              "#7201a8"
             ],
             [
              0.3333333333333333,
              "#9c179e"
             ],
             [
              0.4444444444444444,
              "#bd3786"
             ],
             [
              0.5555555555555556,
              "#d8576b"
             ],
             [
              0.6666666666666666,
              "#ed7953"
             ],
             [
              0.7777777777777778,
              "#fb9f3a"
             ],
             [
              0.8888888888888888,
              "#fdca26"
             ],
             [
              1,
              "#f0f921"
             ]
            ],
            "type": "histogram2d"
           }
          ],
          "histogram2dcontour": [
           {
            "colorbar": {
             "outlinewidth": 0,
             "ticks": ""
            },
            "colorscale": [
             [
              0,
              "#0d0887"
             ],
             [
              0.1111111111111111,
              "#46039f"
             ],
             [
              0.2222222222222222,
              "#7201a8"
             ],
             [
              0.3333333333333333,
              "#9c179e"
             ],
             [
              0.4444444444444444,
              "#bd3786"
             ],
             [
              0.5555555555555556,
              "#d8576b"
             ],
             [
              0.6666666666666666,
              "#ed7953"
             ],
             [
              0.7777777777777778,
              "#fb9f3a"
             ],
             [
              0.8888888888888888,
              "#fdca26"
             ],
             [
              1,
              "#f0f921"
             ]
            ],
            "type": "histogram2dcontour"
           }
          ],
          "mesh3d": [
           {
            "colorbar": {
             "outlinewidth": 0,
             "ticks": ""
            },
            "type": "mesh3d"
           }
          ],
          "parcoords": [
           {
            "line": {
             "colorbar": {
              "outlinewidth": 0,
              "ticks": ""
             }
            },
            "type": "parcoords"
           }
          ],
          "pie": [
           {
            "automargin": true,
            "type": "pie"
           }
          ],
          "scatter": [
           {
            "fillpattern": {
             "fillmode": "overlay",
             "size": 10,
             "solidity": 0.2
            },
            "type": "scatter"
           }
          ],
          "scatter3d": [
           {
            "line": {
             "colorbar": {
              "outlinewidth": 0,
              "ticks": ""
             }
            },
            "marker": {
             "colorbar": {
              "outlinewidth": 0,
              "ticks": ""
             }
            },
            "type": "scatter3d"
           }
          ],
          "scattercarpet": [
           {
            "marker": {
             "colorbar": {
              "outlinewidth": 0,
              "ticks": ""
             }
            },
            "type": "scattercarpet"
           }
          ],
          "scattergeo": [
           {
            "marker": {
             "colorbar": {
              "outlinewidth": 0,
              "ticks": ""
             }
            },
            "type": "scattergeo"
           }
          ],
          "scattergl": [
           {
            "marker": {
             "colorbar": {
              "outlinewidth": 0,
              "ticks": ""
             }
            },
            "type": "scattergl"
           }
          ],
          "scattermapbox": [
           {
            "marker": {
             "colorbar": {
              "outlinewidth": 0,
              "ticks": ""
             }
            },
            "type": "scattermapbox"
           }
          ],
          "scatterpolar": [
           {
            "marker": {
             "colorbar": {
              "outlinewidth": 0,
              "ticks": ""
             }
            },
            "type": "scatterpolar"
           }
          ],
          "scatterpolargl": [
           {
            "marker": {
             "colorbar": {
              "outlinewidth": 0,
              "ticks": ""
             }
            },
            "type": "scatterpolargl"
           }
          ],
          "scatterternary": [
           {
            "marker": {
             "colorbar": {
              "outlinewidth": 0,
              "ticks": ""
             }
            },
            "type": "scatterternary"
           }
          ],
          "surface": [
           {
            "colorbar": {
             "outlinewidth": 0,
             "ticks": ""
            },
            "colorscale": [
             [
              0,
              "#0d0887"
             ],
             [
              0.1111111111111111,
              "#46039f"
             ],
             [
              0.2222222222222222,
              "#7201a8"
             ],
             [
              0.3333333333333333,
              "#9c179e"
             ],
             [
              0.4444444444444444,
              "#bd3786"
             ],
             [
              0.5555555555555556,
              "#d8576b"
             ],
             [
              0.6666666666666666,
              "#ed7953"
             ],
             [
              0.7777777777777778,
              "#fb9f3a"
             ],
             [
              0.8888888888888888,
              "#fdca26"
             ],
             [
              1,
              "#f0f921"
             ]
            ],
            "type": "surface"
           }
          ],
          "table": [
           {
            "cells": {
             "fill": {
              "color": "#EBF0F8"
             },
             "line": {
              "color": "white"
             }
            },
            "header": {
             "fill": {
              "color": "#C8D4E3"
             },
             "line": {
              "color": "white"
             }
            },
            "type": "table"
           }
          ]
         },
         "layout": {
          "annotationdefaults": {
           "arrowcolor": "#2a3f5f",
           "arrowhead": 0,
           "arrowwidth": 1
          },
          "autotypenumbers": "strict",
          "coloraxis": {
           "colorbar": {
            "outlinewidth": 0,
            "ticks": ""
           }
          },
          "colorscale": {
           "diverging": [
            [
             0,
             "#8e0152"
            ],
            [
             0.1,
             "#c51b7d"
            ],
            [
             0.2,
             "#de77ae"
            ],
            [
             0.3,
             "#f1b6da"
            ],
            [
             0.4,
             "#fde0ef"
            ],
            [
             0.5,
             "#f7f7f7"
            ],
            [
             0.6,
             "#e6f5d0"
            ],
            [
             0.7,
             "#b8e186"
            ],
            [
             0.8,
             "#7fbc41"
            ],
            [
             0.9,
             "#4d9221"
            ],
            [
             1,
             "#276419"
            ]
           ],
           "sequential": [
            [
             0,
             "#0d0887"
            ],
            [
             0.1111111111111111,
             "#46039f"
            ],
            [
             0.2222222222222222,
             "#7201a8"
            ],
            [
             0.3333333333333333,
             "#9c179e"
            ],
            [
             0.4444444444444444,
             "#bd3786"
            ],
            [
             0.5555555555555556,
             "#d8576b"
            ],
            [
             0.6666666666666666,
             "#ed7953"
            ],
            [
             0.7777777777777778,
             "#fb9f3a"
            ],
            [
             0.8888888888888888,
             "#fdca26"
            ],
            [
             1,
             "#f0f921"
            ]
           ],
           "sequentialminus": [
            [
             0,
             "#0d0887"
            ],
            [
             0.1111111111111111,
             "#46039f"
            ],
            [
             0.2222222222222222,
             "#7201a8"
            ],
            [
             0.3333333333333333,
             "#9c179e"
            ],
            [
             0.4444444444444444,
             "#bd3786"
            ],
            [
             0.5555555555555556,
             "#d8576b"
            ],
            [
             0.6666666666666666,
             "#ed7953"
            ],
            [
             0.7777777777777778,
             "#fb9f3a"
            ],
            [
             0.8888888888888888,
             "#fdca26"
            ],
            [
             1,
             "#f0f921"
            ]
           ]
          },
          "colorway": [
           "#636efa",
           "#EF553B",
           "#00cc96",
           "#ab63fa",
           "#FFA15A",
           "#19d3f3",
           "#FF6692",
           "#B6E880",
           "#FF97FF",
           "#FECB52"
          ],
          "font": {
           "color": "#2a3f5f"
          },
          "geo": {
           "bgcolor": "white",
           "lakecolor": "white",
           "landcolor": "#E5ECF6",
           "showlakes": true,
           "showland": true,
           "subunitcolor": "white"
          },
          "hoverlabel": {
           "align": "left"
          },
          "hovermode": "closest",
          "mapbox": {
           "style": "light"
          },
          "paper_bgcolor": "white",
          "plot_bgcolor": "#E5ECF6",
          "polar": {
           "angularaxis": {
            "gridcolor": "white",
            "linecolor": "white",
            "ticks": ""
           },
           "bgcolor": "#E5ECF6",
           "radialaxis": {
            "gridcolor": "white",
            "linecolor": "white",
            "ticks": ""
           }
          },
          "scene": {
           "xaxis": {
            "backgroundcolor": "#E5ECF6",
            "gridcolor": "white",
            "gridwidth": 2,
            "linecolor": "white",
            "showbackground": true,
            "ticks": "",
            "zerolinecolor": "white"
           },
           "yaxis": {
            "backgroundcolor": "#E5ECF6",
            "gridcolor": "white",
            "gridwidth": 2,
            "linecolor": "white",
            "showbackground": true,
            "ticks": "",
            "zerolinecolor": "white"
           },
           "zaxis": {
            "backgroundcolor": "#E5ECF6",
            "gridcolor": "white",
            "gridwidth": 2,
            "linecolor": "white",
            "showbackground": true,
            "ticks": "",
            "zerolinecolor": "white"
           }
          },
          "shapedefaults": {
           "line": {
            "color": "#2a3f5f"
           }
          },
          "ternary": {
           "aaxis": {
            "gridcolor": "white",
            "linecolor": "white",
            "ticks": ""
           },
           "baxis": {
            "gridcolor": "white",
            "linecolor": "white",
            "ticks": ""
           },
           "bgcolor": "#E5ECF6",
           "caxis": {
            "gridcolor": "white",
            "linecolor": "white",
            "ticks": ""
           }
          },
          "title": {
           "x": 0.05
          },
          "xaxis": {
           "automargin": true,
           "gridcolor": "white",
           "linecolor": "white",
           "ticks": "",
           "title": {
            "standoff": 15
           },
           "zerolinecolor": "white",
           "zerolinewidth": 2
          },
          "yaxis": {
           "automargin": true,
           "gridcolor": "white",
           "linecolor": "white",
           "ticks": "",
           "title": {
            "standoff": 15
           },
           "zerolinecolor": "white",
           "zerolinewidth": 2
          }
         }
        }
       }
      }
     },
     "metadata": {},
     "output_type": "display_data"
    }
   ],
   "source": [
    "px.treemap(scoring_df, path=['Team'], values='Tot TD', color='Tot TD', hover_data=['Rec TD', 'Rsh TD'])"
   ]
  },
  {
   "cell_type": "code",
   "execution_count": 36,
   "metadata": {},
   "outputs": [
    {
     "data": {
      "application/vnd.plotly.v1+json": {
       "config": {
        "plotlyServerURL": "https://plot.ly"
       },
       "data": [
        {
         "alignmentgroup": "True",
         "customdata": [
          [
           156
          ],
          [
           145
          ],
          [
           134
          ],
          [
           130
          ],
          [
           127
          ],
          [
           125
          ],
          [
           121
          ],
          [
           119
          ],
          [
           117
          ],
          [
           115
          ],
          [
           112
          ],
          [
           111
          ],
          [
           110
          ],
          [
           107
          ],
          [
           106
          ],
          [
           104
          ],
          [
           103
          ],
          [
           103
          ],
          [
           103
          ],
          [
           103
          ],
          [
           102
          ],
          [
           99
          ],
          [
           98
          ],
          [
           97
          ],
          [
           92
          ],
          [
           92
          ],
          [
           88
          ],
          [
           84
          ],
          [
           81
          ],
          [
           81
          ],
          [
           79
          ],
          [
           45
          ]
         ],
         "hovertemplate": "Team=%{x}<br>Pass Yds=%{y}<br>Att=%{customdata[0]}<br>TD=%{marker.color}<extra></extra>",
         "legendgroup": "",
         "marker": {
          "color": [
           5,
           3,
           9,
           7,
           7,
           6,
           6,
           5,
           3,
           4,
           7,
           6,
           8,
           3,
           2,
           2,
           8,
           2,
           4,
           3,
           4,
           4,
           4,
           2,
           4,
           3,
           10,
           3,
           3,
           2,
           3,
           2
          ],
          "coloraxis": "coloraxis",
          "pattern": {
           "shape": ""
          }
         },
         "name": "",
         "offsetgroup": "",
         "orientation": "v",
         "showlegend": false,
         "textposition": "auto",
         "type": "bar",
         "x": [
          "JetsJets",
          "CardinalsCardinals",
          "BillsBills",
          "CommandersCommanders",
          "ChargersChargers",
          "BengalsBengals",
          "RaidersRaiders",
          "VikingsVikings",
          "ColtsColts",
          "SaintsSaints",
          "LionsLions",
          "JaguarsJaguars",
          "ChiefsChiefs",
          "TexansTexans",
          "BroncosBroncos",
          "CowboysCowboys",
          "DolphinsDolphins",
          "SteelersSteelers",
          "SeahawksSeahawks",
          "BuccaneersBuccaneers",
          "RamsRams",
          "PackersPackers",
          "EaglesEagles",
          "PatriotsPatriots",
          "BrownsBrowns",
          "GiantsGiants",
          "RavensRavens",
          "TitansTitans",
          "PanthersPanthers",
          "49ers49ers",
          "FalconsFalcons",
          "BearsBears"
         ],
         "xaxis": "x",
         "y": [
          918,
          796,
          1014,
          861,
          910,
          812,
          854,
          758,
          769,
          858,
          748,
          772,
          857,
          662,
          743,
          648,
          925,
          569,
          717,
          673,
          761,
          749,
          916,
          786,
          596,
          560,
          749,
          653,
          550,
          559,
          640,
          297
         ],
         "yaxis": "y"
        }
       ],
       "layout": {
        "barmode": "relative",
        "coloraxis": {
         "colorbar": {
          "title": {
           "text": "TD"
          }
         },
         "colorscale": [
          [
           0,
           "#0d0887"
          ],
          [
           0.1111111111111111,
           "#46039f"
          ],
          [
           0.2222222222222222,
           "#7201a8"
          ],
          [
           0.3333333333333333,
           "#9c179e"
          ],
          [
           0.4444444444444444,
           "#bd3786"
          ],
          [
           0.5555555555555556,
           "#d8576b"
          ],
          [
           0.6666666666666666,
           "#ed7953"
          ],
          [
           0.7777777777777778,
           "#fb9f3a"
          ],
          [
           0.8888888888888888,
           "#fdca26"
          ],
          [
           1,
           "#f0f921"
          ]
         ]
        },
        "legend": {
         "tracegroupgap": 0
        },
        "margin": {
         "t": 60
        },
        "template": {
         "data": {
          "bar": [
           {
            "error_x": {
             "color": "#2a3f5f"
            },
            "error_y": {
             "color": "#2a3f5f"
            },
            "marker": {
             "line": {
              "color": "#E5ECF6",
              "width": 0.5
             },
             "pattern": {
              "fillmode": "overlay",
              "size": 10,
              "solidity": 0.2
             }
            },
            "type": "bar"
           }
          ],
          "barpolar": [
           {
            "marker": {
             "line": {
              "color": "#E5ECF6",
              "width": 0.5
             },
             "pattern": {
              "fillmode": "overlay",
              "size": 10,
              "solidity": 0.2
             }
            },
            "type": "barpolar"
           }
          ],
          "carpet": [
           {
            "aaxis": {
             "endlinecolor": "#2a3f5f",
             "gridcolor": "white",
             "linecolor": "white",
             "minorgridcolor": "white",
             "startlinecolor": "#2a3f5f"
            },
            "baxis": {
             "endlinecolor": "#2a3f5f",
             "gridcolor": "white",
             "linecolor": "white",
             "minorgridcolor": "white",
             "startlinecolor": "#2a3f5f"
            },
            "type": "carpet"
           }
          ],
          "choropleth": [
           {
            "colorbar": {
             "outlinewidth": 0,
             "ticks": ""
            },
            "type": "choropleth"
           }
          ],
          "contour": [
           {
            "colorbar": {
             "outlinewidth": 0,
             "ticks": ""
            },
            "colorscale": [
             [
              0,
              "#0d0887"
             ],
             [
              0.1111111111111111,
              "#46039f"
             ],
             [
              0.2222222222222222,
              "#7201a8"
             ],
             [
              0.3333333333333333,
              "#9c179e"
             ],
             [
              0.4444444444444444,
              "#bd3786"
             ],
             [
              0.5555555555555556,
              "#d8576b"
             ],
             [
              0.6666666666666666,
              "#ed7953"
             ],
             [
              0.7777777777777778,
              "#fb9f3a"
             ],
             [
              0.8888888888888888,
              "#fdca26"
             ],
             [
              1,
              "#f0f921"
             ]
            ],
            "type": "contour"
           }
          ],
          "contourcarpet": [
           {
            "colorbar": {
             "outlinewidth": 0,
             "ticks": ""
            },
            "type": "contourcarpet"
           }
          ],
          "heatmap": [
           {
            "colorbar": {
             "outlinewidth": 0,
             "ticks": ""
            },
            "colorscale": [
             [
              0,
              "#0d0887"
             ],
             [
              0.1111111111111111,
              "#46039f"
             ],
             [
              0.2222222222222222,
              "#7201a8"
             ],
             [
              0.3333333333333333,
              "#9c179e"
             ],
             [
              0.4444444444444444,
              "#bd3786"
             ],
             [
              0.5555555555555556,
              "#d8576b"
             ],
             [
              0.6666666666666666,
              "#ed7953"
             ],
             [
              0.7777777777777778,
              "#fb9f3a"
             ],
             [
              0.8888888888888888,
              "#fdca26"
             ],
             [
              1,
              "#f0f921"
             ]
            ],
            "type": "heatmap"
           }
          ],
          "heatmapgl": [
           {
            "colorbar": {
             "outlinewidth": 0,
             "ticks": ""
            },
            "colorscale": [
             [
              0,
              "#0d0887"
             ],
             [
              0.1111111111111111,
              "#46039f"
             ],
             [
              0.2222222222222222,
              "#7201a8"
             ],
             [
              0.3333333333333333,
              "#9c179e"
             ],
             [
              0.4444444444444444,
              "#bd3786"
             ],
             [
              0.5555555555555556,
              "#d8576b"
             ],
             [
              0.6666666666666666,
              "#ed7953"
             ],
             [
              0.7777777777777778,
              "#fb9f3a"
             ],
             [
              0.8888888888888888,
              "#fdca26"
             ],
             [
              1,
              "#f0f921"
             ]
            ],
            "type": "heatmapgl"
           }
          ],
          "histogram": [
           {
            "marker": {
             "pattern": {
              "fillmode": "overlay",
              "size": 10,
              "solidity": 0.2
             }
            },
            "type": "histogram"
           }
          ],
          "histogram2d": [
           {
            "colorbar": {
             "outlinewidth": 0,
             "ticks": ""
            },
            "colorscale": [
             [
              0,
              "#0d0887"
             ],
             [
              0.1111111111111111,
              "#46039f"
             ],
             [
              0.2222222222222222,
              "#7201a8"
             ],
             [
              0.3333333333333333,
              "#9c179e"
             ],
             [
              0.4444444444444444,
              "#bd3786"
             ],
             [
              0.5555555555555556,
              "#d8576b"
             ],
             [
              0.6666666666666666,
              "#ed7953"
             ],
             [
              0.7777777777777778,
              "#fb9f3a"
             ],
             [
              0.8888888888888888,
              "#fdca26"
             ],
             [
              1,
              "#f0f921"
             ]
            ],
            "type": "histogram2d"
           }
          ],
          "histogram2dcontour": [
           {
            "colorbar": {
             "outlinewidth": 0,
             "ticks": ""
            },
            "colorscale": [
             [
              0,
              "#0d0887"
             ],
             [
              0.1111111111111111,
              "#46039f"
             ],
             [
              0.2222222222222222,
              "#7201a8"
             ],
             [
              0.3333333333333333,
              "#9c179e"
             ],
             [
              0.4444444444444444,
              "#bd3786"
             ],
             [
              0.5555555555555556,
              "#d8576b"
             ],
             [
              0.6666666666666666,
              "#ed7953"
             ],
             [
              0.7777777777777778,
              "#fb9f3a"
             ],
             [
              0.8888888888888888,
              "#fdca26"
             ],
             [
              1,
              "#f0f921"
             ]
            ],
            "type": "histogram2dcontour"
           }
          ],
          "mesh3d": [
           {
            "colorbar": {
             "outlinewidth": 0,
             "ticks": ""
            },
            "type": "mesh3d"
           }
          ],
          "parcoords": [
           {
            "line": {
             "colorbar": {
              "outlinewidth": 0,
              "ticks": ""
             }
            },
            "type": "parcoords"
           }
          ],
          "pie": [
           {
            "automargin": true,
            "type": "pie"
           }
          ],
          "scatter": [
           {
            "fillpattern": {
             "fillmode": "overlay",
             "size": 10,
             "solidity": 0.2
            },
            "type": "scatter"
           }
          ],
          "scatter3d": [
           {
            "line": {
             "colorbar": {
              "outlinewidth": 0,
              "ticks": ""
             }
            },
            "marker": {
             "colorbar": {
              "outlinewidth": 0,
              "ticks": ""
             }
            },
            "type": "scatter3d"
           }
          ],
          "scattercarpet": [
           {
            "marker": {
             "colorbar": {
              "outlinewidth": 0,
              "ticks": ""
             }
            },
            "type": "scattercarpet"
           }
          ],
          "scattergeo": [
           {
            "marker": {
             "colorbar": {
              "outlinewidth": 0,
              "ticks": ""
             }
            },
            "type": "scattergeo"
           }
          ],
          "scattergl": [
           {
            "marker": {
             "colorbar": {
              "outlinewidth": 0,
              "ticks": ""
             }
            },
            "type": "scattergl"
           }
          ],
          "scattermapbox": [
           {
            "marker": {
             "colorbar": {
              "outlinewidth": 0,
              "ticks": ""
             }
            },
            "type": "scattermapbox"
           }
          ],
          "scatterpolar": [
           {
            "marker": {
             "colorbar": {
              "outlinewidth": 0,
              "ticks": ""
             }
            },
            "type": "scatterpolar"
           }
          ],
          "scatterpolargl": [
           {
            "marker": {
             "colorbar": {
              "outlinewidth": 0,
              "ticks": ""
             }
            },
            "type": "scatterpolargl"
           }
          ],
          "scatterternary": [
           {
            "marker": {
             "colorbar": {
              "outlinewidth": 0,
              "ticks": ""
             }
            },
            "type": "scatterternary"
           }
          ],
          "surface": [
           {
            "colorbar": {
             "outlinewidth": 0,
             "ticks": ""
            },
            "colorscale": [
             [
              0,
              "#0d0887"
             ],
             [
              0.1111111111111111,
              "#46039f"
             ],
             [
              0.2222222222222222,
              "#7201a8"
             ],
             [
              0.3333333333333333,
              "#9c179e"
             ],
             [
              0.4444444444444444,
              "#bd3786"
             ],
             [
              0.5555555555555556,
              "#d8576b"
             ],
             [
              0.6666666666666666,
              "#ed7953"
             ],
             [
              0.7777777777777778,
              "#fb9f3a"
             ],
             [
              0.8888888888888888,
              "#fdca26"
             ],
             [
              1,
              "#f0f921"
             ]
            ],
            "type": "surface"
           }
          ],
          "table": [
           {
            "cells": {
             "fill": {
              "color": "#EBF0F8"
             },
             "line": {
              "color": "white"
             }
            },
            "header": {
             "fill": {
              "color": "#C8D4E3"
             },
             "line": {
              "color": "white"
             }
            },
            "type": "table"
           }
          ]
         },
         "layout": {
          "annotationdefaults": {
           "arrowcolor": "#2a3f5f",
           "arrowhead": 0,
           "arrowwidth": 1
          },
          "autotypenumbers": "strict",
          "coloraxis": {
           "colorbar": {
            "outlinewidth": 0,
            "ticks": ""
           }
          },
          "colorscale": {
           "diverging": [
            [
             0,
             "#8e0152"
            ],
            [
             0.1,
             "#c51b7d"
            ],
            [
             0.2,
             "#de77ae"
            ],
            [
             0.3,
             "#f1b6da"
            ],
            [
             0.4,
             "#fde0ef"
            ],
            [
             0.5,
             "#f7f7f7"
            ],
            [
             0.6,
             "#e6f5d0"
            ],
            [
             0.7,
             "#b8e186"
            ],
            [
             0.8,
             "#7fbc41"
            ],
            [
             0.9,
             "#4d9221"
            ],
            [
             1,
             "#276419"
            ]
           ],
           "sequential": [
            [
             0,
             "#0d0887"
            ],
            [
             0.1111111111111111,
             "#46039f"
            ],
            [
             0.2222222222222222,
             "#7201a8"
            ],
            [
             0.3333333333333333,
             "#9c179e"
            ],
            [
             0.4444444444444444,
             "#bd3786"
            ],
            [
             0.5555555555555556,
             "#d8576b"
            ],
            [
             0.6666666666666666,
             "#ed7953"
            ],
            [
             0.7777777777777778,
             "#fb9f3a"
            ],
            [
             0.8888888888888888,
             "#fdca26"
            ],
            [
             1,
             "#f0f921"
            ]
           ],
           "sequentialminus": [
            [
             0,
             "#0d0887"
            ],
            [
             0.1111111111111111,
             "#46039f"
            ],
            [
             0.2222222222222222,
             "#7201a8"
            ],
            [
             0.3333333333333333,
             "#9c179e"
            ],
            [
             0.4444444444444444,
             "#bd3786"
            ],
            [
             0.5555555555555556,
             "#d8576b"
            ],
            [
             0.6666666666666666,
             "#ed7953"
            ],
            [
             0.7777777777777778,
             "#fb9f3a"
            ],
            [
             0.8888888888888888,
             "#fdca26"
            ],
            [
             1,
             "#f0f921"
            ]
           ]
          },
          "colorway": [
           "#636efa",
           "#EF553B",
           "#00cc96",
           "#ab63fa",
           "#FFA15A",
           "#19d3f3",
           "#FF6692",
           "#B6E880",
           "#FF97FF",
           "#FECB52"
          ],
          "font": {
           "color": "#2a3f5f"
          },
          "geo": {
           "bgcolor": "white",
           "lakecolor": "white",
           "landcolor": "#E5ECF6",
           "showlakes": true,
           "showland": true,
           "subunitcolor": "white"
          },
          "hoverlabel": {
           "align": "left"
          },
          "hovermode": "closest",
          "mapbox": {
           "style": "light"
          },
          "paper_bgcolor": "white",
          "plot_bgcolor": "#E5ECF6",
          "polar": {
           "angularaxis": {
            "gridcolor": "white",
            "linecolor": "white",
            "ticks": ""
           },
           "bgcolor": "#E5ECF6",
           "radialaxis": {
            "gridcolor": "white",
            "linecolor": "white",
            "ticks": ""
           }
          },
          "scene": {
           "xaxis": {
            "backgroundcolor": "#E5ECF6",
            "gridcolor": "white",
            "gridwidth": 2,
            "linecolor": "white",
            "showbackground": true,
            "ticks": "",
            "zerolinecolor": "white"
           },
           "yaxis": {
            "backgroundcolor": "#E5ECF6",
            "gridcolor": "white",
            "gridwidth": 2,
            "linecolor": "white",
            "showbackground": true,
            "ticks": "",
            "zerolinecolor": "white"
           },
           "zaxis": {
            "backgroundcolor": "#E5ECF6",
            "gridcolor": "white",
            "gridwidth": 2,
            "linecolor": "white",
            "showbackground": true,
            "ticks": "",
            "zerolinecolor": "white"
           }
          },
          "shapedefaults": {
           "line": {
            "color": "#2a3f5f"
           }
          },
          "ternary": {
           "aaxis": {
            "gridcolor": "white",
            "linecolor": "white",
            "ticks": ""
           },
           "baxis": {
            "gridcolor": "white",
            "linecolor": "white",
            "ticks": ""
           },
           "bgcolor": "#E5ECF6",
           "caxis": {
            "gridcolor": "white",
            "linecolor": "white",
            "ticks": ""
           }
          },
          "title": {
           "x": 0.05
          },
          "xaxis": {
           "automargin": true,
           "gridcolor": "white",
           "linecolor": "white",
           "ticks": "",
           "title": {
            "standoff": 15
           },
           "zerolinecolor": "white",
           "zerolinewidth": 2
          },
          "yaxis": {
           "automargin": true,
           "gridcolor": "white",
           "linecolor": "white",
           "ticks": "",
           "title": {
            "standoff": 15
           },
           "zerolinecolor": "white",
           "zerolinewidth": 2
          }
         }
        },
        "xaxis": {
         "anchor": "y",
         "domain": [
          0,
          1
         ],
         "title": {
          "text": "Team"
         }
        },
        "yaxis": {
         "anchor": "x",
         "domain": [
          0,
          1
         ],
         "title": {
          "text": "Pass Yds"
         }
        }
       }
      }
     },
     "metadata": {},
     "output_type": "display_data"
    }
   ],
   "source": [
    "fig = px.bar(passing_df, x='Team', y='Pass Yds', color='TD', hover_data=['Att'])\n",
    "fig.show()"
   ]
  }
 ],
 "metadata": {
  "kernelspec": {
   "display_name": "Python 3.9.1 ('env': venv)",
   "language": "python",
   "name": "python3"
  },
  "language_info": {
   "codemirror_mode": {
    "name": "ipython",
    "version": 3
   },
   "file_extension": ".py",
   "mimetype": "text/x-python",
   "name": "python",
   "nbconvert_exporter": "python",
   "pygments_lexer": "ipython3",
   "version": "3.9.1"
  },
  "orig_nbformat": 4,
  "vscode": {
   "interpreter": {
    "hash": "2b2dda87fb3e44dda843fd80acfd119264123654161c1dafb12f65aaac28dd1c"
   }
  }
 },
 "nbformat": 4,
 "nbformat_minor": 2
}
